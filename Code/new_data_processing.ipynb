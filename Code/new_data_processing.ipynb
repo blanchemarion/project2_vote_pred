{
 "cells": [
  {
   "cell_type": "code",
   "execution_count": 57,
   "id": "45af05eb",
   "metadata": {},
   "outputs": [],
   "source": [
    "import pandas as pd\n",
    "import plotly.express as px\n",
    "import numpy as np"
   ]
  },
  {
   "cell_type": "code",
   "execution_count": 86,
   "id": "c837ff84",
   "metadata": {
    "scrolled": true
   },
   "outputs": [
    {
     "data": {
      "text/html": [
       "<div>\n",
       "<style scoped>\n",
       "    .dataframe tbody tr th:only-of-type {\n",
       "        vertical-align: middle;\n",
       "    }\n",
       "\n",
       "    .dataframe tbody tr th {\n",
       "        vertical-align: top;\n",
       "    }\n",
       "\n",
       "    .dataframe thead th {\n",
       "        text-align: right;\n",
       "    }\n",
       "</style>\n",
       "<table border=\"1\" class=\"dataframe\">\n",
       "  <thead>\n",
       "    <tr style=\"text-align: right;\">\n",
       "      <th></th>\n",
       "      <th>Unnamed: 0</th>\n",
       "      <th>label</th>\n",
       "      <th>affairVoteId</th>\n",
       "      <th>meaningYesText</th>\n",
       "      <th>meaningNoText</th>\n",
       "      <th>numYes</th>\n",
       "      <th>numNo</th>\n",
       "      <th>numAbst</th>\n",
       "      <th>section</th>\n",
       "      <th>art_id</th>\n",
       "      <th>orientation</th>\n",
       "      <th>progvscons</th>\n",
       "    </tr>\n",
       "  </thead>\n",
       "  <tbody>\n",
       "    <tr>\n",
       "      <th>0</th>\n",
       "      <td>580</td>\n",
       "      <td>606, vote 1 : Commission contre A-606.28 CVPO/...</td>\n",
       "      <td>20211207160250</td>\n",
       "      <td>En l’absence d’un congé parental fédéral, l’Ét...</td>\n",
       "      <td>(néant)</td>\n",
       "      <td>68</td>\n",
       "      <td>35</td>\n",
       "      <td>4</td>\n",
       "      <td>1ère lecture - Commission 6</td>\n",
       "      <td>606</td>\n",
       "      <td>-1</td>\n",
       "      <td>-1</td>\n",
       "    </tr>\n",
       "    <tr>\n",
       "      <th>1</th>\n",
       "      <td>593</td>\n",
       "      <td>603, vote 4 : Commission (y.c. V/A 1-3) contre...</td>\n",
       "      <td>20211207144242</td>\n",
       "      <td>Art. 603 Enfance&lt;br/&gt;\\n&lt;ol&gt;&lt;li&gt;L’État et les c...</td>\n",
       "      <td>(néant)</td>\n",
       "      <td>90</td>\n",
       "      <td>14</td>\n",
       "      <td>1</td>\n",
       "      <td>1ère lecture - Commission 6</td>\n",
       "      <td>603</td>\n",
       "      <td>-1</td>\n",
       "      <td>-1</td>\n",
       "    </tr>\n",
       "    <tr>\n",
       "      <th>2</th>\n",
       "      <td>596</td>\n",
       "      <td>602, vote 2 : Commission (y.c. V/A 1) contre A...</td>\n",
       "      <td>20211207143809</td>\n",
       "      <td>L'État et les communes développent une\\npoliti...</td>\n",
       "      <td>(néant)</td>\n",
       "      <td>89</td>\n",
       "      <td>14</td>\n",
       "      <td>2</td>\n",
       "      <td>1ère lecture - Commission 6</td>\n",
       "      <td>602</td>\n",
       "      <td>-1</td>\n",
       "      <td>-1</td>\n",
       "    </tr>\n",
       "    <tr>\n",
       "      <th>3</th>\n",
       "      <td>632</td>\n",
       "      <td>503, vote 2 : Résultat V/A 1 contre A-503.14 U...</td>\n",
       "      <td>20211207092238</td>\n",
       "      <td>L’État prend des mesures propres à lutter cont...</td>\n",
       "      <td>(néant)</td>\n",
       "      <td>92</td>\n",
       "      <td>12</td>\n",
       "      <td>1</td>\n",
       "      <td>1ère lecture - Commission 5</td>\n",
       "      <td>503</td>\n",
       "      <td>-1</td>\n",
       "      <td>-1</td>\n",
       "    </tr>\n",
       "    <tr>\n",
       "      <th>4</th>\n",
       "      <td>648</td>\n",
       "      <td>418/915, vote 13 : Art. 418 commission 4 (y.c....</td>\n",
       "      <td>20211125161611</td>\n",
       "      <td>1 L’État est doté d’une ou plusieurs autorit...</td>\n",
       "      <td>1 &lt;u&gt;Plusieurs&lt;/u&gt; autorités assurent en tout...</td>\n",
       "      <td>64</td>\n",
       "      <td>48</td>\n",
       "      <td>1</td>\n",
       "      <td>1ère lecture - Commission 4</td>\n",
       "      <td>418</td>\n",
       "      <td>0</td>\n",
       "      <td>1</td>\n",
       "    </tr>\n",
       "  </tbody>\n",
       "</table>\n",
       "</div>"
      ],
      "text/plain": [
       "   Unnamed: 0                                              label  \\\n",
       "0         580  606, vote 1 : Commission contre A-606.28 CVPO/...   \n",
       "1         593  603, vote 4 : Commission (y.c. V/A 1-3) contre...   \n",
       "2         596  602, vote 2 : Commission (y.c. V/A 1) contre A...   \n",
       "3         632  503, vote 2 : Résultat V/A 1 contre A-503.14 U...   \n",
       "4         648  418/915, vote 13 : Art. 418 commission 4 (y.c....   \n",
       "\n",
       "     affairVoteId                                     meaningYesText  \\\n",
       "0  20211207160250  En l’absence d’un congé parental fédéral, l’Ét...   \n",
       "1  20211207144242  Art. 603 Enfance<br/>\\n<ol><li>L’État et les c...   \n",
       "2  20211207143809  L'État et les communes développent une\\npoliti...   \n",
       "3  20211207092238  L’État prend des mesures propres à lutter cont...   \n",
       "4  20211125161611  1 L’État est doté d’une ou plusieurs autorit...   \n",
       "\n",
       "                                       meaningNoText  numYes  numNo  numAbst  \\\n",
       "0                                            (néant)      68     35        4   \n",
       "1                                            (néant)      90     14        1   \n",
       "2                                            (néant)      89     14        2   \n",
       "3                                            (néant)      92     12        1   \n",
       "4  1 <u>Plusieurs</u> autorités assurent en tout...      64     48        1   \n",
       "\n",
       "                       section  art_id  orientation  progvscons  \n",
       "0  1ère lecture - Commission 6     606           -1          -1  \n",
       "1  1ère lecture - Commission 6     603           -1          -1  \n",
       "2  1ère lecture - Commission 6     602           -1          -1  \n",
       "3  1ère lecture - Commission 5     503           -1          -1  \n",
       "4  1ère lecture - Commission 4     418            0           1  "
      ]
     },
     "execution_count": 86,
     "metadata": {},
     "output_type": "execute_result"
    }
   ],
   "source": [
    "df = pd.read_csv('../Data/filtered_ds - filtered_ds.csv')\n",
    "df.head()"
   ]
  },
  {
   "cell_type": "code",
   "execution_count": 87,
   "id": "e6c7cb12",
   "metadata": {},
   "outputs": [],
   "source": [
    "def vote_transformation(x):\n",
    "    if x == 'Oui/Ja':\n",
    "        return 1\n",
    "    elif x == 'Non/Nein':\n",
    "        return -1\n",
    "    elif x == 'Abst./Enth.':\n",
    "        return 0\n",
    "    else: \n",
    "        return np.NaN"
   ]
  },
  {
   "cell_type": "code",
   "execution_count": 88,
   "id": "17644bde",
   "metadata": {},
   "outputs": [],
   "source": [
    "def age_transformation(x):\n",
    "    if x <=30: \n",
    "        return '18-30'\n",
    "    elif x>65:\n",
    "        return '30-45'\n",
    "    elif x >30 and x <45:\n",
    "        return '45-65'\n",
    "    else :\n",
    "        return '65+'"
   ]
  },
  {
   "cell_type": "code",
   "execution_count": 89,
   "id": "ee781bc6",
   "metadata": {
    "scrolled": true
   },
   "outputs": [
    {
     "name": "stdout",
     "output_type": "stream",
     "text": [
      "                         name   group  vote Genre    Âge        District  \\\n",
      "0            Matteo ABÄCHERLI    CVPO  -1.0     H  45-65            Visp   \n",
      "1             Claudia ALPIGER  ZUK-VS   1.0     F  45-65            Brig   \n",
      "2              Romano AMACKER    SVPO  -1.0     H  18-30  Westlich Raron   \n",
      "3         Maria ARNOLD-ESCHER    CVPO  -1.0     F    65+            Brig   \n",
      "4                Peter BÄHLER    SVPO  -1.0     H  30-45            Goms   \n",
      "..                        ...     ...   ...   ...    ...             ...   \n",
      "125        Géraldine GIANADDA     VLR   NaN     F    65+        Martigny   \n",
      "126  Géraldine GRANGES-GUENOT     UDC   NaN     F    65+        Martigny   \n",
      "127        Bernard OBERHOLZER      AC   NaN     H  30-45         Monthey   \n",
      "128             Damien RABOUD     UDC   NaN     H  45-65         Monthey   \n",
      "129             Fabien THETAZ     AdG   NaN     H  45-65         Monthey   \n",
      "\n",
      "       affairVoteId  \n",
      "0    20211207160250  \n",
      "1    20211207160250  \n",
      "2    20211207160250  \n",
      "3    20211207160250  \n",
      "4    20211207160250  \n",
      "..              ...  \n",
      "125  20211005113706  \n",
      "126  20211005113706  \n",
      "127  20211005113706  \n",
      "128  20211005113706  \n",
      "129  20211005113706  \n",
      "\n",
      "[5330 rows x 7 columns]\n"
     ]
    }
   ],
   "source": [
    "ids_vote = df['affairVoteId']\n",
    "full_votes = pd.DataFrame()\n",
    "for ids in ids_vote:\n",
    "    temp_df = pd.read_csv(\"../Data/{}.csv\".format(ids))\n",
    "    #for group, vote in orientation_df.enumerate():\n",
    "    \n",
    "    full_votes = pd.concat([full_votes, temp_df])\n",
    "temp_df = full_votes\n",
    "temp_df['vote'] = temp_df['vote'].apply(lambda x: vote_transformation(x))\n",
    "temp_df['Âge'] = temp_df['Âge'].apply(lambda x: age_transformation(x))\n",
    "print(temp_df)"
   ]
  },
  {
   "cell_type": "code",
   "execution_count": 90,
   "id": "fbf09f13",
   "metadata": {},
   "outputs": [
    {
     "data": {
      "text/html": [
       "<div>\n",
       "<style scoped>\n",
       "    .dataframe tbody tr th:only-of-type {\n",
       "        vertical-align: middle;\n",
       "    }\n",
       "\n",
       "    .dataframe tbody tr th {\n",
       "        vertical-align: top;\n",
       "    }\n",
       "\n",
       "    .dataframe thead th {\n",
       "        text-align: right;\n",
       "    }\n",
       "</style>\n",
       "<table border=\"1\" class=\"dataframe\">\n",
       "  <thead>\n",
       "    <tr style=\"text-align: right;\">\n",
       "      <th></th>\n",
       "      <th>name</th>\n",
       "      <th>group</th>\n",
       "      <th>vote</th>\n",
       "      <th>Genre</th>\n",
       "      <th>Âge</th>\n",
       "      <th>District</th>\n",
       "      <th>affairVoteId</th>\n",
       "    </tr>\n",
       "  </thead>\n",
       "  <tbody>\n",
       "    <tr>\n",
       "      <th>0</th>\n",
       "      <td>Matteo ABÄCHERLI</td>\n",
       "      <td>CVPO</td>\n",
       "      <td>-1.0</td>\n",
       "      <td>H</td>\n",
       "      <td>45-65</td>\n",
       "      <td>Visp</td>\n",
       "      <td>20211207160250</td>\n",
       "    </tr>\n",
       "    <tr>\n",
       "      <th>1</th>\n",
       "      <td>Claudia ALPIGER</td>\n",
       "      <td>ZUK-VS</td>\n",
       "      <td>1.0</td>\n",
       "      <td>F</td>\n",
       "      <td>45-65</td>\n",
       "      <td>Brig</td>\n",
       "      <td>20211207160250</td>\n",
       "    </tr>\n",
       "    <tr>\n",
       "      <th>2</th>\n",
       "      <td>Romano AMACKER</td>\n",
       "      <td>SVPO</td>\n",
       "      <td>-1.0</td>\n",
       "      <td>H</td>\n",
       "      <td>18-30</td>\n",
       "      <td>Westlich Raron</td>\n",
       "      <td>20211207160250</td>\n",
       "    </tr>\n",
       "    <tr>\n",
       "      <th>3</th>\n",
       "      <td>Maria ARNOLD-ESCHER</td>\n",
       "      <td>CVPO</td>\n",
       "      <td>-1.0</td>\n",
       "      <td>F</td>\n",
       "      <td>65+</td>\n",
       "      <td>Brig</td>\n",
       "      <td>20211207160250</td>\n",
       "    </tr>\n",
       "    <tr>\n",
       "      <th>4</th>\n",
       "      <td>Peter BÄHLER</td>\n",
       "      <td>SVPO</td>\n",
       "      <td>-1.0</td>\n",
       "      <td>H</td>\n",
       "      <td>30-45</td>\n",
       "      <td>Goms</td>\n",
       "      <td>20211207160250</td>\n",
       "    </tr>\n",
       "  </tbody>\n",
       "</table>\n",
       "</div>"
      ],
      "text/plain": [
       "                  name   group  vote Genre    Âge        District  \\\n",
       "0     Matteo ABÄCHERLI    CVPO  -1.0     H  45-65            Visp   \n",
       "1      Claudia ALPIGER  ZUK-VS   1.0     F  45-65            Brig   \n",
       "2       Romano AMACKER    SVPO  -1.0     H  18-30  Westlich Raron   \n",
       "3  Maria ARNOLD-ESCHER    CVPO  -1.0     F    65+            Brig   \n",
       "4         Peter BÄHLER    SVPO  -1.0     H  30-45            Goms   \n",
       "\n",
       "     affairVoteId  \n",
       "0  20211207160250  \n",
       "1  20211207160250  \n",
       "2  20211207160250  \n",
       "3  20211207160250  \n",
       "4  20211207160250  "
      ]
     },
     "execution_count": 90,
     "metadata": {},
     "output_type": "execute_result"
    }
   ],
   "source": [
    "#full_votes = pd.get_dummies(data=full_votes, columns=['Genre', 'District'])\n",
    "full_votes.head()"
   ]
  },
  {
   "cell_type": "code",
   "execution_count": 91,
   "id": "009c293a",
   "metadata": {},
   "outputs": [],
   "source": [
    "df['art_id'] = df['art_id'].apply(lambda x: int(x))\n",
    "df.rename(columns={\"art_id\": \"artId\"}, inplace=True)"
   ]
  },
  {
   "cell_type": "code",
   "execution_count": 92,
   "id": "a95c2807",
   "metadata": {
    "scrolled": true
   },
   "outputs": [
    {
     "data": {
      "text/html": [
       "<div>\n",
       "<style scoped>\n",
       "    .dataframe tbody tr th:only-of-type {\n",
       "        vertical-align: middle;\n",
       "    }\n",
       "\n",
       "    .dataframe tbody tr th {\n",
       "        vertical-align: top;\n",
       "    }\n",
       "\n",
       "    .dataframe thead th {\n",
       "        text-align: right;\n",
       "    }\n",
       "</style>\n",
       "<table border=\"1\" class=\"dataframe\">\n",
       "  <thead>\n",
       "    <tr style=\"text-align: right;\">\n",
       "      <th></th>\n",
       "      <th>Unnamed: 0</th>\n",
       "      <th>label</th>\n",
       "      <th>affairVoteId</th>\n",
       "      <th>meaningYesText</th>\n",
       "      <th>meaningNoText</th>\n",
       "      <th>numYes</th>\n",
       "      <th>numNo</th>\n",
       "      <th>numAbst</th>\n",
       "      <th>section</th>\n",
       "      <th>artId</th>\n",
       "      <th>orientation</th>\n",
       "      <th>progvscons</th>\n",
       "      <th>name</th>\n",
       "      <th>group</th>\n",
       "      <th>vote</th>\n",
       "      <th>Genre</th>\n",
       "      <th>Âge</th>\n",
       "      <th>District</th>\n",
       "    </tr>\n",
       "  </thead>\n",
       "  <tbody>\n",
       "    <tr>\n",
       "      <th>0</th>\n",
       "      <td>580</td>\n",
       "      <td>606, vote 1 : Commission contre A-606.28 CVPO/...</td>\n",
       "      <td>20211207160250</td>\n",
       "      <td>En l’absence d’un congé parental fédéral, l’Ét...</td>\n",
       "      <td>(néant)</td>\n",
       "      <td>68</td>\n",
       "      <td>35</td>\n",
       "      <td>4</td>\n",
       "      <td>1ère lecture - Commission 6</td>\n",
       "      <td>606</td>\n",
       "      <td>-1</td>\n",
       "      <td>-1</td>\n",
       "      <td>Matteo ABÄCHERLI</td>\n",
       "      <td>CVPO</td>\n",
       "      <td>-1.0</td>\n",
       "      <td>H</td>\n",
       "      <td>45-65</td>\n",
       "      <td>Visp</td>\n",
       "    </tr>\n",
       "    <tr>\n",
       "      <th>1</th>\n",
       "      <td>580</td>\n",
       "      <td>606, vote 1 : Commission contre A-606.28 CVPO/...</td>\n",
       "      <td>20211207160250</td>\n",
       "      <td>En l’absence d’un congé parental fédéral, l’Ét...</td>\n",
       "      <td>(néant)</td>\n",
       "      <td>68</td>\n",
       "      <td>35</td>\n",
       "      <td>4</td>\n",
       "      <td>1ère lecture - Commission 6</td>\n",
       "      <td>606</td>\n",
       "      <td>-1</td>\n",
       "      <td>-1</td>\n",
       "      <td>Claudia ALPIGER</td>\n",
       "      <td>ZUK-VS</td>\n",
       "      <td>1.0</td>\n",
       "      <td>F</td>\n",
       "      <td>45-65</td>\n",
       "      <td>Brig</td>\n",
       "    </tr>\n",
       "    <tr>\n",
       "      <th>2</th>\n",
       "      <td>580</td>\n",
       "      <td>606, vote 1 : Commission contre A-606.28 CVPO/...</td>\n",
       "      <td>20211207160250</td>\n",
       "      <td>En l’absence d’un congé parental fédéral, l’Ét...</td>\n",
       "      <td>(néant)</td>\n",
       "      <td>68</td>\n",
       "      <td>35</td>\n",
       "      <td>4</td>\n",
       "      <td>1ère lecture - Commission 6</td>\n",
       "      <td>606</td>\n",
       "      <td>-1</td>\n",
       "      <td>-1</td>\n",
       "      <td>Romano AMACKER</td>\n",
       "      <td>SVPO</td>\n",
       "      <td>-1.0</td>\n",
       "      <td>H</td>\n",
       "      <td>18-30</td>\n",
       "      <td>Westlich Raron</td>\n",
       "    </tr>\n",
       "    <tr>\n",
       "      <th>3</th>\n",
       "      <td>580</td>\n",
       "      <td>606, vote 1 : Commission contre A-606.28 CVPO/...</td>\n",
       "      <td>20211207160250</td>\n",
       "      <td>En l’absence d’un congé parental fédéral, l’Ét...</td>\n",
       "      <td>(néant)</td>\n",
       "      <td>68</td>\n",
       "      <td>35</td>\n",
       "      <td>4</td>\n",
       "      <td>1ère lecture - Commission 6</td>\n",
       "      <td>606</td>\n",
       "      <td>-1</td>\n",
       "      <td>-1</td>\n",
       "      <td>Maria ARNOLD-ESCHER</td>\n",
       "      <td>CVPO</td>\n",
       "      <td>-1.0</td>\n",
       "      <td>F</td>\n",
       "      <td>65+</td>\n",
       "      <td>Brig</td>\n",
       "    </tr>\n",
       "    <tr>\n",
       "      <th>4</th>\n",
       "      <td>580</td>\n",
       "      <td>606, vote 1 : Commission contre A-606.28 CVPO/...</td>\n",
       "      <td>20211207160250</td>\n",
       "      <td>En l’absence d’un congé parental fédéral, l’Ét...</td>\n",
       "      <td>(néant)</td>\n",
       "      <td>68</td>\n",
       "      <td>35</td>\n",
       "      <td>4</td>\n",
       "      <td>1ère lecture - Commission 6</td>\n",
       "      <td>606</td>\n",
       "      <td>-1</td>\n",
       "      <td>-1</td>\n",
       "      <td>Peter BÄHLER</td>\n",
       "      <td>SVPO</td>\n",
       "      <td>-1.0</td>\n",
       "      <td>H</td>\n",
       "      <td>30-45</td>\n",
       "      <td>Goms</td>\n",
       "    </tr>\n",
       "  </tbody>\n",
       "</table>\n",
       "</div>"
      ],
      "text/plain": [
       "   Unnamed: 0                                              label  \\\n",
       "0         580  606, vote 1 : Commission contre A-606.28 CVPO/...   \n",
       "1         580  606, vote 1 : Commission contre A-606.28 CVPO/...   \n",
       "2         580  606, vote 1 : Commission contre A-606.28 CVPO/...   \n",
       "3         580  606, vote 1 : Commission contre A-606.28 CVPO/...   \n",
       "4         580  606, vote 1 : Commission contre A-606.28 CVPO/...   \n",
       "\n",
       "     affairVoteId                                     meaningYesText  \\\n",
       "0  20211207160250  En l’absence d’un congé parental fédéral, l’Ét...   \n",
       "1  20211207160250  En l’absence d’un congé parental fédéral, l’Ét...   \n",
       "2  20211207160250  En l’absence d’un congé parental fédéral, l’Ét...   \n",
       "3  20211207160250  En l’absence d’un congé parental fédéral, l’Ét...   \n",
       "4  20211207160250  En l’absence d’un congé parental fédéral, l’Ét...   \n",
       "\n",
       "  meaningNoText  numYes  numNo  numAbst                      section  artId  \\\n",
       "0       (néant)      68     35        4  1ère lecture - Commission 6    606   \n",
       "1       (néant)      68     35        4  1ère lecture - Commission 6    606   \n",
       "2       (néant)      68     35        4  1ère lecture - Commission 6    606   \n",
       "3       (néant)      68     35        4  1ère lecture - Commission 6    606   \n",
       "4       (néant)      68     35        4  1ère lecture - Commission 6    606   \n",
       "\n",
       "   orientation  progvscons                 name   group  vote Genre    Âge  \\\n",
       "0           -1          -1     Matteo ABÄCHERLI    CVPO  -1.0     H  45-65   \n",
       "1           -1          -1      Claudia ALPIGER  ZUK-VS   1.0     F  45-65   \n",
       "2           -1          -1       Romano AMACKER    SVPO  -1.0     H  18-30   \n",
       "3           -1          -1  Maria ARNOLD-ESCHER    CVPO  -1.0     F    65+   \n",
       "4           -1          -1         Peter BÄHLER    SVPO  -1.0     H  30-45   \n",
       "\n",
       "         District  \n",
       "0            Visp  \n",
       "1            Brig  \n",
       "2  Westlich Raron  \n",
       "3            Brig  \n",
       "4            Goms  "
      ]
     },
     "execution_count": 92,
     "metadata": {},
     "output_type": "execute_result"
    }
   ],
   "source": [
    "final_df = pd.merge(df, full_votes, on='affairVoteId')\n",
    "final_df.head()"
   ]
  },
  {
   "cell_type": "code",
   "execution_count": null,
   "id": "273f0953",
   "metadata": {},
   "outputs": [],
   "source": []
  },
  {
   "cell_type": "code",
   "execution_count": 93,
   "id": "24ec5294",
   "metadata": {},
   "outputs": [
    {
     "name": "stderr",
     "output_type": "stream",
     "text": [
      "/tmp/ipykernel_14729/455068669.py:2: SettingWithCopyWarning:\n",
      "\n",
      "\n",
      "A value is trying to be set on a copy of a slice from a DataFrame.\n",
      "Try using .loc[row_indexer,col_indexer] = value instead\n",
      "\n",
      "See the caveats in the documentation: https://pandas.pydata.org/pandas-docs/stable/user_guide/indexing.html#returning-a-view-versus-a-copy\n",
      "\n",
      "/tmp/ipykernel_14729/455068669.py:3: SettingWithCopyWarning:\n",
      "\n",
      "\n",
      "A value is trying to be set on a copy of a slice from a DataFrame.\n",
      "Try using .loc[row_indexer,col_indexer] = value instead\n",
      "\n",
      "See the caveats in the documentation: https://pandas.pydata.org/pandas-docs/stable/user_guide/indexing.html#returning-a-view-versus-a-copy\n",
      "\n",
      "/tmp/ipykernel_14729/455068669.py:7: SettingWithCopyWarning:\n",
      "\n",
      "\n",
      "A value is trying to be set on a copy of a slice from a DataFrame.\n",
      "Try using .loc[row_indexer,col_indexer] = value instead\n",
      "\n",
      "See the caveats in the documentation: https://pandas.pydata.org/pandas-docs/stable/user_guide/indexing.html#returning-a-view-versus-a-copy\n",
      "\n",
      "/tmp/ipykernel_14729/455068669.py:8: SettingWithCopyWarning:\n",
      "\n",
      "\n",
      "A value is trying to be set on a copy of a slice from a DataFrame.\n",
      "Try using .loc[row_indexer,col_indexer] = value instead\n",
      "\n",
      "See the caveats in the documentation: https://pandas.pydata.org/pandas-docs/stable/user_guide/indexing.html#returning-a-view-versus-a-copy\n",
      "\n"
     ]
    },
    {
     "data": {
      "text/html": [
       "<div>\n",
       "<style scoped>\n",
       "    .dataframe tbody tr th:only-of-type {\n",
       "        vertical-align: middle;\n",
       "    }\n",
       "\n",
       "    .dataframe tbody tr th {\n",
       "        vertical-align: top;\n",
       "    }\n",
       "\n",
       "    .dataframe thead th {\n",
       "        text-align: right;\n",
       "    }\n",
       "</style>\n",
       "<table border=\"1\" class=\"dataframe\">\n",
       "  <thead>\n",
       "    <tr style=\"text-align: right;\">\n",
       "      <th></th>\n",
       "      <th></th>\n",
       "      <th></th>\n",
       "      <th>vote</th>\n",
       "      <th>orientation</th>\n",
       "      <th>progvscons</th>\n",
       "    </tr>\n",
       "    <tr>\n",
       "      <th>name</th>\n",
       "      <th>group</th>\n",
       "      <th>Âge</th>\n",
       "      <th></th>\n",
       "      <th></th>\n",
       "      <th></th>\n",
       "    </tr>\n",
       "  </thead>\n",
       "  <tbody>\n",
       "    <tr>\n",
       "      <th>Adeline CRETTENAND</th>\n",
       "      <th>VLR</th>\n",
       "      <th>18-30</th>\n",
       "      <td>0.000000</td>\n",
       "      <td>0.333333</td>\n",
       "      <td>0.200000</td>\n",
       "    </tr>\n",
       "    <tr>\n",
       "      <th>Alain DUBOSSON</th>\n",
       "      <th>UDC</th>\n",
       "      <th>18-30</th>\n",
       "      <td>-0.380952</td>\n",
       "      <td>0.769231</td>\n",
       "      <td>0.761905</td>\n",
       "    </tr>\n",
       "    <tr>\n",
       "      <th>Alain LÉGER</th>\n",
       "      <th>PDC</th>\n",
       "      <th>45-65</th>\n",
       "      <td>0.375000</td>\n",
       "      <td>0.150000</td>\n",
       "      <td>0.054054</td>\n",
       "    </tr>\n",
       "    <tr>\n",
       "      <th>Alain SCHÖNBETT</th>\n",
       "      <th>VLR</th>\n",
       "      <th>30-45</th>\n",
       "      <td>0.459459</td>\n",
       "      <td>-0.333333</td>\n",
       "      <td>-0.470588</td>\n",
       "    </tr>\n",
       "    <tr>\n",
       "      <th>Alex BONVIN</th>\n",
       "      <th>UDC</th>\n",
       "      <th>65+</th>\n",
       "      <td>-0.351351</td>\n",
       "      <td>0.700000</td>\n",
       "      <td>0.647059</td>\n",
       "    </tr>\n",
       "    <tr>\n",
       "      <th>Alina DARBELLAY</th>\n",
       "      <th>LES VERTS</th>\n",
       "      <th>65+</th>\n",
       "      <td>0.125000</td>\n",
       "      <td>-0.846154</td>\n",
       "      <td>-0.782609</td>\n",
       "    </tr>\n",
       "    <tr>\n",
       "      <th>Arnaud DUBOIS</th>\n",
       "      <th>VLR</th>\n",
       "      <th>45-65</th>\n",
       "      <td>0.390244</td>\n",
       "      <td>-0.571429</td>\n",
       "      <td>-0.763158</td>\n",
       "    </tr>\n",
       "    <tr>\n",
       "      <th>Bernard OBERHOLZER</th>\n",
       "      <th>AC</th>\n",
       "      <th>30-45</th>\n",
       "      <td>0.230769</td>\n",
       "      <td>-1.000000</td>\n",
       "      <td>-0.636364</td>\n",
       "    </tr>\n",
       "    <tr>\n",
       "      <th>Bernard TROILLET</th>\n",
       "      <th>PDC</th>\n",
       "      <th>30-45</th>\n",
       "      <td>0.560976</td>\n",
       "      <td>-0.142857</td>\n",
       "      <td>-0.263158</td>\n",
       "    </tr>\n",
       "    <tr>\n",
       "      <th>Blaise CRETTOL</th>\n",
       "      <th>AC</th>\n",
       "      <th>65+</th>\n",
       "      <td>0.210526</td>\n",
       "      <td>-0.809524</td>\n",
       "      <td>-0.833333</td>\n",
       "    </tr>\n",
       "    <tr>\n",
       "      <th>Caroline REYNARD</th>\n",
       "      <th>AdG</th>\n",
       "      <th>18-30</th>\n",
       "      <td>0.170732</td>\n",
       "      <td>-0.761905</td>\n",
       "      <td>-0.789474</td>\n",
       "    </tr>\n",
       "    <tr>\n",
       "      <th>Chantal CARLEN</th>\n",
       "      <th>CVPO</th>\n",
       "      <th>18-30</th>\n",
       "      <td>0.111111</td>\n",
       "      <td>0.600000</td>\n",
       "      <td>0.555556</td>\n",
       "    </tr>\n",
       "    <tr>\n",
       "      <th>Christelle HERITIER</th>\n",
       "      <th>VLR</th>\n",
       "      <th>45-65</th>\n",
       "      <td>0.320000</td>\n",
       "      <td>-0.692308</td>\n",
       "      <td>-0.695652</td>\n",
       "    </tr>\n",
       "    <tr>\n",
       "      <th>Christian ESCHER</th>\n",
       "      <th>CSPO</th>\n",
       "      <th>45-65</th>\n",
       "      <td>0.432432</td>\n",
       "      <td>-0.052632</td>\n",
       "      <td>-0.171429</td>\n",
       "    </tr>\n",
       "    <tr>\n",
       "      <th>Christine ROUX</th>\n",
       "      <th>PDC</th>\n",
       "      <th>65+</th>\n",
       "      <td>0.156250</td>\n",
       "      <td>0.400000</td>\n",
       "      <td>0.344828</td>\n",
       "    </tr>\n",
       "  </tbody>\n",
       "</table>\n",
       "</div>"
      ],
      "text/plain": [
       "                                         vote  orientation  progvscons\n",
       "name                group     Âge                                     \n",
       "Adeline CRETTENAND  VLR       18-30  0.000000     0.333333    0.200000\n",
       "Alain DUBOSSON      UDC       18-30 -0.380952     0.769231    0.761905\n",
       "Alain LÉGER         PDC       45-65  0.375000     0.150000    0.054054\n",
       "Alain SCHÖNBETT     VLR       30-45  0.459459    -0.333333   -0.470588\n",
       "Alex BONVIN         UDC       65+   -0.351351     0.700000    0.647059\n",
       "Alina DARBELLAY     LES VERTS 65+    0.125000    -0.846154   -0.782609\n",
       "Arnaud DUBOIS       VLR       45-65  0.390244    -0.571429   -0.763158\n",
       "Bernard OBERHOLZER  AC        30-45  0.230769    -1.000000   -0.636364\n",
       "Bernard TROILLET    PDC       30-45  0.560976    -0.142857   -0.263158\n",
       "Blaise CRETTOL      AC        65+    0.210526    -0.809524   -0.833333\n",
       "Caroline REYNARD    AdG       18-30  0.170732    -0.761905   -0.789474\n",
       "Chantal CARLEN      CVPO      18-30  0.111111     0.600000    0.555556\n",
       "Christelle HERITIER VLR       45-65  0.320000    -0.692308   -0.695652\n",
       "Christian ESCHER    CSPO      45-65  0.432432    -0.052632   -0.171429\n",
       "Christine ROUX      PDC       65+    0.156250     0.400000    0.344828"
      ]
     },
     "execution_count": 93,
     "metadata": {},
     "output_type": "execute_result"
    }
   ],
   "source": [
    "counts_df = final_df[['name', 'group', 'Genre', 'vote', 'Âge', 'orientation', 'progvscons']]\n",
    "counts_df['orientation'] = counts_df['orientation'].replace(0, np.NaN)\n",
    "counts_df['progvscons'] = counts_df['progvscons'].replace(0, np.NaN)\n",
    "#Si l'article est neutre, alors il n'influence pas ma position. \n",
    "# Cependant, si moi je vote abst pour un article, alors ca influe ma position\n",
    "#Les votes aucun sont pas pris en compte\n",
    "counts_df['orientation'] = counts_df['vote'] * counts_df['orientation']\n",
    "counts_df['progvscons'] = counts_df['vote'] * counts_df['progvscons']\n",
    "counts_df = counts_df.groupby(['name', 'group', 'Âge']).mean()\n",
    "counts_df.head(15)"
   ]
  },
  {
   "cell_type": "code",
   "execution_count": 94,
   "id": "a256caad",
   "metadata": {},
   "outputs": [],
   "source": [
    "final_df.to_csv(\"../Data/check_votes_dep.csv\")"
   ]
  },
  {
   "cell_type": "code",
   "execution_count": 95,
   "id": "59c71069",
   "metadata": {
    "scrolled": true
   },
   "outputs": [
    {
     "data": {
      "text/html": [
       "<div>\n",
       "<style scoped>\n",
       "    .dataframe tbody tr th:only-of-type {\n",
       "        vertical-align: middle;\n",
       "    }\n",
       "\n",
       "    .dataframe tbody tr th {\n",
       "        vertical-align: top;\n",
       "    }\n",
       "\n",
       "    .dataframe thead th {\n",
       "        text-align: right;\n",
       "    }\n",
       "</style>\n",
       "<table border=\"1\" class=\"dataframe\">\n",
       "  <thead>\n",
       "    <tr style=\"text-align: right;\">\n",
       "      <th></th>\n",
       "      <th>name</th>\n",
       "      <th>group</th>\n",
       "      <th>Âge</th>\n",
       "      <th>vote</th>\n",
       "      <th>orientation</th>\n",
       "      <th>progvscons</th>\n",
       "    </tr>\n",
       "  </thead>\n",
       "  <tbody>\n",
       "    <tr>\n",
       "      <th>0</th>\n",
       "      <td>Adeline CRETTENAND</td>\n",
       "      <td>VLR</td>\n",
       "      <td>18-30</td>\n",
       "      <td>0.000000</td>\n",
       "      <td>0.333333</td>\n",
       "      <td>0.200000</td>\n",
       "    </tr>\n",
       "    <tr>\n",
       "      <th>1</th>\n",
       "      <td>Alain DUBOSSON</td>\n",
       "      <td>UDC</td>\n",
       "      <td>18-30</td>\n",
       "      <td>-0.380952</td>\n",
       "      <td>0.769231</td>\n",
       "      <td>0.761905</td>\n",
       "    </tr>\n",
       "    <tr>\n",
       "      <th>2</th>\n",
       "      <td>Alain LÉGER</td>\n",
       "      <td>PDC</td>\n",
       "      <td>45-65</td>\n",
       "      <td>0.375000</td>\n",
       "      <td>0.150000</td>\n",
       "      <td>0.054054</td>\n",
       "    </tr>\n",
       "    <tr>\n",
       "      <th>3</th>\n",
       "      <td>Alain SCHÖNBETT</td>\n",
       "      <td>VLR</td>\n",
       "      <td>30-45</td>\n",
       "      <td>0.459459</td>\n",
       "      <td>-0.333333</td>\n",
       "      <td>-0.470588</td>\n",
       "    </tr>\n",
       "    <tr>\n",
       "      <th>4</th>\n",
       "      <td>Alex BONVIN</td>\n",
       "      <td>UDC</td>\n",
       "      <td>65+</td>\n",
       "      <td>-0.351351</td>\n",
       "      <td>0.700000</td>\n",
       "      <td>0.647059</td>\n",
       "    </tr>\n",
       "  </tbody>\n",
       "</table>\n",
       "</div>"
      ],
      "text/plain": [
       "                 name group    Âge      vote  orientation  progvscons\n",
       "0  Adeline CRETTENAND   VLR  18-30  0.000000     0.333333    0.200000\n",
       "1      Alain DUBOSSON   UDC  18-30 -0.380952     0.769231    0.761905\n",
       "2         Alain LÉGER   PDC  45-65  0.375000     0.150000    0.054054\n",
       "3     Alain SCHÖNBETT   VLR  30-45  0.459459    -0.333333   -0.470588\n",
       "4         Alex BONVIN   UDC    65+ -0.351351     0.700000    0.647059"
      ]
     },
     "execution_count": 95,
     "metadata": {},
     "output_type": "execute_result"
    }
   ],
   "source": [
    "counts_df = counts_df.reset_index()\n",
    "counts_df.head()"
   ]
  },
  {
   "cell_type": "code",
   "execution_count": 96,
   "id": "7f70c3b2",
   "metadata": {},
   "outputs": [
    {
     "data": {
      "text/html": [
       "<div>\n",
       "<style scoped>\n",
       "    .dataframe tbody tr th:only-of-type {\n",
       "        vertical-align: middle;\n",
       "    }\n",
       "\n",
       "    .dataframe tbody tr th {\n",
       "        vertical-align: top;\n",
       "    }\n",
       "\n",
       "    .dataframe thead th {\n",
       "        text-align: right;\n",
       "    }\n",
       "</style>\n",
       "<table border=\"1\" class=\"dataframe\">\n",
       "  <thead>\n",
       "    <tr style=\"text-align: right;\">\n",
       "      <th></th>\n",
       "      <th>name</th>\n",
       "      <th>group</th>\n",
       "      <th>Âge</th>\n",
       "      <th>vote</th>\n",
       "      <th>orientation</th>\n",
       "      <th>progvscons</th>\n",
       "    </tr>\n",
       "  </thead>\n",
       "  <tbody>\n",
       "    <tr>\n",
       "      <th>0</th>\n",
       "      <td>Adeline CRETTENAND</td>\n",
       "      <td>VLR</td>\n",
       "      <td>18-30</td>\n",
       "      <td>0.000000</td>\n",
       "      <td>0.333333</td>\n",
       "      <td>0.200000</td>\n",
       "    </tr>\n",
       "    <tr>\n",
       "      <th>1</th>\n",
       "      <td>Alain DUBOSSON</td>\n",
       "      <td>UDC</td>\n",
       "      <td>18-30</td>\n",
       "      <td>-0.380952</td>\n",
       "      <td>0.769231</td>\n",
       "      <td>0.761905</td>\n",
       "    </tr>\n",
       "    <tr>\n",
       "      <th>2</th>\n",
       "      <td>Alain LÉGER</td>\n",
       "      <td>PDC</td>\n",
       "      <td>45-65</td>\n",
       "      <td>0.375000</td>\n",
       "      <td>0.150000</td>\n",
       "      <td>0.054054</td>\n",
       "    </tr>\n",
       "    <tr>\n",
       "      <th>3</th>\n",
       "      <td>Alain SCHÖNBETT</td>\n",
       "      <td>VLR</td>\n",
       "      <td>30-45</td>\n",
       "      <td>0.459459</td>\n",
       "      <td>-0.333333</td>\n",
       "      <td>-0.470588</td>\n",
       "    </tr>\n",
       "    <tr>\n",
       "      <th>4</th>\n",
       "      <td>Alex BONVIN</td>\n",
       "      <td>UDC</td>\n",
       "      <td>65+</td>\n",
       "      <td>-0.351351</td>\n",
       "      <td>0.700000</td>\n",
       "      <td>0.647059</td>\n",
       "    </tr>\n",
       "  </tbody>\n",
       "</table>\n",
       "</div>"
      ],
      "text/plain": [
       "                 name group    Âge      vote  orientation  progvscons\n",
       "0  Adeline CRETTENAND   VLR  18-30  0.000000     0.333333    0.200000\n",
       "1      Alain DUBOSSON   UDC  18-30 -0.380952     0.769231    0.761905\n",
       "2         Alain LÉGER   PDC  45-65  0.375000     0.150000    0.054054\n",
       "3     Alain SCHÖNBETT   VLR  30-45  0.459459    -0.333333   -0.470588\n",
       "4         Alex BONVIN   UDC    65+ -0.351351     0.700000    0.647059"
      ]
     },
     "execution_count": 96,
     "metadata": {},
     "output_type": "execute_result"
    }
   ],
   "source": [
    "counts_df.head()"
   ]
  },
  {
   "cell_type": "code",
   "execution_count": 40,
   "id": "d819b5ab",
   "metadata": {},
   "outputs": [
    {
     "data": {
      "application/vnd.plotly.v1+json": {
       "config": {
        "plotlyServerURL": "https://plot.ly"
       },
       "data": [
        {
         "hovertemplate": "<b>%{hovertext}</b><br><br>group=VLR<br>orientation=%{x}<br>progvscons=%{y}<extra></extra>",
         "hovertext": [
          "Adeline CRETTENAND",
          "Alain SCHÖNBETT",
          "Arnaud DUBOIS",
          "Christelle HERITIER",
          "Claude NANÇOZ",
          "Côme VUILLE",
          "François GENOUD",
          "Géraldine GIANADDA",
          "Jean-Pierre REY",
          "Mathieu CALOZ",
          "Mathieu SARRASIN",
          "Mélanie FOLLONIER",
          "Narcisse CRETTENAND",
          "Natascha FARQUET",
          "Nicolas CHABLAIS",
          "Philippe BENDER",
          "Pierre-Alain RAEMY",
          "Raymonde SCHOCH",
          "Romain UDRY",
          "Ruth STALDER",
          "Stéphane CLAVIEN"
         ],
         "legendgroup": "VLR",
         "marker": {
          "color": "#636efa",
          "symbol": "circle"
         },
         "mode": "markers",
         "name": "VLR",
         "orientation": "v",
         "showlegend": true,
         "type": "scatter",
         "x": [
          0.3333333333333333,
          -0.3333333333333333,
          -0.5714285714285714,
          -0.6923076923076923,
          0.125,
          -0.3333333333333333,
          -0.23809523809523808,
          -0.8125,
          -0.3333333333333333,
          -0.09523809523809523,
          0,
          0.125,
          0.3333333333333333,
          -0.5263157894736842,
          0,
          0.09523809523809523,
          -0.5238095238095238,
          -0.6666666666666666,
          0.26666666666666666,
          -0.23809523809523808,
          -0.42857142857142855
         ],
         "xaxis": "x",
         "y": [
          0.2,
          -0.47058823529411764,
          -0.7631578947368421,
          -0.6956521739130435,
          -0.13333333333333333,
          -0.3684210526315789,
          -0.40540540540540543,
          -0.7407407407407407,
          -0.42105263157894735,
          -0.3684210526315789,
          -0.0967741935483871,
          -0.25,
          0.10526315789473684,
          -0.6388888888888888,
          0.3333333333333333,
          0.10526315789473684,
          -0.6842105263157895,
          -0.5789473684210527,
          0.03571428571428571,
          -0.21052631578947367,
          -0.6756756756756757
         ],
         "yaxis": "y"
        },
        {
         "hovertemplate": "<b>%{hovertext}</b><br><br>group=UDC<br>orientation=%{x}<br>progvscons=%{y}<extra></extra>",
         "hovertext": [
          "Alain DUBOSSON",
          "Alex BONVIN",
          "Claudy BESSE",
          "Damien FUMEAUX",
          "Damien RABOUD",
          "Edmond PERRUCHOUD",
          "François QUENNOZ",
          "Gabrielle BARRAS",
          "Géraldine GRANGES GUENOT",
          "Géraldine GRANGES-GUENOT",
          "Jean-Baptiste UDRESSY",
          "Jean-Dominique CIPOLLA",
          "Jérôme FORMAZ",
          "Marc-Antoine GENOLET",
          "Vincent BOAND"
         ],
         "legendgroup": "UDC",
         "marker": {
          "color": "#EF553B",
          "symbol": "circle"
         },
         "mode": "markers",
         "name": "UDC",
         "orientation": "v",
         "showlegend": true,
         "type": "scatter",
         "x": [
          0.7692307692307693,
          0.7,
          0.47058823529411764,
          0.6666666666666666,
          0.5294117647058824,
          0.7692307692307693,
          0.42105263157894735,
          0.5,
          -1,
          0.5,
          0.7647058823529411,
          0.6666666666666666,
          0.6842105263157895,
          0.7142857142857143,
          0.5789473684210527
         ],
         "xaxis": "x",
         "y": [
          0.7619047619047619,
          0.6470588235294118,
          0.45161290322580644,
          0.631578947368421,
          0.5588235294117647,
          0.7586206896551724,
          0.4444444444444444,
          0.4838709677419355,
          -1,
          0.5416666666666666,
          0.6470588235294118,
          0.5526315789473685,
          0.5428571428571428,
          0.7105263157894737,
          0.45454545454545453
         ],
         "yaxis": "y"
        },
        {
         "hovertemplate": "<b>%{hovertext}</b><br><br>group=PDC<br>orientation=%{x}<br>progvscons=%{y}<extra></extra>",
         "hovertext": [
          "Alain LÉGER",
          "Bernard TROILLET",
          "Christine ROUX",
          "Damien CLERC",
          "Damien LUISIER",
          "Florence CARRON DARBELLAY",
          "Florent FAVRE",
          "Frédéric PITTELOUD",
          "Grégoire VANNAY",
          "Géraldine POUGET-ZUFFEREY",
          "Gérard SALAMIN",
          "Jean-Marc SAVIOZ",
          "Jenny VOEFFRAY",
          "Joséphine WAEBER",
          "Kamy MAY",
          "Marie ZUCHUAT",
          "Marius DUMOULIN",
          "Natacha MARET",
          "Nicolas BONVIN",
          "Nicolas METTAN",
          "Patricia CASAYS",
          "Pierre DARBELLAY",
          "Ralph DESSIMOZ",
          "Sandro FONTANA",
          "Sophie BORNET",
          "Yann RODUIT"
         ],
         "legendgroup": "PDC",
         "marker": {
          "color": "#00cc96",
          "symbol": "circle"
         },
         "mode": "markers",
         "name": "PDC",
         "orientation": "v",
         "showlegend": true,
         "type": "scatter",
         "x": [
          0.15,
          -0.14285714285714285,
          0.4,
          0.7777777777777778,
          0.2222222222222222,
          0,
          0.375,
          0.23809523809523808,
          -0.09523809523809523,
          0.19047619047619047,
          0.3333333333333333,
          0.2857142857142857,
          -0.17647058823529413,
          0.3,
          0.14285714285714285,
          0.19047619047619047,
          0.23809523809523808,
          0.2857142857142857,
          0.3333333333333333,
          -0.4,
          0.11764705882352941,
          0.75,
          0.21052631578947367,
          0.09523809523809523,
          0.10526315789473684,
          0.19047619047619047
         ],
         "xaxis": "x",
         "y": [
          0.05405405405405406,
          -0.2631578947368421,
          0.3448275862068966,
          0.625,
          0.21212121212121213,
          -0.2702702702702703,
          0.15151515151515152,
          0.15789473684210525,
          -0.10526315789473684,
          0.02631578947368421,
          0.15789473684210525,
          0.18421052631578946,
          -0.3333333333333333,
          0.21212121212121213,
          0.15789473684210525,
          0.05714285714285714,
          0.10526315789473684,
          0.05263157894736842,
          0.07894736842105263,
          -0.4074074074074074,
          -0.09090909090909091,
          0.3333333333333333,
          0,
          0.07894736842105263,
          0.02857142857142857,
          0.10810810810810811
         ],
         "yaxis": "y"
        },
        {
         "hovertemplate": "<b>%{hovertext}</b><br><br>group=LES VERTS<br>orientation=%{x}<br>progvscons=%{y}<extra></extra>",
         "hovertext": [
          "Alina DARBELLAY",
          "Claudia GAILLARD MOREND",
          "Florine CARRON",
          "Gabrielle CORNUT-ZUFFEREY",
          "Georges VIONNET",
          "Jean-Daniel NANCHEN",
          "Laurence VUAGNIAUX",
          "Léa ROUILLER DESSIMOZ",
          "Sabine FOURNIER",
          "Vincent GÜNTHER"
         ],
         "legendgroup": "LES VERTS",
         "marker": {
          "color": "#ab63fa",
          "symbol": "circle"
         },
         "mode": "markers",
         "name": "LES VERTS",
         "orientation": "v",
         "showlegend": true,
         "type": "scatter",
         "x": [
          -0.8461538461538461,
          -0.7142857142857143,
          -0.7368421052631579,
          -0.7777777777777778,
          -0.8095238095238095,
          -0.8095238095238095,
          -0.7619047619047619,
          -0.875,
          -0.8095238095238095,
          -0.8095238095238095
         ],
         "xaxis": "x",
         "y": [
          -0.782608695652174,
          -0.8421052631578947,
          -0.7,
          -0.8787878787878788,
          -0.8421052631578947,
          -0.8421052631578947,
          -0.868421052631579,
          -0.7878787878787878,
          -0.8947368421052632,
          -0.8947368421052632
         ],
         "yaxis": "y"
        },
        {
         "hovertemplate": "<b>%{hovertext}</b><br><br>group=AC<br>orientation=%{x}<br>progvscons=%{y}<extra></extra>",
         "hovertext": [
          "Bernard OBERHOLZER",
          "Blaise CRETTOL",
          "Cilette CRETTON",
          "Célina RAMSAUER",
          "Emilie PRAZ",
          "Florian EVEQUOZ",
          "Jacques BLANC",
          "Jean BONNARD",
          "Jean ZERMATTEN",
          "Jean-François LOVEY",
          "Johan ROCHEL",
          "Léonard BENDER",
          "Martine ROUILLER",
          "Pascale FUMEAUX",
          "Sophie DUCREY",
          "Vincent LUYET"
         ],
         "legendgroup": "AC",
         "marker": {
          "color": "#FFA15A",
          "symbol": "circle"
         },
         "mode": "markers",
         "name": "AC",
         "orientation": "v",
         "showlegend": true,
         "type": "scatter",
         "x": [
          -1,
          -0.8095238095238095,
          -0.7619047619047619,
          -0.7647058823529411,
          -0.8095238095238095,
          -0.9047619047619048,
          -0.6111111111111112,
          -0.8095238095238095,
          -0.7894736842105263,
          -0.8,
          -0.7142857142857143,
          -0.7142857142857143,
          -0.8095238095238095,
          -0.7647058823529411,
          -0.7142857142857143,
          -0.8095238095238095
         ],
         "xaxis": "x",
         "y": [
          -0.6363636363636364,
          -0.8333333333333334,
          -0.7631578947368421,
          -0.7647058823529411,
          -0.8421052631578947,
          -0.7894736842105263,
          -0.59375,
          -0.7631578947368421,
          -0.7777777777777778,
          -0.8333333333333334,
          -0.7894736842105263,
          -0.7368421052631579,
          -0.868421052631579,
          -0.8571428571428571,
          -0.8421052631578947,
          -0.8857142857142857
         ],
         "yaxis": "y"
        },
        {
         "hovertemplate": "<b>%{hovertext}</b><br><br>group=AdG<br>orientation=%{x}<br>progvscons=%{y}<extra></extra>",
         "hovertext": [
          "Caroline REYNARD",
          "Corinne DUC BONVIN",
          "Fabien THETAZ",
          "Gaël BOURGEOIS",
          "Janine REY-SIGGEN",
          "Jean-Marc DUPONT",
          "Lucile CURDY",
          "Olivier DERIVAZ",
          "Pierre SCHERTENLEIB"
         ],
         "legendgroup": "AdG",
         "marker": {
          "color": "#19d3f3",
          "symbol": "circle"
         },
         "mode": "markers",
         "name": "AdG",
         "orientation": "v",
         "showlegend": true,
         "type": "scatter",
         "x": [
          -0.7619047619047619,
          -0.7368421052631579,
          -0.7777777777777778,
          -1,
          -0.8095238095238095,
          -0.8095238095238095,
          -0.7222222222222222,
          -0.7,
          -0.8095238095238095
         ],
         "xaxis": "x",
         "y": [
          -0.7894736842105263,
          -0.8571428571428571,
          -0.8484848484848485,
          -0.7391304347826086,
          -0.8421052631578947,
          -0.8421052631578947,
          -0.7878787878787878,
          -0.7297297297297297,
          -0.8421052631578947
         ],
         "yaxis": "y"
        },
        {
         "hovertemplate": "<b>%{hovertext}</b><br><br>group=CVPO<br>orientation=%{x}<br>progvscons=%{y}<extra></extra>",
         "hovertext": [
          "Chantal CARLEN",
          "Dominik KNUBEL",
          "Fabienne MURMANN",
          "Felix RUPPEN",
          "Lukas KALBERMATTEN",
          "Maria ARNOLD-ESCHER",
          "Martin SCHÜRCH",
          "Matteo ABÄCHERLI",
          "Michael BURGENER",
          "Paul BURGENER",
          "Rafael WELSCHEN",
          "Rainer MATHIER"
         ],
         "legendgroup": "CVPO",
         "marker": {
          "color": "#FF6692",
          "symbol": "circle"
         },
         "mode": "markers",
         "name": "CVPO",
         "orientation": "v",
         "showlegend": true,
         "type": "scatter",
         "x": [
          0.6,
          -0.15,
          0.42857142857142855,
          0.75,
          0.2222222222222222,
          0.47368421052631576,
          0.7142857142857143,
          0.42857142857142855,
          0.42857142857142855,
          -0.11764705882352941,
          0.5384615384615384,
          0.42857142857142855
         ],
         "xaxis": "x",
         "y": [
          0.5555555555555556,
          -0.05405405405405406,
          0.2631578947368421,
          0.4375,
          0.0625,
          0.41935483870967744,
          0.47368421052631576,
          0.3684210526315789,
          0.2631578947368421,
          -0.1,
          0.48148148148148145,
          0.3157894736842105
         ],
         "yaxis": "y"
        },
        {
         "hovertemplate": "<b>%{hovertext}</b><br><br>group=CSPO<br>orientation=%{x}<br>progvscons=%{y}<extra></extra>",
         "hovertext": [
          "Christian ESCHER",
          "Danica ZURBRIGGEN LEHNER",
          "Flavio SCHMID",
          "Hermann BRUNNER",
          "Ida HÄFLIGER",
          "Kurt REGOTZ",
          "Leander WILLINER",
          "Thomas MATTER"
         ],
         "legendgroup": "CSPO",
         "marker": {
          "color": "#B6E880",
          "symbol": "circle"
         },
         "mode": "markers",
         "name": "CSPO",
         "orientation": "v",
         "showlegend": true,
         "type": "scatter",
         "x": [
          -0.05263157894736842,
          -0.3333333333333333,
          0.3333333333333333,
          -0.09523809523809523,
          -0.05263157894736842,
          0.047619047619047616,
          0.15,
          -0.047619047619047616
         ],
         "xaxis": "x",
         "y": [
          -0.17142857142857143,
          -0.20833333333333334,
          0.23809523809523808,
          -0.02631578947368421,
          -0.12121212121212122,
          0.1111111111111111,
          0.02702702702702703,
          -0.21052631578947367
         ],
         "yaxis": "y"
        },
        {
         "hovertemplate": "<b>%{hovertext}</b><br><br>group=ZUK-VS<br>orientation=%{x}<br>progvscons=%{y}<extra></extra>",
         "hovertext": [
          "Claudia ALPIGER",
          "German EYER",
          "Madeleine KUONEN-EGGO",
          "Monika HOLZEGGER",
          "Peter BURRI",
          "Rahel ZIMMERMANN"
         ],
         "legendgroup": "ZUK-VS",
         "marker": {
          "color": "#FF97FF",
          "symbol": "circle"
         },
         "mode": "markers",
         "name": "ZUK-VS",
         "orientation": "v",
         "showlegend": true,
         "type": "scatter",
         "x": [
          -0.7,
          -0.7142857142857143,
          -0.7222222222222222,
          -0.38095238095238093,
          -0.14285714285714285,
          -0.7
         ],
         "xaxis": "x",
         "y": [
          -0.6216216216216216,
          -0.5945945945945946,
          -0.6666666666666666,
          -0.13157894736842105,
          0,
          -0.6216216216216216
         ],
         "yaxis": "y"
        },
        {
         "hovertemplate": "<b>%{hovertext}</b><br><br>group=SVPO<br>orientation=%{x}<br>progvscons=%{y}<extra></extra>",
         "hovertext": [
          "Fabian ZURBRIGGEN",
          "Lukas JÄGER",
          "Michael KREUZER",
          "Peter BÄHLER",
          "Ralph KUMMER",
          "Remo SCHNYDER",
          "Romano AMACKER"
         ],
         "legendgroup": "SVPO",
         "marker": {
          "color": "#FECB52",
          "symbol": "circle"
         },
         "mode": "markers",
         "name": "SVPO",
         "orientation": "v",
         "showlegend": true,
         "type": "scatter",
         "x": [
          0.5238095238095238,
          0.5384615384615384,
          0.5238095238095238,
          0.5789473684210527,
          0.23076923076923078,
          0.375,
          0.5238095238095238
         ],
         "xaxis": "x",
         "y": [
          0.7631578947368421,
          0.76,
          0.6842105263157895,
          0.7714285714285715,
          0.6923076923076923,
          0.5862068965517241,
          0.7368421052631579
         ],
         "yaxis": "y"
        },
        {
         "hovertemplate": "<b>%{hovertext}</b><br><br>group=INDEP<br>orientation=%{x}<br>progvscons=%{y}<extra></extra>",
         "hovertext": [
          "Gerhard SCHMID"
         ],
         "legendgroup": "INDEP",
         "marker": {
          "color": "#636efa",
          "symbol": "circle"
         },
         "mode": "markers",
         "name": "INDEP",
         "orientation": "v",
         "showlegend": true,
         "type": "scatter",
         "x": [
          -0.7142857142857143
         ],
         "xaxis": "x",
         "y": [
          -0.631578947368421
         ],
         "yaxis": "y"
        }
       ],
       "layout": {
        "legend": {
         "title": {
          "text": "group"
         },
         "tracegroupgap": 0
        },
        "margin": {
         "t": 60
        },
        "template": {
         "data": {
          "bar": [
           {
            "error_x": {
             "color": "#2a3f5f"
            },
            "error_y": {
             "color": "#2a3f5f"
            },
            "marker": {
             "line": {
              "color": "#E5ECF6",
              "width": 0.5
             },
             "pattern": {
              "fillmode": "overlay",
              "size": 10,
              "solidity": 0.2
             }
            },
            "type": "bar"
           }
          ],
          "barpolar": [
           {
            "marker": {
             "line": {
              "color": "#E5ECF6",
              "width": 0.5
             },
             "pattern": {
              "fillmode": "overlay",
              "size": 10,
              "solidity": 0.2
             }
            },
            "type": "barpolar"
           }
          ],
          "carpet": [
           {
            "aaxis": {
             "endlinecolor": "#2a3f5f",
             "gridcolor": "white",
             "linecolor": "white",
             "minorgridcolor": "white",
             "startlinecolor": "#2a3f5f"
            },
            "baxis": {
             "endlinecolor": "#2a3f5f",
             "gridcolor": "white",
             "linecolor": "white",
             "minorgridcolor": "white",
             "startlinecolor": "#2a3f5f"
            },
            "type": "carpet"
           }
          ],
          "choropleth": [
           {
            "colorbar": {
             "outlinewidth": 0,
             "ticks": ""
            },
            "type": "choropleth"
           }
          ],
          "contour": [
           {
            "colorbar": {
             "outlinewidth": 0,
             "ticks": ""
            },
            "colorscale": [
             [
              0,
              "#0d0887"
             ],
             [
              0.1111111111111111,
              "#46039f"
             ],
             [
              0.2222222222222222,
              "#7201a8"
             ],
             [
              0.3333333333333333,
              "#9c179e"
             ],
             [
              0.4444444444444444,
              "#bd3786"
             ],
             [
              0.5555555555555556,
              "#d8576b"
             ],
             [
              0.6666666666666666,
              "#ed7953"
             ],
             [
              0.7777777777777778,
              "#fb9f3a"
             ],
             [
              0.8888888888888888,
              "#fdca26"
             ],
             [
              1,
              "#f0f921"
             ]
            ],
            "type": "contour"
           }
          ],
          "contourcarpet": [
           {
            "colorbar": {
             "outlinewidth": 0,
             "ticks": ""
            },
            "type": "contourcarpet"
           }
          ],
          "heatmap": [
           {
            "colorbar": {
             "outlinewidth": 0,
             "ticks": ""
            },
            "colorscale": [
             [
              0,
              "#0d0887"
             ],
             [
              0.1111111111111111,
              "#46039f"
             ],
             [
              0.2222222222222222,
              "#7201a8"
             ],
             [
              0.3333333333333333,
              "#9c179e"
             ],
             [
              0.4444444444444444,
              "#bd3786"
             ],
             [
              0.5555555555555556,
              "#d8576b"
             ],
             [
              0.6666666666666666,
              "#ed7953"
             ],
             [
              0.7777777777777778,
              "#fb9f3a"
             ],
             [
              0.8888888888888888,
              "#fdca26"
             ],
             [
              1,
              "#f0f921"
             ]
            ],
            "type": "heatmap"
           }
          ],
          "heatmapgl": [
           {
            "colorbar": {
             "outlinewidth": 0,
             "ticks": ""
            },
            "colorscale": [
             [
              0,
              "#0d0887"
             ],
             [
              0.1111111111111111,
              "#46039f"
             ],
             [
              0.2222222222222222,
              "#7201a8"
             ],
             [
              0.3333333333333333,
              "#9c179e"
             ],
             [
              0.4444444444444444,
              "#bd3786"
             ],
             [
              0.5555555555555556,
              "#d8576b"
             ],
             [
              0.6666666666666666,
              "#ed7953"
             ],
             [
              0.7777777777777778,
              "#fb9f3a"
             ],
             [
              0.8888888888888888,
              "#fdca26"
             ],
             [
              1,
              "#f0f921"
             ]
            ],
            "type": "heatmapgl"
           }
          ],
          "histogram": [
           {
            "marker": {
             "pattern": {
              "fillmode": "overlay",
              "size": 10,
              "solidity": 0.2
             }
            },
            "type": "histogram"
           }
          ],
          "histogram2d": [
           {
            "colorbar": {
             "outlinewidth": 0,
             "ticks": ""
            },
            "colorscale": [
             [
              0,
              "#0d0887"
             ],
             [
              0.1111111111111111,
              "#46039f"
             ],
             [
              0.2222222222222222,
              "#7201a8"
             ],
             [
              0.3333333333333333,
              "#9c179e"
             ],
             [
              0.4444444444444444,
              "#bd3786"
             ],
             [
              0.5555555555555556,
              "#d8576b"
             ],
             [
              0.6666666666666666,
              "#ed7953"
             ],
             [
              0.7777777777777778,
              "#fb9f3a"
             ],
             [
              0.8888888888888888,
              "#fdca26"
             ],
             [
              1,
              "#f0f921"
             ]
            ],
            "type": "histogram2d"
           }
          ],
          "histogram2dcontour": [
           {
            "colorbar": {
             "outlinewidth": 0,
             "ticks": ""
            },
            "colorscale": [
             [
              0,
              "#0d0887"
             ],
             [
              0.1111111111111111,
              "#46039f"
             ],
             [
              0.2222222222222222,
              "#7201a8"
             ],
             [
              0.3333333333333333,
              "#9c179e"
             ],
             [
              0.4444444444444444,
              "#bd3786"
             ],
             [
              0.5555555555555556,
              "#d8576b"
             ],
             [
              0.6666666666666666,
              "#ed7953"
             ],
             [
              0.7777777777777778,
              "#fb9f3a"
             ],
             [
              0.8888888888888888,
              "#fdca26"
             ],
             [
              1,
              "#f0f921"
             ]
            ],
            "type": "histogram2dcontour"
           }
          ],
          "mesh3d": [
           {
            "colorbar": {
             "outlinewidth": 0,
             "ticks": ""
            },
            "type": "mesh3d"
           }
          ],
          "parcoords": [
           {
            "line": {
             "colorbar": {
              "outlinewidth": 0,
              "ticks": ""
             }
            },
            "type": "parcoords"
           }
          ],
          "pie": [
           {
            "automargin": true,
            "type": "pie"
           }
          ],
          "scatter": [
           {
            "fillpattern": {
             "fillmode": "overlay",
             "size": 10,
             "solidity": 0.2
            },
            "type": "scatter"
           }
          ],
          "scatter3d": [
           {
            "line": {
             "colorbar": {
              "outlinewidth": 0,
              "ticks": ""
             }
            },
            "marker": {
             "colorbar": {
              "outlinewidth": 0,
              "ticks": ""
             }
            },
            "type": "scatter3d"
           }
          ],
          "scattercarpet": [
           {
            "marker": {
             "colorbar": {
              "outlinewidth": 0,
              "ticks": ""
             }
            },
            "type": "scattercarpet"
           }
          ],
          "scattergeo": [
           {
            "marker": {
             "colorbar": {
              "outlinewidth": 0,
              "ticks": ""
             }
            },
            "type": "scattergeo"
           }
          ],
          "scattergl": [
           {
            "marker": {
             "colorbar": {
              "outlinewidth": 0,
              "ticks": ""
             }
            },
            "type": "scattergl"
           }
          ],
          "scattermapbox": [
           {
            "marker": {
             "colorbar": {
              "outlinewidth": 0,
              "ticks": ""
             }
            },
            "type": "scattermapbox"
           }
          ],
          "scatterpolar": [
           {
            "marker": {
             "colorbar": {
              "outlinewidth": 0,
              "ticks": ""
             }
            },
            "type": "scatterpolar"
           }
          ],
          "scatterpolargl": [
           {
            "marker": {
             "colorbar": {
              "outlinewidth": 0,
              "ticks": ""
             }
            },
            "type": "scatterpolargl"
           }
          ],
          "scatterternary": [
           {
            "marker": {
             "colorbar": {
              "outlinewidth": 0,
              "ticks": ""
             }
            },
            "type": "scatterternary"
           }
          ],
          "surface": [
           {
            "colorbar": {
             "outlinewidth": 0,
             "ticks": ""
            },
            "colorscale": [
             [
              0,
              "#0d0887"
             ],
             [
              0.1111111111111111,
              "#46039f"
             ],
             [
              0.2222222222222222,
              "#7201a8"
             ],
             [
              0.3333333333333333,
              "#9c179e"
             ],
             [
              0.4444444444444444,
              "#bd3786"
             ],
             [
              0.5555555555555556,
              "#d8576b"
             ],
             [
              0.6666666666666666,
              "#ed7953"
             ],
             [
              0.7777777777777778,
              "#fb9f3a"
             ],
             [
              0.8888888888888888,
              "#fdca26"
             ],
             [
              1,
              "#f0f921"
             ]
            ],
            "type": "surface"
           }
          ],
          "table": [
           {
            "cells": {
             "fill": {
              "color": "#EBF0F8"
             },
             "line": {
              "color": "white"
             }
            },
            "header": {
             "fill": {
              "color": "#C8D4E3"
             },
             "line": {
              "color": "white"
             }
            },
            "type": "table"
           }
          ]
         },
         "layout": {
          "annotationdefaults": {
           "arrowcolor": "#2a3f5f",
           "arrowhead": 0,
           "arrowwidth": 1
          },
          "autotypenumbers": "strict",
          "coloraxis": {
           "colorbar": {
            "outlinewidth": 0,
            "ticks": ""
           }
          },
          "colorscale": {
           "diverging": [
            [
             0,
             "#8e0152"
            ],
            [
             0.1,
             "#c51b7d"
            ],
            [
             0.2,
             "#de77ae"
            ],
            [
             0.3,
             "#f1b6da"
            ],
            [
             0.4,
             "#fde0ef"
            ],
            [
             0.5,
             "#f7f7f7"
            ],
            [
             0.6,
             "#e6f5d0"
            ],
            [
             0.7,
             "#b8e186"
            ],
            [
             0.8,
             "#7fbc41"
            ],
            [
             0.9,
             "#4d9221"
            ],
            [
             1,
             "#276419"
            ]
           ],
           "sequential": [
            [
             0,
             "#0d0887"
            ],
            [
             0.1111111111111111,
             "#46039f"
            ],
            [
             0.2222222222222222,
             "#7201a8"
            ],
            [
             0.3333333333333333,
             "#9c179e"
            ],
            [
             0.4444444444444444,
             "#bd3786"
            ],
            [
             0.5555555555555556,
             "#d8576b"
            ],
            [
             0.6666666666666666,
             "#ed7953"
            ],
            [
             0.7777777777777778,
             "#fb9f3a"
            ],
            [
             0.8888888888888888,
             "#fdca26"
            ],
            [
             1,
             "#f0f921"
            ]
           ],
           "sequentialminus": [
            [
             0,
             "#0d0887"
            ],
            [
             0.1111111111111111,
             "#46039f"
            ],
            [
             0.2222222222222222,
             "#7201a8"
            ],
            [
             0.3333333333333333,
             "#9c179e"
            ],
            [
             0.4444444444444444,
             "#bd3786"
            ],
            [
             0.5555555555555556,
             "#d8576b"
            ],
            [
             0.6666666666666666,
             "#ed7953"
            ],
            [
             0.7777777777777778,
             "#fb9f3a"
            ],
            [
             0.8888888888888888,
             "#fdca26"
            ],
            [
             1,
             "#f0f921"
            ]
           ]
          },
          "colorway": [
           "#636efa",
           "#EF553B",
           "#00cc96",
           "#ab63fa",
           "#FFA15A",
           "#19d3f3",
           "#FF6692",
           "#B6E880",
           "#FF97FF",
           "#FECB52"
          ],
          "font": {
           "color": "#2a3f5f"
          },
          "geo": {
           "bgcolor": "white",
           "lakecolor": "white",
           "landcolor": "#E5ECF6",
           "showlakes": true,
           "showland": true,
           "subunitcolor": "white"
          },
          "hoverlabel": {
           "align": "left"
          },
          "hovermode": "closest",
          "mapbox": {
           "style": "light"
          },
          "paper_bgcolor": "white",
          "plot_bgcolor": "#E5ECF6",
          "polar": {
           "angularaxis": {
            "gridcolor": "white",
            "linecolor": "white",
            "ticks": ""
           },
           "bgcolor": "#E5ECF6",
           "radialaxis": {
            "gridcolor": "white",
            "linecolor": "white",
            "ticks": ""
           }
          },
          "scene": {
           "xaxis": {
            "backgroundcolor": "#E5ECF6",
            "gridcolor": "white",
            "gridwidth": 2,
            "linecolor": "white",
            "showbackground": true,
            "ticks": "",
            "zerolinecolor": "white"
           },
           "yaxis": {
            "backgroundcolor": "#E5ECF6",
            "gridcolor": "white",
            "gridwidth": 2,
            "linecolor": "white",
            "showbackground": true,
            "ticks": "",
            "zerolinecolor": "white"
           },
           "zaxis": {
            "backgroundcolor": "#E5ECF6",
            "gridcolor": "white",
            "gridwidth": 2,
            "linecolor": "white",
            "showbackground": true,
            "ticks": "",
            "zerolinecolor": "white"
           }
          },
          "shapedefaults": {
           "line": {
            "color": "#2a3f5f"
           }
          },
          "ternary": {
           "aaxis": {
            "gridcolor": "white",
            "linecolor": "white",
            "ticks": ""
           },
           "baxis": {
            "gridcolor": "white",
            "linecolor": "white",
            "ticks": ""
           },
           "bgcolor": "#E5ECF6",
           "caxis": {
            "gridcolor": "white",
            "linecolor": "white",
            "ticks": ""
           }
          },
          "title": {
           "x": 0.05
          },
          "xaxis": {
           "automargin": true,
           "gridcolor": "white",
           "linecolor": "white",
           "ticks": "",
           "title": {
            "standoff": 15
           },
           "zerolinecolor": "white",
           "zerolinewidth": 2
          },
          "yaxis": {
           "automargin": true,
           "gridcolor": "white",
           "linecolor": "white",
           "ticks": "",
           "title": {
            "standoff": 15
           },
           "zerolinecolor": "white",
           "zerolinewidth": 2
          }
         }
        },
        "xaxis": {
         "anchor": "y",
         "domain": [
          0,
          1
         ],
         "range": [
          -1,
          1
         ],
         "title": {
          "text": "orientation"
         }
        },
        "yaxis": {
         "anchor": "x",
         "domain": [
          0,
          1
         ],
         "range": [
          -1,
          1
         ],
         "title": {
          "text": "progvscons"
         }
        }
       }
      },
      "text/html": [
       "<div>                            <div id=\"e8a3b6ee-231a-42fa-ab7e-07a6f547677a\" class=\"plotly-graph-div\" style=\"height:525px; width:100%;\"></div>            <script type=\"text/javascript\">                require([\"plotly\"], function(Plotly) {                    window.PLOTLYENV=window.PLOTLYENV || {};                                    if (document.getElementById(\"e8a3b6ee-231a-42fa-ab7e-07a6f547677a\")) {                    Plotly.newPlot(                        \"e8a3b6ee-231a-42fa-ab7e-07a6f547677a\",                        [{\"hovertemplate\":\"<b>%{hovertext}</b><br><br>group=VLR<br>orientation=%{x}<br>progvscons=%{y}<extra></extra>\",\"hovertext\":[\"Adeline CRETTENAND\",\"Alain SCH\\u00d6NBETT\",\"Arnaud DUBOIS\",\"Christelle HERITIER\",\"Claude NAN\\u00c7OZ\",\"C\\u00f4me VUILLE\",\"Fran\\u00e7ois GENOUD\",\"G\\u00e9raldine GIANADDA\",\"Jean-Pierre REY\",\"Mathieu CALOZ\",\"Mathieu SARRASIN\",\"M\\u00e9lanie FOLLONIER\",\"Narcisse CRETTENAND\",\"Natascha FARQUET\",\"Nicolas CHABLAIS\",\"Philippe BENDER\",\"Pierre-Alain RAEMY\",\"Raymonde SCHOCH\",\"Romain UDRY\",\"Ruth STALDER\",\"St\\u00e9phane CLAVIEN\"],\"legendgroup\":\"VLR\",\"marker\":{\"color\":\"#636efa\",\"symbol\":\"circle\"},\"mode\":\"markers\",\"name\":\"VLR\",\"orientation\":\"v\",\"showlegend\":true,\"x\":[0.3333333333333333,-0.3333333333333333,-0.5714285714285714,-0.6923076923076923,0.125,-0.3333333333333333,-0.23809523809523808,-0.8125,-0.3333333333333333,-0.09523809523809523,0.0,0.125,0.3333333333333333,-0.5263157894736842,0.0,0.09523809523809523,-0.5238095238095238,-0.6666666666666666,0.26666666666666666,-0.23809523809523808,-0.42857142857142855],\"xaxis\":\"x\",\"y\":[0.2,-0.47058823529411764,-0.7631578947368421,-0.6956521739130435,-0.13333333333333333,-0.3684210526315789,-0.40540540540540543,-0.7407407407407407,-0.42105263157894735,-0.3684210526315789,-0.0967741935483871,-0.25,0.10526315789473684,-0.6388888888888888,0.3333333333333333,0.10526315789473684,-0.6842105263157895,-0.5789473684210527,0.03571428571428571,-0.21052631578947367,-0.6756756756756757],\"yaxis\":\"y\",\"type\":\"scatter\"},{\"hovertemplate\":\"<b>%{hovertext}</b><br><br>group=UDC<br>orientation=%{x}<br>progvscons=%{y}<extra></extra>\",\"hovertext\":[\"Alain DUBOSSON\",\"Alex BONVIN\",\"Claudy BESSE\",\"Damien FUMEAUX\",\"Damien RABOUD\",\"Edmond PERRUCHOUD\",\"Fran\\u00e7ois QUENNOZ\",\"Gabrielle BARRAS\",\"G\\u00e9raldine GRANGES GUENOT\",\"G\\u00e9raldine GRANGES-GUENOT\",\"Jean-Baptiste UDRESSY\",\"Jean-Dominique CIPOLLA\",\"J\\u00e9r\\u00f4me FORMAZ\",\"Marc-Antoine GENOLET\",\"Vincent BOAND\"],\"legendgroup\":\"UDC\",\"marker\":{\"color\":\"#EF553B\",\"symbol\":\"circle\"},\"mode\":\"markers\",\"name\":\"UDC\",\"orientation\":\"v\",\"showlegend\":true,\"x\":[0.7692307692307693,0.7,0.47058823529411764,0.6666666666666666,0.5294117647058824,0.7692307692307693,0.42105263157894735,0.5,-1.0,0.5,0.7647058823529411,0.6666666666666666,0.6842105263157895,0.7142857142857143,0.5789473684210527],\"xaxis\":\"x\",\"y\":[0.7619047619047619,0.6470588235294118,0.45161290322580644,0.631578947368421,0.5588235294117647,0.7586206896551724,0.4444444444444444,0.4838709677419355,-1.0,0.5416666666666666,0.6470588235294118,0.5526315789473685,0.5428571428571428,0.7105263157894737,0.45454545454545453],\"yaxis\":\"y\",\"type\":\"scatter\"},{\"hovertemplate\":\"<b>%{hovertext}</b><br><br>group=PDC<br>orientation=%{x}<br>progvscons=%{y}<extra></extra>\",\"hovertext\":[\"Alain L\\u00c9GER\",\"Bernard TROILLET\",\"Christine ROUX\",\"Damien CLERC\",\"Damien LUISIER\",\"Florence CARRON DARBELLAY\",\"Florent FAVRE\",\"Fr\\u00e9d\\u00e9ric PITTELOUD\",\"Gr\\u00e9goire VANNAY\",\"G\\u00e9raldine POUGET-ZUFFEREY\",\"G\\u00e9rard SALAMIN\",\"Jean-Marc SAVIOZ\",\"Jenny VOEFFRAY\",\"Jos\\u00e9phine WAEBER\",\"Kamy MAY\",\"Marie ZUCHUAT\",\"Marius DUMOULIN\",\"Natacha MARET\",\"Nicolas BONVIN\",\"Nicolas METTAN\",\"Patricia CASAYS\",\"Pierre DARBELLAY\",\"Ralph DESSIMOZ\",\"Sandro FONTANA\",\"Sophie BORNET\",\"Yann RODUIT\"],\"legendgroup\":\"PDC\",\"marker\":{\"color\":\"#00cc96\",\"symbol\":\"circle\"},\"mode\":\"markers\",\"name\":\"PDC\",\"orientation\":\"v\",\"showlegend\":true,\"x\":[0.15,-0.14285714285714285,0.4,0.7777777777777778,0.2222222222222222,0.0,0.375,0.23809523809523808,-0.09523809523809523,0.19047619047619047,0.3333333333333333,0.2857142857142857,-0.17647058823529413,0.3,0.14285714285714285,0.19047619047619047,0.23809523809523808,0.2857142857142857,0.3333333333333333,-0.4,0.11764705882352941,0.75,0.21052631578947367,0.09523809523809523,0.10526315789473684,0.19047619047619047],\"xaxis\":\"x\",\"y\":[0.05405405405405406,-0.2631578947368421,0.3448275862068966,0.625,0.21212121212121213,-0.2702702702702703,0.15151515151515152,0.15789473684210525,-0.10526315789473684,0.02631578947368421,0.15789473684210525,0.18421052631578946,-0.3333333333333333,0.21212121212121213,0.15789473684210525,0.05714285714285714,0.10526315789473684,0.05263157894736842,0.07894736842105263,-0.4074074074074074,-0.09090909090909091,0.3333333333333333,0.0,0.07894736842105263,0.02857142857142857,0.10810810810810811],\"yaxis\":\"y\",\"type\":\"scatter\"},{\"hovertemplate\":\"<b>%{hovertext}</b><br><br>group=LES VERTS<br>orientation=%{x}<br>progvscons=%{y}<extra></extra>\",\"hovertext\":[\"Alina DARBELLAY\",\"Claudia GAILLARD MOREND\",\"Florine CARRON\",\"Gabrielle CORNUT-ZUFFEREY\",\"Georges VIONNET\",\"Jean-Daniel NANCHEN\",\"Laurence VUAGNIAUX\",\"L\\u00e9a ROUILLER DESSIMOZ\",\"Sabine FOURNIER\",\"Vincent G\\u00dcNTHER\"],\"legendgroup\":\"LES VERTS\",\"marker\":{\"color\":\"#ab63fa\",\"symbol\":\"circle\"},\"mode\":\"markers\",\"name\":\"LES VERTS\",\"orientation\":\"v\",\"showlegend\":true,\"x\":[-0.8461538461538461,-0.7142857142857143,-0.7368421052631579,-0.7777777777777778,-0.8095238095238095,-0.8095238095238095,-0.7619047619047619,-0.875,-0.8095238095238095,-0.8095238095238095],\"xaxis\":\"x\",\"y\":[-0.782608695652174,-0.8421052631578947,-0.7,-0.8787878787878788,-0.8421052631578947,-0.8421052631578947,-0.868421052631579,-0.7878787878787878,-0.8947368421052632,-0.8947368421052632],\"yaxis\":\"y\",\"type\":\"scatter\"},{\"hovertemplate\":\"<b>%{hovertext}</b><br><br>group=AC<br>orientation=%{x}<br>progvscons=%{y}<extra></extra>\",\"hovertext\":[\"Bernard OBERHOLZER\",\"Blaise CRETTOL\",\"Cilette CRETTON\",\"C\\u00e9lina RAMSAUER\",\"Emilie PRAZ\",\"Florian EVEQUOZ\",\"Jacques BLANC\",\"Jean BONNARD\",\"Jean ZERMATTEN\",\"Jean-Fran\\u00e7ois LOVEY\",\"Johan ROCHEL\",\"L\\u00e9onard BENDER\",\"Martine ROUILLER\",\"Pascale FUMEAUX\",\"Sophie DUCREY\",\"Vincent LUYET\"],\"legendgroup\":\"AC\",\"marker\":{\"color\":\"#FFA15A\",\"symbol\":\"circle\"},\"mode\":\"markers\",\"name\":\"AC\",\"orientation\":\"v\",\"showlegend\":true,\"x\":[-1.0,-0.8095238095238095,-0.7619047619047619,-0.7647058823529411,-0.8095238095238095,-0.9047619047619048,-0.6111111111111112,-0.8095238095238095,-0.7894736842105263,-0.8,-0.7142857142857143,-0.7142857142857143,-0.8095238095238095,-0.7647058823529411,-0.7142857142857143,-0.8095238095238095],\"xaxis\":\"x\",\"y\":[-0.6363636363636364,-0.8333333333333334,-0.7631578947368421,-0.7647058823529411,-0.8421052631578947,-0.7894736842105263,-0.59375,-0.7631578947368421,-0.7777777777777778,-0.8333333333333334,-0.7894736842105263,-0.7368421052631579,-0.868421052631579,-0.8571428571428571,-0.8421052631578947,-0.8857142857142857],\"yaxis\":\"y\",\"type\":\"scatter\"},{\"hovertemplate\":\"<b>%{hovertext}</b><br><br>group=AdG<br>orientation=%{x}<br>progvscons=%{y}<extra></extra>\",\"hovertext\":[\"Caroline REYNARD\",\"Corinne DUC BONVIN\",\"Fabien THETAZ\",\"Ga\\u00ebl BOURGEOIS\",\"Janine REY-SIGGEN\",\"Jean-Marc DUPONT\",\"Lucile CURDY\",\"Olivier DERIVAZ\",\"Pierre SCHERTENLEIB\"],\"legendgroup\":\"AdG\",\"marker\":{\"color\":\"#19d3f3\",\"symbol\":\"circle\"},\"mode\":\"markers\",\"name\":\"AdG\",\"orientation\":\"v\",\"showlegend\":true,\"x\":[-0.7619047619047619,-0.7368421052631579,-0.7777777777777778,-1.0,-0.8095238095238095,-0.8095238095238095,-0.7222222222222222,-0.7,-0.8095238095238095],\"xaxis\":\"x\",\"y\":[-0.7894736842105263,-0.8571428571428571,-0.8484848484848485,-0.7391304347826086,-0.8421052631578947,-0.8421052631578947,-0.7878787878787878,-0.7297297297297297,-0.8421052631578947],\"yaxis\":\"y\",\"type\":\"scatter\"},{\"hovertemplate\":\"<b>%{hovertext}</b><br><br>group=CVPO<br>orientation=%{x}<br>progvscons=%{y}<extra></extra>\",\"hovertext\":[\"Chantal CARLEN\",\"Dominik KNUBEL\",\"Fabienne MURMANN\",\"Felix RUPPEN\",\"Lukas KALBERMATTEN\",\"Maria ARNOLD-ESCHER\",\"Martin SCH\\u00dcRCH\",\"Matteo AB\\u00c4CHERLI\",\"Michael BURGENER\",\"Paul BURGENER\",\"Rafael WELSCHEN\",\"Rainer MATHIER\"],\"legendgroup\":\"CVPO\",\"marker\":{\"color\":\"#FF6692\",\"symbol\":\"circle\"},\"mode\":\"markers\",\"name\":\"CVPO\",\"orientation\":\"v\",\"showlegend\":true,\"x\":[0.6,-0.15,0.42857142857142855,0.75,0.2222222222222222,0.47368421052631576,0.7142857142857143,0.42857142857142855,0.42857142857142855,-0.11764705882352941,0.5384615384615384,0.42857142857142855],\"xaxis\":\"x\",\"y\":[0.5555555555555556,-0.05405405405405406,0.2631578947368421,0.4375,0.0625,0.41935483870967744,0.47368421052631576,0.3684210526315789,0.2631578947368421,-0.1,0.48148148148148145,0.3157894736842105],\"yaxis\":\"y\",\"type\":\"scatter\"},{\"hovertemplate\":\"<b>%{hovertext}</b><br><br>group=CSPO<br>orientation=%{x}<br>progvscons=%{y}<extra></extra>\",\"hovertext\":[\"Christian ESCHER\",\"Danica ZURBRIGGEN LEHNER\",\"Flavio SCHMID\",\"Hermann BRUNNER\",\"Ida H\\u00c4FLIGER\",\"Kurt REGOTZ\",\"Leander WILLINER\",\"Thomas MATTER\"],\"legendgroup\":\"CSPO\",\"marker\":{\"color\":\"#B6E880\",\"symbol\":\"circle\"},\"mode\":\"markers\",\"name\":\"CSPO\",\"orientation\":\"v\",\"showlegend\":true,\"x\":[-0.05263157894736842,-0.3333333333333333,0.3333333333333333,-0.09523809523809523,-0.05263157894736842,0.047619047619047616,0.15,-0.047619047619047616],\"xaxis\":\"x\",\"y\":[-0.17142857142857143,-0.20833333333333334,0.23809523809523808,-0.02631578947368421,-0.12121212121212122,0.1111111111111111,0.02702702702702703,-0.21052631578947367],\"yaxis\":\"y\",\"type\":\"scatter\"},{\"hovertemplate\":\"<b>%{hovertext}</b><br><br>group=ZUK-VS<br>orientation=%{x}<br>progvscons=%{y}<extra></extra>\",\"hovertext\":[\"Claudia ALPIGER\",\"German EYER\",\"Madeleine KUONEN-EGGO\",\"Monika HOLZEGGER\",\"Peter BURRI\",\"Rahel ZIMMERMANN\"],\"legendgroup\":\"ZUK-VS\",\"marker\":{\"color\":\"#FF97FF\",\"symbol\":\"circle\"},\"mode\":\"markers\",\"name\":\"ZUK-VS\",\"orientation\":\"v\",\"showlegend\":true,\"x\":[-0.7,-0.7142857142857143,-0.7222222222222222,-0.38095238095238093,-0.14285714285714285,-0.7],\"xaxis\":\"x\",\"y\":[-0.6216216216216216,-0.5945945945945946,-0.6666666666666666,-0.13157894736842105,0.0,-0.6216216216216216],\"yaxis\":\"y\",\"type\":\"scatter\"},{\"hovertemplate\":\"<b>%{hovertext}</b><br><br>group=SVPO<br>orientation=%{x}<br>progvscons=%{y}<extra></extra>\",\"hovertext\":[\"Fabian ZURBRIGGEN\",\"Lukas J\\u00c4GER\",\"Michael KREUZER\",\"Peter B\\u00c4HLER\",\"Ralph KUMMER\",\"Remo SCHNYDER\",\"Romano AMACKER\"],\"legendgroup\":\"SVPO\",\"marker\":{\"color\":\"#FECB52\",\"symbol\":\"circle\"},\"mode\":\"markers\",\"name\":\"SVPO\",\"orientation\":\"v\",\"showlegend\":true,\"x\":[0.5238095238095238,0.5384615384615384,0.5238095238095238,0.5789473684210527,0.23076923076923078,0.375,0.5238095238095238],\"xaxis\":\"x\",\"y\":[0.7631578947368421,0.76,0.6842105263157895,0.7714285714285715,0.6923076923076923,0.5862068965517241,0.7368421052631579],\"yaxis\":\"y\",\"type\":\"scatter\"},{\"hovertemplate\":\"<b>%{hovertext}</b><br><br>group=INDEP<br>orientation=%{x}<br>progvscons=%{y}<extra></extra>\",\"hovertext\":[\"Gerhard SCHMID\"],\"legendgroup\":\"INDEP\",\"marker\":{\"color\":\"#636efa\",\"symbol\":\"circle\"},\"mode\":\"markers\",\"name\":\"INDEP\",\"orientation\":\"v\",\"showlegend\":true,\"x\":[-0.7142857142857143],\"xaxis\":\"x\",\"y\":[-0.631578947368421],\"yaxis\":\"y\",\"type\":\"scatter\"}],                        {\"template\":{\"data\":{\"histogram2dcontour\":[{\"type\":\"histogram2dcontour\",\"colorbar\":{\"outlinewidth\":0,\"ticks\":\"\"},\"colorscale\":[[0.0,\"#0d0887\"],[0.1111111111111111,\"#46039f\"],[0.2222222222222222,\"#7201a8\"],[0.3333333333333333,\"#9c179e\"],[0.4444444444444444,\"#bd3786\"],[0.5555555555555556,\"#d8576b\"],[0.6666666666666666,\"#ed7953\"],[0.7777777777777778,\"#fb9f3a\"],[0.8888888888888888,\"#fdca26\"],[1.0,\"#f0f921\"]]}],\"choropleth\":[{\"type\":\"choropleth\",\"colorbar\":{\"outlinewidth\":0,\"ticks\":\"\"}}],\"histogram2d\":[{\"type\":\"histogram2d\",\"colorbar\":{\"outlinewidth\":0,\"ticks\":\"\"},\"colorscale\":[[0.0,\"#0d0887\"],[0.1111111111111111,\"#46039f\"],[0.2222222222222222,\"#7201a8\"],[0.3333333333333333,\"#9c179e\"],[0.4444444444444444,\"#bd3786\"],[0.5555555555555556,\"#d8576b\"],[0.6666666666666666,\"#ed7953\"],[0.7777777777777778,\"#fb9f3a\"],[0.8888888888888888,\"#fdca26\"],[1.0,\"#f0f921\"]]}],\"heatmap\":[{\"type\":\"heatmap\",\"colorbar\":{\"outlinewidth\":0,\"ticks\":\"\"},\"colorscale\":[[0.0,\"#0d0887\"],[0.1111111111111111,\"#46039f\"],[0.2222222222222222,\"#7201a8\"],[0.3333333333333333,\"#9c179e\"],[0.4444444444444444,\"#bd3786\"],[0.5555555555555556,\"#d8576b\"],[0.6666666666666666,\"#ed7953\"],[0.7777777777777778,\"#fb9f3a\"],[0.8888888888888888,\"#fdca26\"],[1.0,\"#f0f921\"]]}],\"heatmapgl\":[{\"type\":\"heatmapgl\",\"colorbar\":{\"outlinewidth\":0,\"ticks\":\"\"},\"colorscale\":[[0.0,\"#0d0887\"],[0.1111111111111111,\"#46039f\"],[0.2222222222222222,\"#7201a8\"],[0.3333333333333333,\"#9c179e\"],[0.4444444444444444,\"#bd3786\"],[0.5555555555555556,\"#d8576b\"],[0.6666666666666666,\"#ed7953\"],[0.7777777777777778,\"#fb9f3a\"],[0.8888888888888888,\"#fdca26\"],[1.0,\"#f0f921\"]]}],\"contourcarpet\":[{\"type\":\"contourcarpet\",\"colorbar\":{\"outlinewidth\":0,\"ticks\":\"\"}}],\"contour\":[{\"type\":\"contour\",\"colorbar\":{\"outlinewidth\":0,\"ticks\":\"\"},\"colorscale\":[[0.0,\"#0d0887\"],[0.1111111111111111,\"#46039f\"],[0.2222222222222222,\"#7201a8\"],[0.3333333333333333,\"#9c179e\"],[0.4444444444444444,\"#bd3786\"],[0.5555555555555556,\"#d8576b\"],[0.6666666666666666,\"#ed7953\"],[0.7777777777777778,\"#fb9f3a\"],[0.8888888888888888,\"#fdca26\"],[1.0,\"#f0f921\"]]}],\"surface\":[{\"type\":\"surface\",\"colorbar\":{\"outlinewidth\":0,\"ticks\":\"\"},\"colorscale\":[[0.0,\"#0d0887\"],[0.1111111111111111,\"#46039f\"],[0.2222222222222222,\"#7201a8\"],[0.3333333333333333,\"#9c179e\"],[0.4444444444444444,\"#bd3786\"],[0.5555555555555556,\"#d8576b\"],[0.6666666666666666,\"#ed7953\"],[0.7777777777777778,\"#fb9f3a\"],[0.8888888888888888,\"#fdca26\"],[1.0,\"#f0f921\"]]}],\"mesh3d\":[{\"type\":\"mesh3d\",\"colorbar\":{\"outlinewidth\":0,\"ticks\":\"\"}}],\"scatter\":[{\"fillpattern\":{\"fillmode\":\"overlay\",\"size\":10,\"solidity\":0.2},\"type\":\"scatter\"}],\"parcoords\":[{\"type\":\"parcoords\",\"line\":{\"colorbar\":{\"outlinewidth\":0,\"ticks\":\"\"}}}],\"scatterpolargl\":[{\"type\":\"scatterpolargl\",\"marker\":{\"colorbar\":{\"outlinewidth\":0,\"ticks\":\"\"}}}],\"bar\":[{\"error_x\":{\"color\":\"#2a3f5f\"},\"error_y\":{\"color\":\"#2a3f5f\"},\"marker\":{\"line\":{\"color\":\"#E5ECF6\",\"width\":0.5},\"pattern\":{\"fillmode\":\"overlay\",\"size\":10,\"solidity\":0.2}},\"type\":\"bar\"}],\"scattergeo\":[{\"type\":\"scattergeo\",\"marker\":{\"colorbar\":{\"outlinewidth\":0,\"ticks\":\"\"}}}],\"scatterpolar\":[{\"type\":\"scatterpolar\",\"marker\":{\"colorbar\":{\"outlinewidth\":0,\"ticks\":\"\"}}}],\"histogram\":[{\"marker\":{\"pattern\":{\"fillmode\":\"overlay\",\"size\":10,\"solidity\":0.2}},\"type\":\"histogram\"}],\"scattergl\":[{\"type\":\"scattergl\",\"marker\":{\"colorbar\":{\"outlinewidth\":0,\"ticks\":\"\"}}}],\"scatter3d\":[{\"type\":\"scatter3d\",\"line\":{\"colorbar\":{\"outlinewidth\":0,\"ticks\":\"\"}},\"marker\":{\"colorbar\":{\"outlinewidth\":0,\"ticks\":\"\"}}}],\"scattermapbox\":[{\"type\":\"scattermapbox\",\"marker\":{\"colorbar\":{\"outlinewidth\":0,\"ticks\":\"\"}}}],\"scatterternary\":[{\"type\":\"scatterternary\",\"marker\":{\"colorbar\":{\"outlinewidth\":0,\"ticks\":\"\"}}}],\"scattercarpet\":[{\"type\":\"scattercarpet\",\"marker\":{\"colorbar\":{\"outlinewidth\":0,\"ticks\":\"\"}}}],\"carpet\":[{\"aaxis\":{\"endlinecolor\":\"#2a3f5f\",\"gridcolor\":\"white\",\"linecolor\":\"white\",\"minorgridcolor\":\"white\",\"startlinecolor\":\"#2a3f5f\"},\"baxis\":{\"endlinecolor\":\"#2a3f5f\",\"gridcolor\":\"white\",\"linecolor\":\"white\",\"minorgridcolor\":\"white\",\"startlinecolor\":\"#2a3f5f\"},\"type\":\"carpet\"}],\"table\":[{\"cells\":{\"fill\":{\"color\":\"#EBF0F8\"},\"line\":{\"color\":\"white\"}},\"header\":{\"fill\":{\"color\":\"#C8D4E3\"},\"line\":{\"color\":\"white\"}},\"type\":\"table\"}],\"barpolar\":[{\"marker\":{\"line\":{\"color\":\"#E5ECF6\",\"width\":0.5},\"pattern\":{\"fillmode\":\"overlay\",\"size\":10,\"solidity\":0.2}},\"type\":\"barpolar\"}],\"pie\":[{\"automargin\":true,\"type\":\"pie\"}]},\"layout\":{\"autotypenumbers\":\"strict\",\"colorway\":[\"#636efa\",\"#EF553B\",\"#00cc96\",\"#ab63fa\",\"#FFA15A\",\"#19d3f3\",\"#FF6692\",\"#B6E880\",\"#FF97FF\",\"#FECB52\"],\"font\":{\"color\":\"#2a3f5f\"},\"hovermode\":\"closest\",\"hoverlabel\":{\"align\":\"left\"},\"paper_bgcolor\":\"white\",\"plot_bgcolor\":\"#E5ECF6\",\"polar\":{\"bgcolor\":\"#E5ECF6\",\"angularaxis\":{\"gridcolor\":\"white\",\"linecolor\":\"white\",\"ticks\":\"\"},\"radialaxis\":{\"gridcolor\":\"white\",\"linecolor\":\"white\",\"ticks\":\"\"}},\"ternary\":{\"bgcolor\":\"#E5ECF6\",\"aaxis\":{\"gridcolor\":\"white\",\"linecolor\":\"white\",\"ticks\":\"\"},\"baxis\":{\"gridcolor\":\"white\",\"linecolor\":\"white\",\"ticks\":\"\"},\"caxis\":{\"gridcolor\":\"white\",\"linecolor\":\"white\",\"ticks\":\"\"}},\"coloraxis\":{\"colorbar\":{\"outlinewidth\":0,\"ticks\":\"\"}},\"colorscale\":{\"sequential\":[[0.0,\"#0d0887\"],[0.1111111111111111,\"#46039f\"],[0.2222222222222222,\"#7201a8\"],[0.3333333333333333,\"#9c179e\"],[0.4444444444444444,\"#bd3786\"],[0.5555555555555556,\"#d8576b\"],[0.6666666666666666,\"#ed7953\"],[0.7777777777777778,\"#fb9f3a\"],[0.8888888888888888,\"#fdca26\"],[1.0,\"#f0f921\"]],\"sequentialminus\":[[0.0,\"#0d0887\"],[0.1111111111111111,\"#46039f\"],[0.2222222222222222,\"#7201a8\"],[0.3333333333333333,\"#9c179e\"],[0.4444444444444444,\"#bd3786\"],[0.5555555555555556,\"#d8576b\"],[0.6666666666666666,\"#ed7953\"],[0.7777777777777778,\"#fb9f3a\"],[0.8888888888888888,\"#fdca26\"],[1.0,\"#f0f921\"]],\"diverging\":[[0,\"#8e0152\"],[0.1,\"#c51b7d\"],[0.2,\"#de77ae\"],[0.3,\"#f1b6da\"],[0.4,\"#fde0ef\"],[0.5,\"#f7f7f7\"],[0.6,\"#e6f5d0\"],[0.7,\"#b8e186\"],[0.8,\"#7fbc41\"],[0.9,\"#4d9221\"],[1,\"#276419\"]]},\"xaxis\":{\"gridcolor\":\"white\",\"linecolor\":\"white\",\"ticks\":\"\",\"title\":{\"standoff\":15},\"zerolinecolor\":\"white\",\"automargin\":true,\"zerolinewidth\":2},\"yaxis\":{\"gridcolor\":\"white\",\"linecolor\":\"white\",\"ticks\":\"\",\"title\":{\"standoff\":15},\"zerolinecolor\":\"white\",\"automargin\":true,\"zerolinewidth\":2},\"scene\":{\"xaxis\":{\"backgroundcolor\":\"#E5ECF6\",\"gridcolor\":\"white\",\"linecolor\":\"white\",\"showbackground\":true,\"ticks\":\"\",\"zerolinecolor\":\"white\",\"gridwidth\":2},\"yaxis\":{\"backgroundcolor\":\"#E5ECF6\",\"gridcolor\":\"white\",\"linecolor\":\"white\",\"showbackground\":true,\"ticks\":\"\",\"zerolinecolor\":\"white\",\"gridwidth\":2},\"zaxis\":{\"backgroundcolor\":\"#E5ECF6\",\"gridcolor\":\"white\",\"linecolor\":\"white\",\"showbackground\":true,\"ticks\":\"\",\"zerolinecolor\":\"white\",\"gridwidth\":2}},\"shapedefaults\":{\"line\":{\"color\":\"#2a3f5f\"}},\"annotationdefaults\":{\"arrowcolor\":\"#2a3f5f\",\"arrowhead\":0,\"arrowwidth\":1},\"geo\":{\"bgcolor\":\"white\",\"landcolor\":\"#E5ECF6\",\"subunitcolor\":\"white\",\"showland\":true,\"showlakes\":true,\"lakecolor\":\"white\"},\"title\":{\"x\":0.05},\"mapbox\":{\"style\":\"light\"}}},\"xaxis\":{\"anchor\":\"y\",\"domain\":[0.0,1.0],\"title\":{\"text\":\"orientation\"},\"range\":[-1,1]},\"yaxis\":{\"anchor\":\"x\",\"domain\":[0.0,1.0],\"title\":{\"text\":\"progvscons\"},\"range\":[-1,1]},\"legend\":{\"title\":{\"text\":\"group\"},\"tracegroupgap\":0},\"margin\":{\"t\":60}},                        {\"responsive\": true}                    ).then(function(){\n",
       "                            \n",
       "var gd = document.getElementById('e8a3b6ee-231a-42fa-ab7e-07a6f547677a');\n",
       "var x = new MutationObserver(function (mutations, observer) {{\n",
       "        var display = window.getComputedStyle(gd).display;\n",
       "        if (!display || display === 'none') {{\n",
       "            console.log([gd, 'removed!']);\n",
       "            Plotly.purge(gd);\n",
       "            observer.disconnect();\n",
       "        }}\n",
       "}});\n",
       "\n",
       "// Listen for the removal of the full notebook cells\n",
       "var notebookContainer = gd.closest('#notebook-container');\n",
       "if (notebookContainer) {{\n",
       "    x.observe(notebookContainer, {childList: true});\n",
       "}}\n",
       "\n",
       "// Listen for the clearing of the current output cell\n",
       "var outputEl = gd.closest('.output');\n",
       "if (outputEl) {{\n",
       "    x.observe(outputEl, {childList: true});\n",
       "}}\n",
       "\n",
       "                        })                };                });            </script>        </div>"
      ]
     },
     "metadata": {},
     "output_type": "display_data"
    }
   ],
   "source": [
    "fig = px.scatter(counts_df, x=\"orientation\", y=\"progvscons\",  color='group', hover_name='name')\n",
    "fig.update_xaxes(range=[-1, 1])\n",
    "fig.update_yaxes(range=[-1, 1])\n",
    "fig.show()"
   ]
  },
  {
   "cell_type": "code",
   "execution_count": 35,
   "id": "3d02bd8a",
   "metadata": {},
   "outputs": [],
   "source": [
    "counts_df.to_csv(\"../Data/a_supprimer.csv\")"
   ]
  },
  {
   "cell_type": "code",
   "execution_count": 41,
   "id": "54ad9e9e",
   "metadata": {},
   "outputs": [
    {
     "data": {
      "application/vnd.plotly.v1+json": {
       "config": {
        "plotlyServerURL": "https://plot.ly"
       },
       "data": [
        {
         "hovertemplate": "<b>%{hovertext}</b><br><br>District=Martigny<br>orientation=%{x}<br>progvscons=%{y}<extra></extra>",
         "hovertext": [
          "Adeline CRETTENAND",
          "Alain LÉGER",
          "Bernard TROILLET",
          "Cilette CRETTON",
          "Damien LUISIER",
          "Florence CARRON DARBELLAY",
          "Florine CARRON",
          "Gaël BOURGEOIS",
          "Géraldine GIANADDA",
          "Géraldine GRANGES GUENOT",
          "Géraldine GRANGES-GUENOT",
          "Jean-Dominique CIPOLLA",
          "Jean-Marc DUPONT",
          "Léonard BENDER",
          "Narcisse CRETTENAND",
          "Natascha FARQUET",
          "Philippe BENDER",
          "Vincent GÜNTHER"
         ],
         "legendgroup": "Martigny",
         "marker": {
          "color": "#636efa",
          "symbol": "circle"
         },
         "mode": "markers",
         "name": "Martigny",
         "orientation": "v",
         "showlegend": true,
         "type": "scatter",
         "x": [
          0.3333333333333333,
          0.15,
          -0.14285714285714285,
          -0.7619047619047619,
          0.2222222222222222,
          0,
          -0.7368421052631579,
          -1,
          -0.8125,
          -1,
          0.5,
          0.6666666666666666,
          -0.8095238095238095,
          -0.7142857142857143,
          0.3333333333333333,
          -0.5263157894736842,
          0.09523809523809523,
          -0.8095238095238095
         ],
         "xaxis": "x",
         "y": [
          0.2,
          0.05405405405405406,
          -0.2631578947368421,
          -0.7631578947368421,
          0.21212121212121213,
          -0.2702702702702703,
          -0.7,
          -0.7391304347826086,
          -0.7407407407407407,
          -1,
          0.5416666666666666,
          0.5526315789473685,
          -0.8421052631578947,
          -0.7368421052631579,
          0.10526315789473684,
          -0.6388888888888888,
          0.10526315789473684,
          -0.8947368421052632
         ],
         "yaxis": "y"
        },
        {
         "hovertemplate": "<b>%{hovertext}</b><br><br>District=Monthey<br>orientation=%{x}<br>progvscons=%{y}<extra></extra>",
         "hovertext": [
          "Alain DUBOSSON",
          "Alain SCHÖNBETT",
          "Arnaud DUBOIS",
          "Bernard OBERHOLZER",
          "Claudy BESSE",
          "Côme VUILLE",
          "Damien RABOUD",
          "Fabien THETAZ",
          "Georges VIONNET",
          "Grégoire VANNAY",
          "Jean-Baptiste UDRESSY",
          "Johan ROCHEL",
          "Nicolas CHABLAIS",
          "Olivier DERIVAZ",
          "Patricia CASAYS",
          "Sandro FONTANA",
          "Sophie DUCREY"
         ],
         "legendgroup": "Monthey",
         "marker": {
          "color": "#EF553B",
          "symbol": "circle"
         },
         "mode": "markers",
         "name": "Monthey",
         "orientation": "v",
         "showlegend": true,
         "type": "scatter",
         "x": [
          0.7692307692307693,
          -0.3333333333333333,
          -0.5714285714285714,
          -1,
          0.47058823529411764,
          -0.3333333333333333,
          0.5294117647058824,
          -0.7777777777777778,
          -0.8095238095238095,
          -0.09523809523809523,
          0.7647058823529411,
          -0.7142857142857143,
          0,
          -0.7,
          0.11764705882352941,
          0.09523809523809523,
          -0.7142857142857143
         ],
         "xaxis": "x",
         "y": [
          0.7619047619047619,
          -0.47058823529411764,
          -0.7631578947368421,
          -0.6363636363636364,
          0.45161290322580644,
          -0.3684210526315789,
          0.5588235294117647,
          -0.8484848484848485,
          -0.8421052631578947,
          -0.10526315789473684,
          0.6470588235294118,
          -0.7894736842105263,
          0.3333333333333333,
          -0.7297297297297297,
          -0.09090909090909091,
          0.07894736842105263,
          -0.8421052631578947
         ],
         "yaxis": "y"
        },
        {
         "hovertemplate": "<b>%{hovertext}</b><br><br>District=Sierre<br>orientation=%{x}<br>progvscons=%{y}<extra></extra>",
         "hovertext": [
          "Alex BONVIN",
          "Blaise CRETTOL",
          "Corinne DUC BONVIN",
          "Célina RAMSAUER",
          "Edmond PERRUCHOUD",
          "François GENOUD",
          "Gabrielle CORNUT-ZUFFEREY",
          "Géraldine POUGET-ZUFFEREY",
          "Gérard SALAMIN",
          "Janine REY-SIGGEN",
          "Jean-Daniel NANCHEN",
          "Jean-Marc SAVIOZ",
          "Jean-Pierre REY",
          "Joséphine WAEBER",
          "Mathieu CALOZ",
          "Nicolas BONVIN",
          "Stéphane CLAVIEN"
         ],
         "legendgroup": "Sierre",
         "marker": {
          "color": "#00cc96",
          "symbol": "circle"
         },
         "mode": "markers",
         "name": "Sierre",
         "orientation": "v",
         "showlegend": true,
         "type": "scatter",
         "x": [
          0.7,
          -0.8095238095238095,
          -0.7368421052631579,
          -0.7647058823529411,
          0.7692307692307693,
          -0.23809523809523808,
          -0.7777777777777778,
          0.19047619047619047,
          0.3333333333333333,
          -0.8095238095238095,
          -0.8095238095238095,
          0.2857142857142857,
          -0.3333333333333333,
          0.3,
          -0.09523809523809523,
          0.3333333333333333,
          -0.42857142857142855
         ],
         "xaxis": "x",
         "y": [
          0.6470588235294118,
          -0.8333333333333334,
          -0.8571428571428571,
          -0.7647058823529411,
          0.7586206896551724,
          -0.40540540540540543,
          -0.8787878787878788,
          0.02631578947368421,
          0.15789473684210525,
          -0.8421052631578947,
          -0.8421052631578947,
          0.18421052631578946,
          -0.42105263157894735,
          0.21212121212121213,
          -0.3684210526315789,
          0.07894736842105263,
          -0.6756756756756757
         ],
         "yaxis": "y"
        },
        {
         "hovertemplate": "<b>%{hovertext}</b><br><br>District=Sion<br>orientation=%{x}<br>progvscons=%{y}<extra></extra>",
         "hovertext": [
          "Alina DARBELLAY",
          "Caroline REYNARD",
          "Christelle HERITIER",
          "Christine ROUX",
          "Emilie PRAZ",
          "François QUENNOZ",
          "Gabrielle BARRAS",
          "Jean BONNARD",
          "Jean ZERMATTEN",
          "Laurence VUAGNIAUX",
          "Marie ZUCHUAT",
          "Marius DUMOULIN",
          "Pierre SCHERTENLEIB",
          "Pierre-Alain RAEMY",
          "Ruth STALDER",
          "Vincent BOAND",
          "Vincent LUYET",
          "Yann RODUIT"
         ],
         "legendgroup": "Sion",
         "marker": {
          "color": "#ab63fa",
          "symbol": "circle"
         },
         "mode": "markers",
         "name": "Sion",
         "orientation": "v",
         "showlegend": true,
         "type": "scatter",
         "x": [
          -0.8461538461538461,
          -0.7619047619047619,
          -0.6923076923076923,
          0.4,
          -0.8095238095238095,
          0.42105263157894735,
          0.5,
          -0.8095238095238095,
          -0.7894736842105263,
          -0.7619047619047619,
          0.19047619047619047,
          0.23809523809523808,
          -0.8095238095238095,
          -0.5238095238095238,
          -0.23809523809523808,
          0.5789473684210527,
          -0.8095238095238095,
          0.19047619047619047
         ],
         "xaxis": "x",
         "y": [
          -0.782608695652174,
          -0.7894736842105263,
          -0.6956521739130435,
          0.3448275862068966,
          -0.8421052631578947,
          0.4444444444444444,
          0.4838709677419355,
          -0.7631578947368421,
          -0.7777777777777778,
          -0.868421052631579,
          0.05714285714285714,
          0.10526315789473684,
          -0.8421052631578947,
          -0.6842105263157895,
          -0.21052631578947367,
          0.45454545454545453,
          -0.8857142857142857,
          0.10810810810810811
         ],
         "yaxis": "y"
        },
        {
         "hovertemplate": "<b>%{hovertext}</b><br><br>District=Goms<br>orientation=%{x}<br>progvscons=%{y}<extra></extra>",
         "hovertext": [
          "Chantal CARLEN",
          "Peter BÄHLER"
         ],
         "legendgroup": "Goms",
         "marker": {
          "color": "#FFA15A",
          "symbol": "circle"
         },
         "mode": "markers",
         "name": "Goms",
         "orientation": "v",
         "showlegend": true,
         "type": "scatter",
         "x": [
          0.6,
          0.5789473684210527
         ],
         "xaxis": "x",
         "y": [
          0.5555555555555556,
          0.7714285714285715
         ],
         "yaxis": "y"
        },
        {
         "hovertemplate": "<b>%{hovertext}</b><br><br>District=Brig<br>orientation=%{x}<br>progvscons=%{y}<extra></extra>",
         "hovertext": [
          "Christian ESCHER",
          "Claudia ALPIGER",
          "Felix RUPPEN",
          "German EYER",
          "Kurt REGOTZ",
          "Leander WILLINER",
          "Maria ARNOLD-ESCHER",
          "Monika HOLZEGGER",
          "Rafael WELSCHEN",
          "Ralph KUMMER",
          "Remo SCHNYDER"
         ],
         "legendgroup": "Brig",
         "marker": {
          "color": "#19d3f3",
          "symbol": "circle"
         },
         "mode": "markers",
         "name": "Brig",
         "orientation": "v",
         "showlegend": true,
         "type": "scatter",
         "x": [
          -0.05263157894736842,
          -0.7,
          0.75,
          -0.7142857142857143,
          0.047619047619047616,
          0.15,
          0.47368421052631576,
          -0.38095238095238093,
          0.5384615384615384,
          0.23076923076923078,
          0.375
         ],
         "xaxis": "x",
         "y": [
          -0.17142857142857143,
          -0.6216216216216216,
          0.4375,
          -0.5945945945945946,
          0.1111111111111111,
          0.02702702702702703,
          0.41935483870967744,
          -0.13157894736842105,
          0.48148148148148145,
          0.6923076923076923,
          0.5862068965517241
         ],
         "yaxis": "y"
        },
        {
         "hovertemplate": "<b>%{hovertext}</b><br><br>District=Conthey<br>orientation=%{x}<br>progvscons=%{y}<extra></extra>",
         "hovertext": [
          "Claude NANÇOZ",
          "Damien CLERC",
          "Damien FUMEAUX",
          "Florent FAVRE",
          "Florian EVEQUOZ",
          "Lucile CURDY",
          "Léa ROUILLER DESSIMOZ",
          "Pascale FUMEAUX",
          "Ralph DESSIMOZ",
          "Romain UDRY",
          "Sophie BORNET"
         ],
         "legendgroup": "Conthey",
         "marker": {
          "color": "#FF6692",
          "symbol": "circle"
         },
         "mode": "markers",
         "name": "Conthey",
         "orientation": "v",
         "showlegend": true,
         "type": "scatter",
         "x": [
          0.125,
          0.7777777777777778,
          0.6666666666666666,
          0.375,
          -0.9047619047619048,
          -0.7222222222222222,
          -0.875,
          -0.7647058823529411,
          0.21052631578947367,
          0.26666666666666666,
          0.10526315789473684
         ],
         "xaxis": "x",
         "y": [
          -0.13333333333333333,
          0.625,
          0.631578947368421,
          0.15151515151515152,
          -0.7894736842105263,
          -0.7878787878787878,
          -0.7878787878787878,
          -0.8571428571428571,
          0,
          0.03571428571428571,
          0.02857142857142857
         ],
         "yaxis": "y"
        },
        {
         "hovertemplate": "<b>%{hovertext}</b><br><br>District=Hérens<br>orientation=%{x}<br>progvscons=%{y}<extra></extra>",
         "hovertext": [
          "Claudia GAILLARD MOREND",
          "Frédéric PITTELOUD",
          "Jacques BLANC",
          "Marc-Antoine GENOLET",
          "Mélanie FOLLONIER"
         ],
         "legendgroup": "Hérens",
         "marker": {
          "color": "#B6E880",
          "symbol": "circle"
         },
         "mode": "markers",
         "name": "Hérens",
         "orientation": "v",
         "showlegend": true,
         "type": "scatter",
         "x": [
          -0.7142857142857143,
          0.23809523809523808,
          -0.6111111111111112,
          0.7142857142857143,
          0.125
         ],
         "xaxis": "x",
         "y": [
          -0.8421052631578947,
          0.15789473684210525,
          -0.59375,
          0.7105263157894737,
          -0.25
         ],
         "yaxis": "y"
        },
        {
         "hovertemplate": "<b>%{hovertext}</b><br><br>District=Visp<br>orientation=%{x}<br>progvscons=%{y}<extra></extra>",
         "hovertext": [
          "Danica ZURBRIGGEN LEHNER",
          "Fabian ZURBRIGGEN",
          "Flavio SCHMID",
          "Ida HÄFLIGER",
          "Martin SCHÜRCH",
          "Matteo ABÄCHERLI",
          "Michael BURGENER",
          "Michael KREUZER",
          "Paul BURGENER",
          "Peter BURRI",
          "Rahel ZIMMERMANN"
         ],
         "legendgroup": "Visp",
         "marker": {
          "color": "#FF97FF",
          "symbol": "circle"
         },
         "mode": "markers",
         "name": "Visp",
         "orientation": "v",
         "showlegend": true,
         "type": "scatter",
         "x": [
          -0.3333333333333333,
          0.5238095238095238,
          0.3333333333333333,
          -0.05263157894736842,
          0.7142857142857143,
          0.42857142857142855,
          0.42857142857142855,
          0.5238095238095238,
          -0.11764705882352941,
          -0.14285714285714285,
          -0.7
         ],
         "xaxis": "x",
         "y": [
          -0.20833333333333334,
          0.7631578947368421,
          0.23809523809523808,
          -0.12121212121212122,
          0.47368421052631576,
          0.3684210526315789,
          0.2631578947368421,
          0.6842105263157895,
          -0.1,
          0,
          -0.6216216216216216
         ],
         "yaxis": "y"
        },
        {
         "hovertemplate": "<b>%{hovertext}</b><br><br>District=Westlich Raron<br>orientation=%{x}<br>progvscons=%{y}<extra></extra>",
         "hovertext": [
          "Dominik KNUBEL",
          "Hermann BRUNNER",
          "Lukas KALBERMATTEN",
          "Romano AMACKER"
         ],
         "legendgroup": "Westlich Raron",
         "marker": {
          "color": "#FECB52",
          "symbol": "circle"
         },
         "mode": "markers",
         "name": "Westlich Raron",
         "orientation": "v",
         "showlegend": true,
         "type": "scatter",
         "x": [
          -0.15,
          -0.09523809523809523,
          0.2222222222222222,
          0.5238095238095238
         ],
         "xaxis": "x",
         "y": [
          -0.05405405405405406,
          -0.02631578947368421,
          0.0625,
          0.7368421052631579
         ],
         "yaxis": "y"
        },
        {
         "hovertemplate": "<b>%{hovertext}</b><br><br>District=Leuk<br>orientation=%{x}<br>progvscons=%{y}<extra></extra>",
         "hovertext": [
          "Fabienne MURMANN",
          "Lukas JÄGER",
          "Madeleine KUONEN-EGGO",
          "Rainer MATHIER",
          "Thomas MATTER"
         ],
         "legendgroup": "Leuk",
         "marker": {
          "color": "#636efa",
          "symbol": "circle"
         },
         "mode": "markers",
         "name": "Leuk",
         "orientation": "v",
         "showlegend": true,
         "type": "scatter",
         "x": [
          0.42857142857142855,
          0.5384615384615384,
          -0.7222222222222222,
          0.42857142857142855,
          -0.047619047619047616
         ],
         "xaxis": "x",
         "y": [
          0.2631578947368421,
          0.76,
          -0.6666666666666666,
          0.3157894736842105,
          -0.21052631578947367
         ],
         "yaxis": "y"
        },
        {
         "hovertemplate": "<b>%{hovertext}</b><br><br>District=Östlich Raron<br>orientation=%{x}<br>progvscons=%{y}<extra></extra>",
         "hovertext": [
          "Gerhard SCHMID"
         ],
         "legendgroup": "Östlich Raron",
         "marker": {
          "color": "#EF553B",
          "symbol": "circle"
         },
         "mode": "markers",
         "name": "Östlich Raron",
         "orientation": "v",
         "showlegend": true,
         "type": "scatter",
         "x": [
          -0.7142857142857143
         ],
         "xaxis": "x",
         "y": [
          -0.631578947368421
         ],
         "yaxis": "y"
        },
        {
         "hovertemplate": "<b>%{hovertext}</b><br><br>District=Entremont<br>orientation=%{x}<br>progvscons=%{y}<extra></extra>",
         "hovertext": [
          "Jean-François LOVEY",
          "Jérôme FORMAZ",
          "Kamy MAY",
          "Mathieu SARRASIN",
          "Natacha MARET",
          "Pierre DARBELLAY"
         ],
         "legendgroup": "Entremont",
         "marker": {
          "color": "#00cc96",
          "symbol": "circle"
         },
         "mode": "markers",
         "name": "Entremont",
         "orientation": "v",
         "showlegend": true,
         "type": "scatter",
         "x": [
          -0.8,
          0.6842105263157895,
          0.14285714285714285,
          0,
          0.2857142857142857,
          0.75
         ],
         "xaxis": "x",
         "y": [
          -0.8333333333333334,
          0.5428571428571428,
          0.15789473684210525,
          -0.0967741935483871,
          0.05263157894736842,
          0.3333333333333333
         ],
         "yaxis": "y"
        },
        {
         "hovertemplate": "<b>%{hovertext}</b><br><br>District=St-Maurice<br>orientation=%{x}<br>progvscons=%{y}<extra></extra>",
         "hovertext": [
          "Jenny VOEFFRAY",
          "Martine ROUILLER",
          "Nicolas METTAN",
          "Raymonde SCHOCH",
          "Sabine FOURNIER"
         ],
         "legendgroup": "St-Maurice",
         "marker": {
          "color": "#ab63fa",
          "symbol": "circle"
         },
         "mode": "markers",
         "name": "St-Maurice",
         "orientation": "v",
         "showlegend": true,
         "type": "scatter",
         "x": [
          -0.17647058823529413,
          -0.8095238095238095,
          -0.4,
          -0.6666666666666666,
          -0.8095238095238095
         ],
         "xaxis": "x",
         "y": [
          -0.3333333333333333,
          -0.868421052631579,
          -0.4074074074074074,
          -0.5789473684210527,
          -0.8947368421052632
         ],
         "yaxis": "y"
        }
       ],
       "layout": {
        "legend": {
         "title": {
          "text": "District"
         },
         "tracegroupgap": 0
        },
        "margin": {
         "t": 60
        },
        "template": {
         "data": {
          "bar": [
           {
            "error_x": {
             "color": "#2a3f5f"
            },
            "error_y": {
             "color": "#2a3f5f"
            },
            "marker": {
             "line": {
              "color": "#E5ECF6",
              "width": 0.5
             },
             "pattern": {
              "fillmode": "overlay",
              "size": 10,
              "solidity": 0.2
             }
            },
            "type": "bar"
           }
          ],
          "barpolar": [
           {
            "marker": {
             "line": {
              "color": "#E5ECF6",
              "width": 0.5
             },
             "pattern": {
              "fillmode": "overlay",
              "size": 10,
              "solidity": 0.2
             }
            },
            "type": "barpolar"
           }
          ],
          "carpet": [
           {
            "aaxis": {
             "endlinecolor": "#2a3f5f",
             "gridcolor": "white",
             "linecolor": "white",
             "minorgridcolor": "white",
             "startlinecolor": "#2a3f5f"
            },
            "baxis": {
             "endlinecolor": "#2a3f5f",
             "gridcolor": "white",
             "linecolor": "white",
             "minorgridcolor": "white",
             "startlinecolor": "#2a3f5f"
            },
            "type": "carpet"
           }
          ],
          "choropleth": [
           {
            "colorbar": {
             "outlinewidth": 0,
             "ticks": ""
            },
            "type": "choropleth"
           }
          ],
          "contour": [
           {
            "colorbar": {
             "outlinewidth": 0,
             "ticks": ""
            },
            "colorscale": [
             [
              0,
              "#0d0887"
             ],
             [
              0.1111111111111111,
              "#46039f"
             ],
             [
              0.2222222222222222,
              "#7201a8"
             ],
             [
              0.3333333333333333,
              "#9c179e"
             ],
             [
              0.4444444444444444,
              "#bd3786"
             ],
             [
              0.5555555555555556,
              "#d8576b"
             ],
             [
              0.6666666666666666,
              "#ed7953"
             ],
             [
              0.7777777777777778,
              "#fb9f3a"
             ],
             [
              0.8888888888888888,
              "#fdca26"
             ],
             [
              1,
              "#f0f921"
             ]
            ],
            "type": "contour"
           }
          ],
          "contourcarpet": [
           {
            "colorbar": {
             "outlinewidth": 0,
             "ticks": ""
            },
            "type": "contourcarpet"
           }
          ],
          "heatmap": [
           {
            "colorbar": {
             "outlinewidth": 0,
             "ticks": ""
            },
            "colorscale": [
             [
              0,
              "#0d0887"
             ],
             [
              0.1111111111111111,
              "#46039f"
             ],
             [
              0.2222222222222222,
              "#7201a8"
             ],
             [
              0.3333333333333333,
              "#9c179e"
             ],
             [
              0.4444444444444444,
              "#bd3786"
             ],
             [
              0.5555555555555556,
              "#d8576b"
             ],
             [
              0.6666666666666666,
              "#ed7953"
             ],
             [
              0.7777777777777778,
              "#fb9f3a"
             ],
             [
              0.8888888888888888,
              "#fdca26"
             ],
             [
              1,
              "#f0f921"
             ]
            ],
            "type": "heatmap"
           }
          ],
          "heatmapgl": [
           {
            "colorbar": {
             "outlinewidth": 0,
             "ticks": ""
            },
            "colorscale": [
             [
              0,
              "#0d0887"
             ],
             [
              0.1111111111111111,
              "#46039f"
             ],
             [
              0.2222222222222222,
              "#7201a8"
             ],
             [
              0.3333333333333333,
              "#9c179e"
             ],
             [
              0.4444444444444444,
              "#bd3786"
             ],
             [
              0.5555555555555556,
              "#d8576b"
             ],
             [
              0.6666666666666666,
              "#ed7953"
             ],
             [
              0.7777777777777778,
              "#fb9f3a"
             ],
             [
              0.8888888888888888,
              "#fdca26"
             ],
             [
              1,
              "#f0f921"
             ]
            ],
            "type": "heatmapgl"
           }
          ],
          "histogram": [
           {
            "marker": {
             "pattern": {
              "fillmode": "overlay",
              "size": 10,
              "solidity": 0.2
             }
            },
            "type": "histogram"
           }
          ],
          "histogram2d": [
           {
            "colorbar": {
             "outlinewidth": 0,
             "ticks": ""
            },
            "colorscale": [
             [
              0,
              "#0d0887"
             ],
             [
              0.1111111111111111,
              "#46039f"
             ],
             [
              0.2222222222222222,
              "#7201a8"
             ],
             [
              0.3333333333333333,
              "#9c179e"
             ],
             [
              0.4444444444444444,
              "#bd3786"
             ],
             [
              0.5555555555555556,
              "#d8576b"
             ],
             [
              0.6666666666666666,
              "#ed7953"
             ],
             [
              0.7777777777777778,
              "#fb9f3a"
             ],
             [
              0.8888888888888888,
              "#fdca26"
             ],
             [
              1,
              "#f0f921"
             ]
            ],
            "type": "histogram2d"
           }
          ],
          "histogram2dcontour": [
           {
            "colorbar": {
             "outlinewidth": 0,
             "ticks": ""
            },
            "colorscale": [
             [
              0,
              "#0d0887"
             ],
             [
              0.1111111111111111,
              "#46039f"
             ],
             [
              0.2222222222222222,
              "#7201a8"
             ],
             [
              0.3333333333333333,
              "#9c179e"
             ],
             [
              0.4444444444444444,
              "#bd3786"
             ],
             [
              0.5555555555555556,
              "#d8576b"
             ],
             [
              0.6666666666666666,
              "#ed7953"
             ],
             [
              0.7777777777777778,
              "#fb9f3a"
             ],
             [
              0.8888888888888888,
              "#fdca26"
             ],
             [
              1,
              "#f0f921"
             ]
            ],
            "type": "histogram2dcontour"
           }
          ],
          "mesh3d": [
           {
            "colorbar": {
             "outlinewidth": 0,
             "ticks": ""
            },
            "type": "mesh3d"
           }
          ],
          "parcoords": [
           {
            "line": {
             "colorbar": {
              "outlinewidth": 0,
              "ticks": ""
             }
            },
            "type": "parcoords"
           }
          ],
          "pie": [
           {
            "automargin": true,
            "type": "pie"
           }
          ],
          "scatter": [
           {
            "fillpattern": {
             "fillmode": "overlay",
             "size": 10,
             "solidity": 0.2
            },
            "type": "scatter"
           }
          ],
          "scatter3d": [
           {
            "line": {
             "colorbar": {
              "outlinewidth": 0,
              "ticks": ""
             }
            },
            "marker": {
             "colorbar": {
              "outlinewidth": 0,
              "ticks": ""
             }
            },
            "type": "scatter3d"
           }
          ],
          "scattercarpet": [
           {
            "marker": {
             "colorbar": {
              "outlinewidth": 0,
              "ticks": ""
             }
            },
            "type": "scattercarpet"
           }
          ],
          "scattergeo": [
           {
            "marker": {
             "colorbar": {
              "outlinewidth": 0,
              "ticks": ""
             }
            },
            "type": "scattergeo"
           }
          ],
          "scattergl": [
           {
            "marker": {
             "colorbar": {
              "outlinewidth": 0,
              "ticks": ""
             }
            },
            "type": "scattergl"
           }
          ],
          "scattermapbox": [
           {
            "marker": {
             "colorbar": {
              "outlinewidth": 0,
              "ticks": ""
             }
            },
            "type": "scattermapbox"
           }
          ],
          "scatterpolar": [
           {
            "marker": {
             "colorbar": {
              "outlinewidth": 0,
              "ticks": ""
             }
            },
            "type": "scatterpolar"
           }
          ],
          "scatterpolargl": [
           {
            "marker": {
             "colorbar": {
              "outlinewidth": 0,
              "ticks": ""
             }
            },
            "type": "scatterpolargl"
           }
          ],
          "scatterternary": [
           {
            "marker": {
             "colorbar": {
              "outlinewidth": 0,
              "ticks": ""
             }
            },
            "type": "scatterternary"
           }
          ],
          "surface": [
           {
            "colorbar": {
             "outlinewidth": 0,
             "ticks": ""
            },
            "colorscale": [
             [
              0,
              "#0d0887"
             ],
             [
              0.1111111111111111,
              "#46039f"
             ],
             [
              0.2222222222222222,
              "#7201a8"
             ],
             [
              0.3333333333333333,
              "#9c179e"
             ],
             [
              0.4444444444444444,
              "#bd3786"
             ],
             [
              0.5555555555555556,
              "#d8576b"
             ],
             [
              0.6666666666666666,
              "#ed7953"
             ],
             [
              0.7777777777777778,
              "#fb9f3a"
             ],
             [
              0.8888888888888888,
              "#fdca26"
             ],
             [
              1,
              "#f0f921"
             ]
            ],
            "type": "surface"
           }
          ],
          "table": [
           {
            "cells": {
             "fill": {
              "color": "#EBF0F8"
             },
             "line": {
              "color": "white"
             }
            },
            "header": {
             "fill": {
              "color": "#C8D4E3"
             },
             "line": {
              "color": "white"
             }
            },
            "type": "table"
           }
          ]
         },
         "layout": {
          "annotationdefaults": {
           "arrowcolor": "#2a3f5f",
           "arrowhead": 0,
           "arrowwidth": 1
          },
          "autotypenumbers": "strict",
          "coloraxis": {
           "colorbar": {
            "outlinewidth": 0,
            "ticks": ""
           }
          },
          "colorscale": {
           "diverging": [
            [
             0,
             "#8e0152"
            ],
            [
             0.1,
             "#c51b7d"
            ],
            [
             0.2,
             "#de77ae"
            ],
            [
             0.3,
             "#f1b6da"
            ],
            [
             0.4,
             "#fde0ef"
            ],
            [
             0.5,
             "#f7f7f7"
            ],
            [
             0.6,
             "#e6f5d0"
            ],
            [
             0.7,
             "#b8e186"
            ],
            [
             0.8,
             "#7fbc41"
            ],
            [
             0.9,
             "#4d9221"
            ],
            [
             1,
             "#276419"
            ]
           ],
           "sequential": [
            [
             0,
             "#0d0887"
            ],
            [
             0.1111111111111111,
             "#46039f"
            ],
            [
             0.2222222222222222,
             "#7201a8"
            ],
            [
             0.3333333333333333,
             "#9c179e"
            ],
            [
             0.4444444444444444,
             "#bd3786"
            ],
            [
             0.5555555555555556,
             "#d8576b"
            ],
            [
             0.6666666666666666,
             "#ed7953"
            ],
            [
             0.7777777777777778,
             "#fb9f3a"
            ],
            [
             0.8888888888888888,
             "#fdca26"
            ],
            [
             1,
             "#f0f921"
            ]
           ],
           "sequentialminus": [
            [
             0,
             "#0d0887"
            ],
            [
             0.1111111111111111,
             "#46039f"
            ],
            [
             0.2222222222222222,
             "#7201a8"
            ],
            [
             0.3333333333333333,
             "#9c179e"
            ],
            [
             0.4444444444444444,
             "#bd3786"
            ],
            [
             0.5555555555555556,
             "#d8576b"
            ],
            [
             0.6666666666666666,
             "#ed7953"
            ],
            [
             0.7777777777777778,
             "#fb9f3a"
            ],
            [
             0.8888888888888888,
             "#fdca26"
            ],
            [
             1,
             "#f0f921"
            ]
           ]
          },
          "colorway": [
           "#636efa",
           "#EF553B",
           "#00cc96",
           "#ab63fa",
           "#FFA15A",
           "#19d3f3",
           "#FF6692",
           "#B6E880",
           "#FF97FF",
           "#FECB52"
          ],
          "font": {
           "color": "#2a3f5f"
          },
          "geo": {
           "bgcolor": "white",
           "lakecolor": "white",
           "landcolor": "#E5ECF6",
           "showlakes": true,
           "showland": true,
           "subunitcolor": "white"
          },
          "hoverlabel": {
           "align": "left"
          },
          "hovermode": "closest",
          "mapbox": {
           "style": "light"
          },
          "paper_bgcolor": "white",
          "plot_bgcolor": "#E5ECF6",
          "polar": {
           "angularaxis": {
            "gridcolor": "white",
            "linecolor": "white",
            "ticks": ""
           },
           "bgcolor": "#E5ECF6",
           "radialaxis": {
            "gridcolor": "white",
            "linecolor": "white",
            "ticks": ""
           }
          },
          "scene": {
           "xaxis": {
            "backgroundcolor": "#E5ECF6",
            "gridcolor": "white",
            "gridwidth": 2,
            "linecolor": "white",
            "showbackground": true,
            "ticks": "",
            "zerolinecolor": "white"
           },
           "yaxis": {
            "backgroundcolor": "#E5ECF6",
            "gridcolor": "white",
            "gridwidth": 2,
            "linecolor": "white",
            "showbackground": true,
            "ticks": "",
            "zerolinecolor": "white"
           },
           "zaxis": {
            "backgroundcolor": "#E5ECF6",
            "gridcolor": "white",
            "gridwidth": 2,
            "linecolor": "white",
            "showbackground": true,
            "ticks": "",
            "zerolinecolor": "white"
           }
          },
          "shapedefaults": {
           "line": {
            "color": "#2a3f5f"
           }
          },
          "ternary": {
           "aaxis": {
            "gridcolor": "white",
            "linecolor": "white",
            "ticks": ""
           },
           "baxis": {
            "gridcolor": "white",
            "linecolor": "white",
            "ticks": ""
           },
           "bgcolor": "#E5ECF6",
           "caxis": {
            "gridcolor": "white",
            "linecolor": "white",
            "ticks": ""
           }
          },
          "title": {
           "x": 0.05
          },
          "xaxis": {
           "automargin": true,
           "gridcolor": "white",
           "linecolor": "white",
           "ticks": "",
           "title": {
            "standoff": 15
           },
           "zerolinecolor": "white",
           "zerolinewidth": 2
          },
          "yaxis": {
           "automargin": true,
           "gridcolor": "white",
           "linecolor": "white",
           "ticks": "",
           "title": {
            "standoff": 15
           },
           "zerolinecolor": "white",
           "zerolinewidth": 2
          }
         }
        },
        "xaxis": {
         "anchor": "y",
         "domain": [
          0,
          1
         ],
         "range": [
          -1,
          1
         ],
         "title": {
          "text": "orientation"
         }
        },
        "yaxis": {
         "anchor": "x",
         "domain": [
          0,
          1
         ],
         "range": [
          -1,
          1
         ],
         "title": {
          "text": "progvscons"
         }
        }
       }
      },
      "text/html": [
       "<div>                            <div id=\"d6a3967b-5d61-4feb-acf6-9b5ddf50475c\" class=\"plotly-graph-div\" style=\"height:525px; width:100%;\"></div>            <script type=\"text/javascript\">                require([\"plotly\"], function(Plotly) {                    window.PLOTLYENV=window.PLOTLYENV || {};                                    if (document.getElementById(\"d6a3967b-5d61-4feb-acf6-9b5ddf50475c\")) {                    Plotly.newPlot(                        \"d6a3967b-5d61-4feb-acf6-9b5ddf50475c\",                        [{\"hovertemplate\":\"<b>%{hovertext}</b><br><br>District=Martigny<br>orientation=%{x}<br>progvscons=%{y}<extra></extra>\",\"hovertext\":[\"Adeline CRETTENAND\",\"Alain L\\u00c9GER\",\"Bernard TROILLET\",\"Cilette CRETTON\",\"Damien LUISIER\",\"Florence CARRON DARBELLAY\",\"Florine CARRON\",\"Ga\\u00ebl BOURGEOIS\",\"G\\u00e9raldine GIANADDA\",\"G\\u00e9raldine GRANGES GUENOT\",\"G\\u00e9raldine GRANGES-GUENOT\",\"Jean-Dominique CIPOLLA\",\"Jean-Marc DUPONT\",\"L\\u00e9onard BENDER\",\"Narcisse CRETTENAND\",\"Natascha FARQUET\",\"Philippe BENDER\",\"Vincent G\\u00dcNTHER\"],\"legendgroup\":\"Martigny\",\"marker\":{\"color\":\"#636efa\",\"symbol\":\"circle\"},\"mode\":\"markers\",\"name\":\"Martigny\",\"orientation\":\"v\",\"showlegend\":true,\"x\":[0.3333333333333333,0.15,-0.14285714285714285,-0.7619047619047619,0.2222222222222222,0.0,-0.7368421052631579,-1.0,-0.8125,-1.0,0.5,0.6666666666666666,-0.8095238095238095,-0.7142857142857143,0.3333333333333333,-0.5263157894736842,0.09523809523809523,-0.8095238095238095],\"xaxis\":\"x\",\"y\":[0.2,0.05405405405405406,-0.2631578947368421,-0.7631578947368421,0.21212121212121213,-0.2702702702702703,-0.7,-0.7391304347826086,-0.7407407407407407,-1.0,0.5416666666666666,0.5526315789473685,-0.8421052631578947,-0.7368421052631579,0.10526315789473684,-0.6388888888888888,0.10526315789473684,-0.8947368421052632],\"yaxis\":\"y\",\"type\":\"scatter\"},{\"hovertemplate\":\"<b>%{hovertext}</b><br><br>District=Monthey<br>orientation=%{x}<br>progvscons=%{y}<extra></extra>\",\"hovertext\":[\"Alain DUBOSSON\",\"Alain SCH\\u00d6NBETT\",\"Arnaud DUBOIS\",\"Bernard OBERHOLZER\",\"Claudy BESSE\",\"C\\u00f4me VUILLE\",\"Damien RABOUD\",\"Fabien THETAZ\",\"Georges VIONNET\",\"Gr\\u00e9goire VANNAY\",\"Jean-Baptiste UDRESSY\",\"Johan ROCHEL\",\"Nicolas CHABLAIS\",\"Olivier DERIVAZ\",\"Patricia CASAYS\",\"Sandro FONTANA\",\"Sophie DUCREY\"],\"legendgroup\":\"Monthey\",\"marker\":{\"color\":\"#EF553B\",\"symbol\":\"circle\"},\"mode\":\"markers\",\"name\":\"Monthey\",\"orientation\":\"v\",\"showlegend\":true,\"x\":[0.7692307692307693,-0.3333333333333333,-0.5714285714285714,-1.0,0.47058823529411764,-0.3333333333333333,0.5294117647058824,-0.7777777777777778,-0.8095238095238095,-0.09523809523809523,0.7647058823529411,-0.7142857142857143,0.0,-0.7,0.11764705882352941,0.09523809523809523,-0.7142857142857143],\"xaxis\":\"x\",\"y\":[0.7619047619047619,-0.47058823529411764,-0.7631578947368421,-0.6363636363636364,0.45161290322580644,-0.3684210526315789,0.5588235294117647,-0.8484848484848485,-0.8421052631578947,-0.10526315789473684,0.6470588235294118,-0.7894736842105263,0.3333333333333333,-0.7297297297297297,-0.09090909090909091,0.07894736842105263,-0.8421052631578947],\"yaxis\":\"y\",\"type\":\"scatter\"},{\"hovertemplate\":\"<b>%{hovertext}</b><br><br>District=Sierre<br>orientation=%{x}<br>progvscons=%{y}<extra></extra>\",\"hovertext\":[\"Alex BONVIN\",\"Blaise CRETTOL\",\"Corinne DUC BONVIN\",\"C\\u00e9lina RAMSAUER\",\"Edmond PERRUCHOUD\",\"Fran\\u00e7ois GENOUD\",\"Gabrielle CORNUT-ZUFFEREY\",\"G\\u00e9raldine POUGET-ZUFFEREY\",\"G\\u00e9rard SALAMIN\",\"Janine REY-SIGGEN\",\"Jean-Daniel NANCHEN\",\"Jean-Marc SAVIOZ\",\"Jean-Pierre REY\",\"Jos\\u00e9phine WAEBER\",\"Mathieu CALOZ\",\"Nicolas BONVIN\",\"St\\u00e9phane CLAVIEN\"],\"legendgroup\":\"Sierre\",\"marker\":{\"color\":\"#00cc96\",\"symbol\":\"circle\"},\"mode\":\"markers\",\"name\":\"Sierre\",\"orientation\":\"v\",\"showlegend\":true,\"x\":[0.7,-0.8095238095238095,-0.7368421052631579,-0.7647058823529411,0.7692307692307693,-0.23809523809523808,-0.7777777777777778,0.19047619047619047,0.3333333333333333,-0.8095238095238095,-0.8095238095238095,0.2857142857142857,-0.3333333333333333,0.3,-0.09523809523809523,0.3333333333333333,-0.42857142857142855],\"xaxis\":\"x\",\"y\":[0.6470588235294118,-0.8333333333333334,-0.8571428571428571,-0.7647058823529411,0.7586206896551724,-0.40540540540540543,-0.8787878787878788,0.02631578947368421,0.15789473684210525,-0.8421052631578947,-0.8421052631578947,0.18421052631578946,-0.42105263157894735,0.21212121212121213,-0.3684210526315789,0.07894736842105263,-0.6756756756756757],\"yaxis\":\"y\",\"type\":\"scatter\"},{\"hovertemplate\":\"<b>%{hovertext}</b><br><br>District=Sion<br>orientation=%{x}<br>progvscons=%{y}<extra></extra>\",\"hovertext\":[\"Alina DARBELLAY\",\"Caroline REYNARD\",\"Christelle HERITIER\",\"Christine ROUX\",\"Emilie PRAZ\",\"Fran\\u00e7ois QUENNOZ\",\"Gabrielle BARRAS\",\"Jean BONNARD\",\"Jean ZERMATTEN\",\"Laurence VUAGNIAUX\",\"Marie ZUCHUAT\",\"Marius DUMOULIN\",\"Pierre SCHERTENLEIB\",\"Pierre-Alain RAEMY\",\"Ruth STALDER\",\"Vincent BOAND\",\"Vincent LUYET\",\"Yann RODUIT\"],\"legendgroup\":\"Sion\",\"marker\":{\"color\":\"#ab63fa\",\"symbol\":\"circle\"},\"mode\":\"markers\",\"name\":\"Sion\",\"orientation\":\"v\",\"showlegend\":true,\"x\":[-0.8461538461538461,-0.7619047619047619,-0.6923076923076923,0.4,-0.8095238095238095,0.42105263157894735,0.5,-0.8095238095238095,-0.7894736842105263,-0.7619047619047619,0.19047619047619047,0.23809523809523808,-0.8095238095238095,-0.5238095238095238,-0.23809523809523808,0.5789473684210527,-0.8095238095238095,0.19047619047619047],\"xaxis\":\"x\",\"y\":[-0.782608695652174,-0.7894736842105263,-0.6956521739130435,0.3448275862068966,-0.8421052631578947,0.4444444444444444,0.4838709677419355,-0.7631578947368421,-0.7777777777777778,-0.868421052631579,0.05714285714285714,0.10526315789473684,-0.8421052631578947,-0.6842105263157895,-0.21052631578947367,0.45454545454545453,-0.8857142857142857,0.10810810810810811],\"yaxis\":\"y\",\"type\":\"scatter\"},{\"hovertemplate\":\"<b>%{hovertext}</b><br><br>District=Goms<br>orientation=%{x}<br>progvscons=%{y}<extra></extra>\",\"hovertext\":[\"Chantal CARLEN\",\"Peter B\\u00c4HLER\"],\"legendgroup\":\"Goms\",\"marker\":{\"color\":\"#FFA15A\",\"symbol\":\"circle\"},\"mode\":\"markers\",\"name\":\"Goms\",\"orientation\":\"v\",\"showlegend\":true,\"x\":[0.6,0.5789473684210527],\"xaxis\":\"x\",\"y\":[0.5555555555555556,0.7714285714285715],\"yaxis\":\"y\",\"type\":\"scatter\"},{\"hovertemplate\":\"<b>%{hovertext}</b><br><br>District=Brig<br>orientation=%{x}<br>progvscons=%{y}<extra></extra>\",\"hovertext\":[\"Christian ESCHER\",\"Claudia ALPIGER\",\"Felix RUPPEN\",\"German EYER\",\"Kurt REGOTZ\",\"Leander WILLINER\",\"Maria ARNOLD-ESCHER\",\"Monika HOLZEGGER\",\"Rafael WELSCHEN\",\"Ralph KUMMER\",\"Remo SCHNYDER\"],\"legendgroup\":\"Brig\",\"marker\":{\"color\":\"#19d3f3\",\"symbol\":\"circle\"},\"mode\":\"markers\",\"name\":\"Brig\",\"orientation\":\"v\",\"showlegend\":true,\"x\":[-0.05263157894736842,-0.7,0.75,-0.7142857142857143,0.047619047619047616,0.15,0.47368421052631576,-0.38095238095238093,0.5384615384615384,0.23076923076923078,0.375],\"xaxis\":\"x\",\"y\":[-0.17142857142857143,-0.6216216216216216,0.4375,-0.5945945945945946,0.1111111111111111,0.02702702702702703,0.41935483870967744,-0.13157894736842105,0.48148148148148145,0.6923076923076923,0.5862068965517241],\"yaxis\":\"y\",\"type\":\"scatter\"},{\"hovertemplate\":\"<b>%{hovertext}</b><br><br>District=Conthey<br>orientation=%{x}<br>progvscons=%{y}<extra></extra>\",\"hovertext\":[\"Claude NAN\\u00c7OZ\",\"Damien CLERC\",\"Damien FUMEAUX\",\"Florent FAVRE\",\"Florian EVEQUOZ\",\"Lucile CURDY\",\"L\\u00e9a ROUILLER DESSIMOZ\",\"Pascale FUMEAUX\",\"Ralph DESSIMOZ\",\"Romain UDRY\",\"Sophie BORNET\"],\"legendgroup\":\"Conthey\",\"marker\":{\"color\":\"#FF6692\",\"symbol\":\"circle\"},\"mode\":\"markers\",\"name\":\"Conthey\",\"orientation\":\"v\",\"showlegend\":true,\"x\":[0.125,0.7777777777777778,0.6666666666666666,0.375,-0.9047619047619048,-0.7222222222222222,-0.875,-0.7647058823529411,0.21052631578947367,0.26666666666666666,0.10526315789473684],\"xaxis\":\"x\",\"y\":[-0.13333333333333333,0.625,0.631578947368421,0.15151515151515152,-0.7894736842105263,-0.7878787878787878,-0.7878787878787878,-0.8571428571428571,0.0,0.03571428571428571,0.02857142857142857],\"yaxis\":\"y\",\"type\":\"scatter\"},{\"hovertemplate\":\"<b>%{hovertext}</b><br><br>District=H\\u00e9rens<br>orientation=%{x}<br>progvscons=%{y}<extra></extra>\",\"hovertext\":[\"Claudia GAILLARD MOREND\",\"Fr\\u00e9d\\u00e9ric PITTELOUD\",\"Jacques BLANC\",\"Marc-Antoine GENOLET\",\"M\\u00e9lanie FOLLONIER\"],\"legendgroup\":\"H\\u00e9rens\",\"marker\":{\"color\":\"#B6E880\",\"symbol\":\"circle\"},\"mode\":\"markers\",\"name\":\"H\\u00e9rens\",\"orientation\":\"v\",\"showlegend\":true,\"x\":[-0.7142857142857143,0.23809523809523808,-0.6111111111111112,0.7142857142857143,0.125],\"xaxis\":\"x\",\"y\":[-0.8421052631578947,0.15789473684210525,-0.59375,0.7105263157894737,-0.25],\"yaxis\":\"y\",\"type\":\"scatter\"},{\"hovertemplate\":\"<b>%{hovertext}</b><br><br>District=Visp<br>orientation=%{x}<br>progvscons=%{y}<extra></extra>\",\"hovertext\":[\"Danica ZURBRIGGEN LEHNER\",\"Fabian ZURBRIGGEN\",\"Flavio SCHMID\",\"Ida H\\u00c4FLIGER\",\"Martin SCH\\u00dcRCH\",\"Matteo AB\\u00c4CHERLI\",\"Michael BURGENER\",\"Michael KREUZER\",\"Paul BURGENER\",\"Peter BURRI\",\"Rahel ZIMMERMANN\"],\"legendgroup\":\"Visp\",\"marker\":{\"color\":\"#FF97FF\",\"symbol\":\"circle\"},\"mode\":\"markers\",\"name\":\"Visp\",\"orientation\":\"v\",\"showlegend\":true,\"x\":[-0.3333333333333333,0.5238095238095238,0.3333333333333333,-0.05263157894736842,0.7142857142857143,0.42857142857142855,0.42857142857142855,0.5238095238095238,-0.11764705882352941,-0.14285714285714285,-0.7],\"xaxis\":\"x\",\"y\":[-0.20833333333333334,0.7631578947368421,0.23809523809523808,-0.12121212121212122,0.47368421052631576,0.3684210526315789,0.2631578947368421,0.6842105263157895,-0.1,0.0,-0.6216216216216216],\"yaxis\":\"y\",\"type\":\"scatter\"},{\"hovertemplate\":\"<b>%{hovertext}</b><br><br>District=Westlich Raron<br>orientation=%{x}<br>progvscons=%{y}<extra></extra>\",\"hovertext\":[\"Dominik KNUBEL\",\"Hermann BRUNNER\",\"Lukas KALBERMATTEN\",\"Romano AMACKER\"],\"legendgroup\":\"Westlich Raron\",\"marker\":{\"color\":\"#FECB52\",\"symbol\":\"circle\"},\"mode\":\"markers\",\"name\":\"Westlich Raron\",\"orientation\":\"v\",\"showlegend\":true,\"x\":[-0.15,-0.09523809523809523,0.2222222222222222,0.5238095238095238],\"xaxis\":\"x\",\"y\":[-0.05405405405405406,-0.02631578947368421,0.0625,0.7368421052631579],\"yaxis\":\"y\",\"type\":\"scatter\"},{\"hovertemplate\":\"<b>%{hovertext}</b><br><br>District=Leuk<br>orientation=%{x}<br>progvscons=%{y}<extra></extra>\",\"hovertext\":[\"Fabienne MURMANN\",\"Lukas J\\u00c4GER\",\"Madeleine KUONEN-EGGO\",\"Rainer MATHIER\",\"Thomas MATTER\"],\"legendgroup\":\"Leuk\",\"marker\":{\"color\":\"#636efa\",\"symbol\":\"circle\"},\"mode\":\"markers\",\"name\":\"Leuk\",\"orientation\":\"v\",\"showlegend\":true,\"x\":[0.42857142857142855,0.5384615384615384,-0.7222222222222222,0.42857142857142855,-0.047619047619047616],\"xaxis\":\"x\",\"y\":[0.2631578947368421,0.76,-0.6666666666666666,0.3157894736842105,-0.21052631578947367],\"yaxis\":\"y\",\"type\":\"scatter\"},{\"hovertemplate\":\"<b>%{hovertext}</b><br><br>District=\\u00d6stlich Raron<br>orientation=%{x}<br>progvscons=%{y}<extra></extra>\",\"hovertext\":[\"Gerhard SCHMID\"],\"legendgroup\":\"\\u00d6stlich Raron\",\"marker\":{\"color\":\"#EF553B\",\"symbol\":\"circle\"},\"mode\":\"markers\",\"name\":\"\\u00d6stlich Raron\",\"orientation\":\"v\",\"showlegend\":true,\"x\":[-0.7142857142857143],\"xaxis\":\"x\",\"y\":[-0.631578947368421],\"yaxis\":\"y\",\"type\":\"scatter\"},{\"hovertemplate\":\"<b>%{hovertext}</b><br><br>District=Entremont<br>orientation=%{x}<br>progvscons=%{y}<extra></extra>\",\"hovertext\":[\"Jean-Fran\\u00e7ois LOVEY\",\"J\\u00e9r\\u00f4me FORMAZ\",\"Kamy MAY\",\"Mathieu SARRASIN\",\"Natacha MARET\",\"Pierre DARBELLAY\"],\"legendgroup\":\"Entremont\",\"marker\":{\"color\":\"#00cc96\",\"symbol\":\"circle\"},\"mode\":\"markers\",\"name\":\"Entremont\",\"orientation\":\"v\",\"showlegend\":true,\"x\":[-0.8,0.6842105263157895,0.14285714285714285,0.0,0.2857142857142857,0.75],\"xaxis\":\"x\",\"y\":[-0.8333333333333334,0.5428571428571428,0.15789473684210525,-0.0967741935483871,0.05263157894736842,0.3333333333333333],\"yaxis\":\"y\",\"type\":\"scatter\"},{\"hovertemplate\":\"<b>%{hovertext}</b><br><br>District=St-Maurice<br>orientation=%{x}<br>progvscons=%{y}<extra></extra>\",\"hovertext\":[\"Jenny VOEFFRAY\",\"Martine ROUILLER\",\"Nicolas METTAN\",\"Raymonde SCHOCH\",\"Sabine FOURNIER\"],\"legendgroup\":\"St-Maurice\",\"marker\":{\"color\":\"#ab63fa\",\"symbol\":\"circle\"},\"mode\":\"markers\",\"name\":\"St-Maurice\",\"orientation\":\"v\",\"showlegend\":true,\"x\":[-0.17647058823529413,-0.8095238095238095,-0.4,-0.6666666666666666,-0.8095238095238095],\"xaxis\":\"x\",\"y\":[-0.3333333333333333,-0.868421052631579,-0.4074074074074074,-0.5789473684210527,-0.8947368421052632],\"yaxis\":\"y\",\"type\":\"scatter\"}],                        {\"template\":{\"data\":{\"histogram2dcontour\":[{\"type\":\"histogram2dcontour\",\"colorbar\":{\"outlinewidth\":0,\"ticks\":\"\"},\"colorscale\":[[0.0,\"#0d0887\"],[0.1111111111111111,\"#46039f\"],[0.2222222222222222,\"#7201a8\"],[0.3333333333333333,\"#9c179e\"],[0.4444444444444444,\"#bd3786\"],[0.5555555555555556,\"#d8576b\"],[0.6666666666666666,\"#ed7953\"],[0.7777777777777778,\"#fb9f3a\"],[0.8888888888888888,\"#fdca26\"],[1.0,\"#f0f921\"]]}],\"choropleth\":[{\"type\":\"choropleth\",\"colorbar\":{\"outlinewidth\":0,\"ticks\":\"\"}}],\"histogram2d\":[{\"type\":\"histogram2d\",\"colorbar\":{\"outlinewidth\":0,\"ticks\":\"\"},\"colorscale\":[[0.0,\"#0d0887\"],[0.1111111111111111,\"#46039f\"],[0.2222222222222222,\"#7201a8\"],[0.3333333333333333,\"#9c179e\"],[0.4444444444444444,\"#bd3786\"],[0.5555555555555556,\"#d8576b\"],[0.6666666666666666,\"#ed7953\"],[0.7777777777777778,\"#fb9f3a\"],[0.8888888888888888,\"#fdca26\"],[1.0,\"#f0f921\"]]}],\"heatmap\":[{\"type\":\"heatmap\",\"colorbar\":{\"outlinewidth\":0,\"ticks\":\"\"},\"colorscale\":[[0.0,\"#0d0887\"],[0.1111111111111111,\"#46039f\"],[0.2222222222222222,\"#7201a8\"],[0.3333333333333333,\"#9c179e\"],[0.4444444444444444,\"#bd3786\"],[0.5555555555555556,\"#d8576b\"],[0.6666666666666666,\"#ed7953\"],[0.7777777777777778,\"#fb9f3a\"],[0.8888888888888888,\"#fdca26\"],[1.0,\"#f0f921\"]]}],\"heatmapgl\":[{\"type\":\"heatmapgl\",\"colorbar\":{\"outlinewidth\":0,\"ticks\":\"\"},\"colorscale\":[[0.0,\"#0d0887\"],[0.1111111111111111,\"#46039f\"],[0.2222222222222222,\"#7201a8\"],[0.3333333333333333,\"#9c179e\"],[0.4444444444444444,\"#bd3786\"],[0.5555555555555556,\"#d8576b\"],[0.6666666666666666,\"#ed7953\"],[0.7777777777777778,\"#fb9f3a\"],[0.8888888888888888,\"#fdca26\"],[1.0,\"#f0f921\"]]}],\"contourcarpet\":[{\"type\":\"contourcarpet\",\"colorbar\":{\"outlinewidth\":0,\"ticks\":\"\"}}],\"contour\":[{\"type\":\"contour\",\"colorbar\":{\"outlinewidth\":0,\"ticks\":\"\"},\"colorscale\":[[0.0,\"#0d0887\"],[0.1111111111111111,\"#46039f\"],[0.2222222222222222,\"#7201a8\"],[0.3333333333333333,\"#9c179e\"],[0.4444444444444444,\"#bd3786\"],[0.5555555555555556,\"#d8576b\"],[0.6666666666666666,\"#ed7953\"],[0.7777777777777778,\"#fb9f3a\"],[0.8888888888888888,\"#fdca26\"],[1.0,\"#f0f921\"]]}],\"surface\":[{\"type\":\"surface\",\"colorbar\":{\"outlinewidth\":0,\"ticks\":\"\"},\"colorscale\":[[0.0,\"#0d0887\"],[0.1111111111111111,\"#46039f\"],[0.2222222222222222,\"#7201a8\"],[0.3333333333333333,\"#9c179e\"],[0.4444444444444444,\"#bd3786\"],[0.5555555555555556,\"#d8576b\"],[0.6666666666666666,\"#ed7953\"],[0.7777777777777778,\"#fb9f3a\"],[0.8888888888888888,\"#fdca26\"],[1.0,\"#f0f921\"]]}],\"mesh3d\":[{\"type\":\"mesh3d\",\"colorbar\":{\"outlinewidth\":0,\"ticks\":\"\"}}],\"scatter\":[{\"fillpattern\":{\"fillmode\":\"overlay\",\"size\":10,\"solidity\":0.2},\"type\":\"scatter\"}],\"parcoords\":[{\"type\":\"parcoords\",\"line\":{\"colorbar\":{\"outlinewidth\":0,\"ticks\":\"\"}}}],\"scatterpolargl\":[{\"type\":\"scatterpolargl\",\"marker\":{\"colorbar\":{\"outlinewidth\":0,\"ticks\":\"\"}}}],\"bar\":[{\"error_x\":{\"color\":\"#2a3f5f\"},\"error_y\":{\"color\":\"#2a3f5f\"},\"marker\":{\"line\":{\"color\":\"#E5ECF6\",\"width\":0.5},\"pattern\":{\"fillmode\":\"overlay\",\"size\":10,\"solidity\":0.2}},\"type\":\"bar\"}],\"scattergeo\":[{\"type\":\"scattergeo\",\"marker\":{\"colorbar\":{\"outlinewidth\":0,\"ticks\":\"\"}}}],\"scatterpolar\":[{\"type\":\"scatterpolar\",\"marker\":{\"colorbar\":{\"outlinewidth\":0,\"ticks\":\"\"}}}],\"histogram\":[{\"marker\":{\"pattern\":{\"fillmode\":\"overlay\",\"size\":10,\"solidity\":0.2}},\"type\":\"histogram\"}],\"scattergl\":[{\"type\":\"scattergl\",\"marker\":{\"colorbar\":{\"outlinewidth\":0,\"ticks\":\"\"}}}],\"scatter3d\":[{\"type\":\"scatter3d\",\"line\":{\"colorbar\":{\"outlinewidth\":0,\"ticks\":\"\"}},\"marker\":{\"colorbar\":{\"outlinewidth\":0,\"ticks\":\"\"}}}],\"scattermapbox\":[{\"type\":\"scattermapbox\",\"marker\":{\"colorbar\":{\"outlinewidth\":0,\"ticks\":\"\"}}}],\"scatterternary\":[{\"type\":\"scatterternary\",\"marker\":{\"colorbar\":{\"outlinewidth\":0,\"ticks\":\"\"}}}],\"scattercarpet\":[{\"type\":\"scattercarpet\",\"marker\":{\"colorbar\":{\"outlinewidth\":0,\"ticks\":\"\"}}}],\"carpet\":[{\"aaxis\":{\"endlinecolor\":\"#2a3f5f\",\"gridcolor\":\"white\",\"linecolor\":\"white\",\"minorgridcolor\":\"white\",\"startlinecolor\":\"#2a3f5f\"},\"baxis\":{\"endlinecolor\":\"#2a3f5f\",\"gridcolor\":\"white\",\"linecolor\":\"white\",\"minorgridcolor\":\"white\",\"startlinecolor\":\"#2a3f5f\"},\"type\":\"carpet\"}],\"table\":[{\"cells\":{\"fill\":{\"color\":\"#EBF0F8\"},\"line\":{\"color\":\"white\"}},\"header\":{\"fill\":{\"color\":\"#C8D4E3\"},\"line\":{\"color\":\"white\"}},\"type\":\"table\"}],\"barpolar\":[{\"marker\":{\"line\":{\"color\":\"#E5ECF6\",\"width\":0.5},\"pattern\":{\"fillmode\":\"overlay\",\"size\":10,\"solidity\":0.2}},\"type\":\"barpolar\"}],\"pie\":[{\"automargin\":true,\"type\":\"pie\"}]},\"layout\":{\"autotypenumbers\":\"strict\",\"colorway\":[\"#636efa\",\"#EF553B\",\"#00cc96\",\"#ab63fa\",\"#FFA15A\",\"#19d3f3\",\"#FF6692\",\"#B6E880\",\"#FF97FF\",\"#FECB52\"],\"font\":{\"color\":\"#2a3f5f\"},\"hovermode\":\"closest\",\"hoverlabel\":{\"align\":\"left\"},\"paper_bgcolor\":\"white\",\"plot_bgcolor\":\"#E5ECF6\",\"polar\":{\"bgcolor\":\"#E5ECF6\",\"angularaxis\":{\"gridcolor\":\"white\",\"linecolor\":\"white\",\"ticks\":\"\"},\"radialaxis\":{\"gridcolor\":\"white\",\"linecolor\":\"white\",\"ticks\":\"\"}},\"ternary\":{\"bgcolor\":\"#E5ECF6\",\"aaxis\":{\"gridcolor\":\"white\",\"linecolor\":\"white\",\"ticks\":\"\"},\"baxis\":{\"gridcolor\":\"white\",\"linecolor\":\"white\",\"ticks\":\"\"},\"caxis\":{\"gridcolor\":\"white\",\"linecolor\":\"white\",\"ticks\":\"\"}},\"coloraxis\":{\"colorbar\":{\"outlinewidth\":0,\"ticks\":\"\"}},\"colorscale\":{\"sequential\":[[0.0,\"#0d0887\"],[0.1111111111111111,\"#46039f\"],[0.2222222222222222,\"#7201a8\"],[0.3333333333333333,\"#9c179e\"],[0.4444444444444444,\"#bd3786\"],[0.5555555555555556,\"#d8576b\"],[0.6666666666666666,\"#ed7953\"],[0.7777777777777778,\"#fb9f3a\"],[0.8888888888888888,\"#fdca26\"],[1.0,\"#f0f921\"]],\"sequentialminus\":[[0.0,\"#0d0887\"],[0.1111111111111111,\"#46039f\"],[0.2222222222222222,\"#7201a8\"],[0.3333333333333333,\"#9c179e\"],[0.4444444444444444,\"#bd3786\"],[0.5555555555555556,\"#d8576b\"],[0.6666666666666666,\"#ed7953\"],[0.7777777777777778,\"#fb9f3a\"],[0.8888888888888888,\"#fdca26\"],[1.0,\"#f0f921\"]],\"diverging\":[[0,\"#8e0152\"],[0.1,\"#c51b7d\"],[0.2,\"#de77ae\"],[0.3,\"#f1b6da\"],[0.4,\"#fde0ef\"],[0.5,\"#f7f7f7\"],[0.6,\"#e6f5d0\"],[0.7,\"#b8e186\"],[0.8,\"#7fbc41\"],[0.9,\"#4d9221\"],[1,\"#276419\"]]},\"xaxis\":{\"gridcolor\":\"white\",\"linecolor\":\"white\",\"ticks\":\"\",\"title\":{\"standoff\":15},\"zerolinecolor\":\"white\",\"automargin\":true,\"zerolinewidth\":2},\"yaxis\":{\"gridcolor\":\"white\",\"linecolor\":\"white\",\"ticks\":\"\",\"title\":{\"standoff\":15},\"zerolinecolor\":\"white\",\"automargin\":true,\"zerolinewidth\":2},\"scene\":{\"xaxis\":{\"backgroundcolor\":\"#E5ECF6\",\"gridcolor\":\"white\",\"linecolor\":\"white\",\"showbackground\":true,\"ticks\":\"\",\"zerolinecolor\":\"white\",\"gridwidth\":2},\"yaxis\":{\"backgroundcolor\":\"#E5ECF6\",\"gridcolor\":\"white\",\"linecolor\":\"white\",\"showbackground\":true,\"ticks\":\"\",\"zerolinecolor\":\"white\",\"gridwidth\":2},\"zaxis\":{\"backgroundcolor\":\"#E5ECF6\",\"gridcolor\":\"white\",\"linecolor\":\"white\",\"showbackground\":true,\"ticks\":\"\",\"zerolinecolor\":\"white\",\"gridwidth\":2}},\"shapedefaults\":{\"line\":{\"color\":\"#2a3f5f\"}},\"annotationdefaults\":{\"arrowcolor\":\"#2a3f5f\",\"arrowhead\":0,\"arrowwidth\":1},\"geo\":{\"bgcolor\":\"white\",\"landcolor\":\"#E5ECF6\",\"subunitcolor\":\"white\",\"showland\":true,\"showlakes\":true,\"lakecolor\":\"white\"},\"title\":{\"x\":0.05},\"mapbox\":{\"style\":\"light\"}}},\"xaxis\":{\"anchor\":\"y\",\"domain\":[0.0,1.0],\"title\":{\"text\":\"orientation\"},\"range\":[-1,1]},\"yaxis\":{\"anchor\":\"x\",\"domain\":[0.0,1.0],\"title\":{\"text\":\"progvscons\"},\"range\":[-1,1]},\"legend\":{\"title\":{\"text\":\"District\"},\"tracegroupgap\":0},\"margin\":{\"t\":60}},                        {\"responsive\": true}                    ).then(function(){\n",
       "                            \n",
       "var gd = document.getElementById('d6a3967b-5d61-4feb-acf6-9b5ddf50475c');\n",
       "var x = new MutationObserver(function (mutations, observer) {{\n",
       "        var display = window.getComputedStyle(gd).display;\n",
       "        if (!display || display === 'none') {{\n",
       "            console.log([gd, 'removed!']);\n",
       "            Plotly.purge(gd);\n",
       "            observer.disconnect();\n",
       "        }}\n",
       "}});\n",
       "\n",
       "// Listen for the removal of the full notebook cells\n",
       "var notebookContainer = gd.closest('#notebook-container');\n",
       "if (notebookContainer) {{\n",
       "    x.observe(notebookContainer, {childList: true});\n",
       "}}\n",
       "\n",
       "// Listen for the clearing of the current output cell\n",
       "var outputEl = gd.closest('.output');\n",
       "if (outputEl) {{\n",
       "    x.observe(outputEl, {childList: true});\n",
       "}}\n",
       "\n",
       "                        })                };                });            </script>        </div>"
      ]
     },
     "metadata": {},
     "output_type": "display_data"
    }
   ],
   "source": [
    "fig = px.scatter(counts_df, x=\"orientation\", y=\"progvscons\",  color='District', hover_name='name')\n",
    "fig.update_xaxes(range=[-1, 1])\n",
    "fig.update_yaxes(range=[-1, 1])\n",
    "fig.show()"
   ]
  },
  {
   "cell_type": "code",
   "execution_count": 46,
   "id": "d4f7cac7",
   "metadata": {},
   "outputs": [
    {
     "data": {
      "application/vnd.plotly.v1+json": {
       "config": {
        "plotlyServerURL": "https://plot.ly"
       },
       "data": [
        {
         "hovertemplate": "<b>%{hovertext}</b><br><br>Genre=F<br>orientation=%{x}<br>progvscons=%{y}<extra></extra>",
         "hovertext": [
          "Adeline CRETTENAND",
          "Alina DARBELLAY",
          "Caroline REYNARD",
          "Chantal CARLEN",
          "Christelle HERITIER",
          "Christine ROUX",
          "Cilette CRETTON",
          "Claudia ALPIGER",
          "Claudia GAILLARD MOREND",
          "Corinne DUC BONVIN",
          "Célina RAMSAUER",
          "Danica ZURBRIGGEN LEHNER",
          "Emilie PRAZ",
          "Fabienne MURMANN",
          "Florence CARRON DARBELLAY",
          "Florine CARRON",
          "Gabrielle BARRAS",
          "Gabrielle CORNUT-ZUFFEREY",
          "Géraldine GIANADDA",
          "Géraldine GRANGES GUENOT",
          "Géraldine GRANGES-GUENOT",
          "Géraldine POUGET-ZUFFEREY",
          "Ida HÄFLIGER",
          "Janine REY-SIGGEN",
          "Jenny VOEFFRAY",
          "Joséphine WAEBER",
          "Kamy MAY",
          "Laurence VUAGNIAUX",
          "Lucile CURDY",
          "Léa ROUILLER DESSIMOZ",
          "Madeleine KUONEN-EGGO",
          "Maria ARNOLD-ESCHER",
          "Marie ZUCHUAT",
          "Martine ROUILLER",
          "Monika HOLZEGGER",
          "Mélanie FOLLONIER",
          "Natacha MARET",
          "Natascha FARQUET",
          "Pascale FUMEAUX",
          "Patricia CASAYS",
          "Rahel ZIMMERMANN",
          "Raymonde SCHOCH",
          "Ruth STALDER",
          "Sabine FOURNIER",
          "Sophie BORNET",
          "Sophie DUCREY"
         ],
         "legendgroup": "F",
         "marker": {
          "color": "#636efa",
          "symbol": "circle"
         },
         "mode": "markers",
         "name": "F",
         "orientation": "v",
         "showlegend": true,
         "type": "scatter",
         "x": [
          0.3333333333333333,
          -0.8461538461538461,
          -0.7619047619047619,
          0.6,
          -0.6923076923076923,
          0.4,
          -0.7619047619047619,
          -0.7,
          -0.7142857142857143,
          -0.7368421052631579,
          -0.7647058823529411,
          -0.3333333333333333,
          -0.8095238095238095,
          0.42857142857142855,
          0,
          -0.7368421052631579,
          0.5,
          -0.7777777777777778,
          -0.8125,
          -1,
          0.5,
          0.19047619047619047,
          -0.05263157894736842,
          -0.8095238095238095,
          -0.17647058823529413,
          0.3,
          0.14285714285714285,
          -0.7619047619047619,
          -0.7222222222222222,
          -0.875,
          -0.7222222222222222,
          0.47368421052631576,
          0.19047619047619047,
          -0.8095238095238095,
          -0.38095238095238093,
          0.125,
          0.2857142857142857,
          -0.5263157894736842,
          -0.7647058823529411,
          0.11764705882352941,
          -0.7,
          -0.6666666666666666,
          -0.23809523809523808,
          -0.8095238095238095,
          0.10526315789473684,
          -0.7142857142857143
         ],
         "xaxis": "x",
         "y": [
          0.2,
          -0.782608695652174,
          -0.7894736842105263,
          0.5555555555555556,
          -0.6956521739130435,
          0.3448275862068966,
          -0.7631578947368421,
          -0.6216216216216216,
          -0.8421052631578947,
          -0.8571428571428571,
          -0.7647058823529411,
          -0.20833333333333334,
          -0.8421052631578947,
          0.2631578947368421,
          -0.2702702702702703,
          -0.7,
          0.4838709677419355,
          -0.8787878787878788,
          -0.7407407407407407,
          -1,
          0.5416666666666666,
          0.02631578947368421,
          -0.12121212121212122,
          -0.8421052631578947,
          -0.3333333333333333,
          0.21212121212121213,
          0.15789473684210525,
          -0.868421052631579,
          -0.7878787878787878,
          -0.7878787878787878,
          -0.6666666666666666,
          0.41935483870967744,
          0.05714285714285714,
          -0.868421052631579,
          -0.13157894736842105,
          -0.25,
          0.05263157894736842,
          -0.6388888888888888,
          -0.8571428571428571,
          -0.09090909090909091,
          -0.6216216216216216,
          -0.5789473684210527,
          -0.21052631578947367,
          -0.8947368421052632,
          0.02857142857142857,
          -0.8421052631578947
         ],
         "yaxis": "y"
        },
        {
         "hovertemplate": "<b>%{hovertext}</b><br><br>Genre=H<br>orientation=%{x}<br>progvscons=%{y}<extra></extra>",
         "hovertext": [
          "Alain DUBOSSON",
          "Alain LÉGER",
          "Alain SCHÖNBETT",
          "Alex BONVIN",
          "Arnaud DUBOIS",
          "Bernard OBERHOLZER",
          "Bernard TROILLET",
          "Blaise CRETTOL",
          "Christian ESCHER",
          "Claude NANÇOZ",
          "Claudy BESSE",
          "Côme VUILLE",
          "Damien CLERC",
          "Damien FUMEAUX",
          "Damien LUISIER",
          "Damien RABOUD",
          "Dominik KNUBEL",
          "Edmond PERRUCHOUD",
          "Fabian ZURBRIGGEN",
          "Fabien THETAZ",
          "Felix RUPPEN",
          "Flavio SCHMID",
          "Florent FAVRE",
          "Florian EVEQUOZ",
          "François GENOUD",
          "François QUENNOZ",
          "Frédéric PITTELOUD",
          "Gaël BOURGEOIS",
          "Georges VIONNET",
          "Gerhard SCHMID",
          "German EYER",
          "Grégoire VANNAY",
          "Gérard SALAMIN",
          "Hermann BRUNNER",
          "Jacques BLANC",
          "Jean BONNARD",
          "Jean ZERMATTEN",
          "Jean-Baptiste UDRESSY",
          "Jean-Daniel NANCHEN",
          "Jean-Dominique CIPOLLA",
          "Jean-François LOVEY",
          "Jean-Marc DUPONT",
          "Jean-Marc SAVIOZ",
          "Jean-Pierre REY",
          "Johan ROCHEL",
          "Jérôme FORMAZ",
          "Kurt REGOTZ",
          "Leander WILLINER",
          "Lukas JÄGER",
          "Lukas KALBERMATTEN",
          "Léonard BENDER",
          "Marc-Antoine GENOLET",
          "Marius DUMOULIN",
          "Martin SCHÜRCH",
          "Mathieu CALOZ",
          "Mathieu SARRASIN",
          "Matteo ABÄCHERLI",
          "Michael BURGENER",
          "Michael KREUZER",
          "Narcisse CRETTENAND",
          "Nicolas BONVIN",
          "Nicolas CHABLAIS",
          "Nicolas METTAN",
          "Olivier DERIVAZ",
          "Paul BURGENER",
          "Peter BURRI",
          "Peter BÄHLER",
          "Philippe BENDER",
          "Pierre DARBELLAY",
          "Pierre SCHERTENLEIB",
          "Pierre-Alain RAEMY",
          "Rafael WELSCHEN",
          "Rainer MATHIER",
          "Ralph DESSIMOZ",
          "Ralph KUMMER",
          "Remo SCHNYDER",
          "Romain UDRY",
          "Romano AMACKER",
          "Sandro FONTANA",
          "Stéphane CLAVIEN",
          "Thomas MATTER",
          "Vincent BOAND",
          "Vincent GÜNTHER",
          "Vincent LUYET",
          "Yann RODUIT"
         ],
         "legendgroup": "H",
         "marker": {
          "color": "#EF553B",
          "symbol": "circle"
         },
         "mode": "markers",
         "name": "H",
         "orientation": "v",
         "showlegend": true,
         "type": "scatter",
         "x": [
          0.7692307692307693,
          0.15,
          -0.3333333333333333,
          0.7,
          -0.5714285714285714,
          -1,
          -0.14285714285714285,
          -0.8095238095238095,
          -0.05263157894736842,
          0.125,
          0.47058823529411764,
          -0.3333333333333333,
          0.7777777777777778,
          0.6666666666666666,
          0.2222222222222222,
          0.5294117647058824,
          -0.15,
          0.7692307692307693,
          0.5238095238095238,
          -0.7777777777777778,
          0.75,
          0.3333333333333333,
          0.375,
          -0.9047619047619048,
          -0.23809523809523808,
          0.42105263157894735,
          0.23809523809523808,
          -1,
          -0.8095238095238095,
          -0.7142857142857143,
          -0.7142857142857143,
          -0.09523809523809523,
          0.3333333333333333,
          -0.09523809523809523,
          -0.6111111111111112,
          -0.8095238095238095,
          -0.7894736842105263,
          0.7647058823529411,
          -0.8095238095238095,
          0.6666666666666666,
          -0.8,
          -0.8095238095238095,
          0.2857142857142857,
          -0.3333333333333333,
          -0.7142857142857143,
          0.6842105263157895,
          0.047619047619047616,
          0.15,
          0.5384615384615384,
          0.2222222222222222,
          -0.7142857142857143,
          0.7142857142857143,
          0.23809523809523808,
          0.7142857142857143,
          -0.09523809523809523,
          0,
          0.42857142857142855,
          0.42857142857142855,
          0.5238095238095238,
          0.3333333333333333,
          0.3333333333333333,
          0,
          -0.4,
          -0.7,
          -0.11764705882352941,
          -0.14285714285714285,
          0.5789473684210527,
          0.09523809523809523,
          0.75,
          -0.8095238095238095,
          -0.5238095238095238,
          0.5384615384615384,
          0.42857142857142855,
          0.21052631578947367,
          0.23076923076923078,
          0.375,
          0.26666666666666666,
          0.5238095238095238,
          0.09523809523809523,
          -0.42857142857142855,
          -0.047619047619047616,
          0.5789473684210527,
          -0.8095238095238095,
          -0.8095238095238095,
          0.19047619047619047
         ],
         "xaxis": "x",
         "y": [
          0.7619047619047619,
          0.05405405405405406,
          -0.47058823529411764,
          0.6470588235294118,
          -0.7631578947368421,
          -0.6363636363636364,
          -0.2631578947368421,
          -0.8333333333333334,
          -0.17142857142857143,
          -0.13333333333333333,
          0.45161290322580644,
          -0.3684210526315789,
          0.625,
          0.631578947368421,
          0.21212121212121213,
          0.5588235294117647,
          -0.05405405405405406,
          0.7586206896551724,
          0.7631578947368421,
          -0.8484848484848485,
          0.4375,
          0.23809523809523808,
          0.15151515151515152,
          -0.7894736842105263,
          -0.40540540540540543,
          0.4444444444444444,
          0.15789473684210525,
          -0.7391304347826086,
          -0.8421052631578947,
          -0.631578947368421,
          -0.5945945945945946,
          -0.10526315789473684,
          0.15789473684210525,
          -0.02631578947368421,
          -0.59375,
          -0.7631578947368421,
          -0.7777777777777778,
          0.6470588235294118,
          -0.8421052631578947,
          0.5526315789473685,
          -0.8333333333333334,
          -0.8421052631578947,
          0.18421052631578946,
          -0.42105263157894735,
          -0.7894736842105263,
          0.5428571428571428,
          0.1111111111111111,
          0.02702702702702703,
          0.76,
          0.0625,
          -0.7368421052631579,
          0.7105263157894737,
          0.10526315789473684,
          0.47368421052631576,
          -0.3684210526315789,
          -0.0967741935483871,
          0.3684210526315789,
          0.2631578947368421,
          0.6842105263157895,
          0.10526315789473684,
          0.07894736842105263,
          0.3333333333333333,
          -0.4074074074074074,
          -0.7297297297297297,
          -0.1,
          0,
          0.7714285714285715,
          0.10526315789473684,
          0.3333333333333333,
          -0.8421052631578947,
          -0.6842105263157895,
          0.48148148148148145,
          0.3157894736842105,
          0,
          0.6923076923076923,
          0.5862068965517241,
          0.03571428571428571,
          0.7368421052631579,
          0.07894736842105263,
          -0.6756756756756757,
          -0.21052631578947367,
          0.45454545454545453,
          -0.8947368421052632,
          -0.8857142857142857,
          0.10810810810810811
         ],
         "yaxis": "y"
        }
       ],
       "layout": {
        "legend": {
         "title": {
          "text": "Genre"
         },
         "tracegroupgap": 0
        },
        "margin": {
         "t": 60
        },
        "template": {
         "data": {
          "bar": [
           {
            "error_x": {
             "color": "#2a3f5f"
            },
            "error_y": {
             "color": "#2a3f5f"
            },
            "marker": {
             "line": {
              "color": "#E5ECF6",
              "width": 0.5
             },
             "pattern": {
              "fillmode": "overlay",
              "size": 10,
              "solidity": 0.2
             }
            },
            "type": "bar"
           }
          ],
          "barpolar": [
           {
            "marker": {
             "line": {
              "color": "#E5ECF6",
              "width": 0.5
             },
             "pattern": {
              "fillmode": "overlay",
              "size": 10,
              "solidity": 0.2
             }
            },
            "type": "barpolar"
           }
          ],
          "carpet": [
           {
            "aaxis": {
             "endlinecolor": "#2a3f5f",
             "gridcolor": "white",
             "linecolor": "white",
             "minorgridcolor": "white",
             "startlinecolor": "#2a3f5f"
            },
            "baxis": {
             "endlinecolor": "#2a3f5f",
             "gridcolor": "white",
             "linecolor": "white",
             "minorgridcolor": "white",
             "startlinecolor": "#2a3f5f"
            },
            "type": "carpet"
           }
          ],
          "choropleth": [
           {
            "colorbar": {
             "outlinewidth": 0,
             "ticks": ""
            },
            "type": "choropleth"
           }
          ],
          "contour": [
           {
            "colorbar": {
             "outlinewidth": 0,
             "ticks": ""
            },
            "colorscale": [
             [
              0,
              "#0d0887"
             ],
             [
              0.1111111111111111,
              "#46039f"
             ],
             [
              0.2222222222222222,
              "#7201a8"
             ],
             [
              0.3333333333333333,
              "#9c179e"
             ],
             [
              0.4444444444444444,
              "#bd3786"
             ],
             [
              0.5555555555555556,
              "#d8576b"
             ],
             [
              0.6666666666666666,
              "#ed7953"
             ],
             [
              0.7777777777777778,
              "#fb9f3a"
             ],
             [
              0.8888888888888888,
              "#fdca26"
             ],
             [
              1,
              "#f0f921"
             ]
            ],
            "type": "contour"
           }
          ],
          "contourcarpet": [
           {
            "colorbar": {
             "outlinewidth": 0,
             "ticks": ""
            },
            "type": "contourcarpet"
           }
          ],
          "heatmap": [
           {
            "colorbar": {
             "outlinewidth": 0,
             "ticks": ""
            },
            "colorscale": [
             [
              0,
              "#0d0887"
             ],
             [
              0.1111111111111111,
              "#46039f"
             ],
             [
              0.2222222222222222,
              "#7201a8"
             ],
             [
              0.3333333333333333,
              "#9c179e"
             ],
             [
              0.4444444444444444,
              "#bd3786"
             ],
             [
              0.5555555555555556,
              "#d8576b"
             ],
             [
              0.6666666666666666,
              "#ed7953"
             ],
             [
              0.7777777777777778,
              "#fb9f3a"
             ],
             [
              0.8888888888888888,
              "#fdca26"
             ],
             [
              1,
              "#f0f921"
             ]
            ],
            "type": "heatmap"
           }
          ],
          "heatmapgl": [
           {
            "colorbar": {
             "outlinewidth": 0,
             "ticks": ""
            },
            "colorscale": [
             [
              0,
              "#0d0887"
             ],
             [
              0.1111111111111111,
              "#46039f"
             ],
             [
              0.2222222222222222,
              "#7201a8"
             ],
             [
              0.3333333333333333,
              "#9c179e"
             ],
             [
              0.4444444444444444,
              "#bd3786"
             ],
             [
              0.5555555555555556,
              "#d8576b"
             ],
             [
              0.6666666666666666,
              "#ed7953"
             ],
             [
              0.7777777777777778,
              "#fb9f3a"
             ],
             [
              0.8888888888888888,
              "#fdca26"
             ],
             [
              1,
              "#f0f921"
             ]
            ],
            "type": "heatmapgl"
           }
          ],
          "histogram": [
           {
            "marker": {
             "pattern": {
              "fillmode": "overlay",
              "size": 10,
              "solidity": 0.2
             }
            },
            "type": "histogram"
           }
          ],
          "histogram2d": [
           {
            "colorbar": {
             "outlinewidth": 0,
             "ticks": ""
            },
            "colorscale": [
             [
              0,
              "#0d0887"
             ],
             [
              0.1111111111111111,
              "#46039f"
             ],
             [
              0.2222222222222222,
              "#7201a8"
             ],
             [
              0.3333333333333333,
              "#9c179e"
             ],
             [
              0.4444444444444444,
              "#bd3786"
             ],
             [
              0.5555555555555556,
              "#d8576b"
             ],
             [
              0.6666666666666666,
              "#ed7953"
             ],
             [
              0.7777777777777778,
              "#fb9f3a"
             ],
             [
              0.8888888888888888,
              "#fdca26"
             ],
             [
              1,
              "#f0f921"
             ]
            ],
            "type": "histogram2d"
           }
          ],
          "histogram2dcontour": [
           {
            "colorbar": {
             "outlinewidth": 0,
             "ticks": ""
            },
            "colorscale": [
             [
              0,
              "#0d0887"
             ],
             [
              0.1111111111111111,
              "#46039f"
             ],
             [
              0.2222222222222222,
              "#7201a8"
             ],
             [
              0.3333333333333333,
              "#9c179e"
             ],
             [
              0.4444444444444444,
              "#bd3786"
             ],
             [
              0.5555555555555556,
              "#d8576b"
             ],
             [
              0.6666666666666666,
              "#ed7953"
             ],
             [
              0.7777777777777778,
              "#fb9f3a"
             ],
             [
              0.8888888888888888,
              "#fdca26"
             ],
             [
              1,
              "#f0f921"
             ]
            ],
            "type": "histogram2dcontour"
           }
          ],
          "mesh3d": [
           {
            "colorbar": {
             "outlinewidth": 0,
             "ticks": ""
            },
            "type": "mesh3d"
           }
          ],
          "parcoords": [
           {
            "line": {
             "colorbar": {
              "outlinewidth": 0,
              "ticks": ""
             }
            },
            "type": "parcoords"
           }
          ],
          "pie": [
           {
            "automargin": true,
            "type": "pie"
           }
          ],
          "scatter": [
           {
            "fillpattern": {
             "fillmode": "overlay",
             "size": 10,
             "solidity": 0.2
            },
            "type": "scatter"
           }
          ],
          "scatter3d": [
           {
            "line": {
             "colorbar": {
              "outlinewidth": 0,
              "ticks": ""
             }
            },
            "marker": {
             "colorbar": {
              "outlinewidth": 0,
              "ticks": ""
             }
            },
            "type": "scatter3d"
           }
          ],
          "scattercarpet": [
           {
            "marker": {
             "colorbar": {
              "outlinewidth": 0,
              "ticks": ""
             }
            },
            "type": "scattercarpet"
           }
          ],
          "scattergeo": [
           {
            "marker": {
             "colorbar": {
              "outlinewidth": 0,
              "ticks": ""
             }
            },
            "type": "scattergeo"
           }
          ],
          "scattergl": [
           {
            "marker": {
             "colorbar": {
              "outlinewidth": 0,
              "ticks": ""
             }
            },
            "type": "scattergl"
           }
          ],
          "scattermapbox": [
           {
            "marker": {
             "colorbar": {
              "outlinewidth": 0,
              "ticks": ""
             }
            },
            "type": "scattermapbox"
           }
          ],
          "scatterpolar": [
           {
            "marker": {
             "colorbar": {
              "outlinewidth": 0,
              "ticks": ""
             }
            },
            "type": "scatterpolar"
           }
          ],
          "scatterpolargl": [
           {
            "marker": {
             "colorbar": {
              "outlinewidth": 0,
              "ticks": ""
             }
            },
            "type": "scatterpolargl"
           }
          ],
          "scatterternary": [
           {
            "marker": {
             "colorbar": {
              "outlinewidth": 0,
              "ticks": ""
             }
            },
            "type": "scatterternary"
           }
          ],
          "surface": [
           {
            "colorbar": {
             "outlinewidth": 0,
             "ticks": ""
            },
            "colorscale": [
             [
              0,
              "#0d0887"
             ],
             [
              0.1111111111111111,
              "#46039f"
             ],
             [
              0.2222222222222222,
              "#7201a8"
             ],
             [
              0.3333333333333333,
              "#9c179e"
             ],
             [
              0.4444444444444444,
              "#bd3786"
             ],
             [
              0.5555555555555556,
              "#d8576b"
             ],
             [
              0.6666666666666666,
              "#ed7953"
             ],
             [
              0.7777777777777778,
              "#fb9f3a"
             ],
             [
              0.8888888888888888,
              "#fdca26"
             ],
             [
              1,
              "#f0f921"
             ]
            ],
            "type": "surface"
           }
          ],
          "table": [
           {
            "cells": {
             "fill": {
              "color": "#EBF0F8"
             },
             "line": {
              "color": "white"
             }
            },
            "header": {
             "fill": {
              "color": "#C8D4E3"
             },
             "line": {
              "color": "white"
             }
            },
            "type": "table"
           }
          ]
         },
         "layout": {
          "annotationdefaults": {
           "arrowcolor": "#2a3f5f",
           "arrowhead": 0,
           "arrowwidth": 1
          },
          "autotypenumbers": "strict",
          "coloraxis": {
           "colorbar": {
            "outlinewidth": 0,
            "ticks": ""
           }
          },
          "colorscale": {
           "diverging": [
            [
             0,
             "#8e0152"
            ],
            [
             0.1,
             "#c51b7d"
            ],
            [
             0.2,
             "#de77ae"
            ],
            [
             0.3,
             "#f1b6da"
            ],
            [
             0.4,
             "#fde0ef"
            ],
            [
             0.5,
             "#f7f7f7"
            ],
            [
             0.6,
             "#e6f5d0"
            ],
            [
             0.7,
             "#b8e186"
            ],
            [
             0.8,
             "#7fbc41"
            ],
            [
             0.9,
             "#4d9221"
            ],
            [
             1,
             "#276419"
            ]
           ],
           "sequential": [
            [
             0,
             "#0d0887"
            ],
            [
             0.1111111111111111,
             "#46039f"
            ],
            [
             0.2222222222222222,
             "#7201a8"
            ],
            [
             0.3333333333333333,
             "#9c179e"
            ],
            [
             0.4444444444444444,
             "#bd3786"
            ],
            [
             0.5555555555555556,
             "#d8576b"
            ],
            [
             0.6666666666666666,
             "#ed7953"
            ],
            [
             0.7777777777777778,
             "#fb9f3a"
            ],
            [
             0.8888888888888888,
             "#fdca26"
            ],
            [
             1,
             "#f0f921"
            ]
           ],
           "sequentialminus": [
            [
             0,
             "#0d0887"
            ],
            [
             0.1111111111111111,
             "#46039f"
            ],
            [
             0.2222222222222222,
             "#7201a8"
            ],
            [
             0.3333333333333333,
             "#9c179e"
            ],
            [
             0.4444444444444444,
             "#bd3786"
            ],
            [
             0.5555555555555556,
             "#d8576b"
            ],
            [
             0.6666666666666666,
             "#ed7953"
            ],
            [
             0.7777777777777778,
             "#fb9f3a"
            ],
            [
             0.8888888888888888,
             "#fdca26"
            ],
            [
             1,
             "#f0f921"
            ]
           ]
          },
          "colorway": [
           "#636efa",
           "#EF553B",
           "#00cc96",
           "#ab63fa",
           "#FFA15A",
           "#19d3f3",
           "#FF6692",
           "#B6E880",
           "#FF97FF",
           "#FECB52"
          ],
          "font": {
           "color": "#2a3f5f"
          },
          "geo": {
           "bgcolor": "white",
           "lakecolor": "white",
           "landcolor": "#E5ECF6",
           "showlakes": true,
           "showland": true,
           "subunitcolor": "white"
          },
          "hoverlabel": {
           "align": "left"
          },
          "hovermode": "closest",
          "mapbox": {
           "style": "light"
          },
          "paper_bgcolor": "white",
          "plot_bgcolor": "#E5ECF6",
          "polar": {
           "angularaxis": {
            "gridcolor": "white",
            "linecolor": "white",
            "ticks": ""
           },
           "bgcolor": "#E5ECF6",
           "radialaxis": {
            "gridcolor": "white",
            "linecolor": "white",
            "ticks": ""
           }
          },
          "scene": {
           "xaxis": {
            "backgroundcolor": "#E5ECF6",
            "gridcolor": "white",
            "gridwidth": 2,
            "linecolor": "white",
            "showbackground": true,
            "ticks": "",
            "zerolinecolor": "white"
           },
           "yaxis": {
            "backgroundcolor": "#E5ECF6",
            "gridcolor": "white",
            "gridwidth": 2,
            "linecolor": "white",
            "showbackground": true,
            "ticks": "",
            "zerolinecolor": "white"
           },
           "zaxis": {
            "backgroundcolor": "#E5ECF6",
            "gridcolor": "white",
            "gridwidth": 2,
            "linecolor": "white",
            "showbackground": true,
            "ticks": "",
            "zerolinecolor": "white"
           }
          },
          "shapedefaults": {
           "line": {
            "color": "#2a3f5f"
           }
          },
          "ternary": {
           "aaxis": {
            "gridcolor": "white",
            "linecolor": "white",
            "ticks": ""
           },
           "baxis": {
            "gridcolor": "white",
            "linecolor": "white",
            "ticks": ""
           },
           "bgcolor": "#E5ECF6",
           "caxis": {
            "gridcolor": "white",
            "linecolor": "white",
            "ticks": ""
           }
          },
          "title": {
           "x": 0.05
          },
          "xaxis": {
           "automargin": true,
           "gridcolor": "white",
           "linecolor": "white",
           "ticks": "",
           "title": {
            "standoff": 15
           },
           "zerolinecolor": "white",
           "zerolinewidth": 2
          },
          "yaxis": {
           "automargin": true,
           "gridcolor": "white",
           "linecolor": "white",
           "ticks": "",
           "title": {
            "standoff": 15
           },
           "zerolinecolor": "white",
           "zerolinewidth": 2
          }
         }
        },
        "xaxis": {
         "anchor": "y",
         "domain": [
          0,
          1
         ],
         "range": [
          -1,
          1
         ],
         "title": {
          "text": "orientation"
         }
        },
        "yaxis": {
         "anchor": "x",
         "domain": [
          0,
          1
         ],
         "range": [
          -1,
          1
         ],
         "title": {
          "text": "progvscons"
         }
        }
       }
      },
      "text/html": [
       "<div>                            <div id=\"cef6d729-463a-4d5d-916c-ec7fb8c15d56\" class=\"plotly-graph-div\" style=\"height:525px; width:100%;\"></div>            <script type=\"text/javascript\">                require([\"plotly\"], function(Plotly) {                    window.PLOTLYENV=window.PLOTLYENV || {};                                    if (document.getElementById(\"cef6d729-463a-4d5d-916c-ec7fb8c15d56\")) {                    Plotly.newPlot(                        \"cef6d729-463a-4d5d-916c-ec7fb8c15d56\",                        [{\"hovertemplate\":\"<b>%{hovertext}</b><br><br>Genre=F<br>orientation=%{x}<br>progvscons=%{y}<extra></extra>\",\"hovertext\":[\"Adeline CRETTENAND\",\"Alina DARBELLAY\",\"Caroline REYNARD\",\"Chantal CARLEN\",\"Christelle HERITIER\",\"Christine ROUX\",\"Cilette CRETTON\",\"Claudia ALPIGER\",\"Claudia GAILLARD MOREND\",\"Corinne DUC BONVIN\",\"C\\u00e9lina RAMSAUER\",\"Danica ZURBRIGGEN LEHNER\",\"Emilie PRAZ\",\"Fabienne MURMANN\",\"Florence CARRON DARBELLAY\",\"Florine CARRON\",\"Gabrielle BARRAS\",\"Gabrielle CORNUT-ZUFFEREY\",\"G\\u00e9raldine GIANADDA\",\"G\\u00e9raldine GRANGES GUENOT\",\"G\\u00e9raldine GRANGES-GUENOT\",\"G\\u00e9raldine POUGET-ZUFFEREY\",\"Ida H\\u00c4FLIGER\",\"Janine REY-SIGGEN\",\"Jenny VOEFFRAY\",\"Jos\\u00e9phine WAEBER\",\"Kamy MAY\",\"Laurence VUAGNIAUX\",\"Lucile CURDY\",\"L\\u00e9a ROUILLER DESSIMOZ\",\"Madeleine KUONEN-EGGO\",\"Maria ARNOLD-ESCHER\",\"Marie ZUCHUAT\",\"Martine ROUILLER\",\"Monika HOLZEGGER\",\"M\\u00e9lanie FOLLONIER\",\"Natacha MARET\",\"Natascha FARQUET\",\"Pascale FUMEAUX\",\"Patricia CASAYS\",\"Rahel ZIMMERMANN\",\"Raymonde SCHOCH\",\"Ruth STALDER\",\"Sabine FOURNIER\",\"Sophie BORNET\",\"Sophie DUCREY\"],\"legendgroup\":\"F\",\"marker\":{\"color\":\"#636efa\",\"symbol\":\"circle\"},\"mode\":\"markers\",\"name\":\"F\",\"orientation\":\"v\",\"showlegend\":true,\"x\":[0.3333333333333333,-0.8461538461538461,-0.7619047619047619,0.6,-0.6923076923076923,0.4,-0.7619047619047619,-0.7,-0.7142857142857143,-0.7368421052631579,-0.7647058823529411,-0.3333333333333333,-0.8095238095238095,0.42857142857142855,0.0,-0.7368421052631579,0.5,-0.7777777777777778,-0.8125,-1.0,0.5,0.19047619047619047,-0.05263157894736842,-0.8095238095238095,-0.17647058823529413,0.3,0.14285714285714285,-0.7619047619047619,-0.7222222222222222,-0.875,-0.7222222222222222,0.47368421052631576,0.19047619047619047,-0.8095238095238095,-0.38095238095238093,0.125,0.2857142857142857,-0.5263157894736842,-0.7647058823529411,0.11764705882352941,-0.7,-0.6666666666666666,-0.23809523809523808,-0.8095238095238095,0.10526315789473684,-0.7142857142857143],\"xaxis\":\"x\",\"y\":[0.2,-0.782608695652174,-0.7894736842105263,0.5555555555555556,-0.6956521739130435,0.3448275862068966,-0.7631578947368421,-0.6216216216216216,-0.8421052631578947,-0.8571428571428571,-0.7647058823529411,-0.20833333333333334,-0.8421052631578947,0.2631578947368421,-0.2702702702702703,-0.7,0.4838709677419355,-0.8787878787878788,-0.7407407407407407,-1.0,0.5416666666666666,0.02631578947368421,-0.12121212121212122,-0.8421052631578947,-0.3333333333333333,0.21212121212121213,0.15789473684210525,-0.868421052631579,-0.7878787878787878,-0.7878787878787878,-0.6666666666666666,0.41935483870967744,0.05714285714285714,-0.868421052631579,-0.13157894736842105,-0.25,0.05263157894736842,-0.6388888888888888,-0.8571428571428571,-0.09090909090909091,-0.6216216216216216,-0.5789473684210527,-0.21052631578947367,-0.8947368421052632,0.02857142857142857,-0.8421052631578947],\"yaxis\":\"y\",\"type\":\"scatter\"},{\"hovertemplate\":\"<b>%{hovertext}</b><br><br>Genre=H<br>orientation=%{x}<br>progvscons=%{y}<extra></extra>\",\"hovertext\":[\"Alain DUBOSSON\",\"Alain L\\u00c9GER\",\"Alain SCH\\u00d6NBETT\",\"Alex BONVIN\",\"Arnaud DUBOIS\",\"Bernard OBERHOLZER\",\"Bernard TROILLET\",\"Blaise CRETTOL\",\"Christian ESCHER\",\"Claude NAN\\u00c7OZ\",\"Claudy BESSE\",\"C\\u00f4me VUILLE\",\"Damien CLERC\",\"Damien FUMEAUX\",\"Damien LUISIER\",\"Damien RABOUD\",\"Dominik KNUBEL\",\"Edmond PERRUCHOUD\",\"Fabian ZURBRIGGEN\",\"Fabien THETAZ\",\"Felix RUPPEN\",\"Flavio SCHMID\",\"Florent FAVRE\",\"Florian EVEQUOZ\",\"Fran\\u00e7ois GENOUD\",\"Fran\\u00e7ois QUENNOZ\",\"Fr\\u00e9d\\u00e9ric PITTELOUD\",\"Ga\\u00ebl BOURGEOIS\",\"Georges VIONNET\",\"Gerhard SCHMID\",\"German EYER\",\"Gr\\u00e9goire VANNAY\",\"G\\u00e9rard SALAMIN\",\"Hermann BRUNNER\",\"Jacques BLANC\",\"Jean BONNARD\",\"Jean ZERMATTEN\",\"Jean-Baptiste UDRESSY\",\"Jean-Daniel NANCHEN\",\"Jean-Dominique CIPOLLA\",\"Jean-Fran\\u00e7ois LOVEY\",\"Jean-Marc DUPONT\",\"Jean-Marc SAVIOZ\",\"Jean-Pierre REY\",\"Johan ROCHEL\",\"J\\u00e9r\\u00f4me FORMAZ\",\"Kurt REGOTZ\",\"Leander WILLINER\",\"Lukas J\\u00c4GER\",\"Lukas KALBERMATTEN\",\"L\\u00e9onard BENDER\",\"Marc-Antoine GENOLET\",\"Marius DUMOULIN\",\"Martin SCH\\u00dcRCH\",\"Mathieu CALOZ\",\"Mathieu SARRASIN\",\"Matteo AB\\u00c4CHERLI\",\"Michael BURGENER\",\"Michael KREUZER\",\"Narcisse CRETTENAND\",\"Nicolas BONVIN\",\"Nicolas CHABLAIS\",\"Nicolas METTAN\",\"Olivier DERIVAZ\",\"Paul BURGENER\",\"Peter BURRI\",\"Peter B\\u00c4HLER\",\"Philippe BENDER\",\"Pierre DARBELLAY\",\"Pierre SCHERTENLEIB\",\"Pierre-Alain RAEMY\",\"Rafael WELSCHEN\",\"Rainer MATHIER\",\"Ralph DESSIMOZ\",\"Ralph KUMMER\",\"Remo SCHNYDER\",\"Romain UDRY\",\"Romano AMACKER\",\"Sandro FONTANA\",\"St\\u00e9phane CLAVIEN\",\"Thomas MATTER\",\"Vincent BOAND\",\"Vincent G\\u00dcNTHER\",\"Vincent LUYET\",\"Yann RODUIT\"],\"legendgroup\":\"H\",\"marker\":{\"color\":\"#EF553B\",\"symbol\":\"circle\"},\"mode\":\"markers\",\"name\":\"H\",\"orientation\":\"v\",\"showlegend\":true,\"x\":[0.7692307692307693,0.15,-0.3333333333333333,0.7,-0.5714285714285714,-1.0,-0.14285714285714285,-0.8095238095238095,-0.05263157894736842,0.125,0.47058823529411764,-0.3333333333333333,0.7777777777777778,0.6666666666666666,0.2222222222222222,0.5294117647058824,-0.15,0.7692307692307693,0.5238095238095238,-0.7777777777777778,0.75,0.3333333333333333,0.375,-0.9047619047619048,-0.23809523809523808,0.42105263157894735,0.23809523809523808,-1.0,-0.8095238095238095,-0.7142857142857143,-0.7142857142857143,-0.09523809523809523,0.3333333333333333,-0.09523809523809523,-0.6111111111111112,-0.8095238095238095,-0.7894736842105263,0.7647058823529411,-0.8095238095238095,0.6666666666666666,-0.8,-0.8095238095238095,0.2857142857142857,-0.3333333333333333,-0.7142857142857143,0.6842105263157895,0.047619047619047616,0.15,0.5384615384615384,0.2222222222222222,-0.7142857142857143,0.7142857142857143,0.23809523809523808,0.7142857142857143,-0.09523809523809523,0.0,0.42857142857142855,0.42857142857142855,0.5238095238095238,0.3333333333333333,0.3333333333333333,0.0,-0.4,-0.7,-0.11764705882352941,-0.14285714285714285,0.5789473684210527,0.09523809523809523,0.75,-0.8095238095238095,-0.5238095238095238,0.5384615384615384,0.42857142857142855,0.21052631578947367,0.23076923076923078,0.375,0.26666666666666666,0.5238095238095238,0.09523809523809523,-0.42857142857142855,-0.047619047619047616,0.5789473684210527,-0.8095238095238095,-0.8095238095238095,0.19047619047619047],\"xaxis\":\"x\",\"y\":[0.7619047619047619,0.05405405405405406,-0.47058823529411764,0.6470588235294118,-0.7631578947368421,-0.6363636363636364,-0.2631578947368421,-0.8333333333333334,-0.17142857142857143,-0.13333333333333333,0.45161290322580644,-0.3684210526315789,0.625,0.631578947368421,0.21212121212121213,0.5588235294117647,-0.05405405405405406,0.7586206896551724,0.7631578947368421,-0.8484848484848485,0.4375,0.23809523809523808,0.15151515151515152,-0.7894736842105263,-0.40540540540540543,0.4444444444444444,0.15789473684210525,-0.7391304347826086,-0.8421052631578947,-0.631578947368421,-0.5945945945945946,-0.10526315789473684,0.15789473684210525,-0.02631578947368421,-0.59375,-0.7631578947368421,-0.7777777777777778,0.6470588235294118,-0.8421052631578947,0.5526315789473685,-0.8333333333333334,-0.8421052631578947,0.18421052631578946,-0.42105263157894735,-0.7894736842105263,0.5428571428571428,0.1111111111111111,0.02702702702702703,0.76,0.0625,-0.7368421052631579,0.7105263157894737,0.10526315789473684,0.47368421052631576,-0.3684210526315789,-0.0967741935483871,0.3684210526315789,0.2631578947368421,0.6842105263157895,0.10526315789473684,0.07894736842105263,0.3333333333333333,-0.4074074074074074,-0.7297297297297297,-0.1,0.0,0.7714285714285715,0.10526315789473684,0.3333333333333333,-0.8421052631578947,-0.6842105263157895,0.48148148148148145,0.3157894736842105,0.0,0.6923076923076923,0.5862068965517241,0.03571428571428571,0.7368421052631579,0.07894736842105263,-0.6756756756756757,-0.21052631578947367,0.45454545454545453,-0.8947368421052632,-0.8857142857142857,0.10810810810810811],\"yaxis\":\"y\",\"type\":\"scatter\"}],                        {\"template\":{\"data\":{\"histogram2dcontour\":[{\"type\":\"histogram2dcontour\",\"colorbar\":{\"outlinewidth\":0,\"ticks\":\"\"},\"colorscale\":[[0.0,\"#0d0887\"],[0.1111111111111111,\"#46039f\"],[0.2222222222222222,\"#7201a8\"],[0.3333333333333333,\"#9c179e\"],[0.4444444444444444,\"#bd3786\"],[0.5555555555555556,\"#d8576b\"],[0.6666666666666666,\"#ed7953\"],[0.7777777777777778,\"#fb9f3a\"],[0.8888888888888888,\"#fdca26\"],[1.0,\"#f0f921\"]]}],\"choropleth\":[{\"type\":\"choropleth\",\"colorbar\":{\"outlinewidth\":0,\"ticks\":\"\"}}],\"histogram2d\":[{\"type\":\"histogram2d\",\"colorbar\":{\"outlinewidth\":0,\"ticks\":\"\"},\"colorscale\":[[0.0,\"#0d0887\"],[0.1111111111111111,\"#46039f\"],[0.2222222222222222,\"#7201a8\"],[0.3333333333333333,\"#9c179e\"],[0.4444444444444444,\"#bd3786\"],[0.5555555555555556,\"#d8576b\"],[0.6666666666666666,\"#ed7953\"],[0.7777777777777778,\"#fb9f3a\"],[0.8888888888888888,\"#fdca26\"],[1.0,\"#f0f921\"]]}],\"heatmap\":[{\"type\":\"heatmap\",\"colorbar\":{\"outlinewidth\":0,\"ticks\":\"\"},\"colorscale\":[[0.0,\"#0d0887\"],[0.1111111111111111,\"#46039f\"],[0.2222222222222222,\"#7201a8\"],[0.3333333333333333,\"#9c179e\"],[0.4444444444444444,\"#bd3786\"],[0.5555555555555556,\"#d8576b\"],[0.6666666666666666,\"#ed7953\"],[0.7777777777777778,\"#fb9f3a\"],[0.8888888888888888,\"#fdca26\"],[1.0,\"#f0f921\"]]}],\"heatmapgl\":[{\"type\":\"heatmapgl\",\"colorbar\":{\"outlinewidth\":0,\"ticks\":\"\"},\"colorscale\":[[0.0,\"#0d0887\"],[0.1111111111111111,\"#46039f\"],[0.2222222222222222,\"#7201a8\"],[0.3333333333333333,\"#9c179e\"],[0.4444444444444444,\"#bd3786\"],[0.5555555555555556,\"#d8576b\"],[0.6666666666666666,\"#ed7953\"],[0.7777777777777778,\"#fb9f3a\"],[0.8888888888888888,\"#fdca26\"],[1.0,\"#f0f921\"]]}],\"contourcarpet\":[{\"type\":\"contourcarpet\",\"colorbar\":{\"outlinewidth\":0,\"ticks\":\"\"}}],\"contour\":[{\"type\":\"contour\",\"colorbar\":{\"outlinewidth\":0,\"ticks\":\"\"},\"colorscale\":[[0.0,\"#0d0887\"],[0.1111111111111111,\"#46039f\"],[0.2222222222222222,\"#7201a8\"],[0.3333333333333333,\"#9c179e\"],[0.4444444444444444,\"#bd3786\"],[0.5555555555555556,\"#d8576b\"],[0.6666666666666666,\"#ed7953\"],[0.7777777777777778,\"#fb9f3a\"],[0.8888888888888888,\"#fdca26\"],[1.0,\"#f0f921\"]]}],\"surface\":[{\"type\":\"surface\",\"colorbar\":{\"outlinewidth\":0,\"ticks\":\"\"},\"colorscale\":[[0.0,\"#0d0887\"],[0.1111111111111111,\"#46039f\"],[0.2222222222222222,\"#7201a8\"],[0.3333333333333333,\"#9c179e\"],[0.4444444444444444,\"#bd3786\"],[0.5555555555555556,\"#d8576b\"],[0.6666666666666666,\"#ed7953\"],[0.7777777777777778,\"#fb9f3a\"],[0.8888888888888888,\"#fdca26\"],[1.0,\"#f0f921\"]]}],\"mesh3d\":[{\"type\":\"mesh3d\",\"colorbar\":{\"outlinewidth\":0,\"ticks\":\"\"}}],\"scatter\":[{\"fillpattern\":{\"fillmode\":\"overlay\",\"size\":10,\"solidity\":0.2},\"type\":\"scatter\"}],\"parcoords\":[{\"type\":\"parcoords\",\"line\":{\"colorbar\":{\"outlinewidth\":0,\"ticks\":\"\"}}}],\"scatterpolargl\":[{\"type\":\"scatterpolargl\",\"marker\":{\"colorbar\":{\"outlinewidth\":0,\"ticks\":\"\"}}}],\"bar\":[{\"error_x\":{\"color\":\"#2a3f5f\"},\"error_y\":{\"color\":\"#2a3f5f\"},\"marker\":{\"line\":{\"color\":\"#E5ECF6\",\"width\":0.5},\"pattern\":{\"fillmode\":\"overlay\",\"size\":10,\"solidity\":0.2}},\"type\":\"bar\"}],\"scattergeo\":[{\"type\":\"scattergeo\",\"marker\":{\"colorbar\":{\"outlinewidth\":0,\"ticks\":\"\"}}}],\"scatterpolar\":[{\"type\":\"scatterpolar\",\"marker\":{\"colorbar\":{\"outlinewidth\":0,\"ticks\":\"\"}}}],\"histogram\":[{\"marker\":{\"pattern\":{\"fillmode\":\"overlay\",\"size\":10,\"solidity\":0.2}},\"type\":\"histogram\"}],\"scattergl\":[{\"type\":\"scattergl\",\"marker\":{\"colorbar\":{\"outlinewidth\":0,\"ticks\":\"\"}}}],\"scatter3d\":[{\"type\":\"scatter3d\",\"line\":{\"colorbar\":{\"outlinewidth\":0,\"ticks\":\"\"}},\"marker\":{\"colorbar\":{\"outlinewidth\":0,\"ticks\":\"\"}}}],\"scattermapbox\":[{\"type\":\"scattermapbox\",\"marker\":{\"colorbar\":{\"outlinewidth\":0,\"ticks\":\"\"}}}],\"scatterternary\":[{\"type\":\"scatterternary\",\"marker\":{\"colorbar\":{\"outlinewidth\":0,\"ticks\":\"\"}}}],\"scattercarpet\":[{\"type\":\"scattercarpet\",\"marker\":{\"colorbar\":{\"outlinewidth\":0,\"ticks\":\"\"}}}],\"carpet\":[{\"aaxis\":{\"endlinecolor\":\"#2a3f5f\",\"gridcolor\":\"white\",\"linecolor\":\"white\",\"minorgridcolor\":\"white\",\"startlinecolor\":\"#2a3f5f\"},\"baxis\":{\"endlinecolor\":\"#2a3f5f\",\"gridcolor\":\"white\",\"linecolor\":\"white\",\"minorgridcolor\":\"white\",\"startlinecolor\":\"#2a3f5f\"},\"type\":\"carpet\"}],\"table\":[{\"cells\":{\"fill\":{\"color\":\"#EBF0F8\"},\"line\":{\"color\":\"white\"}},\"header\":{\"fill\":{\"color\":\"#C8D4E3\"},\"line\":{\"color\":\"white\"}},\"type\":\"table\"}],\"barpolar\":[{\"marker\":{\"line\":{\"color\":\"#E5ECF6\",\"width\":0.5},\"pattern\":{\"fillmode\":\"overlay\",\"size\":10,\"solidity\":0.2}},\"type\":\"barpolar\"}],\"pie\":[{\"automargin\":true,\"type\":\"pie\"}]},\"layout\":{\"autotypenumbers\":\"strict\",\"colorway\":[\"#636efa\",\"#EF553B\",\"#00cc96\",\"#ab63fa\",\"#FFA15A\",\"#19d3f3\",\"#FF6692\",\"#B6E880\",\"#FF97FF\",\"#FECB52\"],\"font\":{\"color\":\"#2a3f5f\"},\"hovermode\":\"closest\",\"hoverlabel\":{\"align\":\"left\"},\"paper_bgcolor\":\"white\",\"plot_bgcolor\":\"#E5ECF6\",\"polar\":{\"bgcolor\":\"#E5ECF6\",\"angularaxis\":{\"gridcolor\":\"white\",\"linecolor\":\"white\",\"ticks\":\"\"},\"radialaxis\":{\"gridcolor\":\"white\",\"linecolor\":\"white\",\"ticks\":\"\"}},\"ternary\":{\"bgcolor\":\"#E5ECF6\",\"aaxis\":{\"gridcolor\":\"white\",\"linecolor\":\"white\",\"ticks\":\"\"},\"baxis\":{\"gridcolor\":\"white\",\"linecolor\":\"white\",\"ticks\":\"\"},\"caxis\":{\"gridcolor\":\"white\",\"linecolor\":\"white\",\"ticks\":\"\"}},\"coloraxis\":{\"colorbar\":{\"outlinewidth\":0,\"ticks\":\"\"}},\"colorscale\":{\"sequential\":[[0.0,\"#0d0887\"],[0.1111111111111111,\"#46039f\"],[0.2222222222222222,\"#7201a8\"],[0.3333333333333333,\"#9c179e\"],[0.4444444444444444,\"#bd3786\"],[0.5555555555555556,\"#d8576b\"],[0.6666666666666666,\"#ed7953\"],[0.7777777777777778,\"#fb9f3a\"],[0.8888888888888888,\"#fdca26\"],[1.0,\"#f0f921\"]],\"sequentialminus\":[[0.0,\"#0d0887\"],[0.1111111111111111,\"#46039f\"],[0.2222222222222222,\"#7201a8\"],[0.3333333333333333,\"#9c179e\"],[0.4444444444444444,\"#bd3786\"],[0.5555555555555556,\"#d8576b\"],[0.6666666666666666,\"#ed7953\"],[0.7777777777777778,\"#fb9f3a\"],[0.8888888888888888,\"#fdca26\"],[1.0,\"#f0f921\"]],\"diverging\":[[0,\"#8e0152\"],[0.1,\"#c51b7d\"],[0.2,\"#de77ae\"],[0.3,\"#f1b6da\"],[0.4,\"#fde0ef\"],[0.5,\"#f7f7f7\"],[0.6,\"#e6f5d0\"],[0.7,\"#b8e186\"],[0.8,\"#7fbc41\"],[0.9,\"#4d9221\"],[1,\"#276419\"]]},\"xaxis\":{\"gridcolor\":\"white\",\"linecolor\":\"white\",\"ticks\":\"\",\"title\":{\"standoff\":15},\"zerolinecolor\":\"white\",\"automargin\":true,\"zerolinewidth\":2},\"yaxis\":{\"gridcolor\":\"white\",\"linecolor\":\"white\",\"ticks\":\"\",\"title\":{\"standoff\":15},\"zerolinecolor\":\"white\",\"automargin\":true,\"zerolinewidth\":2},\"scene\":{\"xaxis\":{\"backgroundcolor\":\"#E5ECF6\",\"gridcolor\":\"white\",\"linecolor\":\"white\",\"showbackground\":true,\"ticks\":\"\",\"zerolinecolor\":\"white\",\"gridwidth\":2},\"yaxis\":{\"backgroundcolor\":\"#E5ECF6\",\"gridcolor\":\"white\",\"linecolor\":\"white\",\"showbackground\":true,\"ticks\":\"\",\"zerolinecolor\":\"white\",\"gridwidth\":2},\"zaxis\":{\"backgroundcolor\":\"#E5ECF6\",\"gridcolor\":\"white\",\"linecolor\":\"white\",\"showbackground\":true,\"ticks\":\"\",\"zerolinecolor\":\"white\",\"gridwidth\":2}},\"shapedefaults\":{\"line\":{\"color\":\"#2a3f5f\"}},\"annotationdefaults\":{\"arrowcolor\":\"#2a3f5f\",\"arrowhead\":0,\"arrowwidth\":1},\"geo\":{\"bgcolor\":\"white\",\"landcolor\":\"#E5ECF6\",\"subunitcolor\":\"white\",\"showland\":true,\"showlakes\":true,\"lakecolor\":\"white\"},\"title\":{\"x\":0.05},\"mapbox\":{\"style\":\"light\"}}},\"xaxis\":{\"anchor\":\"y\",\"domain\":[0.0,1.0],\"title\":{\"text\":\"orientation\"},\"range\":[-1,1]},\"yaxis\":{\"anchor\":\"x\",\"domain\":[0.0,1.0],\"title\":{\"text\":\"progvscons\"},\"range\":[-1,1]},\"legend\":{\"title\":{\"text\":\"Genre\"},\"tracegroupgap\":0},\"margin\":{\"t\":60}},                        {\"responsive\": true}                    ).then(function(){\n",
       "                            \n",
       "var gd = document.getElementById('cef6d729-463a-4d5d-916c-ec7fb8c15d56');\n",
       "var x = new MutationObserver(function (mutations, observer) {{\n",
       "        var display = window.getComputedStyle(gd).display;\n",
       "        if (!display || display === 'none') {{\n",
       "            console.log([gd, 'removed!']);\n",
       "            Plotly.purge(gd);\n",
       "            observer.disconnect();\n",
       "        }}\n",
       "}});\n",
       "\n",
       "// Listen for the removal of the full notebook cells\n",
       "var notebookContainer = gd.closest('#notebook-container');\n",
       "if (notebookContainer) {{\n",
       "    x.observe(notebookContainer, {childList: true});\n",
       "}}\n",
       "\n",
       "// Listen for the clearing of the current output cell\n",
       "var outputEl = gd.closest('.output');\n",
       "if (outputEl) {{\n",
       "    x.observe(outputEl, {childList: true});\n",
       "}}\n",
       "\n",
       "                        })                };                });            </script>        </div>"
      ]
     },
     "metadata": {},
     "output_type": "display_data"
    }
   ],
   "source": [
    "fig = px.scatter(counts_df, x=\"orientation\", y=\"progvscons\",  color='Genre', hover_name='name')\n",
    "fig.update_xaxes(range=[-1, 1])\n",
    "fig.update_yaxes(range=[-1, 1])\n",
    "fig.show()"
   ]
  },
  {
   "cell_type": "code",
   "execution_count": 97,
   "id": "75527a54",
   "metadata": {
    "scrolled": true
   },
   "outputs": [
    {
     "data": {
      "application/vnd.plotly.v1+json": {
       "config": {
        "plotlyServerURL": "https://plot.ly"
       },
       "data": [
        {
         "hovertemplate": "<b>%{hovertext}</b><br><br>Âge=18-30<br>orientation=%{x}<br>progvscons=%{y}<extra></extra>",
         "hovertext": [
          "Adeline CRETTENAND",
          "Alain DUBOSSON",
          "Caroline REYNARD",
          "Chantal CARLEN",
          "Damien FUMEAUX",
          "Damien LUISIER",
          "Florent FAVRE",
          "François QUENNOZ",
          "Jean-Baptiste UDRESSY",
          "Kamy MAY",
          "Lucile CURDY",
          "Léa ROUILLER DESSIMOZ",
          "Mathieu CALOZ",
          "Mélanie FOLLONIER",
          "Romain UDRY",
          "Romano AMACKER",
          "Sophie DUCREY"
         ],
         "legendgroup": "18-30",
         "marker": {
          "color": "#636efa",
          "symbol": "circle"
         },
         "mode": "markers",
         "name": "18-30",
         "orientation": "v",
         "showlegend": true,
         "type": "scatter",
         "x": [
          0.3333333333333333,
          0.7692307692307693,
          -0.7619047619047619,
          0.6,
          0.6666666666666666,
          0.2222222222222222,
          0.375,
          0.42105263157894735,
          0.7647058823529411,
          0.14285714285714285,
          -0.7222222222222222,
          -0.875,
          -0.09523809523809523,
          0.125,
          0.26666666666666666,
          0.5238095238095238,
          -0.7142857142857143
         ],
         "xaxis": "x",
         "y": [
          0.2,
          0.7619047619047619,
          -0.7894736842105263,
          0.5555555555555556,
          0.631578947368421,
          0.21212121212121213,
          0.15151515151515152,
          0.4444444444444444,
          0.6470588235294118,
          0.15789473684210525,
          -0.7878787878787878,
          -0.7878787878787878,
          -0.3684210526315789,
          -0.25,
          0.03571428571428571,
          0.7368421052631579,
          -0.8421052631578947
         ],
         "yaxis": "y"
        },
        {
         "hovertemplate": "<b>%{hovertext}</b><br><br>Âge=45-65<br>orientation=%{x}<br>progvscons=%{y}<extra></extra>",
         "hovertext": [
          "Alain LÉGER",
          "Arnaud DUBOIS",
          "Christelle HERITIER",
          "Christian ESCHER",
          "Claudia ALPIGER",
          "Côme VUILLE",
          "Damien CLERC",
          "Damien RABOUD",
          "Danica ZURBRIGGEN LEHNER",
          "Dominik KNUBEL",
          "Emilie PRAZ",
          "Fabien THETAZ",
          "Fabienne MURMANN",
          "Flavio SCHMID",
          "Florian EVEQUOZ",
          "Florine CARRON",
          "Gaël BOURGEOIS",
          "Géraldine POUGET-ZUFFEREY",
          "Johan ROCHEL",
          "Joséphine WAEBER",
          "Marie ZUCHUAT",
          "Martine ROUILLER",
          "Matteo ABÄCHERLI",
          "Michael BURGENER",
          "Michael KREUZER",
          "Natacha MARET",
          "Natascha FARQUET",
          "Nicolas BONVIN",
          "Nicolas CHABLAIS",
          "Pascale FUMEAUX",
          "Pierre DARBELLAY",
          "Rafael WELSCHEN",
          "Rahel ZIMMERMANN",
          "Ralph KUMMER",
          "Vincent BOAND",
          "Vincent LUYET"
         ],
         "legendgroup": "45-65",
         "marker": {
          "color": "#EF553B",
          "symbol": "circle"
         },
         "mode": "markers",
         "name": "45-65",
         "orientation": "v",
         "showlegend": true,
         "type": "scatter",
         "x": [
          0.15,
          -0.5714285714285714,
          -0.6923076923076923,
          -0.05263157894736842,
          -0.7,
          -0.3333333333333333,
          0.7777777777777778,
          0.5294117647058824,
          -0.3333333333333333,
          -0.15,
          -0.8095238095238095,
          -0.7777777777777778,
          0.42857142857142855,
          0.3333333333333333,
          -0.9047619047619048,
          -0.7368421052631579,
          -1,
          0.19047619047619047,
          -0.7142857142857143,
          0.3,
          0.19047619047619047,
          -0.8095238095238095,
          0.42857142857142855,
          0.42857142857142855,
          0.5238095238095238,
          0.2857142857142857,
          -0.5263157894736842,
          0.3333333333333333,
          0,
          -0.7647058823529411,
          0.75,
          0.5384615384615384,
          -0.7,
          0.23076923076923078,
          0.5789473684210527,
          -0.8095238095238095
         ],
         "xaxis": "x",
         "y": [
          0.05405405405405406,
          -0.7631578947368421,
          -0.6956521739130435,
          -0.17142857142857143,
          -0.6216216216216216,
          -0.3684210526315789,
          0.625,
          0.5588235294117647,
          -0.20833333333333334,
          -0.05405405405405406,
          -0.8421052631578947,
          -0.8484848484848485,
          0.2631578947368421,
          0.23809523809523808,
          -0.7894736842105263,
          -0.7,
          -0.7391304347826086,
          0.02631578947368421,
          -0.7894736842105263,
          0.21212121212121213,
          0.05714285714285714,
          -0.868421052631579,
          0.3684210526315789,
          0.2631578947368421,
          0.6842105263157895,
          0.05263157894736842,
          -0.6388888888888888,
          0.07894736842105263,
          0.3333333333333333,
          -0.8571428571428571,
          0.3333333333333333,
          0.48148148148148145,
          -0.6216216216216216,
          0.6923076923076923,
          0.45454545454545453,
          -0.8857142857142857
         ],
         "yaxis": "y"
        },
        {
         "hovertemplate": "<b>%{hovertext}</b><br><br>Âge=30-45<br>orientation=%{x}<br>progvscons=%{y}<extra></extra>",
         "hovertext": [
          "Alain SCHÖNBETT",
          "Bernard OBERHOLZER",
          "Bernard TROILLET",
          "Cilette CRETTON",
          "Claude NANÇOZ",
          "Edmond PERRUCHOUD",
          "François GENOUD",
          "Georges VIONNET",
          "Gerhard SCHMID",
          "Hermann BRUNNER",
          "Jacques BLANC",
          "Jean BONNARD",
          "Jean ZERMATTEN",
          "Jean-Dominique CIPOLLA",
          "Jean-François LOVEY",
          "Kurt REGOTZ",
          "Leander WILLINER",
          "Lukas JÄGER",
          "Marius DUMOULIN",
          "Narcisse CRETTENAND",
          "Patricia CASAYS",
          "Paul BURGENER",
          "Peter BÄHLER",
          "Philippe BENDER",
          "Pierre SCHERTENLEIB",
          "Raymonde SCHOCH"
         ],
         "legendgroup": "30-45",
         "marker": {
          "color": "#00cc96",
          "symbol": "circle"
         },
         "mode": "markers",
         "name": "30-45",
         "orientation": "v",
         "showlegend": true,
         "type": "scatter",
         "x": [
          -0.3333333333333333,
          -1,
          -0.14285714285714285,
          -0.7619047619047619,
          0.125,
          0.7692307692307693,
          -0.23809523809523808,
          -0.8095238095238095,
          -0.7142857142857143,
          -0.09523809523809523,
          -0.6111111111111112,
          -0.8095238095238095,
          -0.7894736842105263,
          0.6666666666666666,
          -0.8,
          0.047619047619047616,
          0.15,
          0.5384615384615384,
          0.23809523809523808,
          0.3333333333333333,
          0.11764705882352941,
          -0.11764705882352941,
          0.5789473684210527,
          0.09523809523809523,
          -0.8095238095238095,
          -0.6666666666666666
         ],
         "xaxis": "x",
         "y": [
          -0.47058823529411764,
          -0.6363636363636364,
          -0.2631578947368421,
          -0.7631578947368421,
          -0.13333333333333333,
          0.7586206896551724,
          -0.40540540540540543,
          -0.8421052631578947,
          -0.631578947368421,
          -0.02631578947368421,
          -0.59375,
          -0.7631578947368421,
          -0.7777777777777778,
          0.5526315789473685,
          -0.8333333333333334,
          0.1111111111111111,
          0.02702702702702703,
          0.76,
          0.10526315789473684,
          0.10526315789473684,
          -0.09090909090909091,
          -0.1,
          0.7714285714285715,
          0.10526315789473684,
          -0.8421052631578947,
          -0.5789473684210527
         ],
         "yaxis": "y"
        },
        {
         "hovertemplate": "<b>%{hovertext}</b><br><br>Âge=65+<br>orientation=%{x}<br>progvscons=%{y}<extra></extra>",
         "hovertext": [
          "Alex BONVIN",
          "Alina DARBELLAY",
          "Blaise CRETTOL",
          "Christine ROUX",
          "Claudia GAILLARD MOREND",
          "Claudy BESSE",
          "Corinne DUC BONVIN",
          "Célina RAMSAUER",
          "Fabian ZURBRIGGEN",
          "Felix RUPPEN",
          "Florence CARRON DARBELLAY",
          "Frédéric PITTELOUD",
          "Gabrielle BARRAS",
          "Gabrielle CORNUT-ZUFFEREY",
          "German EYER",
          "Grégoire VANNAY",
          "Géraldine GIANADDA",
          "Géraldine GRANGES GUENOT",
          "Géraldine GRANGES-GUENOT",
          "Gérard SALAMIN",
          "Ida HÄFLIGER",
          "Janine REY-SIGGEN",
          "Jean-Daniel NANCHEN",
          "Jean-Marc DUPONT",
          "Jean-Marc SAVIOZ",
          "Jean-Pierre REY",
          "Jenny VOEFFRAY",
          "Jérôme FORMAZ",
          "Laurence VUAGNIAUX",
          "Lukas KALBERMATTEN",
          "Léonard BENDER",
          "Madeleine KUONEN-EGGO",
          "Marc-Antoine GENOLET",
          "Maria ARNOLD-ESCHER",
          "Martin SCHÜRCH",
          "Mathieu SARRASIN",
          "Monika HOLZEGGER",
          "Nicolas METTAN",
          "Olivier DERIVAZ",
          "Peter BURRI",
          "Pierre-Alain RAEMY",
          "Rainer MATHIER",
          "Ralph DESSIMOZ",
          "Remo SCHNYDER",
          "Ruth STALDER",
          "Sabine FOURNIER",
          "Sandro FONTANA",
          "Sophie BORNET",
          "Stéphane CLAVIEN",
          "Thomas MATTER",
          "Vincent GÜNTHER",
          "Yann RODUIT"
         ],
         "legendgroup": "65+",
         "marker": {
          "color": "#ab63fa",
          "symbol": "circle"
         },
         "mode": "markers",
         "name": "65+",
         "orientation": "v",
         "showlegend": true,
         "type": "scatter",
         "x": [
          0.7,
          -0.8461538461538461,
          -0.8095238095238095,
          0.4,
          -0.7142857142857143,
          0.47058823529411764,
          -0.7368421052631579,
          -0.7647058823529411,
          0.5238095238095238,
          0.75,
          0,
          0.23809523809523808,
          0.5,
          -0.7777777777777778,
          -0.7142857142857143,
          -0.09523809523809523,
          -0.8125,
          -1,
          0.5,
          0.3333333333333333,
          -0.05263157894736842,
          -0.8095238095238095,
          -0.8095238095238095,
          -0.8095238095238095,
          0.2857142857142857,
          -0.3333333333333333,
          -0.17647058823529413,
          0.6842105263157895,
          -0.7619047619047619,
          0.2222222222222222,
          -0.7142857142857143,
          -0.7222222222222222,
          0.7142857142857143,
          0.47368421052631576,
          0.7142857142857143,
          0,
          -0.38095238095238093,
          -0.4,
          -0.7,
          -0.14285714285714285,
          -0.5238095238095238,
          0.42857142857142855,
          0.21052631578947367,
          0.375,
          -0.23809523809523808,
          -0.8095238095238095,
          0.09523809523809523,
          0.10526315789473684,
          -0.42857142857142855,
          -0.047619047619047616,
          -0.8095238095238095,
          0.19047619047619047
         ],
         "xaxis": "x",
         "y": [
          0.6470588235294118,
          -0.782608695652174,
          -0.8333333333333334,
          0.3448275862068966,
          -0.8421052631578947,
          0.45161290322580644,
          -0.8571428571428571,
          -0.7647058823529411,
          0.7631578947368421,
          0.4375,
          -0.2702702702702703,
          0.15789473684210525,
          0.4838709677419355,
          -0.8787878787878788,
          -0.5945945945945946,
          -0.10526315789473684,
          -0.7407407407407407,
          -1,
          0.5416666666666666,
          0.15789473684210525,
          -0.12121212121212122,
          -0.8421052631578947,
          -0.8421052631578947,
          -0.8421052631578947,
          0.18421052631578946,
          -0.42105263157894735,
          -0.3333333333333333,
          0.5428571428571428,
          -0.868421052631579,
          0.0625,
          -0.7368421052631579,
          -0.6666666666666666,
          0.7105263157894737,
          0.41935483870967744,
          0.47368421052631576,
          -0.0967741935483871,
          -0.13157894736842105,
          -0.4074074074074074,
          -0.7297297297297297,
          0,
          -0.6842105263157895,
          0.3157894736842105,
          0,
          0.5862068965517241,
          -0.21052631578947367,
          -0.8947368421052632,
          0.07894736842105263,
          0.02857142857142857,
          -0.6756756756756757,
          -0.21052631578947367,
          -0.8947368421052632,
          0.10810810810810811
         ],
         "yaxis": "y"
        }
       ],
       "layout": {
        "legend": {
         "title": {
          "text": "Âge"
         },
         "tracegroupgap": 0
        },
        "margin": {
         "t": 60
        },
        "template": {
         "data": {
          "bar": [
           {
            "error_x": {
             "color": "#2a3f5f"
            },
            "error_y": {
             "color": "#2a3f5f"
            },
            "marker": {
             "line": {
              "color": "#E5ECF6",
              "width": 0.5
             },
             "pattern": {
              "fillmode": "overlay",
              "size": 10,
              "solidity": 0.2
             }
            },
            "type": "bar"
           }
          ],
          "barpolar": [
           {
            "marker": {
             "line": {
              "color": "#E5ECF6",
              "width": 0.5
             },
             "pattern": {
              "fillmode": "overlay",
              "size": 10,
              "solidity": 0.2
             }
            },
            "type": "barpolar"
           }
          ],
          "carpet": [
           {
            "aaxis": {
             "endlinecolor": "#2a3f5f",
             "gridcolor": "white",
             "linecolor": "white",
             "minorgridcolor": "white",
             "startlinecolor": "#2a3f5f"
            },
            "baxis": {
             "endlinecolor": "#2a3f5f",
             "gridcolor": "white",
             "linecolor": "white",
             "minorgridcolor": "white",
             "startlinecolor": "#2a3f5f"
            },
            "type": "carpet"
           }
          ],
          "choropleth": [
           {
            "colorbar": {
             "outlinewidth": 0,
             "ticks": ""
            },
            "type": "choropleth"
           }
          ],
          "contour": [
           {
            "colorbar": {
             "outlinewidth": 0,
             "ticks": ""
            },
            "colorscale": [
             [
              0,
              "#0d0887"
             ],
             [
              0.1111111111111111,
              "#46039f"
             ],
             [
              0.2222222222222222,
              "#7201a8"
             ],
             [
              0.3333333333333333,
              "#9c179e"
             ],
             [
              0.4444444444444444,
              "#bd3786"
             ],
             [
              0.5555555555555556,
              "#d8576b"
             ],
             [
              0.6666666666666666,
              "#ed7953"
             ],
             [
              0.7777777777777778,
              "#fb9f3a"
             ],
             [
              0.8888888888888888,
              "#fdca26"
             ],
             [
              1,
              "#f0f921"
             ]
            ],
            "type": "contour"
           }
          ],
          "contourcarpet": [
           {
            "colorbar": {
             "outlinewidth": 0,
             "ticks": ""
            },
            "type": "contourcarpet"
           }
          ],
          "heatmap": [
           {
            "colorbar": {
             "outlinewidth": 0,
             "ticks": ""
            },
            "colorscale": [
             [
              0,
              "#0d0887"
             ],
             [
              0.1111111111111111,
              "#46039f"
             ],
             [
              0.2222222222222222,
              "#7201a8"
             ],
             [
              0.3333333333333333,
              "#9c179e"
             ],
             [
              0.4444444444444444,
              "#bd3786"
             ],
             [
              0.5555555555555556,
              "#d8576b"
             ],
             [
              0.6666666666666666,
              "#ed7953"
             ],
             [
              0.7777777777777778,
              "#fb9f3a"
             ],
             [
              0.8888888888888888,
              "#fdca26"
             ],
             [
              1,
              "#f0f921"
             ]
            ],
            "type": "heatmap"
           }
          ],
          "heatmapgl": [
           {
            "colorbar": {
             "outlinewidth": 0,
             "ticks": ""
            },
            "colorscale": [
             [
              0,
              "#0d0887"
             ],
             [
              0.1111111111111111,
              "#46039f"
             ],
             [
              0.2222222222222222,
              "#7201a8"
             ],
             [
              0.3333333333333333,
              "#9c179e"
             ],
             [
              0.4444444444444444,
              "#bd3786"
             ],
             [
              0.5555555555555556,
              "#d8576b"
             ],
             [
              0.6666666666666666,
              "#ed7953"
             ],
             [
              0.7777777777777778,
              "#fb9f3a"
             ],
             [
              0.8888888888888888,
              "#fdca26"
             ],
             [
              1,
              "#f0f921"
             ]
            ],
            "type": "heatmapgl"
           }
          ],
          "histogram": [
           {
            "marker": {
             "pattern": {
              "fillmode": "overlay",
              "size": 10,
              "solidity": 0.2
             }
            },
            "type": "histogram"
           }
          ],
          "histogram2d": [
           {
            "colorbar": {
             "outlinewidth": 0,
             "ticks": ""
            },
            "colorscale": [
             [
              0,
              "#0d0887"
             ],
             [
              0.1111111111111111,
              "#46039f"
             ],
             [
              0.2222222222222222,
              "#7201a8"
             ],
             [
              0.3333333333333333,
              "#9c179e"
             ],
             [
              0.4444444444444444,
              "#bd3786"
             ],
             [
              0.5555555555555556,
              "#d8576b"
             ],
             [
              0.6666666666666666,
              "#ed7953"
             ],
             [
              0.7777777777777778,
              "#fb9f3a"
             ],
             [
              0.8888888888888888,
              "#fdca26"
             ],
             [
              1,
              "#f0f921"
             ]
            ],
            "type": "histogram2d"
           }
          ],
          "histogram2dcontour": [
           {
            "colorbar": {
             "outlinewidth": 0,
             "ticks": ""
            },
            "colorscale": [
             [
              0,
              "#0d0887"
             ],
             [
              0.1111111111111111,
              "#46039f"
             ],
             [
              0.2222222222222222,
              "#7201a8"
             ],
             [
              0.3333333333333333,
              "#9c179e"
             ],
             [
              0.4444444444444444,
              "#bd3786"
             ],
             [
              0.5555555555555556,
              "#d8576b"
             ],
             [
              0.6666666666666666,
              "#ed7953"
             ],
             [
              0.7777777777777778,
              "#fb9f3a"
             ],
             [
              0.8888888888888888,
              "#fdca26"
             ],
             [
              1,
              "#f0f921"
             ]
            ],
            "type": "histogram2dcontour"
           }
          ],
          "mesh3d": [
           {
            "colorbar": {
             "outlinewidth": 0,
             "ticks": ""
            },
            "type": "mesh3d"
           }
          ],
          "parcoords": [
           {
            "line": {
             "colorbar": {
              "outlinewidth": 0,
              "ticks": ""
             }
            },
            "type": "parcoords"
           }
          ],
          "pie": [
           {
            "automargin": true,
            "type": "pie"
           }
          ],
          "scatter": [
           {
            "fillpattern": {
             "fillmode": "overlay",
             "size": 10,
             "solidity": 0.2
            },
            "type": "scatter"
           }
          ],
          "scatter3d": [
           {
            "line": {
             "colorbar": {
              "outlinewidth": 0,
              "ticks": ""
             }
            },
            "marker": {
             "colorbar": {
              "outlinewidth": 0,
              "ticks": ""
             }
            },
            "type": "scatter3d"
           }
          ],
          "scattercarpet": [
           {
            "marker": {
             "colorbar": {
              "outlinewidth": 0,
              "ticks": ""
             }
            },
            "type": "scattercarpet"
           }
          ],
          "scattergeo": [
           {
            "marker": {
             "colorbar": {
              "outlinewidth": 0,
              "ticks": ""
             }
            },
            "type": "scattergeo"
           }
          ],
          "scattergl": [
           {
            "marker": {
             "colorbar": {
              "outlinewidth": 0,
              "ticks": ""
             }
            },
            "type": "scattergl"
           }
          ],
          "scattermapbox": [
           {
            "marker": {
             "colorbar": {
              "outlinewidth": 0,
              "ticks": ""
             }
            },
            "type": "scattermapbox"
           }
          ],
          "scatterpolar": [
           {
            "marker": {
             "colorbar": {
              "outlinewidth": 0,
              "ticks": ""
             }
            },
            "type": "scatterpolar"
           }
          ],
          "scatterpolargl": [
           {
            "marker": {
             "colorbar": {
              "outlinewidth": 0,
              "ticks": ""
             }
            },
            "type": "scatterpolargl"
           }
          ],
          "scatterternary": [
           {
            "marker": {
             "colorbar": {
              "outlinewidth": 0,
              "ticks": ""
             }
            },
            "type": "scatterternary"
           }
          ],
          "surface": [
           {
            "colorbar": {
             "outlinewidth": 0,
             "ticks": ""
            },
            "colorscale": [
             [
              0,
              "#0d0887"
             ],
             [
              0.1111111111111111,
              "#46039f"
             ],
             [
              0.2222222222222222,
              "#7201a8"
             ],
             [
              0.3333333333333333,
              "#9c179e"
             ],
             [
              0.4444444444444444,
              "#bd3786"
             ],
             [
              0.5555555555555556,
              "#d8576b"
             ],
             [
              0.6666666666666666,
              "#ed7953"
             ],
             [
              0.7777777777777778,
              "#fb9f3a"
             ],
             [
              0.8888888888888888,
              "#fdca26"
             ],
             [
              1,
              "#f0f921"
             ]
            ],
            "type": "surface"
           }
          ],
          "table": [
           {
            "cells": {
             "fill": {
              "color": "#EBF0F8"
             },
             "line": {
              "color": "white"
             }
            },
            "header": {
             "fill": {
              "color": "#C8D4E3"
             },
             "line": {
              "color": "white"
             }
            },
            "type": "table"
           }
          ]
         },
         "layout": {
          "annotationdefaults": {
           "arrowcolor": "#2a3f5f",
           "arrowhead": 0,
           "arrowwidth": 1
          },
          "autotypenumbers": "strict",
          "coloraxis": {
           "colorbar": {
            "outlinewidth": 0,
            "ticks": ""
           }
          },
          "colorscale": {
           "diverging": [
            [
             0,
             "#8e0152"
            ],
            [
             0.1,
             "#c51b7d"
            ],
            [
             0.2,
             "#de77ae"
            ],
            [
             0.3,
             "#f1b6da"
            ],
            [
             0.4,
             "#fde0ef"
            ],
            [
             0.5,
             "#f7f7f7"
            ],
            [
             0.6,
             "#e6f5d0"
            ],
            [
             0.7,
             "#b8e186"
            ],
            [
             0.8,
             "#7fbc41"
            ],
            [
             0.9,
             "#4d9221"
            ],
            [
             1,
             "#276419"
            ]
           ],
           "sequential": [
            [
             0,
             "#0d0887"
            ],
            [
             0.1111111111111111,
             "#46039f"
            ],
            [
             0.2222222222222222,
             "#7201a8"
            ],
            [
             0.3333333333333333,
             "#9c179e"
            ],
            [
             0.4444444444444444,
             "#bd3786"
            ],
            [
             0.5555555555555556,
             "#d8576b"
            ],
            [
             0.6666666666666666,
             "#ed7953"
            ],
            [
             0.7777777777777778,
             "#fb9f3a"
            ],
            [
             0.8888888888888888,
             "#fdca26"
            ],
            [
             1,
             "#f0f921"
            ]
           ],
           "sequentialminus": [
            [
             0,
             "#0d0887"
            ],
            [
             0.1111111111111111,
             "#46039f"
            ],
            [
             0.2222222222222222,
             "#7201a8"
            ],
            [
             0.3333333333333333,
             "#9c179e"
            ],
            [
             0.4444444444444444,
             "#bd3786"
            ],
            [
             0.5555555555555556,
             "#d8576b"
            ],
            [
             0.6666666666666666,
             "#ed7953"
            ],
            [
             0.7777777777777778,
             "#fb9f3a"
            ],
            [
             0.8888888888888888,
             "#fdca26"
            ],
            [
             1,
             "#f0f921"
            ]
           ]
          },
          "colorway": [
           "#636efa",
           "#EF553B",
           "#00cc96",
           "#ab63fa",
           "#FFA15A",
           "#19d3f3",
           "#FF6692",
           "#B6E880",
           "#FF97FF",
           "#FECB52"
          ],
          "font": {
           "color": "#2a3f5f"
          },
          "geo": {
           "bgcolor": "white",
           "lakecolor": "white",
           "landcolor": "#E5ECF6",
           "showlakes": true,
           "showland": true,
           "subunitcolor": "white"
          },
          "hoverlabel": {
           "align": "left"
          },
          "hovermode": "closest",
          "mapbox": {
           "style": "light"
          },
          "paper_bgcolor": "white",
          "plot_bgcolor": "#E5ECF6",
          "polar": {
           "angularaxis": {
            "gridcolor": "white",
            "linecolor": "white",
            "ticks": ""
           },
           "bgcolor": "#E5ECF6",
           "radialaxis": {
            "gridcolor": "white",
            "linecolor": "white",
            "ticks": ""
           }
          },
          "scene": {
           "xaxis": {
            "backgroundcolor": "#E5ECF6",
            "gridcolor": "white",
            "gridwidth": 2,
            "linecolor": "white",
            "showbackground": true,
            "ticks": "",
            "zerolinecolor": "white"
           },
           "yaxis": {
            "backgroundcolor": "#E5ECF6",
            "gridcolor": "white",
            "gridwidth": 2,
            "linecolor": "white",
            "showbackground": true,
            "ticks": "",
            "zerolinecolor": "white"
           },
           "zaxis": {
            "backgroundcolor": "#E5ECF6",
            "gridcolor": "white",
            "gridwidth": 2,
            "linecolor": "white",
            "showbackground": true,
            "ticks": "",
            "zerolinecolor": "white"
           }
          },
          "shapedefaults": {
           "line": {
            "color": "#2a3f5f"
           }
          },
          "ternary": {
           "aaxis": {
            "gridcolor": "white",
            "linecolor": "white",
            "ticks": ""
           },
           "baxis": {
            "gridcolor": "white",
            "linecolor": "white",
            "ticks": ""
           },
           "bgcolor": "#E5ECF6",
           "caxis": {
            "gridcolor": "white",
            "linecolor": "white",
            "ticks": ""
           }
          },
          "title": {
           "x": 0.05
          },
          "xaxis": {
           "automargin": true,
           "gridcolor": "white",
           "linecolor": "white",
           "ticks": "",
           "title": {
            "standoff": 15
           },
           "zerolinecolor": "white",
           "zerolinewidth": 2
          },
          "yaxis": {
           "automargin": true,
           "gridcolor": "white",
           "linecolor": "white",
           "ticks": "",
           "title": {
            "standoff": 15
           },
           "zerolinecolor": "white",
           "zerolinewidth": 2
          }
         }
        },
        "xaxis": {
         "anchor": "y",
         "domain": [
          0,
          1
         ],
         "range": [
          -1,
          1
         ],
         "title": {
          "text": "orientation"
         }
        },
        "yaxis": {
         "anchor": "x",
         "domain": [
          0,
          1
         ],
         "range": [
          -1,
          1
         ],
         "title": {
          "text": "progvscons"
         }
        }
       }
      },
      "text/html": [
       "<div>                            <div id=\"b3d179e2-fc3d-4b2a-abc3-e824375acf3d\" class=\"plotly-graph-div\" style=\"height:525px; width:100%;\"></div>            <script type=\"text/javascript\">                require([\"plotly\"], function(Plotly) {                    window.PLOTLYENV=window.PLOTLYENV || {};                                    if (document.getElementById(\"b3d179e2-fc3d-4b2a-abc3-e824375acf3d\")) {                    Plotly.newPlot(                        \"b3d179e2-fc3d-4b2a-abc3-e824375acf3d\",                        [{\"hovertemplate\":\"<b>%{hovertext}</b><br><br>\\u00c2ge=18-30<br>orientation=%{x}<br>progvscons=%{y}<extra></extra>\",\"hovertext\":[\"Adeline CRETTENAND\",\"Alain DUBOSSON\",\"Caroline REYNARD\",\"Chantal CARLEN\",\"Damien FUMEAUX\",\"Damien LUISIER\",\"Florent FAVRE\",\"Fran\\u00e7ois QUENNOZ\",\"Jean-Baptiste UDRESSY\",\"Kamy MAY\",\"Lucile CURDY\",\"L\\u00e9a ROUILLER DESSIMOZ\",\"Mathieu CALOZ\",\"M\\u00e9lanie FOLLONIER\",\"Romain UDRY\",\"Romano AMACKER\",\"Sophie DUCREY\"],\"legendgroup\":\"18-30\",\"marker\":{\"color\":\"#636efa\",\"symbol\":\"circle\"},\"mode\":\"markers\",\"name\":\"18-30\",\"orientation\":\"v\",\"showlegend\":true,\"x\":[0.3333333333333333,0.7692307692307693,-0.7619047619047619,0.6,0.6666666666666666,0.2222222222222222,0.375,0.42105263157894735,0.7647058823529411,0.14285714285714285,-0.7222222222222222,-0.875,-0.09523809523809523,0.125,0.26666666666666666,0.5238095238095238,-0.7142857142857143],\"xaxis\":\"x\",\"y\":[0.2,0.7619047619047619,-0.7894736842105263,0.5555555555555556,0.631578947368421,0.21212121212121213,0.15151515151515152,0.4444444444444444,0.6470588235294118,0.15789473684210525,-0.7878787878787878,-0.7878787878787878,-0.3684210526315789,-0.25,0.03571428571428571,0.7368421052631579,-0.8421052631578947],\"yaxis\":\"y\",\"type\":\"scatter\"},{\"hovertemplate\":\"<b>%{hovertext}</b><br><br>\\u00c2ge=45-65<br>orientation=%{x}<br>progvscons=%{y}<extra></extra>\",\"hovertext\":[\"Alain L\\u00c9GER\",\"Arnaud DUBOIS\",\"Christelle HERITIER\",\"Christian ESCHER\",\"Claudia ALPIGER\",\"C\\u00f4me VUILLE\",\"Damien CLERC\",\"Damien RABOUD\",\"Danica ZURBRIGGEN LEHNER\",\"Dominik KNUBEL\",\"Emilie PRAZ\",\"Fabien THETAZ\",\"Fabienne MURMANN\",\"Flavio SCHMID\",\"Florian EVEQUOZ\",\"Florine CARRON\",\"Ga\\u00ebl BOURGEOIS\",\"G\\u00e9raldine POUGET-ZUFFEREY\",\"Johan ROCHEL\",\"Jos\\u00e9phine WAEBER\",\"Marie ZUCHUAT\",\"Martine ROUILLER\",\"Matteo AB\\u00c4CHERLI\",\"Michael BURGENER\",\"Michael KREUZER\",\"Natacha MARET\",\"Natascha FARQUET\",\"Nicolas BONVIN\",\"Nicolas CHABLAIS\",\"Pascale FUMEAUX\",\"Pierre DARBELLAY\",\"Rafael WELSCHEN\",\"Rahel ZIMMERMANN\",\"Ralph KUMMER\",\"Vincent BOAND\",\"Vincent LUYET\"],\"legendgroup\":\"45-65\",\"marker\":{\"color\":\"#EF553B\",\"symbol\":\"circle\"},\"mode\":\"markers\",\"name\":\"45-65\",\"orientation\":\"v\",\"showlegend\":true,\"x\":[0.15,-0.5714285714285714,-0.6923076923076923,-0.05263157894736842,-0.7,-0.3333333333333333,0.7777777777777778,0.5294117647058824,-0.3333333333333333,-0.15,-0.8095238095238095,-0.7777777777777778,0.42857142857142855,0.3333333333333333,-0.9047619047619048,-0.7368421052631579,-1.0,0.19047619047619047,-0.7142857142857143,0.3,0.19047619047619047,-0.8095238095238095,0.42857142857142855,0.42857142857142855,0.5238095238095238,0.2857142857142857,-0.5263157894736842,0.3333333333333333,0.0,-0.7647058823529411,0.75,0.5384615384615384,-0.7,0.23076923076923078,0.5789473684210527,-0.8095238095238095],\"xaxis\":\"x\",\"y\":[0.05405405405405406,-0.7631578947368421,-0.6956521739130435,-0.17142857142857143,-0.6216216216216216,-0.3684210526315789,0.625,0.5588235294117647,-0.20833333333333334,-0.05405405405405406,-0.8421052631578947,-0.8484848484848485,0.2631578947368421,0.23809523809523808,-0.7894736842105263,-0.7,-0.7391304347826086,0.02631578947368421,-0.7894736842105263,0.21212121212121213,0.05714285714285714,-0.868421052631579,0.3684210526315789,0.2631578947368421,0.6842105263157895,0.05263157894736842,-0.6388888888888888,0.07894736842105263,0.3333333333333333,-0.8571428571428571,0.3333333333333333,0.48148148148148145,-0.6216216216216216,0.6923076923076923,0.45454545454545453,-0.8857142857142857],\"yaxis\":\"y\",\"type\":\"scatter\"},{\"hovertemplate\":\"<b>%{hovertext}</b><br><br>\\u00c2ge=30-45<br>orientation=%{x}<br>progvscons=%{y}<extra></extra>\",\"hovertext\":[\"Alain SCH\\u00d6NBETT\",\"Bernard OBERHOLZER\",\"Bernard TROILLET\",\"Cilette CRETTON\",\"Claude NAN\\u00c7OZ\",\"Edmond PERRUCHOUD\",\"Fran\\u00e7ois GENOUD\",\"Georges VIONNET\",\"Gerhard SCHMID\",\"Hermann BRUNNER\",\"Jacques BLANC\",\"Jean BONNARD\",\"Jean ZERMATTEN\",\"Jean-Dominique CIPOLLA\",\"Jean-Fran\\u00e7ois LOVEY\",\"Kurt REGOTZ\",\"Leander WILLINER\",\"Lukas J\\u00c4GER\",\"Marius DUMOULIN\",\"Narcisse CRETTENAND\",\"Patricia CASAYS\",\"Paul BURGENER\",\"Peter B\\u00c4HLER\",\"Philippe BENDER\",\"Pierre SCHERTENLEIB\",\"Raymonde SCHOCH\"],\"legendgroup\":\"30-45\",\"marker\":{\"color\":\"#00cc96\",\"symbol\":\"circle\"},\"mode\":\"markers\",\"name\":\"30-45\",\"orientation\":\"v\",\"showlegend\":true,\"x\":[-0.3333333333333333,-1.0,-0.14285714285714285,-0.7619047619047619,0.125,0.7692307692307693,-0.23809523809523808,-0.8095238095238095,-0.7142857142857143,-0.09523809523809523,-0.6111111111111112,-0.8095238095238095,-0.7894736842105263,0.6666666666666666,-0.8,0.047619047619047616,0.15,0.5384615384615384,0.23809523809523808,0.3333333333333333,0.11764705882352941,-0.11764705882352941,0.5789473684210527,0.09523809523809523,-0.8095238095238095,-0.6666666666666666],\"xaxis\":\"x\",\"y\":[-0.47058823529411764,-0.6363636363636364,-0.2631578947368421,-0.7631578947368421,-0.13333333333333333,0.7586206896551724,-0.40540540540540543,-0.8421052631578947,-0.631578947368421,-0.02631578947368421,-0.59375,-0.7631578947368421,-0.7777777777777778,0.5526315789473685,-0.8333333333333334,0.1111111111111111,0.02702702702702703,0.76,0.10526315789473684,0.10526315789473684,-0.09090909090909091,-0.1,0.7714285714285715,0.10526315789473684,-0.8421052631578947,-0.5789473684210527],\"yaxis\":\"y\",\"type\":\"scatter\"},{\"hovertemplate\":\"<b>%{hovertext}</b><br><br>\\u00c2ge=65+<br>orientation=%{x}<br>progvscons=%{y}<extra></extra>\",\"hovertext\":[\"Alex BONVIN\",\"Alina DARBELLAY\",\"Blaise CRETTOL\",\"Christine ROUX\",\"Claudia GAILLARD MOREND\",\"Claudy BESSE\",\"Corinne DUC BONVIN\",\"C\\u00e9lina RAMSAUER\",\"Fabian ZURBRIGGEN\",\"Felix RUPPEN\",\"Florence CARRON DARBELLAY\",\"Fr\\u00e9d\\u00e9ric PITTELOUD\",\"Gabrielle BARRAS\",\"Gabrielle CORNUT-ZUFFEREY\",\"German EYER\",\"Gr\\u00e9goire VANNAY\",\"G\\u00e9raldine GIANADDA\",\"G\\u00e9raldine GRANGES GUENOT\",\"G\\u00e9raldine GRANGES-GUENOT\",\"G\\u00e9rard SALAMIN\",\"Ida H\\u00c4FLIGER\",\"Janine REY-SIGGEN\",\"Jean-Daniel NANCHEN\",\"Jean-Marc DUPONT\",\"Jean-Marc SAVIOZ\",\"Jean-Pierre REY\",\"Jenny VOEFFRAY\",\"J\\u00e9r\\u00f4me FORMAZ\",\"Laurence VUAGNIAUX\",\"Lukas KALBERMATTEN\",\"L\\u00e9onard BENDER\",\"Madeleine KUONEN-EGGO\",\"Marc-Antoine GENOLET\",\"Maria ARNOLD-ESCHER\",\"Martin SCH\\u00dcRCH\",\"Mathieu SARRASIN\",\"Monika HOLZEGGER\",\"Nicolas METTAN\",\"Olivier DERIVAZ\",\"Peter BURRI\",\"Pierre-Alain RAEMY\",\"Rainer MATHIER\",\"Ralph DESSIMOZ\",\"Remo SCHNYDER\",\"Ruth STALDER\",\"Sabine FOURNIER\",\"Sandro FONTANA\",\"Sophie BORNET\",\"St\\u00e9phane CLAVIEN\",\"Thomas MATTER\",\"Vincent G\\u00dcNTHER\",\"Yann RODUIT\"],\"legendgroup\":\"65+\",\"marker\":{\"color\":\"#ab63fa\",\"symbol\":\"circle\"},\"mode\":\"markers\",\"name\":\"65+\",\"orientation\":\"v\",\"showlegend\":true,\"x\":[0.7,-0.8461538461538461,-0.8095238095238095,0.4,-0.7142857142857143,0.47058823529411764,-0.7368421052631579,-0.7647058823529411,0.5238095238095238,0.75,0.0,0.23809523809523808,0.5,-0.7777777777777778,-0.7142857142857143,-0.09523809523809523,-0.8125,-1.0,0.5,0.3333333333333333,-0.05263157894736842,-0.8095238095238095,-0.8095238095238095,-0.8095238095238095,0.2857142857142857,-0.3333333333333333,-0.17647058823529413,0.6842105263157895,-0.7619047619047619,0.2222222222222222,-0.7142857142857143,-0.7222222222222222,0.7142857142857143,0.47368421052631576,0.7142857142857143,0.0,-0.38095238095238093,-0.4,-0.7,-0.14285714285714285,-0.5238095238095238,0.42857142857142855,0.21052631578947367,0.375,-0.23809523809523808,-0.8095238095238095,0.09523809523809523,0.10526315789473684,-0.42857142857142855,-0.047619047619047616,-0.8095238095238095,0.19047619047619047],\"xaxis\":\"x\",\"y\":[0.6470588235294118,-0.782608695652174,-0.8333333333333334,0.3448275862068966,-0.8421052631578947,0.45161290322580644,-0.8571428571428571,-0.7647058823529411,0.7631578947368421,0.4375,-0.2702702702702703,0.15789473684210525,0.4838709677419355,-0.8787878787878788,-0.5945945945945946,-0.10526315789473684,-0.7407407407407407,-1.0,0.5416666666666666,0.15789473684210525,-0.12121212121212122,-0.8421052631578947,-0.8421052631578947,-0.8421052631578947,0.18421052631578946,-0.42105263157894735,-0.3333333333333333,0.5428571428571428,-0.868421052631579,0.0625,-0.7368421052631579,-0.6666666666666666,0.7105263157894737,0.41935483870967744,0.47368421052631576,-0.0967741935483871,-0.13157894736842105,-0.4074074074074074,-0.7297297297297297,0.0,-0.6842105263157895,0.3157894736842105,0.0,0.5862068965517241,-0.21052631578947367,-0.8947368421052632,0.07894736842105263,0.02857142857142857,-0.6756756756756757,-0.21052631578947367,-0.8947368421052632,0.10810810810810811],\"yaxis\":\"y\",\"type\":\"scatter\"}],                        {\"template\":{\"data\":{\"histogram2dcontour\":[{\"type\":\"histogram2dcontour\",\"colorbar\":{\"outlinewidth\":0,\"ticks\":\"\"},\"colorscale\":[[0.0,\"#0d0887\"],[0.1111111111111111,\"#46039f\"],[0.2222222222222222,\"#7201a8\"],[0.3333333333333333,\"#9c179e\"],[0.4444444444444444,\"#bd3786\"],[0.5555555555555556,\"#d8576b\"],[0.6666666666666666,\"#ed7953\"],[0.7777777777777778,\"#fb9f3a\"],[0.8888888888888888,\"#fdca26\"],[1.0,\"#f0f921\"]]}],\"choropleth\":[{\"type\":\"choropleth\",\"colorbar\":{\"outlinewidth\":0,\"ticks\":\"\"}}],\"histogram2d\":[{\"type\":\"histogram2d\",\"colorbar\":{\"outlinewidth\":0,\"ticks\":\"\"},\"colorscale\":[[0.0,\"#0d0887\"],[0.1111111111111111,\"#46039f\"],[0.2222222222222222,\"#7201a8\"],[0.3333333333333333,\"#9c179e\"],[0.4444444444444444,\"#bd3786\"],[0.5555555555555556,\"#d8576b\"],[0.6666666666666666,\"#ed7953\"],[0.7777777777777778,\"#fb9f3a\"],[0.8888888888888888,\"#fdca26\"],[1.0,\"#f0f921\"]]}],\"heatmap\":[{\"type\":\"heatmap\",\"colorbar\":{\"outlinewidth\":0,\"ticks\":\"\"},\"colorscale\":[[0.0,\"#0d0887\"],[0.1111111111111111,\"#46039f\"],[0.2222222222222222,\"#7201a8\"],[0.3333333333333333,\"#9c179e\"],[0.4444444444444444,\"#bd3786\"],[0.5555555555555556,\"#d8576b\"],[0.6666666666666666,\"#ed7953\"],[0.7777777777777778,\"#fb9f3a\"],[0.8888888888888888,\"#fdca26\"],[1.0,\"#f0f921\"]]}],\"heatmapgl\":[{\"type\":\"heatmapgl\",\"colorbar\":{\"outlinewidth\":0,\"ticks\":\"\"},\"colorscale\":[[0.0,\"#0d0887\"],[0.1111111111111111,\"#46039f\"],[0.2222222222222222,\"#7201a8\"],[0.3333333333333333,\"#9c179e\"],[0.4444444444444444,\"#bd3786\"],[0.5555555555555556,\"#d8576b\"],[0.6666666666666666,\"#ed7953\"],[0.7777777777777778,\"#fb9f3a\"],[0.8888888888888888,\"#fdca26\"],[1.0,\"#f0f921\"]]}],\"contourcarpet\":[{\"type\":\"contourcarpet\",\"colorbar\":{\"outlinewidth\":0,\"ticks\":\"\"}}],\"contour\":[{\"type\":\"contour\",\"colorbar\":{\"outlinewidth\":0,\"ticks\":\"\"},\"colorscale\":[[0.0,\"#0d0887\"],[0.1111111111111111,\"#46039f\"],[0.2222222222222222,\"#7201a8\"],[0.3333333333333333,\"#9c179e\"],[0.4444444444444444,\"#bd3786\"],[0.5555555555555556,\"#d8576b\"],[0.6666666666666666,\"#ed7953\"],[0.7777777777777778,\"#fb9f3a\"],[0.8888888888888888,\"#fdca26\"],[1.0,\"#f0f921\"]]}],\"surface\":[{\"type\":\"surface\",\"colorbar\":{\"outlinewidth\":0,\"ticks\":\"\"},\"colorscale\":[[0.0,\"#0d0887\"],[0.1111111111111111,\"#46039f\"],[0.2222222222222222,\"#7201a8\"],[0.3333333333333333,\"#9c179e\"],[0.4444444444444444,\"#bd3786\"],[0.5555555555555556,\"#d8576b\"],[0.6666666666666666,\"#ed7953\"],[0.7777777777777778,\"#fb9f3a\"],[0.8888888888888888,\"#fdca26\"],[1.0,\"#f0f921\"]]}],\"mesh3d\":[{\"type\":\"mesh3d\",\"colorbar\":{\"outlinewidth\":0,\"ticks\":\"\"}}],\"scatter\":[{\"fillpattern\":{\"fillmode\":\"overlay\",\"size\":10,\"solidity\":0.2},\"type\":\"scatter\"}],\"parcoords\":[{\"type\":\"parcoords\",\"line\":{\"colorbar\":{\"outlinewidth\":0,\"ticks\":\"\"}}}],\"scatterpolargl\":[{\"type\":\"scatterpolargl\",\"marker\":{\"colorbar\":{\"outlinewidth\":0,\"ticks\":\"\"}}}],\"bar\":[{\"error_x\":{\"color\":\"#2a3f5f\"},\"error_y\":{\"color\":\"#2a3f5f\"},\"marker\":{\"line\":{\"color\":\"#E5ECF6\",\"width\":0.5},\"pattern\":{\"fillmode\":\"overlay\",\"size\":10,\"solidity\":0.2}},\"type\":\"bar\"}],\"scattergeo\":[{\"type\":\"scattergeo\",\"marker\":{\"colorbar\":{\"outlinewidth\":0,\"ticks\":\"\"}}}],\"scatterpolar\":[{\"type\":\"scatterpolar\",\"marker\":{\"colorbar\":{\"outlinewidth\":0,\"ticks\":\"\"}}}],\"histogram\":[{\"marker\":{\"pattern\":{\"fillmode\":\"overlay\",\"size\":10,\"solidity\":0.2}},\"type\":\"histogram\"}],\"scattergl\":[{\"type\":\"scattergl\",\"marker\":{\"colorbar\":{\"outlinewidth\":0,\"ticks\":\"\"}}}],\"scatter3d\":[{\"type\":\"scatter3d\",\"line\":{\"colorbar\":{\"outlinewidth\":0,\"ticks\":\"\"}},\"marker\":{\"colorbar\":{\"outlinewidth\":0,\"ticks\":\"\"}}}],\"scattermapbox\":[{\"type\":\"scattermapbox\",\"marker\":{\"colorbar\":{\"outlinewidth\":0,\"ticks\":\"\"}}}],\"scatterternary\":[{\"type\":\"scatterternary\",\"marker\":{\"colorbar\":{\"outlinewidth\":0,\"ticks\":\"\"}}}],\"scattercarpet\":[{\"type\":\"scattercarpet\",\"marker\":{\"colorbar\":{\"outlinewidth\":0,\"ticks\":\"\"}}}],\"carpet\":[{\"aaxis\":{\"endlinecolor\":\"#2a3f5f\",\"gridcolor\":\"white\",\"linecolor\":\"white\",\"minorgridcolor\":\"white\",\"startlinecolor\":\"#2a3f5f\"},\"baxis\":{\"endlinecolor\":\"#2a3f5f\",\"gridcolor\":\"white\",\"linecolor\":\"white\",\"minorgridcolor\":\"white\",\"startlinecolor\":\"#2a3f5f\"},\"type\":\"carpet\"}],\"table\":[{\"cells\":{\"fill\":{\"color\":\"#EBF0F8\"},\"line\":{\"color\":\"white\"}},\"header\":{\"fill\":{\"color\":\"#C8D4E3\"},\"line\":{\"color\":\"white\"}},\"type\":\"table\"}],\"barpolar\":[{\"marker\":{\"line\":{\"color\":\"#E5ECF6\",\"width\":0.5},\"pattern\":{\"fillmode\":\"overlay\",\"size\":10,\"solidity\":0.2}},\"type\":\"barpolar\"}],\"pie\":[{\"automargin\":true,\"type\":\"pie\"}]},\"layout\":{\"autotypenumbers\":\"strict\",\"colorway\":[\"#636efa\",\"#EF553B\",\"#00cc96\",\"#ab63fa\",\"#FFA15A\",\"#19d3f3\",\"#FF6692\",\"#B6E880\",\"#FF97FF\",\"#FECB52\"],\"font\":{\"color\":\"#2a3f5f\"},\"hovermode\":\"closest\",\"hoverlabel\":{\"align\":\"left\"},\"paper_bgcolor\":\"white\",\"plot_bgcolor\":\"#E5ECF6\",\"polar\":{\"bgcolor\":\"#E5ECF6\",\"angularaxis\":{\"gridcolor\":\"white\",\"linecolor\":\"white\",\"ticks\":\"\"},\"radialaxis\":{\"gridcolor\":\"white\",\"linecolor\":\"white\",\"ticks\":\"\"}},\"ternary\":{\"bgcolor\":\"#E5ECF6\",\"aaxis\":{\"gridcolor\":\"white\",\"linecolor\":\"white\",\"ticks\":\"\"},\"baxis\":{\"gridcolor\":\"white\",\"linecolor\":\"white\",\"ticks\":\"\"},\"caxis\":{\"gridcolor\":\"white\",\"linecolor\":\"white\",\"ticks\":\"\"}},\"coloraxis\":{\"colorbar\":{\"outlinewidth\":0,\"ticks\":\"\"}},\"colorscale\":{\"sequential\":[[0.0,\"#0d0887\"],[0.1111111111111111,\"#46039f\"],[0.2222222222222222,\"#7201a8\"],[0.3333333333333333,\"#9c179e\"],[0.4444444444444444,\"#bd3786\"],[0.5555555555555556,\"#d8576b\"],[0.6666666666666666,\"#ed7953\"],[0.7777777777777778,\"#fb9f3a\"],[0.8888888888888888,\"#fdca26\"],[1.0,\"#f0f921\"]],\"sequentialminus\":[[0.0,\"#0d0887\"],[0.1111111111111111,\"#46039f\"],[0.2222222222222222,\"#7201a8\"],[0.3333333333333333,\"#9c179e\"],[0.4444444444444444,\"#bd3786\"],[0.5555555555555556,\"#d8576b\"],[0.6666666666666666,\"#ed7953\"],[0.7777777777777778,\"#fb9f3a\"],[0.8888888888888888,\"#fdca26\"],[1.0,\"#f0f921\"]],\"diverging\":[[0,\"#8e0152\"],[0.1,\"#c51b7d\"],[0.2,\"#de77ae\"],[0.3,\"#f1b6da\"],[0.4,\"#fde0ef\"],[0.5,\"#f7f7f7\"],[0.6,\"#e6f5d0\"],[0.7,\"#b8e186\"],[0.8,\"#7fbc41\"],[0.9,\"#4d9221\"],[1,\"#276419\"]]},\"xaxis\":{\"gridcolor\":\"white\",\"linecolor\":\"white\",\"ticks\":\"\",\"title\":{\"standoff\":15},\"zerolinecolor\":\"white\",\"automargin\":true,\"zerolinewidth\":2},\"yaxis\":{\"gridcolor\":\"white\",\"linecolor\":\"white\",\"ticks\":\"\",\"title\":{\"standoff\":15},\"zerolinecolor\":\"white\",\"automargin\":true,\"zerolinewidth\":2},\"scene\":{\"xaxis\":{\"backgroundcolor\":\"#E5ECF6\",\"gridcolor\":\"white\",\"linecolor\":\"white\",\"showbackground\":true,\"ticks\":\"\",\"zerolinecolor\":\"white\",\"gridwidth\":2},\"yaxis\":{\"backgroundcolor\":\"#E5ECF6\",\"gridcolor\":\"white\",\"linecolor\":\"white\",\"showbackground\":true,\"ticks\":\"\",\"zerolinecolor\":\"white\",\"gridwidth\":2},\"zaxis\":{\"backgroundcolor\":\"#E5ECF6\",\"gridcolor\":\"white\",\"linecolor\":\"white\",\"showbackground\":true,\"ticks\":\"\",\"zerolinecolor\":\"white\",\"gridwidth\":2}},\"shapedefaults\":{\"line\":{\"color\":\"#2a3f5f\"}},\"annotationdefaults\":{\"arrowcolor\":\"#2a3f5f\",\"arrowhead\":0,\"arrowwidth\":1},\"geo\":{\"bgcolor\":\"white\",\"landcolor\":\"#E5ECF6\",\"subunitcolor\":\"white\",\"showland\":true,\"showlakes\":true,\"lakecolor\":\"white\"},\"title\":{\"x\":0.05},\"mapbox\":{\"style\":\"light\"}}},\"xaxis\":{\"anchor\":\"y\",\"domain\":[0.0,1.0],\"title\":{\"text\":\"orientation\"},\"range\":[-1,1]},\"yaxis\":{\"anchor\":\"x\",\"domain\":[0.0,1.0],\"title\":{\"text\":\"progvscons\"},\"range\":[-1,1]},\"legend\":{\"title\":{\"text\":\"\\u00c2ge\"},\"tracegroupgap\":0},\"margin\":{\"t\":60}},                        {\"responsive\": true}                    ).then(function(){\n",
       "                            \n",
       "var gd = document.getElementById('b3d179e2-fc3d-4b2a-abc3-e824375acf3d');\n",
       "var x = new MutationObserver(function (mutations, observer) {{\n",
       "        var display = window.getComputedStyle(gd).display;\n",
       "        if (!display || display === 'none') {{\n",
       "            console.log([gd, 'removed!']);\n",
       "            Plotly.purge(gd);\n",
       "            observer.disconnect();\n",
       "        }}\n",
       "}});\n",
       "\n",
       "// Listen for the removal of the full notebook cells\n",
       "var notebookContainer = gd.closest('#notebook-container');\n",
       "if (notebookContainer) {{\n",
       "    x.observe(notebookContainer, {childList: true});\n",
       "}}\n",
       "\n",
       "// Listen for the clearing of the current output cell\n",
       "var outputEl = gd.closest('.output');\n",
       "if (outputEl) {{\n",
       "    x.observe(outputEl, {childList: true});\n",
       "}}\n",
       "\n",
       "                        })                };                });            </script>        </div>"
      ]
     },
     "metadata": {},
     "output_type": "display_data"
    }
   ],
   "source": [
    "fig = px.scatter(counts_df, x=\"orientation\", y=\"progvscons\",  color='Âge', hover_name='name')\n",
    "fig.update_xaxes(range=[-1, 1])\n",
    "fig.update_yaxes(range=[-1, 1])\n",
    "fig.show()"
   ]
  },
  {
   "cell_type": "code",
   "execution_count": 102,
   "id": "c810d051",
   "metadata": {},
   "outputs": [
    {
     "name": "stdout",
     "output_type": "stream",
     "text": [
      "Index(['name', 'group', 'Âge', 'vote', 'orientation', 'progvscons'], dtype='object')\n"
     ]
    }
   ],
   "source": [
    "counts_df = counts_df.drop(labels='vote', axis=1)"
   ]
  },
  {
   "cell_type": "code",
   "execution_count": 117,
   "id": "b5a57703",
   "metadata": {
    "scrolled": false
   },
   "outputs": [
    {
     "data": {
      "text/html": [
       "<div>\n",
       "<style scoped>\n",
       "    .dataframe tbody tr th:only-of-type {\n",
       "        vertical-align: middle;\n",
       "    }\n",
       "\n",
       "    .dataframe tbody tr th {\n",
       "        vertical-align: top;\n",
       "    }\n",
       "\n",
       "    .dataframe thead th {\n",
       "        text-align: right;\n",
       "    }\n",
       "</style>\n",
       "<table border=\"1\" class=\"dataframe\">\n",
       "  <thead>\n",
       "    <tr style=\"text-align: right;\">\n",
       "      <th></th>\n",
       "      <th>Unnamed: 0</th>\n",
       "      <th>label</th>\n",
       "      <th>affairVoteId</th>\n",
       "      <th>meaningYesText</th>\n",
       "      <th>meaningNoText</th>\n",
       "      <th>numYes</th>\n",
       "      <th>numNo</th>\n",
       "      <th>numAbst</th>\n",
       "      <th>section</th>\n",
       "      <th>artId</th>\n",
       "      <th>orientation_art</th>\n",
       "      <th>progvscons_art</th>\n",
       "      <th>name</th>\n",
       "      <th>group</th>\n",
       "      <th>vote</th>\n",
       "      <th>Genre</th>\n",
       "      <th>Âge</th>\n",
       "      <th>District</th>\n",
       "      <th>orientation_dep</th>\n",
       "      <th>progvscons_dep</th>\n",
       "    </tr>\n",
       "  </thead>\n",
       "  <tbody>\n",
       "    <tr>\n",
       "      <th>0</th>\n",
       "      <td>580</td>\n",
       "      <td>606, vote 1 : Commission contre A-606.28 CVPO/...</td>\n",
       "      <td>20211207160250</td>\n",
       "      <td>En l’absence d’un congé parental fédéral, l’Ét...</td>\n",
       "      <td>(néant)</td>\n",
       "      <td>68</td>\n",
       "      <td>35</td>\n",
       "      <td>4</td>\n",
       "      <td>1ère lecture - Commission 6</td>\n",
       "      <td>606</td>\n",
       "      <td>-1</td>\n",
       "      <td>-1</td>\n",
       "      <td>Matteo ABÄCHERLI</td>\n",
       "      <td>CVPO</td>\n",
       "      <td>-1.0</td>\n",
       "      <td>H</td>\n",
       "      <td>45-65</td>\n",
       "      <td>Visp</td>\n",
       "      <td>0.428571</td>\n",
       "      <td>0.368421</td>\n",
       "    </tr>\n",
       "    <tr>\n",
       "      <th>1</th>\n",
       "      <td>593</td>\n",
       "      <td>603, vote 4 : Commission (y.c. V/A 1-3) contre...</td>\n",
       "      <td>20211207144242</td>\n",
       "      <td>Art. 603 Enfance&lt;br/&gt;\\n&lt;ol&gt;&lt;li&gt;L’État et les c...</td>\n",
       "      <td>(néant)</td>\n",
       "      <td>90</td>\n",
       "      <td>14</td>\n",
       "      <td>1</td>\n",
       "      <td>1ère lecture - Commission 6</td>\n",
       "      <td>603</td>\n",
       "      <td>-1</td>\n",
       "      <td>-1</td>\n",
       "      <td>Matteo ABÄCHERLI</td>\n",
       "      <td>CVPO</td>\n",
       "      <td>1.0</td>\n",
       "      <td>H</td>\n",
       "      <td>45-65</td>\n",
       "      <td>Visp</td>\n",
       "      <td>0.428571</td>\n",
       "      <td>0.368421</td>\n",
       "    </tr>\n",
       "    <tr>\n",
       "      <th>2</th>\n",
       "      <td>596</td>\n",
       "      <td>602, vote 2 : Commission (y.c. V/A 1) contre A...</td>\n",
       "      <td>20211207143809</td>\n",
       "      <td>L'État et les communes développent une\\npoliti...</td>\n",
       "      <td>(néant)</td>\n",
       "      <td>89</td>\n",
       "      <td>14</td>\n",
       "      <td>2</td>\n",
       "      <td>1ère lecture - Commission 6</td>\n",
       "      <td>602</td>\n",
       "      <td>-1</td>\n",
       "      <td>-1</td>\n",
       "      <td>Matteo ABÄCHERLI</td>\n",
       "      <td>CVPO</td>\n",
       "      <td>1.0</td>\n",
       "      <td>H</td>\n",
       "      <td>45-65</td>\n",
       "      <td>Visp</td>\n",
       "      <td>0.428571</td>\n",
       "      <td>0.368421</td>\n",
       "    </tr>\n",
       "    <tr>\n",
       "      <th>3</th>\n",
       "      <td>632</td>\n",
       "      <td>503, vote 2 : Résultat V/A 1 contre A-503.14 U...</td>\n",
       "      <td>20211207092238</td>\n",
       "      <td>L’État prend des mesures propres à lutter cont...</td>\n",
       "      <td>(néant)</td>\n",
       "      <td>92</td>\n",
       "      <td>12</td>\n",
       "      <td>1</td>\n",
       "      <td>1ère lecture - Commission 5</td>\n",
       "      <td>503</td>\n",
       "      <td>-1</td>\n",
       "      <td>-1</td>\n",
       "      <td>Matteo ABÄCHERLI</td>\n",
       "      <td>CVPO</td>\n",
       "      <td>1.0</td>\n",
       "      <td>H</td>\n",
       "      <td>45-65</td>\n",
       "      <td>Visp</td>\n",
       "      <td>0.428571</td>\n",
       "      <td>0.368421</td>\n",
       "    </tr>\n",
       "    <tr>\n",
       "      <th>4</th>\n",
       "      <td>648</td>\n",
       "      <td>418/915, vote 13 : Art. 418 commission 4 (y.c....</td>\n",
       "      <td>20211125161611</td>\n",
       "      <td>1 L’État est doté d’une ou plusieurs autorit...</td>\n",
       "      <td>1 &lt;u&gt;Plusieurs&lt;/u&gt; autorités assurent en tout...</td>\n",
       "      <td>64</td>\n",
       "      <td>48</td>\n",
       "      <td>1</td>\n",
       "      <td>1ère lecture - Commission 4</td>\n",
       "      <td>418</td>\n",
       "      <td>0</td>\n",
       "      <td>1</td>\n",
       "      <td>Matteo ABÄCHERLI</td>\n",
       "      <td>CVPO</td>\n",
       "      <td>1.0</td>\n",
       "      <td>H</td>\n",
       "      <td>45-65</td>\n",
       "      <td>Visp</td>\n",
       "      <td>0.428571</td>\n",
       "      <td>0.368421</td>\n",
       "    </tr>\n",
       "    <tr>\n",
       "      <th>5</th>\n",
       "      <td>657</td>\n",
       "      <td>418, al.3n, vote 2 : Commission contre A-418.7...</td>\n",
       "      <td>20211125160409</td>\n",
       "      <td>(néant)</td>\n",
       "      <td>Les organes dirigeants sont désignés par le ...</td>\n",
       "      <td>15</td>\n",
       "      <td>93</td>\n",
       "      <td>5</td>\n",
       "      <td>1ère lecture - Commission 4</td>\n",
       "      <td>418</td>\n",
       "      <td>0</td>\n",
       "      <td>1</td>\n",
       "      <td>Matteo ABÄCHERLI</td>\n",
       "      <td>CVPO</td>\n",
       "      <td>-1.0</td>\n",
       "      <td>H</td>\n",
       "      <td>45-65</td>\n",
       "      <td>Visp</td>\n",
       "      <td>0.428571</td>\n",
       "      <td>0.368421</td>\n",
       "    </tr>\n",
       "    <tr>\n",
       "      <th>6</th>\n",
       "      <td>658</td>\n",
       "      <td>418, al.1, vote 1 : Commission contre A-418.74...</td>\n",
       "      <td>20211125160314</td>\n",
       "      <td>Une ou plusieurs autorités assurent le contrôl...</td>\n",
       "      <td>Une seule autorité...</td>\n",
       "      <td>83</td>\n",
       "      <td>29</td>\n",
       "      <td>1</td>\n",
       "      <td>1ère lecture - Commission 4</td>\n",
       "      <td>418</td>\n",
       "      <td>0</td>\n",
       "      <td>-1</td>\n",
       "      <td>Matteo ABÄCHERLI</td>\n",
       "      <td>CVPO</td>\n",
       "      <td>-1.0</td>\n",
       "      <td>H</td>\n",
       "      <td>45-65</td>\n",
       "      <td>Visp</td>\n",
       "      <td>0.428571</td>\n",
       "      <td>0.368421</td>\n",
       "    </tr>\n",
       "    <tr>\n",
       "      <th>7</th>\n",
       "      <td>665</td>\n",
       "      <td>416a, vote 9 : Commission contre A-416a.67 AC</td>\n",
       "      <td>20211125145141</td>\n",
       "      <td>(néant)</td>\n",
       "      <td>La loi fixe un quotient familial afin d’attén...</td>\n",
       "      <td>47</td>\n",
       "      <td>53</td>\n",
       "      <td>18</td>\n",
       "      <td>1ère lecture - Commission 4</td>\n",
       "      <td>416</td>\n",
       "      <td>1</td>\n",
       "      <td>1</td>\n",
       "      <td>Matteo ABÄCHERLI</td>\n",
       "      <td>CVPO</td>\n",
       "      <td>1.0</td>\n",
       "      <td>H</td>\n",
       "      <td>45-65</td>\n",
       "      <td>Visp</td>\n",
       "      <td>0.428571</td>\n",
       "      <td>0.368421</td>\n",
       "    </tr>\n",
       "    <tr>\n",
       "      <th>8</th>\n",
       "      <td>687</td>\n",
       "      <td>411a, vote 1 : Commission vs A-411a.45 AC</td>\n",
       "      <td>20211125101932</td>\n",
       "      <td>(néant)</td>\n",
       "      <td>L'Etat met librement à disposition les jeux d...</td>\n",
       "      <td>56</td>\n",
       "      <td>51</td>\n",
       "      <td>6</td>\n",
       "      <td>1ère lecture - Commission 4</td>\n",
       "      <td>411</td>\n",
       "      <td>-1</td>\n",
       "      <td>1</td>\n",
       "      <td>Matteo ABÄCHERLI</td>\n",
       "      <td>CVPO</td>\n",
       "      <td>1.0</td>\n",
       "      <td>H</td>\n",
       "      <td>45-65</td>\n",
       "      <td>Visp</td>\n",
       "      <td>0.428571</td>\n",
       "      <td>0.368421</td>\n",
       "    </tr>\n",
       "    <tr>\n",
       "      <th>9</th>\n",
       "      <td>740</td>\n",
       "      <td>905, vote 5 : Commission (y.c. V/A 1-4) contre...</td>\n",
       "      <td>20211123122108</td>\n",
       "      <td>Il est institué un tribunal du droit de la fa...</td>\n",
       "      <td>(biffer)</td>\n",
       "      <td>69</td>\n",
       "      <td>36</td>\n",
       "      <td>10</td>\n",
       "      <td>1ère lecture - Commission 9</td>\n",
       "      <td>905</td>\n",
       "      <td>-1</td>\n",
       "      <td>-1</td>\n",
       "      <td>Matteo ABÄCHERLI</td>\n",
       "      <td>CVPO</td>\n",
       "      <td>-1.0</td>\n",
       "      <td>H</td>\n",
       "      <td>45-65</td>\n",
       "      <td>Visp</td>\n",
       "      <td>0.428571</td>\n",
       "      <td>0.368421</td>\n",
       "    </tr>\n",
       "  </tbody>\n",
       "</table>\n",
       "</div>"
      ],
      "text/plain": [
       "   Unnamed: 0                                              label  \\\n",
       "0         580  606, vote 1 : Commission contre A-606.28 CVPO/...   \n",
       "1         593  603, vote 4 : Commission (y.c. V/A 1-3) contre...   \n",
       "2         596  602, vote 2 : Commission (y.c. V/A 1) contre A...   \n",
       "3         632  503, vote 2 : Résultat V/A 1 contre A-503.14 U...   \n",
       "4         648  418/915, vote 13 : Art. 418 commission 4 (y.c....   \n",
       "5         657  418, al.3n, vote 2 : Commission contre A-418.7...   \n",
       "6         658  418, al.1, vote 1 : Commission contre A-418.74...   \n",
       "7         665      416a, vote 9 : Commission contre A-416a.67 AC   \n",
       "8         687          411a, vote 1 : Commission vs A-411a.45 AC   \n",
       "9         740  905, vote 5 : Commission (y.c. V/A 1-4) contre...   \n",
       "\n",
       "     affairVoteId                                     meaningYesText  \\\n",
       "0  20211207160250  En l’absence d’un congé parental fédéral, l’Ét...   \n",
       "1  20211207144242  Art. 603 Enfance<br/>\\n<ol><li>L’État et les c...   \n",
       "2  20211207143809  L'État et les communes développent une\\npoliti...   \n",
       "3  20211207092238  L’État prend des mesures propres à lutter cont...   \n",
       "4  20211125161611  1 L’État est doté d’une ou plusieurs autorit...   \n",
       "5  20211125160409                                            (néant)   \n",
       "6  20211125160314  Une ou plusieurs autorités assurent le contrôl...   \n",
       "7  20211125145141                                            (néant)   \n",
       "8  20211125101932                                            (néant)   \n",
       "9  20211123122108  Il est institué un tribunal du droit de la fa...   \n",
       "\n",
       "                                       meaningNoText  numYes  numNo  numAbst  \\\n",
       "0                                            (néant)      68     35        4   \n",
       "1                                            (néant)      90     14        1   \n",
       "2                                            (néant)      89     14        2   \n",
       "3                                            (néant)      92     12        1   \n",
       "4  1 <u>Plusieurs</u> autorités assurent en tout...      64     48        1   \n",
       "5  Les organes dirigeants sont désignés par le ...      15     93        5   \n",
       "6                              Une seule autorité...      83     29        1   \n",
       "7  La loi fixe un quotient familial afin d’attén...      47     53       18   \n",
       "8  L'Etat met librement à disposition les jeux d...      56     51        6   \n",
       "9                                           (biffer)      69     36       10   \n",
       "\n",
       "                       section  artId  orientation_art  progvscons_art  \\\n",
       "0  1ère lecture - Commission 6    606               -1              -1   \n",
       "1  1ère lecture - Commission 6    603               -1              -1   \n",
       "2  1ère lecture - Commission 6    602               -1              -1   \n",
       "3  1ère lecture - Commission 5    503               -1              -1   \n",
       "4  1ère lecture - Commission 4    418                0               1   \n",
       "5  1ère lecture - Commission 4    418                0               1   \n",
       "6  1ère lecture - Commission 4    418                0              -1   \n",
       "7  1ère lecture - Commission 4    416                1               1   \n",
       "8  1ère lecture - Commission 4    411               -1               1   \n",
       "9  1ère lecture - Commission 9    905               -1              -1   \n",
       "\n",
       "               name group  vote Genre    Âge District  orientation_dep  \\\n",
       "0  Matteo ABÄCHERLI  CVPO  -1.0     H  45-65     Visp         0.428571   \n",
       "1  Matteo ABÄCHERLI  CVPO   1.0     H  45-65     Visp         0.428571   \n",
       "2  Matteo ABÄCHERLI  CVPO   1.0     H  45-65     Visp         0.428571   \n",
       "3  Matteo ABÄCHERLI  CVPO   1.0     H  45-65     Visp         0.428571   \n",
       "4  Matteo ABÄCHERLI  CVPO   1.0     H  45-65     Visp         0.428571   \n",
       "5  Matteo ABÄCHERLI  CVPO  -1.0     H  45-65     Visp         0.428571   \n",
       "6  Matteo ABÄCHERLI  CVPO  -1.0     H  45-65     Visp         0.428571   \n",
       "7  Matteo ABÄCHERLI  CVPO   1.0     H  45-65     Visp         0.428571   \n",
       "8  Matteo ABÄCHERLI  CVPO   1.0     H  45-65     Visp         0.428571   \n",
       "9  Matteo ABÄCHERLI  CVPO  -1.0     H  45-65     Visp         0.428571   \n",
       "\n",
       "   progvscons_dep  \n",
       "0        0.368421  \n",
       "1        0.368421  \n",
       "2        0.368421  \n",
       "3        0.368421  \n",
       "4        0.368421  \n",
       "5        0.368421  \n",
       "6        0.368421  \n",
       "7        0.368421  \n",
       "8        0.368421  \n",
       "9        0.368421  "
      ]
     },
     "execution_count": 117,
     "metadata": {},
     "output_type": "execute_result"
    }
   ],
   "source": [
    "prepared_df = pd.merge(final_df, counts_df, on=['name', 'group', 'Âge'], how='inner')\n",
    "prepared_df.rename(columns={'orientation_x': 'orientation_art', 'progvscons_x': 'progvscons_art', 'orientation_y': 'orientation_dep', 'progvscons_y': 'progvscons_dep'}, inplace=True)\n",
    "prepared_df.head(10)"
   ]
  },
  {
   "cell_type": "code",
   "execution_count": 118,
   "id": "94d9a101",
   "metadata": {},
   "outputs": [],
   "source": [
    "prepared_df = prepared_df.drop(['label', 'numAbst', 'artId', 'numYes', 'numNo', 'name', 'affairVoteId', 'meaningYesText', 'meaningNoText', 'section','Unnamed: 0'], axis=1)\n",
    "prepared_df = pd.get_dummies(prepared_df, columns=['Genre', 'Âge', 'District', 'group'])"
   ]
  },
  {
   "cell_type": "code",
   "execution_count": 119,
   "id": "d16a4d39",
   "metadata": {},
   "outputs": [
    {
     "data": {
      "text/html": [
       "<div>\n",
       "<style scoped>\n",
       "    .dataframe tbody tr th:only-of-type {\n",
       "        vertical-align: middle;\n",
       "    }\n",
       "\n",
       "    .dataframe tbody tr th {\n",
       "        vertical-align: top;\n",
       "    }\n",
       "\n",
       "    .dataframe thead th {\n",
       "        text-align: right;\n",
       "    }\n",
       "</style>\n",
       "<table border=\"1\" class=\"dataframe\">\n",
       "  <thead>\n",
       "    <tr style=\"text-align: right;\">\n",
       "      <th></th>\n",
       "      <th>orientation_art</th>\n",
       "      <th>progvscons_art</th>\n",
       "      <th>vote</th>\n",
       "      <th>orientation_dep</th>\n",
       "      <th>progvscons_dep</th>\n",
       "      <th>Genre_F</th>\n",
       "      <th>Genre_H</th>\n",
       "      <th>Âge_18-30</th>\n",
       "      <th>Âge_30-45</th>\n",
       "      <th>Âge_45-65</th>\n",
       "      <th>...</th>\n",
       "      <th>group_AdG</th>\n",
       "      <th>group_CSPO</th>\n",
       "      <th>group_CVPO</th>\n",
       "      <th>group_INDEP</th>\n",
       "      <th>group_LES VERTS</th>\n",
       "      <th>group_PDC</th>\n",
       "      <th>group_SVPO</th>\n",
       "      <th>group_UDC</th>\n",
       "      <th>group_VLR</th>\n",
       "      <th>group_ZUK-VS</th>\n",
       "    </tr>\n",
       "  </thead>\n",
       "  <tbody>\n",
       "    <tr>\n",
       "      <th>0</th>\n",
       "      <td>-1</td>\n",
       "      <td>-1</td>\n",
       "      <td>-1.0</td>\n",
       "      <td>0.428571</td>\n",
       "      <td>0.368421</td>\n",
       "      <td>0</td>\n",
       "      <td>1</td>\n",
       "      <td>0</td>\n",
       "      <td>0</td>\n",
       "      <td>1</td>\n",
       "      <td>...</td>\n",
       "      <td>0</td>\n",
       "      <td>0</td>\n",
       "      <td>1</td>\n",
       "      <td>0</td>\n",
       "      <td>0</td>\n",
       "      <td>0</td>\n",
       "      <td>0</td>\n",
       "      <td>0</td>\n",
       "      <td>0</td>\n",
       "      <td>0</td>\n",
       "    </tr>\n",
       "    <tr>\n",
       "      <th>1</th>\n",
       "      <td>-1</td>\n",
       "      <td>-1</td>\n",
       "      <td>1.0</td>\n",
       "      <td>0.428571</td>\n",
       "      <td>0.368421</td>\n",
       "      <td>0</td>\n",
       "      <td>1</td>\n",
       "      <td>0</td>\n",
       "      <td>0</td>\n",
       "      <td>1</td>\n",
       "      <td>...</td>\n",
       "      <td>0</td>\n",
       "      <td>0</td>\n",
       "      <td>1</td>\n",
       "      <td>0</td>\n",
       "      <td>0</td>\n",
       "      <td>0</td>\n",
       "      <td>0</td>\n",
       "      <td>0</td>\n",
       "      <td>0</td>\n",
       "      <td>0</td>\n",
       "    </tr>\n",
       "    <tr>\n",
       "      <th>2</th>\n",
       "      <td>-1</td>\n",
       "      <td>-1</td>\n",
       "      <td>1.0</td>\n",
       "      <td>0.428571</td>\n",
       "      <td>0.368421</td>\n",
       "      <td>0</td>\n",
       "      <td>1</td>\n",
       "      <td>0</td>\n",
       "      <td>0</td>\n",
       "      <td>1</td>\n",
       "      <td>...</td>\n",
       "      <td>0</td>\n",
       "      <td>0</td>\n",
       "      <td>1</td>\n",
       "      <td>0</td>\n",
       "      <td>0</td>\n",
       "      <td>0</td>\n",
       "      <td>0</td>\n",
       "      <td>0</td>\n",
       "      <td>0</td>\n",
       "      <td>0</td>\n",
       "    </tr>\n",
       "    <tr>\n",
       "      <th>3</th>\n",
       "      <td>-1</td>\n",
       "      <td>-1</td>\n",
       "      <td>1.0</td>\n",
       "      <td>0.428571</td>\n",
       "      <td>0.368421</td>\n",
       "      <td>0</td>\n",
       "      <td>1</td>\n",
       "      <td>0</td>\n",
       "      <td>0</td>\n",
       "      <td>1</td>\n",
       "      <td>...</td>\n",
       "      <td>0</td>\n",
       "      <td>0</td>\n",
       "      <td>1</td>\n",
       "      <td>0</td>\n",
       "      <td>0</td>\n",
       "      <td>0</td>\n",
       "      <td>0</td>\n",
       "      <td>0</td>\n",
       "      <td>0</td>\n",
       "      <td>0</td>\n",
       "    </tr>\n",
       "    <tr>\n",
       "      <th>4</th>\n",
       "      <td>0</td>\n",
       "      <td>1</td>\n",
       "      <td>1.0</td>\n",
       "      <td>0.428571</td>\n",
       "      <td>0.368421</td>\n",
       "      <td>0</td>\n",
       "      <td>1</td>\n",
       "      <td>0</td>\n",
       "      <td>0</td>\n",
       "      <td>1</td>\n",
       "      <td>...</td>\n",
       "      <td>0</td>\n",
       "      <td>0</td>\n",
       "      <td>1</td>\n",
       "      <td>0</td>\n",
       "      <td>0</td>\n",
       "      <td>0</td>\n",
       "      <td>0</td>\n",
       "      <td>0</td>\n",
       "      <td>0</td>\n",
       "      <td>0</td>\n",
       "    </tr>\n",
       "  </tbody>\n",
       "</table>\n",
       "<p>5 rows × 36 columns</p>\n",
       "</div>"
      ],
      "text/plain": [
       "   orientation_art  progvscons_art  vote  orientation_dep  progvscons_dep  \\\n",
       "0               -1              -1  -1.0         0.428571        0.368421   \n",
       "1               -1              -1   1.0         0.428571        0.368421   \n",
       "2               -1              -1   1.0         0.428571        0.368421   \n",
       "3               -1              -1   1.0         0.428571        0.368421   \n",
       "4                0               1   1.0         0.428571        0.368421   \n",
       "\n",
       "   Genre_F  Genre_H  Âge_18-30  Âge_30-45  Âge_45-65  ...  group_AdG  \\\n",
       "0        0        1          0          0          1  ...          0   \n",
       "1        0        1          0          0          1  ...          0   \n",
       "2        0        1          0          0          1  ...          0   \n",
       "3        0        1          0          0          1  ...          0   \n",
       "4        0        1          0          0          1  ...          0   \n",
       "\n",
       "   group_CSPO  group_CVPO  group_INDEP  group_LES VERTS  group_PDC  \\\n",
       "0           0           1            0                0          0   \n",
       "1           0           1            0                0          0   \n",
       "2           0           1            0                0          0   \n",
       "3           0           1            0                0          0   \n",
       "4           0           1            0                0          0   \n",
       "\n",
       "   group_SVPO  group_UDC  group_VLR  group_ZUK-VS  \n",
       "0           0          0          0             0  \n",
       "1           0          0          0             0  \n",
       "2           0          0          0             0  \n",
       "3           0          0          0             0  \n",
       "4           0          0          0             0  \n",
       "\n",
       "[5 rows x 36 columns]"
      ]
     },
     "execution_count": 119,
     "metadata": {},
     "output_type": "execute_result"
    }
   ],
   "source": [
    "prepared_df.head()"
   ]
  },
  {
   "cell_type": "code",
   "execution_count": 120,
   "id": "73730211",
   "metadata": {},
   "outputs": [],
   "source": [
    "prepared_df.to_csv('dataSetForML.csv')"
   ]
  },
  {
   "cell_type": "code",
   "execution_count": null,
   "id": "9216ce0c",
   "metadata": {},
   "outputs": [],
   "source": []
  }
 ],
 "metadata": {
  "kernelspec": {
   "display_name": "Python 3",
   "language": "python",
   "name": "python3"
  },
  "language_info": {
   "codemirror_mode": {
    "name": "ipython",
    "version": 3
   },
   "file_extension": ".py",
   "mimetype": "text/x-python",
   "name": "python",
   "nbconvert_exporter": "python",
   "pygments_lexer": "ipython3",
   "version": "3.8.12"
  }
 },
 "nbformat": 4,
 "nbformat_minor": 5
}
