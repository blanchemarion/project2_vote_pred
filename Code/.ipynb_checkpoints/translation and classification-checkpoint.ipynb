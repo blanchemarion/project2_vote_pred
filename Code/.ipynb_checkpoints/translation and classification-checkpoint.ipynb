{
 "cells": [
  {
   "cell_type": "code",
   "execution_count": 1,
   "id": "acf96348",
   "metadata": {},
   "outputs": [],
   "source": [
    "from datasets import load_dataset\n",
    "from datasets import Dataset, DatasetDict\n",
    "from transformers import AutoModelForSequenceClassification, AutoTokenizer, AutoModelWithLMHead, TranslationPipeline\n",
    "\n",
    "import torch\n",
    "import pandas as pd"
   ]
  },
  {
   "cell_type": "markdown",
   "id": "f0484d2c",
   "metadata": {},
   "source": [
    "### Load the dataset"
   ]
  },
  {
   "cell_type": "code",
   "execution_count": 5,
   "id": "4eb6dae9",
   "metadata": {},
   "outputs": [
    {
     "name": "stdout",
     "output_type": "stream",
     "text": [
      "DatasetDict({\n",
      "    train: Dataset({\n",
      "        features: ['Unnamed: 0', 'article_text', 'artId'],\n",
      "        num_rows: 206\n",
      "    })\n",
      "})\n"
     ]
    }
   ],
   "source": [
    "articles_csv = pd.read_csv('/Users/Blanche/Desktop/ml_project2/Data/1ere_lecture_NLP_ds.csv')\n",
    "articles = Dataset.from_pandas(articles_csv)\n",
    "\n",
    "ds = DatasetDict()\n",
    "\n",
    "ds['train'] = articles\n",
    "\n",
    "print(ds)"
   ]
  },
  {
   "cell_type": "markdown",
   "id": "20c3db54",
   "metadata": {},
   "source": [
    "### Create a test and a train set for translation "
   ]
  },
  {
   "cell_type": "code",
   "execution_count": 38,
   "id": "5b6fdd5f",
   "metadata": {},
   "outputs": [],
   "source": [
    "ds = ds[\"train\"].train_test_split(test_size=0.2)"
   ]
  },
  {
   "cell_type": "code",
   "execution_count": 39,
   "id": "db230e2e",
   "metadata": {},
   "outputs": [
    {
     "data": {
      "text/plain": [
       "{'article_text': 'Relations extérieures Le Conseil d’État représente le canton. Il négocie et signe les accords intercantonaux et transfrontaliers, sous réserve des compétences du Grand  Conseil. Il informe régulièrement ce dernier des négociations en cours. Il répond aux consultations fédérales. Le Conseil d’État et la députation valaisanne aux Chambres fédérales constituent, selon les modalités fixées  par la loi, une commission permanente d’échange d’informations relatives aux affaires fédérales, dénommée  Conférence des affaires fédérales.',\n",
       " 'artId': 'Art. 89'}"
      ]
     },
     "execution_count": 39,
     "metadata": {},
     "output_type": "execute_result"
    }
   ],
   "source": [
    "ds[\"train\"][0]"
   ]
  },
  {
   "cell_type": "markdown",
   "id": "1213b764",
   "metadata": {},
   "source": [
    "### Initialize the models and the tokenizers for translation and classification"
   ]
  },
  {
   "cell_type": "code",
   "execution_count": 35,
   "id": "29f5a88d",
   "metadata": {},
   "outputs": [
    {
     "name": "stderr",
     "output_type": "stream",
     "text": [
      "Downloading: 100%|█████████████████████████| 1.20k/1.20k [00:00<00:00, 99.0kB/s]\n",
      "Downloading: 100%|███████████████████████████| 242M/242M [00:27<00:00, 8.71MB/s]\n",
      "Downloading: 100%|███████████████████████████| 792k/792k [00:00<00:00, 1.16MB/s]\n",
      "Downloading: 100%|█████████████████████████| 1.39M/1.39M [00:01<00:00, 1.19MB/s]\n",
      "/usr/local/lib/python3.10/site-packages/transformers/models/t5/tokenization_t5_fast.py:156: FutureWarning: This tokenizer was incorrectly instantiated with a model max length of 512 which will be corrected in Transformers v5.\n",
      "For now, this behavior is kept to avoid breaking backwards compatibility when padding/encoding with `truncation is True`.\n",
      "- Be aware that you SHOULD NOT rely on t5-small automatically truncating your input to 512 when padding/encoding.\n",
      "- If you want to encode/pad to sequences longer than 512 you can either instantiate this tokenizer with `model_max_length` or pass `max_length` when encoding/padding.\n",
      "- To avoid this warning, please instantiate this tokenizer with `model_max_length` set to your preferred value.\n",
      "  warnings.warn(\n"
     ]
    }
   ],
   "source": [
    "model_name_translation = \"t5-small\"\n",
    "model_name_classification = \"MoritzLaurer/policy-distilbert-7d\"\n",
    "\n",
    "model_classification = AutoModelForSequenceClassification.from_pretrained(model_name_classification)\n",
    "tokenizer_classification  = AutoTokenizer.from_pretrained(model_name_classification)\n",
    "\n",
    "model_translation = AutoModelForSeq2SeqLM.from_pretrained(model_name_translation)\n",
    "tokenizer_translation = AutoTokenizer.from_pretrained(model_name_translation)"
   ]
  },
  {
   "cell_type": "markdown",
   "id": "5891e647",
   "metadata": {},
   "source": [
    "### Tokenize the dataset\n"
   ]
  },
  {
   "cell_type": "code",
   "execution_count": 36,
   "id": "b27814c4",
   "metadata": {},
   "outputs": [],
   "source": []
  },
  {
   "cell_type": "markdown",
   "id": "bb905aa9",
   "metadata": {},
   "source": [
    "### Train the translation process"
   ]
  },
  {
   "cell_type": "code",
   "execution_count": null,
   "id": "8491d6f3",
   "metadata": {},
   "outputs": [],
   "source": []
  }
 ],
 "metadata": {
  "kernelspec": {
   "display_name": "Python 3",
   "language": "python",
   "name": "python3"
  },
  "language_info": {
   "codemirror_mode": {
    "name": "ipython",
    "version": 3
   },
   "file_extension": ".py",
   "mimetype": "text/x-python",
   "name": "python",
   "nbconvert_exporter": "python",
   "pygments_lexer": "ipython3",
   "version": "3.8.12"
  }
 },
 "nbformat": 4,
 "nbformat_minor": 5
}
