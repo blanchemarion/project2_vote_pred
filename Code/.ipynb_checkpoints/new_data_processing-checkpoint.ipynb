{
 "cells": [
  {
   "cell_type": "code",
   "execution_count": 22,
   "id": "45af05eb",
   "metadata": {},
   "outputs": [],
   "source": [
    "import pandas as pd\n",
    "import plotly.express as px\n",
    "import numpy as np\n",
    "import keras\n",
    "from keras import models\n",
    "from keras.layers import Embedding, Dense, Flatten\n",
    "import os\n",
    "import matplotlib.pyplot as plt\n",
    "from mpl_toolkits.mplot3d import Axes3D\n",
    "import sklearn\n",
    "from sklearn.preprocessing import MinMaxScaler"
   ]
  },
  {
   "cell_type": "markdown",
   "id": "70de2386",
   "metadata": {},
   "source": [
    "# Data extraction"
   ]
  },
  {
   "cell_type": "markdown",
   "id": "cf96d2c2",
   "metadata": {},
   "source": [
    "In this part, we will create the dataset that we will use for our machine learning algorithms. \n",
    "We have a dataset which contains the information of all the votes made during the elaboration of the Valais constituency. \n",
    "As we focus only on the votes of the first reading that are important, we will extract the votes that correspond to the first reading. Then, with the id of the votes, we will look for the precise information on each vote (the votes of each deputy). "
   ]
  },
  {
   "cell_type": "code",
   "execution_count": 23,
   "id": "c837ff84",
   "metadata": {
    "scrolled": true
   },
   "outputs": [
    {
     "data": {
      "text/html": [
       "<div>\n",
       "<style scoped>\n",
       "    .dataframe tbody tr th:only-of-type {\n",
       "        vertical-align: middle;\n",
       "    }\n",
       "\n",
       "    .dataframe tbody tr th {\n",
       "        vertical-align: top;\n",
       "    }\n",
       "\n",
       "    .dataframe thead th {\n",
       "        text-align: right;\n",
       "    }\n",
       "</style>\n",
       "<table border=\"1\" class=\"dataframe\">\n",
       "  <thead>\n",
       "    <tr style=\"text-align: right;\">\n",
       "      <th></th>\n",
       "      <th>label</th>\n",
       "      <th>affairVoteId</th>\n",
       "      <th>meaningYesText</th>\n",
       "      <th>meaningNoText</th>\n",
       "      <th>numYes</th>\n",
       "      <th>numNo</th>\n",
       "      <th>numAbst</th>\n",
       "      <th>section</th>\n",
       "      <th>art_id</th>\n",
       "    </tr>\n",
       "  </thead>\n",
       "  <tbody>\n",
       "    <tr>\n",
       "      <th>486</th>\n",
       "      <td>vote final : Ensemble de l’avant-projet tel qu...</td>\n",
       "      <td>20211209160112</td>\n",
       "      <td>Accepter</td>\n",
       "      <td>Refuser</td>\n",
       "      <td>69</td>\n",
       "      <td>28</td>\n",
       "      <td>17</td>\n",
       "      <td>1ère lecture - Vote final</td>\n",
       "      <td>vot</td>\n",
       "    </tr>\n",
       "    <tr>\n",
       "      <th>580</th>\n",
       "      <td>606, vote 1 : Commission contre A-606.28 CVPO/...</td>\n",
       "      <td>20211207160250</td>\n",
       "      <td>En l’absence d’un congé parental fédéral, l’Ét...</td>\n",
       "      <td>(néant)</td>\n",
       "      <td>68</td>\n",
       "      <td>35</td>\n",
       "      <td>4</td>\n",
       "      <td>1ère lecture - Commission 6</td>\n",
       "      <td>606</td>\n",
       "    </tr>\n",
       "    <tr>\n",
       "      <th>593</th>\n",
       "      <td>603, vote 4 : Commission (y.c. V/A 1-3) contre...</td>\n",
       "      <td>20211207144242</td>\n",
       "      <td>Art. 603 Enfance&lt;br/&gt;\\r\\n&lt;ol&gt;&lt;li&gt;L’État et les...</td>\n",
       "      <td>(néant)</td>\n",
       "      <td>90</td>\n",
       "      <td>14</td>\n",
       "      <td>1</td>\n",
       "      <td>1ère lecture - Commission 6</td>\n",
       "      <td>603</td>\n",
       "    </tr>\n",
       "    <tr>\n",
       "      <th>596</th>\n",
       "      <td>602, vote 2 : Commission (y.c. V/A 1) contre A...</td>\n",
       "      <td>20211207143809</td>\n",
       "      <td>L'État et les communes développent une\\r\\npoli...</td>\n",
       "      <td>(néant)</td>\n",
       "      <td>89</td>\n",
       "      <td>14</td>\n",
       "      <td>2</td>\n",
       "      <td>1ère lecture - Commission 6</td>\n",
       "      <td>602</td>\n",
       "    </tr>\n",
       "    <tr>\n",
       "      <th>632</th>\n",
       "      <td>503, vote 2 : Résultat V/A 1 contre A-503.14 U...</td>\n",
       "      <td>20211207092238</td>\n",
       "      <td>L’État prend des mesures propres à lutter cont...</td>\n",
       "      <td>(néant)</td>\n",
       "      <td>92</td>\n",
       "      <td>12</td>\n",
       "      <td>1</td>\n",
       "      <td>1ère lecture - Commission 5</td>\n",
       "      <td>503</td>\n",
       "    </tr>\n",
       "  </tbody>\n",
       "</table>\n",
       "</div>"
      ],
      "text/plain": [
       "                                                 label    affairVoteId  \\\n",
       "486  vote final : Ensemble de l’avant-projet tel qu...  20211209160112   \n",
       "580  606, vote 1 : Commission contre A-606.28 CVPO/...  20211207160250   \n",
       "593  603, vote 4 : Commission (y.c. V/A 1-3) contre...  20211207144242   \n",
       "596  602, vote 2 : Commission (y.c. V/A 1) contre A...  20211207143809   \n",
       "632  503, vote 2 : Résultat V/A 1 contre A-503.14 U...  20211207092238   \n",
       "\n",
       "                                        meaningYesText meaningNoText  numYes  \\\n",
       "486                                          Accepter        Refuser      69   \n",
       "580  En l’absence d’un congé parental fédéral, l’Ét...       (néant)      68   \n",
       "593  Art. 603 Enfance<br/>\\r\\n<ol><li>L’État et les...       (néant)      90   \n",
       "596  L'État et les communes développent une\\r\\npoli...       (néant)      89   \n",
       "632  L’État prend des mesures propres à lutter cont...       (néant)      92   \n",
       "\n",
       "     numNo  numAbst                      section art_id  \n",
       "486     28       17    1ère lecture - Vote final    vot  \n",
       "580     35        4  1ère lecture - Commission 6    606  \n",
       "593     14        1  1ère lecture - Commission 6    603  \n",
       "596     14        2  1ère lecture - Commission 6    602  \n",
       "632     12        1  1ère lecture - Commission 5    503  "
      ]
     },
     "execution_count": 23,
     "metadata": {},
     "output_type": "execute_result"
    }
   ],
   "source": [
    "df = pd.read_csv(\"../Data/Tous votes Constituante - Sheet1.csv\")\n",
    "df = df.drop(['startTime', 'endTime', 'filename','Unnamed: 0', 'affair', 'note', 'meaningYes', 'meaningNo', 'warning', 'linkVideo', 'attachment', 'DE_meaningYesText', 'DE_meaningNoText', 'DE_note', 'DE_affair', 'DE_section', 'DE_warning', 'DE_attachment'], axis=1)\n",
    "df = df[df['section'].str.contains(\"1ère lecture\")]\n",
    "df['art_id'] = df['label'].apply(lambda x: x.rsplit(' ')[0][:-1])\n",
    "df = df[~df['meaningYesText'].isnull()]\n",
    "\n",
    "df.head()"
   ]
  },
  {
   "cell_type": "code",
   "execution_count": 24,
   "id": "7ab95d35",
   "metadata": {},
   "outputs": [],
   "source": [
    "def take_out_letter(x):\n",
    "    l = len(x)\n",
    "    if (not x.isnumeric() and '/' in x):\n",
    "        return x.split('/')[0]\n",
    "    elif(not x.isnumeric()):\n",
    "        return x[:-1]\n",
    "    else: \n",
    "        return x"
   ]
  },
  {
   "cell_type": "code",
   "execution_count": 25,
   "id": "d9b25b03",
   "metadata": {
    "scrolled": true
   },
   "outputs": [],
   "source": [
    "df = df[df['art_id'].str[0].str.isnumeric()]\n",
    "df['art_id'] = df['art_id'].apply(lambda x: take_out_letter(x))\n",
    "df.to_csv('../Data/filtered_ds.csv')"
   ]
  },
  {
   "cell_type": "markdown",
   "id": "f077a724",
   "metadata": {},
   "source": [
    "We add manually the political orientation and a column to say if it is progessist or conservative. Those columns can take values -1, 0, 1. The file containing the values is 'filtered_ds - filtered_ds'"
   ]
  },
  {
   "cell_type": "code",
   "execution_count": 88,
   "id": "e6c7cb12",
   "metadata": {},
   "outputs": [],
   "source": [
    "def vote_transformation(x):\n",
    "    if x == 'Oui/Ja':\n",
    "        return 1\n",
    "    elif x == 'Non/Nein':\n",
    "        return -1\n",
    "    elif x == 'Abst./Enth.':\n",
    "        return 0\n",
    "    else: \n",
    "        return np.NaN"
   ]
  },
  {
   "cell_type": "code",
   "execution_count": 89,
   "id": "17644bde",
   "metadata": {},
   "outputs": [],
   "source": [
    "#We make the same transformation as the one made by quivotequoi.ch\n",
    "def age_transformation(x):\n",
    "    if x <=30: \n",
    "        return '18-30'\n",
    "    elif x>65:\n",
    "        return '65+'\n",
    "    elif x >30 and x <45:\n",
    "        return '30-45'\n",
    "    else :\n",
    "        return '45-65'"
   ]
  },
  {
   "cell_type": "markdown",
   "id": "a7cc03db",
   "metadata": {},
   "source": [
    "In the following, we will create a dataset with the precise information and the votes of each deputy on each vote that we have kept"
   ]
  },
  {
   "cell_type": "code",
   "execution_count": 90,
   "id": "ee781bc6",
   "metadata": {
    "scrolled": true
   },
   "outputs": [
    {
     "name": "stdout",
     "output_type": "stream",
     "text": [
      "                         name   group  vote Genre    Âge        District  \\\n",
      "0            Matteo ABÄCHERLI    CVPO  -1.0     H  30-45            Visp   \n",
      "1             Claudia ALPIGER  ZUK-VS   1.0     F  30-45            Brig   \n",
      "2              Romano AMACKER    SVPO  -1.0     H  18-30  Westlich Raron   \n",
      "3         Maria ARNOLD-ESCHER    CVPO  -1.0     F  45-65            Brig   \n",
      "4                Peter BÄHLER    SVPO  -1.0     H    65+            Goms   \n",
      "..                        ...     ...   ...   ...    ...             ...   \n",
      "125        Géraldine GIANADDA     VLR   NaN     F  45-65        Martigny   \n",
      "126  Géraldine GRANGES-GUENOT     UDC   NaN     F  45-65        Martigny   \n",
      "127        Bernard OBERHOLZER      AC   NaN     H    65+         Monthey   \n",
      "128             Damien RABOUD     UDC   NaN     H  30-45         Monthey   \n",
      "129             Fabien THETAZ     AdG   NaN     H  30-45         Monthey   \n",
      "\n",
      "       affairVoteId  \n",
      "0    20211207160250  \n",
      "1    20211207160250  \n",
      "2    20211207160250  \n",
      "3    20211207160250  \n",
      "4    20211207160250  \n",
      "..              ...  \n",
      "125  20211005113706  \n",
      "126  20211005113706  \n",
      "127  20211005113706  \n",
      "128  20211005113706  \n",
      "129  20211005113706  \n",
      "\n",
      "[5330 rows x 7 columns]\n"
     ]
    }
   ],
   "source": [
    "df = pd.read_csv('../Data/filtered_ds - filtered_ds.csv')\n",
    "ids_vote = df['affairVoteId']\n",
    "full_votes = pd.DataFrame()\n",
    "for ids in ids_vote:\n",
    "    temp_df = pd.read_csv(\"../Data/{}.csv\".format(ids))    \n",
    "    full_votes = pd.concat([full_votes, temp_df])\n",
    "temp_df = full_votes\n",
    "temp_df['vote'] = temp_df['vote'].apply(lambda x: vote_transformation(x))\n",
    "temp_df['Âge'] = temp_df['Âge'].apply(lambda x: age_transformation(x))\n",
    "print(temp_df)"
   ]
  },
  {
   "cell_type": "code",
   "execution_count": 91,
   "id": "fbf09f13",
   "metadata": {},
   "outputs": [
    {
     "data": {
      "text/html": [
       "<div>\n",
       "<style scoped>\n",
       "    .dataframe tbody tr th:only-of-type {\n",
       "        vertical-align: middle;\n",
       "    }\n",
       "\n",
       "    .dataframe tbody tr th {\n",
       "        vertical-align: top;\n",
       "    }\n",
       "\n",
       "    .dataframe thead th {\n",
       "        text-align: right;\n",
       "    }\n",
       "</style>\n",
       "<table border=\"1\" class=\"dataframe\">\n",
       "  <thead>\n",
       "    <tr style=\"text-align: right;\">\n",
       "      <th></th>\n",
       "      <th>name</th>\n",
       "      <th>group</th>\n",
       "      <th>vote</th>\n",
       "      <th>Genre</th>\n",
       "      <th>Âge</th>\n",
       "      <th>District</th>\n",
       "      <th>affairVoteId</th>\n",
       "    </tr>\n",
       "  </thead>\n",
       "  <tbody>\n",
       "    <tr>\n",
       "      <th>0</th>\n",
       "      <td>Matteo ABÄCHERLI</td>\n",
       "      <td>CVPO</td>\n",
       "      <td>-1.0</td>\n",
       "      <td>H</td>\n",
       "      <td>30-45</td>\n",
       "      <td>Visp</td>\n",
       "      <td>20211207160250</td>\n",
       "    </tr>\n",
       "    <tr>\n",
       "      <th>1</th>\n",
       "      <td>Claudia ALPIGER</td>\n",
       "      <td>ZUK-VS</td>\n",
       "      <td>1.0</td>\n",
       "      <td>F</td>\n",
       "      <td>30-45</td>\n",
       "      <td>Brig</td>\n",
       "      <td>20211207160250</td>\n",
       "    </tr>\n",
       "    <tr>\n",
       "      <th>2</th>\n",
       "      <td>Romano AMACKER</td>\n",
       "      <td>SVPO</td>\n",
       "      <td>-1.0</td>\n",
       "      <td>H</td>\n",
       "      <td>18-30</td>\n",
       "      <td>Westlich Raron</td>\n",
       "      <td>20211207160250</td>\n",
       "    </tr>\n",
       "    <tr>\n",
       "      <th>3</th>\n",
       "      <td>Maria ARNOLD-ESCHER</td>\n",
       "      <td>CVPO</td>\n",
       "      <td>-1.0</td>\n",
       "      <td>F</td>\n",
       "      <td>45-65</td>\n",
       "      <td>Brig</td>\n",
       "      <td>20211207160250</td>\n",
       "    </tr>\n",
       "    <tr>\n",
       "      <th>4</th>\n",
       "      <td>Peter BÄHLER</td>\n",
       "      <td>SVPO</td>\n",
       "      <td>-1.0</td>\n",
       "      <td>H</td>\n",
       "      <td>65+</td>\n",
       "      <td>Goms</td>\n",
       "      <td>20211207160250</td>\n",
       "    </tr>\n",
       "  </tbody>\n",
       "</table>\n",
       "</div>"
      ],
      "text/plain": [
       "                  name   group  vote Genre    Âge        District  \\\n",
       "0     Matteo ABÄCHERLI    CVPO  -1.0     H  30-45            Visp   \n",
       "1      Claudia ALPIGER  ZUK-VS   1.0     F  30-45            Brig   \n",
       "2       Romano AMACKER    SVPO  -1.0     H  18-30  Westlich Raron   \n",
       "3  Maria ARNOLD-ESCHER    CVPO  -1.0     F  45-65            Brig   \n",
       "4         Peter BÄHLER    SVPO  -1.0     H    65+            Goms   \n",
       "\n",
       "     affairVoteId  \n",
       "0  20211207160250  \n",
       "1  20211207160250  \n",
       "2  20211207160250  \n",
       "3  20211207160250  \n",
       "4  20211207160250  "
      ]
     },
     "execution_count": 91,
     "metadata": {},
     "output_type": "execute_result"
    }
   ],
   "source": [
    "full_votes.head()"
   ]
  },
  {
   "cell_type": "code",
   "execution_count": 92,
   "id": "009c293a",
   "metadata": {},
   "outputs": [],
   "source": [
    "df['art_id'] = df['art_id'].apply(lambda x: int(x))\n",
    "df.rename(columns={\"art_id\": \"artId\"}, inplace=True)"
   ]
  },
  {
   "cell_type": "markdown",
   "id": "ea0f0608",
   "metadata": {},
   "source": [
    "We combine the two datasets in order to have the final dataset with for each MP his votes for each article. "
   ]
  },
  {
   "cell_type": "code",
   "execution_count": 93,
   "id": "a95c2807",
   "metadata": {
    "scrolled": true
   },
   "outputs": [
    {
     "data": {
      "text/html": [
       "<div>\n",
       "<style scoped>\n",
       "    .dataframe tbody tr th:only-of-type {\n",
       "        vertical-align: middle;\n",
       "    }\n",
       "\n",
       "    .dataframe tbody tr th {\n",
       "        vertical-align: top;\n",
       "    }\n",
       "\n",
       "    .dataframe thead th {\n",
       "        text-align: right;\n",
       "    }\n",
       "</style>\n",
       "<table border=\"1\" class=\"dataframe\">\n",
       "  <thead>\n",
       "    <tr style=\"text-align: right;\">\n",
       "      <th></th>\n",
       "      <th>Unnamed: 0</th>\n",
       "      <th>label</th>\n",
       "      <th>affairVoteId</th>\n",
       "      <th>meaningYesText</th>\n",
       "      <th>meaningNoText</th>\n",
       "      <th>numYes</th>\n",
       "      <th>numNo</th>\n",
       "      <th>numAbst</th>\n",
       "      <th>section</th>\n",
       "      <th>artId</th>\n",
       "      <th>orientation</th>\n",
       "      <th>progvscons</th>\n",
       "      <th>name</th>\n",
       "      <th>group</th>\n",
       "      <th>vote</th>\n",
       "      <th>Genre</th>\n",
       "      <th>Âge</th>\n",
       "      <th>District</th>\n",
       "    </tr>\n",
       "  </thead>\n",
       "  <tbody>\n",
       "    <tr>\n",
       "      <th>0</th>\n",
       "      <td>580</td>\n",
       "      <td>606, vote 1 : Commission contre A-606.28 CVPO/...</td>\n",
       "      <td>20211207160250</td>\n",
       "      <td>En l’absence d’un congé parental fédéral, l’Ét...</td>\n",
       "      <td>(néant)</td>\n",
       "      <td>68</td>\n",
       "      <td>35</td>\n",
       "      <td>4</td>\n",
       "      <td>1ère lecture - Commission 6</td>\n",
       "      <td>606</td>\n",
       "      <td>-1</td>\n",
       "      <td>-1</td>\n",
       "      <td>Matteo ABÄCHERLI</td>\n",
       "      <td>CVPO</td>\n",
       "      <td>-1.0</td>\n",
       "      <td>H</td>\n",
       "      <td>30-45</td>\n",
       "      <td>Visp</td>\n",
       "    </tr>\n",
       "    <tr>\n",
       "      <th>1</th>\n",
       "      <td>580</td>\n",
       "      <td>606, vote 1 : Commission contre A-606.28 CVPO/...</td>\n",
       "      <td>20211207160250</td>\n",
       "      <td>En l’absence d’un congé parental fédéral, l’Ét...</td>\n",
       "      <td>(néant)</td>\n",
       "      <td>68</td>\n",
       "      <td>35</td>\n",
       "      <td>4</td>\n",
       "      <td>1ère lecture - Commission 6</td>\n",
       "      <td>606</td>\n",
       "      <td>-1</td>\n",
       "      <td>-1</td>\n",
       "      <td>Claudia ALPIGER</td>\n",
       "      <td>ZUK-VS</td>\n",
       "      <td>1.0</td>\n",
       "      <td>F</td>\n",
       "      <td>30-45</td>\n",
       "      <td>Brig</td>\n",
       "    </tr>\n",
       "    <tr>\n",
       "      <th>2</th>\n",
       "      <td>580</td>\n",
       "      <td>606, vote 1 : Commission contre A-606.28 CVPO/...</td>\n",
       "      <td>20211207160250</td>\n",
       "      <td>En l’absence d’un congé parental fédéral, l’Ét...</td>\n",
       "      <td>(néant)</td>\n",
       "      <td>68</td>\n",
       "      <td>35</td>\n",
       "      <td>4</td>\n",
       "      <td>1ère lecture - Commission 6</td>\n",
       "      <td>606</td>\n",
       "      <td>-1</td>\n",
       "      <td>-1</td>\n",
       "      <td>Romano AMACKER</td>\n",
       "      <td>SVPO</td>\n",
       "      <td>-1.0</td>\n",
       "      <td>H</td>\n",
       "      <td>18-30</td>\n",
       "      <td>Westlich Raron</td>\n",
       "    </tr>\n",
       "    <tr>\n",
       "      <th>3</th>\n",
       "      <td>580</td>\n",
       "      <td>606, vote 1 : Commission contre A-606.28 CVPO/...</td>\n",
       "      <td>20211207160250</td>\n",
       "      <td>En l’absence d’un congé parental fédéral, l’Ét...</td>\n",
       "      <td>(néant)</td>\n",
       "      <td>68</td>\n",
       "      <td>35</td>\n",
       "      <td>4</td>\n",
       "      <td>1ère lecture - Commission 6</td>\n",
       "      <td>606</td>\n",
       "      <td>-1</td>\n",
       "      <td>-1</td>\n",
       "      <td>Maria ARNOLD-ESCHER</td>\n",
       "      <td>CVPO</td>\n",
       "      <td>-1.0</td>\n",
       "      <td>F</td>\n",
       "      <td>45-65</td>\n",
       "      <td>Brig</td>\n",
       "    </tr>\n",
       "    <tr>\n",
       "      <th>4</th>\n",
       "      <td>580</td>\n",
       "      <td>606, vote 1 : Commission contre A-606.28 CVPO/...</td>\n",
       "      <td>20211207160250</td>\n",
       "      <td>En l’absence d’un congé parental fédéral, l’Ét...</td>\n",
       "      <td>(néant)</td>\n",
       "      <td>68</td>\n",
       "      <td>35</td>\n",
       "      <td>4</td>\n",
       "      <td>1ère lecture - Commission 6</td>\n",
       "      <td>606</td>\n",
       "      <td>-1</td>\n",
       "      <td>-1</td>\n",
       "      <td>Peter BÄHLER</td>\n",
       "      <td>SVPO</td>\n",
       "      <td>-1.0</td>\n",
       "      <td>H</td>\n",
       "      <td>65+</td>\n",
       "      <td>Goms</td>\n",
       "    </tr>\n",
       "  </tbody>\n",
       "</table>\n",
       "</div>"
      ],
      "text/plain": [
       "   Unnamed: 0                                              label  \\\n",
       "0         580  606, vote 1 : Commission contre A-606.28 CVPO/...   \n",
       "1         580  606, vote 1 : Commission contre A-606.28 CVPO/...   \n",
       "2         580  606, vote 1 : Commission contre A-606.28 CVPO/...   \n",
       "3         580  606, vote 1 : Commission contre A-606.28 CVPO/...   \n",
       "4         580  606, vote 1 : Commission contre A-606.28 CVPO/...   \n",
       "\n",
       "     affairVoteId                                     meaningYesText  \\\n",
       "0  20211207160250  En l’absence d’un congé parental fédéral, l’Ét...   \n",
       "1  20211207160250  En l’absence d’un congé parental fédéral, l’Ét...   \n",
       "2  20211207160250  En l’absence d’un congé parental fédéral, l’Ét...   \n",
       "3  20211207160250  En l’absence d’un congé parental fédéral, l’Ét...   \n",
       "4  20211207160250  En l’absence d’un congé parental fédéral, l’Ét...   \n",
       "\n",
       "  meaningNoText  numYes  numNo  numAbst                      section  artId  \\\n",
       "0       (néant)      68     35        4  1ère lecture - Commission 6    606   \n",
       "1       (néant)      68     35        4  1ère lecture - Commission 6    606   \n",
       "2       (néant)      68     35        4  1ère lecture - Commission 6    606   \n",
       "3       (néant)      68     35        4  1ère lecture - Commission 6    606   \n",
       "4       (néant)      68     35        4  1ère lecture - Commission 6    606   \n",
       "\n",
       "   orientation  progvscons                 name   group  vote Genre    Âge  \\\n",
       "0           -1          -1     Matteo ABÄCHERLI    CVPO  -1.0     H  30-45   \n",
       "1           -1          -1      Claudia ALPIGER  ZUK-VS   1.0     F  30-45   \n",
       "2           -1          -1       Romano AMACKER    SVPO  -1.0     H  18-30   \n",
       "3           -1          -1  Maria ARNOLD-ESCHER    CVPO  -1.0     F  45-65   \n",
       "4           -1          -1         Peter BÄHLER    SVPO  -1.0     H    65+   \n",
       "\n",
       "         District  \n",
       "0            Visp  \n",
       "1            Brig  \n",
       "2  Westlich Raron  \n",
       "3            Brig  \n",
       "4            Goms  "
      ]
     },
     "execution_count": 93,
     "metadata": {},
     "output_type": "execute_result"
    }
   ],
   "source": [
    "final_df = pd.merge(df, full_votes, on='affairVoteId')\n",
    "final_df.head()"
   ]
  },
  {
   "cell_type": "code",
   "execution_count": null,
   "id": "273f0953",
   "metadata": {},
   "outputs": [],
   "source": []
  },
  {
   "cell_type": "code",
   "execution_count": 109,
   "id": "24ec5294",
   "metadata": {
    "scrolled": true
   },
   "outputs": [
    {
     "name": "stderr",
     "output_type": "stream",
     "text": [
      "/tmp/ipykernel_11353/1867274650.py:2: SettingWithCopyWarning:\n",
      "\n",
      "\n",
      "A value is trying to be set on a copy of a slice from a DataFrame.\n",
      "Try using .loc[row_indexer,col_indexer] = value instead\n",
      "\n",
      "See the caveats in the documentation: https://pandas.pydata.org/pandas-docs/stable/user_guide/indexing.html#returning-a-view-versus-a-copy\n",
      "\n",
      "/tmp/ipykernel_11353/1867274650.py:3: SettingWithCopyWarning:\n",
      "\n",
      "\n",
      "A value is trying to be set on a copy of a slice from a DataFrame.\n",
      "Try using .loc[row_indexer,col_indexer] = value instead\n",
      "\n",
      "See the caveats in the documentation: https://pandas.pydata.org/pandas-docs/stable/user_guide/indexing.html#returning-a-view-versus-a-copy\n",
      "\n",
      "/tmp/ipykernel_11353/1867274650.py:7: SettingWithCopyWarning:\n",
      "\n",
      "\n",
      "A value is trying to be set on a copy of a slice from a DataFrame.\n",
      "Try using .loc[row_indexer,col_indexer] = value instead\n",
      "\n",
      "See the caveats in the documentation: https://pandas.pydata.org/pandas-docs/stable/user_guide/indexing.html#returning-a-view-versus-a-copy\n",
      "\n",
      "/tmp/ipykernel_11353/1867274650.py:8: SettingWithCopyWarning:\n",
      "\n",
      "\n",
      "A value is trying to be set on a copy of a slice from a DataFrame.\n",
      "Try using .loc[row_indexer,col_indexer] = value instead\n",
      "\n",
      "See the caveats in the documentation: https://pandas.pydata.org/pandas-docs/stable/user_guide/indexing.html#returning-a-view-versus-a-copy\n",
      "\n"
     ]
    },
    {
     "data": {
      "text/html": [
       "<div>\n",
       "<style scoped>\n",
       "    .dataframe tbody tr th:only-of-type {\n",
       "        vertical-align: middle;\n",
       "    }\n",
       "\n",
       "    .dataframe tbody tr th {\n",
       "        vertical-align: top;\n",
       "    }\n",
       "\n",
       "    .dataframe thead th {\n",
       "        text-align: right;\n",
       "    }\n",
       "</style>\n",
       "<table border=\"1\" class=\"dataframe\">\n",
       "  <thead>\n",
       "    <tr style=\"text-align: right;\">\n",
       "      <th></th>\n",
       "      <th></th>\n",
       "      <th></th>\n",
       "      <th></th>\n",
       "      <th></th>\n",
       "      <th>vote</th>\n",
       "      <th>orientation</th>\n",
       "      <th>progvscons</th>\n",
       "    </tr>\n",
       "    <tr>\n",
       "      <th>name</th>\n",
       "      <th>group</th>\n",
       "      <th>Âge</th>\n",
       "      <th>District</th>\n",
       "      <th>Genre</th>\n",
       "      <th></th>\n",
       "      <th></th>\n",
       "      <th></th>\n",
       "    </tr>\n",
       "  </thead>\n",
       "  <tbody>\n",
       "    <tr>\n",
       "      <th>Adeline CRETTENAND</th>\n",
       "      <th>VLR</th>\n",
       "      <th>18-30</th>\n",
       "      <th>Martigny</th>\n",
       "      <th>F</th>\n",
       "      <td>0.000000</td>\n",
       "      <td>0.333333</td>\n",
       "      <td>0.200000</td>\n",
       "    </tr>\n",
       "    <tr>\n",
       "      <th>Alain DUBOSSON</th>\n",
       "      <th>UDC</th>\n",
       "      <th>18-30</th>\n",
       "      <th>Monthey</th>\n",
       "      <th>H</th>\n",
       "      <td>-0.380952</td>\n",
       "      <td>0.769231</td>\n",
       "      <td>0.761905</td>\n",
       "    </tr>\n",
       "    <tr>\n",
       "      <th>Alain LÉGER</th>\n",
       "      <th>PDC</th>\n",
       "      <th>30-45</th>\n",
       "      <th>Martigny</th>\n",
       "      <th>H</th>\n",
       "      <td>0.375000</td>\n",
       "      <td>0.150000</td>\n",
       "      <td>0.054054</td>\n",
       "    </tr>\n",
       "    <tr>\n",
       "      <th>Alain SCHÖNBETT</th>\n",
       "      <th>VLR</th>\n",
       "      <th>65+</th>\n",
       "      <th>Monthey</th>\n",
       "      <th>H</th>\n",
       "      <td>0.459459</td>\n",
       "      <td>-0.333333</td>\n",
       "      <td>-0.470588</td>\n",
       "    </tr>\n",
       "    <tr>\n",
       "      <th>Alex BONVIN</th>\n",
       "      <th>UDC</th>\n",
       "      <th>45-65</th>\n",
       "      <th>Sierre</th>\n",
       "      <th>H</th>\n",
       "      <td>-0.351351</td>\n",
       "      <td>0.700000</td>\n",
       "      <td>0.647059</td>\n",
       "    </tr>\n",
       "    <tr>\n",
       "      <th>Alina DARBELLAY</th>\n",
       "      <th>LES VERTS</th>\n",
       "      <th>45-65</th>\n",
       "      <th>Sion</th>\n",
       "      <th>F</th>\n",
       "      <td>0.125000</td>\n",
       "      <td>-0.846154</td>\n",
       "      <td>-0.782609</td>\n",
       "    </tr>\n",
       "    <tr>\n",
       "      <th>Arnaud DUBOIS</th>\n",
       "      <th>VLR</th>\n",
       "      <th>30-45</th>\n",
       "      <th>Monthey</th>\n",
       "      <th>H</th>\n",
       "      <td>0.390244</td>\n",
       "      <td>-0.571429</td>\n",
       "      <td>-0.763158</td>\n",
       "    </tr>\n",
       "    <tr>\n",
       "      <th>Bernard OBERHOLZER</th>\n",
       "      <th>AC</th>\n",
       "      <th>65+</th>\n",
       "      <th>Monthey</th>\n",
       "      <th>H</th>\n",
       "      <td>0.230769</td>\n",
       "      <td>-1.000000</td>\n",
       "      <td>-0.636364</td>\n",
       "    </tr>\n",
       "    <tr>\n",
       "      <th>Bernard TROILLET</th>\n",
       "      <th>PDC</th>\n",
       "      <th>65+</th>\n",
       "      <th>Martigny</th>\n",
       "      <th>H</th>\n",
       "      <td>0.560976</td>\n",
       "      <td>-0.142857</td>\n",
       "      <td>-0.263158</td>\n",
       "    </tr>\n",
       "    <tr>\n",
       "      <th>Blaise CRETTOL</th>\n",
       "      <th>AC</th>\n",
       "      <th>45-65</th>\n",
       "      <th>Sierre</th>\n",
       "      <th>H</th>\n",
       "      <td>0.210526</td>\n",
       "      <td>-0.809524</td>\n",
       "      <td>-0.833333</td>\n",
       "    </tr>\n",
       "    <tr>\n",
       "      <th>Caroline REYNARD</th>\n",
       "      <th>AdG</th>\n",
       "      <th>18-30</th>\n",
       "      <th>Sion</th>\n",
       "      <th>F</th>\n",
       "      <td>0.170732</td>\n",
       "      <td>-0.761905</td>\n",
       "      <td>-0.789474</td>\n",
       "    </tr>\n",
       "    <tr>\n",
       "      <th>Chantal CARLEN</th>\n",
       "      <th>CVPO</th>\n",
       "      <th>18-30</th>\n",
       "      <th>Goms</th>\n",
       "      <th>F</th>\n",
       "      <td>0.111111</td>\n",
       "      <td>0.600000</td>\n",
       "      <td>0.555556</td>\n",
       "    </tr>\n",
       "    <tr>\n",
       "      <th>Christelle HERITIER</th>\n",
       "      <th>VLR</th>\n",
       "      <th>30-45</th>\n",
       "      <th>Sion</th>\n",
       "      <th>F</th>\n",
       "      <td>0.320000</td>\n",
       "      <td>-0.692308</td>\n",
       "      <td>-0.695652</td>\n",
       "    </tr>\n",
       "    <tr>\n",
       "      <th>Christian ESCHER</th>\n",
       "      <th>CSPO</th>\n",
       "      <th>30-45</th>\n",
       "      <th>Brig</th>\n",
       "      <th>H</th>\n",
       "      <td>0.432432</td>\n",
       "      <td>-0.052632</td>\n",
       "      <td>-0.171429</td>\n",
       "    </tr>\n",
       "    <tr>\n",
       "      <th>Christine ROUX</th>\n",
       "      <th>PDC</th>\n",
       "      <th>45-65</th>\n",
       "      <th>Sion</th>\n",
       "      <th>F</th>\n",
       "      <td>0.156250</td>\n",
       "      <td>0.400000</td>\n",
       "      <td>0.344828</td>\n",
       "    </tr>\n",
       "  </tbody>\n",
       "</table>\n",
       "</div>"
      ],
      "text/plain": [
       "                                                        vote  orientation  \\\n",
       "name                group     Âge   District Genre                          \n",
       "Adeline CRETTENAND  VLR       18-30 Martigny F      0.000000     0.333333   \n",
       "Alain DUBOSSON      UDC       18-30 Monthey  H     -0.380952     0.769231   \n",
       "Alain LÉGER         PDC       30-45 Martigny H      0.375000     0.150000   \n",
       "Alain SCHÖNBETT     VLR       65+   Monthey  H      0.459459    -0.333333   \n",
       "Alex BONVIN         UDC       45-65 Sierre   H     -0.351351     0.700000   \n",
       "Alina DARBELLAY     LES VERTS 45-65 Sion     F      0.125000    -0.846154   \n",
       "Arnaud DUBOIS       VLR       30-45 Monthey  H      0.390244    -0.571429   \n",
       "Bernard OBERHOLZER  AC        65+   Monthey  H      0.230769    -1.000000   \n",
       "Bernard TROILLET    PDC       65+   Martigny H      0.560976    -0.142857   \n",
       "Blaise CRETTOL      AC        45-65 Sierre   H      0.210526    -0.809524   \n",
       "Caroline REYNARD    AdG       18-30 Sion     F      0.170732    -0.761905   \n",
       "Chantal CARLEN      CVPO      18-30 Goms     F      0.111111     0.600000   \n",
       "Christelle HERITIER VLR       30-45 Sion     F      0.320000    -0.692308   \n",
       "Christian ESCHER    CSPO      30-45 Brig     H      0.432432    -0.052632   \n",
       "Christine ROUX      PDC       45-65 Sion     F      0.156250     0.400000   \n",
       "\n",
       "                                                    progvscons  \n",
       "name                group     Âge   District Genre              \n",
       "Adeline CRETTENAND  VLR       18-30 Martigny F        0.200000  \n",
       "Alain DUBOSSON      UDC       18-30 Monthey  H        0.761905  \n",
       "Alain LÉGER         PDC       30-45 Martigny H        0.054054  \n",
       "Alain SCHÖNBETT     VLR       65+   Monthey  H       -0.470588  \n",
       "Alex BONVIN         UDC       45-65 Sierre   H        0.647059  \n",
       "Alina DARBELLAY     LES VERTS 45-65 Sion     F       -0.782609  \n",
       "Arnaud DUBOIS       VLR       30-45 Monthey  H       -0.763158  \n",
       "Bernard OBERHOLZER  AC        65+   Monthey  H       -0.636364  \n",
       "Bernard TROILLET    PDC       65+   Martigny H       -0.263158  \n",
       "Blaise CRETTOL      AC        45-65 Sierre   H       -0.833333  \n",
       "Caroline REYNARD    AdG       18-30 Sion     F       -0.789474  \n",
       "Chantal CARLEN      CVPO      18-30 Goms     F        0.555556  \n",
       "Christelle HERITIER VLR       30-45 Sion     F       -0.695652  \n",
       "Christian ESCHER    CSPO      30-45 Brig     H       -0.171429  \n",
       "Christine ROUX      PDC       45-65 Sion     F        0.344828  "
      ]
     },
     "execution_count": 109,
     "metadata": {},
     "output_type": "execute_result"
    }
   ],
   "source": [
    "counts_df = final_df[['name', 'group', 'Genre', 'vote', 'District', 'Âge', 'orientation', 'progvscons']]\n",
    "counts_df['orientation'] = counts_df['orientation'].replace(0, np.NaN)\n",
    "counts_df['progvscons'] = counts_df['progvscons'].replace(0, np.NaN)\n",
    "#Si l'article est neutre, alors il n'influence pas la position du député \n",
    "# Cependant, s'il vote abst pour un article, alors ca influe sa position\n",
    "#Les votes aucun sont pas pris en compte\n",
    "counts_df['orientation'] = counts_df['vote'] * counts_df['orientation']\n",
    "counts_df['progvscons'] = counts_df['vote'] * counts_df['progvscons']\n",
    "counts_df = counts_df.groupby(['name', 'group', 'Âge', 'District', 'Genre']).mean()\n",
    "counts_df.head(15)"
   ]
  },
  {
   "cell_type": "code",
   "execution_count": 110,
   "id": "a256caad",
   "metadata": {},
   "outputs": [],
   "source": [
    "final_df.to_csv(\"../Data/check_votes_dep.csv\")"
   ]
  },
  {
   "cell_type": "code",
   "execution_count": 111,
   "id": "59c71069",
   "metadata": {
    "scrolled": false
   },
   "outputs": [
    {
     "data": {
      "text/html": [
       "<div>\n",
       "<style scoped>\n",
       "    .dataframe tbody tr th:only-of-type {\n",
       "        vertical-align: middle;\n",
       "    }\n",
       "\n",
       "    .dataframe tbody tr th {\n",
       "        vertical-align: top;\n",
       "    }\n",
       "\n",
       "    .dataframe thead th {\n",
       "        text-align: right;\n",
       "    }\n",
       "</style>\n",
       "<table border=\"1\" class=\"dataframe\">\n",
       "  <thead>\n",
       "    <tr style=\"text-align: right;\">\n",
       "      <th></th>\n",
       "      <th>name</th>\n",
       "      <th>group</th>\n",
       "      <th>Âge</th>\n",
       "      <th>District</th>\n",
       "      <th>Genre</th>\n",
       "      <th>vote</th>\n",
       "      <th>orientation</th>\n",
       "      <th>progvscons</th>\n",
       "    </tr>\n",
       "  </thead>\n",
       "  <tbody>\n",
       "    <tr>\n",
       "      <th>0</th>\n",
       "      <td>Adeline CRETTENAND</td>\n",
       "      <td>VLR</td>\n",
       "      <td>18-30</td>\n",
       "      <td>Martigny</td>\n",
       "      <td>F</td>\n",
       "      <td>0.000000</td>\n",
       "      <td>0.333333</td>\n",
       "      <td>0.200000</td>\n",
       "    </tr>\n",
       "    <tr>\n",
       "      <th>1</th>\n",
       "      <td>Alain DUBOSSON</td>\n",
       "      <td>UDC</td>\n",
       "      <td>18-30</td>\n",
       "      <td>Monthey</td>\n",
       "      <td>H</td>\n",
       "      <td>-0.380952</td>\n",
       "      <td>0.769231</td>\n",
       "      <td>0.761905</td>\n",
       "    </tr>\n",
       "    <tr>\n",
       "      <th>2</th>\n",
       "      <td>Alain LÉGER</td>\n",
       "      <td>PDC</td>\n",
       "      <td>30-45</td>\n",
       "      <td>Martigny</td>\n",
       "      <td>H</td>\n",
       "      <td>0.375000</td>\n",
       "      <td>0.150000</td>\n",
       "      <td>0.054054</td>\n",
       "    </tr>\n",
       "    <tr>\n",
       "      <th>3</th>\n",
       "      <td>Alain SCHÖNBETT</td>\n",
       "      <td>VLR</td>\n",
       "      <td>65+</td>\n",
       "      <td>Monthey</td>\n",
       "      <td>H</td>\n",
       "      <td>0.459459</td>\n",
       "      <td>-0.333333</td>\n",
       "      <td>-0.470588</td>\n",
       "    </tr>\n",
       "    <tr>\n",
       "      <th>4</th>\n",
       "      <td>Alex BONVIN</td>\n",
       "      <td>UDC</td>\n",
       "      <td>45-65</td>\n",
       "      <td>Sierre</td>\n",
       "      <td>H</td>\n",
       "      <td>-0.351351</td>\n",
       "      <td>0.700000</td>\n",
       "      <td>0.647059</td>\n",
       "    </tr>\n",
       "  </tbody>\n",
       "</table>\n",
       "</div>"
      ],
      "text/plain": [
       "                 name group    Âge  District Genre      vote  orientation  \\\n",
       "0  Adeline CRETTENAND   VLR  18-30  Martigny     F  0.000000     0.333333   \n",
       "1      Alain DUBOSSON   UDC  18-30   Monthey     H -0.380952     0.769231   \n",
       "2         Alain LÉGER   PDC  30-45  Martigny     H  0.375000     0.150000   \n",
       "3     Alain SCHÖNBETT   VLR    65+   Monthey     H  0.459459    -0.333333   \n",
       "4         Alex BONVIN   UDC  45-65    Sierre     H -0.351351     0.700000   \n",
       "\n",
       "   progvscons  \n",
       "0    0.200000  \n",
       "1    0.761905  \n",
       "2    0.054054  \n",
       "3   -0.470588  \n",
       "4    0.647059  "
      ]
     },
     "execution_count": 111,
     "metadata": {},
     "output_type": "execute_result"
    }
   ],
   "source": [
    "counts_df = counts_df.reset_index()\n",
    "counts_df.head()"
   ]
  },
  {
   "cell_type": "markdown",
   "id": "cbe23dfc",
   "metadata": {},
   "source": [
    "We will create graphs representing the positions of the MPs on our liberal, conservative and left-right oriented graph. "
   ]
  },
  {
   "cell_type": "code",
   "execution_count": 112,
   "id": "d819b5ab",
   "metadata": {},
   "outputs": [
    {
     "data": {
      "application/vnd.plotly.v1+json": {
       "config": {
        "plotlyServerURL": "https://plot.ly"
       },
       "data": [
        {
         "hovertemplate": "<b>%{hovertext}</b><br><br>group=VLR<br>orientation=%{x}<br>progvscons=%{y}<extra></extra>",
         "hovertext": [
          "Adeline CRETTENAND",
          "Alain SCHÖNBETT",
          "Arnaud DUBOIS",
          "Christelle HERITIER",
          "Claude NANÇOZ",
          "Côme VUILLE",
          "François GENOUD",
          "Géraldine GIANADDA",
          "Jean-Pierre REY",
          "Mathieu CALOZ",
          "Mathieu SARRASIN",
          "Mélanie FOLLONIER",
          "Narcisse CRETTENAND",
          "Natascha FARQUET",
          "Nicolas CHABLAIS",
          "Philippe BENDER",
          "Pierre-Alain RAEMY",
          "Raymonde SCHOCH",
          "Romain UDRY",
          "Ruth STALDER",
          "Stéphane CLAVIEN"
         ],
         "legendgroup": "VLR",
         "marker": {
          "color": "#636efa",
          "symbol": "circle"
         },
         "mode": "markers",
         "name": "VLR",
         "orientation": "v",
         "showlegend": true,
         "type": "scatter",
         "x": [
          0.3333333333333333,
          -0.3333333333333333,
          -0.5714285714285714,
          -0.6923076923076923,
          0.125,
          -0.3333333333333333,
          -0.23809523809523808,
          -0.8125,
          -0.3333333333333333,
          -0.09523809523809523,
          0,
          0.125,
          0.3333333333333333,
          -0.5263157894736842,
          0,
          0.09523809523809523,
          -0.5238095238095238,
          -0.6666666666666666,
          0.26666666666666666,
          -0.23809523809523808,
          -0.42857142857142855
         ],
         "xaxis": "x",
         "y": [
          0.2,
          -0.47058823529411764,
          -0.7631578947368421,
          -0.6956521739130435,
          -0.13333333333333333,
          -0.3684210526315789,
          -0.40540540540540543,
          -0.7407407407407407,
          -0.42105263157894735,
          -0.3684210526315789,
          -0.0967741935483871,
          -0.25,
          0.10526315789473684,
          -0.6388888888888888,
          0.3333333333333333,
          0.10526315789473684,
          -0.6842105263157895,
          -0.5789473684210527,
          0.03571428571428571,
          -0.21052631578947367,
          -0.6756756756756757
         ],
         "yaxis": "y"
        },
        {
         "hovertemplate": "<b>%{hovertext}</b><br><br>group=UDC<br>orientation=%{x}<br>progvscons=%{y}<extra></extra>",
         "hovertext": [
          "Alain DUBOSSON",
          "Alex BONVIN",
          "Claudy BESSE",
          "Damien FUMEAUX",
          "Damien RABOUD",
          "Edmond PERRUCHOUD",
          "François QUENNOZ",
          "Gabrielle BARRAS",
          "Géraldine GRANGES GUENOT",
          "Géraldine GRANGES-GUENOT",
          "Jean-Baptiste UDRESSY",
          "Jean-Dominique CIPOLLA",
          "Jérôme FORMAZ",
          "Marc-Antoine GENOLET",
          "Vincent BOAND"
         ],
         "legendgroup": "UDC",
         "marker": {
          "color": "#EF553B",
          "symbol": "circle"
         },
         "mode": "markers",
         "name": "UDC",
         "orientation": "v",
         "showlegend": true,
         "type": "scatter",
         "x": [
          0.7692307692307693,
          0.7,
          0.47058823529411764,
          0.6666666666666666,
          0.5294117647058824,
          0.7692307692307693,
          0.42105263157894735,
          0.5,
          -1,
          0.5,
          0.7647058823529411,
          0.6666666666666666,
          0.6842105263157895,
          0.7142857142857143,
          0.5789473684210527
         ],
         "xaxis": "x",
         "y": [
          0.7619047619047619,
          0.6470588235294118,
          0.45161290322580644,
          0.631578947368421,
          0.5588235294117647,
          0.7586206896551724,
          0.4444444444444444,
          0.4838709677419355,
          -1,
          0.5416666666666666,
          0.6470588235294118,
          0.5526315789473685,
          0.5428571428571428,
          0.7105263157894737,
          0.45454545454545453
         ],
         "yaxis": "y"
        },
        {
         "hovertemplate": "<b>%{hovertext}</b><br><br>group=PDC<br>orientation=%{x}<br>progvscons=%{y}<extra></extra>",
         "hovertext": [
          "Alain LÉGER",
          "Bernard TROILLET",
          "Christine ROUX",
          "Damien CLERC",
          "Damien LUISIER",
          "Florence CARRON DARBELLAY",
          "Florent FAVRE",
          "Frédéric PITTELOUD",
          "Grégoire VANNAY",
          "Géraldine POUGET-ZUFFEREY",
          "Gérard SALAMIN",
          "Jean-Marc SAVIOZ",
          "Jenny VOEFFRAY",
          "Joséphine WAEBER",
          "Kamy MAY",
          "Marie ZUCHUAT",
          "Marius DUMOULIN",
          "Natacha MARET",
          "Nicolas BONVIN",
          "Nicolas METTAN",
          "Patricia CASAYS",
          "Pierre DARBELLAY",
          "Ralph DESSIMOZ",
          "Sandro FONTANA",
          "Sophie BORNET",
          "Yann RODUIT"
         ],
         "legendgroup": "PDC",
         "marker": {
          "color": "#00cc96",
          "symbol": "circle"
         },
         "mode": "markers",
         "name": "PDC",
         "orientation": "v",
         "showlegend": true,
         "type": "scatter",
         "x": [
          0.15,
          -0.14285714285714285,
          0.4,
          0.7777777777777778,
          0.2222222222222222,
          0,
          0.375,
          0.23809523809523808,
          -0.09523809523809523,
          0.19047619047619047,
          0.3333333333333333,
          0.2857142857142857,
          -0.17647058823529413,
          0.3,
          0.14285714285714285,
          0.19047619047619047,
          0.23809523809523808,
          0.2857142857142857,
          0.3333333333333333,
          -0.4,
          0.11764705882352941,
          0.75,
          0.21052631578947367,
          0.09523809523809523,
          0.10526315789473684,
          0.19047619047619047
         ],
         "xaxis": "x",
         "y": [
          0.05405405405405406,
          -0.2631578947368421,
          0.3448275862068966,
          0.625,
          0.21212121212121213,
          -0.2702702702702703,
          0.15151515151515152,
          0.15789473684210525,
          -0.10526315789473684,
          0.02631578947368421,
          0.15789473684210525,
          0.18421052631578946,
          -0.3333333333333333,
          0.21212121212121213,
          0.15789473684210525,
          0.05714285714285714,
          0.10526315789473684,
          0.05263157894736842,
          0.07894736842105263,
          -0.4074074074074074,
          -0.09090909090909091,
          0.3333333333333333,
          0,
          0.07894736842105263,
          0.02857142857142857,
          0.10810810810810811
         ],
         "yaxis": "y"
        },
        {
         "hovertemplate": "<b>%{hovertext}</b><br><br>group=LES VERTS<br>orientation=%{x}<br>progvscons=%{y}<extra></extra>",
         "hovertext": [
          "Alina DARBELLAY",
          "Claudia GAILLARD MOREND",
          "Florine CARRON",
          "Gabrielle CORNUT-ZUFFEREY",
          "Georges VIONNET",
          "Jean-Daniel NANCHEN",
          "Laurence VUAGNIAUX",
          "Léa ROUILLER DESSIMOZ",
          "Sabine FOURNIER",
          "Vincent GÜNTHER"
         ],
         "legendgroup": "LES VERTS",
         "marker": {
          "color": "#ab63fa",
          "symbol": "circle"
         },
         "mode": "markers",
         "name": "LES VERTS",
         "orientation": "v",
         "showlegend": true,
         "type": "scatter",
         "x": [
          -0.8461538461538461,
          -0.7142857142857143,
          -0.7368421052631579,
          -0.7777777777777778,
          -0.8095238095238095,
          -0.8095238095238095,
          -0.7619047619047619,
          -0.875,
          -0.8095238095238095,
          -0.8095238095238095
         ],
         "xaxis": "x",
         "y": [
          -0.782608695652174,
          -0.8421052631578947,
          -0.7,
          -0.8787878787878788,
          -0.8421052631578947,
          -0.8421052631578947,
          -0.868421052631579,
          -0.7878787878787878,
          -0.8947368421052632,
          -0.8947368421052632
         ],
         "yaxis": "y"
        },
        {
         "hovertemplate": "<b>%{hovertext}</b><br><br>group=AC<br>orientation=%{x}<br>progvscons=%{y}<extra></extra>",
         "hovertext": [
          "Bernard OBERHOLZER",
          "Blaise CRETTOL",
          "Cilette CRETTON",
          "Célina RAMSAUER",
          "Emilie PRAZ",
          "Florian EVEQUOZ",
          "Jacques BLANC",
          "Jean BONNARD",
          "Jean ZERMATTEN",
          "Jean-François LOVEY",
          "Johan ROCHEL",
          "Léonard BENDER",
          "Martine ROUILLER",
          "Pascale FUMEAUX",
          "Sophie DUCREY",
          "Vincent LUYET"
         ],
         "legendgroup": "AC",
         "marker": {
          "color": "#FFA15A",
          "symbol": "circle"
         },
         "mode": "markers",
         "name": "AC",
         "orientation": "v",
         "showlegend": true,
         "type": "scatter",
         "x": [
          -1,
          -0.8095238095238095,
          -0.7619047619047619,
          -0.7647058823529411,
          -0.8095238095238095,
          -0.9047619047619048,
          -0.6111111111111112,
          -0.8095238095238095,
          -0.7894736842105263,
          -0.8,
          -0.7142857142857143,
          -0.7142857142857143,
          -0.8095238095238095,
          -0.7647058823529411,
          -0.7142857142857143,
          -0.8095238095238095
         ],
         "xaxis": "x",
         "y": [
          -0.6363636363636364,
          -0.8333333333333334,
          -0.7631578947368421,
          -0.7647058823529411,
          -0.8421052631578947,
          -0.7894736842105263,
          -0.59375,
          -0.7631578947368421,
          -0.7777777777777778,
          -0.8333333333333334,
          -0.7894736842105263,
          -0.7368421052631579,
          -0.868421052631579,
          -0.8571428571428571,
          -0.8421052631578947,
          -0.8857142857142857
         ],
         "yaxis": "y"
        },
        {
         "hovertemplate": "<b>%{hovertext}</b><br><br>group=AdG<br>orientation=%{x}<br>progvscons=%{y}<extra></extra>",
         "hovertext": [
          "Caroline REYNARD",
          "Corinne DUC BONVIN",
          "Fabien THETAZ",
          "Gaël BOURGEOIS",
          "Janine REY-SIGGEN",
          "Jean-Marc DUPONT",
          "Lucile CURDY",
          "Olivier DERIVAZ",
          "Pierre SCHERTENLEIB"
         ],
         "legendgroup": "AdG",
         "marker": {
          "color": "#19d3f3",
          "symbol": "circle"
         },
         "mode": "markers",
         "name": "AdG",
         "orientation": "v",
         "showlegend": true,
         "type": "scatter",
         "x": [
          -0.7619047619047619,
          -0.7368421052631579,
          -0.7777777777777778,
          -1,
          -0.8095238095238095,
          -0.8095238095238095,
          -0.7222222222222222,
          -0.7,
          -0.8095238095238095
         ],
         "xaxis": "x",
         "y": [
          -0.7894736842105263,
          -0.8571428571428571,
          -0.8484848484848485,
          -0.7391304347826086,
          -0.8421052631578947,
          -0.8421052631578947,
          -0.7878787878787878,
          -0.7297297297297297,
          -0.8421052631578947
         ],
         "yaxis": "y"
        },
        {
         "hovertemplate": "<b>%{hovertext}</b><br><br>group=CVPO<br>orientation=%{x}<br>progvscons=%{y}<extra></extra>",
         "hovertext": [
          "Chantal CARLEN",
          "Dominik KNUBEL",
          "Fabienne MURMANN",
          "Felix RUPPEN",
          "Lukas KALBERMATTEN",
          "Maria ARNOLD-ESCHER",
          "Martin SCHÜRCH",
          "Matteo ABÄCHERLI",
          "Michael BURGENER",
          "Paul BURGENER",
          "Rafael WELSCHEN",
          "Rainer MATHIER"
         ],
         "legendgroup": "CVPO",
         "marker": {
          "color": "#FF6692",
          "symbol": "circle"
         },
         "mode": "markers",
         "name": "CVPO",
         "orientation": "v",
         "showlegend": true,
         "type": "scatter",
         "x": [
          0.6,
          -0.15,
          0.42857142857142855,
          0.75,
          0.2222222222222222,
          0.47368421052631576,
          0.7142857142857143,
          0.42857142857142855,
          0.42857142857142855,
          -0.11764705882352941,
          0.5384615384615384,
          0.42857142857142855
         ],
         "xaxis": "x",
         "y": [
          0.5555555555555556,
          -0.05405405405405406,
          0.2631578947368421,
          0.4375,
          0.0625,
          0.41935483870967744,
          0.47368421052631576,
          0.3684210526315789,
          0.2631578947368421,
          -0.1,
          0.48148148148148145,
          0.3157894736842105
         ],
         "yaxis": "y"
        },
        {
         "hovertemplate": "<b>%{hovertext}</b><br><br>group=CSPO<br>orientation=%{x}<br>progvscons=%{y}<extra></extra>",
         "hovertext": [
          "Christian ESCHER",
          "Danica ZURBRIGGEN LEHNER",
          "Flavio SCHMID",
          "Hermann BRUNNER",
          "Ida HÄFLIGER",
          "Kurt REGOTZ",
          "Leander WILLINER",
          "Thomas MATTER"
         ],
         "legendgroup": "CSPO",
         "marker": {
          "color": "#B6E880",
          "symbol": "circle"
         },
         "mode": "markers",
         "name": "CSPO",
         "orientation": "v",
         "showlegend": true,
         "type": "scatter",
         "x": [
          -0.05263157894736842,
          -0.3333333333333333,
          0.3333333333333333,
          -0.09523809523809523,
          -0.05263157894736842,
          0.047619047619047616,
          0.15,
          -0.047619047619047616
         ],
         "xaxis": "x",
         "y": [
          -0.17142857142857143,
          -0.20833333333333334,
          0.23809523809523808,
          -0.02631578947368421,
          -0.12121212121212122,
          0.1111111111111111,
          0.02702702702702703,
          -0.21052631578947367
         ],
         "yaxis": "y"
        },
        {
         "hovertemplate": "<b>%{hovertext}</b><br><br>group=ZUK-VS<br>orientation=%{x}<br>progvscons=%{y}<extra></extra>",
         "hovertext": [
          "Claudia ALPIGER",
          "German EYER",
          "Madeleine KUONEN-EGGO",
          "Monika HOLZEGGER",
          "Peter BURRI",
          "Rahel ZIMMERMANN"
         ],
         "legendgroup": "ZUK-VS",
         "marker": {
          "color": "#FF97FF",
          "symbol": "circle"
         },
         "mode": "markers",
         "name": "ZUK-VS",
         "orientation": "v",
         "showlegend": true,
         "type": "scatter",
         "x": [
          -0.7,
          -0.7142857142857143,
          -0.7222222222222222,
          -0.38095238095238093,
          -0.14285714285714285,
          -0.7
         ],
         "xaxis": "x",
         "y": [
          -0.6216216216216216,
          -0.5945945945945946,
          -0.6666666666666666,
          -0.13157894736842105,
          0,
          -0.6216216216216216
         ],
         "yaxis": "y"
        },
        {
         "hovertemplate": "<b>%{hovertext}</b><br><br>group=SVPO<br>orientation=%{x}<br>progvscons=%{y}<extra></extra>",
         "hovertext": [
          "Fabian ZURBRIGGEN",
          "Lukas JÄGER",
          "Michael KREUZER",
          "Peter BÄHLER",
          "Ralph KUMMER",
          "Remo SCHNYDER",
          "Romano AMACKER"
         ],
         "legendgroup": "SVPO",
         "marker": {
          "color": "#FECB52",
          "symbol": "circle"
         },
         "mode": "markers",
         "name": "SVPO",
         "orientation": "v",
         "showlegend": true,
         "type": "scatter",
         "x": [
          0.5238095238095238,
          0.5384615384615384,
          0.5238095238095238,
          0.5789473684210527,
          0.23076923076923078,
          0.375,
          0.5238095238095238
         ],
         "xaxis": "x",
         "y": [
          0.7631578947368421,
          0.76,
          0.6842105263157895,
          0.7714285714285715,
          0.6923076923076923,
          0.5862068965517241,
          0.7368421052631579
         ],
         "yaxis": "y"
        },
        {
         "hovertemplate": "<b>%{hovertext}</b><br><br>group=INDEP<br>orientation=%{x}<br>progvscons=%{y}<extra></extra>",
         "hovertext": [
          "Gerhard SCHMID"
         ],
         "legendgroup": "INDEP",
         "marker": {
          "color": "#636efa",
          "symbol": "circle"
         },
         "mode": "markers",
         "name": "INDEP",
         "orientation": "v",
         "showlegend": true,
         "type": "scatter",
         "x": [
          -0.7142857142857143
         ],
         "xaxis": "x",
         "y": [
          -0.631578947368421
         ],
         "yaxis": "y"
        }
       ],
       "layout": {
        "legend": {
         "title": {
          "text": "group"
         },
         "tracegroupgap": 0
        },
        "margin": {
         "t": 60
        },
        "template": {
         "data": {
          "bar": [
           {
            "error_x": {
             "color": "#2a3f5f"
            },
            "error_y": {
             "color": "#2a3f5f"
            },
            "marker": {
             "line": {
              "color": "#E5ECF6",
              "width": 0.5
             },
             "pattern": {
              "fillmode": "overlay",
              "size": 10,
              "solidity": 0.2
             }
            },
            "type": "bar"
           }
          ],
          "barpolar": [
           {
            "marker": {
             "line": {
              "color": "#E5ECF6",
              "width": 0.5
             },
             "pattern": {
              "fillmode": "overlay",
              "size": 10,
              "solidity": 0.2
             }
            },
            "type": "barpolar"
           }
          ],
          "carpet": [
           {
            "aaxis": {
             "endlinecolor": "#2a3f5f",
             "gridcolor": "white",
             "linecolor": "white",
             "minorgridcolor": "white",
             "startlinecolor": "#2a3f5f"
            },
            "baxis": {
             "endlinecolor": "#2a3f5f",
             "gridcolor": "white",
             "linecolor": "white",
             "minorgridcolor": "white",
             "startlinecolor": "#2a3f5f"
            },
            "type": "carpet"
           }
          ],
          "choropleth": [
           {
            "colorbar": {
             "outlinewidth": 0,
             "ticks": ""
            },
            "type": "choropleth"
           }
          ],
          "contour": [
           {
            "colorbar": {
             "outlinewidth": 0,
             "ticks": ""
            },
            "colorscale": [
             [
              0,
              "#0d0887"
             ],
             [
              0.1111111111111111,
              "#46039f"
             ],
             [
              0.2222222222222222,
              "#7201a8"
             ],
             [
              0.3333333333333333,
              "#9c179e"
             ],
             [
              0.4444444444444444,
              "#bd3786"
             ],
             [
              0.5555555555555556,
              "#d8576b"
             ],
             [
              0.6666666666666666,
              "#ed7953"
             ],
             [
              0.7777777777777778,
              "#fb9f3a"
             ],
             [
              0.8888888888888888,
              "#fdca26"
             ],
             [
              1,
              "#f0f921"
             ]
            ],
            "type": "contour"
           }
          ],
          "contourcarpet": [
           {
            "colorbar": {
             "outlinewidth": 0,
             "ticks": ""
            },
            "type": "contourcarpet"
           }
          ],
          "heatmap": [
           {
            "colorbar": {
             "outlinewidth": 0,
             "ticks": ""
            },
            "colorscale": [
             [
              0,
              "#0d0887"
             ],
             [
              0.1111111111111111,
              "#46039f"
             ],
             [
              0.2222222222222222,
              "#7201a8"
             ],
             [
              0.3333333333333333,
              "#9c179e"
             ],
             [
              0.4444444444444444,
              "#bd3786"
             ],
             [
              0.5555555555555556,
              "#d8576b"
             ],
             [
              0.6666666666666666,
              "#ed7953"
             ],
             [
              0.7777777777777778,
              "#fb9f3a"
             ],
             [
              0.8888888888888888,
              "#fdca26"
             ],
             [
              1,
              "#f0f921"
             ]
            ],
            "type": "heatmap"
           }
          ],
          "heatmapgl": [
           {
            "colorbar": {
             "outlinewidth": 0,
             "ticks": ""
            },
            "colorscale": [
             [
              0,
              "#0d0887"
             ],
             [
              0.1111111111111111,
              "#46039f"
             ],
             [
              0.2222222222222222,
              "#7201a8"
             ],
             [
              0.3333333333333333,
              "#9c179e"
             ],
             [
              0.4444444444444444,
              "#bd3786"
             ],
             [
              0.5555555555555556,
              "#d8576b"
             ],
             [
              0.6666666666666666,
              "#ed7953"
             ],
             [
              0.7777777777777778,
              "#fb9f3a"
             ],
             [
              0.8888888888888888,
              "#fdca26"
             ],
             [
              1,
              "#f0f921"
             ]
            ],
            "type": "heatmapgl"
           }
          ],
          "histogram": [
           {
            "marker": {
             "pattern": {
              "fillmode": "overlay",
              "size": 10,
              "solidity": 0.2
             }
            },
            "type": "histogram"
           }
          ],
          "histogram2d": [
           {
            "colorbar": {
             "outlinewidth": 0,
             "ticks": ""
            },
            "colorscale": [
             [
              0,
              "#0d0887"
             ],
             [
              0.1111111111111111,
              "#46039f"
             ],
             [
              0.2222222222222222,
              "#7201a8"
             ],
             [
              0.3333333333333333,
              "#9c179e"
             ],
             [
              0.4444444444444444,
              "#bd3786"
             ],
             [
              0.5555555555555556,
              "#d8576b"
             ],
             [
              0.6666666666666666,
              "#ed7953"
             ],
             [
              0.7777777777777778,
              "#fb9f3a"
             ],
             [
              0.8888888888888888,
              "#fdca26"
             ],
             [
              1,
              "#f0f921"
             ]
            ],
            "type": "histogram2d"
           }
          ],
          "histogram2dcontour": [
           {
            "colorbar": {
             "outlinewidth": 0,
             "ticks": ""
            },
            "colorscale": [
             [
              0,
              "#0d0887"
             ],
             [
              0.1111111111111111,
              "#46039f"
             ],
             [
              0.2222222222222222,
              "#7201a8"
             ],
             [
              0.3333333333333333,
              "#9c179e"
             ],
             [
              0.4444444444444444,
              "#bd3786"
             ],
             [
              0.5555555555555556,
              "#d8576b"
             ],
             [
              0.6666666666666666,
              "#ed7953"
             ],
             [
              0.7777777777777778,
              "#fb9f3a"
             ],
             [
              0.8888888888888888,
              "#fdca26"
             ],
             [
              1,
              "#f0f921"
             ]
            ],
            "type": "histogram2dcontour"
           }
          ],
          "mesh3d": [
           {
            "colorbar": {
             "outlinewidth": 0,
             "ticks": ""
            },
            "type": "mesh3d"
           }
          ],
          "parcoords": [
           {
            "line": {
             "colorbar": {
              "outlinewidth": 0,
              "ticks": ""
             }
            },
            "type": "parcoords"
           }
          ],
          "pie": [
           {
            "automargin": true,
            "type": "pie"
           }
          ],
          "scatter": [
           {
            "fillpattern": {
             "fillmode": "overlay",
             "size": 10,
             "solidity": 0.2
            },
            "type": "scatter"
           }
          ],
          "scatter3d": [
           {
            "line": {
             "colorbar": {
              "outlinewidth": 0,
              "ticks": ""
             }
            },
            "marker": {
             "colorbar": {
              "outlinewidth": 0,
              "ticks": ""
             }
            },
            "type": "scatter3d"
           }
          ],
          "scattercarpet": [
           {
            "marker": {
             "colorbar": {
              "outlinewidth": 0,
              "ticks": ""
             }
            },
            "type": "scattercarpet"
           }
          ],
          "scattergeo": [
           {
            "marker": {
             "colorbar": {
              "outlinewidth": 0,
              "ticks": ""
             }
            },
            "type": "scattergeo"
           }
          ],
          "scattergl": [
           {
            "marker": {
             "colorbar": {
              "outlinewidth": 0,
              "ticks": ""
             }
            },
            "type": "scattergl"
           }
          ],
          "scattermapbox": [
           {
            "marker": {
             "colorbar": {
              "outlinewidth": 0,
              "ticks": ""
             }
            },
            "type": "scattermapbox"
           }
          ],
          "scatterpolar": [
           {
            "marker": {
             "colorbar": {
              "outlinewidth": 0,
              "ticks": ""
             }
            },
            "type": "scatterpolar"
           }
          ],
          "scatterpolargl": [
           {
            "marker": {
             "colorbar": {
              "outlinewidth": 0,
              "ticks": ""
             }
            },
            "type": "scatterpolargl"
           }
          ],
          "scatterternary": [
           {
            "marker": {
             "colorbar": {
              "outlinewidth": 0,
              "ticks": ""
             }
            },
            "type": "scatterternary"
           }
          ],
          "surface": [
           {
            "colorbar": {
             "outlinewidth": 0,
             "ticks": ""
            },
            "colorscale": [
             [
              0,
              "#0d0887"
             ],
             [
              0.1111111111111111,
              "#46039f"
             ],
             [
              0.2222222222222222,
              "#7201a8"
             ],
             [
              0.3333333333333333,
              "#9c179e"
             ],
             [
              0.4444444444444444,
              "#bd3786"
             ],
             [
              0.5555555555555556,
              "#d8576b"
             ],
             [
              0.6666666666666666,
              "#ed7953"
             ],
             [
              0.7777777777777778,
              "#fb9f3a"
             ],
             [
              0.8888888888888888,
              "#fdca26"
             ],
             [
              1,
              "#f0f921"
             ]
            ],
            "type": "surface"
           }
          ],
          "table": [
           {
            "cells": {
             "fill": {
              "color": "#EBF0F8"
             },
             "line": {
              "color": "white"
             }
            },
            "header": {
             "fill": {
              "color": "#C8D4E3"
             },
             "line": {
              "color": "white"
             }
            },
            "type": "table"
           }
          ]
         },
         "layout": {
          "annotationdefaults": {
           "arrowcolor": "#2a3f5f",
           "arrowhead": 0,
           "arrowwidth": 1
          },
          "autotypenumbers": "strict",
          "coloraxis": {
           "colorbar": {
            "outlinewidth": 0,
            "ticks": ""
           }
          },
          "colorscale": {
           "diverging": [
            [
             0,
             "#8e0152"
            ],
            [
             0.1,
             "#c51b7d"
            ],
            [
             0.2,
             "#de77ae"
            ],
            [
             0.3,
             "#f1b6da"
            ],
            [
             0.4,
             "#fde0ef"
            ],
            [
             0.5,
             "#f7f7f7"
            ],
            [
             0.6,
             "#e6f5d0"
            ],
            [
             0.7,
             "#b8e186"
            ],
            [
             0.8,
             "#7fbc41"
            ],
            [
             0.9,
             "#4d9221"
            ],
            [
             1,
             "#276419"
            ]
           ],
           "sequential": [
            [
             0,
             "#0d0887"
            ],
            [
             0.1111111111111111,
             "#46039f"
            ],
            [
             0.2222222222222222,
             "#7201a8"
            ],
            [
             0.3333333333333333,
             "#9c179e"
            ],
            [
             0.4444444444444444,
             "#bd3786"
            ],
            [
             0.5555555555555556,
             "#d8576b"
            ],
            [
             0.6666666666666666,
             "#ed7953"
            ],
            [
             0.7777777777777778,
             "#fb9f3a"
            ],
            [
             0.8888888888888888,
             "#fdca26"
            ],
            [
             1,
             "#f0f921"
            ]
           ],
           "sequentialminus": [
            [
             0,
             "#0d0887"
            ],
            [
             0.1111111111111111,
             "#46039f"
            ],
            [
             0.2222222222222222,
             "#7201a8"
            ],
            [
             0.3333333333333333,
             "#9c179e"
            ],
            [
             0.4444444444444444,
             "#bd3786"
            ],
            [
             0.5555555555555556,
             "#d8576b"
            ],
            [
             0.6666666666666666,
             "#ed7953"
            ],
            [
             0.7777777777777778,
             "#fb9f3a"
            ],
            [
             0.8888888888888888,
             "#fdca26"
            ],
            [
             1,
             "#f0f921"
            ]
           ]
          },
          "colorway": [
           "#636efa",
           "#EF553B",
           "#00cc96",
           "#ab63fa",
           "#FFA15A",
           "#19d3f3",
           "#FF6692",
           "#B6E880",
           "#FF97FF",
           "#FECB52"
          ],
          "font": {
           "color": "#2a3f5f"
          },
          "geo": {
           "bgcolor": "white",
           "lakecolor": "white",
           "landcolor": "#E5ECF6",
           "showlakes": true,
           "showland": true,
           "subunitcolor": "white"
          },
          "hoverlabel": {
           "align": "left"
          },
          "hovermode": "closest",
          "mapbox": {
           "style": "light"
          },
          "paper_bgcolor": "white",
          "plot_bgcolor": "#E5ECF6",
          "polar": {
           "angularaxis": {
            "gridcolor": "white",
            "linecolor": "white",
            "ticks": ""
           },
           "bgcolor": "#E5ECF6",
           "radialaxis": {
            "gridcolor": "white",
            "linecolor": "white",
            "ticks": ""
           }
          },
          "scene": {
           "xaxis": {
            "backgroundcolor": "#E5ECF6",
            "gridcolor": "white",
            "gridwidth": 2,
            "linecolor": "white",
            "showbackground": true,
            "ticks": "",
            "zerolinecolor": "white"
           },
           "yaxis": {
            "backgroundcolor": "#E5ECF6",
            "gridcolor": "white",
            "gridwidth": 2,
            "linecolor": "white",
            "showbackground": true,
            "ticks": "",
            "zerolinecolor": "white"
           },
           "zaxis": {
            "backgroundcolor": "#E5ECF6",
            "gridcolor": "white",
            "gridwidth": 2,
            "linecolor": "white",
            "showbackground": true,
            "ticks": "",
            "zerolinecolor": "white"
           }
          },
          "shapedefaults": {
           "line": {
            "color": "#2a3f5f"
           }
          },
          "ternary": {
           "aaxis": {
            "gridcolor": "white",
            "linecolor": "white",
            "ticks": ""
           },
           "baxis": {
            "gridcolor": "white",
            "linecolor": "white",
            "ticks": ""
           },
           "bgcolor": "#E5ECF6",
           "caxis": {
            "gridcolor": "white",
            "linecolor": "white",
            "ticks": ""
           }
          },
          "title": {
           "x": 0.05
          },
          "xaxis": {
           "automargin": true,
           "gridcolor": "white",
           "linecolor": "white",
           "ticks": "",
           "title": {
            "standoff": 15
           },
           "zerolinecolor": "white",
           "zerolinewidth": 2
          },
          "yaxis": {
           "automargin": true,
           "gridcolor": "white",
           "linecolor": "white",
           "ticks": "",
           "title": {
            "standoff": 15
           },
           "zerolinecolor": "white",
           "zerolinewidth": 2
          }
         }
        },
        "xaxis": {
         "anchor": "y",
         "domain": [
          0,
          1
         ],
         "range": [
          -1,
          1
         ],
         "title": {
          "text": "orientation"
         }
        },
        "yaxis": {
         "anchor": "x",
         "domain": [
          0,
          1
         ],
         "range": [
          -1,
          1
         ],
         "title": {
          "text": "progvscons"
         }
        }
       }
      },
      "text/html": [
       "<div>                            <div id=\"4f562d4d-2f2f-44ef-87a8-40798d1b0331\" class=\"plotly-graph-div\" style=\"height:525px; width:100%;\"></div>            <script type=\"text/javascript\">                require([\"plotly\"], function(Plotly) {                    window.PLOTLYENV=window.PLOTLYENV || {};                                    if (document.getElementById(\"4f562d4d-2f2f-44ef-87a8-40798d1b0331\")) {                    Plotly.newPlot(                        \"4f562d4d-2f2f-44ef-87a8-40798d1b0331\",                        [{\"hovertemplate\":\"<b>%{hovertext}</b><br><br>group=VLR<br>orientation=%{x}<br>progvscons=%{y}<extra></extra>\",\"hovertext\":[\"Adeline CRETTENAND\",\"Alain SCH\\u00d6NBETT\",\"Arnaud DUBOIS\",\"Christelle HERITIER\",\"Claude NAN\\u00c7OZ\",\"C\\u00f4me VUILLE\",\"Fran\\u00e7ois GENOUD\",\"G\\u00e9raldine GIANADDA\",\"Jean-Pierre REY\",\"Mathieu CALOZ\",\"Mathieu SARRASIN\",\"M\\u00e9lanie FOLLONIER\",\"Narcisse CRETTENAND\",\"Natascha FARQUET\",\"Nicolas CHABLAIS\",\"Philippe BENDER\",\"Pierre-Alain RAEMY\",\"Raymonde SCHOCH\",\"Romain UDRY\",\"Ruth STALDER\",\"St\\u00e9phane CLAVIEN\"],\"legendgroup\":\"VLR\",\"marker\":{\"color\":\"#636efa\",\"symbol\":\"circle\"},\"mode\":\"markers\",\"name\":\"VLR\",\"orientation\":\"v\",\"showlegend\":true,\"x\":[0.3333333333333333,-0.3333333333333333,-0.5714285714285714,-0.6923076923076923,0.125,-0.3333333333333333,-0.23809523809523808,-0.8125,-0.3333333333333333,-0.09523809523809523,0.0,0.125,0.3333333333333333,-0.5263157894736842,0.0,0.09523809523809523,-0.5238095238095238,-0.6666666666666666,0.26666666666666666,-0.23809523809523808,-0.42857142857142855],\"xaxis\":\"x\",\"y\":[0.2,-0.47058823529411764,-0.7631578947368421,-0.6956521739130435,-0.13333333333333333,-0.3684210526315789,-0.40540540540540543,-0.7407407407407407,-0.42105263157894735,-0.3684210526315789,-0.0967741935483871,-0.25,0.10526315789473684,-0.6388888888888888,0.3333333333333333,0.10526315789473684,-0.6842105263157895,-0.5789473684210527,0.03571428571428571,-0.21052631578947367,-0.6756756756756757],\"yaxis\":\"y\",\"type\":\"scatter\"},{\"hovertemplate\":\"<b>%{hovertext}</b><br><br>group=UDC<br>orientation=%{x}<br>progvscons=%{y}<extra></extra>\",\"hovertext\":[\"Alain DUBOSSON\",\"Alex BONVIN\",\"Claudy BESSE\",\"Damien FUMEAUX\",\"Damien RABOUD\",\"Edmond PERRUCHOUD\",\"Fran\\u00e7ois QUENNOZ\",\"Gabrielle BARRAS\",\"G\\u00e9raldine GRANGES GUENOT\",\"G\\u00e9raldine GRANGES-GUENOT\",\"Jean-Baptiste UDRESSY\",\"Jean-Dominique CIPOLLA\",\"J\\u00e9r\\u00f4me FORMAZ\",\"Marc-Antoine GENOLET\",\"Vincent BOAND\"],\"legendgroup\":\"UDC\",\"marker\":{\"color\":\"#EF553B\",\"symbol\":\"circle\"},\"mode\":\"markers\",\"name\":\"UDC\",\"orientation\":\"v\",\"showlegend\":true,\"x\":[0.7692307692307693,0.7,0.47058823529411764,0.6666666666666666,0.5294117647058824,0.7692307692307693,0.42105263157894735,0.5,-1.0,0.5,0.7647058823529411,0.6666666666666666,0.6842105263157895,0.7142857142857143,0.5789473684210527],\"xaxis\":\"x\",\"y\":[0.7619047619047619,0.6470588235294118,0.45161290322580644,0.631578947368421,0.5588235294117647,0.7586206896551724,0.4444444444444444,0.4838709677419355,-1.0,0.5416666666666666,0.6470588235294118,0.5526315789473685,0.5428571428571428,0.7105263157894737,0.45454545454545453],\"yaxis\":\"y\",\"type\":\"scatter\"},{\"hovertemplate\":\"<b>%{hovertext}</b><br><br>group=PDC<br>orientation=%{x}<br>progvscons=%{y}<extra></extra>\",\"hovertext\":[\"Alain L\\u00c9GER\",\"Bernard TROILLET\",\"Christine ROUX\",\"Damien CLERC\",\"Damien LUISIER\",\"Florence CARRON DARBELLAY\",\"Florent FAVRE\",\"Fr\\u00e9d\\u00e9ric PITTELOUD\",\"Gr\\u00e9goire VANNAY\",\"G\\u00e9raldine POUGET-ZUFFEREY\",\"G\\u00e9rard SALAMIN\",\"Jean-Marc SAVIOZ\",\"Jenny VOEFFRAY\",\"Jos\\u00e9phine WAEBER\",\"Kamy MAY\",\"Marie ZUCHUAT\",\"Marius DUMOULIN\",\"Natacha MARET\",\"Nicolas BONVIN\",\"Nicolas METTAN\",\"Patricia CASAYS\",\"Pierre DARBELLAY\",\"Ralph DESSIMOZ\",\"Sandro FONTANA\",\"Sophie BORNET\",\"Yann RODUIT\"],\"legendgroup\":\"PDC\",\"marker\":{\"color\":\"#00cc96\",\"symbol\":\"circle\"},\"mode\":\"markers\",\"name\":\"PDC\",\"orientation\":\"v\",\"showlegend\":true,\"x\":[0.15,-0.14285714285714285,0.4,0.7777777777777778,0.2222222222222222,0.0,0.375,0.23809523809523808,-0.09523809523809523,0.19047619047619047,0.3333333333333333,0.2857142857142857,-0.17647058823529413,0.3,0.14285714285714285,0.19047619047619047,0.23809523809523808,0.2857142857142857,0.3333333333333333,-0.4,0.11764705882352941,0.75,0.21052631578947367,0.09523809523809523,0.10526315789473684,0.19047619047619047],\"xaxis\":\"x\",\"y\":[0.05405405405405406,-0.2631578947368421,0.3448275862068966,0.625,0.21212121212121213,-0.2702702702702703,0.15151515151515152,0.15789473684210525,-0.10526315789473684,0.02631578947368421,0.15789473684210525,0.18421052631578946,-0.3333333333333333,0.21212121212121213,0.15789473684210525,0.05714285714285714,0.10526315789473684,0.05263157894736842,0.07894736842105263,-0.4074074074074074,-0.09090909090909091,0.3333333333333333,0.0,0.07894736842105263,0.02857142857142857,0.10810810810810811],\"yaxis\":\"y\",\"type\":\"scatter\"},{\"hovertemplate\":\"<b>%{hovertext}</b><br><br>group=LES VERTS<br>orientation=%{x}<br>progvscons=%{y}<extra></extra>\",\"hovertext\":[\"Alina DARBELLAY\",\"Claudia GAILLARD MOREND\",\"Florine CARRON\",\"Gabrielle CORNUT-ZUFFEREY\",\"Georges VIONNET\",\"Jean-Daniel NANCHEN\",\"Laurence VUAGNIAUX\",\"L\\u00e9a ROUILLER DESSIMOZ\",\"Sabine FOURNIER\",\"Vincent G\\u00dcNTHER\"],\"legendgroup\":\"LES VERTS\",\"marker\":{\"color\":\"#ab63fa\",\"symbol\":\"circle\"},\"mode\":\"markers\",\"name\":\"LES VERTS\",\"orientation\":\"v\",\"showlegend\":true,\"x\":[-0.8461538461538461,-0.7142857142857143,-0.7368421052631579,-0.7777777777777778,-0.8095238095238095,-0.8095238095238095,-0.7619047619047619,-0.875,-0.8095238095238095,-0.8095238095238095],\"xaxis\":\"x\",\"y\":[-0.782608695652174,-0.8421052631578947,-0.7,-0.8787878787878788,-0.8421052631578947,-0.8421052631578947,-0.868421052631579,-0.7878787878787878,-0.8947368421052632,-0.8947368421052632],\"yaxis\":\"y\",\"type\":\"scatter\"},{\"hovertemplate\":\"<b>%{hovertext}</b><br><br>group=AC<br>orientation=%{x}<br>progvscons=%{y}<extra></extra>\",\"hovertext\":[\"Bernard OBERHOLZER\",\"Blaise CRETTOL\",\"Cilette CRETTON\",\"C\\u00e9lina RAMSAUER\",\"Emilie PRAZ\",\"Florian EVEQUOZ\",\"Jacques BLANC\",\"Jean BONNARD\",\"Jean ZERMATTEN\",\"Jean-Fran\\u00e7ois LOVEY\",\"Johan ROCHEL\",\"L\\u00e9onard BENDER\",\"Martine ROUILLER\",\"Pascale FUMEAUX\",\"Sophie DUCREY\",\"Vincent LUYET\"],\"legendgroup\":\"AC\",\"marker\":{\"color\":\"#FFA15A\",\"symbol\":\"circle\"},\"mode\":\"markers\",\"name\":\"AC\",\"orientation\":\"v\",\"showlegend\":true,\"x\":[-1.0,-0.8095238095238095,-0.7619047619047619,-0.7647058823529411,-0.8095238095238095,-0.9047619047619048,-0.6111111111111112,-0.8095238095238095,-0.7894736842105263,-0.8,-0.7142857142857143,-0.7142857142857143,-0.8095238095238095,-0.7647058823529411,-0.7142857142857143,-0.8095238095238095],\"xaxis\":\"x\",\"y\":[-0.6363636363636364,-0.8333333333333334,-0.7631578947368421,-0.7647058823529411,-0.8421052631578947,-0.7894736842105263,-0.59375,-0.7631578947368421,-0.7777777777777778,-0.8333333333333334,-0.7894736842105263,-0.7368421052631579,-0.868421052631579,-0.8571428571428571,-0.8421052631578947,-0.8857142857142857],\"yaxis\":\"y\",\"type\":\"scatter\"},{\"hovertemplate\":\"<b>%{hovertext}</b><br><br>group=AdG<br>orientation=%{x}<br>progvscons=%{y}<extra></extra>\",\"hovertext\":[\"Caroline REYNARD\",\"Corinne DUC BONVIN\",\"Fabien THETAZ\",\"Ga\\u00ebl BOURGEOIS\",\"Janine REY-SIGGEN\",\"Jean-Marc DUPONT\",\"Lucile CURDY\",\"Olivier DERIVAZ\",\"Pierre SCHERTENLEIB\"],\"legendgroup\":\"AdG\",\"marker\":{\"color\":\"#19d3f3\",\"symbol\":\"circle\"},\"mode\":\"markers\",\"name\":\"AdG\",\"orientation\":\"v\",\"showlegend\":true,\"x\":[-0.7619047619047619,-0.7368421052631579,-0.7777777777777778,-1.0,-0.8095238095238095,-0.8095238095238095,-0.7222222222222222,-0.7,-0.8095238095238095],\"xaxis\":\"x\",\"y\":[-0.7894736842105263,-0.8571428571428571,-0.8484848484848485,-0.7391304347826086,-0.8421052631578947,-0.8421052631578947,-0.7878787878787878,-0.7297297297297297,-0.8421052631578947],\"yaxis\":\"y\",\"type\":\"scatter\"},{\"hovertemplate\":\"<b>%{hovertext}</b><br><br>group=CVPO<br>orientation=%{x}<br>progvscons=%{y}<extra></extra>\",\"hovertext\":[\"Chantal CARLEN\",\"Dominik KNUBEL\",\"Fabienne MURMANN\",\"Felix RUPPEN\",\"Lukas KALBERMATTEN\",\"Maria ARNOLD-ESCHER\",\"Martin SCH\\u00dcRCH\",\"Matteo AB\\u00c4CHERLI\",\"Michael BURGENER\",\"Paul BURGENER\",\"Rafael WELSCHEN\",\"Rainer MATHIER\"],\"legendgroup\":\"CVPO\",\"marker\":{\"color\":\"#FF6692\",\"symbol\":\"circle\"},\"mode\":\"markers\",\"name\":\"CVPO\",\"orientation\":\"v\",\"showlegend\":true,\"x\":[0.6,-0.15,0.42857142857142855,0.75,0.2222222222222222,0.47368421052631576,0.7142857142857143,0.42857142857142855,0.42857142857142855,-0.11764705882352941,0.5384615384615384,0.42857142857142855],\"xaxis\":\"x\",\"y\":[0.5555555555555556,-0.05405405405405406,0.2631578947368421,0.4375,0.0625,0.41935483870967744,0.47368421052631576,0.3684210526315789,0.2631578947368421,-0.1,0.48148148148148145,0.3157894736842105],\"yaxis\":\"y\",\"type\":\"scatter\"},{\"hovertemplate\":\"<b>%{hovertext}</b><br><br>group=CSPO<br>orientation=%{x}<br>progvscons=%{y}<extra></extra>\",\"hovertext\":[\"Christian ESCHER\",\"Danica ZURBRIGGEN LEHNER\",\"Flavio SCHMID\",\"Hermann BRUNNER\",\"Ida H\\u00c4FLIGER\",\"Kurt REGOTZ\",\"Leander WILLINER\",\"Thomas MATTER\"],\"legendgroup\":\"CSPO\",\"marker\":{\"color\":\"#B6E880\",\"symbol\":\"circle\"},\"mode\":\"markers\",\"name\":\"CSPO\",\"orientation\":\"v\",\"showlegend\":true,\"x\":[-0.05263157894736842,-0.3333333333333333,0.3333333333333333,-0.09523809523809523,-0.05263157894736842,0.047619047619047616,0.15,-0.047619047619047616],\"xaxis\":\"x\",\"y\":[-0.17142857142857143,-0.20833333333333334,0.23809523809523808,-0.02631578947368421,-0.12121212121212122,0.1111111111111111,0.02702702702702703,-0.21052631578947367],\"yaxis\":\"y\",\"type\":\"scatter\"},{\"hovertemplate\":\"<b>%{hovertext}</b><br><br>group=ZUK-VS<br>orientation=%{x}<br>progvscons=%{y}<extra></extra>\",\"hovertext\":[\"Claudia ALPIGER\",\"German EYER\",\"Madeleine KUONEN-EGGO\",\"Monika HOLZEGGER\",\"Peter BURRI\",\"Rahel ZIMMERMANN\"],\"legendgroup\":\"ZUK-VS\",\"marker\":{\"color\":\"#FF97FF\",\"symbol\":\"circle\"},\"mode\":\"markers\",\"name\":\"ZUK-VS\",\"orientation\":\"v\",\"showlegend\":true,\"x\":[-0.7,-0.7142857142857143,-0.7222222222222222,-0.38095238095238093,-0.14285714285714285,-0.7],\"xaxis\":\"x\",\"y\":[-0.6216216216216216,-0.5945945945945946,-0.6666666666666666,-0.13157894736842105,0.0,-0.6216216216216216],\"yaxis\":\"y\",\"type\":\"scatter\"},{\"hovertemplate\":\"<b>%{hovertext}</b><br><br>group=SVPO<br>orientation=%{x}<br>progvscons=%{y}<extra></extra>\",\"hovertext\":[\"Fabian ZURBRIGGEN\",\"Lukas J\\u00c4GER\",\"Michael KREUZER\",\"Peter B\\u00c4HLER\",\"Ralph KUMMER\",\"Remo SCHNYDER\",\"Romano AMACKER\"],\"legendgroup\":\"SVPO\",\"marker\":{\"color\":\"#FECB52\",\"symbol\":\"circle\"},\"mode\":\"markers\",\"name\":\"SVPO\",\"orientation\":\"v\",\"showlegend\":true,\"x\":[0.5238095238095238,0.5384615384615384,0.5238095238095238,0.5789473684210527,0.23076923076923078,0.375,0.5238095238095238],\"xaxis\":\"x\",\"y\":[0.7631578947368421,0.76,0.6842105263157895,0.7714285714285715,0.6923076923076923,0.5862068965517241,0.7368421052631579],\"yaxis\":\"y\",\"type\":\"scatter\"},{\"hovertemplate\":\"<b>%{hovertext}</b><br><br>group=INDEP<br>orientation=%{x}<br>progvscons=%{y}<extra></extra>\",\"hovertext\":[\"Gerhard SCHMID\"],\"legendgroup\":\"INDEP\",\"marker\":{\"color\":\"#636efa\",\"symbol\":\"circle\"},\"mode\":\"markers\",\"name\":\"INDEP\",\"orientation\":\"v\",\"showlegend\":true,\"x\":[-0.7142857142857143],\"xaxis\":\"x\",\"y\":[-0.631578947368421],\"yaxis\":\"y\",\"type\":\"scatter\"}],                        {\"template\":{\"data\":{\"histogram2dcontour\":[{\"type\":\"histogram2dcontour\",\"colorbar\":{\"outlinewidth\":0,\"ticks\":\"\"},\"colorscale\":[[0.0,\"#0d0887\"],[0.1111111111111111,\"#46039f\"],[0.2222222222222222,\"#7201a8\"],[0.3333333333333333,\"#9c179e\"],[0.4444444444444444,\"#bd3786\"],[0.5555555555555556,\"#d8576b\"],[0.6666666666666666,\"#ed7953\"],[0.7777777777777778,\"#fb9f3a\"],[0.8888888888888888,\"#fdca26\"],[1.0,\"#f0f921\"]]}],\"choropleth\":[{\"type\":\"choropleth\",\"colorbar\":{\"outlinewidth\":0,\"ticks\":\"\"}}],\"histogram2d\":[{\"type\":\"histogram2d\",\"colorbar\":{\"outlinewidth\":0,\"ticks\":\"\"},\"colorscale\":[[0.0,\"#0d0887\"],[0.1111111111111111,\"#46039f\"],[0.2222222222222222,\"#7201a8\"],[0.3333333333333333,\"#9c179e\"],[0.4444444444444444,\"#bd3786\"],[0.5555555555555556,\"#d8576b\"],[0.6666666666666666,\"#ed7953\"],[0.7777777777777778,\"#fb9f3a\"],[0.8888888888888888,\"#fdca26\"],[1.0,\"#f0f921\"]]}],\"heatmap\":[{\"type\":\"heatmap\",\"colorbar\":{\"outlinewidth\":0,\"ticks\":\"\"},\"colorscale\":[[0.0,\"#0d0887\"],[0.1111111111111111,\"#46039f\"],[0.2222222222222222,\"#7201a8\"],[0.3333333333333333,\"#9c179e\"],[0.4444444444444444,\"#bd3786\"],[0.5555555555555556,\"#d8576b\"],[0.6666666666666666,\"#ed7953\"],[0.7777777777777778,\"#fb9f3a\"],[0.8888888888888888,\"#fdca26\"],[1.0,\"#f0f921\"]]}],\"heatmapgl\":[{\"type\":\"heatmapgl\",\"colorbar\":{\"outlinewidth\":0,\"ticks\":\"\"},\"colorscale\":[[0.0,\"#0d0887\"],[0.1111111111111111,\"#46039f\"],[0.2222222222222222,\"#7201a8\"],[0.3333333333333333,\"#9c179e\"],[0.4444444444444444,\"#bd3786\"],[0.5555555555555556,\"#d8576b\"],[0.6666666666666666,\"#ed7953\"],[0.7777777777777778,\"#fb9f3a\"],[0.8888888888888888,\"#fdca26\"],[1.0,\"#f0f921\"]]}],\"contourcarpet\":[{\"type\":\"contourcarpet\",\"colorbar\":{\"outlinewidth\":0,\"ticks\":\"\"}}],\"contour\":[{\"type\":\"contour\",\"colorbar\":{\"outlinewidth\":0,\"ticks\":\"\"},\"colorscale\":[[0.0,\"#0d0887\"],[0.1111111111111111,\"#46039f\"],[0.2222222222222222,\"#7201a8\"],[0.3333333333333333,\"#9c179e\"],[0.4444444444444444,\"#bd3786\"],[0.5555555555555556,\"#d8576b\"],[0.6666666666666666,\"#ed7953\"],[0.7777777777777778,\"#fb9f3a\"],[0.8888888888888888,\"#fdca26\"],[1.0,\"#f0f921\"]]}],\"surface\":[{\"type\":\"surface\",\"colorbar\":{\"outlinewidth\":0,\"ticks\":\"\"},\"colorscale\":[[0.0,\"#0d0887\"],[0.1111111111111111,\"#46039f\"],[0.2222222222222222,\"#7201a8\"],[0.3333333333333333,\"#9c179e\"],[0.4444444444444444,\"#bd3786\"],[0.5555555555555556,\"#d8576b\"],[0.6666666666666666,\"#ed7953\"],[0.7777777777777778,\"#fb9f3a\"],[0.8888888888888888,\"#fdca26\"],[1.0,\"#f0f921\"]]}],\"mesh3d\":[{\"type\":\"mesh3d\",\"colorbar\":{\"outlinewidth\":0,\"ticks\":\"\"}}],\"scatter\":[{\"fillpattern\":{\"fillmode\":\"overlay\",\"size\":10,\"solidity\":0.2},\"type\":\"scatter\"}],\"parcoords\":[{\"type\":\"parcoords\",\"line\":{\"colorbar\":{\"outlinewidth\":0,\"ticks\":\"\"}}}],\"scatterpolargl\":[{\"type\":\"scatterpolargl\",\"marker\":{\"colorbar\":{\"outlinewidth\":0,\"ticks\":\"\"}}}],\"bar\":[{\"error_x\":{\"color\":\"#2a3f5f\"},\"error_y\":{\"color\":\"#2a3f5f\"},\"marker\":{\"line\":{\"color\":\"#E5ECF6\",\"width\":0.5},\"pattern\":{\"fillmode\":\"overlay\",\"size\":10,\"solidity\":0.2}},\"type\":\"bar\"}],\"scattergeo\":[{\"type\":\"scattergeo\",\"marker\":{\"colorbar\":{\"outlinewidth\":0,\"ticks\":\"\"}}}],\"scatterpolar\":[{\"type\":\"scatterpolar\",\"marker\":{\"colorbar\":{\"outlinewidth\":0,\"ticks\":\"\"}}}],\"histogram\":[{\"marker\":{\"pattern\":{\"fillmode\":\"overlay\",\"size\":10,\"solidity\":0.2}},\"type\":\"histogram\"}],\"scattergl\":[{\"type\":\"scattergl\",\"marker\":{\"colorbar\":{\"outlinewidth\":0,\"ticks\":\"\"}}}],\"scatter3d\":[{\"type\":\"scatter3d\",\"line\":{\"colorbar\":{\"outlinewidth\":0,\"ticks\":\"\"}},\"marker\":{\"colorbar\":{\"outlinewidth\":0,\"ticks\":\"\"}}}],\"scattermapbox\":[{\"type\":\"scattermapbox\",\"marker\":{\"colorbar\":{\"outlinewidth\":0,\"ticks\":\"\"}}}],\"scatterternary\":[{\"type\":\"scatterternary\",\"marker\":{\"colorbar\":{\"outlinewidth\":0,\"ticks\":\"\"}}}],\"scattercarpet\":[{\"type\":\"scattercarpet\",\"marker\":{\"colorbar\":{\"outlinewidth\":0,\"ticks\":\"\"}}}],\"carpet\":[{\"aaxis\":{\"endlinecolor\":\"#2a3f5f\",\"gridcolor\":\"white\",\"linecolor\":\"white\",\"minorgridcolor\":\"white\",\"startlinecolor\":\"#2a3f5f\"},\"baxis\":{\"endlinecolor\":\"#2a3f5f\",\"gridcolor\":\"white\",\"linecolor\":\"white\",\"minorgridcolor\":\"white\",\"startlinecolor\":\"#2a3f5f\"},\"type\":\"carpet\"}],\"table\":[{\"cells\":{\"fill\":{\"color\":\"#EBF0F8\"},\"line\":{\"color\":\"white\"}},\"header\":{\"fill\":{\"color\":\"#C8D4E3\"},\"line\":{\"color\":\"white\"}},\"type\":\"table\"}],\"barpolar\":[{\"marker\":{\"line\":{\"color\":\"#E5ECF6\",\"width\":0.5},\"pattern\":{\"fillmode\":\"overlay\",\"size\":10,\"solidity\":0.2}},\"type\":\"barpolar\"}],\"pie\":[{\"automargin\":true,\"type\":\"pie\"}]},\"layout\":{\"autotypenumbers\":\"strict\",\"colorway\":[\"#636efa\",\"#EF553B\",\"#00cc96\",\"#ab63fa\",\"#FFA15A\",\"#19d3f3\",\"#FF6692\",\"#B6E880\",\"#FF97FF\",\"#FECB52\"],\"font\":{\"color\":\"#2a3f5f\"},\"hovermode\":\"closest\",\"hoverlabel\":{\"align\":\"left\"},\"paper_bgcolor\":\"white\",\"plot_bgcolor\":\"#E5ECF6\",\"polar\":{\"bgcolor\":\"#E5ECF6\",\"angularaxis\":{\"gridcolor\":\"white\",\"linecolor\":\"white\",\"ticks\":\"\"},\"radialaxis\":{\"gridcolor\":\"white\",\"linecolor\":\"white\",\"ticks\":\"\"}},\"ternary\":{\"bgcolor\":\"#E5ECF6\",\"aaxis\":{\"gridcolor\":\"white\",\"linecolor\":\"white\",\"ticks\":\"\"},\"baxis\":{\"gridcolor\":\"white\",\"linecolor\":\"white\",\"ticks\":\"\"},\"caxis\":{\"gridcolor\":\"white\",\"linecolor\":\"white\",\"ticks\":\"\"}},\"coloraxis\":{\"colorbar\":{\"outlinewidth\":0,\"ticks\":\"\"}},\"colorscale\":{\"sequential\":[[0.0,\"#0d0887\"],[0.1111111111111111,\"#46039f\"],[0.2222222222222222,\"#7201a8\"],[0.3333333333333333,\"#9c179e\"],[0.4444444444444444,\"#bd3786\"],[0.5555555555555556,\"#d8576b\"],[0.6666666666666666,\"#ed7953\"],[0.7777777777777778,\"#fb9f3a\"],[0.8888888888888888,\"#fdca26\"],[1.0,\"#f0f921\"]],\"sequentialminus\":[[0.0,\"#0d0887\"],[0.1111111111111111,\"#46039f\"],[0.2222222222222222,\"#7201a8\"],[0.3333333333333333,\"#9c179e\"],[0.4444444444444444,\"#bd3786\"],[0.5555555555555556,\"#d8576b\"],[0.6666666666666666,\"#ed7953\"],[0.7777777777777778,\"#fb9f3a\"],[0.8888888888888888,\"#fdca26\"],[1.0,\"#f0f921\"]],\"diverging\":[[0,\"#8e0152\"],[0.1,\"#c51b7d\"],[0.2,\"#de77ae\"],[0.3,\"#f1b6da\"],[0.4,\"#fde0ef\"],[0.5,\"#f7f7f7\"],[0.6,\"#e6f5d0\"],[0.7,\"#b8e186\"],[0.8,\"#7fbc41\"],[0.9,\"#4d9221\"],[1,\"#276419\"]]},\"xaxis\":{\"gridcolor\":\"white\",\"linecolor\":\"white\",\"ticks\":\"\",\"title\":{\"standoff\":15},\"zerolinecolor\":\"white\",\"automargin\":true,\"zerolinewidth\":2},\"yaxis\":{\"gridcolor\":\"white\",\"linecolor\":\"white\",\"ticks\":\"\",\"title\":{\"standoff\":15},\"zerolinecolor\":\"white\",\"automargin\":true,\"zerolinewidth\":2},\"scene\":{\"xaxis\":{\"backgroundcolor\":\"#E5ECF6\",\"gridcolor\":\"white\",\"linecolor\":\"white\",\"showbackground\":true,\"ticks\":\"\",\"zerolinecolor\":\"white\",\"gridwidth\":2},\"yaxis\":{\"backgroundcolor\":\"#E5ECF6\",\"gridcolor\":\"white\",\"linecolor\":\"white\",\"showbackground\":true,\"ticks\":\"\",\"zerolinecolor\":\"white\",\"gridwidth\":2},\"zaxis\":{\"backgroundcolor\":\"#E5ECF6\",\"gridcolor\":\"white\",\"linecolor\":\"white\",\"showbackground\":true,\"ticks\":\"\",\"zerolinecolor\":\"white\",\"gridwidth\":2}},\"shapedefaults\":{\"line\":{\"color\":\"#2a3f5f\"}},\"annotationdefaults\":{\"arrowcolor\":\"#2a3f5f\",\"arrowhead\":0,\"arrowwidth\":1},\"geo\":{\"bgcolor\":\"white\",\"landcolor\":\"#E5ECF6\",\"subunitcolor\":\"white\",\"showland\":true,\"showlakes\":true,\"lakecolor\":\"white\"},\"title\":{\"x\":0.05},\"mapbox\":{\"style\":\"light\"}}},\"xaxis\":{\"anchor\":\"y\",\"domain\":[0.0,1.0],\"title\":{\"text\":\"orientation\"},\"range\":[-1,1]},\"yaxis\":{\"anchor\":\"x\",\"domain\":[0.0,1.0],\"title\":{\"text\":\"progvscons\"},\"range\":[-1,1]},\"legend\":{\"title\":{\"text\":\"group\"},\"tracegroupgap\":0},\"margin\":{\"t\":60}},                        {\"responsive\": true}                    ).then(function(){\n",
       "                            \n",
       "var gd = document.getElementById('4f562d4d-2f2f-44ef-87a8-40798d1b0331');\n",
       "var x = new MutationObserver(function (mutations, observer) {{\n",
       "        var display = window.getComputedStyle(gd).display;\n",
       "        if (!display || display === 'none') {{\n",
       "            console.log([gd, 'removed!']);\n",
       "            Plotly.purge(gd);\n",
       "            observer.disconnect();\n",
       "        }}\n",
       "}});\n",
       "\n",
       "// Listen for the removal of the full notebook cells\n",
       "var notebookContainer = gd.closest('#notebook-container');\n",
       "if (notebookContainer) {{\n",
       "    x.observe(notebookContainer, {childList: true});\n",
       "}}\n",
       "\n",
       "// Listen for the clearing of the current output cell\n",
       "var outputEl = gd.closest('.output');\n",
       "if (outputEl) {{\n",
       "    x.observe(outputEl, {childList: true});\n",
       "}}\n",
       "\n",
       "                        })                };                });            </script>        </div>"
      ]
     },
     "metadata": {},
     "output_type": "display_data"
    }
   ],
   "source": [
    "fig = px.scatter(counts_df, x=\"orientation\", y=\"progvscons\",  color='group', hover_name='name')\n",
    "fig.update_xaxes(range=[-1, 1])\n",
    "fig.update_yaxes(range=[-1, 1])\n",
    "fig.show()"
   ]
  },
  {
   "cell_type": "code",
   "execution_count": 113,
   "id": "3d02bd8a",
   "metadata": {},
   "outputs": [],
   "source": [
    "counts_df.to_csv(\"../Data/a_supprimer.csv\")"
   ]
  },
  {
   "cell_type": "code",
   "execution_count": 114,
   "id": "54ad9e9e",
   "metadata": {},
   "outputs": [
    {
     "data": {
      "application/vnd.plotly.v1+json": {
       "config": {
        "plotlyServerURL": "https://plot.ly"
       },
       "data": [
        {
         "hovertemplate": "<b>%{hovertext}</b><br><br>District=Martigny<br>orientation=%{x}<br>progvscons=%{y}<extra></extra>",
         "hovertext": [
          "Adeline CRETTENAND",
          "Alain LÉGER",
          "Bernard TROILLET",
          "Cilette CRETTON",
          "Damien LUISIER",
          "Florence CARRON DARBELLAY",
          "Florine CARRON",
          "Gaël BOURGEOIS",
          "Géraldine GIANADDA",
          "Géraldine GRANGES GUENOT",
          "Géraldine GRANGES-GUENOT",
          "Jean-Dominique CIPOLLA",
          "Jean-Marc DUPONT",
          "Léonard BENDER",
          "Narcisse CRETTENAND",
          "Natascha FARQUET",
          "Philippe BENDER",
          "Vincent GÜNTHER"
         ],
         "legendgroup": "Martigny",
         "marker": {
          "color": "#636efa",
          "symbol": "circle"
         },
         "mode": "markers",
         "name": "Martigny",
         "orientation": "v",
         "showlegend": true,
         "type": "scatter",
         "x": [
          0.3333333333333333,
          0.15,
          -0.14285714285714285,
          -0.7619047619047619,
          0.2222222222222222,
          0,
          -0.7368421052631579,
          -1,
          -0.8125,
          -1,
          0.5,
          0.6666666666666666,
          -0.8095238095238095,
          -0.7142857142857143,
          0.3333333333333333,
          -0.5263157894736842,
          0.09523809523809523,
          -0.8095238095238095
         ],
         "xaxis": "x",
         "y": [
          0.2,
          0.05405405405405406,
          -0.2631578947368421,
          -0.7631578947368421,
          0.21212121212121213,
          -0.2702702702702703,
          -0.7,
          -0.7391304347826086,
          -0.7407407407407407,
          -1,
          0.5416666666666666,
          0.5526315789473685,
          -0.8421052631578947,
          -0.7368421052631579,
          0.10526315789473684,
          -0.6388888888888888,
          0.10526315789473684,
          -0.8947368421052632
         ],
         "yaxis": "y"
        },
        {
         "hovertemplate": "<b>%{hovertext}</b><br><br>District=Monthey<br>orientation=%{x}<br>progvscons=%{y}<extra></extra>",
         "hovertext": [
          "Alain DUBOSSON",
          "Alain SCHÖNBETT",
          "Arnaud DUBOIS",
          "Bernard OBERHOLZER",
          "Claudy BESSE",
          "Côme VUILLE",
          "Damien RABOUD",
          "Fabien THETAZ",
          "Georges VIONNET",
          "Grégoire VANNAY",
          "Jean-Baptiste UDRESSY",
          "Johan ROCHEL",
          "Nicolas CHABLAIS",
          "Olivier DERIVAZ",
          "Patricia CASAYS",
          "Sandro FONTANA",
          "Sophie DUCREY"
         ],
         "legendgroup": "Monthey",
         "marker": {
          "color": "#EF553B",
          "symbol": "circle"
         },
         "mode": "markers",
         "name": "Monthey",
         "orientation": "v",
         "showlegend": true,
         "type": "scatter",
         "x": [
          0.7692307692307693,
          -0.3333333333333333,
          -0.5714285714285714,
          -1,
          0.47058823529411764,
          -0.3333333333333333,
          0.5294117647058824,
          -0.7777777777777778,
          -0.8095238095238095,
          -0.09523809523809523,
          0.7647058823529411,
          -0.7142857142857143,
          0,
          -0.7,
          0.11764705882352941,
          0.09523809523809523,
          -0.7142857142857143
         ],
         "xaxis": "x",
         "y": [
          0.7619047619047619,
          -0.47058823529411764,
          -0.7631578947368421,
          -0.6363636363636364,
          0.45161290322580644,
          -0.3684210526315789,
          0.5588235294117647,
          -0.8484848484848485,
          -0.8421052631578947,
          -0.10526315789473684,
          0.6470588235294118,
          -0.7894736842105263,
          0.3333333333333333,
          -0.7297297297297297,
          -0.09090909090909091,
          0.07894736842105263,
          -0.8421052631578947
         ],
         "yaxis": "y"
        },
        {
         "hovertemplate": "<b>%{hovertext}</b><br><br>District=Sierre<br>orientation=%{x}<br>progvscons=%{y}<extra></extra>",
         "hovertext": [
          "Alex BONVIN",
          "Blaise CRETTOL",
          "Corinne DUC BONVIN",
          "Célina RAMSAUER",
          "Edmond PERRUCHOUD",
          "François GENOUD",
          "Gabrielle CORNUT-ZUFFEREY",
          "Géraldine POUGET-ZUFFEREY",
          "Gérard SALAMIN",
          "Janine REY-SIGGEN",
          "Jean-Daniel NANCHEN",
          "Jean-Marc SAVIOZ",
          "Jean-Pierre REY",
          "Joséphine WAEBER",
          "Mathieu CALOZ",
          "Nicolas BONVIN",
          "Stéphane CLAVIEN"
         ],
         "legendgroup": "Sierre",
         "marker": {
          "color": "#00cc96",
          "symbol": "circle"
         },
         "mode": "markers",
         "name": "Sierre",
         "orientation": "v",
         "showlegend": true,
         "type": "scatter",
         "x": [
          0.7,
          -0.8095238095238095,
          -0.7368421052631579,
          -0.7647058823529411,
          0.7692307692307693,
          -0.23809523809523808,
          -0.7777777777777778,
          0.19047619047619047,
          0.3333333333333333,
          -0.8095238095238095,
          -0.8095238095238095,
          0.2857142857142857,
          -0.3333333333333333,
          0.3,
          -0.09523809523809523,
          0.3333333333333333,
          -0.42857142857142855
         ],
         "xaxis": "x",
         "y": [
          0.6470588235294118,
          -0.8333333333333334,
          -0.8571428571428571,
          -0.7647058823529411,
          0.7586206896551724,
          -0.40540540540540543,
          -0.8787878787878788,
          0.02631578947368421,
          0.15789473684210525,
          -0.8421052631578947,
          -0.8421052631578947,
          0.18421052631578946,
          -0.42105263157894735,
          0.21212121212121213,
          -0.3684210526315789,
          0.07894736842105263,
          -0.6756756756756757
         ],
         "yaxis": "y"
        },
        {
         "hovertemplate": "<b>%{hovertext}</b><br><br>District=Sion<br>orientation=%{x}<br>progvscons=%{y}<extra></extra>",
         "hovertext": [
          "Alina DARBELLAY",
          "Caroline REYNARD",
          "Christelle HERITIER",
          "Christine ROUX",
          "Emilie PRAZ",
          "François QUENNOZ",
          "Gabrielle BARRAS",
          "Jean BONNARD",
          "Jean ZERMATTEN",
          "Laurence VUAGNIAUX",
          "Marie ZUCHUAT",
          "Marius DUMOULIN",
          "Pierre SCHERTENLEIB",
          "Pierre-Alain RAEMY",
          "Ruth STALDER",
          "Vincent BOAND",
          "Vincent LUYET",
          "Yann RODUIT"
         ],
         "legendgroup": "Sion",
         "marker": {
          "color": "#ab63fa",
          "symbol": "circle"
         },
         "mode": "markers",
         "name": "Sion",
         "orientation": "v",
         "showlegend": true,
         "type": "scatter",
         "x": [
          -0.8461538461538461,
          -0.7619047619047619,
          -0.6923076923076923,
          0.4,
          -0.8095238095238095,
          0.42105263157894735,
          0.5,
          -0.8095238095238095,
          -0.7894736842105263,
          -0.7619047619047619,
          0.19047619047619047,
          0.23809523809523808,
          -0.8095238095238095,
          -0.5238095238095238,
          -0.23809523809523808,
          0.5789473684210527,
          -0.8095238095238095,
          0.19047619047619047
         ],
         "xaxis": "x",
         "y": [
          -0.782608695652174,
          -0.7894736842105263,
          -0.6956521739130435,
          0.3448275862068966,
          -0.8421052631578947,
          0.4444444444444444,
          0.4838709677419355,
          -0.7631578947368421,
          -0.7777777777777778,
          -0.868421052631579,
          0.05714285714285714,
          0.10526315789473684,
          -0.8421052631578947,
          -0.6842105263157895,
          -0.21052631578947367,
          0.45454545454545453,
          -0.8857142857142857,
          0.10810810810810811
         ],
         "yaxis": "y"
        },
        {
         "hovertemplate": "<b>%{hovertext}</b><br><br>District=Goms<br>orientation=%{x}<br>progvscons=%{y}<extra></extra>",
         "hovertext": [
          "Chantal CARLEN",
          "Peter BÄHLER"
         ],
         "legendgroup": "Goms",
         "marker": {
          "color": "#FFA15A",
          "symbol": "circle"
         },
         "mode": "markers",
         "name": "Goms",
         "orientation": "v",
         "showlegend": true,
         "type": "scatter",
         "x": [
          0.6,
          0.5789473684210527
         ],
         "xaxis": "x",
         "y": [
          0.5555555555555556,
          0.7714285714285715
         ],
         "yaxis": "y"
        },
        {
         "hovertemplate": "<b>%{hovertext}</b><br><br>District=Brig<br>orientation=%{x}<br>progvscons=%{y}<extra></extra>",
         "hovertext": [
          "Christian ESCHER",
          "Claudia ALPIGER",
          "Felix RUPPEN",
          "German EYER",
          "Kurt REGOTZ",
          "Leander WILLINER",
          "Maria ARNOLD-ESCHER",
          "Monika HOLZEGGER",
          "Rafael WELSCHEN",
          "Ralph KUMMER",
          "Remo SCHNYDER"
         ],
         "legendgroup": "Brig",
         "marker": {
          "color": "#19d3f3",
          "symbol": "circle"
         },
         "mode": "markers",
         "name": "Brig",
         "orientation": "v",
         "showlegend": true,
         "type": "scatter",
         "x": [
          -0.05263157894736842,
          -0.7,
          0.75,
          -0.7142857142857143,
          0.047619047619047616,
          0.15,
          0.47368421052631576,
          -0.38095238095238093,
          0.5384615384615384,
          0.23076923076923078,
          0.375
         ],
         "xaxis": "x",
         "y": [
          -0.17142857142857143,
          -0.6216216216216216,
          0.4375,
          -0.5945945945945946,
          0.1111111111111111,
          0.02702702702702703,
          0.41935483870967744,
          -0.13157894736842105,
          0.48148148148148145,
          0.6923076923076923,
          0.5862068965517241
         ],
         "yaxis": "y"
        },
        {
         "hovertemplate": "<b>%{hovertext}</b><br><br>District=Conthey<br>orientation=%{x}<br>progvscons=%{y}<extra></extra>",
         "hovertext": [
          "Claude NANÇOZ",
          "Damien CLERC",
          "Damien FUMEAUX",
          "Florent FAVRE",
          "Florian EVEQUOZ",
          "Lucile CURDY",
          "Léa ROUILLER DESSIMOZ",
          "Pascale FUMEAUX",
          "Ralph DESSIMOZ",
          "Romain UDRY",
          "Sophie BORNET"
         ],
         "legendgroup": "Conthey",
         "marker": {
          "color": "#FF6692",
          "symbol": "circle"
         },
         "mode": "markers",
         "name": "Conthey",
         "orientation": "v",
         "showlegend": true,
         "type": "scatter",
         "x": [
          0.125,
          0.7777777777777778,
          0.6666666666666666,
          0.375,
          -0.9047619047619048,
          -0.7222222222222222,
          -0.875,
          -0.7647058823529411,
          0.21052631578947367,
          0.26666666666666666,
          0.10526315789473684
         ],
         "xaxis": "x",
         "y": [
          -0.13333333333333333,
          0.625,
          0.631578947368421,
          0.15151515151515152,
          -0.7894736842105263,
          -0.7878787878787878,
          -0.7878787878787878,
          -0.8571428571428571,
          0,
          0.03571428571428571,
          0.02857142857142857
         ],
         "yaxis": "y"
        },
        {
         "hovertemplate": "<b>%{hovertext}</b><br><br>District=Hérens<br>orientation=%{x}<br>progvscons=%{y}<extra></extra>",
         "hovertext": [
          "Claudia GAILLARD MOREND",
          "Frédéric PITTELOUD",
          "Jacques BLANC",
          "Marc-Antoine GENOLET",
          "Mélanie FOLLONIER"
         ],
         "legendgroup": "Hérens",
         "marker": {
          "color": "#B6E880",
          "symbol": "circle"
         },
         "mode": "markers",
         "name": "Hérens",
         "orientation": "v",
         "showlegend": true,
         "type": "scatter",
         "x": [
          -0.7142857142857143,
          0.23809523809523808,
          -0.6111111111111112,
          0.7142857142857143,
          0.125
         ],
         "xaxis": "x",
         "y": [
          -0.8421052631578947,
          0.15789473684210525,
          -0.59375,
          0.7105263157894737,
          -0.25
         ],
         "yaxis": "y"
        },
        {
         "hovertemplate": "<b>%{hovertext}</b><br><br>District=Visp<br>orientation=%{x}<br>progvscons=%{y}<extra></extra>",
         "hovertext": [
          "Danica ZURBRIGGEN LEHNER",
          "Fabian ZURBRIGGEN",
          "Flavio SCHMID",
          "Ida HÄFLIGER",
          "Martin SCHÜRCH",
          "Matteo ABÄCHERLI",
          "Michael BURGENER",
          "Michael KREUZER",
          "Paul BURGENER",
          "Peter BURRI",
          "Rahel ZIMMERMANN"
         ],
         "legendgroup": "Visp",
         "marker": {
          "color": "#FF97FF",
          "symbol": "circle"
         },
         "mode": "markers",
         "name": "Visp",
         "orientation": "v",
         "showlegend": true,
         "type": "scatter",
         "x": [
          -0.3333333333333333,
          0.5238095238095238,
          0.3333333333333333,
          -0.05263157894736842,
          0.7142857142857143,
          0.42857142857142855,
          0.42857142857142855,
          0.5238095238095238,
          -0.11764705882352941,
          -0.14285714285714285,
          -0.7
         ],
         "xaxis": "x",
         "y": [
          -0.20833333333333334,
          0.7631578947368421,
          0.23809523809523808,
          -0.12121212121212122,
          0.47368421052631576,
          0.3684210526315789,
          0.2631578947368421,
          0.6842105263157895,
          -0.1,
          0,
          -0.6216216216216216
         ],
         "yaxis": "y"
        },
        {
         "hovertemplate": "<b>%{hovertext}</b><br><br>District=Westlich Raron<br>orientation=%{x}<br>progvscons=%{y}<extra></extra>",
         "hovertext": [
          "Dominik KNUBEL",
          "Hermann BRUNNER",
          "Lukas KALBERMATTEN",
          "Romano AMACKER"
         ],
         "legendgroup": "Westlich Raron",
         "marker": {
          "color": "#FECB52",
          "symbol": "circle"
         },
         "mode": "markers",
         "name": "Westlich Raron",
         "orientation": "v",
         "showlegend": true,
         "type": "scatter",
         "x": [
          -0.15,
          -0.09523809523809523,
          0.2222222222222222,
          0.5238095238095238
         ],
         "xaxis": "x",
         "y": [
          -0.05405405405405406,
          -0.02631578947368421,
          0.0625,
          0.7368421052631579
         ],
         "yaxis": "y"
        },
        {
         "hovertemplate": "<b>%{hovertext}</b><br><br>District=Leuk<br>orientation=%{x}<br>progvscons=%{y}<extra></extra>",
         "hovertext": [
          "Fabienne MURMANN",
          "Lukas JÄGER",
          "Madeleine KUONEN-EGGO",
          "Rainer MATHIER",
          "Thomas MATTER"
         ],
         "legendgroup": "Leuk",
         "marker": {
          "color": "#636efa",
          "symbol": "circle"
         },
         "mode": "markers",
         "name": "Leuk",
         "orientation": "v",
         "showlegend": true,
         "type": "scatter",
         "x": [
          0.42857142857142855,
          0.5384615384615384,
          -0.7222222222222222,
          0.42857142857142855,
          -0.047619047619047616
         ],
         "xaxis": "x",
         "y": [
          0.2631578947368421,
          0.76,
          -0.6666666666666666,
          0.3157894736842105,
          -0.21052631578947367
         ],
         "yaxis": "y"
        },
        {
         "hovertemplate": "<b>%{hovertext}</b><br><br>District=Östlich Raron<br>orientation=%{x}<br>progvscons=%{y}<extra></extra>",
         "hovertext": [
          "Gerhard SCHMID"
         ],
         "legendgroup": "Östlich Raron",
         "marker": {
          "color": "#EF553B",
          "symbol": "circle"
         },
         "mode": "markers",
         "name": "Östlich Raron",
         "orientation": "v",
         "showlegend": true,
         "type": "scatter",
         "x": [
          -0.7142857142857143
         ],
         "xaxis": "x",
         "y": [
          -0.631578947368421
         ],
         "yaxis": "y"
        },
        {
         "hovertemplate": "<b>%{hovertext}</b><br><br>District=Entremont<br>orientation=%{x}<br>progvscons=%{y}<extra></extra>",
         "hovertext": [
          "Jean-François LOVEY",
          "Jérôme FORMAZ",
          "Kamy MAY",
          "Mathieu SARRASIN",
          "Natacha MARET",
          "Pierre DARBELLAY"
         ],
         "legendgroup": "Entremont",
         "marker": {
          "color": "#00cc96",
          "symbol": "circle"
         },
         "mode": "markers",
         "name": "Entremont",
         "orientation": "v",
         "showlegend": true,
         "type": "scatter",
         "x": [
          -0.8,
          0.6842105263157895,
          0.14285714285714285,
          0,
          0.2857142857142857,
          0.75
         ],
         "xaxis": "x",
         "y": [
          -0.8333333333333334,
          0.5428571428571428,
          0.15789473684210525,
          -0.0967741935483871,
          0.05263157894736842,
          0.3333333333333333
         ],
         "yaxis": "y"
        },
        {
         "hovertemplate": "<b>%{hovertext}</b><br><br>District=St-Maurice<br>orientation=%{x}<br>progvscons=%{y}<extra></extra>",
         "hovertext": [
          "Jenny VOEFFRAY",
          "Martine ROUILLER",
          "Nicolas METTAN",
          "Raymonde SCHOCH",
          "Sabine FOURNIER"
         ],
         "legendgroup": "St-Maurice",
         "marker": {
          "color": "#ab63fa",
          "symbol": "circle"
         },
         "mode": "markers",
         "name": "St-Maurice",
         "orientation": "v",
         "showlegend": true,
         "type": "scatter",
         "x": [
          -0.17647058823529413,
          -0.8095238095238095,
          -0.4,
          -0.6666666666666666,
          -0.8095238095238095
         ],
         "xaxis": "x",
         "y": [
          -0.3333333333333333,
          -0.868421052631579,
          -0.4074074074074074,
          -0.5789473684210527,
          -0.8947368421052632
         ],
         "yaxis": "y"
        }
       ],
       "layout": {
        "legend": {
         "title": {
          "text": "District"
         },
         "tracegroupgap": 0
        },
        "margin": {
         "t": 60
        },
        "template": {
         "data": {
          "bar": [
           {
            "error_x": {
             "color": "#2a3f5f"
            },
            "error_y": {
             "color": "#2a3f5f"
            },
            "marker": {
             "line": {
              "color": "#E5ECF6",
              "width": 0.5
             },
             "pattern": {
              "fillmode": "overlay",
              "size": 10,
              "solidity": 0.2
             }
            },
            "type": "bar"
           }
          ],
          "barpolar": [
           {
            "marker": {
             "line": {
              "color": "#E5ECF6",
              "width": 0.5
             },
             "pattern": {
              "fillmode": "overlay",
              "size": 10,
              "solidity": 0.2
             }
            },
            "type": "barpolar"
           }
          ],
          "carpet": [
           {
            "aaxis": {
             "endlinecolor": "#2a3f5f",
             "gridcolor": "white",
             "linecolor": "white",
             "minorgridcolor": "white",
             "startlinecolor": "#2a3f5f"
            },
            "baxis": {
             "endlinecolor": "#2a3f5f",
             "gridcolor": "white",
             "linecolor": "white",
             "minorgridcolor": "white",
             "startlinecolor": "#2a3f5f"
            },
            "type": "carpet"
           }
          ],
          "choropleth": [
           {
            "colorbar": {
             "outlinewidth": 0,
             "ticks": ""
            },
            "type": "choropleth"
           }
          ],
          "contour": [
           {
            "colorbar": {
             "outlinewidth": 0,
             "ticks": ""
            },
            "colorscale": [
             [
              0,
              "#0d0887"
             ],
             [
              0.1111111111111111,
              "#46039f"
             ],
             [
              0.2222222222222222,
              "#7201a8"
             ],
             [
              0.3333333333333333,
              "#9c179e"
             ],
             [
              0.4444444444444444,
              "#bd3786"
             ],
             [
              0.5555555555555556,
              "#d8576b"
             ],
             [
              0.6666666666666666,
              "#ed7953"
             ],
             [
              0.7777777777777778,
              "#fb9f3a"
             ],
             [
              0.8888888888888888,
              "#fdca26"
             ],
             [
              1,
              "#f0f921"
             ]
            ],
            "type": "contour"
           }
          ],
          "contourcarpet": [
           {
            "colorbar": {
             "outlinewidth": 0,
             "ticks": ""
            },
            "type": "contourcarpet"
           }
          ],
          "heatmap": [
           {
            "colorbar": {
             "outlinewidth": 0,
             "ticks": ""
            },
            "colorscale": [
             [
              0,
              "#0d0887"
             ],
             [
              0.1111111111111111,
              "#46039f"
             ],
             [
              0.2222222222222222,
              "#7201a8"
             ],
             [
              0.3333333333333333,
              "#9c179e"
             ],
             [
              0.4444444444444444,
              "#bd3786"
             ],
             [
              0.5555555555555556,
              "#d8576b"
             ],
             [
              0.6666666666666666,
              "#ed7953"
             ],
             [
              0.7777777777777778,
              "#fb9f3a"
             ],
             [
              0.8888888888888888,
              "#fdca26"
             ],
             [
              1,
              "#f0f921"
             ]
            ],
            "type": "heatmap"
           }
          ],
          "heatmapgl": [
           {
            "colorbar": {
             "outlinewidth": 0,
             "ticks": ""
            },
            "colorscale": [
             [
              0,
              "#0d0887"
             ],
             [
              0.1111111111111111,
              "#46039f"
             ],
             [
              0.2222222222222222,
              "#7201a8"
             ],
             [
              0.3333333333333333,
              "#9c179e"
             ],
             [
              0.4444444444444444,
              "#bd3786"
             ],
             [
              0.5555555555555556,
              "#d8576b"
             ],
             [
              0.6666666666666666,
              "#ed7953"
             ],
             [
              0.7777777777777778,
              "#fb9f3a"
             ],
             [
              0.8888888888888888,
              "#fdca26"
             ],
             [
              1,
              "#f0f921"
             ]
            ],
            "type": "heatmapgl"
           }
          ],
          "histogram": [
           {
            "marker": {
             "pattern": {
              "fillmode": "overlay",
              "size": 10,
              "solidity": 0.2
             }
            },
            "type": "histogram"
           }
          ],
          "histogram2d": [
           {
            "colorbar": {
             "outlinewidth": 0,
             "ticks": ""
            },
            "colorscale": [
             [
              0,
              "#0d0887"
             ],
             [
              0.1111111111111111,
              "#46039f"
             ],
             [
              0.2222222222222222,
              "#7201a8"
             ],
             [
              0.3333333333333333,
              "#9c179e"
             ],
             [
              0.4444444444444444,
              "#bd3786"
             ],
             [
              0.5555555555555556,
              "#d8576b"
             ],
             [
              0.6666666666666666,
              "#ed7953"
             ],
             [
              0.7777777777777778,
              "#fb9f3a"
             ],
             [
              0.8888888888888888,
              "#fdca26"
             ],
             [
              1,
              "#f0f921"
             ]
            ],
            "type": "histogram2d"
           }
          ],
          "histogram2dcontour": [
           {
            "colorbar": {
             "outlinewidth": 0,
             "ticks": ""
            },
            "colorscale": [
             [
              0,
              "#0d0887"
             ],
             [
              0.1111111111111111,
              "#46039f"
             ],
             [
              0.2222222222222222,
              "#7201a8"
             ],
             [
              0.3333333333333333,
              "#9c179e"
             ],
             [
              0.4444444444444444,
              "#bd3786"
             ],
             [
              0.5555555555555556,
              "#d8576b"
             ],
             [
              0.6666666666666666,
              "#ed7953"
             ],
             [
              0.7777777777777778,
              "#fb9f3a"
             ],
             [
              0.8888888888888888,
              "#fdca26"
             ],
             [
              1,
              "#f0f921"
             ]
            ],
            "type": "histogram2dcontour"
           }
          ],
          "mesh3d": [
           {
            "colorbar": {
             "outlinewidth": 0,
             "ticks": ""
            },
            "type": "mesh3d"
           }
          ],
          "parcoords": [
           {
            "line": {
             "colorbar": {
              "outlinewidth": 0,
              "ticks": ""
             }
            },
            "type": "parcoords"
           }
          ],
          "pie": [
           {
            "automargin": true,
            "type": "pie"
           }
          ],
          "scatter": [
           {
            "fillpattern": {
             "fillmode": "overlay",
             "size": 10,
             "solidity": 0.2
            },
            "type": "scatter"
           }
          ],
          "scatter3d": [
           {
            "line": {
             "colorbar": {
              "outlinewidth": 0,
              "ticks": ""
             }
            },
            "marker": {
             "colorbar": {
              "outlinewidth": 0,
              "ticks": ""
             }
            },
            "type": "scatter3d"
           }
          ],
          "scattercarpet": [
           {
            "marker": {
             "colorbar": {
              "outlinewidth": 0,
              "ticks": ""
             }
            },
            "type": "scattercarpet"
           }
          ],
          "scattergeo": [
           {
            "marker": {
             "colorbar": {
              "outlinewidth": 0,
              "ticks": ""
             }
            },
            "type": "scattergeo"
           }
          ],
          "scattergl": [
           {
            "marker": {
             "colorbar": {
              "outlinewidth": 0,
              "ticks": ""
             }
            },
            "type": "scattergl"
           }
          ],
          "scattermapbox": [
           {
            "marker": {
             "colorbar": {
              "outlinewidth": 0,
              "ticks": ""
             }
            },
            "type": "scattermapbox"
           }
          ],
          "scatterpolar": [
           {
            "marker": {
             "colorbar": {
              "outlinewidth": 0,
              "ticks": ""
             }
            },
            "type": "scatterpolar"
           }
          ],
          "scatterpolargl": [
           {
            "marker": {
             "colorbar": {
              "outlinewidth": 0,
              "ticks": ""
             }
            },
            "type": "scatterpolargl"
           }
          ],
          "scatterternary": [
           {
            "marker": {
             "colorbar": {
              "outlinewidth": 0,
              "ticks": ""
             }
            },
            "type": "scatterternary"
           }
          ],
          "surface": [
           {
            "colorbar": {
             "outlinewidth": 0,
             "ticks": ""
            },
            "colorscale": [
             [
              0,
              "#0d0887"
             ],
             [
              0.1111111111111111,
              "#46039f"
             ],
             [
              0.2222222222222222,
              "#7201a8"
             ],
             [
              0.3333333333333333,
              "#9c179e"
             ],
             [
              0.4444444444444444,
              "#bd3786"
             ],
             [
              0.5555555555555556,
              "#d8576b"
             ],
             [
              0.6666666666666666,
              "#ed7953"
             ],
             [
              0.7777777777777778,
              "#fb9f3a"
             ],
             [
              0.8888888888888888,
              "#fdca26"
             ],
             [
              1,
              "#f0f921"
             ]
            ],
            "type": "surface"
           }
          ],
          "table": [
           {
            "cells": {
             "fill": {
              "color": "#EBF0F8"
             },
             "line": {
              "color": "white"
             }
            },
            "header": {
             "fill": {
              "color": "#C8D4E3"
             },
             "line": {
              "color": "white"
             }
            },
            "type": "table"
           }
          ]
         },
         "layout": {
          "annotationdefaults": {
           "arrowcolor": "#2a3f5f",
           "arrowhead": 0,
           "arrowwidth": 1
          },
          "autotypenumbers": "strict",
          "coloraxis": {
           "colorbar": {
            "outlinewidth": 0,
            "ticks": ""
           }
          },
          "colorscale": {
           "diverging": [
            [
             0,
             "#8e0152"
            ],
            [
             0.1,
             "#c51b7d"
            ],
            [
             0.2,
             "#de77ae"
            ],
            [
             0.3,
             "#f1b6da"
            ],
            [
             0.4,
             "#fde0ef"
            ],
            [
             0.5,
             "#f7f7f7"
            ],
            [
             0.6,
             "#e6f5d0"
            ],
            [
             0.7,
             "#b8e186"
            ],
            [
             0.8,
             "#7fbc41"
            ],
            [
             0.9,
             "#4d9221"
            ],
            [
             1,
             "#276419"
            ]
           ],
           "sequential": [
            [
             0,
             "#0d0887"
            ],
            [
             0.1111111111111111,
             "#46039f"
            ],
            [
             0.2222222222222222,
             "#7201a8"
            ],
            [
             0.3333333333333333,
             "#9c179e"
            ],
            [
             0.4444444444444444,
             "#bd3786"
            ],
            [
             0.5555555555555556,
             "#d8576b"
            ],
            [
             0.6666666666666666,
             "#ed7953"
            ],
            [
             0.7777777777777778,
             "#fb9f3a"
            ],
            [
             0.8888888888888888,
             "#fdca26"
            ],
            [
             1,
             "#f0f921"
            ]
           ],
           "sequentialminus": [
            [
             0,
             "#0d0887"
            ],
            [
             0.1111111111111111,
             "#46039f"
            ],
            [
             0.2222222222222222,
             "#7201a8"
            ],
            [
             0.3333333333333333,
             "#9c179e"
            ],
            [
             0.4444444444444444,
             "#bd3786"
            ],
            [
             0.5555555555555556,
             "#d8576b"
            ],
            [
             0.6666666666666666,
             "#ed7953"
            ],
            [
             0.7777777777777778,
             "#fb9f3a"
            ],
            [
             0.8888888888888888,
             "#fdca26"
            ],
            [
             1,
             "#f0f921"
            ]
           ]
          },
          "colorway": [
           "#636efa",
           "#EF553B",
           "#00cc96",
           "#ab63fa",
           "#FFA15A",
           "#19d3f3",
           "#FF6692",
           "#B6E880",
           "#FF97FF",
           "#FECB52"
          ],
          "font": {
           "color": "#2a3f5f"
          },
          "geo": {
           "bgcolor": "white",
           "lakecolor": "white",
           "landcolor": "#E5ECF6",
           "showlakes": true,
           "showland": true,
           "subunitcolor": "white"
          },
          "hoverlabel": {
           "align": "left"
          },
          "hovermode": "closest",
          "mapbox": {
           "style": "light"
          },
          "paper_bgcolor": "white",
          "plot_bgcolor": "#E5ECF6",
          "polar": {
           "angularaxis": {
            "gridcolor": "white",
            "linecolor": "white",
            "ticks": ""
           },
           "bgcolor": "#E5ECF6",
           "radialaxis": {
            "gridcolor": "white",
            "linecolor": "white",
            "ticks": ""
           }
          },
          "scene": {
           "xaxis": {
            "backgroundcolor": "#E5ECF6",
            "gridcolor": "white",
            "gridwidth": 2,
            "linecolor": "white",
            "showbackground": true,
            "ticks": "",
            "zerolinecolor": "white"
           },
           "yaxis": {
            "backgroundcolor": "#E5ECF6",
            "gridcolor": "white",
            "gridwidth": 2,
            "linecolor": "white",
            "showbackground": true,
            "ticks": "",
            "zerolinecolor": "white"
           },
           "zaxis": {
            "backgroundcolor": "#E5ECF6",
            "gridcolor": "white",
            "gridwidth": 2,
            "linecolor": "white",
            "showbackground": true,
            "ticks": "",
            "zerolinecolor": "white"
           }
          },
          "shapedefaults": {
           "line": {
            "color": "#2a3f5f"
           }
          },
          "ternary": {
           "aaxis": {
            "gridcolor": "white",
            "linecolor": "white",
            "ticks": ""
           },
           "baxis": {
            "gridcolor": "white",
            "linecolor": "white",
            "ticks": ""
           },
           "bgcolor": "#E5ECF6",
           "caxis": {
            "gridcolor": "white",
            "linecolor": "white",
            "ticks": ""
           }
          },
          "title": {
           "x": 0.05
          },
          "xaxis": {
           "automargin": true,
           "gridcolor": "white",
           "linecolor": "white",
           "ticks": "",
           "title": {
            "standoff": 15
           },
           "zerolinecolor": "white",
           "zerolinewidth": 2
          },
          "yaxis": {
           "automargin": true,
           "gridcolor": "white",
           "linecolor": "white",
           "ticks": "",
           "title": {
            "standoff": 15
           },
           "zerolinecolor": "white",
           "zerolinewidth": 2
          }
         }
        },
        "xaxis": {
         "anchor": "y",
         "domain": [
          0,
          1
         ],
         "range": [
          -1,
          1
         ],
         "title": {
          "text": "orientation"
         }
        },
        "yaxis": {
         "anchor": "x",
         "domain": [
          0,
          1
         ],
         "range": [
          -1,
          1
         ],
         "title": {
          "text": "progvscons"
         }
        }
       }
      },
      "text/html": [
       "<div>                            <div id=\"7b8fabfa-e88f-4fba-a50a-f9a5278fc30d\" class=\"plotly-graph-div\" style=\"height:525px; width:100%;\"></div>            <script type=\"text/javascript\">                require([\"plotly\"], function(Plotly) {                    window.PLOTLYENV=window.PLOTLYENV || {};                                    if (document.getElementById(\"7b8fabfa-e88f-4fba-a50a-f9a5278fc30d\")) {                    Plotly.newPlot(                        \"7b8fabfa-e88f-4fba-a50a-f9a5278fc30d\",                        [{\"hovertemplate\":\"<b>%{hovertext}</b><br><br>District=Martigny<br>orientation=%{x}<br>progvscons=%{y}<extra></extra>\",\"hovertext\":[\"Adeline CRETTENAND\",\"Alain L\\u00c9GER\",\"Bernard TROILLET\",\"Cilette CRETTON\",\"Damien LUISIER\",\"Florence CARRON DARBELLAY\",\"Florine CARRON\",\"Ga\\u00ebl BOURGEOIS\",\"G\\u00e9raldine GIANADDA\",\"G\\u00e9raldine GRANGES GUENOT\",\"G\\u00e9raldine GRANGES-GUENOT\",\"Jean-Dominique CIPOLLA\",\"Jean-Marc DUPONT\",\"L\\u00e9onard BENDER\",\"Narcisse CRETTENAND\",\"Natascha FARQUET\",\"Philippe BENDER\",\"Vincent G\\u00dcNTHER\"],\"legendgroup\":\"Martigny\",\"marker\":{\"color\":\"#636efa\",\"symbol\":\"circle\"},\"mode\":\"markers\",\"name\":\"Martigny\",\"orientation\":\"v\",\"showlegend\":true,\"x\":[0.3333333333333333,0.15,-0.14285714285714285,-0.7619047619047619,0.2222222222222222,0.0,-0.7368421052631579,-1.0,-0.8125,-1.0,0.5,0.6666666666666666,-0.8095238095238095,-0.7142857142857143,0.3333333333333333,-0.5263157894736842,0.09523809523809523,-0.8095238095238095],\"xaxis\":\"x\",\"y\":[0.2,0.05405405405405406,-0.2631578947368421,-0.7631578947368421,0.21212121212121213,-0.2702702702702703,-0.7,-0.7391304347826086,-0.7407407407407407,-1.0,0.5416666666666666,0.5526315789473685,-0.8421052631578947,-0.7368421052631579,0.10526315789473684,-0.6388888888888888,0.10526315789473684,-0.8947368421052632],\"yaxis\":\"y\",\"type\":\"scatter\"},{\"hovertemplate\":\"<b>%{hovertext}</b><br><br>District=Monthey<br>orientation=%{x}<br>progvscons=%{y}<extra></extra>\",\"hovertext\":[\"Alain DUBOSSON\",\"Alain SCH\\u00d6NBETT\",\"Arnaud DUBOIS\",\"Bernard OBERHOLZER\",\"Claudy BESSE\",\"C\\u00f4me VUILLE\",\"Damien RABOUD\",\"Fabien THETAZ\",\"Georges VIONNET\",\"Gr\\u00e9goire VANNAY\",\"Jean-Baptiste UDRESSY\",\"Johan ROCHEL\",\"Nicolas CHABLAIS\",\"Olivier DERIVAZ\",\"Patricia CASAYS\",\"Sandro FONTANA\",\"Sophie DUCREY\"],\"legendgroup\":\"Monthey\",\"marker\":{\"color\":\"#EF553B\",\"symbol\":\"circle\"},\"mode\":\"markers\",\"name\":\"Monthey\",\"orientation\":\"v\",\"showlegend\":true,\"x\":[0.7692307692307693,-0.3333333333333333,-0.5714285714285714,-1.0,0.47058823529411764,-0.3333333333333333,0.5294117647058824,-0.7777777777777778,-0.8095238095238095,-0.09523809523809523,0.7647058823529411,-0.7142857142857143,0.0,-0.7,0.11764705882352941,0.09523809523809523,-0.7142857142857143],\"xaxis\":\"x\",\"y\":[0.7619047619047619,-0.47058823529411764,-0.7631578947368421,-0.6363636363636364,0.45161290322580644,-0.3684210526315789,0.5588235294117647,-0.8484848484848485,-0.8421052631578947,-0.10526315789473684,0.6470588235294118,-0.7894736842105263,0.3333333333333333,-0.7297297297297297,-0.09090909090909091,0.07894736842105263,-0.8421052631578947],\"yaxis\":\"y\",\"type\":\"scatter\"},{\"hovertemplate\":\"<b>%{hovertext}</b><br><br>District=Sierre<br>orientation=%{x}<br>progvscons=%{y}<extra></extra>\",\"hovertext\":[\"Alex BONVIN\",\"Blaise CRETTOL\",\"Corinne DUC BONVIN\",\"C\\u00e9lina RAMSAUER\",\"Edmond PERRUCHOUD\",\"Fran\\u00e7ois GENOUD\",\"Gabrielle CORNUT-ZUFFEREY\",\"G\\u00e9raldine POUGET-ZUFFEREY\",\"G\\u00e9rard SALAMIN\",\"Janine REY-SIGGEN\",\"Jean-Daniel NANCHEN\",\"Jean-Marc SAVIOZ\",\"Jean-Pierre REY\",\"Jos\\u00e9phine WAEBER\",\"Mathieu CALOZ\",\"Nicolas BONVIN\",\"St\\u00e9phane CLAVIEN\"],\"legendgroup\":\"Sierre\",\"marker\":{\"color\":\"#00cc96\",\"symbol\":\"circle\"},\"mode\":\"markers\",\"name\":\"Sierre\",\"orientation\":\"v\",\"showlegend\":true,\"x\":[0.7,-0.8095238095238095,-0.7368421052631579,-0.7647058823529411,0.7692307692307693,-0.23809523809523808,-0.7777777777777778,0.19047619047619047,0.3333333333333333,-0.8095238095238095,-0.8095238095238095,0.2857142857142857,-0.3333333333333333,0.3,-0.09523809523809523,0.3333333333333333,-0.42857142857142855],\"xaxis\":\"x\",\"y\":[0.6470588235294118,-0.8333333333333334,-0.8571428571428571,-0.7647058823529411,0.7586206896551724,-0.40540540540540543,-0.8787878787878788,0.02631578947368421,0.15789473684210525,-0.8421052631578947,-0.8421052631578947,0.18421052631578946,-0.42105263157894735,0.21212121212121213,-0.3684210526315789,0.07894736842105263,-0.6756756756756757],\"yaxis\":\"y\",\"type\":\"scatter\"},{\"hovertemplate\":\"<b>%{hovertext}</b><br><br>District=Sion<br>orientation=%{x}<br>progvscons=%{y}<extra></extra>\",\"hovertext\":[\"Alina DARBELLAY\",\"Caroline REYNARD\",\"Christelle HERITIER\",\"Christine ROUX\",\"Emilie PRAZ\",\"Fran\\u00e7ois QUENNOZ\",\"Gabrielle BARRAS\",\"Jean BONNARD\",\"Jean ZERMATTEN\",\"Laurence VUAGNIAUX\",\"Marie ZUCHUAT\",\"Marius DUMOULIN\",\"Pierre SCHERTENLEIB\",\"Pierre-Alain RAEMY\",\"Ruth STALDER\",\"Vincent BOAND\",\"Vincent LUYET\",\"Yann RODUIT\"],\"legendgroup\":\"Sion\",\"marker\":{\"color\":\"#ab63fa\",\"symbol\":\"circle\"},\"mode\":\"markers\",\"name\":\"Sion\",\"orientation\":\"v\",\"showlegend\":true,\"x\":[-0.8461538461538461,-0.7619047619047619,-0.6923076923076923,0.4,-0.8095238095238095,0.42105263157894735,0.5,-0.8095238095238095,-0.7894736842105263,-0.7619047619047619,0.19047619047619047,0.23809523809523808,-0.8095238095238095,-0.5238095238095238,-0.23809523809523808,0.5789473684210527,-0.8095238095238095,0.19047619047619047],\"xaxis\":\"x\",\"y\":[-0.782608695652174,-0.7894736842105263,-0.6956521739130435,0.3448275862068966,-0.8421052631578947,0.4444444444444444,0.4838709677419355,-0.7631578947368421,-0.7777777777777778,-0.868421052631579,0.05714285714285714,0.10526315789473684,-0.8421052631578947,-0.6842105263157895,-0.21052631578947367,0.45454545454545453,-0.8857142857142857,0.10810810810810811],\"yaxis\":\"y\",\"type\":\"scatter\"},{\"hovertemplate\":\"<b>%{hovertext}</b><br><br>District=Goms<br>orientation=%{x}<br>progvscons=%{y}<extra></extra>\",\"hovertext\":[\"Chantal CARLEN\",\"Peter B\\u00c4HLER\"],\"legendgroup\":\"Goms\",\"marker\":{\"color\":\"#FFA15A\",\"symbol\":\"circle\"},\"mode\":\"markers\",\"name\":\"Goms\",\"orientation\":\"v\",\"showlegend\":true,\"x\":[0.6,0.5789473684210527],\"xaxis\":\"x\",\"y\":[0.5555555555555556,0.7714285714285715],\"yaxis\":\"y\",\"type\":\"scatter\"},{\"hovertemplate\":\"<b>%{hovertext}</b><br><br>District=Brig<br>orientation=%{x}<br>progvscons=%{y}<extra></extra>\",\"hovertext\":[\"Christian ESCHER\",\"Claudia ALPIGER\",\"Felix RUPPEN\",\"German EYER\",\"Kurt REGOTZ\",\"Leander WILLINER\",\"Maria ARNOLD-ESCHER\",\"Monika HOLZEGGER\",\"Rafael WELSCHEN\",\"Ralph KUMMER\",\"Remo SCHNYDER\"],\"legendgroup\":\"Brig\",\"marker\":{\"color\":\"#19d3f3\",\"symbol\":\"circle\"},\"mode\":\"markers\",\"name\":\"Brig\",\"orientation\":\"v\",\"showlegend\":true,\"x\":[-0.05263157894736842,-0.7,0.75,-0.7142857142857143,0.047619047619047616,0.15,0.47368421052631576,-0.38095238095238093,0.5384615384615384,0.23076923076923078,0.375],\"xaxis\":\"x\",\"y\":[-0.17142857142857143,-0.6216216216216216,0.4375,-0.5945945945945946,0.1111111111111111,0.02702702702702703,0.41935483870967744,-0.13157894736842105,0.48148148148148145,0.6923076923076923,0.5862068965517241],\"yaxis\":\"y\",\"type\":\"scatter\"},{\"hovertemplate\":\"<b>%{hovertext}</b><br><br>District=Conthey<br>orientation=%{x}<br>progvscons=%{y}<extra></extra>\",\"hovertext\":[\"Claude NAN\\u00c7OZ\",\"Damien CLERC\",\"Damien FUMEAUX\",\"Florent FAVRE\",\"Florian EVEQUOZ\",\"Lucile CURDY\",\"L\\u00e9a ROUILLER DESSIMOZ\",\"Pascale FUMEAUX\",\"Ralph DESSIMOZ\",\"Romain UDRY\",\"Sophie BORNET\"],\"legendgroup\":\"Conthey\",\"marker\":{\"color\":\"#FF6692\",\"symbol\":\"circle\"},\"mode\":\"markers\",\"name\":\"Conthey\",\"orientation\":\"v\",\"showlegend\":true,\"x\":[0.125,0.7777777777777778,0.6666666666666666,0.375,-0.9047619047619048,-0.7222222222222222,-0.875,-0.7647058823529411,0.21052631578947367,0.26666666666666666,0.10526315789473684],\"xaxis\":\"x\",\"y\":[-0.13333333333333333,0.625,0.631578947368421,0.15151515151515152,-0.7894736842105263,-0.7878787878787878,-0.7878787878787878,-0.8571428571428571,0.0,0.03571428571428571,0.02857142857142857],\"yaxis\":\"y\",\"type\":\"scatter\"},{\"hovertemplate\":\"<b>%{hovertext}</b><br><br>District=H\\u00e9rens<br>orientation=%{x}<br>progvscons=%{y}<extra></extra>\",\"hovertext\":[\"Claudia GAILLARD MOREND\",\"Fr\\u00e9d\\u00e9ric PITTELOUD\",\"Jacques BLANC\",\"Marc-Antoine GENOLET\",\"M\\u00e9lanie FOLLONIER\"],\"legendgroup\":\"H\\u00e9rens\",\"marker\":{\"color\":\"#B6E880\",\"symbol\":\"circle\"},\"mode\":\"markers\",\"name\":\"H\\u00e9rens\",\"orientation\":\"v\",\"showlegend\":true,\"x\":[-0.7142857142857143,0.23809523809523808,-0.6111111111111112,0.7142857142857143,0.125],\"xaxis\":\"x\",\"y\":[-0.8421052631578947,0.15789473684210525,-0.59375,0.7105263157894737,-0.25],\"yaxis\":\"y\",\"type\":\"scatter\"},{\"hovertemplate\":\"<b>%{hovertext}</b><br><br>District=Visp<br>orientation=%{x}<br>progvscons=%{y}<extra></extra>\",\"hovertext\":[\"Danica ZURBRIGGEN LEHNER\",\"Fabian ZURBRIGGEN\",\"Flavio SCHMID\",\"Ida H\\u00c4FLIGER\",\"Martin SCH\\u00dcRCH\",\"Matteo AB\\u00c4CHERLI\",\"Michael BURGENER\",\"Michael KREUZER\",\"Paul BURGENER\",\"Peter BURRI\",\"Rahel ZIMMERMANN\"],\"legendgroup\":\"Visp\",\"marker\":{\"color\":\"#FF97FF\",\"symbol\":\"circle\"},\"mode\":\"markers\",\"name\":\"Visp\",\"orientation\":\"v\",\"showlegend\":true,\"x\":[-0.3333333333333333,0.5238095238095238,0.3333333333333333,-0.05263157894736842,0.7142857142857143,0.42857142857142855,0.42857142857142855,0.5238095238095238,-0.11764705882352941,-0.14285714285714285,-0.7],\"xaxis\":\"x\",\"y\":[-0.20833333333333334,0.7631578947368421,0.23809523809523808,-0.12121212121212122,0.47368421052631576,0.3684210526315789,0.2631578947368421,0.6842105263157895,-0.1,0.0,-0.6216216216216216],\"yaxis\":\"y\",\"type\":\"scatter\"},{\"hovertemplate\":\"<b>%{hovertext}</b><br><br>District=Westlich Raron<br>orientation=%{x}<br>progvscons=%{y}<extra></extra>\",\"hovertext\":[\"Dominik KNUBEL\",\"Hermann BRUNNER\",\"Lukas KALBERMATTEN\",\"Romano AMACKER\"],\"legendgroup\":\"Westlich Raron\",\"marker\":{\"color\":\"#FECB52\",\"symbol\":\"circle\"},\"mode\":\"markers\",\"name\":\"Westlich Raron\",\"orientation\":\"v\",\"showlegend\":true,\"x\":[-0.15,-0.09523809523809523,0.2222222222222222,0.5238095238095238],\"xaxis\":\"x\",\"y\":[-0.05405405405405406,-0.02631578947368421,0.0625,0.7368421052631579],\"yaxis\":\"y\",\"type\":\"scatter\"},{\"hovertemplate\":\"<b>%{hovertext}</b><br><br>District=Leuk<br>orientation=%{x}<br>progvscons=%{y}<extra></extra>\",\"hovertext\":[\"Fabienne MURMANN\",\"Lukas J\\u00c4GER\",\"Madeleine KUONEN-EGGO\",\"Rainer MATHIER\",\"Thomas MATTER\"],\"legendgroup\":\"Leuk\",\"marker\":{\"color\":\"#636efa\",\"symbol\":\"circle\"},\"mode\":\"markers\",\"name\":\"Leuk\",\"orientation\":\"v\",\"showlegend\":true,\"x\":[0.42857142857142855,0.5384615384615384,-0.7222222222222222,0.42857142857142855,-0.047619047619047616],\"xaxis\":\"x\",\"y\":[0.2631578947368421,0.76,-0.6666666666666666,0.3157894736842105,-0.21052631578947367],\"yaxis\":\"y\",\"type\":\"scatter\"},{\"hovertemplate\":\"<b>%{hovertext}</b><br><br>District=\\u00d6stlich Raron<br>orientation=%{x}<br>progvscons=%{y}<extra></extra>\",\"hovertext\":[\"Gerhard SCHMID\"],\"legendgroup\":\"\\u00d6stlich Raron\",\"marker\":{\"color\":\"#EF553B\",\"symbol\":\"circle\"},\"mode\":\"markers\",\"name\":\"\\u00d6stlich Raron\",\"orientation\":\"v\",\"showlegend\":true,\"x\":[-0.7142857142857143],\"xaxis\":\"x\",\"y\":[-0.631578947368421],\"yaxis\":\"y\",\"type\":\"scatter\"},{\"hovertemplate\":\"<b>%{hovertext}</b><br><br>District=Entremont<br>orientation=%{x}<br>progvscons=%{y}<extra></extra>\",\"hovertext\":[\"Jean-Fran\\u00e7ois LOVEY\",\"J\\u00e9r\\u00f4me FORMAZ\",\"Kamy MAY\",\"Mathieu SARRASIN\",\"Natacha MARET\",\"Pierre DARBELLAY\"],\"legendgroup\":\"Entremont\",\"marker\":{\"color\":\"#00cc96\",\"symbol\":\"circle\"},\"mode\":\"markers\",\"name\":\"Entremont\",\"orientation\":\"v\",\"showlegend\":true,\"x\":[-0.8,0.6842105263157895,0.14285714285714285,0.0,0.2857142857142857,0.75],\"xaxis\":\"x\",\"y\":[-0.8333333333333334,0.5428571428571428,0.15789473684210525,-0.0967741935483871,0.05263157894736842,0.3333333333333333],\"yaxis\":\"y\",\"type\":\"scatter\"},{\"hovertemplate\":\"<b>%{hovertext}</b><br><br>District=St-Maurice<br>orientation=%{x}<br>progvscons=%{y}<extra></extra>\",\"hovertext\":[\"Jenny VOEFFRAY\",\"Martine ROUILLER\",\"Nicolas METTAN\",\"Raymonde SCHOCH\",\"Sabine FOURNIER\"],\"legendgroup\":\"St-Maurice\",\"marker\":{\"color\":\"#ab63fa\",\"symbol\":\"circle\"},\"mode\":\"markers\",\"name\":\"St-Maurice\",\"orientation\":\"v\",\"showlegend\":true,\"x\":[-0.17647058823529413,-0.8095238095238095,-0.4,-0.6666666666666666,-0.8095238095238095],\"xaxis\":\"x\",\"y\":[-0.3333333333333333,-0.868421052631579,-0.4074074074074074,-0.5789473684210527,-0.8947368421052632],\"yaxis\":\"y\",\"type\":\"scatter\"}],                        {\"template\":{\"data\":{\"histogram2dcontour\":[{\"type\":\"histogram2dcontour\",\"colorbar\":{\"outlinewidth\":0,\"ticks\":\"\"},\"colorscale\":[[0.0,\"#0d0887\"],[0.1111111111111111,\"#46039f\"],[0.2222222222222222,\"#7201a8\"],[0.3333333333333333,\"#9c179e\"],[0.4444444444444444,\"#bd3786\"],[0.5555555555555556,\"#d8576b\"],[0.6666666666666666,\"#ed7953\"],[0.7777777777777778,\"#fb9f3a\"],[0.8888888888888888,\"#fdca26\"],[1.0,\"#f0f921\"]]}],\"choropleth\":[{\"type\":\"choropleth\",\"colorbar\":{\"outlinewidth\":0,\"ticks\":\"\"}}],\"histogram2d\":[{\"type\":\"histogram2d\",\"colorbar\":{\"outlinewidth\":0,\"ticks\":\"\"},\"colorscale\":[[0.0,\"#0d0887\"],[0.1111111111111111,\"#46039f\"],[0.2222222222222222,\"#7201a8\"],[0.3333333333333333,\"#9c179e\"],[0.4444444444444444,\"#bd3786\"],[0.5555555555555556,\"#d8576b\"],[0.6666666666666666,\"#ed7953\"],[0.7777777777777778,\"#fb9f3a\"],[0.8888888888888888,\"#fdca26\"],[1.0,\"#f0f921\"]]}],\"heatmap\":[{\"type\":\"heatmap\",\"colorbar\":{\"outlinewidth\":0,\"ticks\":\"\"},\"colorscale\":[[0.0,\"#0d0887\"],[0.1111111111111111,\"#46039f\"],[0.2222222222222222,\"#7201a8\"],[0.3333333333333333,\"#9c179e\"],[0.4444444444444444,\"#bd3786\"],[0.5555555555555556,\"#d8576b\"],[0.6666666666666666,\"#ed7953\"],[0.7777777777777778,\"#fb9f3a\"],[0.8888888888888888,\"#fdca26\"],[1.0,\"#f0f921\"]]}],\"heatmapgl\":[{\"type\":\"heatmapgl\",\"colorbar\":{\"outlinewidth\":0,\"ticks\":\"\"},\"colorscale\":[[0.0,\"#0d0887\"],[0.1111111111111111,\"#46039f\"],[0.2222222222222222,\"#7201a8\"],[0.3333333333333333,\"#9c179e\"],[0.4444444444444444,\"#bd3786\"],[0.5555555555555556,\"#d8576b\"],[0.6666666666666666,\"#ed7953\"],[0.7777777777777778,\"#fb9f3a\"],[0.8888888888888888,\"#fdca26\"],[1.0,\"#f0f921\"]]}],\"contourcarpet\":[{\"type\":\"contourcarpet\",\"colorbar\":{\"outlinewidth\":0,\"ticks\":\"\"}}],\"contour\":[{\"type\":\"contour\",\"colorbar\":{\"outlinewidth\":0,\"ticks\":\"\"},\"colorscale\":[[0.0,\"#0d0887\"],[0.1111111111111111,\"#46039f\"],[0.2222222222222222,\"#7201a8\"],[0.3333333333333333,\"#9c179e\"],[0.4444444444444444,\"#bd3786\"],[0.5555555555555556,\"#d8576b\"],[0.6666666666666666,\"#ed7953\"],[0.7777777777777778,\"#fb9f3a\"],[0.8888888888888888,\"#fdca26\"],[1.0,\"#f0f921\"]]}],\"surface\":[{\"type\":\"surface\",\"colorbar\":{\"outlinewidth\":0,\"ticks\":\"\"},\"colorscale\":[[0.0,\"#0d0887\"],[0.1111111111111111,\"#46039f\"],[0.2222222222222222,\"#7201a8\"],[0.3333333333333333,\"#9c179e\"],[0.4444444444444444,\"#bd3786\"],[0.5555555555555556,\"#d8576b\"],[0.6666666666666666,\"#ed7953\"],[0.7777777777777778,\"#fb9f3a\"],[0.8888888888888888,\"#fdca26\"],[1.0,\"#f0f921\"]]}],\"mesh3d\":[{\"type\":\"mesh3d\",\"colorbar\":{\"outlinewidth\":0,\"ticks\":\"\"}}],\"scatter\":[{\"fillpattern\":{\"fillmode\":\"overlay\",\"size\":10,\"solidity\":0.2},\"type\":\"scatter\"}],\"parcoords\":[{\"type\":\"parcoords\",\"line\":{\"colorbar\":{\"outlinewidth\":0,\"ticks\":\"\"}}}],\"scatterpolargl\":[{\"type\":\"scatterpolargl\",\"marker\":{\"colorbar\":{\"outlinewidth\":0,\"ticks\":\"\"}}}],\"bar\":[{\"error_x\":{\"color\":\"#2a3f5f\"},\"error_y\":{\"color\":\"#2a3f5f\"},\"marker\":{\"line\":{\"color\":\"#E5ECF6\",\"width\":0.5},\"pattern\":{\"fillmode\":\"overlay\",\"size\":10,\"solidity\":0.2}},\"type\":\"bar\"}],\"scattergeo\":[{\"type\":\"scattergeo\",\"marker\":{\"colorbar\":{\"outlinewidth\":0,\"ticks\":\"\"}}}],\"scatterpolar\":[{\"type\":\"scatterpolar\",\"marker\":{\"colorbar\":{\"outlinewidth\":0,\"ticks\":\"\"}}}],\"histogram\":[{\"marker\":{\"pattern\":{\"fillmode\":\"overlay\",\"size\":10,\"solidity\":0.2}},\"type\":\"histogram\"}],\"scattergl\":[{\"type\":\"scattergl\",\"marker\":{\"colorbar\":{\"outlinewidth\":0,\"ticks\":\"\"}}}],\"scatter3d\":[{\"type\":\"scatter3d\",\"line\":{\"colorbar\":{\"outlinewidth\":0,\"ticks\":\"\"}},\"marker\":{\"colorbar\":{\"outlinewidth\":0,\"ticks\":\"\"}}}],\"scattermapbox\":[{\"type\":\"scattermapbox\",\"marker\":{\"colorbar\":{\"outlinewidth\":0,\"ticks\":\"\"}}}],\"scatterternary\":[{\"type\":\"scatterternary\",\"marker\":{\"colorbar\":{\"outlinewidth\":0,\"ticks\":\"\"}}}],\"scattercarpet\":[{\"type\":\"scattercarpet\",\"marker\":{\"colorbar\":{\"outlinewidth\":0,\"ticks\":\"\"}}}],\"carpet\":[{\"aaxis\":{\"endlinecolor\":\"#2a3f5f\",\"gridcolor\":\"white\",\"linecolor\":\"white\",\"minorgridcolor\":\"white\",\"startlinecolor\":\"#2a3f5f\"},\"baxis\":{\"endlinecolor\":\"#2a3f5f\",\"gridcolor\":\"white\",\"linecolor\":\"white\",\"minorgridcolor\":\"white\",\"startlinecolor\":\"#2a3f5f\"},\"type\":\"carpet\"}],\"table\":[{\"cells\":{\"fill\":{\"color\":\"#EBF0F8\"},\"line\":{\"color\":\"white\"}},\"header\":{\"fill\":{\"color\":\"#C8D4E3\"},\"line\":{\"color\":\"white\"}},\"type\":\"table\"}],\"barpolar\":[{\"marker\":{\"line\":{\"color\":\"#E5ECF6\",\"width\":0.5},\"pattern\":{\"fillmode\":\"overlay\",\"size\":10,\"solidity\":0.2}},\"type\":\"barpolar\"}],\"pie\":[{\"automargin\":true,\"type\":\"pie\"}]},\"layout\":{\"autotypenumbers\":\"strict\",\"colorway\":[\"#636efa\",\"#EF553B\",\"#00cc96\",\"#ab63fa\",\"#FFA15A\",\"#19d3f3\",\"#FF6692\",\"#B6E880\",\"#FF97FF\",\"#FECB52\"],\"font\":{\"color\":\"#2a3f5f\"},\"hovermode\":\"closest\",\"hoverlabel\":{\"align\":\"left\"},\"paper_bgcolor\":\"white\",\"plot_bgcolor\":\"#E5ECF6\",\"polar\":{\"bgcolor\":\"#E5ECF6\",\"angularaxis\":{\"gridcolor\":\"white\",\"linecolor\":\"white\",\"ticks\":\"\"},\"radialaxis\":{\"gridcolor\":\"white\",\"linecolor\":\"white\",\"ticks\":\"\"}},\"ternary\":{\"bgcolor\":\"#E5ECF6\",\"aaxis\":{\"gridcolor\":\"white\",\"linecolor\":\"white\",\"ticks\":\"\"},\"baxis\":{\"gridcolor\":\"white\",\"linecolor\":\"white\",\"ticks\":\"\"},\"caxis\":{\"gridcolor\":\"white\",\"linecolor\":\"white\",\"ticks\":\"\"}},\"coloraxis\":{\"colorbar\":{\"outlinewidth\":0,\"ticks\":\"\"}},\"colorscale\":{\"sequential\":[[0.0,\"#0d0887\"],[0.1111111111111111,\"#46039f\"],[0.2222222222222222,\"#7201a8\"],[0.3333333333333333,\"#9c179e\"],[0.4444444444444444,\"#bd3786\"],[0.5555555555555556,\"#d8576b\"],[0.6666666666666666,\"#ed7953\"],[0.7777777777777778,\"#fb9f3a\"],[0.8888888888888888,\"#fdca26\"],[1.0,\"#f0f921\"]],\"sequentialminus\":[[0.0,\"#0d0887\"],[0.1111111111111111,\"#46039f\"],[0.2222222222222222,\"#7201a8\"],[0.3333333333333333,\"#9c179e\"],[0.4444444444444444,\"#bd3786\"],[0.5555555555555556,\"#d8576b\"],[0.6666666666666666,\"#ed7953\"],[0.7777777777777778,\"#fb9f3a\"],[0.8888888888888888,\"#fdca26\"],[1.0,\"#f0f921\"]],\"diverging\":[[0,\"#8e0152\"],[0.1,\"#c51b7d\"],[0.2,\"#de77ae\"],[0.3,\"#f1b6da\"],[0.4,\"#fde0ef\"],[0.5,\"#f7f7f7\"],[0.6,\"#e6f5d0\"],[0.7,\"#b8e186\"],[0.8,\"#7fbc41\"],[0.9,\"#4d9221\"],[1,\"#276419\"]]},\"xaxis\":{\"gridcolor\":\"white\",\"linecolor\":\"white\",\"ticks\":\"\",\"title\":{\"standoff\":15},\"zerolinecolor\":\"white\",\"automargin\":true,\"zerolinewidth\":2},\"yaxis\":{\"gridcolor\":\"white\",\"linecolor\":\"white\",\"ticks\":\"\",\"title\":{\"standoff\":15},\"zerolinecolor\":\"white\",\"automargin\":true,\"zerolinewidth\":2},\"scene\":{\"xaxis\":{\"backgroundcolor\":\"#E5ECF6\",\"gridcolor\":\"white\",\"linecolor\":\"white\",\"showbackground\":true,\"ticks\":\"\",\"zerolinecolor\":\"white\",\"gridwidth\":2},\"yaxis\":{\"backgroundcolor\":\"#E5ECF6\",\"gridcolor\":\"white\",\"linecolor\":\"white\",\"showbackground\":true,\"ticks\":\"\",\"zerolinecolor\":\"white\",\"gridwidth\":2},\"zaxis\":{\"backgroundcolor\":\"#E5ECF6\",\"gridcolor\":\"white\",\"linecolor\":\"white\",\"showbackground\":true,\"ticks\":\"\",\"zerolinecolor\":\"white\",\"gridwidth\":2}},\"shapedefaults\":{\"line\":{\"color\":\"#2a3f5f\"}},\"annotationdefaults\":{\"arrowcolor\":\"#2a3f5f\",\"arrowhead\":0,\"arrowwidth\":1},\"geo\":{\"bgcolor\":\"white\",\"landcolor\":\"#E5ECF6\",\"subunitcolor\":\"white\",\"showland\":true,\"showlakes\":true,\"lakecolor\":\"white\"},\"title\":{\"x\":0.05},\"mapbox\":{\"style\":\"light\"}}},\"xaxis\":{\"anchor\":\"y\",\"domain\":[0.0,1.0],\"title\":{\"text\":\"orientation\"},\"range\":[-1,1]},\"yaxis\":{\"anchor\":\"x\",\"domain\":[0.0,1.0],\"title\":{\"text\":\"progvscons\"},\"range\":[-1,1]},\"legend\":{\"title\":{\"text\":\"District\"},\"tracegroupgap\":0},\"margin\":{\"t\":60}},                        {\"responsive\": true}                    ).then(function(){\n",
       "                            \n",
       "var gd = document.getElementById('7b8fabfa-e88f-4fba-a50a-f9a5278fc30d');\n",
       "var x = new MutationObserver(function (mutations, observer) {{\n",
       "        var display = window.getComputedStyle(gd).display;\n",
       "        if (!display || display === 'none') {{\n",
       "            console.log([gd, 'removed!']);\n",
       "            Plotly.purge(gd);\n",
       "            observer.disconnect();\n",
       "        }}\n",
       "}});\n",
       "\n",
       "// Listen for the removal of the full notebook cells\n",
       "var notebookContainer = gd.closest('#notebook-container');\n",
       "if (notebookContainer) {{\n",
       "    x.observe(notebookContainer, {childList: true});\n",
       "}}\n",
       "\n",
       "// Listen for the clearing of the current output cell\n",
       "var outputEl = gd.closest('.output');\n",
       "if (outputEl) {{\n",
       "    x.observe(outputEl, {childList: true});\n",
       "}}\n",
       "\n",
       "                        })                };                });            </script>        </div>"
      ]
     },
     "metadata": {},
     "output_type": "display_data"
    }
   ],
   "source": [
    "fig = px.scatter(counts_df, x=\"orientation\", y=\"progvscons\",  color='District', hover_name='name')\n",
    "fig.update_xaxes(range=[-1, 1])\n",
    "fig.update_yaxes(range=[-1, 1])\n",
    "fig.show()"
   ]
  },
  {
   "cell_type": "code",
   "execution_count": 115,
   "id": "d4f7cac7",
   "metadata": {},
   "outputs": [
    {
     "data": {
      "application/vnd.plotly.v1+json": {
       "config": {
        "plotlyServerURL": "https://plot.ly"
       },
       "data": [
        {
         "hovertemplate": "<b>%{hovertext}</b><br><br>Genre=F<br>orientation=%{x}<br>progvscons=%{y}<extra></extra>",
         "hovertext": [
          "Adeline CRETTENAND",
          "Alina DARBELLAY",
          "Caroline REYNARD",
          "Chantal CARLEN",
          "Christelle HERITIER",
          "Christine ROUX",
          "Cilette CRETTON",
          "Claudia ALPIGER",
          "Claudia GAILLARD MOREND",
          "Corinne DUC BONVIN",
          "Célina RAMSAUER",
          "Danica ZURBRIGGEN LEHNER",
          "Emilie PRAZ",
          "Fabienne MURMANN",
          "Florence CARRON DARBELLAY",
          "Florine CARRON",
          "Gabrielle BARRAS",
          "Gabrielle CORNUT-ZUFFEREY",
          "Géraldine GIANADDA",
          "Géraldine GRANGES GUENOT",
          "Géraldine GRANGES-GUENOT",
          "Géraldine POUGET-ZUFFEREY",
          "Ida HÄFLIGER",
          "Janine REY-SIGGEN",
          "Jenny VOEFFRAY",
          "Joséphine WAEBER",
          "Kamy MAY",
          "Laurence VUAGNIAUX",
          "Lucile CURDY",
          "Léa ROUILLER DESSIMOZ",
          "Madeleine KUONEN-EGGO",
          "Maria ARNOLD-ESCHER",
          "Marie ZUCHUAT",
          "Martine ROUILLER",
          "Monika HOLZEGGER",
          "Mélanie FOLLONIER",
          "Natacha MARET",
          "Natascha FARQUET",
          "Pascale FUMEAUX",
          "Patricia CASAYS",
          "Rahel ZIMMERMANN",
          "Raymonde SCHOCH",
          "Ruth STALDER",
          "Sabine FOURNIER",
          "Sophie BORNET",
          "Sophie DUCREY"
         ],
         "legendgroup": "F",
         "marker": {
          "color": "#636efa",
          "symbol": "circle"
         },
         "mode": "markers",
         "name": "F",
         "orientation": "v",
         "showlegend": true,
         "type": "scatter",
         "x": [
          0.3333333333333333,
          -0.8461538461538461,
          -0.7619047619047619,
          0.6,
          -0.6923076923076923,
          0.4,
          -0.7619047619047619,
          -0.7,
          -0.7142857142857143,
          -0.7368421052631579,
          -0.7647058823529411,
          -0.3333333333333333,
          -0.8095238095238095,
          0.42857142857142855,
          0,
          -0.7368421052631579,
          0.5,
          -0.7777777777777778,
          -0.8125,
          -1,
          0.5,
          0.19047619047619047,
          -0.05263157894736842,
          -0.8095238095238095,
          -0.17647058823529413,
          0.3,
          0.14285714285714285,
          -0.7619047619047619,
          -0.7222222222222222,
          -0.875,
          -0.7222222222222222,
          0.47368421052631576,
          0.19047619047619047,
          -0.8095238095238095,
          -0.38095238095238093,
          0.125,
          0.2857142857142857,
          -0.5263157894736842,
          -0.7647058823529411,
          0.11764705882352941,
          -0.7,
          -0.6666666666666666,
          -0.23809523809523808,
          -0.8095238095238095,
          0.10526315789473684,
          -0.7142857142857143
         ],
         "xaxis": "x",
         "y": [
          0.2,
          -0.782608695652174,
          -0.7894736842105263,
          0.5555555555555556,
          -0.6956521739130435,
          0.3448275862068966,
          -0.7631578947368421,
          -0.6216216216216216,
          -0.8421052631578947,
          -0.8571428571428571,
          -0.7647058823529411,
          -0.20833333333333334,
          -0.8421052631578947,
          0.2631578947368421,
          -0.2702702702702703,
          -0.7,
          0.4838709677419355,
          -0.8787878787878788,
          -0.7407407407407407,
          -1,
          0.5416666666666666,
          0.02631578947368421,
          -0.12121212121212122,
          -0.8421052631578947,
          -0.3333333333333333,
          0.21212121212121213,
          0.15789473684210525,
          -0.868421052631579,
          -0.7878787878787878,
          -0.7878787878787878,
          -0.6666666666666666,
          0.41935483870967744,
          0.05714285714285714,
          -0.868421052631579,
          -0.13157894736842105,
          -0.25,
          0.05263157894736842,
          -0.6388888888888888,
          -0.8571428571428571,
          -0.09090909090909091,
          -0.6216216216216216,
          -0.5789473684210527,
          -0.21052631578947367,
          -0.8947368421052632,
          0.02857142857142857,
          -0.8421052631578947
         ],
         "yaxis": "y"
        },
        {
         "hovertemplate": "<b>%{hovertext}</b><br><br>Genre=H<br>orientation=%{x}<br>progvscons=%{y}<extra></extra>",
         "hovertext": [
          "Alain DUBOSSON",
          "Alain LÉGER",
          "Alain SCHÖNBETT",
          "Alex BONVIN",
          "Arnaud DUBOIS",
          "Bernard OBERHOLZER",
          "Bernard TROILLET",
          "Blaise CRETTOL",
          "Christian ESCHER",
          "Claude NANÇOZ",
          "Claudy BESSE",
          "Côme VUILLE",
          "Damien CLERC",
          "Damien FUMEAUX",
          "Damien LUISIER",
          "Damien RABOUD",
          "Dominik KNUBEL",
          "Edmond PERRUCHOUD",
          "Fabian ZURBRIGGEN",
          "Fabien THETAZ",
          "Felix RUPPEN",
          "Flavio SCHMID",
          "Florent FAVRE",
          "Florian EVEQUOZ",
          "François GENOUD",
          "François QUENNOZ",
          "Frédéric PITTELOUD",
          "Gaël BOURGEOIS",
          "Georges VIONNET",
          "Gerhard SCHMID",
          "German EYER",
          "Grégoire VANNAY",
          "Gérard SALAMIN",
          "Hermann BRUNNER",
          "Jacques BLANC",
          "Jean BONNARD",
          "Jean ZERMATTEN",
          "Jean-Baptiste UDRESSY",
          "Jean-Daniel NANCHEN",
          "Jean-Dominique CIPOLLA",
          "Jean-François LOVEY",
          "Jean-Marc DUPONT",
          "Jean-Marc SAVIOZ",
          "Jean-Pierre REY",
          "Johan ROCHEL",
          "Jérôme FORMAZ",
          "Kurt REGOTZ",
          "Leander WILLINER",
          "Lukas JÄGER",
          "Lukas KALBERMATTEN",
          "Léonard BENDER",
          "Marc-Antoine GENOLET",
          "Marius DUMOULIN",
          "Martin SCHÜRCH",
          "Mathieu CALOZ",
          "Mathieu SARRASIN",
          "Matteo ABÄCHERLI",
          "Michael BURGENER",
          "Michael KREUZER",
          "Narcisse CRETTENAND",
          "Nicolas BONVIN",
          "Nicolas CHABLAIS",
          "Nicolas METTAN",
          "Olivier DERIVAZ",
          "Paul BURGENER",
          "Peter BURRI",
          "Peter BÄHLER",
          "Philippe BENDER",
          "Pierre DARBELLAY",
          "Pierre SCHERTENLEIB",
          "Pierre-Alain RAEMY",
          "Rafael WELSCHEN",
          "Rainer MATHIER",
          "Ralph DESSIMOZ",
          "Ralph KUMMER",
          "Remo SCHNYDER",
          "Romain UDRY",
          "Romano AMACKER",
          "Sandro FONTANA",
          "Stéphane CLAVIEN",
          "Thomas MATTER",
          "Vincent BOAND",
          "Vincent GÜNTHER",
          "Vincent LUYET",
          "Yann RODUIT"
         ],
         "legendgroup": "H",
         "marker": {
          "color": "#EF553B",
          "symbol": "circle"
         },
         "mode": "markers",
         "name": "H",
         "orientation": "v",
         "showlegend": true,
         "type": "scatter",
         "x": [
          0.7692307692307693,
          0.15,
          -0.3333333333333333,
          0.7,
          -0.5714285714285714,
          -1,
          -0.14285714285714285,
          -0.8095238095238095,
          -0.05263157894736842,
          0.125,
          0.47058823529411764,
          -0.3333333333333333,
          0.7777777777777778,
          0.6666666666666666,
          0.2222222222222222,
          0.5294117647058824,
          -0.15,
          0.7692307692307693,
          0.5238095238095238,
          -0.7777777777777778,
          0.75,
          0.3333333333333333,
          0.375,
          -0.9047619047619048,
          -0.23809523809523808,
          0.42105263157894735,
          0.23809523809523808,
          -1,
          -0.8095238095238095,
          -0.7142857142857143,
          -0.7142857142857143,
          -0.09523809523809523,
          0.3333333333333333,
          -0.09523809523809523,
          -0.6111111111111112,
          -0.8095238095238095,
          -0.7894736842105263,
          0.7647058823529411,
          -0.8095238095238095,
          0.6666666666666666,
          -0.8,
          -0.8095238095238095,
          0.2857142857142857,
          -0.3333333333333333,
          -0.7142857142857143,
          0.6842105263157895,
          0.047619047619047616,
          0.15,
          0.5384615384615384,
          0.2222222222222222,
          -0.7142857142857143,
          0.7142857142857143,
          0.23809523809523808,
          0.7142857142857143,
          -0.09523809523809523,
          0,
          0.42857142857142855,
          0.42857142857142855,
          0.5238095238095238,
          0.3333333333333333,
          0.3333333333333333,
          0,
          -0.4,
          -0.7,
          -0.11764705882352941,
          -0.14285714285714285,
          0.5789473684210527,
          0.09523809523809523,
          0.75,
          -0.8095238095238095,
          -0.5238095238095238,
          0.5384615384615384,
          0.42857142857142855,
          0.21052631578947367,
          0.23076923076923078,
          0.375,
          0.26666666666666666,
          0.5238095238095238,
          0.09523809523809523,
          -0.42857142857142855,
          -0.047619047619047616,
          0.5789473684210527,
          -0.8095238095238095,
          -0.8095238095238095,
          0.19047619047619047
         ],
         "xaxis": "x",
         "y": [
          0.7619047619047619,
          0.05405405405405406,
          -0.47058823529411764,
          0.6470588235294118,
          -0.7631578947368421,
          -0.6363636363636364,
          -0.2631578947368421,
          -0.8333333333333334,
          -0.17142857142857143,
          -0.13333333333333333,
          0.45161290322580644,
          -0.3684210526315789,
          0.625,
          0.631578947368421,
          0.21212121212121213,
          0.5588235294117647,
          -0.05405405405405406,
          0.7586206896551724,
          0.7631578947368421,
          -0.8484848484848485,
          0.4375,
          0.23809523809523808,
          0.15151515151515152,
          -0.7894736842105263,
          -0.40540540540540543,
          0.4444444444444444,
          0.15789473684210525,
          -0.7391304347826086,
          -0.8421052631578947,
          -0.631578947368421,
          -0.5945945945945946,
          -0.10526315789473684,
          0.15789473684210525,
          -0.02631578947368421,
          -0.59375,
          -0.7631578947368421,
          -0.7777777777777778,
          0.6470588235294118,
          -0.8421052631578947,
          0.5526315789473685,
          -0.8333333333333334,
          -0.8421052631578947,
          0.18421052631578946,
          -0.42105263157894735,
          -0.7894736842105263,
          0.5428571428571428,
          0.1111111111111111,
          0.02702702702702703,
          0.76,
          0.0625,
          -0.7368421052631579,
          0.7105263157894737,
          0.10526315789473684,
          0.47368421052631576,
          -0.3684210526315789,
          -0.0967741935483871,
          0.3684210526315789,
          0.2631578947368421,
          0.6842105263157895,
          0.10526315789473684,
          0.07894736842105263,
          0.3333333333333333,
          -0.4074074074074074,
          -0.7297297297297297,
          -0.1,
          0,
          0.7714285714285715,
          0.10526315789473684,
          0.3333333333333333,
          -0.8421052631578947,
          -0.6842105263157895,
          0.48148148148148145,
          0.3157894736842105,
          0,
          0.6923076923076923,
          0.5862068965517241,
          0.03571428571428571,
          0.7368421052631579,
          0.07894736842105263,
          -0.6756756756756757,
          -0.21052631578947367,
          0.45454545454545453,
          -0.8947368421052632,
          -0.8857142857142857,
          0.10810810810810811
         ],
         "yaxis": "y"
        }
       ],
       "layout": {
        "legend": {
         "title": {
          "text": "Genre"
         },
         "tracegroupgap": 0
        },
        "margin": {
         "t": 60
        },
        "template": {
         "data": {
          "bar": [
           {
            "error_x": {
             "color": "#2a3f5f"
            },
            "error_y": {
             "color": "#2a3f5f"
            },
            "marker": {
             "line": {
              "color": "#E5ECF6",
              "width": 0.5
             },
             "pattern": {
              "fillmode": "overlay",
              "size": 10,
              "solidity": 0.2
             }
            },
            "type": "bar"
           }
          ],
          "barpolar": [
           {
            "marker": {
             "line": {
              "color": "#E5ECF6",
              "width": 0.5
             },
             "pattern": {
              "fillmode": "overlay",
              "size": 10,
              "solidity": 0.2
             }
            },
            "type": "barpolar"
           }
          ],
          "carpet": [
           {
            "aaxis": {
             "endlinecolor": "#2a3f5f",
             "gridcolor": "white",
             "linecolor": "white",
             "minorgridcolor": "white",
             "startlinecolor": "#2a3f5f"
            },
            "baxis": {
             "endlinecolor": "#2a3f5f",
             "gridcolor": "white",
             "linecolor": "white",
             "minorgridcolor": "white",
             "startlinecolor": "#2a3f5f"
            },
            "type": "carpet"
           }
          ],
          "choropleth": [
           {
            "colorbar": {
             "outlinewidth": 0,
             "ticks": ""
            },
            "type": "choropleth"
           }
          ],
          "contour": [
           {
            "colorbar": {
             "outlinewidth": 0,
             "ticks": ""
            },
            "colorscale": [
             [
              0,
              "#0d0887"
             ],
             [
              0.1111111111111111,
              "#46039f"
             ],
             [
              0.2222222222222222,
              "#7201a8"
             ],
             [
              0.3333333333333333,
              "#9c179e"
             ],
             [
              0.4444444444444444,
              "#bd3786"
             ],
             [
              0.5555555555555556,
              "#d8576b"
             ],
             [
              0.6666666666666666,
              "#ed7953"
             ],
             [
              0.7777777777777778,
              "#fb9f3a"
             ],
             [
              0.8888888888888888,
              "#fdca26"
             ],
             [
              1,
              "#f0f921"
             ]
            ],
            "type": "contour"
           }
          ],
          "contourcarpet": [
           {
            "colorbar": {
             "outlinewidth": 0,
             "ticks": ""
            },
            "type": "contourcarpet"
           }
          ],
          "heatmap": [
           {
            "colorbar": {
             "outlinewidth": 0,
             "ticks": ""
            },
            "colorscale": [
             [
              0,
              "#0d0887"
             ],
             [
              0.1111111111111111,
              "#46039f"
             ],
             [
              0.2222222222222222,
              "#7201a8"
             ],
             [
              0.3333333333333333,
              "#9c179e"
             ],
             [
              0.4444444444444444,
              "#bd3786"
             ],
             [
              0.5555555555555556,
              "#d8576b"
             ],
             [
              0.6666666666666666,
              "#ed7953"
             ],
             [
              0.7777777777777778,
              "#fb9f3a"
             ],
             [
              0.8888888888888888,
              "#fdca26"
             ],
             [
              1,
              "#f0f921"
             ]
            ],
            "type": "heatmap"
           }
          ],
          "heatmapgl": [
           {
            "colorbar": {
             "outlinewidth": 0,
             "ticks": ""
            },
            "colorscale": [
             [
              0,
              "#0d0887"
             ],
             [
              0.1111111111111111,
              "#46039f"
             ],
             [
              0.2222222222222222,
              "#7201a8"
             ],
             [
              0.3333333333333333,
              "#9c179e"
             ],
             [
              0.4444444444444444,
              "#bd3786"
             ],
             [
              0.5555555555555556,
              "#d8576b"
             ],
             [
              0.6666666666666666,
              "#ed7953"
             ],
             [
              0.7777777777777778,
              "#fb9f3a"
             ],
             [
              0.8888888888888888,
              "#fdca26"
             ],
             [
              1,
              "#f0f921"
             ]
            ],
            "type": "heatmapgl"
           }
          ],
          "histogram": [
           {
            "marker": {
             "pattern": {
              "fillmode": "overlay",
              "size": 10,
              "solidity": 0.2
             }
            },
            "type": "histogram"
           }
          ],
          "histogram2d": [
           {
            "colorbar": {
             "outlinewidth": 0,
             "ticks": ""
            },
            "colorscale": [
             [
              0,
              "#0d0887"
             ],
             [
              0.1111111111111111,
              "#46039f"
             ],
             [
              0.2222222222222222,
              "#7201a8"
             ],
             [
              0.3333333333333333,
              "#9c179e"
             ],
             [
              0.4444444444444444,
              "#bd3786"
             ],
             [
              0.5555555555555556,
              "#d8576b"
             ],
             [
              0.6666666666666666,
              "#ed7953"
             ],
             [
              0.7777777777777778,
              "#fb9f3a"
             ],
             [
              0.8888888888888888,
              "#fdca26"
             ],
             [
              1,
              "#f0f921"
             ]
            ],
            "type": "histogram2d"
           }
          ],
          "histogram2dcontour": [
           {
            "colorbar": {
             "outlinewidth": 0,
             "ticks": ""
            },
            "colorscale": [
             [
              0,
              "#0d0887"
             ],
             [
              0.1111111111111111,
              "#46039f"
             ],
             [
              0.2222222222222222,
              "#7201a8"
             ],
             [
              0.3333333333333333,
              "#9c179e"
             ],
             [
              0.4444444444444444,
              "#bd3786"
             ],
             [
              0.5555555555555556,
              "#d8576b"
             ],
             [
              0.6666666666666666,
              "#ed7953"
             ],
             [
              0.7777777777777778,
              "#fb9f3a"
             ],
             [
              0.8888888888888888,
              "#fdca26"
             ],
             [
              1,
              "#f0f921"
             ]
            ],
            "type": "histogram2dcontour"
           }
          ],
          "mesh3d": [
           {
            "colorbar": {
             "outlinewidth": 0,
             "ticks": ""
            },
            "type": "mesh3d"
           }
          ],
          "parcoords": [
           {
            "line": {
             "colorbar": {
              "outlinewidth": 0,
              "ticks": ""
             }
            },
            "type": "parcoords"
           }
          ],
          "pie": [
           {
            "automargin": true,
            "type": "pie"
           }
          ],
          "scatter": [
           {
            "fillpattern": {
             "fillmode": "overlay",
             "size": 10,
             "solidity": 0.2
            },
            "type": "scatter"
           }
          ],
          "scatter3d": [
           {
            "line": {
             "colorbar": {
              "outlinewidth": 0,
              "ticks": ""
             }
            },
            "marker": {
             "colorbar": {
              "outlinewidth": 0,
              "ticks": ""
             }
            },
            "type": "scatter3d"
           }
          ],
          "scattercarpet": [
           {
            "marker": {
             "colorbar": {
              "outlinewidth": 0,
              "ticks": ""
             }
            },
            "type": "scattercarpet"
           }
          ],
          "scattergeo": [
           {
            "marker": {
             "colorbar": {
              "outlinewidth": 0,
              "ticks": ""
             }
            },
            "type": "scattergeo"
           }
          ],
          "scattergl": [
           {
            "marker": {
             "colorbar": {
              "outlinewidth": 0,
              "ticks": ""
             }
            },
            "type": "scattergl"
           }
          ],
          "scattermapbox": [
           {
            "marker": {
             "colorbar": {
              "outlinewidth": 0,
              "ticks": ""
             }
            },
            "type": "scattermapbox"
           }
          ],
          "scatterpolar": [
           {
            "marker": {
             "colorbar": {
              "outlinewidth": 0,
              "ticks": ""
             }
            },
            "type": "scatterpolar"
           }
          ],
          "scatterpolargl": [
           {
            "marker": {
             "colorbar": {
              "outlinewidth": 0,
              "ticks": ""
             }
            },
            "type": "scatterpolargl"
           }
          ],
          "scatterternary": [
           {
            "marker": {
             "colorbar": {
              "outlinewidth": 0,
              "ticks": ""
             }
            },
            "type": "scatterternary"
           }
          ],
          "surface": [
           {
            "colorbar": {
             "outlinewidth": 0,
             "ticks": ""
            },
            "colorscale": [
             [
              0,
              "#0d0887"
             ],
             [
              0.1111111111111111,
              "#46039f"
             ],
             [
              0.2222222222222222,
              "#7201a8"
             ],
             [
              0.3333333333333333,
              "#9c179e"
             ],
             [
              0.4444444444444444,
              "#bd3786"
             ],
             [
              0.5555555555555556,
              "#d8576b"
             ],
             [
              0.6666666666666666,
              "#ed7953"
             ],
             [
              0.7777777777777778,
              "#fb9f3a"
             ],
             [
              0.8888888888888888,
              "#fdca26"
             ],
             [
              1,
              "#f0f921"
             ]
            ],
            "type": "surface"
           }
          ],
          "table": [
           {
            "cells": {
             "fill": {
              "color": "#EBF0F8"
             },
             "line": {
              "color": "white"
             }
            },
            "header": {
             "fill": {
              "color": "#C8D4E3"
             },
             "line": {
              "color": "white"
             }
            },
            "type": "table"
           }
          ]
         },
         "layout": {
          "annotationdefaults": {
           "arrowcolor": "#2a3f5f",
           "arrowhead": 0,
           "arrowwidth": 1
          },
          "autotypenumbers": "strict",
          "coloraxis": {
           "colorbar": {
            "outlinewidth": 0,
            "ticks": ""
           }
          },
          "colorscale": {
           "diverging": [
            [
             0,
             "#8e0152"
            ],
            [
             0.1,
             "#c51b7d"
            ],
            [
             0.2,
             "#de77ae"
            ],
            [
             0.3,
             "#f1b6da"
            ],
            [
             0.4,
             "#fde0ef"
            ],
            [
             0.5,
             "#f7f7f7"
            ],
            [
             0.6,
             "#e6f5d0"
            ],
            [
             0.7,
             "#b8e186"
            ],
            [
             0.8,
             "#7fbc41"
            ],
            [
             0.9,
             "#4d9221"
            ],
            [
             1,
             "#276419"
            ]
           ],
           "sequential": [
            [
             0,
             "#0d0887"
            ],
            [
             0.1111111111111111,
             "#46039f"
            ],
            [
             0.2222222222222222,
             "#7201a8"
            ],
            [
             0.3333333333333333,
             "#9c179e"
            ],
            [
             0.4444444444444444,
             "#bd3786"
            ],
            [
             0.5555555555555556,
             "#d8576b"
            ],
            [
             0.6666666666666666,
             "#ed7953"
            ],
            [
             0.7777777777777778,
             "#fb9f3a"
            ],
            [
             0.8888888888888888,
             "#fdca26"
            ],
            [
             1,
             "#f0f921"
            ]
           ],
           "sequentialminus": [
            [
             0,
             "#0d0887"
            ],
            [
             0.1111111111111111,
             "#46039f"
            ],
            [
             0.2222222222222222,
             "#7201a8"
            ],
            [
             0.3333333333333333,
             "#9c179e"
            ],
            [
             0.4444444444444444,
             "#bd3786"
            ],
            [
             0.5555555555555556,
             "#d8576b"
            ],
            [
             0.6666666666666666,
             "#ed7953"
            ],
            [
             0.7777777777777778,
             "#fb9f3a"
            ],
            [
             0.8888888888888888,
             "#fdca26"
            ],
            [
             1,
             "#f0f921"
            ]
           ]
          },
          "colorway": [
           "#636efa",
           "#EF553B",
           "#00cc96",
           "#ab63fa",
           "#FFA15A",
           "#19d3f3",
           "#FF6692",
           "#B6E880",
           "#FF97FF",
           "#FECB52"
          ],
          "font": {
           "color": "#2a3f5f"
          },
          "geo": {
           "bgcolor": "white",
           "lakecolor": "white",
           "landcolor": "#E5ECF6",
           "showlakes": true,
           "showland": true,
           "subunitcolor": "white"
          },
          "hoverlabel": {
           "align": "left"
          },
          "hovermode": "closest",
          "mapbox": {
           "style": "light"
          },
          "paper_bgcolor": "white",
          "plot_bgcolor": "#E5ECF6",
          "polar": {
           "angularaxis": {
            "gridcolor": "white",
            "linecolor": "white",
            "ticks": ""
           },
           "bgcolor": "#E5ECF6",
           "radialaxis": {
            "gridcolor": "white",
            "linecolor": "white",
            "ticks": ""
           }
          },
          "scene": {
           "xaxis": {
            "backgroundcolor": "#E5ECF6",
            "gridcolor": "white",
            "gridwidth": 2,
            "linecolor": "white",
            "showbackground": true,
            "ticks": "",
            "zerolinecolor": "white"
           },
           "yaxis": {
            "backgroundcolor": "#E5ECF6",
            "gridcolor": "white",
            "gridwidth": 2,
            "linecolor": "white",
            "showbackground": true,
            "ticks": "",
            "zerolinecolor": "white"
           },
           "zaxis": {
            "backgroundcolor": "#E5ECF6",
            "gridcolor": "white",
            "gridwidth": 2,
            "linecolor": "white",
            "showbackground": true,
            "ticks": "",
            "zerolinecolor": "white"
           }
          },
          "shapedefaults": {
           "line": {
            "color": "#2a3f5f"
           }
          },
          "ternary": {
           "aaxis": {
            "gridcolor": "white",
            "linecolor": "white",
            "ticks": ""
           },
           "baxis": {
            "gridcolor": "white",
            "linecolor": "white",
            "ticks": ""
           },
           "bgcolor": "#E5ECF6",
           "caxis": {
            "gridcolor": "white",
            "linecolor": "white",
            "ticks": ""
           }
          },
          "title": {
           "x": 0.05
          },
          "xaxis": {
           "automargin": true,
           "gridcolor": "white",
           "linecolor": "white",
           "ticks": "",
           "title": {
            "standoff": 15
           },
           "zerolinecolor": "white",
           "zerolinewidth": 2
          },
          "yaxis": {
           "automargin": true,
           "gridcolor": "white",
           "linecolor": "white",
           "ticks": "",
           "title": {
            "standoff": 15
           },
           "zerolinecolor": "white",
           "zerolinewidth": 2
          }
         }
        },
        "xaxis": {
         "anchor": "y",
         "domain": [
          0,
          1
         ],
         "range": [
          -1,
          1
         ],
         "title": {
          "text": "orientation"
         }
        },
        "yaxis": {
         "anchor": "x",
         "domain": [
          0,
          1
         ],
         "range": [
          -1,
          1
         ],
         "title": {
          "text": "progvscons"
         }
        }
       }
      },
      "text/html": [
       "<div>                            <div id=\"767be933-72c3-4777-9231-a76ca7485085\" class=\"plotly-graph-div\" style=\"height:525px; width:100%;\"></div>            <script type=\"text/javascript\">                require([\"plotly\"], function(Plotly) {                    window.PLOTLYENV=window.PLOTLYENV || {};                                    if (document.getElementById(\"767be933-72c3-4777-9231-a76ca7485085\")) {                    Plotly.newPlot(                        \"767be933-72c3-4777-9231-a76ca7485085\",                        [{\"hovertemplate\":\"<b>%{hovertext}</b><br><br>Genre=F<br>orientation=%{x}<br>progvscons=%{y}<extra></extra>\",\"hovertext\":[\"Adeline CRETTENAND\",\"Alina DARBELLAY\",\"Caroline REYNARD\",\"Chantal CARLEN\",\"Christelle HERITIER\",\"Christine ROUX\",\"Cilette CRETTON\",\"Claudia ALPIGER\",\"Claudia GAILLARD MOREND\",\"Corinne DUC BONVIN\",\"C\\u00e9lina RAMSAUER\",\"Danica ZURBRIGGEN LEHNER\",\"Emilie PRAZ\",\"Fabienne MURMANN\",\"Florence CARRON DARBELLAY\",\"Florine CARRON\",\"Gabrielle BARRAS\",\"Gabrielle CORNUT-ZUFFEREY\",\"G\\u00e9raldine GIANADDA\",\"G\\u00e9raldine GRANGES GUENOT\",\"G\\u00e9raldine GRANGES-GUENOT\",\"G\\u00e9raldine POUGET-ZUFFEREY\",\"Ida H\\u00c4FLIGER\",\"Janine REY-SIGGEN\",\"Jenny VOEFFRAY\",\"Jos\\u00e9phine WAEBER\",\"Kamy MAY\",\"Laurence VUAGNIAUX\",\"Lucile CURDY\",\"L\\u00e9a ROUILLER DESSIMOZ\",\"Madeleine KUONEN-EGGO\",\"Maria ARNOLD-ESCHER\",\"Marie ZUCHUAT\",\"Martine ROUILLER\",\"Monika HOLZEGGER\",\"M\\u00e9lanie FOLLONIER\",\"Natacha MARET\",\"Natascha FARQUET\",\"Pascale FUMEAUX\",\"Patricia CASAYS\",\"Rahel ZIMMERMANN\",\"Raymonde SCHOCH\",\"Ruth STALDER\",\"Sabine FOURNIER\",\"Sophie BORNET\",\"Sophie DUCREY\"],\"legendgroup\":\"F\",\"marker\":{\"color\":\"#636efa\",\"symbol\":\"circle\"},\"mode\":\"markers\",\"name\":\"F\",\"orientation\":\"v\",\"showlegend\":true,\"x\":[0.3333333333333333,-0.8461538461538461,-0.7619047619047619,0.6,-0.6923076923076923,0.4,-0.7619047619047619,-0.7,-0.7142857142857143,-0.7368421052631579,-0.7647058823529411,-0.3333333333333333,-0.8095238095238095,0.42857142857142855,0.0,-0.7368421052631579,0.5,-0.7777777777777778,-0.8125,-1.0,0.5,0.19047619047619047,-0.05263157894736842,-0.8095238095238095,-0.17647058823529413,0.3,0.14285714285714285,-0.7619047619047619,-0.7222222222222222,-0.875,-0.7222222222222222,0.47368421052631576,0.19047619047619047,-0.8095238095238095,-0.38095238095238093,0.125,0.2857142857142857,-0.5263157894736842,-0.7647058823529411,0.11764705882352941,-0.7,-0.6666666666666666,-0.23809523809523808,-0.8095238095238095,0.10526315789473684,-0.7142857142857143],\"xaxis\":\"x\",\"y\":[0.2,-0.782608695652174,-0.7894736842105263,0.5555555555555556,-0.6956521739130435,0.3448275862068966,-0.7631578947368421,-0.6216216216216216,-0.8421052631578947,-0.8571428571428571,-0.7647058823529411,-0.20833333333333334,-0.8421052631578947,0.2631578947368421,-0.2702702702702703,-0.7,0.4838709677419355,-0.8787878787878788,-0.7407407407407407,-1.0,0.5416666666666666,0.02631578947368421,-0.12121212121212122,-0.8421052631578947,-0.3333333333333333,0.21212121212121213,0.15789473684210525,-0.868421052631579,-0.7878787878787878,-0.7878787878787878,-0.6666666666666666,0.41935483870967744,0.05714285714285714,-0.868421052631579,-0.13157894736842105,-0.25,0.05263157894736842,-0.6388888888888888,-0.8571428571428571,-0.09090909090909091,-0.6216216216216216,-0.5789473684210527,-0.21052631578947367,-0.8947368421052632,0.02857142857142857,-0.8421052631578947],\"yaxis\":\"y\",\"type\":\"scatter\"},{\"hovertemplate\":\"<b>%{hovertext}</b><br><br>Genre=H<br>orientation=%{x}<br>progvscons=%{y}<extra></extra>\",\"hovertext\":[\"Alain DUBOSSON\",\"Alain L\\u00c9GER\",\"Alain SCH\\u00d6NBETT\",\"Alex BONVIN\",\"Arnaud DUBOIS\",\"Bernard OBERHOLZER\",\"Bernard TROILLET\",\"Blaise CRETTOL\",\"Christian ESCHER\",\"Claude NAN\\u00c7OZ\",\"Claudy BESSE\",\"C\\u00f4me VUILLE\",\"Damien CLERC\",\"Damien FUMEAUX\",\"Damien LUISIER\",\"Damien RABOUD\",\"Dominik KNUBEL\",\"Edmond PERRUCHOUD\",\"Fabian ZURBRIGGEN\",\"Fabien THETAZ\",\"Felix RUPPEN\",\"Flavio SCHMID\",\"Florent FAVRE\",\"Florian EVEQUOZ\",\"Fran\\u00e7ois GENOUD\",\"Fran\\u00e7ois QUENNOZ\",\"Fr\\u00e9d\\u00e9ric PITTELOUD\",\"Ga\\u00ebl BOURGEOIS\",\"Georges VIONNET\",\"Gerhard SCHMID\",\"German EYER\",\"Gr\\u00e9goire VANNAY\",\"G\\u00e9rard SALAMIN\",\"Hermann BRUNNER\",\"Jacques BLANC\",\"Jean BONNARD\",\"Jean ZERMATTEN\",\"Jean-Baptiste UDRESSY\",\"Jean-Daniel NANCHEN\",\"Jean-Dominique CIPOLLA\",\"Jean-Fran\\u00e7ois LOVEY\",\"Jean-Marc DUPONT\",\"Jean-Marc SAVIOZ\",\"Jean-Pierre REY\",\"Johan ROCHEL\",\"J\\u00e9r\\u00f4me FORMAZ\",\"Kurt REGOTZ\",\"Leander WILLINER\",\"Lukas J\\u00c4GER\",\"Lukas KALBERMATTEN\",\"L\\u00e9onard BENDER\",\"Marc-Antoine GENOLET\",\"Marius DUMOULIN\",\"Martin SCH\\u00dcRCH\",\"Mathieu CALOZ\",\"Mathieu SARRASIN\",\"Matteo AB\\u00c4CHERLI\",\"Michael BURGENER\",\"Michael KREUZER\",\"Narcisse CRETTENAND\",\"Nicolas BONVIN\",\"Nicolas CHABLAIS\",\"Nicolas METTAN\",\"Olivier DERIVAZ\",\"Paul BURGENER\",\"Peter BURRI\",\"Peter B\\u00c4HLER\",\"Philippe BENDER\",\"Pierre DARBELLAY\",\"Pierre SCHERTENLEIB\",\"Pierre-Alain RAEMY\",\"Rafael WELSCHEN\",\"Rainer MATHIER\",\"Ralph DESSIMOZ\",\"Ralph KUMMER\",\"Remo SCHNYDER\",\"Romain UDRY\",\"Romano AMACKER\",\"Sandro FONTANA\",\"St\\u00e9phane CLAVIEN\",\"Thomas MATTER\",\"Vincent BOAND\",\"Vincent G\\u00dcNTHER\",\"Vincent LUYET\",\"Yann RODUIT\"],\"legendgroup\":\"H\",\"marker\":{\"color\":\"#EF553B\",\"symbol\":\"circle\"},\"mode\":\"markers\",\"name\":\"H\",\"orientation\":\"v\",\"showlegend\":true,\"x\":[0.7692307692307693,0.15,-0.3333333333333333,0.7,-0.5714285714285714,-1.0,-0.14285714285714285,-0.8095238095238095,-0.05263157894736842,0.125,0.47058823529411764,-0.3333333333333333,0.7777777777777778,0.6666666666666666,0.2222222222222222,0.5294117647058824,-0.15,0.7692307692307693,0.5238095238095238,-0.7777777777777778,0.75,0.3333333333333333,0.375,-0.9047619047619048,-0.23809523809523808,0.42105263157894735,0.23809523809523808,-1.0,-0.8095238095238095,-0.7142857142857143,-0.7142857142857143,-0.09523809523809523,0.3333333333333333,-0.09523809523809523,-0.6111111111111112,-0.8095238095238095,-0.7894736842105263,0.7647058823529411,-0.8095238095238095,0.6666666666666666,-0.8,-0.8095238095238095,0.2857142857142857,-0.3333333333333333,-0.7142857142857143,0.6842105263157895,0.047619047619047616,0.15,0.5384615384615384,0.2222222222222222,-0.7142857142857143,0.7142857142857143,0.23809523809523808,0.7142857142857143,-0.09523809523809523,0.0,0.42857142857142855,0.42857142857142855,0.5238095238095238,0.3333333333333333,0.3333333333333333,0.0,-0.4,-0.7,-0.11764705882352941,-0.14285714285714285,0.5789473684210527,0.09523809523809523,0.75,-0.8095238095238095,-0.5238095238095238,0.5384615384615384,0.42857142857142855,0.21052631578947367,0.23076923076923078,0.375,0.26666666666666666,0.5238095238095238,0.09523809523809523,-0.42857142857142855,-0.047619047619047616,0.5789473684210527,-0.8095238095238095,-0.8095238095238095,0.19047619047619047],\"xaxis\":\"x\",\"y\":[0.7619047619047619,0.05405405405405406,-0.47058823529411764,0.6470588235294118,-0.7631578947368421,-0.6363636363636364,-0.2631578947368421,-0.8333333333333334,-0.17142857142857143,-0.13333333333333333,0.45161290322580644,-0.3684210526315789,0.625,0.631578947368421,0.21212121212121213,0.5588235294117647,-0.05405405405405406,0.7586206896551724,0.7631578947368421,-0.8484848484848485,0.4375,0.23809523809523808,0.15151515151515152,-0.7894736842105263,-0.40540540540540543,0.4444444444444444,0.15789473684210525,-0.7391304347826086,-0.8421052631578947,-0.631578947368421,-0.5945945945945946,-0.10526315789473684,0.15789473684210525,-0.02631578947368421,-0.59375,-0.7631578947368421,-0.7777777777777778,0.6470588235294118,-0.8421052631578947,0.5526315789473685,-0.8333333333333334,-0.8421052631578947,0.18421052631578946,-0.42105263157894735,-0.7894736842105263,0.5428571428571428,0.1111111111111111,0.02702702702702703,0.76,0.0625,-0.7368421052631579,0.7105263157894737,0.10526315789473684,0.47368421052631576,-0.3684210526315789,-0.0967741935483871,0.3684210526315789,0.2631578947368421,0.6842105263157895,0.10526315789473684,0.07894736842105263,0.3333333333333333,-0.4074074074074074,-0.7297297297297297,-0.1,0.0,0.7714285714285715,0.10526315789473684,0.3333333333333333,-0.8421052631578947,-0.6842105263157895,0.48148148148148145,0.3157894736842105,0.0,0.6923076923076923,0.5862068965517241,0.03571428571428571,0.7368421052631579,0.07894736842105263,-0.6756756756756757,-0.21052631578947367,0.45454545454545453,-0.8947368421052632,-0.8857142857142857,0.10810810810810811],\"yaxis\":\"y\",\"type\":\"scatter\"}],                        {\"template\":{\"data\":{\"histogram2dcontour\":[{\"type\":\"histogram2dcontour\",\"colorbar\":{\"outlinewidth\":0,\"ticks\":\"\"},\"colorscale\":[[0.0,\"#0d0887\"],[0.1111111111111111,\"#46039f\"],[0.2222222222222222,\"#7201a8\"],[0.3333333333333333,\"#9c179e\"],[0.4444444444444444,\"#bd3786\"],[0.5555555555555556,\"#d8576b\"],[0.6666666666666666,\"#ed7953\"],[0.7777777777777778,\"#fb9f3a\"],[0.8888888888888888,\"#fdca26\"],[1.0,\"#f0f921\"]]}],\"choropleth\":[{\"type\":\"choropleth\",\"colorbar\":{\"outlinewidth\":0,\"ticks\":\"\"}}],\"histogram2d\":[{\"type\":\"histogram2d\",\"colorbar\":{\"outlinewidth\":0,\"ticks\":\"\"},\"colorscale\":[[0.0,\"#0d0887\"],[0.1111111111111111,\"#46039f\"],[0.2222222222222222,\"#7201a8\"],[0.3333333333333333,\"#9c179e\"],[0.4444444444444444,\"#bd3786\"],[0.5555555555555556,\"#d8576b\"],[0.6666666666666666,\"#ed7953\"],[0.7777777777777778,\"#fb9f3a\"],[0.8888888888888888,\"#fdca26\"],[1.0,\"#f0f921\"]]}],\"heatmap\":[{\"type\":\"heatmap\",\"colorbar\":{\"outlinewidth\":0,\"ticks\":\"\"},\"colorscale\":[[0.0,\"#0d0887\"],[0.1111111111111111,\"#46039f\"],[0.2222222222222222,\"#7201a8\"],[0.3333333333333333,\"#9c179e\"],[0.4444444444444444,\"#bd3786\"],[0.5555555555555556,\"#d8576b\"],[0.6666666666666666,\"#ed7953\"],[0.7777777777777778,\"#fb9f3a\"],[0.8888888888888888,\"#fdca26\"],[1.0,\"#f0f921\"]]}],\"heatmapgl\":[{\"type\":\"heatmapgl\",\"colorbar\":{\"outlinewidth\":0,\"ticks\":\"\"},\"colorscale\":[[0.0,\"#0d0887\"],[0.1111111111111111,\"#46039f\"],[0.2222222222222222,\"#7201a8\"],[0.3333333333333333,\"#9c179e\"],[0.4444444444444444,\"#bd3786\"],[0.5555555555555556,\"#d8576b\"],[0.6666666666666666,\"#ed7953\"],[0.7777777777777778,\"#fb9f3a\"],[0.8888888888888888,\"#fdca26\"],[1.0,\"#f0f921\"]]}],\"contourcarpet\":[{\"type\":\"contourcarpet\",\"colorbar\":{\"outlinewidth\":0,\"ticks\":\"\"}}],\"contour\":[{\"type\":\"contour\",\"colorbar\":{\"outlinewidth\":0,\"ticks\":\"\"},\"colorscale\":[[0.0,\"#0d0887\"],[0.1111111111111111,\"#46039f\"],[0.2222222222222222,\"#7201a8\"],[0.3333333333333333,\"#9c179e\"],[0.4444444444444444,\"#bd3786\"],[0.5555555555555556,\"#d8576b\"],[0.6666666666666666,\"#ed7953\"],[0.7777777777777778,\"#fb9f3a\"],[0.8888888888888888,\"#fdca26\"],[1.0,\"#f0f921\"]]}],\"surface\":[{\"type\":\"surface\",\"colorbar\":{\"outlinewidth\":0,\"ticks\":\"\"},\"colorscale\":[[0.0,\"#0d0887\"],[0.1111111111111111,\"#46039f\"],[0.2222222222222222,\"#7201a8\"],[0.3333333333333333,\"#9c179e\"],[0.4444444444444444,\"#bd3786\"],[0.5555555555555556,\"#d8576b\"],[0.6666666666666666,\"#ed7953\"],[0.7777777777777778,\"#fb9f3a\"],[0.8888888888888888,\"#fdca26\"],[1.0,\"#f0f921\"]]}],\"mesh3d\":[{\"type\":\"mesh3d\",\"colorbar\":{\"outlinewidth\":0,\"ticks\":\"\"}}],\"scatter\":[{\"fillpattern\":{\"fillmode\":\"overlay\",\"size\":10,\"solidity\":0.2},\"type\":\"scatter\"}],\"parcoords\":[{\"type\":\"parcoords\",\"line\":{\"colorbar\":{\"outlinewidth\":0,\"ticks\":\"\"}}}],\"scatterpolargl\":[{\"type\":\"scatterpolargl\",\"marker\":{\"colorbar\":{\"outlinewidth\":0,\"ticks\":\"\"}}}],\"bar\":[{\"error_x\":{\"color\":\"#2a3f5f\"},\"error_y\":{\"color\":\"#2a3f5f\"},\"marker\":{\"line\":{\"color\":\"#E5ECF6\",\"width\":0.5},\"pattern\":{\"fillmode\":\"overlay\",\"size\":10,\"solidity\":0.2}},\"type\":\"bar\"}],\"scattergeo\":[{\"type\":\"scattergeo\",\"marker\":{\"colorbar\":{\"outlinewidth\":0,\"ticks\":\"\"}}}],\"scatterpolar\":[{\"type\":\"scatterpolar\",\"marker\":{\"colorbar\":{\"outlinewidth\":0,\"ticks\":\"\"}}}],\"histogram\":[{\"marker\":{\"pattern\":{\"fillmode\":\"overlay\",\"size\":10,\"solidity\":0.2}},\"type\":\"histogram\"}],\"scattergl\":[{\"type\":\"scattergl\",\"marker\":{\"colorbar\":{\"outlinewidth\":0,\"ticks\":\"\"}}}],\"scatter3d\":[{\"type\":\"scatter3d\",\"line\":{\"colorbar\":{\"outlinewidth\":0,\"ticks\":\"\"}},\"marker\":{\"colorbar\":{\"outlinewidth\":0,\"ticks\":\"\"}}}],\"scattermapbox\":[{\"type\":\"scattermapbox\",\"marker\":{\"colorbar\":{\"outlinewidth\":0,\"ticks\":\"\"}}}],\"scatterternary\":[{\"type\":\"scatterternary\",\"marker\":{\"colorbar\":{\"outlinewidth\":0,\"ticks\":\"\"}}}],\"scattercarpet\":[{\"type\":\"scattercarpet\",\"marker\":{\"colorbar\":{\"outlinewidth\":0,\"ticks\":\"\"}}}],\"carpet\":[{\"aaxis\":{\"endlinecolor\":\"#2a3f5f\",\"gridcolor\":\"white\",\"linecolor\":\"white\",\"minorgridcolor\":\"white\",\"startlinecolor\":\"#2a3f5f\"},\"baxis\":{\"endlinecolor\":\"#2a3f5f\",\"gridcolor\":\"white\",\"linecolor\":\"white\",\"minorgridcolor\":\"white\",\"startlinecolor\":\"#2a3f5f\"},\"type\":\"carpet\"}],\"table\":[{\"cells\":{\"fill\":{\"color\":\"#EBF0F8\"},\"line\":{\"color\":\"white\"}},\"header\":{\"fill\":{\"color\":\"#C8D4E3\"},\"line\":{\"color\":\"white\"}},\"type\":\"table\"}],\"barpolar\":[{\"marker\":{\"line\":{\"color\":\"#E5ECF6\",\"width\":0.5},\"pattern\":{\"fillmode\":\"overlay\",\"size\":10,\"solidity\":0.2}},\"type\":\"barpolar\"}],\"pie\":[{\"automargin\":true,\"type\":\"pie\"}]},\"layout\":{\"autotypenumbers\":\"strict\",\"colorway\":[\"#636efa\",\"#EF553B\",\"#00cc96\",\"#ab63fa\",\"#FFA15A\",\"#19d3f3\",\"#FF6692\",\"#B6E880\",\"#FF97FF\",\"#FECB52\"],\"font\":{\"color\":\"#2a3f5f\"},\"hovermode\":\"closest\",\"hoverlabel\":{\"align\":\"left\"},\"paper_bgcolor\":\"white\",\"plot_bgcolor\":\"#E5ECF6\",\"polar\":{\"bgcolor\":\"#E5ECF6\",\"angularaxis\":{\"gridcolor\":\"white\",\"linecolor\":\"white\",\"ticks\":\"\"},\"radialaxis\":{\"gridcolor\":\"white\",\"linecolor\":\"white\",\"ticks\":\"\"}},\"ternary\":{\"bgcolor\":\"#E5ECF6\",\"aaxis\":{\"gridcolor\":\"white\",\"linecolor\":\"white\",\"ticks\":\"\"},\"baxis\":{\"gridcolor\":\"white\",\"linecolor\":\"white\",\"ticks\":\"\"},\"caxis\":{\"gridcolor\":\"white\",\"linecolor\":\"white\",\"ticks\":\"\"}},\"coloraxis\":{\"colorbar\":{\"outlinewidth\":0,\"ticks\":\"\"}},\"colorscale\":{\"sequential\":[[0.0,\"#0d0887\"],[0.1111111111111111,\"#46039f\"],[0.2222222222222222,\"#7201a8\"],[0.3333333333333333,\"#9c179e\"],[0.4444444444444444,\"#bd3786\"],[0.5555555555555556,\"#d8576b\"],[0.6666666666666666,\"#ed7953\"],[0.7777777777777778,\"#fb9f3a\"],[0.8888888888888888,\"#fdca26\"],[1.0,\"#f0f921\"]],\"sequentialminus\":[[0.0,\"#0d0887\"],[0.1111111111111111,\"#46039f\"],[0.2222222222222222,\"#7201a8\"],[0.3333333333333333,\"#9c179e\"],[0.4444444444444444,\"#bd3786\"],[0.5555555555555556,\"#d8576b\"],[0.6666666666666666,\"#ed7953\"],[0.7777777777777778,\"#fb9f3a\"],[0.8888888888888888,\"#fdca26\"],[1.0,\"#f0f921\"]],\"diverging\":[[0,\"#8e0152\"],[0.1,\"#c51b7d\"],[0.2,\"#de77ae\"],[0.3,\"#f1b6da\"],[0.4,\"#fde0ef\"],[0.5,\"#f7f7f7\"],[0.6,\"#e6f5d0\"],[0.7,\"#b8e186\"],[0.8,\"#7fbc41\"],[0.9,\"#4d9221\"],[1,\"#276419\"]]},\"xaxis\":{\"gridcolor\":\"white\",\"linecolor\":\"white\",\"ticks\":\"\",\"title\":{\"standoff\":15},\"zerolinecolor\":\"white\",\"automargin\":true,\"zerolinewidth\":2},\"yaxis\":{\"gridcolor\":\"white\",\"linecolor\":\"white\",\"ticks\":\"\",\"title\":{\"standoff\":15},\"zerolinecolor\":\"white\",\"automargin\":true,\"zerolinewidth\":2},\"scene\":{\"xaxis\":{\"backgroundcolor\":\"#E5ECF6\",\"gridcolor\":\"white\",\"linecolor\":\"white\",\"showbackground\":true,\"ticks\":\"\",\"zerolinecolor\":\"white\",\"gridwidth\":2},\"yaxis\":{\"backgroundcolor\":\"#E5ECF6\",\"gridcolor\":\"white\",\"linecolor\":\"white\",\"showbackground\":true,\"ticks\":\"\",\"zerolinecolor\":\"white\",\"gridwidth\":2},\"zaxis\":{\"backgroundcolor\":\"#E5ECF6\",\"gridcolor\":\"white\",\"linecolor\":\"white\",\"showbackground\":true,\"ticks\":\"\",\"zerolinecolor\":\"white\",\"gridwidth\":2}},\"shapedefaults\":{\"line\":{\"color\":\"#2a3f5f\"}},\"annotationdefaults\":{\"arrowcolor\":\"#2a3f5f\",\"arrowhead\":0,\"arrowwidth\":1},\"geo\":{\"bgcolor\":\"white\",\"landcolor\":\"#E5ECF6\",\"subunitcolor\":\"white\",\"showland\":true,\"showlakes\":true,\"lakecolor\":\"white\"},\"title\":{\"x\":0.05},\"mapbox\":{\"style\":\"light\"}}},\"xaxis\":{\"anchor\":\"y\",\"domain\":[0.0,1.0],\"title\":{\"text\":\"orientation\"},\"range\":[-1,1]},\"yaxis\":{\"anchor\":\"x\",\"domain\":[0.0,1.0],\"title\":{\"text\":\"progvscons\"},\"range\":[-1,1]},\"legend\":{\"title\":{\"text\":\"Genre\"},\"tracegroupgap\":0},\"margin\":{\"t\":60}},                        {\"responsive\": true}                    ).then(function(){\n",
       "                            \n",
       "var gd = document.getElementById('767be933-72c3-4777-9231-a76ca7485085');\n",
       "var x = new MutationObserver(function (mutations, observer) {{\n",
       "        var display = window.getComputedStyle(gd).display;\n",
       "        if (!display || display === 'none') {{\n",
       "            console.log([gd, 'removed!']);\n",
       "            Plotly.purge(gd);\n",
       "            observer.disconnect();\n",
       "        }}\n",
       "}});\n",
       "\n",
       "// Listen for the removal of the full notebook cells\n",
       "var notebookContainer = gd.closest('#notebook-container');\n",
       "if (notebookContainer) {{\n",
       "    x.observe(notebookContainer, {childList: true});\n",
       "}}\n",
       "\n",
       "// Listen for the clearing of the current output cell\n",
       "var outputEl = gd.closest('.output');\n",
       "if (outputEl) {{\n",
       "    x.observe(outputEl, {childList: true});\n",
       "}}\n",
       "\n",
       "                        })                };                });            </script>        </div>"
      ]
     },
     "metadata": {},
     "output_type": "display_data"
    }
   ],
   "source": [
    "fig = px.scatter(counts_df, x=\"orientation\", y=\"progvscons\",  color='Genre', hover_name='name')\n",
    "fig.update_xaxes(range=[-1, 1])\n",
    "fig.update_yaxes(range=[-1, 1])\n",
    "fig.show()"
   ]
  },
  {
   "cell_type": "code",
   "execution_count": 116,
   "id": "75527a54",
   "metadata": {
    "scrolled": true
   },
   "outputs": [
    {
     "data": {
      "application/vnd.plotly.v1+json": {
       "config": {
        "plotlyServerURL": "https://plot.ly"
       },
       "data": [
        {
         "hovertemplate": "<b>%{hovertext}</b><br><br>Âge=18-30<br>orientation=%{x}<br>progvscons=%{y}<extra></extra>",
         "hovertext": [
          "Adeline CRETTENAND",
          "Alain DUBOSSON",
          "Caroline REYNARD",
          "Chantal CARLEN",
          "Damien FUMEAUX",
          "Damien LUISIER",
          "Florent FAVRE",
          "François QUENNOZ",
          "Jean-Baptiste UDRESSY",
          "Kamy MAY",
          "Lucile CURDY",
          "Léa ROUILLER DESSIMOZ",
          "Mathieu CALOZ",
          "Mélanie FOLLONIER",
          "Romain UDRY",
          "Romano AMACKER",
          "Sophie DUCREY"
         ],
         "legendgroup": "18-30",
         "marker": {
          "color": "#636efa",
          "symbol": "circle"
         },
         "mode": "markers",
         "name": "18-30",
         "orientation": "v",
         "showlegend": true,
         "type": "scatter",
         "x": [
          0.3333333333333333,
          0.7692307692307693,
          -0.7619047619047619,
          0.6,
          0.6666666666666666,
          0.2222222222222222,
          0.375,
          0.42105263157894735,
          0.7647058823529411,
          0.14285714285714285,
          -0.7222222222222222,
          -0.875,
          -0.09523809523809523,
          0.125,
          0.26666666666666666,
          0.5238095238095238,
          -0.7142857142857143
         ],
         "xaxis": "x",
         "y": [
          0.2,
          0.7619047619047619,
          -0.7894736842105263,
          0.5555555555555556,
          0.631578947368421,
          0.21212121212121213,
          0.15151515151515152,
          0.4444444444444444,
          0.6470588235294118,
          0.15789473684210525,
          -0.7878787878787878,
          -0.7878787878787878,
          -0.3684210526315789,
          -0.25,
          0.03571428571428571,
          0.7368421052631579,
          -0.8421052631578947
         ],
         "yaxis": "y"
        },
        {
         "hovertemplate": "<b>%{hovertext}</b><br><br>Âge=30-45<br>orientation=%{x}<br>progvscons=%{y}<extra></extra>",
         "hovertext": [
          "Alain LÉGER",
          "Arnaud DUBOIS",
          "Christelle HERITIER",
          "Christian ESCHER",
          "Claudia ALPIGER",
          "Côme VUILLE",
          "Damien CLERC",
          "Damien RABOUD",
          "Danica ZURBRIGGEN LEHNER",
          "Dominik KNUBEL",
          "Emilie PRAZ",
          "Fabien THETAZ",
          "Fabienne MURMANN",
          "Flavio SCHMID",
          "Florian EVEQUOZ",
          "Florine CARRON",
          "Gaël BOURGEOIS",
          "Géraldine POUGET-ZUFFEREY",
          "Johan ROCHEL",
          "Joséphine WAEBER",
          "Marie ZUCHUAT",
          "Martine ROUILLER",
          "Matteo ABÄCHERLI",
          "Michael BURGENER",
          "Michael KREUZER",
          "Natacha MARET",
          "Natascha FARQUET",
          "Nicolas BONVIN",
          "Nicolas CHABLAIS",
          "Pascale FUMEAUX",
          "Pierre DARBELLAY",
          "Rafael WELSCHEN",
          "Rahel ZIMMERMANN",
          "Ralph KUMMER",
          "Vincent BOAND",
          "Vincent LUYET"
         ],
         "legendgroup": "30-45",
         "marker": {
          "color": "#EF553B",
          "symbol": "circle"
         },
         "mode": "markers",
         "name": "30-45",
         "orientation": "v",
         "showlegend": true,
         "type": "scatter",
         "x": [
          0.15,
          -0.5714285714285714,
          -0.6923076923076923,
          -0.05263157894736842,
          -0.7,
          -0.3333333333333333,
          0.7777777777777778,
          0.5294117647058824,
          -0.3333333333333333,
          -0.15,
          -0.8095238095238095,
          -0.7777777777777778,
          0.42857142857142855,
          0.3333333333333333,
          -0.9047619047619048,
          -0.7368421052631579,
          -1,
          0.19047619047619047,
          -0.7142857142857143,
          0.3,
          0.19047619047619047,
          -0.8095238095238095,
          0.42857142857142855,
          0.42857142857142855,
          0.5238095238095238,
          0.2857142857142857,
          -0.5263157894736842,
          0.3333333333333333,
          0,
          -0.7647058823529411,
          0.75,
          0.5384615384615384,
          -0.7,
          0.23076923076923078,
          0.5789473684210527,
          -0.8095238095238095
         ],
         "xaxis": "x",
         "y": [
          0.05405405405405406,
          -0.7631578947368421,
          -0.6956521739130435,
          -0.17142857142857143,
          -0.6216216216216216,
          -0.3684210526315789,
          0.625,
          0.5588235294117647,
          -0.20833333333333334,
          -0.05405405405405406,
          -0.8421052631578947,
          -0.8484848484848485,
          0.2631578947368421,
          0.23809523809523808,
          -0.7894736842105263,
          -0.7,
          -0.7391304347826086,
          0.02631578947368421,
          -0.7894736842105263,
          0.21212121212121213,
          0.05714285714285714,
          -0.868421052631579,
          0.3684210526315789,
          0.2631578947368421,
          0.6842105263157895,
          0.05263157894736842,
          -0.6388888888888888,
          0.07894736842105263,
          0.3333333333333333,
          -0.8571428571428571,
          0.3333333333333333,
          0.48148148148148145,
          -0.6216216216216216,
          0.6923076923076923,
          0.45454545454545453,
          -0.8857142857142857
         ],
         "yaxis": "y"
        },
        {
         "hovertemplate": "<b>%{hovertext}</b><br><br>Âge=65+<br>orientation=%{x}<br>progvscons=%{y}<extra></extra>",
         "hovertext": [
          "Alain SCHÖNBETT",
          "Bernard OBERHOLZER",
          "Bernard TROILLET",
          "Cilette CRETTON",
          "Claude NANÇOZ",
          "Edmond PERRUCHOUD",
          "François GENOUD",
          "Georges VIONNET",
          "Gerhard SCHMID",
          "Hermann BRUNNER",
          "Jacques BLANC",
          "Jean BONNARD",
          "Jean ZERMATTEN",
          "Jean-Dominique CIPOLLA",
          "Jean-François LOVEY",
          "Kurt REGOTZ",
          "Leander WILLINER",
          "Lukas JÄGER",
          "Marius DUMOULIN",
          "Narcisse CRETTENAND",
          "Patricia CASAYS",
          "Paul BURGENER",
          "Peter BÄHLER",
          "Philippe BENDER",
          "Pierre SCHERTENLEIB",
          "Raymonde SCHOCH"
         ],
         "legendgroup": "65+",
         "marker": {
          "color": "#00cc96",
          "symbol": "circle"
         },
         "mode": "markers",
         "name": "65+",
         "orientation": "v",
         "showlegend": true,
         "type": "scatter",
         "x": [
          -0.3333333333333333,
          -1,
          -0.14285714285714285,
          -0.7619047619047619,
          0.125,
          0.7692307692307693,
          -0.23809523809523808,
          -0.8095238095238095,
          -0.7142857142857143,
          -0.09523809523809523,
          -0.6111111111111112,
          -0.8095238095238095,
          -0.7894736842105263,
          0.6666666666666666,
          -0.8,
          0.047619047619047616,
          0.15,
          0.5384615384615384,
          0.23809523809523808,
          0.3333333333333333,
          0.11764705882352941,
          -0.11764705882352941,
          0.5789473684210527,
          0.09523809523809523,
          -0.8095238095238095,
          -0.6666666666666666
         ],
         "xaxis": "x",
         "y": [
          -0.47058823529411764,
          -0.6363636363636364,
          -0.2631578947368421,
          -0.7631578947368421,
          -0.13333333333333333,
          0.7586206896551724,
          -0.40540540540540543,
          -0.8421052631578947,
          -0.631578947368421,
          -0.02631578947368421,
          -0.59375,
          -0.7631578947368421,
          -0.7777777777777778,
          0.5526315789473685,
          -0.8333333333333334,
          0.1111111111111111,
          0.02702702702702703,
          0.76,
          0.10526315789473684,
          0.10526315789473684,
          -0.09090909090909091,
          -0.1,
          0.7714285714285715,
          0.10526315789473684,
          -0.8421052631578947,
          -0.5789473684210527
         ],
         "yaxis": "y"
        },
        {
         "hovertemplate": "<b>%{hovertext}</b><br><br>Âge=45-65<br>orientation=%{x}<br>progvscons=%{y}<extra></extra>",
         "hovertext": [
          "Alex BONVIN",
          "Alina DARBELLAY",
          "Blaise CRETTOL",
          "Christine ROUX",
          "Claudia GAILLARD MOREND",
          "Claudy BESSE",
          "Corinne DUC BONVIN",
          "Célina RAMSAUER",
          "Fabian ZURBRIGGEN",
          "Felix RUPPEN",
          "Florence CARRON DARBELLAY",
          "Frédéric PITTELOUD",
          "Gabrielle BARRAS",
          "Gabrielle CORNUT-ZUFFEREY",
          "German EYER",
          "Grégoire VANNAY",
          "Géraldine GIANADDA",
          "Géraldine GRANGES GUENOT",
          "Géraldine GRANGES-GUENOT",
          "Gérard SALAMIN",
          "Ida HÄFLIGER",
          "Janine REY-SIGGEN",
          "Jean-Daniel NANCHEN",
          "Jean-Marc DUPONT",
          "Jean-Marc SAVIOZ",
          "Jean-Pierre REY",
          "Jenny VOEFFRAY",
          "Jérôme FORMAZ",
          "Laurence VUAGNIAUX",
          "Lukas KALBERMATTEN",
          "Léonard BENDER",
          "Madeleine KUONEN-EGGO",
          "Marc-Antoine GENOLET",
          "Maria ARNOLD-ESCHER",
          "Martin SCHÜRCH",
          "Mathieu SARRASIN",
          "Monika HOLZEGGER",
          "Nicolas METTAN",
          "Olivier DERIVAZ",
          "Peter BURRI",
          "Pierre-Alain RAEMY",
          "Rainer MATHIER",
          "Ralph DESSIMOZ",
          "Remo SCHNYDER",
          "Ruth STALDER",
          "Sabine FOURNIER",
          "Sandro FONTANA",
          "Sophie BORNET",
          "Stéphane CLAVIEN",
          "Thomas MATTER",
          "Vincent GÜNTHER",
          "Yann RODUIT"
         ],
         "legendgroup": "45-65",
         "marker": {
          "color": "#ab63fa",
          "symbol": "circle"
         },
         "mode": "markers",
         "name": "45-65",
         "orientation": "v",
         "showlegend": true,
         "type": "scatter",
         "x": [
          0.7,
          -0.8461538461538461,
          -0.8095238095238095,
          0.4,
          -0.7142857142857143,
          0.47058823529411764,
          -0.7368421052631579,
          -0.7647058823529411,
          0.5238095238095238,
          0.75,
          0,
          0.23809523809523808,
          0.5,
          -0.7777777777777778,
          -0.7142857142857143,
          -0.09523809523809523,
          -0.8125,
          -1,
          0.5,
          0.3333333333333333,
          -0.05263157894736842,
          -0.8095238095238095,
          -0.8095238095238095,
          -0.8095238095238095,
          0.2857142857142857,
          -0.3333333333333333,
          -0.17647058823529413,
          0.6842105263157895,
          -0.7619047619047619,
          0.2222222222222222,
          -0.7142857142857143,
          -0.7222222222222222,
          0.7142857142857143,
          0.47368421052631576,
          0.7142857142857143,
          0,
          -0.38095238095238093,
          -0.4,
          -0.7,
          -0.14285714285714285,
          -0.5238095238095238,
          0.42857142857142855,
          0.21052631578947367,
          0.375,
          -0.23809523809523808,
          -0.8095238095238095,
          0.09523809523809523,
          0.10526315789473684,
          -0.42857142857142855,
          -0.047619047619047616,
          -0.8095238095238095,
          0.19047619047619047
         ],
         "xaxis": "x",
         "y": [
          0.6470588235294118,
          -0.782608695652174,
          -0.8333333333333334,
          0.3448275862068966,
          -0.8421052631578947,
          0.45161290322580644,
          -0.8571428571428571,
          -0.7647058823529411,
          0.7631578947368421,
          0.4375,
          -0.2702702702702703,
          0.15789473684210525,
          0.4838709677419355,
          -0.8787878787878788,
          -0.5945945945945946,
          -0.10526315789473684,
          -0.7407407407407407,
          -1,
          0.5416666666666666,
          0.15789473684210525,
          -0.12121212121212122,
          -0.8421052631578947,
          -0.8421052631578947,
          -0.8421052631578947,
          0.18421052631578946,
          -0.42105263157894735,
          -0.3333333333333333,
          0.5428571428571428,
          -0.868421052631579,
          0.0625,
          -0.7368421052631579,
          -0.6666666666666666,
          0.7105263157894737,
          0.41935483870967744,
          0.47368421052631576,
          -0.0967741935483871,
          -0.13157894736842105,
          -0.4074074074074074,
          -0.7297297297297297,
          0,
          -0.6842105263157895,
          0.3157894736842105,
          0,
          0.5862068965517241,
          -0.21052631578947367,
          -0.8947368421052632,
          0.07894736842105263,
          0.02857142857142857,
          -0.6756756756756757,
          -0.21052631578947367,
          -0.8947368421052632,
          0.10810810810810811
         ],
         "yaxis": "y"
        }
       ],
       "layout": {
        "legend": {
         "title": {
          "text": "Âge"
         },
         "tracegroupgap": 0
        },
        "margin": {
         "t": 60
        },
        "template": {
         "data": {
          "bar": [
           {
            "error_x": {
             "color": "#2a3f5f"
            },
            "error_y": {
             "color": "#2a3f5f"
            },
            "marker": {
             "line": {
              "color": "#E5ECF6",
              "width": 0.5
             },
             "pattern": {
              "fillmode": "overlay",
              "size": 10,
              "solidity": 0.2
             }
            },
            "type": "bar"
           }
          ],
          "barpolar": [
           {
            "marker": {
             "line": {
              "color": "#E5ECF6",
              "width": 0.5
             },
             "pattern": {
              "fillmode": "overlay",
              "size": 10,
              "solidity": 0.2
             }
            },
            "type": "barpolar"
           }
          ],
          "carpet": [
           {
            "aaxis": {
             "endlinecolor": "#2a3f5f",
             "gridcolor": "white",
             "linecolor": "white",
             "minorgridcolor": "white",
             "startlinecolor": "#2a3f5f"
            },
            "baxis": {
             "endlinecolor": "#2a3f5f",
             "gridcolor": "white",
             "linecolor": "white",
             "minorgridcolor": "white",
             "startlinecolor": "#2a3f5f"
            },
            "type": "carpet"
           }
          ],
          "choropleth": [
           {
            "colorbar": {
             "outlinewidth": 0,
             "ticks": ""
            },
            "type": "choropleth"
           }
          ],
          "contour": [
           {
            "colorbar": {
             "outlinewidth": 0,
             "ticks": ""
            },
            "colorscale": [
             [
              0,
              "#0d0887"
             ],
             [
              0.1111111111111111,
              "#46039f"
             ],
             [
              0.2222222222222222,
              "#7201a8"
             ],
             [
              0.3333333333333333,
              "#9c179e"
             ],
             [
              0.4444444444444444,
              "#bd3786"
             ],
             [
              0.5555555555555556,
              "#d8576b"
             ],
             [
              0.6666666666666666,
              "#ed7953"
             ],
             [
              0.7777777777777778,
              "#fb9f3a"
             ],
             [
              0.8888888888888888,
              "#fdca26"
             ],
             [
              1,
              "#f0f921"
             ]
            ],
            "type": "contour"
           }
          ],
          "contourcarpet": [
           {
            "colorbar": {
             "outlinewidth": 0,
             "ticks": ""
            },
            "type": "contourcarpet"
           }
          ],
          "heatmap": [
           {
            "colorbar": {
             "outlinewidth": 0,
             "ticks": ""
            },
            "colorscale": [
             [
              0,
              "#0d0887"
             ],
             [
              0.1111111111111111,
              "#46039f"
             ],
             [
              0.2222222222222222,
              "#7201a8"
             ],
             [
              0.3333333333333333,
              "#9c179e"
             ],
             [
              0.4444444444444444,
              "#bd3786"
             ],
             [
              0.5555555555555556,
              "#d8576b"
             ],
             [
              0.6666666666666666,
              "#ed7953"
             ],
             [
              0.7777777777777778,
              "#fb9f3a"
             ],
             [
              0.8888888888888888,
              "#fdca26"
             ],
             [
              1,
              "#f0f921"
             ]
            ],
            "type": "heatmap"
           }
          ],
          "heatmapgl": [
           {
            "colorbar": {
             "outlinewidth": 0,
             "ticks": ""
            },
            "colorscale": [
             [
              0,
              "#0d0887"
             ],
             [
              0.1111111111111111,
              "#46039f"
             ],
             [
              0.2222222222222222,
              "#7201a8"
             ],
             [
              0.3333333333333333,
              "#9c179e"
             ],
             [
              0.4444444444444444,
              "#bd3786"
             ],
             [
              0.5555555555555556,
              "#d8576b"
             ],
             [
              0.6666666666666666,
              "#ed7953"
             ],
             [
              0.7777777777777778,
              "#fb9f3a"
             ],
             [
              0.8888888888888888,
              "#fdca26"
             ],
             [
              1,
              "#f0f921"
             ]
            ],
            "type": "heatmapgl"
           }
          ],
          "histogram": [
           {
            "marker": {
             "pattern": {
              "fillmode": "overlay",
              "size": 10,
              "solidity": 0.2
             }
            },
            "type": "histogram"
           }
          ],
          "histogram2d": [
           {
            "colorbar": {
             "outlinewidth": 0,
             "ticks": ""
            },
            "colorscale": [
             [
              0,
              "#0d0887"
             ],
             [
              0.1111111111111111,
              "#46039f"
             ],
             [
              0.2222222222222222,
              "#7201a8"
             ],
             [
              0.3333333333333333,
              "#9c179e"
             ],
             [
              0.4444444444444444,
              "#bd3786"
             ],
             [
              0.5555555555555556,
              "#d8576b"
             ],
             [
              0.6666666666666666,
              "#ed7953"
             ],
             [
              0.7777777777777778,
              "#fb9f3a"
             ],
             [
              0.8888888888888888,
              "#fdca26"
             ],
             [
              1,
              "#f0f921"
             ]
            ],
            "type": "histogram2d"
           }
          ],
          "histogram2dcontour": [
           {
            "colorbar": {
             "outlinewidth": 0,
             "ticks": ""
            },
            "colorscale": [
             [
              0,
              "#0d0887"
             ],
             [
              0.1111111111111111,
              "#46039f"
             ],
             [
              0.2222222222222222,
              "#7201a8"
             ],
             [
              0.3333333333333333,
              "#9c179e"
             ],
             [
              0.4444444444444444,
              "#bd3786"
             ],
             [
              0.5555555555555556,
              "#d8576b"
             ],
             [
              0.6666666666666666,
              "#ed7953"
             ],
             [
              0.7777777777777778,
              "#fb9f3a"
             ],
             [
              0.8888888888888888,
              "#fdca26"
             ],
             [
              1,
              "#f0f921"
             ]
            ],
            "type": "histogram2dcontour"
           }
          ],
          "mesh3d": [
           {
            "colorbar": {
             "outlinewidth": 0,
             "ticks": ""
            },
            "type": "mesh3d"
           }
          ],
          "parcoords": [
           {
            "line": {
             "colorbar": {
              "outlinewidth": 0,
              "ticks": ""
             }
            },
            "type": "parcoords"
           }
          ],
          "pie": [
           {
            "automargin": true,
            "type": "pie"
           }
          ],
          "scatter": [
           {
            "fillpattern": {
             "fillmode": "overlay",
             "size": 10,
             "solidity": 0.2
            },
            "type": "scatter"
           }
          ],
          "scatter3d": [
           {
            "line": {
             "colorbar": {
              "outlinewidth": 0,
              "ticks": ""
             }
            },
            "marker": {
             "colorbar": {
              "outlinewidth": 0,
              "ticks": ""
             }
            },
            "type": "scatter3d"
           }
          ],
          "scattercarpet": [
           {
            "marker": {
             "colorbar": {
              "outlinewidth": 0,
              "ticks": ""
             }
            },
            "type": "scattercarpet"
           }
          ],
          "scattergeo": [
           {
            "marker": {
             "colorbar": {
              "outlinewidth": 0,
              "ticks": ""
             }
            },
            "type": "scattergeo"
           }
          ],
          "scattergl": [
           {
            "marker": {
             "colorbar": {
              "outlinewidth": 0,
              "ticks": ""
             }
            },
            "type": "scattergl"
           }
          ],
          "scattermapbox": [
           {
            "marker": {
             "colorbar": {
              "outlinewidth": 0,
              "ticks": ""
             }
            },
            "type": "scattermapbox"
           }
          ],
          "scatterpolar": [
           {
            "marker": {
             "colorbar": {
              "outlinewidth": 0,
              "ticks": ""
             }
            },
            "type": "scatterpolar"
           }
          ],
          "scatterpolargl": [
           {
            "marker": {
             "colorbar": {
              "outlinewidth": 0,
              "ticks": ""
             }
            },
            "type": "scatterpolargl"
           }
          ],
          "scatterternary": [
           {
            "marker": {
             "colorbar": {
              "outlinewidth": 0,
              "ticks": ""
             }
            },
            "type": "scatterternary"
           }
          ],
          "surface": [
           {
            "colorbar": {
             "outlinewidth": 0,
             "ticks": ""
            },
            "colorscale": [
             [
              0,
              "#0d0887"
             ],
             [
              0.1111111111111111,
              "#46039f"
             ],
             [
              0.2222222222222222,
              "#7201a8"
             ],
             [
              0.3333333333333333,
              "#9c179e"
             ],
             [
              0.4444444444444444,
              "#bd3786"
             ],
             [
              0.5555555555555556,
              "#d8576b"
             ],
             [
              0.6666666666666666,
              "#ed7953"
             ],
             [
              0.7777777777777778,
              "#fb9f3a"
             ],
             [
              0.8888888888888888,
              "#fdca26"
             ],
             [
              1,
              "#f0f921"
             ]
            ],
            "type": "surface"
           }
          ],
          "table": [
           {
            "cells": {
             "fill": {
              "color": "#EBF0F8"
             },
             "line": {
              "color": "white"
             }
            },
            "header": {
             "fill": {
              "color": "#C8D4E3"
             },
             "line": {
              "color": "white"
             }
            },
            "type": "table"
           }
          ]
         },
         "layout": {
          "annotationdefaults": {
           "arrowcolor": "#2a3f5f",
           "arrowhead": 0,
           "arrowwidth": 1
          },
          "autotypenumbers": "strict",
          "coloraxis": {
           "colorbar": {
            "outlinewidth": 0,
            "ticks": ""
           }
          },
          "colorscale": {
           "diverging": [
            [
             0,
             "#8e0152"
            ],
            [
             0.1,
             "#c51b7d"
            ],
            [
             0.2,
             "#de77ae"
            ],
            [
             0.3,
             "#f1b6da"
            ],
            [
             0.4,
             "#fde0ef"
            ],
            [
             0.5,
             "#f7f7f7"
            ],
            [
             0.6,
             "#e6f5d0"
            ],
            [
             0.7,
             "#b8e186"
            ],
            [
             0.8,
             "#7fbc41"
            ],
            [
             0.9,
             "#4d9221"
            ],
            [
             1,
             "#276419"
            ]
           ],
           "sequential": [
            [
             0,
             "#0d0887"
            ],
            [
             0.1111111111111111,
             "#46039f"
            ],
            [
             0.2222222222222222,
             "#7201a8"
            ],
            [
             0.3333333333333333,
             "#9c179e"
            ],
            [
             0.4444444444444444,
             "#bd3786"
            ],
            [
             0.5555555555555556,
             "#d8576b"
            ],
            [
             0.6666666666666666,
             "#ed7953"
            ],
            [
             0.7777777777777778,
             "#fb9f3a"
            ],
            [
             0.8888888888888888,
             "#fdca26"
            ],
            [
             1,
             "#f0f921"
            ]
           ],
           "sequentialminus": [
            [
             0,
             "#0d0887"
            ],
            [
             0.1111111111111111,
             "#46039f"
            ],
            [
             0.2222222222222222,
             "#7201a8"
            ],
            [
             0.3333333333333333,
             "#9c179e"
            ],
            [
             0.4444444444444444,
             "#bd3786"
            ],
            [
             0.5555555555555556,
             "#d8576b"
            ],
            [
             0.6666666666666666,
             "#ed7953"
            ],
            [
             0.7777777777777778,
             "#fb9f3a"
            ],
            [
             0.8888888888888888,
             "#fdca26"
            ],
            [
             1,
             "#f0f921"
            ]
           ]
          },
          "colorway": [
           "#636efa",
           "#EF553B",
           "#00cc96",
           "#ab63fa",
           "#FFA15A",
           "#19d3f3",
           "#FF6692",
           "#B6E880",
           "#FF97FF",
           "#FECB52"
          ],
          "font": {
           "color": "#2a3f5f"
          },
          "geo": {
           "bgcolor": "white",
           "lakecolor": "white",
           "landcolor": "#E5ECF6",
           "showlakes": true,
           "showland": true,
           "subunitcolor": "white"
          },
          "hoverlabel": {
           "align": "left"
          },
          "hovermode": "closest",
          "mapbox": {
           "style": "light"
          },
          "paper_bgcolor": "white",
          "plot_bgcolor": "#E5ECF6",
          "polar": {
           "angularaxis": {
            "gridcolor": "white",
            "linecolor": "white",
            "ticks": ""
           },
           "bgcolor": "#E5ECF6",
           "radialaxis": {
            "gridcolor": "white",
            "linecolor": "white",
            "ticks": ""
           }
          },
          "scene": {
           "xaxis": {
            "backgroundcolor": "#E5ECF6",
            "gridcolor": "white",
            "gridwidth": 2,
            "linecolor": "white",
            "showbackground": true,
            "ticks": "",
            "zerolinecolor": "white"
           },
           "yaxis": {
            "backgroundcolor": "#E5ECF6",
            "gridcolor": "white",
            "gridwidth": 2,
            "linecolor": "white",
            "showbackground": true,
            "ticks": "",
            "zerolinecolor": "white"
           },
           "zaxis": {
            "backgroundcolor": "#E5ECF6",
            "gridcolor": "white",
            "gridwidth": 2,
            "linecolor": "white",
            "showbackground": true,
            "ticks": "",
            "zerolinecolor": "white"
           }
          },
          "shapedefaults": {
           "line": {
            "color": "#2a3f5f"
           }
          },
          "ternary": {
           "aaxis": {
            "gridcolor": "white",
            "linecolor": "white",
            "ticks": ""
           },
           "baxis": {
            "gridcolor": "white",
            "linecolor": "white",
            "ticks": ""
           },
           "bgcolor": "#E5ECF6",
           "caxis": {
            "gridcolor": "white",
            "linecolor": "white",
            "ticks": ""
           }
          },
          "title": {
           "x": 0.05
          },
          "xaxis": {
           "automargin": true,
           "gridcolor": "white",
           "linecolor": "white",
           "ticks": "",
           "title": {
            "standoff": 15
           },
           "zerolinecolor": "white",
           "zerolinewidth": 2
          },
          "yaxis": {
           "automargin": true,
           "gridcolor": "white",
           "linecolor": "white",
           "ticks": "",
           "title": {
            "standoff": 15
           },
           "zerolinecolor": "white",
           "zerolinewidth": 2
          }
         }
        },
        "xaxis": {
         "anchor": "y",
         "domain": [
          0,
          1
         ],
         "range": [
          -1,
          1
         ],
         "title": {
          "text": "orientation"
         }
        },
        "yaxis": {
         "anchor": "x",
         "domain": [
          0,
          1
         ],
         "range": [
          -1,
          1
         ],
         "title": {
          "text": "progvscons"
         }
        }
       }
      },
      "text/html": [
       "<div>                            <div id=\"d068e787-7660-44d7-964d-cfaf379dcd25\" class=\"plotly-graph-div\" style=\"height:525px; width:100%;\"></div>            <script type=\"text/javascript\">                require([\"plotly\"], function(Plotly) {                    window.PLOTLYENV=window.PLOTLYENV || {};                                    if (document.getElementById(\"d068e787-7660-44d7-964d-cfaf379dcd25\")) {                    Plotly.newPlot(                        \"d068e787-7660-44d7-964d-cfaf379dcd25\",                        [{\"hovertemplate\":\"<b>%{hovertext}</b><br><br>\\u00c2ge=18-30<br>orientation=%{x}<br>progvscons=%{y}<extra></extra>\",\"hovertext\":[\"Adeline CRETTENAND\",\"Alain DUBOSSON\",\"Caroline REYNARD\",\"Chantal CARLEN\",\"Damien FUMEAUX\",\"Damien LUISIER\",\"Florent FAVRE\",\"Fran\\u00e7ois QUENNOZ\",\"Jean-Baptiste UDRESSY\",\"Kamy MAY\",\"Lucile CURDY\",\"L\\u00e9a ROUILLER DESSIMOZ\",\"Mathieu CALOZ\",\"M\\u00e9lanie FOLLONIER\",\"Romain UDRY\",\"Romano AMACKER\",\"Sophie DUCREY\"],\"legendgroup\":\"18-30\",\"marker\":{\"color\":\"#636efa\",\"symbol\":\"circle\"},\"mode\":\"markers\",\"name\":\"18-30\",\"orientation\":\"v\",\"showlegend\":true,\"x\":[0.3333333333333333,0.7692307692307693,-0.7619047619047619,0.6,0.6666666666666666,0.2222222222222222,0.375,0.42105263157894735,0.7647058823529411,0.14285714285714285,-0.7222222222222222,-0.875,-0.09523809523809523,0.125,0.26666666666666666,0.5238095238095238,-0.7142857142857143],\"xaxis\":\"x\",\"y\":[0.2,0.7619047619047619,-0.7894736842105263,0.5555555555555556,0.631578947368421,0.21212121212121213,0.15151515151515152,0.4444444444444444,0.6470588235294118,0.15789473684210525,-0.7878787878787878,-0.7878787878787878,-0.3684210526315789,-0.25,0.03571428571428571,0.7368421052631579,-0.8421052631578947],\"yaxis\":\"y\",\"type\":\"scatter\"},{\"hovertemplate\":\"<b>%{hovertext}</b><br><br>\\u00c2ge=30-45<br>orientation=%{x}<br>progvscons=%{y}<extra></extra>\",\"hovertext\":[\"Alain L\\u00c9GER\",\"Arnaud DUBOIS\",\"Christelle HERITIER\",\"Christian ESCHER\",\"Claudia ALPIGER\",\"C\\u00f4me VUILLE\",\"Damien CLERC\",\"Damien RABOUD\",\"Danica ZURBRIGGEN LEHNER\",\"Dominik KNUBEL\",\"Emilie PRAZ\",\"Fabien THETAZ\",\"Fabienne MURMANN\",\"Flavio SCHMID\",\"Florian EVEQUOZ\",\"Florine CARRON\",\"Ga\\u00ebl BOURGEOIS\",\"G\\u00e9raldine POUGET-ZUFFEREY\",\"Johan ROCHEL\",\"Jos\\u00e9phine WAEBER\",\"Marie ZUCHUAT\",\"Martine ROUILLER\",\"Matteo AB\\u00c4CHERLI\",\"Michael BURGENER\",\"Michael KREUZER\",\"Natacha MARET\",\"Natascha FARQUET\",\"Nicolas BONVIN\",\"Nicolas CHABLAIS\",\"Pascale FUMEAUX\",\"Pierre DARBELLAY\",\"Rafael WELSCHEN\",\"Rahel ZIMMERMANN\",\"Ralph KUMMER\",\"Vincent BOAND\",\"Vincent LUYET\"],\"legendgroup\":\"30-45\",\"marker\":{\"color\":\"#EF553B\",\"symbol\":\"circle\"},\"mode\":\"markers\",\"name\":\"30-45\",\"orientation\":\"v\",\"showlegend\":true,\"x\":[0.15,-0.5714285714285714,-0.6923076923076923,-0.05263157894736842,-0.7,-0.3333333333333333,0.7777777777777778,0.5294117647058824,-0.3333333333333333,-0.15,-0.8095238095238095,-0.7777777777777778,0.42857142857142855,0.3333333333333333,-0.9047619047619048,-0.7368421052631579,-1.0,0.19047619047619047,-0.7142857142857143,0.3,0.19047619047619047,-0.8095238095238095,0.42857142857142855,0.42857142857142855,0.5238095238095238,0.2857142857142857,-0.5263157894736842,0.3333333333333333,0.0,-0.7647058823529411,0.75,0.5384615384615384,-0.7,0.23076923076923078,0.5789473684210527,-0.8095238095238095],\"xaxis\":\"x\",\"y\":[0.05405405405405406,-0.7631578947368421,-0.6956521739130435,-0.17142857142857143,-0.6216216216216216,-0.3684210526315789,0.625,0.5588235294117647,-0.20833333333333334,-0.05405405405405406,-0.8421052631578947,-0.8484848484848485,0.2631578947368421,0.23809523809523808,-0.7894736842105263,-0.7,-0.7391304347826086,0.02631578947368421,-0.7894736842105263,0.21212121212121213,0.05714285714285714,-0.868421052631579,0.3684210526315789,0.2631578947368421,0.6842105263157895,0.05263157894736842,-0.6388888888888888,0.07894736842105263,0.3333333333333333,-0.8571428571428571,0.3333333333333333,0.48148148148148145,-0.6216216216216216,0.6923076923076923,0.45454545454545453,-0.8857142857142857],\"yaxis\":\"y\",\"type\":\"scatter\"},{\"hovertemplate\":\"<b>%{hovertext}</b><br><br>\\u00c2ge=65+<br>orientation=%{x}<br>progvscons=%{y}<extra></extra>\",\"hovertext\":[\"Alain SCH\\u00d6NBETT\",\"Bernard OBERHOLZER\",\"Bernard TROILLET\",\"Cilette CRETTON\",\"Claude NAN\\u00c7OZ\",\"Edmond PERRUCHOUD\",\"Fran\\u00e7ois GENOUD\",\"Georges VIONNET\",\"Gerhard SCHMID\",\"Hermann BRUNNER\",\"Jacques BLANC\",\"Jean BONNARD\",\"Jean ZERMATTEN\",\"Jean-Dominique CIPOLLA\",\"Jean-Fran\\u00e7ois LOVEY\",\"Kurt REGOTZ\",\"Leander WILLINER\",\"Lukas J\\u00c4GER\",\"Marius DUMOULIN\",\"Narcisse CRETTENAND\",\"Patricia CASAYS\",\"Paul BURGENER\",\"Peter B\\u00c4HLER\",\"Philippe BENDER\",\"Pierre SCHERTENLEIB\",\"Raymonde SCHOCH\"],\"legendgroup\":\"65+\",\"marker\":{\"color\":\"#00cc96\",\"symbol\":\"circle\"},\"mode\":\"markers\",\"name\":\"65+\",\"orientation\":\"v\",\"showlegend\":true,\"x\":[-0.3333333333333333,-1.0,-0.14285714285714285,-0.7619047619047619,0.125,0.7692307692307693,-0.23809523809523808,-0.8095238095238095,-0.7142857142857143,-0.09523809523809523,-0.6111111111111112,-0.8095238095238095,-0.7894736842105263,0.6666666666666666,-0.8,0.047619047619047616,0.15,0.5384615384615384,0.23809523809523808,0.3333333333333333,0.11764705882352941,-0.11764705882352941,0.5789473684210527,0.09523809523809523,-0.8095238095238095,-0.6666666666666666],\"xaxis\":\"x\",\"y\":[-0.47058823529411764,-0.6363636363636364,-0.2631578947368421,-0.7631578947368421,-0.13333333333333333,0.7586206896551724,-0.40540540540540543,-0.8421052631578947,-0.631578947368421,-0.02631578947368421,-0.59375,-0.7631578947368421,-0.7777777777777778,0.5526315789473685,-0.8333333333333334,0.1111111111111111,0.02702702702702703,0.76,0.10526315789473684,0.10526315789473684,-0.09090909090909091,-0.1,0.7714285714285715,0.10526315789473684,-0.8421052631578947,-0.5789473684210527],\"yaxis\":\"y\",\"type\":\"scatter\"},{\"hovertemplate\":\"<b>%{hovertext}</b><br><br>\\u00c2ge=45-65<br>orientation=%{x}<br>progvscons=%{y}<extra></extra>\",\"hovertext\":[\"Alex BONVIN\",\"Alina DARBELLAY\",\"Blaise CRETTOL\",\"Christine ROUX\",\"Claudia GAILLARD MOREND\",\"Claudy BESSE\",\"Corinne DUC BONVIN\",\"C\\u00e9lina RAMSAUER\",\"Fabian ZURBRIGGEN\",\"Felix RUPPEN\",\"Florence CARRON DARBELLAY\",\"Fr\\u00e9d\\u00e9ric PITTELOUD\",\"Gabrielle BARRAS\",\"Gabrielle CORNUT-ZUFFEREY\",\"German EYER\",\"Gr\\u00e9goire VANNAY\",\"G\\u00e9raldine GIANADDA\",\"G\\u00e9raldine GRANGES GUENOT\",\"G\\u00e9raldine GRANGES-GUENOT\",\"G\\u00e9rard SALAMIN\",\"Ida H\\u00c4FLIGER\",\"Janine REY-SIGGEN\",\"Jean-Daniel NANCHEN\",\"Jean-Marc DUPONT\",\"Jean-Marc SAVIOZ\",\"Jean-Pierre REY\",\"Jenny VOEFFRAY\",\"J\\u00e9r\\u00f4me FORMAZ\",\"Laurence VUAGNIAUX\",\"Lukas KALBERMATTEN\",\"L\\u00e9onard BENDER\",\"Madeleine KUONEN-EGGO\",\"Marc-Antoine GENOLET\",\"Maria ARNOLD-ESCHER\",\"Martin SCH\\u00dcRCH\",\"Mathieu SARRASIN\",\"Monika HOLZEGGER\",\"Nicolas METTAN\",\"Olivier DERIVAZ\",\"Peter BURRI\",\"Pierre-Alain RAEMY\",\"Rainer MATHIER\",\"Ralph DESSIMOZ\",\"Remo SCHNYDER\",\"Ruth STALDER\",\"Sabine FOURNIER\",\"Sandro FONTANA\",\"Sophie BORNET\",\"St\\u00e9phane CLAVIEN\",\"Thomas MATTER\",\"Vincent G\\u00dcNTHER\",\"Yann RODUIT\"],\"legendgroup\":\"45-65\",\"marker\":{\"color\":\"#ab63fa\",\"symbol\":\"circle\"},\"mode\":\"markers\",\"name\":\"45-65\",\"orientation\":\"v\",\"showlegend\":true,\"x\":[0.7,-0.8461538461538461,-0.8095238095238095,0.4,-0.7142857142857143,0.47058823529411764,-0.7368421052631579,-0.7647058823529411,0.5238095238095238,0.75,0.0,0.23809523809523808,0.5,-0.7777777777777778,-0.7142857142857143,-0.09523809523809523,-0.8125,-1.0,0.5,0.3333333333333333,-0.05263157894736842,-0.8095238095238095,-0.8095238095238095,-0.8095238095238095,0.2857142857142857,-0.3333333333333333,-0.17647058823529413,0.6842105263157895,-0.7619047619047619,0.2222222222222222,-0.7142857142857143,-0.7222222222222222,0.7142857142857143,0.47368421052631576,0.7142857142857143,0.0,-0.38095238095238093,-0.4,-0.7,-0.14285714285714285,-0.5238095238095238,0.42857142857142855,0.21052631578947367,0.375,-0.23809523809523808,-0.8095238095238095,0.09523809523809523,0.10526315789473684,-0.42857142857142855,-0.047619047619047616,-0.8095238095238095,0.19047619047619047],\"xaxis\":\"x\",\"y\":[0.6470588235294118,-0.782608695652174,-0.8333333333333334,0.3448275862068966,-0.8421052631578947,0.45161290322580644,-0.8571428571428571,-0.7647058823529411,0.7631578947368421,0.4375,-0.2702702702702703,0.15789473684210525,0.4838709677419355,-0.8787878787878788,-0.5945945945945946,-0.10526315789473684,-0.7407407407407407,-1.0,0.5416666666666666,0.15789473684210525,-0.12121212121212122,-0.8421052631578947,-0.8421052631578947,-0.8421052631578947,0.18421052631578946,-0.42105263157894735,-0.3333333333333333,0.5428571428571428,-0.868421052631579,0.0625,-0.7368421052631579,-0.6666666666666666,0.7105263157894737,0.41935483870967744,0.47368421052631576,-0.0967741935483871,-0.13157894736842105,-0.4074074074074074,-0.7297297297297297,0.0,-0.6842105263157895,0.3157894736842105,0.0,0.5862068965517241,-0.21052631578947367,-0.8947368421052632,0.07894736842105263,0.02857142857142857,-0.6756756756756757,-0.21052631578947367,-0.8947368421052632,0.10810810810810811],\"yaxis\":\"y\",\"type\":\"scatter\"}],                        {\"template\":{\"data\":{\"histogram2dcontour\":[{\"type\":\"histogram2dcontour\",\"colorbar\":{\"outlinewidth\":0,\"ticks\":\"\"},\"colorscale\":[[0.0,\"#0d0887\"],[0.1111111111111111,\"#46039f\"],[0.2222222222222222,\"#7201a8\"],[0.3333333333333333,\"#9c179e\"],[0.4444444444444444,\"#bd3786\"],[0.5555555555555556,\"#d8576b\"],[0.6666666666666666,\"#ed7953\"],[0.7777777777777778,\"#fb9f3a\"],[0.8888888888888888,\"#fdca26\"],[1.0,\"#f0f921\"]]}],\"choropleth\":[{\"type\":\"choropleth\",\"colorbar\":{\"outlinewidth\":0,\"ticks\":\"\"}}],\"histogram2d\":[{\"type\":\"histogram2d\",\"colorbar\":{\"outlinewidth\":0,\"ticks\":\"\"},\"colorscale\":[[0.0,\"#0d0887\"],[0.1111111111111111,\"#46039f\"],[0.2222222222222222,\"#7201a8\"],[0.3333333333333333,\"#9c179e\"],[0.4444444444444444,\"#bd3786\"],[0.5555555555555556,\"#d8576b\"],[0.6666666666666666,\"#ed7953\"],[0.7777777777777778,\"#fb9f3a\"],[0.8888888888888888,\"#fdca26\"],[1.0,\"#f0f921\"]]}],\"heatmap\":[{\"type\":\"heatmap\",\"colorbar\":{\"outlinewidth\":0,\"ticks\":\"\"},\"colorscale\":[[0.0,\"#0d0887\"],[0.1111111111111111,\"#46039f\"],[0.2222222222222222,\"#7201a8\"],[0.3333333333333333,\"#9c179e\"],[0.4444444444444444,\"#bd3786\"],[0.5555555555555556,\"#d8576b\"],[0.6666666666666666,\"#ed7953\"],[0.7777777777777778,\"#fb9f3a\"],[0.8888888888888888,\"#fdca26\"],[1.0,\"#f0f921\"]]}],\"heatmapgl\":[{\"type\":\"heatmapgl\",\"colorbar\":{\"outlinewidth\":0,\"ticks\":\"\"},\"colorscale\":[[0.0,\"#0d0887\"],[0.1111111111111111,\"#46039f\"],[0.2222222222222222,\"#7201a8\"],[0.3333333333333333,\"#9c179e\"],[0.4444444444444444,\"#bd3786\"],[0.5555555555555556,\"#d8576b\"],[0.6666666666666666,\"#ed7953\"],[0.7777777777777778,\"#fb9f3a\"],[0.8888888888888888,\"#fdca26\"],[1.0,\"#f0f921\"]]}],\"contourcarpet\":[{\"type\":\"contourcarpet\",\"colorbar\":{\"outlinewidth\":0,\"ticks\":\"\"}}],\"contour\":[{\"type\":\"contour\",\"colorbar\":{\"outlinewidth\":0,\"ticks\":\"\"},\"colorscale\":[[0.0,\"#0d0887\"],[0.1111111111111111,\"#46039f\"],[0.2222222222222222,\"#7201a8\"],[0.3333333333333333,\"#9c179e\"],[0.4444444444444444,\"#bd3786\"],[0.5555555555555556,\"#d8576b\"],[0.6666666666666666,\"#ed7953\"],[0.7777777777777778,\"#fb9f3a\"],[0.8888888888888888,\"#fdca26\"],[1.0,\"#f0f921\"]]}],\"surface\":[{\"type\":\"surface\",\"colorbar\":{\"outlinewidth\":0,\"ticks\":\"\"},\"colorscale\":[[0.0,\"#0d0887\"],[0.1111111111111111,\"#46039f\"],[0.2222222222222222,\"#7201a8\"],[0.3333333333333333,\"#9c179e\"],[0.4444444444444444,\"#bd3786\"],[0.5555555555555556,\"#d8576b\"],[0.6666666666666666,\"#ed7953\"],[0.7777777777777778,\"#fb9f3a\"],[0.8888888888888888,\"#fdca26\"],[1.0,\"#f0f921\"]]}],\"mesh3d\":[{\"type\":\"mesh3d\",\"colorbar\":{\"outlinewidth\":0,\"ticks\":\"\"}}],\"scatter\":[{\"fillpattern\":{\"fillmode\":\"overlay\",\"size\":10,\"solidity\":0.2},\"type\":\"scatter\"}],\"parcoords\":[{\"type\":\"parcoords\",\"line\":{\"colorbar\":{\"outlinewidth\":0,\"ticks\":\"\"}}}],\"scatterpolargl\":[{\"type\":\"scatterpolargl\",\"marker\":{\"colorbar\":{\"outlinewidth\":0,\"ticks\":\"\"}}}],\"bar\":[{\"error_x\":{\"color\":\"#2a3f5f\"},\"error_y\":{\"color\":\"#2a3f5f\"},\"marker\":{\"line\":{\"color\":\"#E5ECF6\",\"width\":0.5},\"pattern\":{\"fillmode\":\"overlay\",\"size\":10,\"solidity\":0.2}},\"type\":\"bar\"}],\"scattergeo\":[{\"type\":\"scattergeo\",\"marker\":{\"colorbar\":{\"outlinewidth\":0,\"ticks\":\"\"}}}],\"scatterpolar\":[{\"type\":\"scatterpolar\",\"marker\":{\"colorbar\":{\"outlinewidth\":0,\"ticks\":\"\"}}}],\"histogram\":[{\"marker\":{\"pattern\":{\"fillmode\":\"overlay\",\"size\":10,\"solidity\":0.2}},\"type\":\"histogram\"}],\"scattergl\":[{\"type\":\"scattergl\",\"marker\":{\"colorbar\":{\"outlinewidth\":0,\"ticks\":\"\"}}}],\"scatter3d\":[{\"type\":\"scatter3d\",\"line\":{\"colorbar\":{\"outlinewidth\":0,\"ticks\":\"\"}},\"marker\":{\"colorbar\":{\"outlinewidth\":0,\"ticks\":\"\"}}}],\"scattermapbox\":[{\"type\":\"scattermapbox\",\"marker\":{\"colorbar\":{\"outlinewidth\":0,\"ticks\":\"\"}}}],\"scatterternary\":[{\"type\":\"scatterternary\",\"marker\":{\"colorbar\":{\"outlinewidth\":0,\"ticks\":\"\"}}}],\"scattercarpet\":[{\"type\":\"scattercarpet\",\"marker\":{\"colorbar\":{\"outlinewidth\":0,\"ticks\":\"\"}}}],\"carpet\":[{\"aaxis\":{\"endlinecolor\":\"#2a3f5f\",\"gridcolor\":\"white\",\"linecolor\":\"white\",\"minorgridcolor\":\"white\",\"startlinecolor\":\"#2a3f5f\"},\"baxis\":{\"endlinecolor\":\"#2a3f5f\",\"gridcolor\":\"white\",\"linecolor\":\"white\",\"minorgridcolor\":\"white\",\"startlinecolor\":\"#2a3f5f\"},\"type\":\"carpet\"}],\"table\":[{\"cells\":{\"fill\":{\"color\":\"#EBF0F8\"},\"line\":{\"color\":\"white\"}},\"header\":{\"fill\":{\"color\":\"#C8D4E3\"},\"line\":{\"color\":\"white\"}},\"type\":\"table\"}],\"barpolar\":[{\"marker\":{\"line\":{\"color\":\"#E5ECF6\",\"width\":0.5},\"pattern\":{\"fillmode\":\"overlay\",\"size\":10,\"solidity\":0.2}},\"type\":\"barpolar\"}],\"pie\":[{\"automargin\":true,\"type\":\"pie\"}]},\"layout\":{\"autotypenumbers\":\"strict\",\"colorway\":[\"#636efa\",\"#EF553B\",\"#00cc96\",\"#ab63fa\",\"#FFA15A\",\"#19d3f3\",\"#FF6692\",\"#B6E880\",\"#FF97FF\",\"#FECB52\"],\"font\":{\"color\":\"#2a3f5f\"},\"hovermode\":\"closest\",\"hoverlabel\":{\"align\":\"left\"},\"paper_bgcolor\":\"white\",\"plot_bgcolor\":\"#E5ECF6\",\"polar\":{\"bgcolor\":\"#E5ECF6\",\"angularaxis\":{\"gridcolor\":\"white\",\"linecolor\":\"white\",\"ticks\":\"\"},\"radialaxis\":{\"gridcolor\":\"white\",\"linecolor\":\"white\",\"ticks\":\"\"}},\"ternary\":{\"bgcolor\":\"#E5ECF6\",\"aaxis\":{\"gridcolor\":\"white\",\"linecolor\":\"white\",\"ticks\":\"\"},\"baxis\":{\"gridcolor\":\"white\",\"linecolor\":\"white\",\"ticks\":\"\"},\"caxis\":{\"gridcolor\":\"white\",\"linecolor\":\"white\",\"ticks\":\"\"}},\"coloraxis\":{\"colorbar\":{\"outlinewidth\":0,\"ticks\":\"\"}},\"colorscale\":{\"sequential\":[[0.0,\"#0d0887\"],[0.1111111111111111,\"#46039f\"],[0.2222222222222222,\"#7201a8\"],[0.3333333333333333,\"#9c179e\"],[0.4444444444444444,\"#bd3786\"],[0.5555555555555556,\"#d8576b\"],[0.6666666666666666,\"#ed7953\"],[0.7777777777777778,\"#fb9f3a\"],[0.8888888888888888,\"#fdca26\"],[1.0,\"#f0f921\"]],\"sequentialminus\":[[0.0,\"#0d0887\"],[0.1111111111111111,\"#46039f\"],[0.2222222222222222,\"#7201a8\"],[0.3333333333333333,\"#9c179e\"],[0.4444444444444444,\"#bd3786\"],[0.5555555555555556,\"#d8576b\"],[0.6666666666666666,\"#ed7953\"],[0.7777777777777778,\"#fb9f3a\"],[0.8888888888888888,\"#fdca26\"],[1.0,\"#f0f921\"]],\"diverging\":[[0,\"#8e0152\"],[0.1,\"#c51b7d\"],[0.2,\"#de77ae\"],[0.3,\"#f1b6da\"],[0.4,\"#fde0ef\"],[0.5,\"#f7f7f7\"],[0.6,\"#e6f5d0\"],[0.7,\"#b8e186\"],[0.8,\"#7fbc41\"],[0.9,\"#4d9221\"],[1,\"#276419\"]]},\"xaxis\":{\"gridcolor\":\"white\",\"linecolor\":\"white\",\"ticks\":\"\",\"title\":{\"standoff\":15},\"zerolinecolor\":\"white\",\"automargin\":true,\"zerolinewidth\":2},\"yaxis\":{\"gridcolor\":\"white\",\"linecolor\":\"white\",\"ticks\":\"\",\"title\":{\"standoff\":15},\"zerolinecolor\":\"white\",\"automargin\":true,\"zerolinewidth\":2},\"scene\":{\"xaxis\":{\"backgroundcolor\":\"#E5ECF6\",\"gridcolor\":\"white\",\"linecolor\":\"white\",\"showbackground\":true,\"ticks\":\"\",\"zerolinecolor\":\"white\",\"gridwidth\":2},\"yaxis\":{\"backgroundcolor\":\"#E5ECF6\",\"gridcolor\":\"white\",\"linecolor\":\"white\",\"showbackground\":true,\"ticks\":\"\",\"zerolinecolor\":\"white\",\"gridwidth\":2},\"zaxis\":{\"backgroundcolor\":\"#E5ECF6\",\"gridcolor\":\"white\",\"linecolor\":\"white\",\"showbackground\":true,\"ticks\":\"\",\"zerolinecolor\":\"white\",\"gridwidth\":2}},\"shapedefaults\":{\"line\":{\"color\":\"#2a3f5f\"}},\"annotationdefaults\":{\"arrowcolor\":\"#2a3f5f\",\"arrowhead\":0,\"arrowwidth\":1},\"geo\":{\"bgcolor\":\"white\",\"landcolor\":\"#E5ECF6\",\"subunitcolor\":\"white\",\"showland\":true,\"showlakes\":true,\"lakecolor\":\"white\"},\"title\":{\"x\":0.05},\"mapbox\":{\"style\":\"light\"}}},\"xaxis\":{\"anchor\":\"y\",\"domain\":[0.0,1.0],\"title\":{\"text\":\"orientation\"},\"range\":[-1,1]},\"yaxis\":{\"anchor\":\"x\",\"domain\":[0.0,1.0],\"title\":{\"text\":\"progvscons\"},\"range\":[-1,1]},\"legend\":{\"title\":{\"text\":\"\\u00c2ge\"},\"tracegroupgap\":0},\"margin\":{\"t\":60}},                        {\"responsive\": true}                    ).then(function(){\n",
       "                            \n",
       "var gd = document.getElementById('d068e787-7660-44d7-964d-cfaf379dcd25');\n",
       "var x = new MutationObserver(function (mutations, observer) {{\n",
       "        var display = window.getComputedStyle(gd).display;\n",
       "        if (!display || display === 'none') {{\n",
       "            console.log([gd, 'removed!']);\n",
       "            Plotly.purge(gd);\n",
       "            observer.disconnect();\n",
       "        }}\n",
       "}});\n",
       "\n",
       "// Listen for the removal of the full notebook cells\n",
       "var notebookContainer = gd.closest('#notebook-container');\n",
       "if (notebookContainer) {{\n",
       "    x.observe(notebookContainer, {childList: true});\n",
       "}}\n",
       "\n",
       "// Listen for the clearing of the current output cell\n",
       "var outputEl = gd.closest('.output');\n",
       "if (outputEl) {{\n",
       "    x.observe(outputEl, {childList: true});\n",
       "}}\n",
       "\n",
       "                        })                };                });            </script>        </div>"
      ]
     },
     "metadata": {},
     "output_type": "display_data"
    }
   ],
   "source": [
    "fig = px.scatter(counts_df, x=\"orientation\", y=\"progvscons\",  color='Âge', hover_name='name')\n",
    "fig.update_xaxes(range=[-1, 1])\n",
    "fig.update_yaxes(range=[-1, 1])\n",
    "fig.show()"
   ]
  },
  {
   "cell_type": "code",
   "execution_count": 117,
   "id": "c810d051",
   "metadata": {},
   "outputs": [
    {
     "data": {
      "text/html": [
       "<div>\n",
       "<style scoped>\n",
       "    .dataframe tbody tr th:only-of-type {\n",
       "        vertical-align: middle;\n",
       "    }\n",
       "\n",
       "    .dataframe tbody tr th {\n",
       "        vertical-align: top;\n",
       "    }\n",
       "\n",
       "    .dataframe thead th {\n",
       "        text-align: right;\n",
       "    }\n",
       "</style>\n",
       "<table border=\"1\" class=\"dataframe\">\n",
       "  <thead>\n",
       "    <tr style=\"text-align: right;\">\n",
       "      <th></th>\n",
       "      <th>name</th>\n",
       "      <th>group</th>\n",
       "      <th>Âge</th>\n",
       "      <th>District</th>\n",
       "      <th>Genre</th>\n",
       "      <th>orientation</th>\n",
       "      <th>progvscons</th>\n",
       "    </tr>\n",
       "  </thead>\n",
       "  <tbody>\n",
       "    <tr>\n",
       "      <th>0</th>\n",
       "      <td>Adeline CRETTENAND</td>\n",
       "      <td>VLR</td>\n",
       "      <td>18-30</td>\n",
       "      <td>Martigny</td>\n",
       "      <td>F</td>\n",
       "      <td>0.333333</td>\n",
       "      <td>0.200000</td>\n",
       "    </tr>\n",
       "    <tr>\n",
       "      <th>1</th>\n",
       "      <td>Alain DUBOSSON</td>\n",
       "      <td>UDC</td>\n",
       "      <td>18-30</td>\n",
       "      <td>Monthey</td>\n",
       "      <td>H</td>\n",
       "      <td>0.769231</td>\n",
       "      <td>0.761905</td>\n",
       "    </tr>\n",
       "    <tr>\n",
       "      <th>2</th>\n",
       "      <td>Alain LÉGER</td>\n",
       "      <td>PDC</td>\n",
       "      <td>30-45</td>\n",
       "      <td>Martigny</td>\n",
       "      <td>H</td>\n",
       "      <td>0.150000</td>\n",
       "      <td>0.054054</td>\n",
       "    </tr>\n",
       "    <tr>\n",
       "      <th>3</th>\n",
       "      <td>Alain SCHÖNBETT</td>\n",
       "      <td>VLR</td>\n",
       "      <td>65+</td>\n",
       "      <td>Monthey</td>\n",
       "      <td>H</td>\n",
       "      <td>-0.333333</td>\n",
       "      <td>-0.470588</td>\n",
       "    </tr>\n",
       "    <tr>\n",
       "      <th>4</th>\n",
       "      <td>Alex BONVIN</td>\n",
       "      <td>UDC</td>\n",
       "      <td>45-65</td>\n",
       "      <td>Sierre</td>\n",
       "      <td>H</td>\n",
       "      <td>0.700000</td>\n",
       "      <td>0.647059</td>\n",
       "    </tr>\n",
       "  </tbody>\n",
       "</table>\n",
       "</div>"
      ],
      "text/plain": [
       "                 name group    Âge  District Genre  orientation  progvscons\n",
       "0  Adeline CRETTENAND   VLR  18-30  Martigny     F     0.333333    0.200000\n",
       "1      Alain DUBOSSON   UDC  18-30   Monthey     H     0.769231    0.761905\n",
       "2         Alain LÉGER   PDC  30-45  Martigny     H     0.150000    0.054054\n",
       "3     Alain SCHÖNBETT   VLR    65+   Monthey     H    -0.333333   -0.470588\n",
       "4         Alex BONVIN   UDC  45-65    Sierre     H     0.700000    0.647059"
      ]
     },
     "execution_count": 117,
     "metadata": {},
     "output_type": "execute_result"
    }
   ],
   "source": [
    "counts_df = counts_df.drop(labels='vote', axis=1)\n",
    "counts_df.head()"
   ]
  },
  {
   "cell_type": "code",
   "execution_count": 119,
   "id": "b5a57703",
   "metadata": {
    "scrolled": true
   },
   "outputs": [
    {
     "data": {
      "text/html": [
       "<div>\n",
       "<style scoped>\n",
       "    .dataframe tbody tr th:only-of-type {\n",
       "        vertical-align: middle;\n",
       "    }\n",
       "\n",
       "    .dataframe tbody tr th {\n",
       "        vertical-align: top;\n",
       "    }\n",
       "\n",
       "    .dataframe thead th {\n",
       "        text-align: right;\n",
       "    }\n",
       "</style>\n",
       "<table border=\"1\" class=\"dataframe\">\n",
       "  <thead>\n",
       "    <tr style=\"text-align: right;\">\n",
       "      <th></th>\n",
       "      <th>Unnamed: 0</th>\n",
       "      <th>label</th>\n",
       "      <th>affairVoteId</th>\n",
       "      <th>meaningYesText</th>\n",
       "      <th>meaningNoText</th>\n",
       "      <th>numYes</th>\n",
       "      <th>numNo</th>\n",
       "      <th>numAbst</th>\n",
       "      <th>section</th>\n",
       "      <th>artId</th>\n",
       "      <th>orientation_art</th>\n",
       "      <th>progvscons_art</th>\n",
       "      <th>name</th>\n",
       "      <th>group</th>\n",
       "      <th>vote</th>\n",
       "      <th>Genre</th>\n",
       "      <th>Âge</th>\n",
       "      <th>District</th>\n",
       "      <th>orientation_dep</th>\n",
       "      <th>progvscons_dep</th>\n",
       "    </tr>\n",
       "  </thead>\n",
       "  <tbody>\n",
       "    <tr>\n",
       "      <th>0</th>\n",
       "      <td>580</td>\n",
       "      <td>606, vote 1 : Commission contre A-606.28 CVPO/...</td>\n",
       "      <td>20211207160250</td>\n",
       "      <td>En l’absence d’un congé parental fédéral, l’Ét...</td>\n",
       "      <td>(néant)</td>\n",
       "      <td>68</td>\n",
       "      <td>35</td>\n",
       "      <td>4</td>\n",
       "      <td>1ère lecture - Commission 6</td>\n",
       "      <td>606</td>\n",
       "      <td>-1</td>\n",
       "      <td>-1</td>\n",
       "      <td>Matteo ABÄCHERLI</td>\n",
       "      <td>CVPO</td>\n",
       "      <td>-1.0</td>\n",
       "      <td>H</td>\n",
       "      <td>30-45</td>\n",
       "      <td>Visp</td>\n",
       "      <td>0.428571</td>\n",
       "      <td>0.368421</td>\n",
       "    </tr>\n",
       "    <tr>\n",
       "      <th>1</th>\n",
       "      <td>593</td>\n",
       "      <td>603, vote 4 : Commission (y.c. V/A 1-3) contre...</td>\n",
       "      <td>20211207144242</td>\n",
       "      <td>Art. 603 Enfance&lt;br/&gt;\\n&lt;ol&gt;&lt;li&gt;L’État et les c...</td>\n",
       "      <td>(néant)</td>\n",
       "      <td>90</td>\n",
       "      <td>14</td>\n",
       "      <td>1</td>\n",
       "      <td>1ère lecture - Commission 6</td>\n",
       "      <td>603</td>\n",
       "      <td>-1</td>\n",
       "      <td>-1</td>\n",
       "      <td>Matteo ABÄCHERLI</td>\n",
       "      <td>CVPO</td>\n",
       "      <td>1.0</td>\n",
       "      <td>H</td>\n",
       "      <td>30-45</td>\n",
       "      <td>Visp</td>\n",
       "      <td>0.428571</td>\n",
       "      <td>0.368421</td>\n",
       "    </tr>\n",
       "    <tr>\n",
       "      <th>2</th>\n",
       "      <td>596</td>\n",
       "      <td>602, vote 2 : Commission (y.c. V/A 1) contre A...</td>\n",
       "      <td>20211207143809</td>\n",
       "      <td>L'État et les communes développent une\\npoliti...</td>\n",
       "      <td>(néant)</td>\n",
       "      <td>89</td>\n",
       "      <td>14</td>\n",
       "      <td>2</td>\n",
       "      <td>1ère lecture - Commission 6</td>\n",
       "      <td>602</td>\n",
       "      <td>-1</td>\n",
       "      <td>-1</td>\n",
       "      <td>Matteo ABÄCHERLI</td>\n",
       "      <td>CVPO</td>\n",
       "      <td>1.0</td>\n",
       "      <td>H</td>\n",
       "      <td>30-45</td>\n",
       "      <td>Visp</td>\n",
       "      <td>0.428571</td>\n",
       "      <td>0.368421</td>\n",
       "    </tr>\n",
       "    <tr>\n",
       "      <th>3</th>\n",
       "      <td>632</td>\n",
       "      <td>503, vote 2 : Résultat V/A 1 contre A-503.14 U...</td>\n",
       "      <td>20211207092238</td>\n",
       "      <td>L’État prend des mesures propres à lutter cont...</td>\n",
       "      <td>(néant)</td>\n",
       "      <td>92</td>\n",
       "      <td>12</td>\n",
       "      <td>1</td>\n",
       "      <td>1ère lecture - Commission 5</td>\n",
       "      <td>503</td>\n",
       "      <td>-1</td>\n",
       "      <td>-1</td>\n",
       "      <td>Matteo ABÄCHERLI</td>\n",
       "      <td>CVPO</td>\n",
       "      <td>1.0</td>\n",
       "      <td>H</td>\n",
       "      <td>30-45</td>\n",
       "      <td>Visp</td>\n",
       "      <td>0.428571</td>\n",
       "      <td>0.368421</td>\n",
       "    </tr>\n",
       "    <tr>\n",
       "      <th>4</th>\n",
       "      <td>648</td>\n",
       "      <td>418/915, vote 13 : Art. 418 commission 4 (y.c....</td>\n",
       "      <td>20211125161611</td>\n",
       "      <td>1 L’État est doté d’une ou plusieurs autorit...</td>\n",
       "      <td>1 &lt;u&gt;Plusieurs&lt;/u&gt; autorités assurent en tout...</td>\n",
       "      <td>64</td>\n",
       "      <td>48</td>\n",
       "      <td>1</td>\n",
       "      <td>1ère lecture - Commission 4</td>\n",
       "      <td>418</td>\n",
       "      <td>0</td>\n",
       "      <td>1</td>\n",
       "      <td>Matteo ABÄCHERLI</td>\n",
       "      <td>CVPO</td>\n",
       "      <td>1.0</td>\n",
       "      <td>H</td>\n",
       "      <td>30-45</td>\n",
       "      <td>Visp</td>\n",
       "      <td>0.428571</td>\n",
       "      <td>0.368421</td>\n",
       "    </tr>\n",
       "    <tr>\n",
       "      <th>5</th>\n",
       "      <td>657</td>\n",
       "      <td>418, al.3n, vote 2 : Commission contre A-418.7...</td>\n",
       "      <td>20211125160409</td>\n",
       "      <td>(néant)</td>\n",
       "      <td>Les organes dirigeants sont désignés par le ...</td>\n",
       "      <td>15</td>\n",
       "      <td>93</td>\n",
       "      <td>5</td>\n",
       "      <td>1ère lecture - Commission 4</td>\n",
       "      <td>418</td>\n",
       "      <td>0</td>\n",
       "      <td>1</td>\n",
       "      <td>Matteo ABÄCHERLI</td>\n",
       "      <td>CVPO</td>\n",
       "      <td>-1.0</td>\n",
       "      <td>H</td>\n",
       "      <td>30-45</td>\n",
       "      <td>Visp</td>\n",
       "      <td>0.428571</td>\n",
       "      <td>0.368421</td>\n",
       "    </tr>\n",
       "    <tr>\n",
       "      <th>6</th>\n",
       "      <td>658</td>\n",
       "      <td>418, al.1, vote 1 : Commission contre A-418.74...</td>\n",
       "      <td>20211125160314</td>\n",
       "      <td>Une ou plusieurs autorités assurent le contrôl...</td>\n",
       "      <td>Une seule autorité...</td>\n",
       "      <td>83</td>\n",
       "      <td>29</td>\n",
       "      <td>1</td>\n",
       "      <td>1ère lecture - Commission 4</td>\n",
       "      <td>418</td>\n",
       "      <td>0</td>\n",
       "      <td>-1</td>\n",
       "      <td>Matteo ABÄCHERLI</td>\n",
       "      <td>CVPO</td>\n",
       "      <td>-1.0</td>\n",
       "      <td>H</td>\n",
       "      <td>30-45</td>\n",
       "      <td>Visp</td>\n",
       "      <td>0.428571</td>\n",
       "      <td>0.368421</td>\n",
       "    </tr>\n",
       "    <tr>\n",
       "      <th>7</th>\n",
       "      <td>665</td>\n",
       "      <td>416a, vote 9 : Commission contre A-416a.67 AC</td>\n",
       "      <td>20211125145141</td>\n",
       "      <td>(néant)</td>\n",
       "      <td>La loi fixe un quotient familial afin d’attén...</td>\n",
       "      <td>47</td>\n",
       "      <td>53</td>\n",
       "      <td>18</td>\n",
       "      <td>1ère lecture - Commission 4</td>\n",
       "      <td>416</td>\n",
       "      <td>1</td>\n",
       "      <td>1</td>\n",
       "      <td>Matteo ABÄCHERLI</td>\n",
       "      <td>CVPO</td>\n",
       "      <td>1.0</td>\n",
       "      <td>H</td>\n",
       "      <td>30-45</td>\n",
       "      <td>Visp</td>\n",
       "      <td>0.428571</td>\n",
       "      <td>0.368421</td>\n",
       "    </tr>\n",
       "    <tr>\n",
       "      <th>8</th>\n",
       "      <td>687</td>\n",
       "      <td>411a, vote 1 : Commission vs A-411a.45 AC</td>\n",
       "      <td>20211125101932</td>\n",
       "      <td>(néant)</td>\n",
       "      <td>L'Etat met librement à disposition les jeux d...</td>\n",
       "      <td>56</td>\n",
       "      <td>51</td>\n",
       "      <td>6</td>\n",
       "      <td>1ère lecture - Commission 4</td>\n",
       "      <td>411</td>\n",
       "      <td>-1</td>\n",
       "      <td>1</td>\n",
       "      <td>Matteo ABÄCHERLI</td>\n",
       "      <td>CVPO</td>\n",
       "      <td>1.0</td>\n",
       "      <td>H</td>\n",
       "      <td>30-45</td>\n",
       "      <td>Visp</td>\n",
       "      <td>0.428571</td>\n",
       "      <td>0.368421</td>\n",
       "    </tr>\n",
       "    <tr>\n",
       "      <th>9</th>\n",
       "      <td>740</td>\n",
       "      <td>905, vote 5 : Commission (y.c. V/A 1-4) contre...</td>\n",
       "      <td>20211123122108</td>\n",
       "      <td>Il est institué un tribunal du droit de la fa...</td>\n",
       "      <td>(biffer)</td>\n",
       "      <td>69</td>\n",
       "      <td>36</td>\n",
       "      <td>10</td>\n",
       "      <td>1ère lecture - Commission 9</td>\n",
       "      <td>905</td>\n",
       "      <td>-1</td>\n",
       "      <td>-1</td>\n",
       "      <td>Matteo ABÄCHERLI</td>\n",
       "      <td>CVPO</td>\n",
       "      <td>-1.0</td>\n",
       "      <td>H</td>\n",
       "      <td>30-45</td>\n",
       "      <td>Visp</td>\n",
       "      <td>0.428571</td>\n",
       "      <td>0.368421</td>\n",
       "    </tr>\n",
       "  </tbody>\n",
       "</table>\n",
       "</div>"
      ],
      "text/plain": [
       "   Unnamed: 0                                              label  \\\n",
       "0         580  606, vote 1 : Commission contre A-606.28 CVPO/...   \n",
       "1         593  603, vote 4 : Commission (y.c. V/A 1-3) contre...   \n",
       "2         596  602, vote 2 : Commission (y.c. V/A 1) contre A...   \n",
       "3         632  503, vote 2 : Résultat V/A 1 contre A-503.14 U...   \n",
       "4         648  418/915, vote 13 : Art. 418 commission 4 (y.c....   \n",
       "5         657  418, al.3n, vote 2 : Commission contre A-418.7...   \n",
       "6         658  418, al.1, vote 1 : Commission contre A-418.74...   \n",
       "7         665      416a, vote 9 : Commission contre A-416a.67 AC   \n",
       "8         687          411a, vote 1 : Commission vs A-411a.45 AC   \n",
       "9         740  905, vote 5 : Commission (y.c. V/A 1-4) contre...   \n",
       "\n",
       "     affairVoteId                                     meaningYesText  \\\n",
       "0  20211207160250  En l’absence d’un congé parental fédéral, l’Ét...   \n",
       "1  20211207144242  Art. 603 Enfance<br/>\\n<ol><li>L’État et les c...   \n",
       "2  20211207143809  L'État et les communes développent une\\npoliti...   \n",
       "3  20211207092238  L’État prend des mesures propres à lutter cont...   \n",
       "4  20211125161611  1 L’État est doté d’une ou plusieurs autorit...   \n",
       "5  20211125160409                                            (néant)   \n",
       "6  20211125160314  Une ou plusieurs autorités assurent le contrôl...   \n",
       "7  20211125145141                                            (néant)   \n",
       "8  20211125101932                                            (néant)   \n",
       "9  20211123122108  Il est institué un tribunal du droit de la fa...   \n",
       "\n",
       "                                       meaningNoText  numYes  numNo  numAbst  \\\n",
       "0                                            (néant)      68     35        4   \n",
       "1                                            (néant)      90     14        1   \n",
       "2                                            (néant)      89     14        2   \n",
       "3                                            (néant)      92     12        1   \n",
       "4  1 <u>Plusieurs</u> autorités assurent en tout...      64     48        1   \n",
       "5  Les organes dirigeants sont désignés par le ...      15     93        5   \n",
       "6                              Une seule autorité...      83     29        1   \n",
       "7  La loi fixe un quotient familial afin d’attén...      47     53       18   \n",
       "8  L'Etat met librement à disposition les jeux d...      56     51        6   \n",
       "9                                           (biffer)      69     36       10   \n",
       "\n",
       "                       section  artId  orientation_art  progvscons_art  \\\n",
       "0  1ère lecture - Commission 6    606               -1              -1   \n",
       "1  1ère lecture - Commission 6    603               -1              -1   \n",
       "2  1ère lecture - Commission 6    602               -1              -1   \n",
       "3  1ère lecture - Commission 5    503               -1              -1   \n",
       "4  1ère lecture - Commission 4    418                0               1   \n",
       "5  1ère lecture - Commission 4    418                0               1   \n",
       "6  1ère lecture - Commission 4    418                0              -1   \n",
       "7  1ère lecture - Commission 4    416                1               1   \n",
       "8  1ère lecture - Commission 4    411               -1               1   \n",
       "9  1ère lecture - Commission 9    905               -1              -1   \n",
       "\n",
       "               name group  vote Genre    Âge District  orientation_dep  \\\n",
       "0  Matteo ABÄCHERLI  CVPO  -1.0     H  30-45     Visp         0.428571   \n",
       "1  Matteo ABÄCHERLI  CVPO   1.0     H  30-45     Visp         0.428571   \n",
       "2  Matteo ABÄCHERLI  CVPO   1.0     H  30-45     Visp         0.428571   \n",
       "3  Matteo ABÄCHERLI  CVPO   1.0     H  30-45     Visp         0.428571   \n",
       "4  Matteo ABÄCHERLI  CVPO   1.0     H  30-45     Visp         0.428571   \n",
       "5  Matteo ABÄCHERLI  CVPO  -1.0     H  30-45     Visp         0.428571   \n",
       "6  Matteo ABÄCHERLI  CVPO  -1.0     H  30-45     Visp         0.428571   \n",
       "7  Matteo ABÄCHERLI  CVPO   1.0     H  30-45     Visp         0.428571   \n",
       "8  Matteo ABÄCHERLI  CVPO   1.0     H  30-45     Visp         0.428571   \n",
       "9  Matteo ABÄCHERLI  CVPO  -1.0     H  30-45     Visp         0.428571   \n",
       "\n",
       "   progvscons_dep  \n",
       "0        0.368421  \n",
       "1        0.368421  \n",
       "2        0.368421  \n",
       "3        0.368421  \n",
       "4        0.368421  \n",
       "5        0.368421  \n",
       "6        0.368421  \n",
       "7        0.368421  \n",
       "8        0.368421  \n",
       "9        0.368421  "
      ]
     },
     "execution_count": 119,
     "metadata": {},
     "output_type": "execute_result"
    }
   ],
   "source": [
    "merged_df = pd.merge(final_df, counts_df, on=['name', 'group', 'Âge', 'Genre', 'District'], how='inner')\n",
    "merged_df.rename(columns={'orientation_x': 'orientation_art', 'progvscons_x': 'progvscons_art', 'orientation_y': 'orientation_dep', 'progvscons_y': 'progvscons_dep'}, inplace=True)\n",
    "#We drop the columns that do not have any value\n",
    "merged_df = merged_df[~merged_df.isnull().any(axis=1)]\n",
    "merged_df = merged_df[merged_df['vote'] != 0]\n",
    "merged_df = merged_df.reset_index(drop=True)\n",
    "merged_df.head(10)"
   ]
  },
  {
   "cell_type": "markdown",
   "id": "1c2e7c5f",
   "metadata": {},
   "source": [
    "We create a dataframe with only the categorical variables that we will use later for the embedding "
   ]
  },
  {
   "cell_type": "code",
   "execution_count": null,
   "id": "5ebf198a",
   "metadata": {},
   "outputs": [],
   "source": [
    "cat_df = merged_df.select_dtypes(include=['object']).copy()"
   ]
  },
  {
   "cell_type": "markdown",
   "id": "95762dd0",
   "metadata": {},
   "source": [
    "We now delete the columns that we do not need anymore to start preparing the final dataset"
   ]
  },
  {
   "cell_type": "code",
   "execution_count": 120,
   "id": "94d9a101",
   "metadata": {
    "scrolled": false
   },
   "outputs": [],
   "source": [
    "merged_df = merged_df.drop(['label', 'numAbst', 'artId', 'numYes', 'numNo', 'name', 'affairVoteId', 'meaningYesText', 'meaningNoText', 'section','Unnamed: 0'], axis=1)"
   ]
  },
  {
   "cell_type": "code",
   "execution_count": 121,
   "id": "fcad81aa",
   "metadata": {},
   "outputs": [
    {
     "data": {
      "text/html": [
       "<div>\n",
       "<style scoped>\n",
       "    .dataframe tbody tr th:only-of-type {\n",
       "        vertical-align: middle;\n",
       "    }\n",
       "\n",
       "    .dataframe tbody tr th {\n",
       "        vertical-align: top;\n",
       "    }\n",
       "\n",
       "    .dataframe thead th {\n",
       "        text-align: right;\n",
       "    }\n",
       "</style>\n",
       "<table border=\"1\" class=\"dataframe\">\n",
       "  <thead>\n",
       "    <tr style=\"text-align: right;\">\n",
       "      <th></th>\n",
       "      <th>orientation_art</th>\n",
       "      <th>progvscons_art</th>\n",
       "      <th>group</th>\n",
       "      <th>vote</th>\n",
       "      <th>Genre</th>\n",
       "      <th>Âge</th>\n",
       "      <th>District</th>\n",
       "      <th>orientation_dep</th>\n",
       "      <th>progvscons_dep</th>\n",
       "    </tr>\n",
       "  </thead>\n",
       "  <tbody>\n",
       "    <tr>\n",
       "      <th>0</th>\n",
       "      <td>-1</td>\n",
       "      <td>-1</td>\n",
       "      <td>CVPO</td>\n",
       "      <td>-1.0</td>\n",
       "      <td>H</td>\n",
       "      <td>30-45</td>\n",
       "      <td>Visp</td>\n",
       "      <td>0.428571</td>\n",
       "      <td>0.368421</td>\n",
       "    </tr>\n",
       "    <tr>\n",
       "      <th>1</th>\n",
       "      <td>-1</td>\n",
       "      <td>-1</td>\n",
       "      <td>CVPO</td>\n",
       "      <td>1.0</td>\n",
       "      <td>H</td>\n",
       "      <td>30-45</td>\n",
       "      <td>Visp</td>\n",
       "      <td>0.428571</td>\n",
       "      <td>0.368421</td>\n",
       "    </tr>\n",
       "    <tr>\n",
       "      <th>2</th>\n",
       "      <td>-1</td>\n",
       "      <td>-1</td>\n",
       "      <td>CVPO</td>\n",
       "      <td>1.0</td>\n",
       "      <td>H</td>\n",
       "      <td>30-45</td>\n",
       "      <td>Visp</td>\n",
       "      <td>0.428571</td>\n",
       "      <td>0.368421</td>\n",
       "    </tr>\n",
       "    <tr>\n",
       "      <th>3</th>\n",
       "      <td>-1</td>\n",
       "      <td>-1</td>\n",
       "      <td>CVPO</td>\n",
       "      <td>1.0</td>\n",
       "      <td>H</td>\n",
       "      <td>30-45</td>\n",
       "      <td>Visp</td>\n",
       "      <td>0.428571</td>\n",
       "      <td>0.368421</td>\n",
       "    </tr>\n",
       "    <tr>\n",
       "      <th>4</th>\n",
       "      <td>0</td>\n",
       "      <td>1</td>\n",
       "      <td>CVPO</td>\n",
       "      <td>1.0</td>\n",
       "      <td>H</td>\n",
       "      <td>30-45</td>\n",
       "      <td>Visp</td>\n",
       "      <td>0.428571</td>\n",
       "      <td>0.368421</td>\n",
       "    </tr>\n",
       "  </tbody>\n",
       "</table>\n",
       "</div>"
      ],
      "text/plain": [
       "   orientation_art  progvscons_art group  vote Genre    Âge District  \\\n",
       "0               -1              -1  CVPO  -1.0     H  30-45     Visp   \n",
       "1               -1              -1  CVPO   1.0     H  30-45     Visp   \n",
       "2               -1              -1  CVPO   1.0     H  30-45     Visp   \n",
       "3               -1              -1  CVPO   1.0     H  30-45     Visp   \n",
       "4                0               1  CVPO   1.0     H  30-45     Visp   \n",
       "\n",
       "   orientation_dep  progvscons_dep  \n",
       "0         0.428571        0.368421  \n",
       "1         0.428571        0.368421  \n",
       "2         0.428571        0.368421  \n",
       "3         0.428571        0.368421  \n",
       "4         0.428571        0.368421  "
      ]
     },
     "execution_count": 121,
     "metadata": {},
     "output_type": "execute_result"
    }
   ],
   "source": [
    "merged_df.head()"
   ]
  },
  {
   "cell_type": "markdown",
   "id": "905bce02",
   "metadata": {},
   "source": [
    "# One hot encoding"
   ]
  },
  {
   "cell_type": "markdown",
   "id": "b5967e86",
   "metadata": {},
   "source": [
    "We will now change the categorical vairbales into dummies variables"
   ]
  },
  {
   "cell_type": "code",
   "execution_count": 124,
   "id": "75e957f7",
   "metadata": {},
   "outputs": [
    {
     "data": {
      "text/html": [
       "<div>\n",
       "<style scoped>\n",
       "    .dataframe tbody tr th:only-of-type {\n",
       "        vertical-align: middle;\n",
       "    }\n",
       "\n",
       "    .dataframe tbody tr th {\n",
       "        vertical-align: top;\n",
       "    }\n",
       "\n",
       "    .dataframe thead th {\n",
       "        text-align: right;\n",
       "    }\n",
       "</style>\n",
       "<table border=\"1\" class=\"dataframe\">\n",
       "  <thead>\n",
       "    <tr style=\"text-align: right;\">\n",
       "      <th></th>\n",
       "      <th>orientation_art</th>\n",
       "      <th>progvscons_art</th>\n",
       "      <th>vote</th>\n",
       "      <th>orientation_dep</th>\n",
       "      <th>progvscons_dep</th>\n",
       "      <th>Genre_F</th>\n",
       "      <th>Genre_H</th>\n",
       "      <th>Âge_18-30</th>\n",
       "      <th>Âge_30-45</th>\n",
       "      <th>Âge_45-65</th>\n",
       "      <th>...</th>\n",
       "      <th>group_AdG</th>\n",
       "      <th>group_CSPO</th>\n",
       "      <th>group_CVPO</th>\n",
       "      <th>group_INDEP</th>\n",
       "      <th>group_LES VERTS</th>\n",
       "      <th>group_PDC</th>\n",
       "      <th>group_SVPO</th>\n",
       "      <th>group_UDC</th>\n",
       "      <th>group_VLR</th>\n",
       "      <th>group_ZUK-VS</th>\n",
       "    </tr>\n",
       "  </thead>\n",
       "  <tbody>\n",
       "    <tr>\n",
       "      <th>0</th>\n",
       "      <td>-1</td>\n",
       "      <td>-1</td>\n",
       "      <td>-1.0</td>\n",
       "      <td>0.428571</td>\n",
       "      <td>0.368421</td>\n",
       "      <td>0</td>\n",
       "      <td>1</td>\n",
       "      <td>0</td>\n",
       "      <td>1</td>\n",
       "      <td>0</td>\n",
       "      <td>...</td>\n",
       "      <td>0</td>\n",
       "      <td>0</td>\n",
       "      <td>1</td>\n",
       "      <td>0</td>\n",
       "      <td>0</td>\n",
       "      <td>0</td>\n",
       "      <td>0</td>\n",
       "      <td>0</td>\n",
       "      <td>0</td>\n",
       "      <td>0</td>\n",
       "    </tr>\n",
       "    <tr>\n",
       "      <th>1</th>\n",
       "      <td>-1</td>\n",
       "      <td>-1</td>\n",
       "      <td>1.0</td>\n",
       "      <td>0.428571</td>\n",
       "      <td>0.368421</td>\n",
       "      <td>0</td>\n",
       "      <td>1</td>\n",
       "      <td>0</td>\n",
       "      <td>1</td>\n",
       "      <td>0</td>\n",
       "      <td>...</td>\n",
       "      <td>0</td>\n",
       "      <td>0</td>\n",
       "      <td>1</td>\n",
       "      <td>0</td>\n",
       "      <td>0</td>\n",
       "      <td>0</td>\n",
       "      <td>0</td>\n",
       "      <td>0</td>\n",
       "      <td>0</td>\n",
       "      <td>0</td>\n",
       "    </tr>\n",
       "    <tr>\n",
       "      <th>2</th>\n",
       "      <td>-1</td>\n",
       "      <td>-1</td>\n",
       "      <td>1.0</td>\n",
       "      <td>0.428571</td>\n",
       "      <td>0.368421</td>\n",
       "      <td>0</td>\n",
       "      <td>1</td>\n",
       "      <td>0</td>\n",
       "      <td>1</td>\n",
       "      <td>0</td>\n",
       "      <td>...</td>\n",
       "      <td>0</td>\n",
       "      <td>0</td>\n",
       "      <td>1</td>\n",
       "      <td>0</td>\n",
       "      <td>0</td>\n",
       "      <td>0</td>\n",
       "      <td>0</td>\n",
       "      <td>0</td>\n",
       "      <td>0</td>\n",
       "      <td>0</td>\n",
       "    </tr>\n",
       "    <tr>\n",
       "      <th>3</th>\n",
       "      <td>-1</td>\n",
       "      <td>-1</td>\n",
       "      <td>1.0</td>\n",
       "      <td>0.428571</td>\n",
       "      <td>0.368421</td>\n",
       "      <td>0</td>\n",
       "      <td>1</td>\n",
       "      <td>0</td>\n",
       "      <td>1</td>\n",
       "      <td>0</td>\n",
       "      <td>...</td>\n",
       "      <td>0</td>\n",
       "      <td>0</td>\n",
       "      <td>1</td>\n",
       "      <td>0</td>\n",
       "      <td>0</td>\n",
       "      <td>0</td>\n",
       "      <td>0</td>\n",
       "      <td>0</td>\n",
       "      <td>0</td>\n",
       "      <td>0</td>\n",
       "    </tr>\n",
       "    <tr>\n",
       "      <th>4</th>\n",
       "      <td>0</td>\n",
       "      <td>1</td>\n",
       "      <td>1.0</td>\n",
       "      <td>0.428571</td>\n",
       "      <td>0.368421</td>\n",
       "      <td>0</td>\n",
       "      <td>1</td>\n",
       "      <td>0</td>\n",
       "      <td>1</td>\n",
       "      <td>0</td>\n",
       "      <td>...</td>\n",
       "      <td>0</td>\n",
       "      <td>0</td>\n",
       "      <td>1</td>\n",
       "      <td>0</td>\n",
       "      <td>0</td>\n",
       "      <td>0</td>\n",
       "      <td>0</td>\n",
       "      <td>0</td>\n",
       "      <td>0</td>\n",
       "      <td>0</td>\n",
       "    </tr>\n",
       "  </tbody>\n",
       "</table>\n",
       "<p>5 rows × 36 columns</p>\n",
       "</div>"
      ],
      "text/plain": [
       "   orientation_art  progvscons_art  vote  orientation_dep  progvscons_dep  \\\n",
       "0               -1              -1  -1.0         0.428571        0.368421   \n",
       "1               -1              -1   1.0         0.428571        0.368421   \n",
       "2               -1              -1   1.0         0.428571        0.368421   \n",
       "3               -1              -1   1.0         0.428571        0.368421   \n",
       "4                0               1   1.0         0.428571        0.368421   \n",
       "\n",
       "   Genre_F  Genre_H  Âge_18-30  Âge_30-45  Âge_45-65  ...  group_AdG  \\\n",
       "0        0        1          0          1          0  ...          0   \n",
       "1        0        1          0          1          0  ...          0   \n",
       "2        0        1          0          1          0  ...          0   \n",
       "3        0        1          0          1          0  ...          0   \n",
       "4        0        1          0          1          0  ...          0   \n",
       "\n",
       "   group_CSPO  group_CVPO  group_INDEP  group_LES VERTS  group_PDC  \\\n",
       "0           0           1            0                0          0   \n",
       "1           0           1            0                0          0   \n",
       "2           0           1            0                0          0   \n",
       "3           0           1            0                0          0   \n",
       "4           0           1            0                0          0   \n",
       "\n",
       "   group_SVPO  group_UDC  group_VLR  group_ZUK-VS  \n",
       "0           0          0          0             0  \n",
       "1           0          0          0             0  \n",
       "2           0          0          0             0  \n",
       "3           0          0          0             0  \n",
       "4           0          0          0             0  \n",
       "\n",
       "[5 rows x 36 columns]"
      ]
     },
     "execution_count": 124,
     "metadata": {},
     "output_type": "execute_result"
    }
   ],
   "source": [
    "prepared_df = pd.get_dummies(merged_df, columns=['Genre', 'Âge', 'District', 'group'])\n",
    "prepared_df.head()"
   ]
  },
  {
   "cell_type": "code",
   "execution_count": 68,
   "id": "73730211",
   "metadata": {},
   "outputs": [],
   "source": [
    "prepared_df.to_csv('dataSetForML_Onehot.csv')"
   ]
  },
  {
   "cell_type": "markdown",
   "id": "ddb515f5",
   "metadata": {},
   "source": [
    "# Embedding"
   ]
  },
  {
   "cell_type": "markdown",
   "id": "01607543",
   "metadata": {},
   "source": [
    "In this part, we will use embedding techniques to deal with categorical variables. We will do embedding for the following features:\n",
    "- group\n",
    "- district\n",
    "\n",
    "We will do one hot encoding for genre and age "
   ]
  },
  {
   "cell_type": "code",
   "execution_count": 126,
   "id": "6b78e0ef",
   "metadata": {},
   "outputs": [
    {
     "data": {
      "text/html": [
       "<div>\n",
       "<style scoped>\n",
       "    .dataframe tbody tr th:only-of-type {\n",
       "        vertical-align: middle;\n",
       "    }\n",
       "\n",
       "    .dataframe tbody tr th {\n",
       "        vertical-align: top;\n",
       "    }\n",
       "\n",
       "    .dataframe thead th {\n",
       "        text-align: right;\n",
       "    }\n",
       "</style>\n",
       "<table border=\"1\" class=\"dataframe\">\n",
       "  <thead>\n",
       "    <tr style=\"text-align: right;\">\n",
       "      <th></th>\n",
       "      <th>label</th>\n",
       "      <th>meaningYesText</th>\n",
       "      <th>meaningNoText</th>\n",
       "      <th>section</th>\n",
       "      <th>name</th>\n",
       "      <th>group</th>\n",
       "      <th>Genre</th>\n",
       "      <th>Âge</th>\n",
       "      <th>District</th>\n",
       "    </tr>\n",
       "  </thead>\n",
       "  <tbody>\n",
       "    <tr>\n",
       "      <th>0</th>\n",
       "      <td>606, vote 1 : Commission contre A-606.28 CVPO/...</td>\n",
       "      <td>En l’absence d’un congé parental fédéral, l’Ét...</td>\n",
       "      <td>(néant)</td>\n",
       "      <td>1ère lecture - Commission 6</td>\n",
       "      <td>Matteo ABÄCHERLI</td>\n",
       "      <td>CVPO</td>\n",
       "      <td>H</td>\n",
       "      <td>30-45</td>\n",
       "      <td>Visp</td>\n",
       "    </tr>\n",
       "    <tr>\n",
       "      <th>1</th>\n",
       "      <td>603, vote 4 : Commission (y.c. V/A 1-3) contre...</td>\n",
       "      <td>Art. 603 Enfance&lt;br/&gt;\\n&lt;ol&gt;&lt;li&gt;L’État et les c...</td>\n",
       "      <td>(néant)</td>\n",
       "      <td>1ère lecture - Commission 6</td>\n",
       "      <td>Matteo ABÄCHERLI</td>\n",
       "      <td>CVPO</td>\n",
       "      <td>H</td>\n",
       "      <td>30-45</td>\n",
       "      <td>Visp</td>\n",
       "    </tr>\n",
       "    <tr>\n",
       "      <th>2</th>\n",
       "      <td>602, vote 2 : Commission (y.c. V/A 1) contre A...</td>\n",
       "      <td>L'État et les communes développent une\\npoliti...</td>\n",
       "      <td>(néant)</td>\n",
       "      <td>1ère lecture - Commission 6</td>\n",
       "      <td>Matteo ABÄCHERLI</td>\n",
       "      <td>CVPO</td>\n",
       "      <td>H</td>\n",
       "      <td>30-45</td>\n",
       "      <td>Visp</td>\n",
       "    </tr>\n",
       "    <tr>\n",
       "      <th>3</th>\n",
       "      <td>503, vote 2 : Résultat V/A 1 contre A-503.14 U...</td>\n",
       "      <td>L’État prend des mesures propres à lutter cont...</td>\n",
       "      <td>(néant)</td>\n",
       "      <td>1ère lecture - Commission 5</td>\n",
       "      <td>Matteo ABÄCHERLI</td>\n",
       "      <td>CVPO</td>\n",
       "      <td>H</td>\n",
       "      <td>30-45</td>\n",
       "      <td>Visp</td>\n",
       "    </tr>\n",
       "    <tr>\n",
       "      <th>4</th>\n",
       "      <td>418/915, vote 13 : Art. 418 commission 4 (y.c....</td>\n",
       "      <td>1 L’État est doté d’une ou plusieurs autorit...</td>\n",
       "      <td>1 &lt;u&gt;Plusieurs&lt;/u&gt; autorités assurent en tout...</td>\n",
       "      <td>1ère lecture - Commission 4</td>\n",
       "      <td>Matteo ABÄCHERLI</td>\n",
       "      <td>CVPO</td>\n",
       "      <td>H</td>\n",
       "      <td>30-45</td>\n",
       "      <td>Visp</td>\n",
       "    </tr>\n",
       "    <tr>\n",
       "      <th>5</th>\n",
       "      <td>418, al.3n, vote 2 : Commission contre A-418.7...</td>\n",
       "      <td>(néant)</td>\n",
       "      <td>Les organes dirigeants sont désignés par le ...</td>\n",
       "      <td>1ère lecture - Commission 4</td>\n",
       "      <td>Matteo ABÄCHERLI</td>\n",
       "      <td>CVPO</td>\n",
       "      <td>H</td>\n",
       "      <td>30-45</td>\n",
       "      <td>Visp</td>\n",
       "    </tr>\n",
       "    <tr>\n",
       "      <th>6</th>\n",
       "      <td>418, al.1, vote 1 : Commission contre A-418.74...</td>\n",
       "      <td>Une ou plusieurs autorités assurent le contrôl...</td>\n",
       "      <td>Une seule autorité...</td>\n",
       "      <td>1ère lecture - Commission 4</td>\n",
       "      <td>Matteo ABÄCHERLI</td>\n",
       "      <td>CVPO</td>\n",
       "      <td>H</td>\n",
       "      <td>30-45</td>\n",
       "      <td>Visp</td>\n",
       "    </tr>\n",
       "    <tr>\n",
       "      <th>7</th>\n",
       "      <td>416a, vote 9 : Commission contre A-416a.67 AC</td>\n",
       "      <td>(néant)</td>\n",
       "      <td>La loi fixe un quotient familial afin d’attén...</td>\n",
       "      <td>1ère lecture - Commission 4</td>\n",
       "      <td>Matteo ABÄCHERLI</td>\n",
       "      <td>CVPO</td>\n",
       "      <td>H</td>\n",
       "      <td>30-45</td>\n",
       "      <td>Visp</td>\n",
       "    </tr>\n",
       "    <tr>\n",
       "      <th>8</th>\n",
       "      <td>411a, vote 1 : Commission vs A-411a.45 AC</td>\n",
       "      <td>(néant)</td>\n",
       "      <td>L'Etat met librement à disposition les jeux d...</td>\n",
       "      <td>1ère lecture - Commission 4</td>\n",
       "      <td>Matteo ABÄCHERLI</td>\n",
       "      <td>CVPO</td>\n",
       "      <td>H</td>\n",
       "      <td>30-45</td>\n",
       "      <td>Visp</td>\n",
       "    </tr>\n",
       "    <tr>\n",
       "      <th>9</th>\n",
       "      <td>905, vote 5 : Commission (y.c. V/A 1-4) contre...</td>\n",
       "      <td>Il est institué un tribunal du droit de la fa...</td>\n",
       "      <td>(biffer)</td>\n",
       "      <td>1ère lecture - Commission 9</td>\n",
       "      <td>Matteo ABÄCHERLI</td>\n",
       "      <td>CVPO</td>\n",
       "      <td>H</td>\n",
       "      <td>30-45</td>\n",
       "      <td>Visp</td>\n",
       "    </tr>\n",
       "    <tr>\n",
       "      <th>10</th>\n",
       "      <td>904, vote 1 : Commission contre M-901 + M-904 ...</td>\n",
       "      <td>Il est institué pour l’ensemble du canton une...</td>\n",
       "      <td>(biffer)</td>\n",
       "      <td>1ère lecture - Commission 9</td>\n",
       "      <td>Matteo ABÄCHERLI</td>\n",
       "      <td>CVPO</td>\n",
       "      <td>H</td>\n",
       "      <td>30-45</td>\n",
       "      <td>Visp</td>\n",
       "    </tr>\n",
       "    <tr>\n",
       "      <th>11</th>\n",
       "      <td>903, vote 3 : Commission (y.c. V/A 1+3) contre...</td>\n",
       "      <td>Il est institué une Cour Constitutionnelle ra...</td>\n",
       "      <td>(biffer)</td>\n",
       "      <td>1ère lecture - Commission 9</td>\n",
       "      <td>Matteo ABÄCHERLI</td>\n",
       "      <td>CVPO</td>\n",
       "      <td>H</td>\n",
       "      <td>30-45</td>\n",
       "      <td>Visp</td>\n",
       "    </tr>\n",
       "    <tr>\n",
       "      <th>12</th>\n",
       "      <td>003, vote 5 : Commissions (y.c. V/A 1-4) contr...</td>\n",
       "      <td>La conférence régionale est dirigée par un coo...</td>\n",
       "      <td>(biffer)</td>\n",
       "      <td>1ère lecture - Commission 10</td>\n",
       "      <td>Matteo ABÄCHERLI</td>\n",
       "      <td>CVPO</td>\n",
       "      <td>H</td>\n",
       "      <td>30-45</td>\n",
       "      <td>Visp</td>\n",
       "    </tr>\n",
       "    <tr>\n",
       "      <th>13</th>\n",
       "      <td>002, vote 2 : Commissions (y.c. V/A 1-2) contr...</td>\n",
       "      <td>1 Chaque région dispose d’une conférence ré...</td>\n",
       "      <td>(biffer)</td>\n",
       "      <td>1ère lecture - Commission 10</td>\n",
       "      <td>Matteo ABÄCHERLI</td>\n",
       "      <td>CVPO</td>\n",
       "      <td>H</td>\n",
       "      <td>30-45</td>\n",
       "      <td>Visp</td>\n",
       "    </tr>\n",
       "    <tr>\n",
       "      <th>14</th>\n",
       "      <td>802, vote 9 : Commission (1-1-1) contre résult...</td>\n",
       "      <td>(1 siège par partie du canton)</td>\n",
       "      <td>(pas de garantie de siège)</td>\n",
       "      <td>1ère lecture - Commission 8</td>\n",
       "      <td>Matteo ABÄCHERLI</td>\n",
       "      <td>CVPO</td>\n",
       "      <td>H</td>\n",
       "      <td>30-45</td>\n",
       "      <td>Visp</td>\n",
       "    </tr>\n",
       "    <tr>\n",
       "      <th>15</th>\n",
       "      <td>802, vote 3 : Commission (major.) contre A-802...</td>\n",
       "      <td>Le Conseil d'Etat est élu selon un scrutin maj...</td>\n",
       "      <td>Le Conseil d'Etat est élu selon un scrutin pro...</td>\n",
       "      <td>1ère lecture - Commission 8</td>\n",
       "      <td>Matteo ABÄCHERLI</td>\n",
       "      <td>CVPO</td>\n",
       "      <td>H</td>\n",
       "      <td>30-45</td>\n",
       "      <td>Visp</td>\n",
       "    </tr>\n",
       "    <tr>\n",
       "      <th>16</th>\n",
       "      <td>801, vote 1 : Commission [CE/SR 7] contre A-80...</td>\n",
       "      <td>Le Conseil d'État est composé de sept membres.</td>\n",
       "      <td>Le Conseil d'État est composé de &lt;s&gt;sept&lt;/s&gt;...</td>\n",
       "      <td>1ère lecture - Commission 8</td>\n",
       "      <td>Matteo ABÄCHERLI</td>\n",
       "      <td>CVPO</td>\n",
       "      <td>H</td>\n",
       "      <td>30-45</td>\n",
       "      <td>Visp</td>\n",
       "    </tr>\n",
       "    <tr>\n",
       "      <th>17</th>\n",
       "      <td>710, al.5, vote 13 : Commission contre résulta...</td>\n",
       "      <td>La loi peut fixer une proportion minimale de s...</td>\n",
       "      <td>... Cette proportion ne peut excéder &lt;s&gt;5%&lt;/s&gt;...</td>\n",
       "      <td>1ère lecture - Commission 7</td>\n",
       "      <td>Matteo ABÄCHERLI</td>\n",
       "      <td>CVPO</td>\n",
       "      <td>H</td>\n",
       "      <td>30-45</td>\n",
       "      <td>Visp</td>\n",
       "    </tr>\n",
       "    <tr>\n",
       "      <th>18</th>\n",
       "      <td>710, al.4, vote 10 : Commission contre résulta...</td>\n",
       "      <td>Dès que la population du Haut-Valais tombe au-...</td>\n",
       "      <td>(Pas de clause de protection)</td>\n",
       "      <td>1ère lecture - Commission 7</td>\n",
       "      <td>Matteo ABÄCHERLI</td>\n",
       "      <td>CVPO</td>\n",
       "      <td>H</td>\n",
       "      <td>30-45</td>\n",
       "      <td>Visp</td>\n",
       "    </tr>\n",
       "    <tr>\n",
       "      <th>19</th>\n",
       "      <td>710, al.4, vote 7 : Résultat V/A 6 contre A-71...</td>\n",
       "      <td>(Amendement A-710.26 CSPO)&lt;br/&gt;\\nLa répartiti...</td>\n",
       "      <td>La répartition des sièges est effectuée en ...</td>\n",
       "      <td>1ère lecture - Commission 7</td>\n",
       "      <td>Matteo ABÄCHERLI</td>\n",
       "      <td>CVPO</td>\n",
       "      <td>H</td>\n",
       "      <td>30-45</td>\n",
       "      <td>Visp</td>\n",
       "    </tr>\n",
       "    <tr>\n",
       "      <th>20</th>\n",
       "      <td>710, al.3, vote 2 : Commission contre M-710 / ...</td>\n",
       "      <td>La loi instaure des sous-circonscriptions élec...</td>\n",
       "      <td>(néant = pas de sous-circonscriptions)</td>\n",
       "      <td>1ère lecture - Commission 7</td>\n",
       "      <td>Matteo ABÄCHERLI</td>\n",
       "      <td>CVPO</td>\n",
       "      <td>H</td>\n",
       "      <td>30-45</td>\n",
       "      <td>Visp</td>\n",
       "    </tr>\n",
       "    <tr>\n",
       "      <th>21</th>\n",
       "      <td>709, vote 6 : Commission contre résultat V/A 5</td>\n",
       "      <td>La loi instaure un système de suppléance. Le n...</td>\n",
       "      <td>Le Grand Consei est composé de 130 députées et...</td>\n",
       "      <td>1ère lecture - Commission 7</td>\n",
       "      <td>Matteo ABÄCHERLI</td>\n",
       "      <td>CVPO</td>\n",
       "      <td>H</td>\n",
       "      <td>30-45</td>\n",
       "      <td>Visp</td>\n",
       "    </tr>\n",
       "    <tr>\n",
       "      <th>22</th>\n",
       "      <td>709, vote 1 : Commission contre M-709.01 Darbe...</td>\n",
       "      <td>Le Grand Conseil est composé de 130 députées e...</td>\n",
       "      <td>Le Grand Conseil est composé de &lt;s&gt;130&lt;/s&gt; &lt;u&gt;...</td>\n",
       "      <td>1ère lecture - Commission 7</td>\n",
       "      <td>Matteo ABÄCHERLI</td>\n",
       "      <td>CVPO</td>\n",
       "      <td>H</td>\n",
       "      <td>30-45</td>\n",
       "      <td>Visp</td>\n",
       "    </tr>\n",
       "    <tr>\n",
       "      <th>23</th>\n",
       "      <td>311, vote 4 : Commission contre A-311.40 UDCVR...</td>\n",
       "      <td>&lt;b&gt;Art. 311 Représentation des femmes et des h...</td>\n",
       "      <td>(néant)</td>\n",
       "      <td>1ère lecture - Commission 3</td>\n",
       "      <td>Matteo ABÄCHERLI</td>\n",
       "      <td>CVPO</td>\n",
       "      <td>H</td>\n",
       "      <td>30-45</td>\n",
       "      <td>Visp</td>\n",
       "    </tr>\n",
       "    <tr>\n",
       "      <th>24</th>\n",
       "      <td>303, vote 3 : Commission contre résultat V/A 2</td>\n",
       "      <td>(néant)</td>\n",
       "      <td>L'un des membres du Conseil des Etats est choi...</td>\n",
       "      <td>1ère lecture - Commission 3</td>\n",
       "      <td>Matteo ABÄCHERLI</td>\n",
       "      <td>CVPO</td>\n",
       "      <td>H</td>\n",
       "      <td>30-45</td>\n",
       "      <td>Visp</td>\n",
       "    </tr>\n",
       "    <tr>\n",
       "      <th>25</th>\n",
       "      <td>301, al.5, vote 6 : Commission contre Minorité...</td>\n",
       "      <td>La loi ne peut restreindre la titularité des ...</td>\n",
       "      <td>(biffer cet alinéa, autrement dit permettre à ...</td>\n",
       "      <td>1ère lecture - Commission 3</td>\n",
       "      <td>Matteo ABÄCHERLI</td>\n",
       "      <td>CVPO</td>\n",
       "      <td>H</td>\n",
       "      <td>30-45</td>\n",
       "      <td>Visp</td>\n",
       "    </tr>\n",
       "    <tr>\n",
       "      <th>26</th>\n",
       "      <td>301, vote 4 : Commission (y.c. V/A 2-3) contre...</td>\n",
       "      <td>Droit de vote et d'éligibilité au plan communa...</td>\n",
       "      <td>Droit de vote et d'éligibilité réservé aux per...</td>\n",
       "      <td>1ère lecture - Commission 3</td>\n",
       "      <td>Matteo ABÄCHERLI</td>\n",
       "      <td>CVPO</td>\n",
       "      <td>H</td>\n",
       "      <td>30-45</td>\n",
       "      <td>Visp</td>\n",
       "    </tr>\n",
       "    <tr>\n",
       "      <th>27</th>\n",
       "      <td>1009, vote 1 : Commission contre A-1009.17 VLR...</td>\n",
       "      <td>Le conseil communal se compose de cinq à neuf...</td>\n",
       "      <td>Le conseil communal se compose de &lt;s&gt;cinq&lt;/s&gt; ...</td>\n",
       "      <td>1ère lecture - Commission 10</td>\n",
       "      <td>Matteo ABÄCHERLI</td>\n",
       "      <td>CVPO</td>\n",
       "      <td>H</td>\n",
       "      <td>30-45</td>\n",
       "      <td>Visp</td>\n",
       "    </tr>\n",
       "    <tr>\n",
       "      <th>28</th>\n",
       "      <td>1008, al.2, vote 2 : A-1008.15 ZUK-VS = Commis...</td>\n",
       "      <td>Par scrutin populaire, le corps électoral peu...</td>\n",
       "      <td>Par scrutin populaire, le corps électoral peu...</td>\n",
       "      <td>1ère lecture - Commission 10</td>\n",
       "      <td>Matteo ABÄCHERLI</td>\n",
       "      <td>CVPO</td>\n",
       "      <td>H</td>\n",
       "      <td>30-45</td>\n",
       "      <td>Visp</td>\n",
       "    </tr>\n",
       "    <tr>\n",
       "      <th>29</th>\n",
       "      <td>219, vote 5 : Résultat V/A 1-4 contre A-219.58...</td>\n",
       "      <td>&lt;b&gt;Art. 219 Intégrité et identité numériques&lt;...</td>\n",
       "      <td>(biffer l'article)</td>\n",
       "      <td>1ère lecture - Commission 2</td>\n",
       "      <td>Matteo ABÄCHERLI</td>\n",
       "      <td>CVPO</td>\n",
       "      <td>H</td>\n",
       "      <td>30-45</td>\n",
       "      <td>Visp</td>\n",
       "    </tr>\n",
       "    <tr>\n",
       "      <th>30</th>\n",
       "      <td>210, vote 1 : Commission contre A-210.36 SVPO/...</td>\n",
       "      <td>Toute personne a le droit de vivre dans un env...</td>\n",
       "      <td>(biffer l'article)</td>\n",
       "      <td>1ère lecture - Commission 2</td>\n",
       "      <td>Matteo ABÄCHERLI</td>\n",
       "      <td>CVPO</td>\n",
       "      <td>H</td>\n",
       "      <td>30-45</td>\n",
       "      <td>Visp</td>\n",
       "    </tr>\n",
       "    <tr>\n",
       "      <th>31</th>\n",
       "      <td>205, vote 2 : Commission contre résultat V/A 2</td>\n",
       "      <td>(alinea 2) L'intérêt supérieur de l'enfant,...</td>\n",
       "      <td>(alinea 2) ... ou les procédures qui le conce...</td>\n",
       "      <td>1ère lecture - Commission 2</td>\n",
       "      <td>Matteo ABÄCHERLI</td>\n",
       "      <td>CVPO</td>\n",
       "      <td>H</td>\n",
       "      <td>30-45</td>\n",
       "      <td>Visp</td>\n",
       "    </tr>\n",
       "    <tr>\n",
       "      <th>32</th>\n",
       "      <td>204, vote 2 : Commission (y.c. V/A 1) contre A...</td>\n",
       "      <td>Tout être humain a droit à la vie, à la lib...</td>\n",
       "      <td>... ainsi qu'à une fin de vie digne &lt;s&gt;libreme...</td>\n",
       "      <td>1ère lecture - Commission 2</td>\n",
       "      <td>Matteo ABÄCHERLI</td>\n",
       "      <td>CVPO</td>\n",
       "      <td>H</td>\n",
       "      <td>30-45</td>\n",
       "      <td>Visp</td>\n",
       "    </tr>\n",
       "    <tr>\n",
       "      <th>33</th>\n",
       "      <td>202, vote 7 : Commission (y.c. V/A 2+3) contre...</td>\n",
       "      <td>Nul ne doit subir de discrimination du fait no...</td>\n",
       "      <td>Nul ne doit subir de discrimination du fait no...</td>\n",
       "      <td>1ère lecture - Commission 2</td>\n",
       "      <td>Matteo ABÄCHERLI</td>\n",
       "      <td>CVPO</td>\n",
       "      <td>H</td>\n",
       "      <td>30-45</td>\n",
       "      <td>Visp</td>\n",
       "    </tr>\n",
       "    <tr>\n",
       "      <th>34</th>\n",
       "      <td>119, vote 4 : Commission contre A-119.99 AC</td>\n",
       "      <td>(néant)</td>\n",
       "      <td>A intervalles de 25 ans, le Grand Conseil exam...</td>\n",
       "      <td>1ère lecture - Commission 1</td>\n",
       "      <td>Matteo ABÄCHERLI</td>\n",
       "      <td>CVPO</td>\n",
       "      <td>H</td>\n",
       "      <td>30-45</td>\n",
       "      <td>Visp</td>\n",
       "    </tr>\n",
       "    <tr>\n",
       "      <th>35</th>\n",
       "      <td>113a, vote 1 : Commission contre A-113a.73 VLR</td>\n",
       "      <td>(néant)</td>\n",
       "      <td>&lt;b&gt;Art 113a (nouveau) Frais de culte &lt;/b&gt;\\n&lt;br...</td>\n",
       "      <td>1ère lecture - Commission 1</td>\n",
       "      <td>Matteo ABÄCHERLI</td>\n",
       "      <td>CVPO</td>\n",
       "      <td>H</td>\n",
       "      <td>30-45</td>\n",
       "      <td>Visp</td>\n",
       "    </tr>\n",
       "    <tr>\n",
       "      <th>36</th>\n",
       "      <td>110, vote 3 :Commission contre résultat V/A 2</td>\n",
       "      <td>[L'Etat et les communes] soutiennent les diale...</td>\n",
       "      <td>[L'Etat et les communes] soutiennent les diale...</td>\n",
       "      <td>1ère lecture - Commission 1</td>\n",
       "      <td>Matteo ABÄCHERLI</td>\n",
       "      <td>CVPO</td>\n",
       "      <td>H</td>\n",
       "      <td>30-45</td>\n",
       "      <td>Visp</td>\n",
       "    </tr>\n",
       "    <tr>\n",
       "      <th>37</th>\n",
       "      <td>107, vote 3 : Commission contre résultat V/A 2</td>\n",
       "      <td>L’État promeut une représentation équilibre...</td>\n",
       "      <td>L’État &lt;s&gt;promeut&lt;/s&gt; &lt;u&gt;vise&lt;/u&gt; une représ...</td>\n",
       "      <td>1ère lecture - Commission 1</td>\n",
       "      <td>Matteo ABÄCHERLI</td>\n",
       "      <td>CVPO</td>\n",
       "      <td>H</td>\n",
       "      <td>30-45</td>\n",
       "      <td>Visp</td>\n",
       "    </tr>\n",
       "    <tr>\n",
       "      <th>38</th>\n",
       "      <td>105, vote 4 : Commission contre A-105.22 VLR</td>\n",
       "      <td>Les buts de l'Etat sont:...</td>\n",
       "      <td>Les buts de l'Etat sont: ... &lt;u&gt;j) (nouveau) l...</td>\n",
       "      <td>1ère lecture - Commission 1</td>\n",
       "      <td>Matteo ABÄCHERLI</td>\n",
       "      <td>CVPO</td>\n",
       "      <td>H</td>\n",
       "      <td>30-45</td>\n",
       "      <td>Visp</td>\n",
       "    </tr>\n",
       "    <tr>\n",
       "      <th>39</th>\n",
       "      <td>105, vote 3 : Commission contre A-105.20 PS-GC</td>\n",
       "      <td>Les buts de l'Etat sont: ... g) la préservatio...</td>\n",
       "      <td>Les buts de l'Etat sont: ... g) la préservatio...</td>\n",
       "      <td>1ère lecture - Commission 1</td>\n",
       "      <td>Matteo ABÄCHERLI</td>\n",
       "      <td>CVPO</td>\n",
       "      <td>H</td>\n",
       "      <td>30-45</td>\n",
       "      <td>Visp</td>\n",
       "    </tr>\n",
       "    <tr>\n",
       "      <th>40</th>\n",
       "      <td>606, vote 1 : Commission contre A-606.28 CVPO/...</td>\n",
       "      <td>En l’absence d’un congé parental fédéral, l’Ét...</td>\n",
       "      <td>(néant)</td>\n",
       "      <td>1ère lecture - Commission 6</td>\n",
       "      <td>Claudia ALPIGER</td>\n",
       "      <td>ZUK-VS</td>\n",
       "      <td>F</td>\n",
       "      <td>30-45</td>\n",
       "      <td>Brig</td>\n",
       "    </tr>\n",
       "    <tr>\n",
       "      <th>41</th>\n",
       "      <td>603, vote 4 : Commission (y.c. V/A 1-3) contre...</td>\n",
       "      <td>Art. 603 Enfance&lt;br/&gt;\\n&lt;ol&gt;&lt;li&gt;L’État et les c...</td>\n",
       "      <td>(néant)</td>\n",
       "      <td>1ère lecture - Commission 6</td>\n",
       "      <td>Claudia ALPIGER</td>\n",
       "      <td>ZUK-VS</td>\n",
       "      <td>F</td>\n",
       "      <td>30-45</td>\n",
       "      <td>Brig</td>\n",
       "    </tr>\n",
       "    <tr>\n",
       "      <th>42</th>\n",
       "      <td>602, vote 2 : Commission (y.c. V/A 1) contre A...</td>\n",
       "      <td>L'État et les communes développent une\\npoliti...</td>\n",
       "      <td>(néant)</td>\n",
       "      <td>1ère lecture - Commission 6</td>\n",
       "      <td>Claudia ALPIGER</td>\n",
       "      <td>ZUK-VS</td>\n",
       "      <td>F</td>\n",
       "      <td>30-45</td>\n",
       "      <td>Brig</td>\n",
       "    </tr>\n",
       "    <tr>\n",
       "      <th>43</th>\n",
       "      <td>503, vote 2 : Résultat V/A 1 contre A-503.14 U...</td>\n",
       "      <td>L’État prend des mesures propres à lutter cont...</td>\n",
       "      <td>(néant)</td>\n",
       "      <td>1ère lecture - Commission 5</td>\n",
       "      <td>Claudia ALPIGER</td>\n",
       "      <td>ZUK-VS</td>\n",
       "      <td>F</td>\n",
       "      <td>30-45</td>\n",
       "      <td>Brig</td>\n",
       "    </tr>\n",
       "    <tr>\n",
       "      <th>44</th>\n",
       "      <td>418/915, vote 13 : Art. 418 commission 4 (y.c....</td>\n",
       "      <td>1 L’État est doté d’une ou plusieurs autorit...</td>\n",
       "      <td>1 &lt;u&gt;Plusieurs&lt;/u&gt; autorités assurent en tout...</td>\n",
       "      <td>1ère lecture - Commission 4</td>\n",
       "      <td>Claudia ALPIGER</td>\n",
       "      <td>ZUK-VS</td>\n",
       "      <td>F</td>\n",
       "      <td>30-45</td>\n",
       "      <td>Brig</td>\n",
       "    </tr>\n",
       "    <tr>\n",
       "      <th>45</th>\n",
       "      <td>418, al.3n, vote 2 : Commission contre A-418.7...</td>\n",
       "      <td>(néant)</td>\n",
       "      <td>Les organes dirigeants sont désignés par le ...</td>\n",
       "      <td>1ère lecture - Commission 4</td>\n",
       "      <td>Claudia ALPIGER</td>\n",
       "      <td>ZUK-VS</td>\n",
       "      <td>F</td>\n",
       "      <td>30-45</td>\n",
       "      <td>Brig</td>\n",
       "    </tr>\n",
       "    <tr>\n",
       "      <th>46</th>\n",
       "      <td>418, al.1, vote 1 : Commission contre A-418.74...</td>\n",
       "      <td>Une ou plusieurs autorités assurent le contrôl...</td>\n",
       "      <td>Une seule autorité...</td>\n",
       "      <td>1ère lecture - Commission 4</td>\n",
       "      <td>Claudia ALPIGER</td>\n",
       "      <td>ZUK-VS</td>\n",
       "      <td>F</td>\n",
       "      <td>30-45</td>\n",
       "      <td>Brig</td>\n",
       "    </tr>\n",
       "    <tr>\n",
       "      <th>47</th>\n",
       "      <td>416a, vote 9 : Commission contre A-416a.67 AC</td>\n",
       "      <td>(néant)</td>\n",
       "      <td>La loi fixe un quotient familial afin d’attén...</td>\n",
       "      <td>1ère lecture - Commission 4</td>\n",
       "      <td>Claudia ALPIGER</td>\n",
       "      <td>ZUK-VS</td>\n",
       "      <td>F</td>\n",
       "      <td>30-45</td>\n",
       "      <td>Brig</td>\n",
       "    </tr>\n",
       "    <tr>\n",
       "      <th>48</th>\n",
       "      <td>411a, vote 1 : Commission vs A-411a.45 AC</td>\n",
       "      <td>(néant)</td>\n",
       "      <td>L'Etat met librement à disposition les jeux d...</td>\n",
       "      <td>1ère lecture - Commission 4</td>\n",
       "      <td>Claudia ALPIGER</td>\n",
       "      <td>ZUK-VS</td>\n",
       "      <td>F</td>\n",
       "      <td>30-45</td>\n",
       "      <td>Brig</td>\n",
       "    </tr>\n",
       "    <tr>\n",
       "      <th>49</th>\n",
       "      <td>905, vote 5 : Commission (y.c. V/A 1-4) contre...</td>\n",
       "      <td>Il est institué un tribunal du droit de la fa...</td>\n",
       "      <td>(biffer)</td>\n",
       "      <td>1ère lecture - Commission 9</td>\n",
       "      <td>Claudia ALPIGER</td>\n",
       "      <td>ZUK-VS</td>\n",
       "      <td>F</td>\n",
       "      <td>30-45</td>\n",
       "      <td>Brig</td>\n",
       "    </tr>\n",
       "    <tr>\n",
       "      <th>50</th>\n",
       "      <td>904, vote 1 : Commission contre M-901 + M-904 ...</td>\n",
       "      <td>Il est institué pour l’ensemble du canton une...</td>\n",
       "      <td>(biffer)</td>\n",
       "      <td>1ère lecture - Commission 9</td>\n",
       "      <td>Claudia ALPIGER</td>\n",
       "      <td>ZUK-VS</td>\n",
       "      <td>F</td>\n",
       "      <td>30-45</td>\n",
       "      <td>Brig</td>\n",
       "    </tr>\n",
       "    <tr>\n",
       "      <th>51</th>\n",
       "      <td>903, vote 3 : Commission (y.c. V/A 1+3) contre...</td>\n",
       "      <td>Il est institué une Cour Constitutionnelle ra...</td>\n",
       "      <td>(biffer)</td>\n",
       "      <td>1ère lecture - Commission 9</td>\n",
       "      <td>Claudia ALPIGER</td>\n",
       "      <td>ZUK-VS</td>\n",
       "      <td>F</td>\n",
       "      <td>30-45</td>\n",
       "      <td>Brig</td>\n",
       "    </tr>\n",
       "    <tr>\n",
       "      <th>52</th>\n",
       "      <td>003, vote 5 : Commissions (y.c. V/A 1-4) contr...</td>\n",
       "      <td>La conférence régionale est dirigée par un coo...</td>\n",
       "      <td>(biffer)</td>\n",
       "      <td>1ère lecture - Commission 10</td>\n",
       "      <td>Claudia ALPIGER</td>\n",
       "      <td>ZUK-VS</td>\n",
       "      <td>F</td>\n",
       "      <td>30-45</td>\n",
       "      <td>Brig</td>\n",
       "    </tr>\n",
       "    <tr>\n",
       "      <th>53</th>\n",
       "      <td>002, vote 2 : Commissions (y.c. V/A 1-2) contr...</td>\n",
       "      <td>1 Chaque région dispose d’une conférence ré...</td>\n",
       "      <td>(biffer)</td>\n",
       "      <td>1ère lecture - Commission 10</td>\n",
       "      <td>Claudia ALPIGER</td>\n",
       "      <td>ZUK-VS</td>\n",
       "      <td>F</td>\n",
       "      <td>30-45</td>\n",
       "      <td>Brig</td>\n",
       "    </tr>\n",
       "    <tr>\n",
       "      <th>54</th>\n",
       "      <td>802, vote 9 : Commission (1-1-1) contre résult...</td>\n",
       "      <td>(1 siège par partie du canton)</td>\n",
       "      <td>(pas de garantie de siège)</td>\n",
       "      <td>1ère lecture - Commission 8</td>\n",
       "      <td>Claudia ALPIGER</td>\n",
       "      <td>ZUK-VS</td>\n",
       "      <td>F</td>\n",
       "      <td>30-45</td>\n",
       "      <td>Brig</td>\n",
       "    </tr>\n",
       "    <tr>\n",
       "      <th>55</th>\n",
       "      <td>802, vote 3 : Commission (major.) contre A-802...</td>\n",
       "      <td>Le Conseil d'Etat est élu selon un scrutin maj...</td>\n",
       "      <td>Le Conseil d'Etat est élu selon un scrutin pro...</td>\n",
       "      <td>1ère lecture - Commission 8</td>\n",
       "      <td>Claudia ALPIGER</td>\n",
       "      <td>ZUK-VS</td>\n",
       "      <td>F</td>\n",
       "      <td>30-45</td>\n",
       "      <td>Brig</td>\n",
       "    </tr>\n",
       "    <tr>\n",
       "      <th>56</th>\n",
       "      <td>801, vote 1 : Commission [CE/SR 7] contre A-80...</td>\n",
       "      <td>Le Conseil d'État est composé de sept membres.</td>\n",
       "      <td>Le Conseil d'État est composé de &lt;s&gt;sept&lt;/s&gt;...</td>\n",
       "      <td>1ère lecture - Commission 8</td>\n",
       "      <td>Claudia ALPIGER</td>\n",
       "      <td>ZUK-VS</td>\n",
       "      <td>F</td>\n",
       "      <td>30-45</td>\n",
       "      <td>Brig</td>\n",
       "    </tr>\n",
       "    <tr>\n",
       "      <th>57</th>\n",
       "      <td>710, al.5, vote 13 : Commission contre résulta...</td>\n",
       "      <td>La loi peut fixer une proportion minimale de s...</td>\n",
       "      <td>... Cette proportion ne peut excéder &lt;s&gt;5%&lt;/s&gt;...</td>\n",
       "      <td>1ère lecture - Commission 7</td>\n",
       "      <td>Claudia ALPIGER</td>\n",
       "      <td>ZUK-VS</td>\n",
       "      <td>F</td>\n",
       "      <td>30-45</td>\n",
       "      <td>Brig</td>\n",
       "    </tr>\n",
       "    <tr>\n",
       "      <th>58</th>\n",
       "      <td>710, al.4, vote 10 : Commission contre résulta...</td>\n",
       "      <td>Dès que la population du Haut-Valais tombe au-...</td>\n",
       "      <td>(Pas de clause de protection)</td>\n",
       "      <td>1ère lecture - Commission 7</td>\n",
       "      <td>Claudia ALPIGER</td>\n",
       "      <td>ZUK-VS</td>\n",
       "      <td>F</td>\n",
       "      <td>30-45</td>\n",
       "      <td>Brig</td>\n",
       "    </tr>\n",
       "    <tr>\n",
       "      <th>59</th>\n",
       "      <td>710, al.4, vote 7 : Résultat V/A 6 contre A-71...</td>\n",
       "      <td>(Amendement A-710.26 CSPO)&lt;br/&gt;\\nLa répartiti...</td>\n",
       "      <td>La répartition des sièges est effectuée en ...</td>\n",
       "      <td>1ère lecture - Commission 7</td>\n",
       "      <td>Claudia ALPIGER</td>\n",
       "      <td>ZUK-VS</td>\n",
       "      <td>F</td>\n",
       "      <td>30-45</td>\n",
       "      <td>Brig</td>\n",
       "    </tr>\n",
       "  </tbody>\n",
       "</table>\n",
       "</div>"
      ],
      "text/plain": [
       "                                                label  \\\n",
       "0   606, vote 1 : Commission contre A-606.28 CVPO/...   \n",
       "1   603, vote 4 : Commission (y.c. V/A 1-3) contre...   \n",
       "2   602, vote 2 : Commission (y.c. V/A 1) contre A...   \n",
       "3   503, vote 2 : Résultat V/A 1 contre A-503.14 U...   \n",
       "4   418/915, vote 13 : Art. 418 commission 4 (y.c....   \n",
       "5   418, al.3n, vote 2 : Commission contre A-418.7...   \n",
       "6   418, al.1, vote 1 : Commission contre A-418.74...   \n",
       "7       416a, vote 9 : Commission contre A-416a.67 AC   \n",
       "8           411a, vote 1 : Commission vs A-411a.45 AC   \n",
       "9   905, vote 5 : Commission (y.c. V/A 1-4) contre...   \n",
       "10  904, vote 1 : Commission contre M-901 + M-904 ...   \n",
       "11  903, vote 3 : Commission (y.c. V/A 1+3) contre...   \n",
       "12  003, vote 5 : Commissions (y.c. V/A 1-4) contr...   \n",
       "13  002, vote 2 : Commissions (y.c. V/A 1-2) contr...   \n",
       "14  802, vote 9 : Commission (1-1-1) contre résult...   \n",
       "15  802, vote 3 : Commission (major.) contre A-802...   \n",
       "16  801, vote 1 : Commission [CE/SR 7] contre A-80...   \n",
       "17  710, al.5, vote 13 : Commission contre résulta...   \n",
       "18  710, al.4, vote 10 : Commission contre résulta...   \n",
       "19  710, al.4, vote 7 : Résultat V/A 6 contre A-71...   \n",
       "20  710, al.3, vote 2 : Commission contre M-710 / ...   \n",
       "21     709, vote 6 : Commission contre résultat V/A 5   \n",
       "22  709, vote 1 : Commission contre M-709.01 Darbe...   \n",
       "23  311, vote 4 : Commission contre A-311.40 UDCVR...   \n",
       "24     303, vote 3 : Commission contre résultat V/A 2   \n",
       "25  301, al.5, vote 6 : Commission contre Minorité...   \n",
       "26  301, vote 4 : Commission (y.c. V/A 2-3) contre...   \n",
       "27  1009, vote 1 : Commission contre A-1009.17 VLR...   \n",
       "28  1008, al.2, vote 2 : A-1008.15 ZUK-VS = Commis...   \n",
       "29  219, vote 5 : Résultat V/A 1-4 contre A-219.58...   \n",
       "30  210, vote 1 : Commission contre A-210.36 SVPO/...   \n",
       "31     205, vote 2 : Commission contre résultat V/A 2   \n",
       "32  204, vote 2 : Commission (y.c. V/A 1) contre A...   \n",
       "33  202, vote 7 : Commission (y.c. V/A 2+3) contre...   \n",
       "34        119, vote 4 : Commission contre A-119.99 AC   \n",
       "35    113a, vote 1 : Commission contre A-113a.73 VLR    \n",
       "36      110, vote 3 :Commission contre résultat V/A 2   \n",
       "37     107, vote 3 : Commission contre résultat V/A 2   \n",
       "38       105, vote 4 : Commission contre A-105.22 VLR   \n",
       "39     105, vote 3 : Commission contre A-105.20 PS-GC   \n",
       "40  606, vote 1 : Commission contre A-606.28 CVPO/...   \n",
       "41  603, vote 4 : Commission (y.c. V/A 1-3) contre...   \n",
       "42  602, vote 2 : Commission (y.c. V/A 1) contre A...   \n",
       "43  503, vote 2 : Résultat V/A 1 contre A-503.14 U...   \n",
       "44  418/915, vote 13 : Art. 418 commission 4 (y.c....   \n",
       "45  418, al.3n, vote 2 : Commission contre A-418.7...   \n",
       "46  418, al.1, vote 1 : Commission contre A-418.74...   \n",
       "47      416a, vote 9 : Commission contre A-416a.67 AC   \n",
       "48          411a, vote 1 : Commission vs A-411a.45 AC   \n",
       "49  905, vote 5 : Commission (y.c. V/A 1-4) contre...   \n",
       "50  904, vote 1 : Commission contre M-901 + M-904 ...   \n",
       "51  903, vote 3 : Commission (y.c. V/A 1+3) contre...   \n",
       "52  003, vote 5 : Commissions (y.c. V/A 1-4) contr...   \n",
       "53  002, vote 2 : Commissions (y.c. V/A 1-2) contr...   \n",
       "54  802, vote 9 : Commission (1-1-1) contre résult...   \n",
       "55  802, vote 3 : Commission (major.) contre A-802...   \n",
       "56  801, vote 1 : Commission [CE/SR 7] contre A-80...   \n",
       "57  710, al.5, vote 13 : Commission contre résulta...   \n",
       "58  710, al.4, vote 10 : Commission contre résulta...   \n",
       "59  710, al.4, vote 7 : Résultat V/A 6 contre A-71...   \n",
       "\n",
       "                                       meaningYesText  \\\n",
       "0   En l’absence d’un congé parental fédéral, l’Ét...   \n",
       "1   Art. 603 Enfance<br/>\\n<ol><li>L’État et les c...   \n",
       "2   L'État et les communes développent une\\npoliti...   \n",
       "3   L’État prend des mesures propres à lutter cont...   \n",
       "4   1 L’État est doté d’une ou plusieurs autorit...   \n",
       "5                                             (néant)   \n",
       "6   Une ou plusieurs autorités assurent le contrôl...   \n",
       "7                                             (néant)   \n",
       "8                                             (néant)   \n",
       "9   Il est institué un tribunal du droit de la fa...   \n",
       "10  Il est institué pour l’ensemble du canton une...   \n",
       "11  Il est institué une Cour Constitutionnelle ra...   \n",
       "12  La conférence régionale est dirigée par un coo...   \n",
       "13  1 Chaque région dispose d’une conférence ré...   \n",
       "14                     (1 siège par partie du canton)   \n",
       "15  Le Conseil d'Etat est élu selon un scrutin maj...   \n",
       "16   Le Conseil d'État est composé de sept membres.   \n",
       "17  La loi peut fixer une proportion minimale de s...   \n",
       "18  Dès que la population du Haut-Valais tombe au-...   \n",
       "19  (Amendement A-710.26 CSPO)<br/>\\nLa répartiti...   \n",
       "20  La loi instaure des sous-circonscriptions élec...   \n",
       "21  La loi instaure un système de suppléance. Le n...   \n",
       "22  Le Grand Conseil est composé de 130 députées e...   \n",
       "23  <b>Art. 311 Représentation des femmes et des h...   \n",
       "24                                            (néant)   \n",
       "25  La loi ne peut restreindre la titularité des ...   \n",
       "26  Droit de vote et d'éligibilité au plan communa...   \n",
       "27  Le conseil communal se compose de cinq à neuf...   \n",
       "28  Par scrutin populaire, le corps électoral peu...   \n",
       "29  <b>Art. 219 Intégrité et identité numériques<...   \n",
       "30  Toute personne a le droit de vivre dans un env...   \n",
       "31  (alinea 2) L'intérêt supérieur de l'enfant,...   \n",
       "32  Tout être humain a droit à la vie, à la lib...   \n",
       "33  Nul ne doit subir de discrimination du fait no...   \n",
       "34                                            (néant)   \n",
       "35                                            (néant)   \n",
       "36  [L'Etat et les communes] soutiennent les diale...   \n",
       "37  L’État promeut une représentation équilibre...   \n",
       "38                        Les buts de l'Etat sont:...   \n",
       "39  Les buts de l'Etat sont: ... g) la préservatio...   \n",
       "40  En l’absence d’un congé parental fédéral, l’Ét...   \n",
       "41  Art. 603 Enfance<br/>\\n<ol><li>L’État et les c...   \n",
       "42  L'État et les communes développent une\\npoliti...   \n",
       "43  L’État prend des mesures propres à lutter cont...   \n",
       "44  1 L’État est doté d’une ou plusieurs autorit...   \n",
       "45                                            (néant)   \n",
       "46  Une ou plusieurs autorités assurent le contrôl...   \n",
       "47                                            (néant)   \n",
       "48                                            (néant)   \n",
       "49  Il est institué un tribunal du droit de la fa...   \n",
       "50  Il est institué pour l’ensemble du canton une...   \n",
       "51  Il est institué une Cour Constitutionnelle ra...   \n",
       "52  La conférence régionale est dirigée par un coo...   \n",
       "53  1 Chaque région dispose d’une conférence ré...   \n",
       "54                     (1 siège par partie du canton)   \n",
       "55  Le Conseil d'Etat est élu selon un scrutin maj...   \n",
       "56   Le Conseil d'État est composé de sept membres.   \n",
       "57  La loi peut fixer une proportion minimale de s...   \n",
       "58  Dès que la population du Haut-Valais tombe au-...   \n",
       "59  (Amendement A-710.26 CSPO)<br/>\\nLa répartiti...   \n",
       "\n",
       "                                        meaningNoText  \\\n",
       "0                                             (néant)   \n",
       "1                                             (néant)   \n",
       "2                                             (néant)   \n",
       "3                                             (néant)   \n",
       "4   1 <u>Plusieurs</u> autorités assurent en tout...   \n",
       "5   Les organes dirigeants sont désignés par le ...   \n",
       "6                               Une seule autorité...   \n",
       "7   La loi fixe un quotient familial afin d’attén...   \n",
       "8   L'Etat met librement à disposition les jeux d...   \n",
       "9                                            (biffer)   \n",
       "10                                           (biffer)   \n",
       "11                                           (biffer)   \n",
       "12                                           (biffer)   \n",
       "13                                           (biffer)   \n",
       "14                         (pas de garantie de siège)   \n",
       "15  Le Conseil d'Etat est élu selon un scrutin pro...   \n",
       "16  Le Conseil d'État est composé de <s>sept</s>...   \n",
       "17  ... Cette proportion ne peut excéder <s>5%</s>...   \n",
       "18                      (Pas de clause de protection)   \n",
       "19  La répartition des sièges est effectuée en ...   \n",
       "20             (néant = pas de sous-circonscriptions)   \n",
       "21  Le Grand Consei est composé de 130 députées et...   \n",
       "22  Le Grand Conseil est composé de <s>130</s> <u>...   \n",
       "23                                            (néant)   \n",
       "24  L'un des membres du Conseil des Etats est choi...   \n",
       "25  (biffer cet alinéa, autrement dit permettre à ...   \n",
       "26  Droit de vote et d'éligibilité réservé aux per...   \n",
       "27  Le conseil communal se compose de <s>cinq</s> ...   \n",
       "28  Par scrutin populaire, le corps électoral peu...   \n",
       "29                                 (biffer l'article)   \n",
       "30                                 (biffer l'article)   \n",
       "31  (alinea 2) ... ou les procédures qui le conce...   \n",
       "32  ... ainsi qu'à une fin de vie digne <s>libreme...   \n",
       "33  Nul ne doit subir de discrimination du fait no...   \n",
       "34  A intervalles de 25 ans, le Grand Conseil exam...   \n",
       "35  <b>Art 113a (nouveau) Frais de culte </b>\\n<br...   \n",
       "36  [L'Etat et les communes] soutiennent les diale...   \n",
       "37  L’État <s>promeut</s> <u>vise</u> une représ...   \n",
       "38  Les buts de l'Etat sont: ... <u>j) (nouveau) l...   \n",
       "39  Les buts de l'Etat sont: ... g) la préservatio...   \n",
       "40                                            (néant)   \n",
       "41                                            (néant)   \n",
       "42                                            (néant)   \n",
       "43                                            (néant)   \n",
       "44  1 <u>Plusieurs</u> autorités assurent en tout...   \n",
       "45  Les organes dirigeants sont désignés par le ...   \n",
       "46                              Une seule autorité...   \n",
       "47  La loi fixe un quotient familial afin d’attén...   \n",
       "48  L'Etat met librement à disposition les jeux d...   \n",
       "49                                           (biffer)   \n",
       "50                                           (biffer)   \n",
       "51                                           (biffer)   \n",
       "52                                           (biffer)   \n",
       "53                                           (biffer)   \n",
       "54                         (pas de garantie de siège)   \n",
       "55  Le Conseil d'Etat est élu selon un scrutin pro...   \n",
       "56  Le Conseil d'État est composé de <s>sept</s>...   \n",
       "57  ... Cette proportion ne peut excéder <s>5%</s>...   \n",
       "58                      (Pas de clause de protection)   \n",
       "59  La répartition des sièges est effectuée en ...   \n",
       "\n",
       "                         section              name   group Genre    Âge  \\\n",
       "0    1ère lecture - Commission 6  Matteo ABÄCHERLI    CVPO     H  30-45   \n",
       "1    1ère lecture - Commission 6  Matteo ABÄCHERLI    CVPO     H  30-45   \n",
       "2    1ère lecture - Commission 6  Matteo ABÄCHERLI    CVPO     H  30-45   \n",
       "3    1ère lecture - Commission 5  Matteo ABÄCHERLI    CVPO     H  30-45   \n",
       "4    1ère lecture - Commission 4  Matteo ABÄCHERLI    CVPO     H  30-45   \n",
       "5    1ère lecture - Commission 4  Matteo ABÄCHERLI    CVPO     H  30-45   \n",
       "6    1ère lecture - Commission 4  Matteo ABÄCHERLI    CVPO     H  30-45   \n",
       "7    1ère lecture - Commission 4  Matteo ABÄCHERLI    CVPO     H  30-45   \n",
       "8    1ère lecture - Commission 4  Matteo ABÄCHERLI    CVPO     H  30-45   \n",
       "9    1ère lecture - Commission 9  Matteo ABÄCHERLI    CVPO     H  30-45   \n",
       "10   1ère lecture - Commission 9  Matteo ABÄCHERLI    CVPO     H  30-45   \n",
       "11   1ère lecture - Commission 9  Matteo ABÄCHERLI    CVPO     H  30-45   \n",
       "12  1ère lecture - Commission 10  Matteo ABÄCHERLI    CVPO     H  30-45   \n",
       "13  1ère lecture - Commission 10  Matteo ABÄCHERLI    CVPO     H  30-45   \n",
       "14   1ère lecture - Commission 8  Matteo ABÄCHERLI    CVPO     H  30-45   \n",
       "15   1ère lecture - Commission 8  Matteo ABÄCHERLI    CVPO     H  30-45   \n",
       "16   1ère lecture - Commission 8  Matteo ABÄCHERLI    CVPO     H  30-45   \n",
       "17   1ère lecture - Commission 7  Matteo ABÄCHERLI    CVPO     H  30-45   \n",
       "18   1ère lecture - Commission 7  Matteo ABÄCHERLI    CVPO     H  30-45   \n",
       "19   1ère lecture - Commission 7  Matteo ABÄCHERLI    CVPO     H  30-45   \n",
       "20   1ère lecture - Commission 7  Matteo ABÄCHERLI    CVPO     H  30-45   \n",
       "21   1ère lecture - Commission 7  Matteo ABÄCHERLI    CVPO     H  30-45   \n",
       "22   1ère lecture - Commission 7  Matteo ABÄCHERLI    CVPO     H  30-45   \n",
       "23   1ère lecture - Commission 3  Matteo ABÄCHERLI    CVPO     H  30-45   \n",
       "24   1ère lecture - Commission 3  Matteo ABÄCHERLI    CVPO     H  30-45   \n",
       "25   1ère lecture - Commission 3  Matteo ABÄCHERLI    CVPO     H  30-45   \n",
       "26   1ère lecture - Commission 3  Matteo ABÄCHERLI    CVPO     H  30-45   \n",
       "27  1ère lecture - Commission 10  Matteo ABÄCHERLI    CVPO     H  30-45   \n",
       "28  1ère lecture - Commission 10  Matteo ABÄCHERLI    CVPO     H  30-45   \n",
       "29   1ère lecture - Commission 2  Matteo ABÄCHERLI    CVPO     H  30-45   \n",
       "30   1ère lecture - Commission 2  Matteo ABÄCHERLI    CVPO     H  30-45   \n",
       "31   1ère lecture - Commission 2  Matteo ABÄCHERLI    CVPO     H  30-45   \n",
       "32   1ère lecture - Commission 2  Matteo ABÄCHERLI    CVPO     H  30-45   \n",
       "33   1ère lecture - Commission 2  Matteo ABÄCHERLI    CVPO     H  30-45   \n",
       "34   1ère lecture - Commission 1  Matteo ABÄCHERLI    CVPO     H  30-45   \n",
       "35   1ère lecture - Commission 1  Matteo ABÄCHERLI    CVPO     H  30-45   \n",
       "36   1ère lecture - Commission 1  Matteo ABÄCHERLI    CVPO     H  30-45   \n",
       "37   1ère lecture - Commission 1  Matteo ABÄCHERLI    CVPO     H  30-45   \n",
       "38   1ère lecture - Commission 1  Matteo ABÄCHERLI    CVPO     H  30-45   \n",
       "39   1ère lecture - Commission 1  Matteo ABÄCHERLI    CVPO     H  30-45   \n",
       "40   1ère lecture - Commission 6   Claudia ALPIGER  ZUK-VS     F  30-45   \n",
       "41   1ère lecture - Commission 6   Claudia ALPIGER  ZUK-VS     F  30-45   \n",
       "42   1ère lecture - Commission 6   Claudia ALPIGER  ZUK-VS     F  30-45   \n",
       "43   1ère lecture - Commission 5   Claudia ALPIGER  ZUK-VS     F  30-45   \n",
       "44   1ère lecture - Commission 4   Claudia ALPIGER  ZUK-VS     F  30-45   \n",
       "45   1ère lecture - Commission 4   Claudia ALPIGER  ZUK-VS     F  30-45   \n",
       "46   1ère lecture - Commission 4   Claudia ALPIGER  ZUK-VS     F  30-45   \n",
       "47   1ère lecture - Commission 4   Claudia ALPIGER  ZUK-VS     F  30-45   \n",
       "48   1ère lecture - Commission 4   Claudia ALPIGER  ZUK-VS     F  30-45   \n",
       "49   1ère lecture - Commission 9   Claudia ALPIGER  ZUK-VS     F  30-45   \n",
       "50   1ère lecture - Commission 9   Claudia ALPIGER  ZUK-VS     F  30-45   \n",
       "51   1ère lecture - Commission 9   Claudia ALPIGER  ZUK-VS     F  30-45   \n",
       "52  1ère lecture - Commission 10   Claudia ALPIGER  ZUK-VS     F  30-45   \n",
       "53  1ère lecture - Commission 10   Claudia ALPIGER  ZUK-VS     F  30-45   \n",
       "54   1ère lecture - Commission 8   Claudia ALPIGER  ZUK-VS     F  30-45   \n",
       "55   1ère lecture - Commission 8   Claudia ALPIGER  ZUK-VS     F  30-45   \n",
       "56   1ère lecture - Commission 8   Claudia ALPIGER  ZUK-VS     F  30-45   \n",
       "57   1ère lecture - Commission 7   Claudia ALPIGER  ZUK-VS     F  30-45   \n",
       "58   1ère lecture - Commission 7   Claudia ALPIGER  ZUK-VS     F  30-45   \n",
       "59   1ère lecture - Commission 7   Claudia ALPIGER  ZUK-VS     F  30-45   \n",
       "\n",
       "   District  \n",
       "0      Visp  \n",
       "1      Visp  \n",
       "2      Visp  \n",
       "3      Visp  \n",
       "4      Visp  \n",
       "5      Visp  \n",
       "6      Visp  \n",
       "7      Visp  \n",
       "8      Visp  \n",
       "9      Visp  \n",
       "10     Visp  \n",
       "11     Visp  \n",
       "12     Visp  \n",
       "13     Visp  \n",
       "14     Visp  \n",
       "15     Visp  \n",
       "16     Visp  \n",
       "17     Visp  \n",
       "18     Visp  \n",
       "19     Visp  \n",
       "20     Visp  \n",
       "21     Visp  \n",
       "22     Visp  \n",
       "23     Visp  \n",
       "24     Visp  \n",
       "25     Visp  \n",
       "26     Visp  \n",
       "27     Visp  \n",
       "28     Visp  \n",
       "29     Visp  \n",
       "30     Visp  \n",
       "31     Visp  \n",
       "32     Visp  \n",
       "33     Visp  \n",
       "34     Visp  \n",
       "35     Visp  \n",
       "36     Visp  \n",
       "37     Visp  \n",
       "38     Visp  \n",
       "39     Visp  \n",
       "40     Brig  \n",
       "41     Brig  \n",
       "42     Brig  \n",
       "43     Brig  \n",
       "44     Brig  \n",
       "45     Brig  \n",
       "46     Brig  \n",
       "47     Brig  \n",
       "48     Brig  \n",
       "49     Brig  \n",
       "50     Brig  \n",
       "51     Brig  \n",
       "52     Brig  \n",
       "53     Brig  \n",
       "54     Brig  \n",
       "55     Brig  \n",
       "56     Brig  \n",
       "57     Brig  \n",
       "58     Brig  \n",
       "59     Brig  "
      ]
     },
     "execution_count": 126,
     "metadata": {},
     "output_type": "execute_result"
    }
   ],
   "source": [
    "cat_df.head(60)"
   ]
  },
  {
   "cell_type": "code",
   "execution_count": 127,
   "id": "ae2f7cf1",
   "metadata": {},
   "outputs": [],
   "source": [
    "cat_df = cat_df.drop(['label', 'meaningYesText', 'meaningNoText', 'section', 'name'], axis=1)"
   ]
  },
  {
   "cell_type": "code",
   "execution_count": 129,
   "id": "9216ce0c",
   "metadata": {},
   "outputs": [
    {
     "data": {
      "image/png": "[encoded data removed]",
      "text/plain": [
       "<Figure size 432x288 with 1 Axes>"
      ]
     },
     "metadata": {},
     "output_type": "display_data"
    }
   ],
   "source": [
    "labels = cat_df['Âge'].astype('category').cat.categories.tolist()\n",
    "counts = cat_df['Âge'].value_counts()\n",
    "sizes = [counts[var_cat] for var_cat in labels]\n",
    "fig1, ax1 = plt.subplots()\n",
    "ax1.pie(sizes, labels=labels, autopct='%1.1f%%', shadow=True) #autopct is show the % on plot\n",
    "ax1.axis('equal')\n",
    "plt.show()"
   ]
  },
  {
   "cell_type": "code",
   "execution_count": 130,
   "id": "6785359b",
   "metadata": {},
   "outputs": [
    {
     "name": "stderr",
     "output_type": "stream",
     "text": [
      "/home/nico/Anaconda3/lib/python3.8/site-packages/seaborn/_decorators.py:36: FutureWarning:\n",
      "\n",
      "Pass the following variables as keyword args: x, y. From version 0.12, the only valid positional argument will be `data`, and passing other arguments without an explicit keyword will result in an error or misinterpretation.\n",
      "\n"
     ]
    },
    {
     "data": {
      "image/png": "[encoded data removed]",
      "text/plain": [
       "<Figure size 432x288 with 1 Axes>"
      ]
     },
     "metadata": {},
     "output_type": "display_data"
    }
   ],
   "source": [
    "%matplotlib inline\n",
    "import seaborn as sns\n",
    "import matplotlib.pyplot as plt\n",
    "group_count = cat_df['group'].value_counts()\n",
    "sns.set(style=\"darkgrid\")\n",
    "sns.barplot(group_count.index, group_count.values, alpha=0.9)\n",
    "plt.title('Frequency Distribution of Carriers')\n",
    "plt.ylabel('Number of Occurrences', fontsize=12)\n",
    "plt.xlabel('group', fontsize=12)\n",
    "plt.show()"
   ]
  },
  {
   "cell_type": "code",
   "execution_count": 132,
   "id": "ea87ce11",
   "metadata": {},
   "outputs": [],
   "source": [
    "cats = cat_df['group'].astype('category').cat.categories\n",
    "cat_df['group'] = cat_df['group'].astype('category').cat.codes"
   ]
  },
  {
   "cell_type": "code",
   "execution_count": 133,
   "id": "265b8108",
   "metadata": {
    "scrolled": true
   },
   "outputs": [],
   "source": [
    "# we add the vote \n",
    "cat_df['vote'] = merged_df['vote']"
   ]
  },
  {
   "cell_type": "code",
   "execution_count": 64,
   "id": "ae38cfb8",
   "metadata": {
    "scrolled": true
   },
   "outputs": [
    {
     "name": "stdout",
     "output_type": "stream",
     "text": [
      "Epoch 1/50\n"
     ]
    },
    {
     "name": "stderr",
     "output_type": "stream",
     "text": [
      "2022-12-16 16:41:30.063769: W tensorflow/core/framework/op_kernel.cc:1722] OP_REQUIRES failed at cast_op.cc:121 : UNIMPLEMENTED: Cast string to float is not supported\n"
     ]
    },
    {
     "ename": "UnimplementedError",
     "evalue": " Cast string to float is not supported\n\t [[node sequential_3/Cast\n (defined at /home/nico/Anaconda3/lib/python3.8/site-packages/keras/engine/functional.py:671)\n]] [Op:__inference_train_function_461551]\n\nErrors may have originated from an input operation.\nInput Source operations connected to node sequential_3/Cast:\nIn[0] sequential_3/ExpandDims (defined at /home/nico/Anaconda3/lib/python3.8/site-packages/keras/engine/functional.py:655)\n\nOperation defined at: (most recent call last)\n>>>   File \"/home/nico/Anaconda3/lib/python3.8/runpy.py\", line 194, in _run_module_as_main\n>>>     return _run_code(code, main_globals, None,\n>>> \n>>>   File \"/home/nico/Anaconda3/lib/python3.8/runpy.py\", line 87, in _run_code\n>>>     exec(code, run_globals)\n>>> \n>>>   File \"/home/nico/Anaconda3/lib/python3.8/site-packages/ipykernel_launcher.py\", line 16, in <module>\n>>>     app.launch_new_instance()\n>>> \n>>>   File \"/home/nico/Anaconda3/lib/python3.8/site-packages/traitlets/config/application.py\", line 846, in launch_instance\n>>>     app.start()\n>>> \n>>>   File \"/home/nico/Anaconda3/lib/python3.8/site-packages/ipykernel/kernelapp.py\", line 677, in start\n>>>     self.io_loop.start()\n>>> \n>>>   File \"/home/nico/Anaconda3/lib/python3.8/site-packages/tornado/platform/asyncio.py\", line 199, in start\n>>>     self.asyncio_loop.run_forever()\n>>> \n>>>   File \"/home/nico/Anaconda3/lib/python3.8/asyncio/base_events.py\", line 570, in run_forever\n>>>     self._run_once()\n>>> \n>>>   File \"/home/nico/Anaconda3/lib/python3.8/asyncio/base_events.py\", line 1859, in _run_once\n>>>     handle._run()\n>>> \n>>>   File \"/home/nico/Anaconda3/lib/python3.8/asyncio/events.py\", line 81, in _run\n>>>     self._context.run(self._callback, *self._args)\n>>> \n>>>   File \"/home/nico/Anaconda3/lib/python3.8/site-packages/ipykernel/kernelbase.py\", line 457, in dispatch_queue\n>>>     await self.process_one()\n>>> \n>>>   File \"/home/nico/Anaconda3/lib/python3.8/site-packages/ipykernel/kernelbase.py\", line 446, in process_one\n>>>     await dispatch(*args)\n>>> \n>>>   File \"/home/nico/Anaconda3/lib/python3.8/site-packages/ipykernel/kernelbase.py\", line 353, in dispatch_shell\n>>>     await result\n>>> \n>>>   File \"/home/nico/Anaconda3/lib/python3.8/site-packages/ipykernel/kernelbase.py\", line 648, in execute_request\n>>>     reply_content = await reply_content\n>>> \n>>>   File \"/home/nico/Anaconda3/lib/python3.8/site-packages/ipykernel/ipkernel.py\", line 353, in do_execute\n>>>     res = shell.run_cell(code, store_history=store_history, silent=silent)\n>>> \n>>>   File \"/home/nico/Anaconda3/lib/python3.8/site-packages/ipykernel/zmqshell.py\", line 533, in run_cell\n>>>     return super(ZMQInteractiveShell, self).run_cell(*args, **kwargs)\n>>> \n>>>   File \"/home/nico/Anaconda3/lib/python3.8/site-packages/IPython/core/interactiveshell.py\", line 2901, in run_cell\n>>>     result = self._run_cell(\n>>> \n>>>   File \"/home/nico/Anaconda3/lib/python3.8/site-packages/IPython/core/interactiveshell.py\", line 2947, in _run_cell\n>>>     return runner(coro)\n>>> \n>>>   File \"/home/nico/Anaconda3/lib/python3.8/site-packages/IPython/core/async_helpers.py\", line 68, in _pseudo_sync_runner\n>>>     coro.send(None)\n>>> \n>>>   File \"/home/nico/Anaconda3/lib/python3.8/site-packages/IPython/core/interactiveshell.py\", line 3172, in run_cell_async\n>>>     has_raised = await self.run_ast_nodes(code_ast.body, cell_name,\n>>> \n>>>   File \"/home/nico/Anaconda3/lib/python3.8/site-packages/IPython/core/interactiveshell.py\", line 3364, in run_ast_nodes\n>>>     if (await self.run_code(code, result,  async_=asy)):\n>>> \n>>>   File \"/home/nico/Anaconda3/lib/python3.8/site-packages/IPython/core/interactiveshell.py\", line 3444, in run_code\n>>>     exec(code_obj, self.user_global_ns, self.user_ns)\n>>> \n>>>   File \"/tmp/ipykernel_18087/2028623339.py\", line 13, in <module>\n>>>     model.fit(x = cat_df['group'].to_numpy(), y=cat_df['vote'].to_numpy() , epochs = 50, batch_size = 4)\n>>> \n>>>   File \"/home/nico/Anaconda3/lib/python3.8/site-packages/keras/utils/traceback_utils.py\", line 64, in error_handler\n>>>     return fn(*args, **kwargs)\n>>> \n>>>   File \"/home/nico/Anaconda3/lib/python3.8/site-packages/keras/engine/training.py\", line 1216, in fit\n>>>     tmp_logs = self.train_function(iterator)\n>>> \n>>>   File \"/home/nico/Anaconda3/lib/python3.8/site-packages/keras/engine/training.py\", line 878, in train_function\n>>>     return step_function(self, iterator)\n>>> \n>>>   File \"/home/nico/Anaconda3/lib/python3.8/site-packages/keras/engine/training.py\", line 867, in step_function\n>>>     outputs = model.distribute_strategy.run(run_step, args=(data,))\n>>> \n>>>   File \"/home/nico/Anaconda3/lib/python3.8/site-packages/keras/engine/training.py\", line 860, in run_step\n>>>     outputs = model.train_step(data)\n>>> \n>>>   File \"/home/nico/Anaconda3/lib/python3.8/site-packages/keras/engine/training.py\", line 808, in train_step\n>>>     y_pred = self(x, training=True)\n>>> \n>>>   File \"/home/nico/Anaconda3/lib/python3.8/site-packages/keras/utils/traceback_utils.py\", line 64, in error_handler\n>>>     return fn(*args, **kwargs)\n>>> \n>>>   File \"/home/nico/Anaconda3/lib/python3.8/site-packages/keras/engine/base_layer.py\", line 1083, in __call__\n>>>     outputs = call_fn(inputs, *args, **kwargs)\n>>> \n>>>   File \"/home/nico/Anaconda3/lib/python3.8/site-packages/keras/utils/traceback_utils.py\", line 92, in error_handler\n>>>     return fn(*args, **kwargs)\n>>> \n>>>   File \"/home/nico/Anaconda3/lib/python3.8/site-packages/keras/engine/sequential.py\", line 373, in call\n>>>     return super(Sequential, self).call(inputs, training=training, mask=mask)\n>>> \n>>>   File \"/home/nico/Anaconda3/lib/python3.8/site-packages/keras/engine/functional.py\", line 451, in call\n>>>     return self._run_internal_graph(\n>>> \n>>>   File \"/home/nico/Anaconda3/lib/python3.8/site-packages/keras/engine/functional.py\", line 571, in _run_internal_graph\n>>>     y = self._conform_to_reference_input(y, ref_input=x)\n>>> \n>>>   File \"/home/nico/Anaconda3/lib/python3.8/site-packages/keras/engine/functional.py\", line 671, in _conform_to_reference_input\n>>>     tensor = tf.cast(tensor, dtype=ref_input.dtype)\n>>> ",
     "output_type": "error",
     "traceback": [
      "\u001b[0;31m---------------------------------------------------------------------------\u001b[0m",
      "\u001b[0;31mUnimplementedError\u001b[0m                        Traceback (most recent call last)",
      "\u001b[0;32m/tmp/ipykernel_18087/2028623339.py\u001b[0m in \u001b[0;36m<module>\u001b[0;34m\u001b[0m\n\u001b[1;32m     11\u001b[0m \u001b[0mmodel\u001b[0m\u001b[0;34m.\u001b[0m\u001b[0madd\u001b[0m\u001b[0;34m(\u001b[0m\u001b[0mDense\u001b[0m\u001b[0;34m(\u001b[0m\u001b[0;36m1\u001b[0m\u001b[0;34m)\u001b[0m\u001b[0;34m)\u001b[0m\u001b[0;34m\u001b[0m\u001b[0;34m\u001b[0m\u001b[0m\n\u001b[1;32m     12\u001b[0m \u001b[0mmodel\u001b[0m\u001b[0;34m.\u001b[0m\u001b[0mcompile\u001b[0m\u001b[0;34m(\u001b[0m\u001b[0mloss\u001b[0m \u001b[0;34m=\u001b[0m \u001b[0;34m\"mse\"\u001b[0m\u001b[0;34m,\u001b[0m \u001b[0moptimizer\u001b[0m \u001b[0;34m=\u001b[0m \u001b[0;34m\"adam\"\u001b[0m\u001b[0;34m,\u001b[0m \u001b[0mmetrics\u001b[0m\u001b[0;34m=\u001b[0m\u001b[0;34m[\u001b[0m\u001b[0;34m\"accuracy\"\u001b[0m\u001b[0;34m]\u001b[0m\u001b[0;34m)\u001b[0m\u001b[0;34m\u001b[0m\u001b[0;34m\u001b[0m\u001b[0m\n\u001b[0;32m---> 13\u001b[0;31m \u001b[0mmodel\u001b[0m\u001b[0;34m.\u001b[0m\u001b[0mfit\u001b[0m\u001b[0;34m(\u001b[0m\u001b[0mx\u001b[0m \u001b[0;34m=\u001b[0m \u001b[0mcat_df\u001b[0m\u001b[0;34m[\u001b[0m\u001b[0;34m'group'\u001b[0m\u001b[0;34m]\u001b[0m\u001b[0;34m.\u001b[0m\u001b[0mto_numpy\u001b[0m\u001b[0;34m(\u001b[0m\u001b[0;34m)\u001b[0m\u001b[0;34m,\u001b[0m \u001b[0my\u001b[0m\u001b[0;34m=\u001b[0m\u001b[0mcat_df\u001b[0m\u001b[0;34m[\u001b[0m\u001b[0;34m'vote'\u001b[0m\u001b[0;34m]\u001b[0m\u001b[0;34m.\u001b[0m\u001b[0mto_numpy\u001b[0m\u001b[0;34m(\u001b[0m\u001b[0;34m)\u001b[0m \u001b[0;34m,\u001b[0m \u001b[0mepochs\u001b[0m \u001b[0;34m=\u001b[0m \u001b[0;36m50\u001b[0m\u001b[0;34m,\u001b[0m \u001b[0mbatch_size\u001b[0m \u001b[0;34m=\u001b[0m \u001b[0;36m4\u001b[0m\u001b[0;34m)\u001b[0m\u001b[0;34m\u001b[0m\u001b[0;34m\u001b[0m\u001b[0m\n\u001b[0m",
      "\u001b[0;32m~/Anaconda3/lib/python3.8/site-packages/keras/utils/traceback_utils.py\u001b[0m in \u001b[0;36merror_handler\u001b[0;34m(*args, **kwargs)\u001b[0m\n\u001b[1;32m     65\u001b[0m     \u001b[0;32mexcept\u001b[0m \u001b[0mException\u001b[0m \u001b[0;32mas\u001b[0m \u001b[0me\u001b[0m\u001b[0;34m:\u001b[0m  \u001b[0;31m# pylint: disable=broad-except\u001b[0m\u001b[0;34m\u001b[0m\u001b[0;34m\u001b[0m\u001b[0m\n\u001b[1;32m     66\u001b[0m       \u001b[0mfiltered_tb\u001b[0m \u001b[0;34m=\u001b[0m \u001b[0m_process_traceback_frames\u001b[0m\u001b[0;34m(\u001b[0m\u001b[0me\u001b[0m\u001b[0;34m.\u001b[0m\u001b[0m__traceback__\u001b[0m\u001b[0;34m)\u001b[0m\u001b[0;34m\u001b[0m\u001b[0;34m\u001b[0m\u001b[0m\n\u001b[0;32m---> 67\u001b[0;31m       \u001b[0;32mraise\u001b[0m \u001b[0me\u001b[0m\u001b[0;34m.\u001b[0m\u001b[0mwith_traceback\u001b[0m\u001b[0;34m(\u001b[0m\u001b[0mfiltered_tb\u001b[0m\u001b[0;34m)\u001b[0m \u001b[0;32mfrom\u001b[0m \u001b[0;32mNone\u001b[0m\u001b[0;34m\u001b[0m\u001b[0;34m\u001b[0m\u001b[0m\n\u001b[0m\u001b[1;32m     68\u001b[0m     \u001b[0;32mfinally\u001b[0m\u001b[0;34m:\u001b[0m\u001b[0;34m\u001b[0m\u001b[0;34m\u001b[0m\u001b[0m\n\u001b[1;32m     69\u001b[0m       \u001b[0;32mdel\u001b[0m \u001b[0mfiltered_tb\u001b[0m\u001b[0;34m\u001b[0m\u001b[0;34m\u001b[0m\u001b[0m\n",
      "\u001b[0;32m~/Anaconda3/lib/python3.8/site-packages/tensorflow/python/eager/execute.py\u001b[0m in \u001b[0;36mquick_execute\u001b[0;34m(op_name, num_outputs, inputs, attrs, ctx, name)\u001b[0m\n\u001b[1;32m     56\u001b[0m   \u001b[0;32mtry\u001b[0m\u001b[0;34m:\u001b[0m\u001b[0;34m\u001b[0m\u001b[0;34m\u001b[0m\u001b[0m\n\u001b[1;32m     57\u001b[0m     \u001b[0mctx\u001b[0m\u001b[0;34m.\u001b[0m\u001b[0mensure_initialized\u001b[0m\u001b[0;34m(\u001b[0m\u001b[0;34m)\u001b[0m\u001b[0;34m\u001b[0m\u001b[0;34m\u001b[0m\u001b[0m\n\u001b[0;32m---> 58\u001b[0;31m     tensors = pywrap_tfe.TFE_Py_Execute(ctx._handle, device_name, op_name,\n\u001b[0m\u001b[1;32m     59\u001b[0m                                         inputs, attrs, num_outputs)\n\u001b[1;32m     60\u001b[0m   \u001b[0;32mexcept\u001b[0m \u001b[0mcore\u001b[0m\u001b[0;34m.\u001b[0m\u001b[0m_NotOkStatusException\u001b[0m \u001b[0;32mas\u001b[0m \u001b[0me\u001b[0m\u001b[0;34m:\u001b[0m\u001b[0;34m\u001b[0m\u001b[0;34m\u001b[0m\u001b[0m\n",
      "\u001b[0;31mUnimplementedError\u001b[0m:  Cast string to float is not supported\n\t [[node sequential_3/Cast\n (defined at /home/nico/Anaconda3/lib/python3.8/site-packages/keras/engine/functional.py:671)\n]] [Op:__inference_train_function_461551]\n\nErrors may have originated from an input operation.\nInput Source operations connected to node sequential_3/Cast:\nIn[0] sequential_3/ExpandDims (defined at /home/nico/Anaconda3/lib/python3.8/site-packages/keras/engine/functional.py:655)\n\nOperation defined at: (most recent call last)\n>>>   File \"/home/nico/Anaconda3/lib/python3.8/runpy.py\", line 194, in _run_module_as_main\n>>>     return _run_code(code, main_globals, None,\n>>> \n>>>   File \"/home/nico/Anaconda3/lib/python3.8/runpy.py\", line 87, in _run_code\n>>>     exec(code, run_globals)\n>>> \n>>>   File \"/home/nico/Anaconda3/lib/python3.8/site-packages/ipykernel_launcher.py\", line 16, in <module>\n>>>     app.launch_new_instance()\n>>> \n>>>   File \"/home/nico/Anaconda3/lib/python3.8/site-packages/traitlets/config/application.py\", line 846, in launch_instance\n>>>     app.start()\n>>> \n>>>   File \"/home/nico/Anaconda3/lib/python3.8/site-packages/ipykernel/kernelapp.py\", line 677, in start\n>>>     self.io_loop.start()\n>>> \n>>>   File \"/home/nico/Anaconda3/lib/python3.8/site-packages/tornado/platform/asyncio.py\", line 199, in start\n>>>     self.asyncio_loop.run_forever()\n>>> \n>>>   File \"/home/nico/Anaconda3/lib/python3.8/asyncio/base_events.py\", line 570, in run_forever\n>>>     self._run_once()\n>>> \n>>>   File \"/home/nico/Anaconda3/lib/python3.8/asyncio/base_events.py\", line 1859, in _run_once\n>>>     handle._run()\n>>> \n>>>   File \"/home/nico/Anaconda3/lib/python3.8/asyncio/events.py\", line 81, in _run\n>>>     self._context.run(self._callback, *self._args)\n>>> \n>>>   File \"/home/nico/Anaconda3/lib/python3.8/site-packages/ipykernel/kernelbase.py\", line 457, in dispatch_queue\n>>>     await self.process_one()\n>>> \n>>>   File \"/home/nico/Anaconda3/lib/python3.8/site-packages/ipykernel/kernelbase.py\", line 446, in process_one\n>>>     await dispatch(*args)\n>>> \n>>>   File \"/home/nico/Anaconda3/lib/python3.8/site-packages/ipykernel/kernelbase.py\", line 353, in dispatch_shell\n>>>     await result\n>>> \n>>>   File \"/home/nico/Anaconda3/lib/python3.8/site-packages/ipykernel/kernelbase.py\", line 648, in execute_request\n>>>     reply_content = await reply_content\n>>> \n>>>   File \"/home/nico/Anaconda3/lib/python3.8/site-packages/ipykernel/ipkernel.py\", line 353, in do_execute\n>>>     res = shell.run_cell(code, store_history=store_history, silent=silent)\n>>> \n>>>   File \"/home/nico/Anaconda3/lib/python3.8/site-packages/ipykernel/zmqshell.py\", line 533, in run_cell\n>>>     return super(ZMQInteractiveShell, self).run_cell(*args, **kwargs)\n>>> \n>>>   File \"/home/nico/Anaconda3/lib/python3.8/site-packages/IPython/core/interactiveshell.py\", line 2901, in run_cell\n>>>     result = self._run_cell(\n>>> \n>>>   File \"/home/nico/Anaconda3/lib/python3.8/site-packages/IPython/core/interactiveshell.py\", line 2947, in _run_cell\n>>>     return runner(coro)\n>>> \n>>>   File \"/home/nico/Anaconda3/lib/python3.8/site-packages/IPython/core/async_helpers.py\", line 68, in _pseudo_sync_runner\n>>>     coro.send(None)\n>>> \n>>>   File \"/home/nico/Anaconda3/lib/python3.8/site-packages/IPython/core/interactiveshell.py\", line 3172, in run_cell_async\n>>>     has_raised = await self.run_ast_nodes(code_ast.body, cell_name,\n>>> \n>>>   File \"/home/nico/Anaconda3/lib/python3.8/site-packages/IPython/core/interactiveshell.py\", line 3364, in run_ast_nodes\n>>>     if (await self.run_code(code, result,  async_=asy)):\n>>> \n>>>   File \"/home/nico/Anaconda3/lib/python3.8/site-packages/IPython/core/interactiveshell.py\", line 3444, in run_code\n>>>     exec(code_obj, self.user_global_ns, self.user_ns)\n>>> \n>>>   File \"/tmp/ipykernel_18087/2028623339.py\", line 13, in <module>\n>>>     model.fit(x = cat_df['group'].to_numpy(), y=cat_df['vote'].to_numpy() , epochs = 50, batch_size = 4)\n>>> \n>>>   File \"/home/nico/Anaconda3/lib/python3.8/site-packages/keras/utils/traceback_utils.py\", line 64, in error_handler\n>>>     return fn(*args, **kwargs)\n>>> \n>>>   File \"/home/nico/Anaconda3/lib/python3.8/site-packages/keras/engine/training.py\", line 1216, in fit\n>>>     tmp_logs = self.train_function(iterator)\n>>> \n>>>   File \"/home/nico/Anaconda3/lib/python3.8/site-packages/keras/engine/training.py\", line 878, in train_function\n>>>     return step_function(self, iterator)\n>>> \n>>>   File \"/home/nico/Anaconda3/lib/python3.8/site-packages/keras/engine/training.py\", line 867, in step_function\n>>>     outputs = model.distribute_strategy.run(run_step, args=(data,))\n>>> \n>>>   File \"/home/nico/Anaconda3/lib/python3.8/site-packages/keras/engine/training.py\", line 860, in run_step\n>>>     outputs = model.train_step(data)\n>>> \n>>>   File \"/home/nico/Anaconda3/lib/python3.8/site-packages/keras/engine/training.py\", line 808, in train_step\n>>>     y_pred = self(x, training=True)\n>>> \n>>>   File \"/home/nico/Anaconda3/lib/python3.8/site-packages/keras/utils/traceback_utils.py\", line 64, in error_handler\n>>>     return fn(*args, **kwargs)\n>>> \n>>>   File \"/home/nico/Anaconda3/lib/python3.8/site-packages/keras/engine/base_layer.py\", line 1083, in __call__\n>>>     outputs = call_fn(inputs, *args, **kwargs)\n>>> \n>>>   File \"/home/nico/Anaconda3/lib/python3.8/site-packages/keras/utils/traceback_utils.py\", line 92, in error_handler\n>>>     return fn(*args, **kwargs)\n>>> \n>>>   File \"/home/nico/Anaconda3/lib/python3.8/site-packages/keras/engine/sequential.py\", line 373, in call\n>>>     return super(Sequential, self).call(inputs, training=training, mask=mask)\n>>> \n>>>   File \"/home/nico/Anaconda3/lib/python3.8/site-packages/keras/engine/functional.py\", line 451, in call\n>>>     return self._run_internal_graph(\n>>> \n>>>   File \"/home/nico/Anaconda3/lib/python3.8/site-packages/keras/engine/functional.py\", line 571, in _run_internal_graph\n>>>     y = self._conform_to_reference_input(y, ref_input=x)\n>>> \n>>>   File \"/home/nico/Anaconda3/lib/python3.8/site-packages/keras/engine/functional.py\", line 671, in _conform_to_reference_input\n>>>     tensor = tf.cast(tensor, dtype=ref_input.dtype)\n>>> "
     ]
    }
   ],
   "source": [
    "#Jeremy Howard suggests the following solution for choosing embedding sizes:\n",
    "#embedding_size = min(50, m+1/ 2)\n",
    "#District embedding size is 14\n",
    "#Âge embedding size is 4\n",
    "embedding_size_group = 6\n",
    "model = models.Sequential()\n",
    "model.add(Embedding(input_dim = 11, output_dim = embedding_size_group, input_length = 1, name=\"embedding_group\"))\n",
    "model.add(Flatten())\n",
    "model.add(Dense(50, activation=\"relu\"))\n",
    "model.add(Dense(15, activation=\"relu\"))\n",
    "model.add(Dense(1))\n",
    "model.compile(loss = \"mse\", optimizer = \"adam\", metrics=[\"accuracy\"])\n",
    "model.fit(x = cat_df['group'].to_numpy(), y=cat_df['vote'].to_numpy() , epochs = 50, batch_size = 4)"
   ]
  },
  {
   "cell_type": "code",
   "execution_count": 78,
   "id": "bbbfa62a",
   "metadata": {
    "scrolled": true
   },
   "outputs": [
    {
     "data": {
      "text/plain": [
       "[array([[ 0.04590882,  0.01817698, -0.04942869, -0.00771517, -0.00948317,\n",
       "          0.00985175],\n",
       "        [ 0.03765757, -0.00132439,  0.00992979, -0.01745936,  0.02405084,\n",
       "          0.01096417],\n",
       "        [ 0.02278758,  0.00336812,  0.04851407,  0.0040774 ,  0.02813636,\n",
       "          0.0216802 ],\n",
       "        [ 0.01483517, -0.00338583, -0.04319122, -0.02736892, -0.0040449 ,\n",
       "         -0.01326142],\n",
       "        [-0.04795342,  0.01280707, -0.03847943, -0.03172689, -0.04377911,\n",
       "          0.0133188 ],\n",
       "        [-0.01997914, -0.00486749,  0.01177219, -0.01309846, -0.02129172,\n",
       "         -0.02932676],\n",
       "        [ 0.02861904, -0.00645391, -0.04749764,  0.0480577 ,  0.02802658,\n",
       "         -0.04659335],\n",
       "        [-0.03289159,  0.02253436,  0.04718938, -0.02506014, -0.03071566,\n",
       "          0.00928961],\n",
       "        [ 0.03467557,  0.03596827, -0.03086954, -0.01084005, -0.04457164,\n",
       "         -0.02853834],\n",
       "        [-0.02618213, -0.00951364, -0.04042094,  0.04504393, -0.00612718,\n",
       "          0.01147376],\n",
       "        [ 0.03227415,  0.00649881, -0.0305528 , -0.03875917,  0.01924428,\n",
       "         -0.02443728]], dtype=float32)]"
      ]
     },
     "execution_count": 78,
     "metadata": {},
     "output_type": "execute_result"
    }
   ],
   "source": [
    "layer_g = model.get_layer('embedding_group')\n",
    "group_embeddings_df = layer_g.get_weights()\n",
    "group_embeddings_df"
   ]
  },
  {
   "cell_type": "code",
   "execution_count": 91,
   "id": "9b265a01",
   "metadata": {
    "scrolled": true
   },
   "outputs": [
    {
     "data": {
      "text/html": [
       "<div>\n",
       "<style scoped>\n",
       "    .dataframe tbody tr th:only-of-type {\n",
       "        vertical-align: middle;\n",
       "    }\n",
       "\n",
       "    .dataframe tbody tr th {\n",
       "        vertical-align: top;\n",
       "    }\n",
       "\n",
       "    .dataframe thead th {\n",
       "        text-align: right;\n",
       "    }\n",
       "</style>\n",
       "<table border=\"1\" class=\"dataframe\">\n",
       "  <thead>\n",
       "    <tr style=\"text-align: right;\">\n",
       "      <th></th>\n",
       "      <th>group</th>\n",
       "      <th>embedding_1</th>\n",
       "      <th>embedding_2</th>\n",
       "      <th>embedding_3</th>\n",
       "      <th>embedding_4</th>\n",
       "      <th>embedding_5</th>\n",
       "      <th>embedding_6</th>\n",
       "    </tr>\n",
       "  </thead>\n",
       "  <tbody>\n",
       "    <tr>\n",
       "      <th>0</th>\n",
       "      <td>0</td>\n",
       "      <td>0.045909</td>\n",
       "      <td>0.018177</td>\n",
       "      <td>-0.049429</td>\n",
       "      <td>-0.007715</td>\n",
       "      <td>-0.009483</td>\n",
       "      <td>0.009852</td>\n",
       "    </tr>\n",
       "    <tr>\n",
       "      <th>1</th>\n",
       "      <td>1</td>\n",
       "      <td>0.037658</td>\n",
       "      <td>-0.001324</td>\n",
       "      <td>0.009930</td>\n",
       "      <td>-0.017459</td>\n",
       "      <td>0.024051</td>\n",
       "      <td>0.010964</td>\n",
       "    </tr>\n",
       "    <tr>\n",
       "      <th>2</th>\n",
       "      <td>2</td>\n",
       "      <td>0.022788</td>\n",
       "      <td>0.003368</td>\n",
       "      <td>0.048514</td>\n",
       "      <td>0.004077</td>\n",
       "      <td>0.028136</td>\n",
       "      <td>0.021680</td>\n",
       "    </tr>\n",
       "    <tr>\n",
       "      <th>3</th>\n",
       "      <td>3</td>\n",
       "      <td>0.014835</td>\n",
       "      <td>-0.003386</td>\n",
       "      <td>-0.043191</td>\n",
       "      <td>-0.027369</td>\n",
       "      <td>-0.004045</td>\n",
       "      <td>-0.013261</td>\n",
       "    </tr>\n",
       "    <tr>\n",
       "      <th>4</th>\n",
       "      <td>4</td>\n",
       "      <td>-0.047953</td>\n",
       "      <td>0.012807</td>\n",
       "      <td>-0.038479</td>\n",
       "      <td>-0.031727</td>\n",
       "      <td>-0.043779</td>\n",
       "      <td>0.013319</td>\n",
       "    </tr>\n",
       "    <tr>\n",
       "      <th>5</th>\n",
       "      <td>5</td>\n",
       "      <td>-0.019979</td>\n",
       "      <td>-0.004867</td>\n",
       "      <td>0.011772</td>\n",
       "      <td>-0.013098</td>\n",
       "      <td>-0.021292</td>\n",
       "      <td>-0.029327</td>\n",
       "    </tr>\n",
       "    <tr>\n",
       "      <th>6</th>\n",
       "      <td>6</td>\n",
       "      <td>0.028619</td>\n",
       "      <td>-0.006454</td>\n",
       "      <td>-0.047498</td>\n",
       "      <td>0.048058</td>\n",
       "      <td>0.028027</td>\n",
       "      <td>-0.046593</td>\n",
       "    </tr>\n",
       "    <tr>\n",
       "      <th>7</th>\n",
       "      <td>7</td>\n",
       "      <td>-0.032892</td>\n",
       "      <td>0.022534</td>\n",
       "      <td>0.047189</td>\n",
       "      <td>-0.025060</td>\n",
       "      <td>-0.030716</td>\n",
       "      <td>0.009290</td>\n",
       "    </tr>\n",
       "    <tr>\n",
       "      <th>8</th>\n",
       "      <td>8</td>\n",
       "      <td>0.034676</td>\n",
       "      <td>0.035968</td>\n",
       "      <td>-0.030870</td>\n",
       "      <td>-0.010840</td>\n",
       "      <td>-0.044572</td>\n",
       "      <td>-0.028538</td>\n",
       "    </tr>\n",
       "    <tr>\n",
       "      <th>9</th>\n",
       "      <td>9</td>\n",
       "      <td>-0.026182</td>\n",
       "      <td>-0.009514</td>\n",
       "      <td>-0.040421</td>\n",
       "      <td>0.045044</td>\n",
       "      <td>-0.006127</td>\n",
       "      <td>0.011474</td>\n",
       "    </tr>\n",
       "    <tr>\n",
       "      <th>10</th>\n",
       "      <td>10</td>\n",
       "      <td>0.032274</td>\n",
       "      <td>0.006499</td>\n",
       "      <td>-0.030553</td>\n",
       "      <td>-0.038759</td>\n",
       "      <td>0.019244</td>\n",
       "      <td>-0.024437</td>\n",
       "    </tr>\n",
       "  </tbody>\n",
       "</table>\n",
       "</div>"
      ],
      "text/plain": [
       "    group  embedding_1  embedding_2  embedding_3  embedding_4  embedding_5  \\\n",
       "0       0     0.045909     0.018177    -0.049429    -0.007715    -0.009483   \n",
       "1       1     0.037658    -0.001324     0.009930    -0.017459     0.024051   \n",
       "2       2     0.022788     0.003368     0.048514     0.004077     0.028136   \n",
       "3       3     0.014835    -0.003386    -0.043191    -0.027369    -0.004045   \n",
       "4       4    -0.047953     0.012807    -0.038479    -0.031727    -0.043779   \n",
       "5       5    -0.019979    -0.004867     0.011772    -0.013098    -0.021292   \n",
       "6       6     0.028619    -0.006454    -0.047498     0.048058     0.028027   \n",
       "7       7    -0.032892     0.022534     0.047189    -0.025060    -0.030716   \n",
       "8       8     0.034676     0.035968    -0.030870    -0.010840    -0.044572   \n",
       "9       9    -0.026182    -0.009514    -0.040421     0.045044    -0.006127   \n",
       "10     10     0.032274     0.006499    -0.030553    -0.038759     0.019244   \n",
       "\n",
       "    embedding_6  \n",
       "0      0.009852  \n",
       "1      0.010964  \n",
       "2      0.021680  \n",
       "3     -0.013261  \n",
       "4      0.013319  \n",
       "5     -0.029327  \n",
       "6     -0.046593  \n",
       "7      0.009290  \n",
       "8     -0.028538  \n",
       "9      0.011474  \n",
       "10    -0.024437  "
      ]
     },
     "execution_count": 91,
     "metadata": {},
     "output_type": "execute_result"
    }
   ],
   "source": [
    "group_embeddings_df = pd.DataFrame(group_embeddings_df[0])\n",
    "group_embeddings_df = group_embeddings_df.reset_index()\n",
    "group_embeddings_df.columns = ['group', 'embedding_1', 'embedding_2', 'embedding_3', 'embedding_4', 'embedding_5', 'embedding_6']\n",
    "group_embeddings_df"
   ]
  },
  {
   "cell_type": "markdown",
   "id": "c45631c2",
   "metadata": {},
   "source": [
    "### Embedding District"
   ]
  },
  {
   "cell_type": "code",
   "execution_count": 79,
   "id": "05e2a455",
   "metadata": {},
   "outputs": [],
   "source": [
    "cats_district = cat_df['District'].astype('category').cat.categories\n",
    "cat_df['District'] = cat_df['District'].astype('category').cat.codes"
   ]
  },
  {
   "cell_type": "code",
   "execution_count": 80,
   "id": "4946eb2d",
   "metadata": {},
   "outputs": [
    {
     "data": {
      "text/html": [
       "<div>\n",
       "<style scoped>\n",
       "    .dataframe tbody tr th:only-of-type {\n",
       "        vertical-align: middle;\n",
       "    }\n",
       "\n",
       "    .dataframe tbody tr th {\n",
       "        vertical-align: top;\n",
       "    }\n",
       "\n",
       "    .dataframe thead th {\n",
       "        text-align: right;\n",
       "    }\n",
       "</style>\n",
       "<table border=\"1\" class=\"dataframe\">\n",
       "  <thead>\n",
       "    <tr style=\"text-align: right;\">\n",
       "      <th></th>\n",
       "      <th>group</th>\n",
       "      <th>Genre</th>\n",
       "      <th>Âge</th>\n",
       "      <th>District</th>\n",
       "      <th>vote</th>\n",
       "    </tr>\n",
       "  </thead>\n",
       "  <tbody>\n",
       "    <tr>\n",
       "      <th>0</th>\n",
       "      <td>3</td>\n",
       "      <td>H</td>\n",
       "      <td>30-45</td>\n",
       "      <td>11</td>\n",
       "      <td>-1.0</td>\n",
       "    </tr>\n",
       "    <tr>\n",
       "      <th>1</th>\n",
       "      <td>3</td>\n",
       "      <td>H</td>\n",
       "      <td>30-45</td>\n",
       "      <td>11</td>\n",
       "      <td>1.0</td>\n",
       "    </tr>\n",
       "    <tr>\n",
       "      <th>2</th>\n",
       "      <td>3</td>\n",
       "      <td>H</td>\n",
       "      <td>30-45</td>\n",
       "      <td>11</td>\n",
       "      <td>1.0</td>\n",
       "    </tr>\n",
       "    <tr>\n",
       "      <th>3</th>\n",
       "      <td>3</td>\n",
       "      <td>H</td>\n",
       "      <td>30-45</td>\n",
       "      <td>11</td>\n",
       "      <td>1.0</td>\n",
       "    </tr>\n",
       "    <tr>\n",
       "      <th>4</th>\n",
       "      <td>3</td>\n",
       "      <td>H</td>\n",
       "      <td>30-45</td>\n",
       "      <td>11</td>\n",
       "      <td>1.0</td>\n",
       "    </tr>\n",
       "  </tbody>\n",
       "</table>\n",
       "</div>"
      ],
      "text/plain": [
       "   group Genre    Âge  District  vote\n",
       "0      3     H  30-45        11  -1.0\n",
       "1      3     H  30-45        11   1.0\n",
       "2      3     H  30-45        11   1.0\n",
       "3      3     H  30-45        11   1.0\n",
       "4      3     H  30-45        11   1.0"
      ]
     },
     "execution_count": 80,
     "metadata": {},
     "output_type": "execute_result"
    }
   ],
   "source": [
    "cat_df.head()"
   ]
  },
  {
   "cell_type": "code",
   "execution_count": 82,
   "id": "13495af7",
   "metadata": {},
   "outputs": [
    {
     "name": "stdout",
     "output_type": "stream",
     "text": [
      "Index(['Brig', 'Conthey', 'Entremont', 'Goms', 'Hérens', 'Leuk', 'Martigny',\n",
      "       'Monthey', 'Sierre', 'Sion', 'St-Maurice', 'Visp', 'Westlich Raron',\n",
      "       'Östlich Raron'],\n",
      "      dtype='object')\n"
     ]
    }
   ],
   "source": [
    "print(cats_district)"
   ]
  },
  {
   "cell_type": "code",
   "execution_count": 84,
   "id": "d35b8148",
   "metadata": {
    "scrolled": true
   },
   "outputs": [
    {
     "name": "stdout",
     "output_type": "stream",
     "text": [
      "Epoch 1/50\n",
      "1147/1147 [==============================] - 2s 2ms/step - loss: 0.9669 - accuracy: 0.0000e+00\n",
      "Epoch 2/50\n",
      "1147/1147 [==============================] - 2s 2ms/step - loss: 0.9635 - accuracy: 0.0000e+00\n",
      "Epoch 3/50\n",
      "1147/1147 [==============================] - 2s 2ms/step - loss: 0.9617 - accuracy: 0.0000e+00\n",
      "Epoch 4/50\n",
      "1147/1147 [==============================] - 2s 2ms/step - loss: 0.9612 - accuracy: 4.3592e-04\n",
      "Epoch 5/50\n",
      "1147/1147 [==============================] - 2s 2ms/step - loss: 0.9594 - accuracy: 4.3592e-04\n",
      "Epoch 6/50\n",
      "1147/1147 [==============================] - 2s 2ms/step - loss: 0.9587 - accuracy: 0.0000e+00\n",
      "Epoch 7/50\n",
      "1147/1147 [==============================] - 2s 2ms/step - loss: 0.9600 - accuracy: 0.0000e+00\n",
      "Epoch 8/50\n",
      "1147/1147 [==============================] - 2s 2ms/step - loss: 0.9599 - accuracy: 0.0000e+00\n",
      "Epoch 9/50\n",
      "1147/1147 [==============================] - 2s 2ms/step - loss: 0.9595 - accuracy: 0.0000e+00\n",
      "Epoch 10/50\n",
      "1147/1147 [==============================] - 2s 2ms/step - loss: 0.9589 - accuracy: 0.0000e+00\n",
      "Epoch 11/50\n",
      "1147/1147 [==============================] - 2s 2ms/step - loss: 0.9599 - accuracy: 0.0000e+00\n",
      "Epoch 12/50\n",
      "1147/1147 [==============================] - 2s 2ms/step - loss: 0.9581 - accuracy: 0.0000e+00\n",
      "Epoch 13/50\n",
      "1147/1147 [==============================] - 2s 2ms/step - loss: 0.9591 - accuracy: 0.0000e+00\n",
      "Epoch 14/50\n",
      "1147/1147 [==============================] - 2s 2ms/step - loss: 0.9589 - accuracy: 0.0015\n",
      "Epoch 15/50\n",
      "1147/1147 [==============================] - 2s 2ms/step - loss: 0.9578 - accuracy: 0.0026\n",
      "Epoch 16/50\n",
      "1147/1147 [==============================] - 2s 2ms/step - loss: 0.9585 - accuracy: 6.5388e-04\n",
      "Epoch 17/50\n",
      "1147/1147 [==============================] - 2s 2ms/step - loss: 0.9583 - accuracy: 6.5388e-04\n",
      "Epoch 18/50\n",
      "1147/1147 [==============================] - 2s 2ms/step - loss: 0.9588 - accuracy: 0.0000e+00\n",
      "Epoch 19/50\n",
      "1147/1147 [==============================] - 2s 2ms/step - loss: 0.9582 - accuracy: 0.0000e+00\n",
      "Epoch 20/50\n",
      "1147/1147 [==============================] - 2s 2ms/step - loss: 0.9580 - accuracy: 0.0000e+00\n",
      "Epoch 21/50\n",
      "1147/1147 [==============================] - 2s 2ms/step - loss: 0.9580 - accuracy: 0.0000e+00\n",
      "Epoch 22/50\n",
      "1147/1147 [==============================] - 2s 2ms/step - loss: 0.9580 - accuracy: 0.0028\n",
      "Epoch 23/50\n",
      "1147/1147 [==============================] - 2s 2ms/step - loss: 0.9578 - accuracy: 0.0000e+00\n",
      "Epoch 24/50\n",
      "1147/1147 [==============================] - 2s 2ms/step - loss: 0.9575 - accuracy: 0.0000e+00\n",
      "Epoch 25/50\n",
      "1147/1147 [==============================] - 2s 2ms/step - loss: 0.9580 - accuracy: 0.0046\n",
      "Epoch 26/50\n",
      "1147/1147 [==============================] - 2s 2ms/step - loss: 0.9581 - accuracy: 0.0000e+00\n",
      "Epoch 27/50\n",
      "1147/1147 [==============================] - 2s 2ms/step - loss: 0.9579 - accuracy: 8.7184e-04\n",
      "Epoch 28/50\n",
      "1147/1147 [==============================] - 2s 2ms/step - loss: 0.9578 - accuracy: 0.0000e+00\n",
      "Epoch 29/50\n",
      "1147/1147 [==============================] - 2s 2ms/step - loss: 0.9572 - accuracy: 0.0000e+00\n",
      "Epoch 30/50\n",
      "1147/1147 [==============================] - 2s 2ms/step - loss: 0.9574 - accuracy: 0.0011\n",
      "Epoch 31/50\n",
      "1147/1147 [==============================] - 2s 2ms/step - loss: 0.9582 - accuracy: 0.0028\n",
      "Epoch 32/50\n",
      "1147/1147 [==============================] - 2s 2ms/step - loss: 0.9577 - accuracy: 0.0000e+00\n",
      "Epoch 33/50\n",
      "1147/1147 [==============================] - 2s 2ms/step - loss: 0.9570 - accuracy: 0.0000e+00\n",
      "Epoch 34/50\n",
      "1147/1147 [==============================] - 2s 2ms/step - loss: 0.9580 - accuracy: 0.0000e+00\n",
      "Epoch 35/50\n",
      "1147/1147 [==============================] - 2s 2ms/step - loss: 0.9582 - accuracy: 0.0000e+00\n",
      "Epoch 36/50\n",
      "1147/1147 [==============================] - 2s 2ms/step - loss: 0.9572 - accuracy: 0.0000e+00\n",
      "Epoch 37/50\n",
      "1147/1147 [==============================] - 2s 2ms/step - loss: 0.9578 - accuracy: 0.0000e+00\n",
      "Epoch 38/50\n",
      "1147/1147 [==============================] - 2s 2ms/step - loss: 0.9579 - accuracy: 8.7184e-04\n",
      "Epoch 39/50\n",
      "1147/1147 [==============================] - 2s 2ms/step - loss: 0.9579 - accuracy: 0.0000e+00\n",
      "Epoch 40/50\n",
      "1147/1147 [==============================] - 2s 2ms/step - loss: 0.9579 - accuracy: 8.7184e-04\n",
      "Epoch 41/50\n",
      "1147/1147 [==============================] - 2s 2ms/step - loss: 0.9577 - accuracy: 0.0000e+00\n",
      "Epoch 42/50\n",
      "1147/1147 [==============================] - 2s 2ms/step - loss: 0.9578 - accuracy: 0.0011\n",
      "Epoch 43/50\n",
      "1147/1147 [==============================] - 2s 2ms/step - loss: 0.9576 - accuracy: 0.0000e+00\n",
      "Epoch 44/50\n",
      "1147/1147 [==============================] - 2s 2ms/step - loss: 0.9579 - accuracy: 0.0000e+00\n",
      "Epoch 45/50\n",
      "1147/1147 [==============================] - 2s 2ms/step - loss: 0.9579 - accuracy: 0.0000e+00\n",
      "Epoch 46/50\n",
      "1147/1147 [==============================] - 2s 2ms/step - loss: 0.9580 - accuracy: 0.0000e+00\n",
      "Epoch 47/50\n",
      "1147/1147 [==============================] - 2s 2ms/step - loss: 0.9581 - accuracy: 0.0000e+00\n",
      "Epoch 48/50\n",
      "1147/1147 [==============================] - 2s 2ms/step - loss: 0.9576 - accuracy: 0.0000e+00\n",
      "Epoch 49/50\n",
      "1147/1147 [==============================] - 2s 2ms/step - loss: 0.9580 - accuracy: 0.0000e+00\n",
      "Epoch 50/50\n",
      "1147/1147 [==============================] - 2s 2ms/step - loss: 0.9578 - accuracy: 0.0000e+00\n"
     ]
    },
    {
     "data": {
      "text/plain": [
       "<keras.callbacks.History at 0x7fd6b6b0b430>"
      ]
     },
     "execution_count": 84,
     "metadata": {},
     "output_type": "execute_result"
    }
   ],
   "source": [
    "#Jeremy Howard suggests the following solution for choosing embedding sizes:\n",
    "#embedding_size = min(50, m+1/ 2)\n",
    "#District embedding size is 14\n",
    "#Âge embedding size is 4\n",
    "embedding_size_group = 8\n",
    "model = models.Sequential()\n",
    "model.add(Embedding(input_dim = 14, output_dim = embedding_size_group, input_length = 1, name=\"embedding_district\"))\n",
    "model.add(Flatten())\n",
    "model.add(Dense(50, activation=\"relu\"))\n",
    "model.add(Dense(15, activation=\"relu\"))\n",
    "model.add(Dense(1))\n",
    "model.compile(loss = \"mse\", optimizer = \"adam\", metrics=[\"accuracy\"])\n",
    "model.fit(x = cat_df['District'].to_numpy(), y=cat_df['vote'].to_numpy() , epochs = 50, batch_size = 4)"
   ]
  },
  {
   "cell_type": "code",
   "execution_count": 96,
   "id": "974a45b3",
   "metadata": {
    "scrolled": true
   },
   "outputs": [
    {
     "data": {
      "text/plain": [
       "[array([[-0.14013001, -0.36076626, -0.02697413,  0.09271266, -0.20191507,\n",
       "          0.21977673, -0.11058538,  0.10564376],\n",
       "        [ 0.12592769,  0.00954027, -0.07583253,  0.02519361, -0.01448654,\n",
       "         -0.07750823,  0.06108231,  0.08620147],\n",
       "        [-0.00565413, -0.00407473, -0.04394829, -0.01510578,  0.07864837,\n",
       "          0.0280621 ,  0.07336232,  0.1539389 ],\n",
       "        [ 0.04763884,  0.11348504,  0.2545225 , -0.195798  ,  0.18484837,\n",
       "          0.3016173 , -0.35258266, -0.08225628],\n",
       "        [-0.22748151, -0.18925129, -0.01128687,  0.06354626, -0.03455193,\n",
       "          0.15190811, -0.0351278 ,  0.01102101],\n",
       "        [-0.01440451, -0.06372103,  0.1048869 , -0.133494  ,  0.21694478,\n",
       "          0.12124292, -0.20820023, -0.12047825],\n",
       "        [ 0.15142307,  0.10554999, -0.09402361,  0.02969757,  0.02290904,\n",
       "         -0.1380912 ,  0.05433854,  0.05935513],\n",
       "        [ 0.12387476,  0.10011652, -0.02512798,  0.1137557 , -0.10345107,\n",
       "         -0.13317063,  0.0419168 ,  0.02445796],\n",
       "        [ 0.01307107,  0.06389136,  0.00814919,  0.05665248, -0.11309422,\n",
       "         -0.18445951,  0.04705138,  0.00811437],\n",
       "        [-0.02253948, -0.02820052,  0.03012758, -0.01773131,  0.0128232 ,\n",
       "         -0.02945511, -0.0393973 ,  0.01188127],\n",
       "        [-0.3831541 ,  0.44595072, -0.17806435,  0.19917902, -0.40103263,\n",
       "         -0.52270985,  0.2966091 ,  0.28807604],\n",
       "        [ 0.01959199,  0.05995663,  0.1532314 , -0.17322235,  0.15273167,\n",
       "          0.2315231 , -0.3026552 , -0.20083402],\n",
       "        [-0.01340022,  0.0766235 ,  0.19596788, -0.10675247,  0.11223097,\n",
       "          0.19837593, -0.21375616, -0.10078739],\n",
       "        [ 0.0997285 , -0.00500039,  0.15827397, -0.18203613,  0.21698   ,\n",
       "          0.11631719, -0.15689898, -0.09513563]], dtype=float32)]"
      ]
     },
     "execution_count": 96,
     "metadata": {},
     "output_type": "execute_result"
    }
   ],
   "source": [
    "layer_d = model.get_layer('embedding_district')\n",
    "district_embeddings_df = layer_d.get_weights()\n",
    "district_embeddings_df"
   ]
  },
  {
   "cell_type": "code",
   "execution_count": 97,
   "id": "da74a9dc",
   "metadata": {
    "scrolled": false
   },
   "outputs": [
    {
     "data": {
      "text/html": [
       "<div>\n",
       "<style scoped>\n",
       "    .dataframe tbody tr th:only-of-type {\n",
       "        vertical-align: middle;\n",
       "    }\n",
       "\n",
       "    .dataframe tbody tr th {\n",
       "        vertical-align: top;\n",
       "    }\n",
       "\n",
       "    .dataframe thead th {\n",
       "        text-align: right;\n",
       "    }\n",
       "</style>\n",
       "<table border=\"1\" class=\"dataframe\">\n",
       "  <thead>\n",
       "    <tr style=\"text-align: right;\">\n",
       "      <th></th>\n",
       "      <th>District</th>\n",
       "      <th>embedding_1</th>\n",
       "      <th>embedding_2</th>\n",
       "      <th>embedding_3</th>\n",
       "      <th>embedding_4</th>\n",
       "      <th>embedding_5</th>\n",
       "      <th>embedding_6</th>\n",
       "      <th>embedding_7</th>\n",
       "      <th>embedding_8</th>\n",
       "    </tr>\n",
       "  </thead>\n",
       "  <tbody>\n",
       "    <tr>\n",
       "      <th>0</th>\n",
       "      <td>0</td>\n",
       "      <td>-0.140130</td>\n",
       "      <td>-0.360766</td>\n",
       "      <td>-0.026974</td>\n",
       "      <td>0.092713</td>\n",
       "      <td>-0.201915</td>\n",
       "      <td>0.219777</td>\n",
       "      <td>-0.110585</td>\n",
       "      <td>0.105644</td>\n",
       "    </tr>\n",
       "    <tr>\n",
       "      <th>1</th>\n",
       "      <td>1</td>\n",
       "      <td>0.125928</td>\n",
       "      <td>0.009540</td>\n",
       "      <td>-0.075833</td>\n",
       "      <td>0.025194</td>\n",
       "      <td>-0.014487</td>\n",
       "      <td>-0.077508</td>\n",
       "      <td>0.061082</td>\n",
       "      <td>0.086201</td>\n",
       "    </tr>\n",
       "    <tr>\n",
       "      <th>2</th>\n",
       "      <td>2</td>\n",
       "      <td>-0.005654</td>\n",
       "      <td>-0.004075</td>\n",
       "      <td>-0.043948</td>\n",
       "      <td>-0.015106</td>\n",
       "      <td>0.078648</td>\n",
       "      <td>0.028062</td>\n",
       "      <td>0.073362</td>\n",
       "      <td>0.153939</td>\n",
       "    </tr>\n",
       "    <tr>\n",
       "      <th>3</th>\n",
       "      <td>3</td>\n",
       "      <td>0.047639</td>\n",
       "      <td>0.113485</td>\n",
       "      <td>0.254523</td>\n",
       "      <td>-0.195798</td>\n",
       "      <td>0.184848</td>\n",
       "      <td>0.301617</td>\n",
       "      <td>-0.352583</td>\n",
       "      <td>-0.082256</td>\n",
       "    </tr>\n",
       "    <tr>\n",
       "      <th>4</th>\n",
       "      <td>4</td>\n",
       "      <td>-0.227482</td>\n",
       "      <td>-0.189251</td>\n",
       "      <td>-0.011287</td>\n",
       "      <td>0.063546</td>\n",
       "      <td>-0.034552</td>\n",
       "      <td>0.151908</td>\n",
       "      <td>-0.035128</td>\n",
       "      <td>0.011021</td>\n",
       "    </tr>\n",
       "    <tr>\n",
       "      <th>5</th>\n",
       "      <td>5</td>\n",
       "      <td>-0.014405</td>\n",
       "      <td>-0.063721</td>\n",
       "      <td>0.104887</td>\n",
       "      <td>-0.133494</td>\n",
       "      <td>0.216945</td>\n",
       "      <td>0.121243</td>\n",
       "      <td>-0.208200</td>\n",
       "      <td>-0.120478</td>\n",
       "    </tr>\n",
       "    <tr>\n",
       "      <th>6</th>\n",
       "      <td>6</td>\n",
       "      <td>0.151423</td>\n",
       "      <td>0.105550</td>\n",
       "      <td>-0.094024</td>\n",
       "      <td>0.029698</td>\n",
       "      <td>0.022909</td>\n",
       "      <td>-0.138091</td>\n",
       "      <td>0.054339</td>\n",
       "      <td>0.059355</td>\n",
       "    </tr>\n",
       "    <tr>\n",
       "      <th>7</th>\n",
       "      <td>7</td>\n",
       "      <td>0.123875</td>\n",
       "      <td>0.100117</td>\n",
       "      <td>-0.025128</td>\n",
       "      <td>0.113756</td>\n",
       "      <td>-0.103451</td>\n",
       "      <td>-0.133171</td>\n",
       "      <td>0.041917</td>\n",
       "      <td>0.024458</td>\n",
       "    </tr>\n",
       "    <tr>\n",
       "      <th>8</th>\n",
       "      <td>8</td>\n",
       "      <td>0.013071</td>\n",
       "      <td>0.063891</td>\n",
       "      <td>0.008149</td>\n",
       "      <td>0.056652</td>\n",
       "      <td>-0.113094</td>\n",
       "      <td>-0.184460</td>\n",
       "      <td>0.047051</td>\n",
       "      <td>0.008114</td>\n",
       "    </tr>\n",
       "    <tr>\n",
       "      <th>9</th>\n",
       "      <td>9</td>\n",
       "      <td>-0.022539</td>\n",
       "      <td>-0.028201</td>\n",
       "      <td>0.030128</td>\n",
       "      <td>-0.017731</td>\n",
       "      <td>0.012823</td>\n",
       "      <td>-0.029455</td>\n",
       "      <td>-0.039397</td>\n",
       "      <td>0.011881</td>\n",
       "    </tr>\n",
       "    <tr>\n",
       "      <th>10</th>\n",
       "      <td>10</td>\n",
       "      <td>-0.383154</td>\n",
       "      <td>0.445951</td>\n",
       "      <td>-0.178064</td>\n",
       "      <td>0.199179</td>\n",
       "      <td>-0.401033</td>\n",
       "      <td>-0.522710</td>\n",
       "      <td>0.296609</td>\n",
       "      <td>0.288076</td>\n",
       "    </tr>\n",
       "    <tr>\n",
       "      <th>11</th>\n",
       "      <td>11</td>\n",
       "      <td>0.019592</td>\n",
       "      <td>0.059957</td>\n",
       "      <td>0.153231</td>\n",
       "      <td>-0.173222</td>\n",
       "      <td>0.152732</td>\n",
       "      <td>0.231523</td>\n",
       "      <td>-0.302655</td>\n",
       "      <td>-0.200834</td>\n",
       "    </tr>\n",
       "    <tr>\n",
       "      <th>12</th>\n",
       "      <td>12</td>\n",
       "      <td>-0.013400</td>\n",
       "      <td>0.076623</td>\n",
       "      <td>0.195968</td>\n",
       "      <td>-0.106752</td>\n",
       "      <td>0.112231</td>\n",
       "      <td>0.198376</td>\n",
       "      <td>-0.213756</td>\n",
       "      <td>-0.100787</td>\n",
       "    </tr>\n",
       "    <tr>\n",
       "      <th>13</th>\n",
       "      <td>13</td>\n",
       "      <td>0.099729</td>\n",
       "      <td>-0.005000</td>\n",
       "      <td>0.158274</td>\n",
       "      <td>-0.182036</td>\n",
       "      <td>0.216980</td>\n",
       "      <td>0.116317</td>\n",
       "      <td>-0.156899</td>\n",
       "      <td>-0.095136</td>\n",
       "    </tr>\n",
       "  </tbody>\n",
       "</table>\n",
       "</div>"
      ],
      "text/plain": [
       "    District  embedding_1  embedding_2  embedding_3  embedding_4  embedding_5  \\\n",
       "0          0    -0.140130    -0.360766    -0.026974     0.092713    -0.201915   \n",
       "1          1     0.125928     0.009540    -0.075833     0.025194    -0.014487   \n",
       "2          2    -0.005654    -0.004075    -0.043948    -0.015106     0.078648   \n",
       "3          3     0.047639     0.113485     0.254523    -0.195798     0.184848   \n",
       "4          4    -0.227482    -0.189251    -0.011287     0.063546    -0.034552   \n",
       "5          5    -0.014405    -0.063721     0.104887    -0.133494     0.216945   \n",
       "6          6     0.151423     0.105550    -0.094024     0.029698     0.022909   \n",
       "7          7     0.123875     0.100117    -0.025128     0.113756    -0.103451   \n",
       "8          8     0.013071     0.063891     0.008149     0.056652    -0.113094   \n",
       "9          9    -0.022539    -0.028201     0.030128    -0.017731     0.012823   \n",
       "10        10    -0.383154     0.445951    -0.178064     0.199179    -0.401033   \n",
       "11        11     0.019592     0.059957     0.153231    -0.173222     0.152732   \n",
       "12        12    -0.013400     0.076623     0.195968    -0.106752     0.112231   \n",
       "13        13     0.099729    -0.005000     0.158274    -0.182036     0.216980   \n",
       "\n",
       "    embedding_6  embedding_7  embedding_8  \n",
       "0      0.219777    -0.110585     0.105644  \n",
       "1     -0.077508     0.061082     0.086201  \n",
       "2      0.028062     0.073362     0.153939  \n",
       "3      0.301617    -0.352583    -0.082256  \n",
       "4      0.151908    -0.035128     0.011021  \n",
       "5      0.121243    -0.208200    -0.120478  \n",
       "6     -0.138091     0.054339     0.059355  \n",
       "7     -0.133171     0.041917     0.024458  \n",
       "8     -0.184460     0.047051     0.008114  \n",
       "9     -0.029455    -0.039397     0.011881  \n",
       "10    -0.522710     0.296609     0.288076  \n",
       "11     0.231523    -0.302655    -0.200834  \n",
       "12     0.198376    -0.213756    -0.100787  \n",
       "13     0.116317    -0.156899    -0.095136  "
      ]
     },
     "execution_count": 97,
     "metadata": {},
     "output_type": "execute_result"
    }
   ],
   "source": [
    "district_embeddings_df = pd.DataFrame(district_embeddings_df[0])\n",
    "district_embeddings_df = district_embeddings_df.reset_index()\n",
    "district_embeddings_df.columns = ['District', 'embedding_1', 'embedding_2', 'embedding_3', 'embedding_4', 'embedding_5', 'embedding_6', 'embedding_7', 'embedding_8']\n",
    "district_embeddings_df"
   ]
  },
  {
   "cell_type": "markdown",
   "id": "bb53b9e8",
   "metadata": {},
   "source": [
    "### Label genre and age"
   ]
  },
  {
   "cell_type": "code",
   "execution_count": 87,
   "id": "285942a8",
   "metadata": {},
   "outputs": [
    {
     "data": {
      "text/html": [
       "<div>\n",
       "<style scoped>\n",
       "    .dataframe tbody tr th:only-of-type {\n",
       "        vertical-align: middle;\n",
       "    }\n",
       "\n",
       "    .dataframe tbody tr th {\n",
       "        vertical-align: top;\n",
       "    }\n",
       "\n",
       "    .dataframe thead th {\n",
       "        text-align: right;\n",
       "    }\n",
       "</style>\n",
       "<table border=\"1\" class=\"dataframe\">\n",
       "  <thead>\n",
       "    <tr style=\"text-align: right;\">\n",
       "      <th></th>\n",
       "      <th>group</th>\n",
       "      <th>Genre</th>\n",
       "      <th>Âge</th>\n",
       "      <th>District</th>\n",
       "      <th>vote</th>\n",
       "    </tr>\n",
       "  </thead>\n",
       "  <tbody>\n",
       "    <tr>\n",
       "      <th>0</th>\n",
       "      <td>3</td>\n",
       "      <td>1</td>\n",
       "      <td>30-45</td>\n",
       "      <td>11</td>\n",
       "      <td>-1.0</td>\n",
       "    </tr>\n",
       "    <tr>\n",
       "      <th>1</th>\n",
       "      <td>3</td>\n",
       "      <td>1</td>\n",
       "      <td>30-45</td>\n",
       "      <td>11</td>\n",
       "      <td>1.0</td>\n",
       "    </tr>\n",
       "    <tr>\n",
       "      <th>2</th>\n",
       "      <td>3</td>\n",
       "      <td>1</td>\n",
       "      <td>30-45</td>\n",
       "      <td>11</td>\n",
       "      <td>1.0</td>\n",
       "    </tr>\n",
       "    <tr>\n",
       "      <th>3</th>\n",
       "      <td>3</td>\n",
       "      <td>1</td>\n",
       "      <td>30-45</td>\n",
       "      <td>11</td>\n",
       "      <td>1.0</td>\n",
       "    </tr>\n",
       "    <tr>\n",
       "      <th>4</th>\n",
       "      <td>3</td>\n",
       "      <td>1</td>\n",
       "      <td>30-45</td>\n",
       "      <td>11</td>\n",
       "      <td>1.0</td>\n",
       "    </tr>\n",
       "  </tbody>\n",
       "</table>\n",
       "</div>"
      ],
      "text/plain": [
       "   group  Genre    Âge  District  vote\n",
       "0      3      1  30-45        11  -1.0\n",
       "1      3      1  30-45        11   1.0\n",
       "2      3      1  30-45        11   1.0\n",
       "3      3      1  30-45        11   1.0\n",
       "4      3      1  30-45        11   1.0"
      ]
     },
     "execution_count": 87,
     "metadata": {},
     "output_type": "execute_result"
    }
   ],
   "source": [
    "cat_df['Genre'] = cat_df['Genre'].astype('category').cat.codes\n",
    "cat_df.head()"
   ]
  },
  {
   "cell_type": "code",
   "execution_count": 88,
   "id": "8d92c596",
   "metadata": {},
   "outputs": [],
   "source": [
    "cat_df = pd.get_dummies(data=cat_df, columns=['Âge'])"
   ]
  },
  {
   "cell_type": "code",
   "execution_count": 45,
   "id": "50de5c26",
   "metadata": {},
   "outputs": [
    {
     "data": {
      "text/html": [
       "<div>\n",
       "<style scoped>\n",
       "    .dataframe tbody tr th:only-of-type {\n",
       "        vertical-align: middle;\n",
       "    }\n",
       "\n",
       "    .dataframe tbody tr th {\n",
       "        vertical-align: top;\n",
       "    }\n",
       "\n",
       "    .dataframe thead th {\n",
       "        text-align: right;\n",
       "    }\n",
       "</style>\n",
       "<table border=\"1\" class=\"dataframe\">\n",
       "  <thead>\n",
       "    <tr style=\"text-align: right;\">\n",
       "      <th></th>\n",
       "      <th>group</th>\n",
       "      <th>Genre</th>\n",
       "      <th>District</th>\n",
       "      <th>vote</th>\n",
       "      <th>Âge_18-30</th>\n",
       "      <th>Âge_30-45</th>\n",
       "      <th>Âge_45-65</th>\n",
       "      <th>Âge_65+</th>\n",
       "    </tr>\n",
       "  </thead>\n",
       "  <tbody>\n",
       "    <tr>\n",
       "      <th>0</th>\n",
       "      <td>3</td>\n",
       "      <td>1</td>\n",
       "      <td>11</td>\n",
       "      <td>-1.0</td>\n",
       "      <td>0</td>\n",
       "      <td>1</td>\n",
       "      <td>0</td>\n",
       "      <td>0</td>\n",
       "    </tr>\n",
       "    <tr>\n",
       "      <th>1</th>\n",
       "      <td>3</td>\n",
       "      <td>1</td>\n",
       "      <td>11</td>\n",
       "      <td>1.0</td>\n",
       "      <td>0</td>\n",
       "      <td>1</td>\n",
       "      <td>0</td>\n",
       "      <td>0</td>\n",
       "    </tr>\n",
       "    <tr>\n",
       "      <th>2</th>\n",
       "      <td>3</td>\n",
       "      <td>1</td>\n",
       "      <td>11</td>\n",
       "      <td>1.0</td>\n",
       "      <td>0</td>\n",
       "      <td>1</td>\n",
       "      <td>0</td>\n",
       "      <td>0</td>\n",
       "    </tr>\n",
       "    <tr>\n",
       "      <th>3</th>\n",
       "      <td>3</td>\n",
       "      <td>1</td>\n",
       "      <td>11</td>\n",
       "      <td>1.0</td>\n",
       "      <td>0</td>\n",
       "      <td>1</td>\n",
       "      <td>0</td>\n",
       "      <td>0</td>\n",
       "    </tr>\n",
       "    <tr>\n",
       "      <th>4</th>\n",
       "      <td>3</td>\n",
       "      <td>1</td>\n",
       "      <td>11</td>\n",
       "      <td>1.0</td>\n",
       "      <td>0</td>\n",
       "      <td>1</td>\n",
       "      <td>0</td>\n",
       "      <td>0</td>\n",
       "    </tr>\n",
       "  </tbody>\n",
       "</table>\n",
       "</div>"
      ],
      "text/plain": [
       "   group  Genre  District  vote  Âge_18-30  Âge_30-45  Âge_45-65  Âge_65+\n",
       "0      3      1        11  -1.0          0          1          0        0\n",
       "1      3      1        11   1.0          0          1          0        0\n",
       "2      3      1        11   1.0          0          1          0        0\n",
       "3      3      1        11   1.0          0          1          0        0\n",
       "4      3      1        11   1.0          0          1          0        0"
      ]
     },
     "execution_count": 45,
     "metadata": {},
     "output_type": "execute_result"
    }
   ],
   "source": [
    "cat_df.head()"
   ]
  },
  {
   "cell_type": "markdown",
   "id": "bf31b954",
   "metadata": {},
   "source": [
    "### Mixing with the dataset"
   ]
  },
  {
   "cell_type": "code",
   "execution_count": 92,
   "id": "6baad2f2",
   "metadata": {},
   "outputs": [
    {
     "data": {
      "text/html": [
       "<div>\n",
       "<style scoped>\n",
       "    .dataframe tbody tr th:only-of-type {\n",
       "        vertical-align: middle;\n",
       "    }\n",
       "\n",
       "    .dataframe tbody tr th {\n",
       "        vertical-align: top;\n",
       "    }\n",
       "\n",
       "    .dataframe thead th {\n",
       "        text-align: right;\n",
       "    }\n",
       "</style>\n",
       "<table border=\"1\" class=\"dataframe\">\n",
       "  <thead>\n",
       "    <tr style=\"text-align: right;\">\n",
       "      <th></th>\n",
       "      <th>group</th>\n",
       "      <th>embedding_1</th>\n",
       "      <th>embedding_2</th>\n",
       "      <th>embedding_3</th>\n",
       "      <th>embedding_4</th>\n",
       "      <th>embedding_5</th>\n",
       "      <th>embedding_6</th>\n",
       "    </tr>\n",
       "  </thead>\n",
       "  <tbody>\n",
       "    <tr>\n",
       "      <th>0</th>\n",
       "      <td>0</td>\n",
       "      <td>0.045909</td>\n",
       "      <td>0.018177</td>\n",
       "      <td>-0.049429</td>\n",
       "      <td>-0.007715</td>\n",
       "      <td>-0.009483</td>\n",
       "      <td>0.009852</td>\n",
       "    </tr>\n",
       "    <tr>\n",
       "      <th>1</th>\n",
       "      <td>1</td>\n",
       "      <td>0.037658</td>\n",
       "      <td>-0.001324</td>\n",
       "      <td>0.009930</td>\n",
       "      <td>-0.017459</td>\n",
       "      <td>0.024051</td>\n",
       "      <td>0.010964</td>\n",
       "    </tr>\n",
       "    <tr>\n",
       "      <th>2</th>\n",
       "      <td>2</td>\n",
       "      <td>0.022788</td>\n",
       "      <td>0.003368</td>\n",
       "      <td>0.048514</td>\n",
       "      <td>0.004077</td>\n",
       "      <td>0.028136</td>\n",
       "      <td>0.021680</td>\n",
       "    </tr>\n",
       "    <tr>\n",
       "      <th>3</th>\n",
       "      <td>3</td>\n",
       "      <td>0.014835</td>\n",
       "      <td>-0.003386</td>\n",
       "      <td>-0.043191</td>\n",
       "      <td>-0.027369</td>\n",
       "      <td>-0.004045</td>\n",
       "      <td>-0.013261</td>\n",
       "    </tr>\n",
       "    <tr>\n",
       "      <th>4</th>\n",
       "      <td>4</td>\n",
       "      <td>-0.047953</td>\n",
       "      <td>0.012807</td>\n",
       "      <td>-0.038479</td>\n",
       "      <td>-0.031727</td>\n",
       "      <td>-0.043779</td>\n",
       "      <td>0.013319</td>\n",
       "    </tr>\n",
       "  </tbody>\n",
       "</table>\n",
       "</div>"
      ],
      "text/plain": [
       "   group  embedding_1  embedding_2  embedding_3  embedding_4  embedding_5  \\\n",
       "0      0     0.045909     0.018177    -0.049429    -0.007715    -0.009483   \n",
       "1      1     0.037658    -0.001324     0.009930    -0.017459     0.024051   \n",
       "2      2     0.022788     0.003368     0.048514     0.004077     0.028136   \n",
       "3      3     0.014835    -0.003386    -0.043191    -0.027369    -0.004045   \n",
       "4      4    -0.047953     0.012807    -0.038479    -0.031727    -0.043779   \n",
       "\n",
       "   embedding_6  \n",
       "0     0.009852  \n",
       "1     0.010964  \n",
       "2     0.021680  \n",
       "3    -0.013261  \n",
       "4     0.013319  "
      ]
     },
     "execution_count": 92,
     "metadata": {},
     "output_type": "execute_result"
    }
   ],
   "source": [
    "group_embeddings_df.head()"
   ]
  },
  {
   "cell_type": "code",
   "execution_count": 93,
   "id": "fbfdd6c2",
   "metadata": {},
   "outputs": [
    {
     "data": {
      "text/html": [
       "<div>\n",
       "<style scoped>\n",
       "    .dataframe tbody tr th:only-of-type {\n",
       "        vertical-align: middle;\n",
       "    }\n",
       "\n",
       "    .dataframe tbody tr th {\n",
       "        vertical-align: top;\n",
       "    }\n",
       "\n",
       "    .dataframe thead th {\n",
       "        text-align: right;\n",
       "    }\n",
       "</style>\n",
       "<table border=\"1\" class=\"dataframe\">\n",
       "  <thead>\n",
       "    <tr style=\"text-align: right;\">\n",
       "      <th></th>\n",
       "      <th>group</th>\n",
       "      <th>Genre</th>\n",
       "      <th>District</th>\n",
       "      <th>vote</th>\n",
       "      <th>Âge_18-30</th>\n",
       "      <th>Âge_30-45</th>\n",
       "      <th>Âge_45-65</th>\n",
       "      <th>Âge_65+</th>\n",
       "      <th>embedding_1</th>\n",
       "      <th>embedding_2</th>\n",
       "      <th>embedding_3</th>\n",
       "      <th>embedding_4</th>\n",
       "      <th>embedding_5</th>\n",
       "      <th>embedding_6</th>\n",
       "    </tr>\n",
       "  </thead>\n",
       "  <tbody>\n",
       "    <tr>\n",
       "      <th>0</th>\n",
       "      <td>3</td>\n",
       "      <td>1</td>\n",
       "      <td>11</td>\n",
       "      <td>-1.0</td>\n",
       "      <td>0</td>\n",
       "      <td>1</td>\n",
       "      <td>0</td>\n",
       "      <td>0</td>\n",
       "      <td>0.014835</td>\n",
       "      <td>-0.003386</td>\n",
       "      <td>-0.043191</td>\n",
       "      <td>-0.027369</td>\n",
       "      <td>-0.004045</td>\n",
       "      <td>-0.013261</td>\n",
       "    </tr>\n",
       "    <tr>\n",
       "      <th>1</th>\n",
       "      <td>3</td>\n",
       "      <td>1</td>\n",
       "      <td>11</td>\n",
       "      <td>1.0</td>\n",
       "      <td>0</td>\n",
       "      <td>1</td>\n",
       "      <td>0</td>\n",
       "      <td>0</td>\n",
       "      <td>0.014835</td>\n",
       "      <td>-0.003386</td>\n",
       "      <td>-0.043191</td>\n",
       "      <td>-0.027369</td>\n",
       "      <td>-0.004045</td>\n",
       "      <td>-0.013261</td>\n",
       "    </tr>\n",
       "    <tr>\n",
       "      <th>2</th>\n",
       "      <td>3</td>\n",
       "      <td>1</td>\n",
       "      <td>11</td>\n",
       "      <td>1.0</td>\n",
       "      <td>0</td>\n",
       "      <td>1</td>\n",
       "      <td>0</td>\n",
       "      <td>0</td>\n",
       "      <td>0.014835</td>\n",
       "      <td>-0.003386</td>\n",
       "      <td>-0.043191</td>\n",
       "      <td>-0.027369</td>\n",
       "      <td>-0.004045</td>\n",
       "      <td>-0.013261</td>\n",
       "    </tr>\n",
       "    <tr>\n",
       "      <th>3</th>\n",
       "      <td>3</td>\n",
       "      <td>1</td>\n",
       "      <td>11</td>\n",
       "      <td>1.0</td>\n",
       "      <td>0</td>\n",
       "      <td>1</td>\n",
       "      <td>0</td>\n",
       "      <td>0</td>\n",
       "      <td>0.014835</td>\n",
       "      <td>-0.003386</td>\n",
       "      <td>-0.043191</td>\n",
       "      <td>-0.027369</td>\n",
       "      <td>-0.004045</td>\n",
       "      <td>-0.013261</td>\n",
       "    </tr>\n",
       "    <tr>\n",
       "      <th>4</th>\n",
       "      <td>3</td>\n",
       "      <td>1</td>\n",
       "      <td>11</td>\n",
       "      <td>1.0</td>\n",
       "      <td>0</td>\n",
       "      <td>1</td>\n",
       "      <td>0</td>\n",
       "      <td>0</td>\n",
       "      <td>0.014835</td>\n",
       "      <td>-0.003386</td>\n",
       "      <td>-0.043191</td>\n",
       "      <td>-0.027369</td>\n",
       "      <td>-0.004045</td>\n",
       "      <td>-0.013261</td>\n",
       "    </tr>\n",
       "  </tbody>\n",
       "</table>\n",
       "</div>"
      ],
      "text/plain": [
       "   group  Genre  District  vote  Âge_18-30  Âge_30-45  Âge_45-65  Âge_65+  \\\n",
       "0      3      1        11  -1.0          0          1          0        0   \n",
       "1      3      1        11   1.0          0          1          0        0   \n",
       "2      3      1        11   1.0          0          1          0        0   \n",
       "3      3      1        11   1.0          0          1          0        0   \n",
       "4      3      1        11   1.0          0          1          0        0   \n",
       "\n",
       "   embedding_1  embedding_2  embedding_3  embedding_4  embedding_5  \\\n",
       "0     0.014835    -0.003386    -0.043191    -0.027369    -0.004045   \n",
       "1     0.014835    -0.003386    -0.043191    -0.027369    -0.004045   \n",
       "2     0.014835    -0.003386    -0.043191    -0.027369    -0.004045   \n",
       "3     0.014835    -0.003386    -0.043191    -0.027369    -0.004045   \n",
       "4     0.014835    -0.003386    -0.043191    -0.027369    -0.004045   \n",
       "\n",
       "   embedding_6  \n",
       "0    -0.013261  \n",
       "1    -0.013261  \n",
       "2    -0.013261  \n",
       "3    -0.013261  \n",
       "4    -0.013261  "
      ]
     },
     "execution_count": 93,
     "metadata": {},
     "output_type": "execute_result"
    }
   ],
   "source": [
    "embedded_df = pd.merge(cat_df, group_embeddings_df, on=['group'], how='inner')\n",
    "embedded_df.head()"
   ]
  },
  {
   "cell_type": "code",
   "execution_count": 98,
   "id": "9ba3e489",
   "metadata": {
    "scrolled": true
   },
   "outputs": [
    {
     "data": {
      "text/html": [
       "<div>\n",
       "<style scoped>\n",
       "    .dataframe tbody tr th:only-of-type {\n",
       "        vertical-align: middle;\n",
       "    }\n",
       "\n",
       "    .dataframe tbody tr th {\n",
       "        vertical-align: top;\n",
       "    }\n",
       "\n",
       "    .dataframe thead th {\n",
       "        text-align: right;\n",
       "    }\n",
       "</style>\n",
       "<table border=\"1\" class=\"dataframe\">\n",
       "  <thead>\n",
       "    <tr style=\"text-align: right;\">\n",
       "      <th></th>\n",
       "      <th>group</th>\n",
       "      <th>Genre</th>\n",
       "      <th>District</th>\n",
       "      <th>vote</th>\n",
       "      <th>Âge_18-30</th>\n",
       "      <th>Âge_30-45</th>\n",
       "      <th>Âge_45-65</th>\n",
       "      <th>Âge_65+</th>\n",
       "      <th>embedding_1_x</th>\n",
       "      <th>embedding_2_x</th>\n",
       "      <th>...</th>\n",
       "      <th>embedding_5_x</th>\n",
       "      <th>embedding_6_x</th>\n",
       "      <th>embedding_1_y</th>\n",
       "      <th>embedding_2_y</th>\n",
       "      <th>embedding_3_y</th>\n",
       "      <th>embedding_4_y</th>\n",
       "      <th>embedding_5_y</th>\n",
       "      <th>embedding_6_y</th>\n",
       "      <th>embedding_7</th>\n",
       "      <th>embedding_8</th>\n",
       "    </tr>\n",
       "  </thead>\n",
       "  <tbody>\n",
       "    <tr>\n",
       "      <th>0</th>\n",
       "      <td>3</td>\n",
       "      <td>1</td>\n",
       "      <td>11</td>\n",
       "      <td>-1.0</td>\n",
       "      <td>0</td>\n",
       "      <td>1</td>\n",
       "      <td>0</td>\n",
       "      <td>0</td>\n",
       "      <td>0.014835</td>\n",
       "      <td>-0.003386</td>\n",
       "      <td>...</td>\n",
       "      <td>-0.004045</td>\n",
       "      <td>-0.013261</td>\n",
       "      <td>0.019592</td>\n",
       "      <td>0.059957</td>\n",
       "      <td>0.153231</td>\n",
       "      <td>-0.173222</td>\n",
       "      <td>0.152732</td>\n",
       "      <td>0.231523</td>\n",
       "      <td>-0.302655</td>\n",
       "      <td>-0.200834</td>\n",
       "    </tr>\n",
       "    <tr>\n",
       "      <th>1</th>\n",
       "      <td>3</td>\n",
       "      <td>1</td>\n",
       "      <td>11</td>\n",
       "      <td>1.0</td>\n",
       "      <td>0</td>\n",
       "      <td>1</td>\n",
       "      <td>0</td>\n",
       "      <td>0</td>\n",
       "      <td>0.014835</td>\n",
       "      <td>-0.003386</td>\n",
       "      <td>...</td>\n",
       "      <td>-0.004045</td>\n",
       "      <td>-0.013261</td>\n",
       "      <td>0.019592</td>\n",
       "      <td>0.059957</td>\n",
       "      <td>0.153231</td>\n",
       "      <td>-0.173222</td>\n",
       "      <td>0.152732</td>\n",
       "      <td>0.231523</td>\n",
       "      <td>-0.302655</td>\n",
       "      <td>-0.200834</td>\n",
       "    </tr>\n",
       "    <tr>\n",
       "      <th>2</th>\n",
       "      <td>3</td>\n",
       "      <td>1</td>\n",
       "      <td>11</td>\n",
       "      <td>1.0</td>\n",
       "      <td>0</td>\n",
       "      <td>1</td>\n",
       "      <td>0</td>\n",
       "      <td>0</td>\n",
       "      <td>0.014835</td>\n",
       "      <td>-0.003386</td>\n",
       "      <td>...</td>\n",
       "      <td>-0.004045</td>\n",
       "      <td>-0.013261</td>\n",
       "      <td>0.019592</td>\n",
       "      <td>0.059957</td>\n",
       "      <td>0.153231</td>\n",
       "      <td>-0.173222</td>\n",
       "      <td>0.152732</td>\n",
       "      <td>0.231523</td>\n",
       "      <td>-0.302655</td>\n",
       "      <td>-0.200834</td>\n",
       "    </tr>\n",
       "    <tr>\n",
       "      <th>3</th>\n",
       "      <td>3</td>\n",
       "      <td>1</td>\n",
       "      <td>11</td>\n",
       "      <td>1.0</td>\n",
       "      <td>0</td>\n",
       "      <td>1</td>\n",
       "      <td>0</td>\n",
       "      <td>0</td>\n",
       "      <td>0.014835</td>\n",
       "      <td>-0.003386</td>\n",
       "      <td>...</td>\n",
       "      <td>-0.004045</td>\n",
       "      <td>-0.013261</td>\n",
       "      <td>0.019592</td>\n",
       "      <td>0.059957</td>\n",
       "      <td>0.153231</td>\n",
       "      <td>-0.173222</td>\n",
       "      <td>0.152732</td>\n",
       "      <td>0.231523</td>\n",
       "      <td>-0.302655</td>\n",
       "      <td>-0.200834</td>\n",
       "    </tr>\n",
       "    <tr>\n",
       "      <th>4</th>\n",
       "      <td>3</td>\n",
       "      <td>1</td>\n",
       "      <td>11</td>\n",
       "      <td>1.0</td>\n",
       "      <td>0</td>\n",
       "      <td>1</td>\n",
       "      <td>0</td>\n",
       "      <td>0</td>\n",
       "      <td>0.014835</td>\n",
       "      <td>-0.003386</td>\n",
       "      <td>...</td>\n",
       "      <td>-0.004045</td>\n",
       "      <td>-0.013261</td>\n",
       "      <td>0.019592</td>\n",
       "      <td>0.059957</td>\n",
       "      <td>0.153231</td>\n",
       "      <td>-0.173222</td>\n",
       "      <td>0.152732</td>\n",
       "      <td>0.231523</td>\n",
       "      <td>-0.302655</td>\n",
       "      <td>-0.200834</td>\n",
       "    </tr>\n",
       "  </tbody>\n",
       "</table>\n",
       "<p>5 rows × 22 columns</p>\n",
       "</div>"
      ],
      "text/plain": [
       "   group  Genre  District  vote  Âge_18-30  Âge_30-45  Âge_45-65  Âge_65+  \\\n",
       "0      3      1        11  -1.0          0          1          0        0   \n",
       "1      3      1        11   1.0          0          1          0        0   \n",
       "2      3      1        11   1.0          0          1          0        0   \n",
       "3      3      1        11   1.0          0          1          0        0   \n",
       "4      3      1        11   1.0          0          1          0        0   \n",
       "\n",
       "   embedding_1_x  embedding_2_x  ...  embedding_5_x  embedding_6_x  \\\n",
       "0       0.014835      -0.003386  ...      -0.004045      -0.013261   \n",
       "1       0.014835      -0.003386  ...      -0.004045      -0.013261   \n",
       "2       0.014835      -0.003386  ...      -0.004045      -0.013261   \n",
       "3       0.014835      -0.003386  ...      -0.004045      -0.013261   \n",
       "4       0.014835      -0.003386  ...      -0.004045      -0.013261   \n",
       "\n",
       "   embedding_1_y  embedding_2_y  embedding_3_y  embedding_4_y  embedding_5_y  \\\n",
       "0       0.019592       0.059957       0.153231      -0.173222       0.152732   \n",
       "1       0.019592       0.059957       0.153231      -0.173222       0.152732   \n",
       "2       0.019592       0.059957       0.153231      -0.173222       0.152732   \n",
       "3       0.019592       0.059957       0.153231      -0.173222       0.152732   \n",
       "4       0.019592       0.059957       0.153231      -0.173222       0.152732   \n",
       "\n",
       "   embedding_6_y  embedding_7  embedding_8  \n",
       "0       0.231523    -0.302655    -0.200834  \n",
       "1       0.231523    -0.302655    -0.200834  \n",
       "2       0.231523    -0.302655    -0.200834  \n",
       "3       0.231523    -0.302655    -0.200834  \n",
       "4       0.231523    -0.302655    -0.200834  \n",
       "\n",
       "[5 rows x 22 columns]"
      ]
     },
     "execution_count": 98,
     "metadata": {},
     "output_type": "execute_result"
    }
   ],
   "source": [
    "embedded_df = pd.merge(embedded_df, district_embeddings_df, on=['District'], how='inner')\n",
    "embedded_df.head()"
   ]
  },
  {
   "cell_type": "code",
   "execution_count": 99,
   "id": "d39b25be",
   "metadata": {},
   "outputs": [],
   "source": [
    "embedded_df = embedded_df.drop(['group', 'District'], axis=1)"
   ]
  },
  {
   "cell_type": "code",
   "execution_count": 100,
   "id": "d1bc1bfe",
   "metadata": {},
   "outputs": [
    {
     "data": {
      "text/html": [
       "<div>\n",
       "<style scoped>\n",
       "    .dataframe tbody tr th:only-of-type {\n",
       "        vertical-align: middle;\n",
       "    }\n",
       "\n",
       "    .dataframe tbody tr th {\n",
       "        vertical-align: top;\n",
       "    }\n",
       "\n",
       "    .dataframe thead th {\n",
       "        text-align: right;\n",
       "    }\n",
       "</style>\n",
       "<table border=\"1\" class=\"dataframe\">\n",
       "  <thead>\n",
       "    <tr style=\"text-align: right;\">\n",
       "      <th></th>\n",
       "      <th>Genre</th>\n",
       "      <th>vote</th>\n",
       "      <th>Âge_18-30</th>\n",
       "      <th>Âge_30-45</th>\n",
       "      <th>Âge_45-65</th>\n",
       "      <th>Âge_65+</th>\n",
       "      <th>embedding_1_x</th>\n",
       "      <th>embedding_2_x</th>\n",
       "      <th>embedding_3_x</th>\n",
       "      <th>embedding_4_x</th>\n",
       "      <th>embedding_5_x</th>\n",
       "      <th>embedding_6_x</th>\n",
       "      <th>embedding_1_y</th>\n",
       "      <th>embedding_2_y</th>\n",
       "      <th>embedding_3_y</th>\n",
       "      <th>embedding_4_y</th>\n",
       "      <th>embedding_5_y</th>\n",
       "      <th>embedding_6_y</th>\n",
       "      <th>embedding_7</th>\n",
       "      <th>embedding_8</th>\n",
       "    </tr>\n",
       "  </thead>\n",
       "  <tbody>\n",
       "    <tr>\n",
       "      <th>0</th>\n",
       "      <td>1</td>\n",
       "      <td>-1.0</td>\n",
       "      <td>0</td>\n",
       "      <td>1</td>\n",
       "      <td>0</td>\n",
       "      <td>0</td>\n",
       "      <td>0.014835</td>\n",
       "      <td>-0.003386</td>\n",
       "      <td>-0.043191</td>\n",
       "      <td>-0.027369</td>\n",
       "      <td>-0.004045</td>\n",
       "      <td>-0.013261</td>\n",
       "      <td>0.019592</td>\n",
       "      <td>0.059957</td>\n",
       "      <td>0.153231</td>\n",
       "      <td>-0.173222</td>\n",
       "      <td>0.152732</td>\n",
       "      <td>0.231523</td>\n",
       "      <td>-0.302655</td>\n",
       "      <td>-0.200834</td>\n",
       "    </tr>\n",
       "    <tr>\n",
       "      <th>1</th>\n",
       "      <td>1</td>\n",
       "      <td>1.0</td>\n",
       "      <td>0</td>\n",
       "      <td>1</td>\n",
       "      <td>0</td>\n",
       "      <td>0</td>\n",
       "      <td>0.014835</td>\n",
       "      <td>-0.003386</td>\n",
       "      <td>-0.043191</td>\n",
       "      <td>-0.027369</td>\n",
       "      <td>-0.004045</td>\n",
       "      <td>-0.013261</td>\n",
       "      <td>0.019592</td>\n",
       "      <td>0.059957</td>\n",
       "      <td>0.153231</td>\n",
       "      <td>-0.173222</td>\n",
       "      <td>0.152732</td>\n",
       "      <td>0.231523</td>\n",
       "      <td>-0.302655</td>\n",
       "      <td>-0.200834</td>\n",
       "    </tr>\n",
       "    <tr>\n",
       "      <th>2</th>\n",
       "      <td>1</td>\n",
       "      <td>1.0</td>\n",
       "      <td>0</td>\n",
       "      <td>1</td>\n",
       "      <td>0</td>\n",
       "      <td>0</td>\n",
       "      <td>0.014835</td>\n",
       "      <td>-0.003386</td>\n",
       "      <td>-0.043191</td>\n",
       "      <td>-0.027369</td>\n",
       "      <td>-0.004045</td>\n",
       "      <td>-0.013261</td>\n",
       "      <td>0.019592</td>\n",
       "      <td>0.059957</td>\n",
       "      <td>0.153231</td>\n",
       "      <td>-0.173222</td>\n",
       "      <td>0.152732</td>\n",
       "      <td>0.231523</td>\n",
       "      <td>-0.302655</td>\n",
       "      <td>-0.200834</td>\n",
       "    </tr>\n",
       "    <tr>\n",
       "      <th>3</th>\n",
       "      <td>1</td>\n",
       "      <td>1.0</td>\n",
       "      <td>0</td>\n",
       "      <td>1</td>\n",
       "      <td>0</td>\n",
       "      <td>0</td>\n",
       "      <td>0.014835</td>\n",
       "      <td>-0.003386</td>\n",
       "      <td>-0.043191</td>\n",
       "      <td>-0.027369</td>\n",
       "      <td>-0.004045</td>\n",
       "      <td>-0.013261</td>\n",
       "      <td>0.019592</td>\n",
       "      <td>0.059957</td>\n",
       "      <td>0.153231</td>\n",
       "      <td>-0.173222</td>\n",
       "      <td>0.152732</td>\n",
       "      <td>0.231523</td>\n",
       "      <td>-0.302655</td>\n",
       "      <td>-0.200834</td>\n",
       "    </tr>\n",
       "    <tr>\n",
       "      <th>4</th>\n",
       "      <td>1</td>\n",
       "      <td>1.0</td>\n",
       "      <td>0</td>\n",
       "      <td>1</td>\n",
       "      <td>0</td>\n",
       "      <td>0</td>\n",
       "      <td>0.014835</td>\n",
       "      <td>-0.003386</td>\n",
       "      <td>-0.043191</td>\n",
       "      <td>-0.027369</td>\n",
       "      <td>-0.004045</td>\n",
       "      <td>-0.013261</td>\n",
       "      <td>0.019592</td>\n",
       "      <td>0.059957</td>\n",
       "      <td>0.153231</td>\n",
       "      <td>-0.173222</td>\n",
       "      <td>0.152732</td>\n",
       "      <td>0.231523</td>\n",
       "      <td>-0.302655</td>\n",
       "      <td>-0.200834</td>\n",
       "    </tr>\n",
       "  </tbody>\n",
       "</table>\n",
       "</div>"
      ],
      "text/plain": [
       "   Genre  vote  Âge_18-30  Âge_30-45  Âge_45-65  Âge_65+  embedding_1_x  \\\n",
       "0      1  -1.0          0          1          0        0       0.014835   \n",
       "1      1   1.0          0          1          0        0       0.014835   \n",
       "2      1   1.0          0          1          0        0       0.014835   \n",
       "3      1   1.0          0          1          0        0       0.014835   \n",
       "4      1   1.0          0          1          0        0       0.014835   \n",
       "\n",
       "   embedding_2_x  embedding_3_x  embedding_4_x  embedding_5_x  embedding_6_x  \\\n",
       "0      -0.003386      -0.043191      -0.027369      -0.004045      -0.013261   \n",
       "1      -0.003386      -0.043191      -0.027369      -0.004045      -0.013261   \n",
       "2      -0.003386      -0.043191      -0.027369      -0.004045      -0.013261   \n",
       "3      -0.003386      -0.043191      -0.027369      -0.004045      -0.013261   \n",
       "4      -0.003386      -0.043191      -0.027369      -0.004045      -0.013261   \n",
       "\n",
       "   embedding_1_y  embedding_2_y  embedding_3_y  embedding_4_y  embedding_5_y  \\\n",
       "0       0.019592       0.059957       0.153231      -0.173222       0.152732   \n",
       "1       0.019592       0.059957       0.153231      -0.173222       0.152732   \n",
       "2       0.019592       0.059957       0.153231      -0.173222       0.152732   \n",
       "3       0.019592       0.059957       0.153231      -0.173222       0.152732   \n",
       "4       0.019592       0.059957       0.153231      -0.173222       0.152732   \n",
       "\n",
       "   embedding_6_y  embedding_7  embedding_8  \n",
       "0       0.231523    -0.302655    -0.200834  \n",
       "1       0.231523    -0.302655    -0.200834  \n",
       "2       0.231523    -0.302655    -0.200834  \n",
       "3       0.231523    -0.302655    -0.200834  \n",
       "4       0.231523    -0.302655    -0.200834  "
      ]
     },
     "execution_count": 100,
     "metadata": {},
     "output_type": "execute_result"
    }
   ],
   "source": [
    "embedded_df.head()"
   ]
  },
  {
   "cell_type": "code",
   "execution_count": 102,
   "id": "1340b98e",
   "metadata": {},
   "outputs": [],
   "source": [
    "embedded_df.to_csv('../Data/embedded_data.csv')"
   ]
  }
 ],
 "metadata": {
  "kernelspec": {
   "display_name": "Python 3",
   "language": "python",
   "name": "python3"
  },
  "language_info": {
   "codemirror_mode": {
    "name": "ipython",
    "version": 3
   },
   "file_extension": ".py",
   "mimetype": "text/x-python",
   "name": "python",
   "nbconvert_exporter": "python",
   "pygments_lexer": "ipython3",
   "version": "3.8.12"
  }
 },
 "nbformat": 4,
 "nbformat_minor": 5
}
