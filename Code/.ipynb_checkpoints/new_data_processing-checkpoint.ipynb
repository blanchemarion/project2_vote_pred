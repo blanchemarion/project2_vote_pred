{
 "cells": [
  {
   "cell_type": "code",
   "execution_count": 47,
   "id": "45af05eb",
   "metadata": {},
   "outputs": [],
   "source": [
    "import pandas as pd\n",
    "import plotly.express as px\n",
    "import numpy as np\n",
    "import keras\n",
    "from keras import models\n",
    "from keras.layers import Embedding, Dense, Flatten\n",
    "import os\n",
    "import matplotlib.pyplot as plt\n",
    "from mpl_toolkits.mplot3d import Axes3D\n",
    "import sklearn\n",
    "from sklearn.preprocessing import MinMaxScaler"
   ]
  },
  {
   "cell_type": "markdown",
   "id": "6f1e0d64",
   "metadata": {},
   "source": [
    "# Data extraction"
   ]
  },
  {
   "cell_type": "markdown",
   "id": "f2937c21",
   "metadata": {},
   "source": [
    "In this part, we will create the dataset that we will use for our machine learning algorithms. \n",
    "We have a dataset which contains the information of all the votes made during the elaboration of the Valais constituency. \n",
    "As we focus only on the votes of the first reading that are important, we will extract the votes that correspond to the first reading. Then, with the id of the votes, we will look for the precise information on each vote (the votes of each deputy). "
   ]
  },
  {
   "cell_type": "code",
   "execution_count": 147,
   "id": "c837ff84",
   "metadata": {
    "scrolled": true
   },
   "outputs": [
    {
     "data": {
      "text/html": [
       "<div>\n",
       "<style scoped>\n",
       "    .dataframe tbody tr th:only-of-type {\n",
       "        vertical-align: middle;\n",
       "    }\n",
       "\n",
       "    .dataframe tbody tr th {\n",
       "        vertical-align: top;\n",
       "    }\n",
       "\n",
       "    .dataframe thead th {\n",
       "        text-align: right;\n",
       "    }\n",
       "</style>\n",
       "<table border=\"1\" class=\"dataframe\">\n",
       "  <thead>\n",
       "    <tr style=\"text-align: right;\">\n",
       "      <th></th>\n",
       "      <th>label</th>\n",
       "      <th>affairVoteId</th>\n",
       "      <th>meaningYesText</th>\n",
       "      <th>meaningNoText</th>\n",
       "      <th>numYes</th>\n",
       "      <th>numNo</th>\n",
       "      <th>numAbst</th>\n",
       "      <th>section</th>\n",
       "      <th>art_id</th>\n",
       "    </tr>\n",
       "  </thead>\n",
       "  <tbody>\n",
       "    <tr>\n",
       "      <th>486</th>\n",
       "      <td>vote final : Ensemble de l’avant-projet tel qu...</td>\n",
       "      <td>20211209160112</td>\n",
       "      <td>Accepter</td>\n",
       "      <td>Refuser</td>\n",
       "      <td>69</td>\n",
       "      <td>28</td>\n",
       "      <td>17</td>\n",
       "      <td>1ère lecture - Vote final</td>\n",
       "      <td>vot</td>\n",
       "    </tr>\n",
       "    <tr>\n",
       "      <th>580</th>\n",
       "      <td>606, vote 1 : Commission contre A-606.28 CVPO/...</td>\n",
       "      <td>20211207160250</td>\n",
       "      <td>En l’absence d’un congé parental fédéral, l’Ét...</td>\n",
       "      <td>(néant)</td>\n",
       "      <td>68</td>\n",
       "      <td>35</td>\n",
       "      <td>4</td>\n",
       "      <td>1ère lecture - Commission 6</td>\n",
       "      <td>606</td>\n",
       "    </tr>\n",
       "    <tr>\n",
       "      <th>593</th>\n",
       "      <td>603, vote 4 : Commission (y.c. V/A 1-3) contre...</td>\n",
       "      <td>20211207144242</td>\n",
       "      <td>Art. 603 Enfance&lt;br/&gt;\\r\\n&lt;ol&gt;&lt;li&gt;L’État et les...</td>\n",
       "      <td>(néant)</td>\n",
       "      <td>90</td>\n",
       "      <td>14</td>\n",
       "      <td>1</td>\n",
       "      <td>1ère lecture - Commission 6</td>\n",
       "      <td>603</td>\n",
       "    </tr>\n",
       "    <tr>\n",
       "      <th>596</th>\n",
       "      <td>602, vote 2 : Commission (y.c. V/A 1) contre A...</td>\n",
       "      <td>20211207143809</td>\n",
       "      <td>L'État et les communes développent une\\r\\npoli...</td>\n",
       "      <td>(néant)</td>\n",
       "      <td>89</td>\n",
       "      <td>14</td>\n",
       "      <td>2</td>\n",
       "      <td>1ère lecture - Commission 6</td>\n",
       "      <td>602</td>\n",
       "    </tr>\n",
       "    <tr>\n",
       "      <th>632</th>\n",
       "      <td>503, vote 2 : Résultat V/A 1 contre A-503.14 U...</td>\n",
       "      <td>20211207092238</td>\n",
       "      <td>L’État prend des mesures propres à lutter cont...</td>\n",
       "      <td>(néant)</td>\n",
       "      <td>92</td>\n",
       "      <td>12</td>\n",
       "      <td>1</td>\n",
       "      <td>1ère lecture - Commission 5</td>\n",
       "      <td>503</td>\n",
       "    </tr>\n",
       "  </tbody>\n",
       "</table>\n",
       "</div>"
      ],
      "text/plain": [
       "                                                 label    affairVoteId  \\\n",
       "486  vote final : Ensemble de l’avant-projet tel qu...  20211209160112   \n",
       "580  606, vote 1 : Commission contre A-606.28 CVPO/...  20211207160250   \n",
       "593  603, vote 4 : Commission (y.c. V/A 1-3) contre...  20211207144242   \n",
       "596  602, vote 2 : Commission (y.c. V/A 1) contre A...  20211207143809   \n",
       "632  503, vote 2 : Résultat V/A 1 contre A-503.14 U...  20211207092238   \n",
       "\n",
       "                                        meaningYesText meaningNoText  numYes  \\\n",
       "486                                          Accepter        Refuser      69   \n",
       "580  En l’absence d’un congé parental fédéral, l’Ét...       (néant)      68   \n",
       "593  Art. 603 Enfance<br/>\\r\\n<ol><li>L’État et les...       (néant)      90   \n",
       "596  L'État et les communes développent une\\r\\npoli...       (néant)      89   \n",
       "632  L’État prend des mesures propres à lutter cont...       (néant)      92   \n",
       "\n",
       "     numNo  numAbst                      section art_id  \n",
       "486     28       17    1ère lecture - Vote final    vot  \n",
       "580     35        4  1ère lecture - Commission 6    606  \n",
       "593     14        1  1ère lecture - Commission 6    603  \n",
       "596     14        2  1ère lecture - Commission 6    602  \n",
       "632     12        1  1ère lecture - Commission 5    503  "
      ]
     },
     "execution_count": 147,
     "metadata": {},
     "output_type": "execute_result"
    }
   ],
   "source": [
    "df = pd.read_csv(\"../Data/Tous votes Constituante - Sheet1.csv\")\n",
    "df = df.drop(['startTime', 'endTime', 'filename','Unnamed: 0', 'affair', 'note', 'meaningYes', 'meaningNo', 'warning', 'linkVideo', 'attachment', 'DE_meaningYesText', 'DE_meaningNoText', 'DE_note', 'DE_affair', 'DE_section', 'DE_warning', 'DE_attachment'], axis=1)\n",
    "df = df[df['section'].str.contains(\"1ère lecture\")]\n",
    "df['art_id'] = df['label'].apply(lambda x: x.rsplit(' ')[0][:-1])\n",
    "df = df[~df['meaningYesText'].isnull()]\n",
    "\n",
    "df.head()"
   ]
  },
  {
   "cell_type": "code",
   "execution_count": 148,
   "id": "4a7b2246",
   "metadata": {},
   "outputs": [],
   "source": [
    "def take_out_letter(x):\n",
    "    l = len(x)\n",
    "    if (not x.isnumeric() and '/' in x):\n",
    "        return x.split('/')[0]\n",
    "    elif(not x.isnumeric()):\n",
    "        return x[:-1]\n",
    "    else: \n",
    "        return x"
   ]
  },
  {
   "cell_type": "code",
   "execution_count": 149,
   "id": "6615eaab",
   "metadata": {
    "scrolled": true
   },
   "outputs": [],
   "source": [
    "df = df[df['art_id'].str[0].str.isnumeric()]\n",
    "df['art_id'] = df['art_id'].apply(lambda x: take_out_letter(x))\n",
    "df.to_csv('../Data/filtered_ds.csv')"
   ]
  },
  {
   "cell_type": "markdown",
   "id": "efff7015",
   "metadata": {},
   "source": [
    "We add manually the political orientation and a column to say if it is progessist or conservative. Those columns can take values -1, 0, 1. The file containing the values is 'filtered_ds - filtered_ds'"
   ]
  },
  {
   "cell_type": "code",
   "execution_count": 150,
   "id": "e6c7cb12",
   "metadata": {},
   "outputs": [],
   "source": [
    "def vote_transformation(x):\n",
    "    if x == 'Oui/Ja':\n",
    "        return 1\n",
    "    elif x == 'Non/Nein':\n",
    "        return -1\n",
    "    elif x == 'Abst./Enth.':\n",
    "        return 0\n",
    "    else: \n",
    "        return np.NaN"
   ]
  },
  {
   "cell_type": "code",
   "execution_count": 151,
   "id": "17644bde",
   "metadata": {},
   "outputs": [],
   "source": [
    "#We make the same transformation as the one made by quivotequoi.ch\n",
    "def age_transformation(x):\n",
    "    if x <=30: \n",
    "        return '18-30'\n",
    "    elif x>65:\n",
    "        return '65+'\n",
    "    elif x >30 and x <45:\n",
    "        return '30-45'\n",
    "    else :\n",
    "        return '45-65'"
   ]
  },
  {
   "cell_type": "markdown",
   "id": "234c9b28",
   "metadata": {},
   "source": [
    "In the following, we will create a dataset with the precise information and the votes of each deputy on each vote that we have kept"
   ]
  },
  {
   "cell_type": "code",
   "execution_count": 152,
   "id": "ee781bc6",
   "metadata": {
    "scrolled": true
   },
   "outputs": [
    {
     "name": "stdout",
     "output_type": "stream",
     "text": [
      "                         name   group  vote Genre    Âge        District  \\\n",
      "0            Matteo ABÄCHERLI    CVPO  -1.0     H  30-45            Visp   \n",
      "1             Claudia ALPIGER  ZUK-VS   1.0     F  30-45            Brig   \n",
      "2              Romano AMACKER    SVPO  -1.0     H  18-30  Westlich Raron   \n",
      "3         Maria ARNOLD-ESCHER    CVPO  -1.0     F  45-65            Brig   \n",
      "4                Peter BÄHLER    SVPO  -1.0     H    65+            Goms   \n",
      "..                        ...     ...   ...   ...    ...             ...   \n",
      "125        Géraldine GIANADDA     VLR   NaN     F  45-65        Martigny   \n",
      "126  Géraldine GRANGES-GUENOT     UDC   NaN     F  45-65        Martigny   \n",
      "127        Bernard OBERHOLZER      AC   NaN     H    65+         Monthey   \n",
      "128             Damien RABOUD     UDC   NaN     H  30-45         Monthey   \n",
      "129             Fabien THETAZ     AdG   NaN     H  30-45         Monthey   \n",
      "\n",
      "       affairVoteId  \n",
      "0    20211207160250  \n",
      "1    20211207160250  \n",
      "2    20211207160250  \n",
      "3    20211207160250  \n",
      "4    20211207160250  \n",
      "..              ...  \n",
      "125  20211005113706  \n",
      "126  20211005113706  \n",
      "127  20211005113706  \n",
      "128  20211005113706  \n",
      "129  20211005113706  \n",
      "\n",
      "[5330 rows x 7 columns]\n"
     ]
    }
   ],
   "source": [
    "df = pd.read_csv('../Data/filtered_ds - filtered_ds.csv')\n",
    "ids_vote = df['affairVoteId']\n",
    "full_votes = pd.DataFrame()\n",
    "for ids in ids_vote:\n",
    "    temp_df = pd.read_csv(\"../Data/{}.csv\".format(ids))    \n",
    "    full_votes = pd.concat([full_votes, temp_df])\n",
    "temp_df = full_votes\n",
    "temp_df['vote'] = temp_df['vote'].apply(lambda x: vote_transformation(x))\n",
    "temp_df['Âge'] = temp_df['Âge'].apply(lambda x: age_transformation(x))\n",
    "print(temp_df)"
   ]
  },
  {
   "cell_type": "code",
   "execution_count": 153,
   "id": "fbf09f13",
   "metadata": {},
   "outputs": [
    {
     "data": {
      "text/html": [
       "<div>\n",
       "<style scoped>\n",
       "    .dataframe tbody tr th:only-of-type {\n",
       "        vertical-align: middle;\n",
       "    }\n",
       "\n",
       "    .dataframe tbody tr th {\n",
       "        vertical-align: top;\n",
       "    }\n",
       "\n",
       "    .dataframe thead th {\n",
       "        text-align: right;\n",
       "    }\n",
       "</style>\n",
       "<table border=\"1\" class=\"dataframe\">\n",
       "  <thead>\n",
       "    <tr style=\"text-align: right;\">\n",
       "      <th></th>\n",
       "      <th>name</th>\n",
       "      <th>group</th>\n",
       "      <th>vote</th>\n",
       "      <th>Genre</th>\n",
       "      <th>Âge</th>\n",
       "      <th>District</th>\n",
       "      <th>affairVoteId</th>\n",
       "    </tr>\n",
       "  </thead>\n",
       "  <tbody>\n",
       "    <tr>\n",
       "      <th>0</th>\n",
       "      <td>Matteo ABÄCHERLI</td>\n",
       "      <td>CVPO</td>\n",
       "      <td>-1.0</td>\n",
       "      <td>H</td>\n",
       "      <td>30-45</td>\n",
       "      <td>Visp</td>\n",
       "      <td>20211207160250</td>\n",
       "    </tr>\n",
       "    <tr>\n",
       "      <th>1</th>\n",
       "      <td>Claudia ALPIGER</td>\n",
       "      <td>ZUK-VS</td>\n",
       "      <td>1.0</td>\n",
       "      <td>F</td>\n",
       "      <td>30-45</td>\n",
       "      <td>Brig</td>\n",
       "      <td>20211207160250</td>\n",
       "    </tr>\n",
       "    <tr>\n",
       "      <th>2</th>\n",
       "      <td>Romano AMACKER</td>\n",
       "      <td>SVPO</td>\n",
       "      <td>-1.0</td>\n",
       "      <td>H</td>\n",
       "      <td>18-30</td>\n",
       "      <td>Westlich Raron</td>\n",
       "      <td>20211207160250</td>\n",
       "    </tr>\n",
       "    <tr>\n",
       "      <th>3</th>\n",
       "      <td>Maria ARNOLD-ESCHER</td>\n",
       "      <td>CVPO</td>\n",
       "      <td>-1.0</td>\n",
       "      <td>F</td>\n",
       "      <td>45-65</td>\n",
       "      <td>Brig</td>\n",
       "      <td>20211207160250</td>\n",
       "    </tr>\n",
       "    <tr>\n",
       "      <th>4</th>\n",
       "      <td>Peter BÄHLER</td>\n",
       "      <td>SVPO</td>\n",
       "      <td>-1.0</td>\n",
       "      <td>H</td>\n",
       "      <td>65+</td>\n",
       "      <td>Goms</td>\n",
       "      <td>20211207160250</td>\n",
       "    </tr>\n",
       "  </tbody>\n",
       "</table>\n",
       "</div>"
      ],
      "text/plain": [
       "                  name   group  vote Genre    Âge        District  \\\n",
       "0     Matteo ABÄCHERLI    CVPO  -1.0     H  30-45            Visp   \n",
       "1      Claudia ALPIGER  ZUK-VS   1.0     F  30-45            Brig   \n",
       "2       Romano AMACKER    SVPO  -1.0     H  18-30  Westlich Raron   \n",
       "3  Maria ARNOLD-ESCHER    CVPO  -1.0     F  45-65            Brig   \n",
       "4         Peter BÄHLER    SVPO  -1.0     H    65+            Goms   \n",
       "\n",
       "     affairVoteId  \n",
       "0  20211207160250  \n",
       "1  20211207160250  \n",
       "2  20211207160250  \n",
       "3  20211207160250  \n",
       "4  20211207160250  "
      ]
     },
     "execution_count": 153,
     "metadata": {},
     "output_type": "execute_result"
    }
   ],
   "source": [
    "full_votes.head()"
   ]
  },
  {
   "cell_type": "code",
   "execution_count": 154,
   "id": "009c293a",
   "metadata": {},
   "outputs": [],
   "source": [
    "df['art_id'] = df['art_id'].apply(lambda x: int(x))\n",
    "df.rename(columns={\"art_id\": \"artId\"}, inplace=True)"
   ]
  },
  {
   "cell_type": "markdown",
   "id": "c5f7a213",
   "metadata": {},
   "source": [
    "We combine the two datasets in order to have the final dataset with for each MP his votes for each article. "
   ]
  },
  {
   "cell_type": "code",
   "execution_count": 171,
   "id": "a95c2807",
   "metadata": {
    "scrolled": true
   },
   "outputs": [
    {
     "name": "stdout",
     "output_type": "stream",
     "text": [
      "(5330, 18)\n",
      "(4753, 18)\n",
      "(4588, 18)\n"
     ]
    },
    {
     "data": {
      "text/html": [
       "<div>\n",
       "<style scoped>\n",
       "    .dataframe tbody tr th:only-of-type {\n",
       "        vertical-align: middle;\n",
       "    }\n",
       "\n",
       "    .dataframe tbody tr th {\n",
       "        vertical-align: top;\n",
       "    }\n",
       "\n",
       "    .dataframe thead th {\n",
       "        text-align: right;\n",
       "    }\n",
       "</style>\n",
       "<table border=\"1\" class=\"dataframe\">\n",
       "  <thead>\n",
       "    <tr style=\"text-align: right;\">\n",
       "      <th></th>\n",
       "      <th>Unnamed: 0</th>\n",
       "      <th>label</th>\n",
       "      <th>affairVoteId</th>\n",
       "      <th>meaningYesText</th>\n",
       "      <th>meaningNoText</th>\n",
       "      <th>numYes</th>\n",
       "      <th>numNo</th>\n",
       "      <th>numAbst</th>\n",
       "      <th>section</th>\n",
       "      <th>artId</th>\n",
       "      <th>orientation</th>\n",
       "      <th>progvscons</th>\n",
       "      <th>name</th>\n",
       "      <th>group</th>\n",
       "      <th>vote</th>\n",
       "      <th>Genre</th>\n",
       "      <th>Âge</th>\n",
       "      <th>District</th>\n",
       "    </tr>\n",
       "  </thead>\n",
       "  <tbody>\n",
       "    <tr>\n",
       "      <th>0</th>\n",
       "      <td>580</td>\n",
       "      <td>606, vote 1 : Commission contre A-606.28 CVPO/...</td>\n",
       "      <td>20211207160250</td>\n",
       "      <td>En l’absence d’un congé parental fédéral, l’Ét...</td>\n",
       "      <td>(néant)</td>\n",
       "      <td>68</td>\n",
       "      <td>35</td>\n",
       "      <td>4</td>\n",
       "      <td>1ère lecture - Commission 6</td>\n",
       "      <td>606</td>\n",
       "      <td>-1</td>\n",
       "      <td>-1</td>\n",
       "      <td>Matteo ABÄCHERLI</td>\n",
       "      <td>CVPO</td>\n",
       "      <td>-1.0</td>\n",
       "      <td>H</td>\n",
       "      <td>30-45</td>\n",
       "      <td>Visp</td>\n",
       "    </tr>\n",
       "    <tr>\n",
       "      <th>1</th>\n",
       "      <td>580</td>\n",
       "      <td>606, vote 1 : Commission contre A-606.28 CVPO/...</td>\n",
       "      <td>20211207160250</td>\n",
       "      <td>En l’absence d’un congé parental fédéral, l’Ét...</td>\n",
       "      <td>(néant)</td>\n",
       "      <td>68</td>\n",
       "      <td>35</td>\n",
       "      <td>4</td>\n",
       "      <td>1ère lecture - Commission 6</td>\n",
       "      <td>606</td>\n",
       "      <td>-1</td>\n",
       "      <td>-1</td>\n",
       "      <td>Claudia ALPIGER</td>\n",
       "      <td>ZUK-VS</td>\n",
       "      <td>1.0</td>\n",
       "      <td>F</td>\n",
       "      <td>30-45</td>\n",
       "      <td>Brig</td>\n",
       "    </tr>\n",
       "    <tr>\n",
       "      <th>2</th>\n",
       "      <td>580</td>\n",
       "      <td>606, vote 1 : Commission contre A-606.28 CVPO/...</td>\n",
       "      <td>20211207160250</td>\n",
       "      <td>En l’absence d’un congé parental fédéral, l’Ét...</td>\n",
       "      <td>(néant)</td>\n",
       "      <td>68</td>\n",
       "      <td>35</td>\n",
       "      <td>4</td>\n",
       "      <td>1ère lecture - Commission 6</td>\n",
       "      <td>606</td>\n",
       "      <td>-1</td>\n",
       "      <td>-1</td>\n",
       "      <td>Romano AMACKER</td>\n",
       "      <td>SVPO</td>\n",
       "      <td>-1.0</td>\n",
       "      <td>H</td>\n",
       "      <td>18-30</td>\n",
       "      <td>Westlich Raron</td>\n",
       "    </tr>\n",
       "    <tr>\n",
       "      <th>3</th>\n",
       "      <td>580</td>\n",
       "      <td>606, vote 1 : Commission contre A-606.28 CVPO/...</td>\n",
       "      <td>20211207160250</td>\n",
       "      <td>En l’absence d’un congé parental fédéral, l’Ét...</td>\n",
       "      <td>(néant)</td>\n",
       "      <td>68</td>\n",
       "      <td>35</td>\n",
       "      <td>4</td>\n",
       "      <td>1ère lecture - Commission 6</td>\n",
       "      <td>606</td>\n",
       "      <td>-1</td>\n",
       "      <td>-1</td>\n",
       "      <td>Maria ARNOLD-ESCHER</td>\n",
       "      <td>CVPO</td>\n",
       "      <td>-1.0</td>\n",
       "      <td>F</td>\n",
       "      <td>45-65</td>\n",
       "      <td>Brig</td>\n",
       "    </tr>\n",
       "    <tr>\n",
       "      <th>4</th>\n",
       "      <td>580</td>\n",
       "      <td>606, vote 1 : Commission contre A-606.28 CVPO/...</td>\n",
       "      <td>20211207160250</td>\n",
       "      <td>En l’absence d’un congé parental fédéral, l’Ét...</td>\n",
       "      <td>(néant)</td>\n",
       "      <td>68</td>\n",
       "      <td>35</td>\n",
       "      <td>4</td>\n",
       "      <td>1ère lecture - Commission 6</td>\n",
       "      <td>606</td>\n",
       "      <td>-1</td>\n",
       "      <td>-1</td>\n",
       "      <td>Peter BÄHLER</td>\n",
       "      <td>SVPO</td>\n",
       "      <td>-1.0</td>\n",
       "      <td>H</td>\n",
       "      <td>65+</td>\n",
       "      <td>Goms</td>\n",
       "    </tr>\n",
       "  </tbody>\n",
       "</table>\n",
       "</div>"
      ],
      "text/plain": [
       "   Unnamed: 0                                              label  \\\n",
       "0         580  606, vote 1 : Commission contre A-606.28 CVPO/...   \n",
       "1         580  606, vote 1 : Commission contre A-606.28 CVPO/...   \n",
       "2         580  606, vote 1 : Commission contre A-606.28 CVPO/...   \n",
       "3         580  606, vote 1 : Commission contre A-606.28 CVPO/...   \n",
       "4         580  606, vote 1 : Commission contre A-606.28 CVPO/...   \n",
       "\n",
       "     affairVoteId                                     meaningYesText  \\\n",
       "0  20211207160250  En l’absence d’un congé parental fédéral, l’Ét...   \n",
       "1  20211207160250  En l’absence d’un congé parental fédéral, l’Ét...   \n",
       "2  20211207160250  En l’absence d’un congé parental fédéral, l’Ét...   \n",
       "3  20211207160250  En l’absence d’un congé parental fédéral, l’Ét...   \n",
       "4  20211207160250  En l’absence d’un congé parental fédéral, l’Ét...   \n",
       "\n",
       "  meaningNoText  numYes  numNo  numAbst                      section  artId  \\\n",
       "0       (néant)      68     35        4  1ère lecture - Commission 6    606   \n",
       "1       (néant)      68     35        4  1ère lecture - Commission 6    606   \n",
       "2       (néant)      68     35        4  1ère lecture - Commission 6    606   \n",
       "3       (néant)      68     35        4  1ère lecture - Commission 6    606   \n",
       "4       (néant)      68     35        4  1ère lecture - Commission 6    606   \n",
       "\n",
       "   orientation  progvscons                 name   group  vote Genre    Âge  \\\n",
       "0           -1          -1     Matteo ABÄCHERLI    CVPO  -1.0     H  30-45   \n",
       "1           -1          -1      Claudia ALPIGER  ZUK-VS   1.0     F  30-45   \n",
       "2           -1          -1       Romano AMACKER    SVPO  -1.0     H  18-30   \n",
       "3           -1          -1  Maria ARNOLD-ESCHER    CVPO  -1.0     F  45-65   \n",
       "4           -1          -1         Peter BÄHLER    SVPO  -1.0     H    65+   \n",
       "\n",
       "         District  \n",
       "0            Visp  \n",
       "1            Brig  \n",
       "2  Westlich Raron  \n",
       "3            Brig  \n",
       "4            Goms  "
      ]
     },
     "execution_count": 171,
     "metadata": {},
     "output_type": "execute_result"
    }
   ],
   "source": [
    "final_df = pd.merge(df, full_votes, on='affairVoteId')\n",
    "print(final_df.shape)\n",
    "final_df=final_df.dropna(axis=0)\n",
    "print(final_df.shape)\n",
    "final_df = final_df[final_df.vote != 0]\n",
    "print(final_df.shape)\n",
    "final_df.head()"
   ]
  },
  {
   "cell_type": "markdown",
   "id": "1e82173d",
   "metadata": {},
   "source": [
    "Test part"
   ]
  },
  {
   "cell_type": "code",
   "execution_count": 172,
   "id": "a40f4e83",
   "metadata": {
    "scrolled": true
   },
   "outputs": [
    {
     "name": "stdout",
     "output_type": "stream",
     "text": [
      "(20, 18)\n"
     ]
    },
    {
     "data": {
      "text/html": [
       "<div>\n",
       "<style scoped>\n",
       "    .dataframe tbody tr th:only-of-type {\n",
       "        vertical-align: middle;\n",
       "    }\n",
       "\n",
       "    .dataframe tbody tr th {\n",
       "        vertical-align: top;\n",
       "    }\n",
       "\n",
       "    .dataframe thead th {\n",
       "        text-align: right;\n",
       "    }\n",
       "</style>\n",
       "<table border=\"1\" class=\"dataframe\">\n",
       "  <thead>\n",
       "    <tr style=\"text-align: right;\">\n",
       "      <th></th>\n",
       "      <th>Unnamed: 0</th>\n",
       "      <th>label</th>\n",
       "      <th>affairVoteId</th>\n",
       "      <th>meaningYesText</th>\n",
       "      <th>meaningNoText</th>\n",
       "      <th>numYes</th>\n",
       "      <th>numNo</th>\n",
       "      <th>numAbst</th>\n",
       "      <th>section</th>\n",
       "      <th>artId</th>\n",
       "      <th>orientation</th>\n",
       "      <th>progvscons</th>\n",
       "      <th>name</th>\n",
       "      <th>group</th>\n",
       "      <th>vote</th>\n",
       "      <th>Genre</th>\n",
       "      <th>Âge</th>\n",
       "      <th>District</th>\n",
       "    </tr>\n",
       "  </thead>\n",
       "  <tbody>\n",
       "    <tr>\n",
       "      <th>34</th>\n",
       "      <td>580</td>\n",
       "      <td>606, vote 1 : Commission contre A-606.28 CVPO/...</td>\n",
       "      <td>20211207160250</td>\n",
       "      <td>En l’absence d’un congé parental fédéral, l’Ét...</td>\n",
       "      <td>(néant)</td>\n",
       "      <td>68</td>\n",
       "      <td>35</td>\n",
       "      <td>4</td>\n",
       "      <td>1ère lecture - Commission 6</td>\n",
       "      <td>606</td>\n",
       "      <td>-1</td>\n",
       "      <td>-1</td>\n",
       "      <td>Alain DUBOSSON</td>\n",
       "      <td>UDC</td>\n",
       "      <td>-1.0</td>\n",
       "      <td>H</td>\n",
       "      <td>18-30</td>\n",
       "      <td>Monthey</td>\n",
       "    </tr>\n",
       "    <tr>\n",
       "      <th>164</th>\n",
       "      <td>593</td>\n",
       "      <td>603, vote 4 : Commission (y.c. V/A 1-3) contre...</td>\n",
       "      <td>20211207144242</td>\n",
       "      <td>Art. 603 Enfance&lt;br/&gt;\\n&lt;ol&gt;&lt;li&gt;L’État et les c...</td>\n",
       "      <td>(néant)</td>\n",
       "      <td>90</td>\n",
       "      <td>14</td>\n",
       "      <td>1</td>\n",
       "      <td>1ère lecture - Commission 6</td>\n",
       "      <td>603</td>\n",
       "      <td>-1</td>\n",
       "      <td>-1</td>\n",
       "      <td>Alain DUBOSSON</td>\n",
       "      <td>UDC</td>\n",
       "      <td>-1.0</td>\n",
       "      <td>H</td>\n",
       "      <td>18-30</td>\n",
       "      <td>Monthey</td>\n",
       "    </tr>\n",
       "    <tr>\n",
       "      <th>294</th>\n",
       "      <td>596</td>\n",
       "      <td>602, vote 2 : Commission (y.c. V/A 1) contre A...</td>\n",
       "      <td>20211207143809</td>\n",
       "      <td>L'État et les communes développent une\\npoliti...</td>\n",
       "      <td>(néant)</td>\n",
       "      <td>89</td>\n",
       "      <td>14</td>\n",
       "      <td>2</td>\n",
       "      <td>1ère lecture - Commission 6</td>\n",
       "      <td>602</td>\n",
       "      <td>-1</td>\n",
       "      <td>-1</td>\n",
       "      <td>Alain DUBOSSON</td>\n",
       "      <td>UDC</td>\n",
       "      <td>-1.0</td>\n",
       "      <td>H</td>\n",
       "      <td>18-30</td>\n",
       "      <td>Monthey</td>\n",
       "    </tr>\n",
       "    <tr>\n",
       "      <th>424</th>\n",
       "      <td>632</td>\n",
       "      <td>503, vote 2 : Résultat V/A 1 contre A-503.14 U...</td>\n",
       "      <td>20211207092238</td>\n",
       "      <td>L’État prend des mesures propres à lutter cont...</td>\n",
       "      <td>(néant)</td>\n",
       "      <td>92</td>\n",
       "      <td>12</td>\n",
       "      <td>1</td>\n",
       "      <td>1ère lecture - Commission 5</td>\n",
       "      <td>503</td>\n",
       "      <td>-1</td>\n",
       "      <td>-1</td>\n",
       "      <td>Alain DUBOSSON</td>\n",
       "      <td>UDC</td>\n",
       "      <td>-1.0</td>\n",
       "      <td>H</td>\n",
       "      <td>18-30</td>\n",
       "      <td>Monthey</td>\n",
       "    </tr>\n",
       "    <tr>\n",
       "      <th>3153</th>\n",
       "      <td>843</td>\n",
       "      <td>311, vote 4 : Commission contre A-311.40 UDCVR...</td>\n",
       "      <td>20211021170730</td>\n",
       "      <td>&lt;b&gt;Art. 311 Représentation des femmes et des h...</td>\n",
       "      <td>(néant)</td>\n",
       "      <td>64</td>\n",
       "      <td>48</td>\n",
       "      <td>2</td>\n",
       "      <td>1ère lecture - Commission 3</td>\n",
       "      <td>311</td>\n",
       "      <td>-1</td>\n",
       "      <td>-1</td>\n",
       "      <td>Alain DUBOSSON</td>\n",
       "      <td>UDC</td>\n",
       "      <td>-1.0</td>\n",
       "      <td>H</td>\n",
       "      <td>18-30</td>\n",
       "      <td>Monthey</td>\n",
       "    </tr>\n",
       "  </tbody>\n",
       "</table>\n",
       "</div>"
      ],
      "text/plain": [
       "      Unnamed: 0                                              label  \\\n",
       "34           580  606, vote 1 : Commission contre A-606.28 CVPO/...   \n",
       "164          593  603, vote 4 : Commission (y.c. V/A 1-3) contre...   \n",
       "294          596  602, vote 2 : Commission (y.c. V/A 1) contre A...   \n",
       "424          632  503, vote 2 : Résultat V/A 1 contre A-503.14 U...   \n",
       "3153         843  311, vote 4 : Commission contre A-311.40 UDCVR...   \n",
       "\n",
       "        affairVoteId                                     meaningYesText  \\\n",
       "34    20211207160250  En l’absence d’un congé parental fédéral, l’Ét...   \n",
       "164   20211207144242  Art. 603 Enfance<br/>\\n<ol><li>L’État et les c...   \n",
       "294   20211207143809  L'État et les communes développent une\\npoliti...   \n",
       "424   20211207092238  L’État prend des mesures propres à lutter cont...   \n",
       "3153  20211021170730  <b>Art. 311 Représentation des femmes et des h...   \n",
       "\n",
       "     meaningNoText  numYes  numNo  numAbst                      section  \\\n",
       "34         (néant)      68     35        4  1ère lecture - Commission 6   \n",
       "164        (néant)      90     14        1  1ère lecture - Commission 6   \n",
       "294        (néant)      89     14        2  1ère lecture - Commission 6   \n",
       "424        (néant)      92     12        1  1ère lecture - Commission 5   \n",
       "3153       (néant)      64     48        2  1ère lecture - Commission 3   \n",
       "\n",
       "      artId  orientation  progvscons            name group  vote Genre    Âge  \\\n",
       "34      606           -1          -1  Alain DUBOSSON   UDC  -1.0     H  18-30   \n",
       "164     603           -1          -1  Alain DUBOSSON   UDC  -1.0     H  18-30   \n",
       "294     602           -1          -1  Alain DUBOSSON   UDC  -1.0     H  18-30   \n",
       "424     503           -1          -1  Alain DUBOSSON   UDC  -1.0     H  18-30   \n",
       "3153    311           -1          -1  Alain DUBOSSON   UDC  -1.0     H  18-30   \n",
       "\n",
       "     District  \n",
       "34    Monthey  \n",
       "164   Monthey  \n",
       "294   Monthey  \n",
       "424   Monthey  \n",
       "3153  Monthey  "
      ]
     },
     "execution_count": 172,
     "metadata": {},
     "output_type": "execute_result"
    }
   ],
   "source": [
    "test = final_df[final_df['name'] == 'Alain DUBOSSON']\n",
    "print(test.shape)\n",
    "test.head()"
   ]
  },
  {
   "cell_type": "code",
   "execution_count": 167,
   "id": "f99afdae",
   "metadata": {},
   "outputs": [
    {
     "name": "stderr",
     "output_type": "stream",
     "text": [
      "/tmp/ipykernel_27490/4055641854.py:1: SettingWithCopyWarning:\n",
      "\n",
      "\n",
      "A value is trying to be set on a copy of a slice from a DataFrame.\n",
      "Try using .loc[row_indexer,col_indexer] = value instead\n",
      "\n",
      "See the caveats in the documentation: https://pandas.pydata.org/pandas-docs/stable/user_guide/indexing.html#returning-a-view-versus-a-copy\n",
      "\n",
      "/tmp/ipykernel_27490/4055641854.py:2: SettingWithCopyWarning:\n",
      "\n",
      "\n",
      "A value is trying to be set on a copy of a slice from a DataFrame.\n",
      "Try using .loc[row_indexer,col_indexer] = value instead\n",
      "\n",
      "See the caveats in the documentation: https://pandas.pydata.org/pandas-docs/stable/user_guide/indexing.html#returning-a-view-versus-a-copy\n",
      "\n"
     ]
    },
    {
     "data": {
      "text/html": [
       "<div>\n",
       "<style scoped>\n",
       "    .dataframe tbody tr th:only-of-type {\n",
       "        vertical-align: middle;\n",
       "    }\n",
       "\n",
       "    .dataframe tbody tr th {\n",
       "        vertical-align: top;\n",
       "    }\n",
       "\n",
       "    .dataframe thead th {\n",
       "        text-align: right;\n",
       "    }\n",
       "</style>\n",
       "<table border=\"1\" class=\"dataframe\">\n",
       "  <thead>\n",
       "    <tr style=\"text-align: right;\">\n",
       "      <th></th>\n",
       "      <th>Unnamed: 0</th>\n",
       "      <th>label</th>\n",
       "      <th>affairVoteId</th>\n",
       "      <th>meaningYesText</th>\n",
       "      <th>meaningNoText</th>\n",
       "      <th>numYes</th>\n",
       "      <th>numNo</th>\n",
       "      <th>numAbst</th>\n",
       "      <th>section</th>\n",
       "      <th>artId</th>\n",
       "      <th>orientation</th>\n",
       "      <th>progvscons</th>\n",
       "      <th>name</th>\n",
       "      <th>group</th>\n",
       "      <th>vote</th>\n",
       "      <th>Genre</th>\n",
       "      <th>Âge</th>\n",
       "      <th>District</th>\n",
       "    </tr>\n",
       "  </thead>\n",
       "  <tbody>\n",
       "    <tr>\n",
       "      <th>34</th>\n",
       "      <td>580</td>\n",
       "      <td>606, vote 1 : Commission contre A-606.28 CVPO/...</td>\n",
       "      <td>20211207160250</td>\n",
       "      <td>En l’absence d’un congé parental fédéral, l’Ét...</td>\n",
       "      <td>(néant)</td>\n",
       "      <td>68</td>\n",
       "      <td>35</td>\n",
       "      <td>4</td>\n",
       "      <td>1ère lecture - Commission 6</td>\n",
       "      <td>606</td>\n",
       "      <td>1.0</td>\n",
       "      <td>1.0</td>\n",
       "      <td>Alain DUBOSSON</td>\n",
       "      <td>UDC</td>\n",
       "      <td>-1.0</td>\n",
       "      <td>H</td>\n",
       "      <td>18-30</td>\n",
       "      <td>Monthey</td>\n",
       "    </tr>\n",
       "    <tr>\n",
       "      <th>164</th>\n",
       "      <td>593</td>\n",
       "      <td>603, vote 4 : Commission (y.c. V/A 1-3) contre...</td>\n",
       "      <td>20211207144242</td>\n",
       "      <td>Art. 603 Enfance&lt;br/&gt;\\n&lt;ol&gt;&lt;li&gt;L’État et les c...</td>\n",
       "      <td>(néant)</td>\n",
       "      <td>90</td>\n",
       "      <td>14</td>\n",
       "      <td>1</td>\n",
       "      <td>1ère lecture - Commission 6</td>\n",
       "      <td>603</td>\n",
       "      <td>1.0</td>\n",
       "      <td>1.0</td>\n",
       "      <td>Alain DUBOSSON</td>\n",
       "      <td>UDC</td>\n",
       "      <td>-1.0</td>\n",
       "      <td>H</td>\n",
       "      <td>18-30</td>\n",
       "      <td>Monthey</td>\n",
       "    </tr>\n",
       "    <tr>\n",
       "      <th>294</th>\n",
       "      <td>596</td>\n",
       "      <td>602, vote 2 : Commission (y.c. V/A 1) contre A...</td>\n",
       "      <td>20211207143809</td>\n",
       "      <td>L'État et les communes développent une\\npoliti...</td>\n",
       "      <td>(néant)</td>\n",
       "      <td>89</td>\n",
       "      <td>14</td>\n",
       "      <td>2</td>\n",
       "      <td>1ère lecture - Commission 6</td>\n",
       "      <td>602</td>\n",
       "      <td>1.0</td>\n",
       "      <td>1.0</td>\n",
       "      <td>Alain DUBOSSON</td>\n",
       "      <td>UDC</td>\n",
       "      <td>-1.0</td>\n",
       "      <td>H</td>\n",
       "      <td>18-30</td>\n",
       "      <td>Monthey</td>\n",
       "    </tr>\n",
       "    <tr>\n",
       "      <th>424</th>\n",
       "      <td>632</td>\n",
       "      <td>503, vote 2 : Résultat V/A 1 contre A-503.14 U...</td>\n",
       "      <td>20211207092238</td>\n",
       "      <td>L’État prend des mesures propres à lutter cont...</td>\n",
       "      <td>(néant)</td>\n",
       "      <td>92</td>\n",
       "      <td>12</td>\n",
       "      <td>1</td>\n",
       "      <td>1ère lecture - Commission 5</td>\n",
       "      <td>503</td>\n",
       "      <td>1.0</td>\n",
       "      <td>1.0</td>\n",
       "      <td>Alain DUBOSSON</td>\n",
       "      <td>UDC</td>\n",
       "      <td>-1.0</td>\n",
       "      <td>H</td>\n",
       "      <td>18-30</td>\n",
       "      <td>Monthey</td>\n",
       "    </tr>\n",
       "    <tr>\n",
       "      <th>3153</th>\n",
       "      <td>843</td>\n",
       "      <td>311, vote 4 : Commission contre A-311.40 UDCVR...</td>\n",
       "      <td>20211021170730</td>\n",
       "      <td>&lt;b&gt;Art. 311 Représentation des femmes et des h...</td>\n",
       "      <td>(néant)</td>\n",
       "      <td>64</td>\n",
       "      <td>48</td>\n",
       "      <td>2</td>\n",
       "      <td>1ère lecture - Commission 3</td>\n",
       "      <td>311</td>\n",
       "      <td>1.0</td>\n",
       "      <td>1.0</td>\n",
       "      <td>Alain DUBOSSON</td>\n",
       "      <td>UDC</td>\n",
       "      <td>-1.0</td>\n",
       "      <td>H</td>\n",
       "      <td>18-30</td>\n",
       "      <td>Monthey</td>\n",
       "    </tr>\n",
       "  </tbody>\n",
       "</table>\n",
       "</div>"
      ],
      "text/plain": [
       "      Unnamed: 0                                              label  \\\n",
       "34           580  606, vote 1 : Commission contre A-606.28 CVPO/...   \n",
       "164          593  603, vote 4 : Commission (y.c. V/A 1-3) contre...   \n",
       "294          596  602, vote 2 : Commission (y.c. V/A 1) contre A...   \n",
       "424          632  503, vote 2 : Résultat V/A 1 contre A-503.14 U...   \n",
       "3153         843  311, vote 4 : Commission contre A-311.40 UDCVR...   \n",
       "\n",
       "        affairVoteId                                     meaningYesText  \\\n",
       "34    20211207160250  En l’absence d’un congé parental fédéral, l’Ét...   \n",
       "164   20211207144242  Art. 603 Enfance<br/>\\n<ol><li>L’État et les c...   \n",
       "294   20211207143809  L'État et les communes développent une\\npoliti...   \n",
       "424   20211207092238  L’État prend des mesures propres à lutter cont...   \n",
       "3153  20211021170730  <b>Art. 311 Représentation des femmes et des h...   \n",
       "\n",
       "     meaningNoText  numYes  numNo  numAbst                      section  \\\n",
       "34         (néant)      68     35        4  1ère lecture - Commission 6   \n",
       "164        (néant)      90     14        1  1ère lecture - Commission 6   \n",
       "294        (néant)      89     14        2  1ère lecture - Commission 6   \n",
       "424        (néant)      92     12        1  1ère lecture - Commission 5   \n",
       "3153       (néant)      64     48        2  1ère lecture - Commission 3   \n",
       "\n",
       "      artId  orientation  progvscons            name group  vote Genre    Âge  \\\n",
       "34      606          1.0         1.0  Alain DUBOSSON   UDC  -1.0     H  18-30   \n",
       "164     603          1.0         1.0  Alain DUBOSSON   UDC  -1.0     H  18-30   \n",
       "294     602          1.0         1.0  Alain DUBOSSON   UDC  -1.0     H  18-30   \n",
       "424     503          1.0         1.0  Alain DUBOSSON   UDC  -1.0     H  18-30   \n",
       "3153    311          1.0         1.0  Alain DUBOSSON   UDC  -1.0     H  18-30   \n",
       "\n",
       "     District  \n",
       "34    Monthey  \n",
       "164   Monthey  \n",
       "294   Monthey  \n",
       "424   Monthey  \n",
       "3153  Monthey  "
      ]
     },
     "execution_count": 167,
     "metadata": {},
     "output_type": "execute_result"
    }
   ],
   "source": [
    "test['orientation'] = test['orientation'] * test['vote']\n",
    "test['progvscons'] = test['progvscons']*test['vote']\n",
    "test.head()"
   ]
  },
  {
   "cell_type": "code",
   "execution_count": 180,
   "id": "24ec5294",
   "metadata": {
    "scrolled": true
   },
   "outputs": [
    {
     "name": "stdout",
     "output_type": "stream",
     "text": [
      "0\n",
      "0\n",
      "(20, 8)\n"
     ]
    },
    {
     "name": "stderr",
     "output_type": "stream",
     "text": [
      "/tmp/ipykernel_27490/558706165.py:5: SettingWithCopyWarning:\n",
      "\n",
      "\n",
      "A value is trying to be set on a copy of a slice from a DataFrame.\n",
      "Try using .loc[row_indexer,col_indexer] = value instead\n",
      "\n",
      "See the caveats in the documentation: https://pandas.pydata.org/pandas-docs/stable/user_guide/indexing.html#returning-a-view-versus-a-copy\n",
      "\n",
      "/tmp/ipykernel_27490/558706165.py:6: SettingWithCopyWarning:\n",
      "\n",
      "\n",
      "A value is trying to be set on a copy of a slice from a DataFrame.\n",
      "Try using .loc[row_indexer,col_indexer] = value instead\n",
      "\n",
      "See the caveats in the documentation: https://pandas.pydata.org/pandas-docs/stable/user_guide/indexing.html#returning-a-view-versus-a-copy\n",
      "\n",
      "/tmp/ipykernel_27490/558706165.py:13: SettingWithCopyWarning:\n",
      "\n",
      "\n",
      "A value is trying to be set on a copy of a slice from a DataFrame.\n",
      "Try using .loc[row_indexer,col_indexer] = value instead\n",
      "\n",
      "See the caveats in the documentation: https://pandas.pydata.org/pandas-docs/stable/user_guide/indexing.html#returning-a-view-versus-a-copy\n",
      "\n",
      "/tmp/ipykernel_27490/558706165.py:14: SettingWithCopyWarning:\n",
      "\n",
      "\n",
      "A value is trying to be set on a copy of a slice from a DataFrame.\n",
      "Try using .loc[row_indexer,col_indexer] = value instead\n",
      "\n",
      "See the caveats in the documentation: https://pandas.pydata.org/pandas-docs/stable/user_guide/indexing.html#returning-a-view-versus-a-copy\n",
      "\n"
     ]
    },
    {
     "data": {
      "text/html": [
       "<div>\n",
       "<style scoped>\n",
       "    .dataframe tbody tr th:only-of-type {\n",
       "        vertical-align: middle;\n",
       "    }\n",
       "\n",
       "    .dataframe tbody tr th {\n",
       "        vertical-align: top;\n",
       "    }\n",
       "\n",
       "    .dataframe thead th {\n",
       "        text-align: right;\n",
       "    }\n",
       "</style>\n",
       "<table border=\"1\" class=\"dataframe\">\n",
       "  <thead>\n",
       "    <tr style=\"text-align: right;\">\n",
       "      <th></th>\n",
       "      <th></th>\n",
       "      <th></th>\n",
       "      <th></th>\n",
       "      <th></th>\n",
       "      <th>vote</th>\n",
       "      <th>orientation</th>\n",
       "      <th>progvscons</th>\n",
       "    </tr>\n",
       "    <tr>\n",
       "      <th>name</th>\n",
       "      <th>group</th>\n",
       "      <th>Genre</th>\n",
       "      <th>District</th>\n",
       "      <th>Âge</th>\n",
       "      <th></th>\n",
       "      <th></th>\n",
       "      <th></th>\n",
       "    </tr>\n",
       "  </thead>\n",
       "  <tbody>\n",
       "    <tr>\n",
       "      <th>Adeline CRETTENAND</th>\n",
       "      <th>VLR</th>\n",
       "      <th>F</th>\n",
       "      <th>Martigny</th>\n",
       "      <th>18-30</th>\n",
       "      <td>0.000000</td>\n",
       "      <td>0.205882</td>\n",
       "      <td>0.205882</td>\n",
       "    </tr>\n",
       "    <tr>\n",
       "      <th>Alain DUBOSSON</th>\n",
       "      <th>UDC</th>\n",
       "      <th>H</th>\n",
       "      <th>Monthey</th>\n",
       "      <th>18-30</th>\n",
       "      <td>-0.400000</td>\n",
       "      <td>0.500000</td>\n",
       "      <td>0.800000</td>\n",
       "    </tr>\n",
       "    <tr>\n",
       "      <th>Alain LÉGER</th>\n",
       "      <th>PDC</th>\n",
       "      <th>H</th>\n",
       "      <th>Martigny</th>\n",
       "      <th>30-45</th>\n",
       "      <td>0.384615</td>\n",
       "      <td>0.076923</td>\n",
       "      <td>0.051282</td>\n",
       "    </tr>\n",
       "    <tr>\n",
       "      <th>Alain SCHÖNBETT</th>\n",
       "      <th>VLR</th>\n",
       "      <th>H</th>\n",
       "      <th>Monthey</th>\n",
       "      <th>65+</th>\n",
       "      <td>0.485714</td>\n",
       "      <td>-0.171429</td>\n",
       "      <td>-0.457143</td>\n",
       "    </tr>\n",
       "    <tr>\n",
       "      <th>Alex BONVIN</th>\n",
       "      <th>UDC</th>\n",
       "      <th>H</th>\n",
       "      <th>Sierre</th>\n",
       "      <th>45-65</th>\n",
       "      <td>-0.351351</td>\n",
       "      <td>0.378378</td>\n",
       "      <td>0.594595</td>\n",
       "    </tr>\n",
       "  </tbody>\n",
       "</table>\n",
       "</div>"
      ],
      "text/plain": [
       "                                                   vote  orientation  \\\n",
       "name               group Genre District Âge                            \n",
       "Adeline CRETTENAND VLR   F     Martigny 18-30  0.000000     0.205882   \n",
       "Alain DUBOSSON     UDC   H     Monthey  18-30 -0.400000     0.500000   \n",
       "Alain LÉGER        PDC   H     Martigny 30-45  0.384615     0.076923   \n",
       "Alain SCHÖNBETT    VLR   H     Monthey  65+    0.485714    -0.171429   \n",
       "Alex BONVIN        UDC   H     Sierre   45-65 -0.351351     0.378378   \n",
       "\n",
       "                                               progvscons  \n",
       "name               group Genre District Âge                \n",
       "Adeline CRETTENAND VLR   F     Martigny 18-30    0.205882  \n",
       "Alain DUBOSSON     UDC   H     Monthey  18-30    0.800000  \n",
       "Alain LÉGER        PDC   H     Martigny 30-45    0.051282  \n",
       "Alain SCHÖNBETT    VLR   H     Monthey  65+     -0.457143  \n",
       "Alex BONVIN        UDC   H     Sierre   45-65    0.594595  "
      ]
     },
     "execution_count": 180,
     "metadata": {},
     "output_type": "execute_result"
    }
   ],
   "source": [
    "counts_df = final_df[['name', 'group' , 'Genre', 'District', 'Âge', 'vote', 'orientation', 'progvscons']]\n",
    "test = counts_df[counts_df['name'] == 'Alain DUBOSSON']\n",
    "#, 'Genre', 'vote', 'District', 'Âge', \n",
    "print(counts_df['vote'].isnull().sum())\n",
    "counts_df['orientation'] = counts_df['orientation'].replace(np.nan, 0)\n",
    "counts_df['progvscons'] = counts_df['progvscons'].replace(np.nan, 0)\n",
    "#counts_df['orientation'] = counts_df['orientation'].fillna(0)\n",
    "#counts_df['progvscons'] = counts_df['progvscons'].fillna(0)\n",
    "print(counts_df['vote'].isnull().sum())\n",
    "#Si l'article est neutre, alors il n'influence pas la position du député \n",
    "# Cependant, s'il vote abst pour un article, alors ca influe sa position\n",
    "#Les votes aucun sont pas pris en compte\n",
    "counts_df['orientation'] = counts_df['vote'] * counts_df['orientation']\n",
    "counts_df['progvscons'] = counts_df['vote'] * counts_df['progvscons']\n",
    "print(test.shape)\n",
    "counts_df = counts_df.groupby(['name', 'group' , 'Genre', 'District', 'Âge']).mean()\n",
    "counts_df.to_csv('../Data/a_supprimer.csv')\n",
    "counts_df.head()"
   ]
  },
  {
   "cell_type": "code",
   "execution_count": 181,
   "id": "a256caad",
   "metadata": {},
   "outputs": [],
   "source": [
    "final_df.to_csv(\"../Data/check_votes_dep.csv\")"
   ]
  },
  {
   "cell_type": "code",
   "execution_count": 182,
   "id": "59c71069",
   "metadata": {
    "scrolled": false
   },
   "outputs": [
    {
     "data": {
      "text/html": [
       "<div>\n",
       "<style scoped>\n",
       "    .dataframe tbody tr th:only-of-type {\n",
       "        vertical-align: middle;\n",
       "    }\n",
       "\n",
       "    .dataframe tbody tr th {\n",
       "        vertical-align: top;\n",
       "    }\n",
       "\n",
       "    .dataframe thead th {\n",
       "        text-align: right;\n",
       "    }\n",
       "</style>\n",
       "<table border=\"1\" class=\"dataframe\">\n",
       "  <thead>\n",
       "    <tr style=\"text-align: right;\">\n",
       "      <th></th>\n",
       "      <th>name</th>\n",
       "      <th>group</th>\n",
       "      <th>Genre</th>\n",
       "      <th>District</th>\n",
       "      <th>Âge</th>\n",
       "      <th>vote</th>\n",
       "      <th>orientation</th>\n",
       "      <th>progvscons</th>\n",
       "    </tr>\n",
       "  </thead>\n",
       "  <tbody>\n",
       "    <tr>\n",
       "      <th>0</th>\n",
       "      <td>Adeline CRETTENAND</td>\n",
       "      <td>VLR</td>\n",
       "      <td>F</td>\n",
       "      <td>Martigny</td>\n",
       "      <td>18-30</td>\n",
       "      <td>0.000000</td>\n",
       "      <td>0.205882</td>\n",
       "      <td>0.205882</td>\n",
       "    </tr>\n",
       "    <tr>\n",
       "      <th>1</th>\n",
       "      <td>Alain DUBOSSON</td>\n",
       "      <td>UDC</td>\n",
       "      <td>H</td>\n",
       "      <td>Monthey</td>\n",
       "      <td>18-30</td>\n",
       "      <td>-0.400000</td>\n",
       "      <td>0.500000</td>\n",
       "      <td>0.800000</td>\n",
       "    </tr>\n",
       "    <tr>\n",
       "      <th>2</th>\n",
       "      <td>Alain LÉGER</td>\n",
       "      <td>PDC</td>\n",
       "      <td>H</td>\n",
       "      <td>Martigny</td>\n",
       "      <td>30-45</td>\n",
       "      <td>0.384615</td>\n",
       "      <td>0.076923</td>\n",
       "      <td>0.051282</td>\n",
       "    </tr>\n",
       "    <tr>\n",
       "      <th>3</th>\n",
       "      <td>Alain SCHÖNBETT</td>\n",
       "      <td>VLR</td>\n",
       "      <td>H</td>\n",
       "      <td>Monthey</td>\n",
       "      <td>65+</td>\n",
       "      <td>0.485714</td>\n",
       "      <td>-0.171429</td>\n",
       "      <td>-0.457143</td>\n",
       "    </tr>\n",
       "    <tr>\n",
       "      <th>4</th>\n",
       "      <td>Alex BONVIN</td>\n",
       "      <td>UDC</td>\n",
       "      <td>H</td>\n",
       "      <td>Sierre</td>\n",
       "      <td>45-65</td>\n",
       "      <td>-0.351351</td>\n",
       "      <td>0.378378</td>\n",
       "      <td>0.594595</td>\n",
       "    </tr>\n",
       "  </tbody>\n",
       "</table>\n",
       "</div>"
      ],
      "text/plain": [
       "                 name group Genre  District    Âge      vote  orientation  \\\n",
       "0  Adeline CRETTENAND   VLR     F  Martigny  18-30  0.000000     0.205882   \n",
       "1      Alain DUBOSSON   UDC     H   Monthey  18-30 -0.400000     0.500000   \n",
       "2         Alain LÉGER   PDC     H  Martigny  30-45  0.384615     0.076923   \n",
       "3     Alain SCHÖNBETT   VLR     H   Monthey    65+  0.485714    -0.171429   \n",
       "4         Alex BONVIN   UDC     H    Sierre  45-65 -0.351351     0.378378   \n",
       "\n",
       "   progvscons  \n",
       "0    0.205882  \n",
       "1    0.800000  \n",
       "2    0.051282  \n",
       "3   -0.457143  \n",
       "4    0.594595  "
      ]
     },
     "execution_count": 182,
     "metadata": {},
     "output_type": "execute_result"
    }
   ],
   "source": [
    "counts_df = counts_df.reset_index()\n",
    "counts_df.head()"
   ]
  },
  {
   "cell_type": "markdown",
   "id": "5b41f168",
   "metadata": {},
   "source": [
    "We will create graphs representing the positions of the MPs on our liberal, conservative and left-right oriented graph. "
   ]
  },
  {
   "cell_type": "code",
   "execution_count": 183,
   "id": "d819b5ab",
   "metadata": {},
   "outputs": [
    {
     "data": {
      "application/vnd.plotly.v1+json": {
       "config": {
        "plotlyServerURL": "https://plot.ly"
       },
       "data": [
        {
         "hovertemplate": "<b>%{hovertext}</b><br><br>group=VLR<br>orientation=%{x}<br>progvscons=%{y}<extra></extra>",
         "hovertext": [
          "Adeline CRETTENAND",
          "Alain SCHÖNBETT",
          "Arnaud DUBOIS",
          "Christelle HERITIER",
          "Claude NANÇOZ",
          "Côme VUILLE",
          "François GENOUD",
          "Géraldine GIANADDA",
          "Jean-Pierre REY",
          "Mathieu CALOZ",
          "Mathieu SARRASIN",
          "Mélanie FOLLONIER",
          "Narcisse CRETTENAND",
          "Natascha FARQUET",
          "Nicolas CHABLAIS",
          "Philippe BENDER",
          "Pierre-Alain RAEMY",
          "Raymonde SCHOCH",
          "Romain UDRY",
          "Ruth STALDER",
          "Stéphane CLAVIEN"
         ],
         "legendgroup": "VLR",
         "marker": {
          "color": "#636efa",
          "symbol": "circle"
         },
         "mode": "markers",
         "name": "VLR",
         "orientation": "v",
         "showlegend": true,
         "type": "scatter",
         "x": [
          0.20588235294117646,
          -0.17142857142857143,
          -0.3,
          -0.375,
          0.06451612903225806,
          -0.1794871794871795,
          -0.13157894736842105,
          -0.4482758620689655,
          -0.1891891891891892,
          -0.06060606060606061,
          0,
          0.06060606060606061,
          0.17073170731707318,
          -0.2777777777777778,
          0,
          0.05128205128205128,
          -0.2682926829268293,
          -0.358974358974359,
          0.13333333333333333,
          -0.1282051282051282,
          -0.225
         ],
         "xaxis": "x",
         "y": [
          0.20588235294117646,
          -0.45714285714285713,
          -0.725,
          -0.6666666666666666,
          -0.12903225806451613,
          -0.358974358974359,
          -0.39473684210526316,
          -0.6896551724137931,
          -0.43243243243243246,
          -0.42424242424242425,
          -0.1,
          -0.24242424242424243,
          0.0975609756097561,
          -0.6388888888888888,
          0.3333333333333333,
          0.10256410256410256,
          -0.6341463414634146,
          -0.5641025641025641,
          0.03333333333333333,
          -0.20512820512820512,
          -0.625
         ],
         "yaxis": "y"
        },
        {
         "hovertemplate": "<b>%{hovertext}</b><br><br>group=UDC<br>orientation=%{x}<br>progvscons=%{y}<extra></extra>",
         "hovertext": [
          "Alain DUBOSSON",
          "Alex BONVIN",
          "Claudy BESSE",
          "Damien FUMEAUX",
          "Damien RABOUD",
          "Edmond PERRUCHOUD",
          "François QUENNOZ",
          "Gabrielle BARRAS",
          "Géraldine GRANGES GUENOT",
          "Géraldine GRANGES-GUENOT",
          "Jean-Baptiste UDRESSY",
          "Jean-Dominique CIPOLLA",
          "Jérôme FORMAZ",
          "Marc-Antoine GENOLET",
          "Vincent BOAND"
         ],
         "legendgroup": "UDC",
         "marker": {
          "color": "#EF553B",
          "symbol": "circle"
         },
         "mode": "markers",
         "name": "UDC",
         "orientation": "v",
         "showlegend": true,
         "type": "scatter",
         "x": [
          0.5,
          0.3783783783783784,
          0.25806451612903225,
          0.358974358974359,
          0.25,
          0.35714285714285715,
          0.21621621621621623,
          0.23529411764705882,
          -1,
          0.23076923076923078,
          0.35135135135135137,
          0.35,
          0.3611111111111111,
          0.375,
          0.3142857142857143
         ],
         "xaxis": "x",
         "y": [
          0.8,
          0.5945945945945946,
          0.45161290322580644,
          0.6153846153846154,
          0.5277777777777778,
          0.7857142857142857,
          0.43243243243243246,
          0.4411764705882353,
          -1,
          0.5,
          0.5945945945945946,
          0.525,
          0.5277777777777778,
          0.675,
          0.42857142857142855
         ],
         "yaxis": "y"
        },
        {
         "hovertemplate": "<b>%{hovertext}</b><br><br>group=PDC<br>orientation=%{x}<br>progvscons=%{y}<extra></extra>",
         "hovertext": [
          "Alain LÉGER",
          "Bernard TROILLET",
          "Christine ROUX",
          "Damien CLERC",
          "Damien LUISIER",
          "Florence CARRON DARBELLAY",
          "Florent FAVRE",
          "Frédéric PITTELOUD",
          "Grégoire VANNAY",
          "Géraldine POUGET-ZUFFEREY",
          "Gérard SALAMIN",
          "Jean-Marc SAVIOZ",
          "Jenny VOEFFRAY",
          "Joséphine WAEBER",
          "Kamy MAY",
          "Marie ZUCHUAT",
          "Marius DUMOULIN",
          "Natacha MARET",
          "Nicolas BONVIN",
          "Nicolas METTAN",
          "Patricia CASAYS",
          "Pierre DARBELLAY",
          "Ralph DESSIMOZ",
          "Sandro FONTANA",
          "Sophie BORNET",
          "Yann RODUIT"
         ],
         "legendgroup": "PDC",
         "marker": {
          "color": "#00cc96",
          "symbol": "circle"
         },
         "mode": "markers",
         "name": "PDC",
         "orientation": "v",
         "showlegend": true,
         "type": "scatter",
         "x": [
          0.07692307692307693,
          -0.07317073170731707,
          0.2222222222222222,
          0.3888888888888889,
          0.11428571428571428,
          0,
          0.17647058823529413,
          0.1282051282051282,
          -0.05714285714285714,
          0.1,
          0.1794871794871795,
          0.15,
          -0.10344827586206896,
          0.16666666666666666,
          0.07692307692307693,
          0.11428571428571428,
          0.12195121951219512,
          0.16216216216216217,
          0.18421052631578946,
          -0.3333333333333333,
          0.06666666666666667,
          0.3333333333333333,
          0.11428571428571428,
          0.05555555555555555,
          0.06060606060606061,
          0.10256410256410256
         ],
         "xaxis": "x",
         "y": [
          0.05128205128205128,
          -0.24390243902439024,
          0.37037037037037035,
          0.5555555555555556,
          0.2,
          -0.2631578947368421,
          0.14705882352941177,
          0.15384615384615385,
          -0.11428571428571428,
          0.025,
          0.15384615384615385,
          0.175,
          -0.3448275862068966,
          0.19444444444444445,
          0.15384615384615385,
          0.05714285714285714,
          0.0975609756097561,
          0.05405405405405406,
          0.07894736842105263,
          -0.6111111111111112,
          -0.1,
          0.3055555555555556,
          0,
          0.08333333333333333,
          0.030303030303030304,
          0.10256410256410256
         ],
         "yaxis": "y"
        },
        {
         "hovertemplate": "<b>%{hovertext}</b><br><br>group=LES VERTS<br>orientation=%{x}<br>progvscons=%{y}<extra></extra>",
         "hovertext": [
          "Alina DARBELLAY",
          "Claudia GAILLARD MOREND",
          "Florine CARRON",
          "Gabrielle CORNUT-ZUFFEREY",
          "Georges VIONNET",
          "Jean-Daniel NANCHEN",
          "Laurence VUAGNIAUX",
          "Léa ROUILLER DESSIMOZ",
          "Sabine FOURNIER",
          "Vincent GÜNTHER"
         ],
         "legendgroup": "LES VERTS",
         "marker": {
          "color": "#ab63fa",
          "symbol": "circle"
         },
         "mode": "markers",
         "name": "LES VERTS",
         "orientation": "v",
         "showlegend": true,
         "type": "scatter",
         "x": [
          -0.4782608695652174,
          -0.36585365853658536,
          -0.45161290322580644,
          -0.3888888888888889,
          -0.425,
          -0.4146341463414634,
          -0.4,
          -0.4,
          -0.4146341463414634,
          -0.4146341463414634
         ],
         "xaxis": "x",
         "y": [
          -0.782608695652174,
          -0.7804878048780488,
          -0.6774193548387096,
          -0.8055555555555556,
          -0.8,
          -0.7804878048780488,
          -0.825,
          -0.7428571428571429,
          -0.8292682926829268,
          -0.8292682926829268
         ],
         "yaxis": "y"
        },
        {
         "hovertemplate": "<b>%{hovertext}</b><br><br>group=AC<br>orientation=%{x}<br>progvscons=%{y}<extra></extra>",
         "hovertext": [
          "Bernard OBERHOLZER",
          "Blaise CRETTOL",
          "Cilette CRETTON",
          "Célina RAMSAUER",
          "Emilie PRAZ",
          "Florian EVEQUOZ",
          "Jacques BLANC",
          "Jean BONNARD",
          "Jean ZERMATTEN",
          "Jean-François LOVEY",
          "Johan ROCHEL",
          "Léonard BENDER",
          "Martine ROUILLER",
          "Pascale FUMEAUX",
          "Sophie DUCREY",
          "Vincent LUYET"
         ],
         "legendgroup": "AC",
         "marker": {
          "color": "#FFA15A",
          "symbol": "circle"
         },
         "mode": "markers",
         "name": "AC",
         "orientation": "v",
         "showlegend": true,
         "type": "scatter",
         "x": [
          -0.38461538461538464,
          -0.4722222222222222,
          -0.41025641025641024,
          -0.35135135135135137,
          -0.4146341463414634,
          -0.4634146341463415,
          -0.34375,
          -0.425,
          -0.38461538461538464,
          -0.41025641025641024,
          -0.36585365853658536,
          -0.36585365853658536,
          -0.425,
          -0.43333333333333335,
          -0.36585365853658536,
          -0.4594594594594595
         ],
         "xaxis": "x",
         "y": [
          -0.5384615384615384,
          -0.8333333333333334,
          -0.7435897435897436,
          -0.7027027027027027,
          -0.7804878048780488,
          -0.7317073170731707,
          -0.59375,
          -0.725,
          -0.717948717948718,
          -0.7692307692307693,
          -0.7317073170731707,
          -0.6829268292682927,
          -0.825,
          -0.8,
          -0.7804878048780488,
          -0.8378378378378378
         ],
         "yaxis": "y"
        },
        {
         "hovertemplate": "<b>%{hovertext}</b><br><br>group=AdG<br>orientation=%{x}<br>progvscons=%{y}<extra></extra>",
         "hovertext": [
          "Caroline REYNARD",
          "Corinne DUC BONVIN",
          "Fabien THETAZ",
          "Gaël BOURGEOIS",
          "Janine REY-SIGGEN",
          "Jean-Marc DUPONT",
          "Lucile CURDY",
          "Olivier DERIVAZ",
          "Pierre SCHERTENLEIB"
         ],
         "legendgroup": "AdG",
         "marker": {
          "color": "#19d3f3",
          "symbol": "circle"
         },
         "mode": "markers",
         "name": "AdG",
         "orientation": "v",
         "showlegend": true,
         "type": "scatter",
         "x": [
          -0.41025641025641024,
          -0.3783783783783784,
          -0.4,
          -0.5833333333333334,
          -0.4146341463414634,
          -0.4146341463414634,
          -0.37142857142857144,
          -0.35,
          -0.4146341463414634
         ],
         "xaxis": "x",
         "y": [
          -0.7692307692307693,
          -0.8108108108108109,
          -0.8,
          -0.7083333333333334,
          -0.7804878048780488,
          -0.7804878048780488,
          -0.7428571428571429,
          -0.675,
          -0.7804878048780488
         ],
         "yaxis": "y"
        },
        {
         "hovertemplate": "<b>%{hovertext}</b><br><br>group=CVPO<br>orientation=%{x}<br>progvscons=%{y}<extra></extra>",
         "hovertext": [
          "Chantal CARLEN",
          "Dominik KNUBEL",
          "Fabienne MURMANN",
          "Felix RUPPEN",
          "Lukas KALBERMATTEN",
          "Maria ARNOLD-ESCHER",
          "Martin SCHÜRCH",
          "Matteo ABÄCHERLI",
          "Michael BURGENER",
          "Paul BURGENER",
          "Rafael WELSCHEN",
          "Rainer MATHIER"
         ],
         "legendgroup": "CVPO",
         "marker": {
          "color": "#FF6692",
          "symbol": "circle"
         },
         "mode": "markers",
         "name": "CVPO",
         "orientation": "v",
         "showlegend": true,
         "type": "scatter",
         "x": [
          0.3333333333333333,
          -0.08333333333333333,
          0.23076923076923078,
          0.35294117647058826,
          0.11428571428571428,
          0.2647058823529412,
          0.36585365853658536,
          0.225,
          0.21951219512195122,
          -0.0625,
          0.25,
          0.21951219512195122
         ],
         "xaxis": "x",
         "y": [
          0.5555555555555556,
          -0.05555555555555555,
          0.2564102564102564,
          0.4117647058823529,
          0.05714285714285714,
          0.38235294117647056,
          0.43902439024390244,
          0.35,
          0.24390243902439024,
          -0.09375,
          0.4642857142857143,
          0.2926829268292683
         ],
         "yaxis": "y"
        },
        {
         "hovertemplate": "<b>%{hovertext}</b><br><br>group=CSPO<br>orientation=%{x}<br>progvscons=%{y}<extra></extra>",
         "hovertext": [
          "Christian ESCHER",
          "Danica ZURBRIGGEN LEHNER",
          "Flavio SCHMID",
          "Hermann BRUNNER",
          "Ida HÄFLIGER",
          "Kurt REGOTZ",
          "Leander WILLINER",
          "Thomas MATTER"
         ],
         "legendgroup": "CSPO",
         "marker": {
          "color": "#B6E880",
          "symbol": "circle"
         },
         "mode": "markers",
         "name": "CSPO",
         "orientation": "v",
         "showlegend": true,
         "type": "scatter",
         "x": [
          -0.027777777777777776,
          -0.16666666666666666,
          0.16666666666666666,
          -0.05,
          -0.029411764705882353,
          0.02702702702702703,
          0.08108108108108109,
          -0.024390243902439025
         ],
         "xaxis": "x",
         "y": [
          -0.16666666666666666,
          -0.20833333333333334,
          0.20833333333333334,
          -0.025,
          -0.11764705882352941,
          0.10810810810810811,
          0.02702702702702703,
          -0.1951219512195122
         ],
         "yaxis": "y"
        },
        {
         "hovertemplate": "<b>%{hovertext}</b><br><br>group=ZUK-VS<br>orientation=%{x}<br>progvscons=%{y}<extra></extra>",
         "hovertext": [
          "Claudia ALPIGER",
          "German EYER",
          "Madeleine KUONEN-EGGO",
          "Monika HOLZEGGER",
          "Peter BURRI",
          "Rahel ZIMMERMANN"
         ],
         "legendgroup": "ZUK-VS",
         "marker": {
          "color": "#FF97FF",
          "symbol": "circle"
         },
         "mode": "markers",
         "name": "ZUK-VS",
         "orientation": "v",
         "showlegend": true,
         "type": "scatter",
         "x": [
          -0.358974358974359,
          -0.39473684210526316,
          -0.3939393939393939,
          -0.2,
          -0.07317073170731707,
          -0.358974358974359
         ],
         "xaxis": "x",
         "y": [
          -0.5897435897435898,
          -0.5789473684210527,
          -0.6666666666666666,
          -0.125,
          0,
          -0.5897435897435898
         ],
         "yaxis": "y"
        },
        {
         "hovertemplate": "<b>%{hovertext}</b><br><br>group=SVPO<br>orientation=%{x}<br>progvscons=%{y}<extra></extra>",
         "hovertext": [
          "Fabian ZURBRIGGEN",
          "Lukas JÄGER",
          "Michael KREUZER",
          "Peter BÄHLER",
          "Ralph KUMMER",
          "Remo SCHNYDER",
          "Romano AMACKER"
         ],
         "legendgroup": "SVPO",
         "marker": {
          "color": "#FECB52",
          "symbol": "circle"
         },
         "mode": "markers",
         "name": "SVPO",
         "orientation": "v",
         "showlegend": true,
         "type": "scatter",
         "x": [
          0.275,
          0.25925925925925924,
          0.2682926829268293,
          0.2972972972972973,
          0.1111111111111111,
          0.1875,
          0.2682926829268293
         ],
         "xaxis": "x",
         "y": [
          0.725,
          0.7037037037037037,
          0.6341463414634146,
          0.7297297297297297,
          0.6666666666666666,
          0.53125,
          0.6829268292682927
         ],
         "yaxis": "y"
        },
        {
         "hovertemplate": "<b>%{hovertext}</b><br><br>group=INDEP<br>orientation=%{x}<br>progvscons=%{y}<extra></extra>",
         "hovertext": [
          "Gerhard SCHMID"
         ],
         "legendgroup": "INDEP",
         "marker": {
          "color": "#636efa",
          "symbol": "circle"
         },
         "mode": "markers",
         "name": "INDEP",
         "orientation": "v",
         "showlegend": true,
         "type": "scatter",
         "x": [
          -0.375
         ],
         "xaxis": "x",
         "y": [
          -0.6
         ],
         "yaxis": "y"
        }
       ],
       "layout": {
        "legend": {
         "title": {
          "text": "group"
         },
         "tracegroupgap": 0
        },
        "margin": {
         "t": 60
        },
        "template": {
         "data": {
          "bar": [
           {
            "error_x": {
             "color": "#2a3f5f"
            },
            "error_y": {
             "color": "#2a3f5f"
            },
            "marker": {
             "line": {
              "color": "#E5ECF6",
              "width": 0.5
             },
             "pattern": {
              "fillmode": "overlay",
              "size": 10,
              "solidity": 0.2
             }
            },
            "type": "bar"
           }
          ],
          "barpolar": [
           {
            "marker": {
             "line": {
              "color": "#E5ECF6",
              "width": 0.5
             },
             "pattern": {
              "fillmode": "overlay",
              "size": 10,
              "solidity": 0.2
             }
            },
            "type": "barpolar"
           }
          ],
          "carpet": [
           {
            "aaxis": {
             "endlinecolor": "#2a3f5f",
             "gridcolor": "white",
             "linecolor": "white",
             "minorgridcolor": "white",
             "startlinecolor": "#2a3f5f"
            },
            "baxis": {
             "endlinecolor": "#2a3f5f",
             "gridcolor": "white",
             "linecolor": "white",
             "minorgridcolor": "white",
             "startlinecolor": "#2a3f5f"
            },
            "type": "carpet"
           }
          ],
          "choropleth": [
           {
            "colorbar": {
             "outlinewidth": 0,
             "ticks": ""
            },
            "type": "choropleth"
           }
          ],
          "contour": [
           {
            "colorbar": {
             "outlinewidth": 0,
             "ticks": ""
            },
            "colorscale": [
             [
              0,
              "#0d0887"
             ],
             [
              0.1111111111111111,
              "#46039f"
             ],
             [
              0.2222222222222222,
              "#7201a8"
             ],
             [
              0.3333333333333333,
              "#9c179e"
             ],
             [
              0.4444444444444444,
              "#bd3786"
             ],
             [
              0.5555555555555556,
              "#d8576b"
             ],
             [
              0.6666666666666666,
              "#ed7953"
             ],
             [
              0.7777777777777778,
              "#fb9f3a"
             ],
             [
              0.8888888888888888,
              "#fdca26"
             ],
             [
              1,
              "#f0f921"
             ]
            ],
            "type": "contour"
           }
          ],
          "contourcarpet": [
           {
            "colorbar": {
             "outlinewidth": 0,
             "ticks": ""
            },
            "type": "contourcarpet"
           }
          ],
          "heatmap": [
           {
            "colorbar": {
             "outlinewidth": 0,
             "ticks": ""
            },
            "colorscale": [
             [
              0,
              "#0d0887"
             ],
             [
              0.1111111111111111,
              "#46039f"
             ],
             [
              0.2222222222222222,
              "#7201a8"
             ],
             [
              0.3333333333333333,
              "#9c179e"
             ],
             [
              0.4444444444444444,
              "#bd3786"
             ],
             [
              0.5555555555555556,
              "#d8576b"
             ],
             [
              0.6666666666666666,
              "#ed7953"
             ],
             [
              0.7777777777777778,
              "#fb9f3a"
             ],
             [
              0.8888888888888888,
              "#fdca26"
             ],
             [
              1,
              "#f0f921"
             ]
            ],
            "type": "heatmap"
           }
          ],
          "heatmapgl": [
           {
            "colorbar": {
             "outlinewidth": 0,
             "ticks": ""
            },
            "colorscale": [
             [
              0,
              "#0d0887"
             ],
             [
              0.1111111111111111,
              "#46039f"
             ],
             [
              0.2222222222222222,
              "#7201a8"
             ],
             [
              0.3333333333333333,
              "#9c179e"
             ],
             [
              0.4444444444444444,
              "#bd3786"
             ],
             [
              0.5555555555555556,
              "#d8576b"
             ],
             [
              0.6666666666666666,
              "#ed7953"
             ],
             [
              0.7777777777777778,
              "#fb9f3a"
             ],
             [
              0.8888888888888888,
              "#fdca26"
             ],
             [
              1,
              "#f0f921"
             ]
            ],
            "type": "heatmapgl"
           }
          ],
          "histogram": [
           {
            "marker": {
             "pattern": {
              "fillmode": "overlay",
              "size": 10,
              "solidity": 0.2
             }
            },
            "type": "histogram"
           }
          ],
          "histogram2d": [
           {
            "colorbar": {
             "outlinewidth": 0,
             "ticks": ""
            },
            "colorscale": [
             [
              0,
              "#0d0887"
             ],
             [
              0.1111111111111111,
              "#46039f"
             ],
             [
              0.2222222222222222,
              "#7201a8"
             ],
             [
              0.3333333333333333,
              "#9c179e"
             ],
             [
              0.4444444444444444,
              "#bd3786"
             ],
             [
              0.5555555555555556,
              "#d8576b"
             ],
             [
              0.6666666666666666,
              "#ed7953"
             ],
             [
              0.7777777777777778,
              "#fb9f3a"
             ],
             [
              0.8888888888888888,
              "#fdca26"
             ],
             [
              1,
              "#f0f921"
             ]
            ],
            "type": "histogram2d"
           }
          ],
          "histogram2dcontour": [
           {
            "colorbar": {
             "outlinewidth": 0,
             "ticks": ""
            },
            "colorscale": [
             [
              0,
              "#0d0887"
             ],
             [
              0.1111111111111111,
              "#46039f"
             ],
             [
              0.2222222222222222,
              "#7201a8"
             ],
             [
              0.3333333333333333,
              "#9c179e"
             ],
             [
              0.4444444444444444,
              "#bd3786"
             ],
             [
              0.5555555555555556,
              "#d8576b"
             ],
             [
              0.6666666666666666,
              "#ed7953"
             ],
             [
              0.7777777777777778,
              "#fb9f3a"
             ],
             [
              0.8888888888888888,
              "#fdca26"
             ],
             [
              1,
              "#f0f921"
             ]
            ],
            "type": "histogram2dcontour"
           }
          ],
          "mesh3d": [
           {
            "colorbar": {
             "outlinewidth": 0,
             "ticks": ""
            },
            "type": "mesh3d"
           }
          ],
          "parcoords": [
           {
            "line": {
             "colorbar": {
              "outlinewidth": 0,
              "ticks": ""
             }
            },
            "type": "parcoords"
           }
          ],
          "pie": [
           {
            "automargin": true,
            "type": "pie"
           }
          ],
          "scatter": [
           {
            "fillpattern": {
             "fillmode": "overlay",
             "size": 10,
             "solidity": 0.2
            },
            "type": "scatter"
           }
          ],
          "scatter3d": [
           {
            "line": {
             "colorbar": {
              "outlinewidth": 0,
              "ticks": ""
             }
            },
            "marker": {
             "colorbar": {
              "outlinewidth": 0,
              "ticks": ""
             }
            },
            "type": "scatter3d"
           }
          ],
          "scattercarpet": [
           {
            "marker": {
             "colorbar": {
              "outlinewidth": 0,
              "ticks": ""
             }
            },
            "type": "scattercarpet"
           }
          ],
          "scattergeo": [
           {
            "marker": {
             "colorbar": {
              "outlinewidth": 0,
              "ticks": ""
             }
            },
            "type": "scattergeo"
           }
          ],
          "scattergl": [
           {
            "marker": {
             "colorbar": {
              "outlinewidth": 0,
              "ticks": ""
             }
            },
            "type": "scattergl"
           }
          ],
          "scattermapbox": [
           {
            "marker": {
             "colorbar": {
              "outlinewidth": 0,
              "ticks": ""
             }
            },
            "type": "scattermapbox"
           }
          ],
          "scatterpolar": [
           {
            "marker": {
             "colorbar": {
              "outlinewidth": 0,
              "ticks": ""
             }
            },
            "type": "scatterpolar"
           }
          ],
          "scatterpolargl": [
           {
            "marker": {
             "colorbar": {
              "outlinewidth": 0,
              "ticks": ""
             }
            },
            "type": "scatterpolargl"
           }
          ],
          "scatterternary": [
           {
            "marker": {
             "colorbar": {
              "outlinewidth": 0,
              "ticks": ""
             }
            },
            "type": "scatterternary"
           }
          ],
          "surface": [
           {
            "colorbar": {
             "outlinewidth": 0,
             "ticks": ""
            },
            "colorscale": [
             [
              0,
              "#0d0887"
             ],
             [
              0.1111111111111111,
              "#46039f"
             ],
             [
              0.2222222222222222,
              "#7201a8"
             ],
             [
              0.3333333333333333,
              "#9c179e"
             ],
             [
              0.4444444444444444,
              "#bd3786"
             ],
             [
              0.5555555555555556,
              "#d8576b"
             ],
             [
              0.6666666666666666,
              "#ed7953"
             ],
             [
              0.7777777777777778,
              "#fb9f3a"
             ],
             [
              0.8888888888888888,
              "#fdca26"
             ],
             [
              1,
              "#f0f921"
             ]
            ],
            "type": "surface"
           }
          ],
          "table": [
           {
            "cells": {
             "fill": {
              "color": "#EBF0F8"
             },
             "line": {
              "color": "white"
             }
            },
            "header": {
             "fill": {
              "color": "#C8D4E3"
             },
             "line": {
              "color": "white"
             }
            },
            "type": "table"
           }
          ]
         },
         "layout": {
          "annotationdefaults": {
           "arrowcolor": "#2a3f5f",
           "arrowhead": 0,
           "arrowwidth": 1
          },
          "autotypenumbers": "strict",
          "coloraxis": {
           "colorbar": {
            "outlinewidth": 0,
            "ticks": ""
           }
          },
          "colorscale": {
           "diverging": [
            [
             0,
             "#8e0152"
            ],
            [
             0.1,
             "#c51b7d"
            ],
            [
             0.2,
             "#de77ae"
            ],
            [
             0.3,
             "#f1b6da"
            ],
            [
             0.4,
             "#fde0ef"
            ],
            [
             0.5,
             "#f7f7f7"
            ],
            [
             0.6,
             "#e6f5d0"
            ],
            [
             0.7,
             "#b8e186"
            ],
            [
             0.8,
             "#7fbc41"
            ],
            [
             0.9,
             "#4d9221"
            ],
            [
             1,
             "#276419"
            ]
           ],
           "sequential": [
            [
             0,
             "#0d0887"
            ],
            [
             0.1111111111111111,
             "#46039f"
            ],
            [
             0.2222222222222222,
             "#7201a8"
            ],
            [
             0.3333333333333333,
             "#9c179e"
            ],
            [
             0.4444444444444444,
             "#bd3786"
            ],
            [
             0.5555555555555556,
             "#d8576b"
            ],
            [
             0.6666666666666666,
             "#ed7953"
            ],
            [
             0.7777777777777778,
             "#fb9f3a"
            ],
            [
             0.8888888888888888,
             "#fdca26"
            ],
            [
             1,
             "#f0f921"
            ]
           ],
           "sequentialminus": [
            [
             0,
             "#0d0887"
            ],
            [
             0.1111111111111111,
             "#46039f"
            ],
            [
             0.2222222222222222,
             "#7201a8"
            ],
            [
             0.3333333333333333,
             "#9c179e"
            ],
            [
             0.4444444444444444,
             "#bd3786"
            ],
            [
             0.5555555555555556,
             "#d8576b"
            ],
            [
             0.6666666666666666,
             "#ed7953"
            ],
            [
             0.7777777777777778,
             "#fb9f3a"
            ],
            [
             0.8888888888888888,
             "#fdca26"
            ],
            [
             1,
             "#f0f921"
            ]
           ]
          },
          "colorway": [
           "#636efa",
           "#EF553B",
           "#00cc96",
           "#ab63fa",
           "#FFA15A",
           "#19d3f3",
           "#FF6692",
           "#B6E880",
           "#FF97FF",
           "#FECB52"
          ],
          "font": {
           "color": "#2a3f5f"
          },
          "geo": {
           "bgcolor": "white",
           "lakecolor": "white",
           "landcolor": "#E5ECF6",
           "showlakes": true,
           "showland": true,
           "subunitcolor": "white"
          },
          "hoverlabel": {
           "align": "left"
          },
          "hovermode": "closest",
          "mapbox": {
           "style": "light"
          },
          "paper_bgcolor": "white",
          "plot_bgcolor": "#E5ECF6",
          "polar": {
           "angularaxis": {
            "gridcolor": "white",
            "linecolor": "white",
            "ticks": ""
           },
           "bgcolor": "#E5ECF6",
           "radialaxis": {
            "gridcolor": "white",
            "linecolor": "white",
            "ticks": ""
           }
          },
          "scene": {
           "xaxis": {
            "backgroundcolor": "#E5ECF6",
            "gridcolor": "white",
            "gridwidth": 2,
            "linecolor": "white",
            "showbackground": true,
            "ticks": "",
            "zerolinecolor": "white"
           },
           "yaxis": {
            "backgroundcolor": "#E5ECF6",
            "gridcolor": "white",
            "gridwidth": 2,
            "linecolor": "white",
            "showbackground": true,
            "ticks": "",
            "zerolinecolor": "white"
           },
           "zaxis": {
            "backgroundcolor": "#E5ECF6",
            "gridcolor": "white",
            "gridwidth": 2,
            "linecolor": "white",
            "showbackground": true,
            "ticks": "",
            "zerolinecolor": "white"
           }
          },
          "shapedefaults": {
           "line": {
            "color": "#2a3f5f"
           }
          },
          "ternary": {
           "aaxis": {
            "gridcolor": "white",
            "linecolor": "white",
            "ticks": ""
           },
           "baxis": {
            "gridcolor": "white",
            "linecolor": "white",
            "ticks": ""
           },
           "bgcolor": "#E5ECF6",
           "caxis": {
            "gridcolor": "white",
            "linecolor": "white",
            "ticks": ""
           }
          },
          "title": {
           "x": 0.05
          },
          "xaxis": {
           "automargin": true,
           "gridcolor": "white",
           "linecolor": "white",
           "ticks": "",
           "title": {
            "standoff": 15
           },
           "zerolinecolor": "white",
           "zerolinewidth": 2
          },
          "yaxis": {
           "automargin": true,
           "gridcolor": "white",
           "linecolor": "white",
           "ticks": "",
           "title": {
            "standoff": 15
           },
           "zerolinecolor": "white",
           "zerolinewidth": 2
          }
         }
        },
        "xaxis": {
         "anchor": "y",
         "domain": [
          0,
          1
         ],
         "range": [
          -1,
          1
         ],
         "title": {
          "text": "orientation"
         }
        },
        "yaxis": {
         "anchor": "x",
         "domain": [
          0,
          1
         ],
         "range": [
          -1,
          1
         ],
         "title": {
          "text": "progvscons"
         }
        }
       }
      },
      "text/html": [
       "<div>                            <div id=\"a9ec5e28-65d7-495b-bdfd-51b72d1b94d9\" class=\"plotly-graph-div\" style=\"height:525px; width:100%;\"></div>            <script type=\"text/javascript\">                require([\"plotly\"], function(Plotly) {                    window.PLOTLYENV=window.PLOTLYENV || {};                                    if (document.getElementById(\"a9ec5e28-65d7-495b-bdfd-51b72d1b94d9\")) {                    Plotly.newPlot(                        \"a9ec5e28-65d7-495b-bdfd-51b72d1b94d9\",                        [{\"hovertemplate\":\"<b>%{hovertext}</b><br><br>group=VLR<br>orientation=%{x}<br>progvscons=%{y}<extra></extra>\",\"hovertext\":[\"Adeline CRETTENAND\",\"Alain SCH\\u00d6NBETT\",\"Arnaud DUBOIS\",\"Christelle HERITIER\",\"Claude NAN\\u00c7OZ\",\"C\\u00f4me VUILLE\",\"Fran\\u00e7ois GENOUD\",\"G\\u00e9raldine GIANADDA\",\"Jean-Pierre REY\",\"Mathieu CALOZ\",\"Mathieu SARRASIN\",\"M\\u00e9lanie FOLLONIER\",\"Narcisse CRETTENAND\",\"Natascha FARQUET\",\"Nicolas CHABLAIS\",\"Philippe BENDER\",\"Pierre-Alain RAEMY\",\"Raymonde SCHOCH\",\"Romain UDRY\",\"Ruth STALDER\",\"St\\u00e9phane CLAVIEN\"],\"legendgroup\":\"VLR\",\"marker\":{\"color\":\"#636efa\",\"symbol\":\"circle\"},\"mode\":\"markers\",\"name\":\"VLR\",\"orientation\":\"v\",\"showlegend\":true,\"x\":[0.20588235294117646,-0.17142857142857143,-0.3,-0.375,0.06451612903225806,-0.1794871794871795,-0.13157894736842105,-0.4482758620689655,-0.1891891891891892,-0.06060606060606061,0.0,0.06060606060606061,0.17073170731707318,-0.2777777777777778,0.0,0.05128205128205128,-0.2682926829268293,-0.358974358974359,0.13333333333333333,-0.1282051282051282,-0.225],\"xaxis\":\"x\",\"y\":[0.20588235294117646,-0.45714285714285713,-0.725,-0.6666666666666666,-0.12903225806451613,-0.358974358974359,-0.39473684210526316,-0.6896551724137931,-0.43243243243243246,-0.42424242424242425,-0.1,-0.24242424242424243,0.0975609756097561,-0.6388888888888888,0.3333333333333333,0.10256410256410256,-0.6341463414634146,-0.5641025641025641,0.03333333333333333,-0.20512820512820512,-0.625],\"yaxis\":\"y\",\"type\":\"scatter\"},{\"hovertemplate\":\"<b>%{hovertext}</b><br><br>group=UDC<br>orientation=%{x}<br>progvscons=%{y}<extra></extra>\",\"hovertext\":[\"Alain DUBOSSON\",\"Alex BONVIN\",\"Claudy BESSE\",\"Damien FUMEAUX\",\"Damien RABOUD\",\"Edmond PERRUCHOUD\",\"Fran\\u00e7ois QUENNOZ\",\"Gabrielle BARRAS\",\"G\\u00e9raldine GRANGES GUENOT\",\"G\\u00e9raldine GRANGES-GUENOT\",\"Jean-Baptiste UDRESSY\",\"Jean-Dominique CIPOLLA\",\"J\\u00e9r\\u00f4me FORMAZ\",\"Marc-Antoine GENOLET\",\"Vincent BOAND\"],\"legendgroup\":\"UDC\",\"marker\":{\"color\":\"#EF553B\",\"symbol\":\"circle\"},\"mode\":\"markers\",\"name\":\"UDC\",\"orientation\":\"v\",\"showlegend\":true,\"x\":[0.5,0.3783783783783784,0.25806451612903225,0.358974358974359,0.25,0.35714285714285715,0.21621621621621623,0.23529411764705882,-1.0,0.23076923076923078,0.35135135135135137,0.35,0.3611111111111111,0.375,0.3142857142857143],\"xaxis\":\"x\",\"y\":[0.8,0.5945945945945946,0.45161290322580644,0.6153846153846154,0.5277777777777778,0.7857142857142857,0.43243243243243246,0.4411764705882353,-1.0,0.5,0.5945945945945946,0.525,0.5277777777777778,0.675,0.42857142857142855],\"yaxis\":\"y\",\"type\":\"scatter\"},{\"hovertemplate\":\"<b>%{hovertext}</b><br><br>group=PDC<br>orientation=%{x}<br>progvscons=%{y}<extra></extra>\",\"hovertext\":[\"Alain L\\u00c9GER\",\"Bernard TROILLET\",\"Christine ROUX\",\"Damien CLERC\",\"Damien LUISIER\",\"Florence CARRON DARBELLAY\",\"Florent FAVRE\",\"Fr\\u00e9d\\u00e9ric PITTELOUD\",\"Gr\\u00e9goire VANNAY\",\"G\\u00e9raldine POUGET-ZUFFEREY\",\"G\\u00e9rard SALAMIN\",\"Jean-Marc SAVIOZ\",\"Jenny VOEFFRAY\",\"Jos\\u00e9phine WAEBER\",\"Kamy MAY\",\"Marie ZUCHUAT\",\"Marius DUMOULIN\",\"Natacha MARET\",\"Nicolas BONVIN\",\"Nicolas METTAN\",\"Patricia CASAYS\",\"Pierre DARBELLAY\",\"Ralph DESSIMOZ\",\"Sandro FONTANA\",\"Sophie BORNET\",\"Yann RODUIT\"],\"legendgroup\":\"PDC\",\"marker\":{\"color\":\"#00cc96\",\"symbol\":\"circle\"},\"mode\":\"markers\",\"name\":\"PDC\",\"orientation\":\"v\",\"showlegend\":true,\"x\":[0.07692307692307693,-0.07317073170731707,0.2222222222222222,0.3888888888888889,0.11428571428571428,0.0,0.17647058823529413,0.1282051282051282,-0.05714285714285714,0.1,0.1794871794871795,0.15,-0.10344827586206896,0.16666666666666666,0.07692307692307693,0.11428571428571428,0.12195121951219512,0.16216216216216217,0.18421052631578946,-0.3333333333333333,0.06666666666666667,0.3333333333333333,0.11428571428571428,0.05555555555555555,0.06060606060606061,0.10256410256410256],\"xaxis\":\"x\",\"y\":[0.05128205128205128,-0.24390243902439024,0.37037037037037035,0.5555555555555556,0.2,-0.2631578947368421,0.14705882352941177,0.15384615384615385,-0.11428571428571428,0.025,0.15384615384615385,0.175,-0.3448275862068966,0.19444444444444445,0.15384615384615385,0.05714285714285714,0.0975609756097561,0.05405405405405406,0.07894736842105263,-0.6111111111111112,-0.1,0.3055555555555556,0.0,0.08333333333333333,0.030303030303030304,0.10256410256410256],\"yaxis\":\"y\",\"type\":\"scatter\"},{\"hovertemplate\":\"<b>%{hovertext}</b><br><br>group=LES VERTS<br>orientation=%{x}<br>progvscons=%{y}<extra></extra>\",\"hovertext\":[\"Alina DARBELLAY\",\"Claudia GAILLARD MOREND\",\"Florine CARRON\",\"Gabrielle CORNUT-ZUFFEREY\",\"Georges VIONNET\",\"Jean-Daniel NANCHEN\",\"Laurence VUAGNIAUX\",\"L\\u00e9a ROUILLER DESSIMOZ\",\"Sabine FOURNIER\",\"Vincent G\\u00dcNTHER\"],\"legendgroup\":\"LES VERTS\",\"marker\":{\"color\":\"#ab63fa\",\"symbol\":\"circle\"},\"mode\":\"markers\",\"name\":\"LES VERTS\",\"orientation\":\"v\",\"showlegend\":true,\"x\":[-0.4782608695652174,-0.36585365853658536,-0.45161290322580644,-0.3888888888888889,-0.425,-0.4146341463414634,-0.4,-0.4,-0.4146341463414634,-0.4146341463414634],\"xaxis\":\"x\",\"y\":[-0.782608695652174,-0.7804878048780488,-0.6774193548387096,-0.8055555555555556,-0.8,-0.7804878048780488,-0.825,-0.7428571428571429,-0.8292682926829268,-0.8292682926829268],\"yaxis\":\"y\",\"type\":\"scatter\"},{\"hovertemplate\":\"<b>%{hovertext}</b><br><br>group=AC<br>orientation=%{x}<br>progvscons=%{y}<extra></extra>\",\"hovertext\":[\"Bernard OBERHOLZER\",\"Blaise CRETTOL\",\"Cilette CRETTON\",\"C\\u00e9lina RAMSAUER\",\"Emilie PRAZ\",\"Florian EVEQUOZ\",\"Jacques BLANC\",\"Jean BONNARD\",\"Jean ZERMATTEN\",\"Jean-Fran\\u00e7ois LOVEY\",\"Johan ROCHEL\",\"L\\u00e9onard BENDER\",\"Martine ROUILLER\",\"Pascale FUMEAUX\",\"Sophie DUCREY\",\"Vincent LUYET\"],\"legendgroup\":\"AC\",\"marker\":{\"color\":\"#FFA15A\",\"symbol\":\"circle\"},\"mode\":\"markers\",\"name\":\"AC\",\"orientation\":\"v\",\"showlegend\":true,\"x\":[-0.38461538461538464,-0.4722222222222222,-0.41025641025641024,-0.35135135135135137,-0.4146341463414634,-0.4634146341463415,-0.34375,-0.425,-0.38461538461538464,-0.41025641025641024,-0.36585365853658536,-0.36585365853658536,-0.425,-0.43333333333333335,-0.36585365853658536,-0.4594594594594595],\"xaxis\":\"x\",\"y\":[-0.5384615384615384,-0.8333333333333334,-0.7435897435897436,-0.7027027027027027,-0.7804878048780488,-0.7317073170731707,-0.59375,-0.725,-0.717948717948718,-0.7692307692307693,-0.7317073170731707,-0.6829268292682927,-0.825,-0.8,-0.7804878048780488,-0.8378378378378378],\"yaxis\":\"y\",\"type\":\"scatter\"},{\"hovertemplate\":\"<b>%{hovertext}</b><br><br>group=AdG<br>orientation=%{x}<br>progvscons=%{y}<extra></extra>\",\"hovertext\":[\"Caroline REYNARD\",\"Corinne DUC BONVIN\",\"Fabien THETAZ\",\"Ga\\u00ebl BOURGEOIS\",\"Janine REY-SIGGEN\",\"Jean-Marc DUPONT\",\"Lucile CURDY\",\"Olivier DERIVAZ\",\"Pierre SCHERTENLEIB\"],\"legendgroup\":\"AdG\",\"marker\":{\"color\":\"#19d3f3\",\"symbol\":\"circle\"},\"mode\":\"markers\",\"name\":\"AdG\",\"orientation\":\"v\",\"showlegend\":true,\"x\":[-0.41025641025641024,-0.3783783783783784,-0.4,-0.5833333333333334,-0.4146341463414634,-0.4146341463414634,-0.37142857142857144,-0.35,-0.4146341463414634],\"xaxis\":\"x\",\"y\":[-0.7692307692307693,-0.8108108108108109,-0.8,-0.7083333333333334,-0.7804878048780488,-0.7804878048780488,-0.7428571428571429,-0.675,-0.7804878048780488],\"yaxis\":\"y\",\"type\":\"scatter\"},{\"hovertemplate\":\"<b>%{hovertext}</b><br><br>group=CVPO<br>orientation=%{x}<br>progvscons=%{y}<extra></extra>\",\"hovertext\":[\"Chantal CARLEN\",\"Dominik KNUBEL\",\"Fabienne MURMANN\",\"Felix RUPPEN\",\"Lukas KALBERMATTEN\",\"Maria ARNOLD-ESCHER\",\"Martin SCH\\u00dcRCH\",\"Matteo AB\\u00c4CHERLI\",\"Michael BURGENER\",\"Paul BURGENER\",\"Rafael WELSCHEN\",\"Rainer MATHIER\"],\"legendgroup\":\"CVPO\",\"marker\":{\"color\":\"#FF6692\",\"symbol\":\"circle\"},\"mode\":\"markers\",\"name\":\"CVPO\",\"orientation\":\"v\",\"showlegend\":true,\"x\":[0.3333333333333333,-0.08333333333333333,0.23076923076923078,0.35294117647058826,0.11428571428571428,0.2647058823529412,0.36585365853658536,0.225,0.21951219512195122,-0.0625,0.25,0.21951219512195122],\"xaxis\":\"x\",\"y\":[0.5555555555555556,-0.05555555555555555,0.2564102564102564,0.4117647058823529,0.05714285714285714,0.38235294117647056,0.43902439024390244,0.35,0.24390243902439024,-0.09375,0.4642857142857143,0.2926829268292683],\"yaxis\":\"y\",\"type\":\"scatter\"},{\"hovertemplate\":\"<b>%{hovertext}</b><br><br>group=CSPO<br>orientation=%{x}<br>progvscons=%{y}<extra></extra>\",\"hovertext\":[\"Christian ESCHER\",\"Danica ZURBRIGGEN LEHNER\",\"Flavio SCHMID\",\"Hermann BRUNNER\",\"Ida H\\u00c4FLIGER\",\"Kurt REGOTZ\",\"Leander WILLINER\",\"Thomas MATTER\"],\"legendgroup\":\"CSPO\",\"marker\":{\"color\":\"#B6E880\",\"symbol\":\"circle\"},\"mode\":\"markers\",\"name\":\"CSPO\",\"orientation\":\"v\",\"showlegend\":true,\"x\":[-0.027777777777777776,-0.16666666666666666,0.16666666666666666,-0.05,-0.029411764705882353,0.02702702702702703,0.08108108108108109,-0.024390243902439025],\"xaxis\":\"x\",\"y\":[-0.16666666666666666,-0.20833333333333334,0.20833333333333334,-0.025,-0.11764705882352941,0.10810810810810811,0.02702702702702703,-0.1951219512195122],\"yaxis\":\"y\",\"type\":\"scatter\"},{\"hovertemplate\":\"<b>%{hovertext}</b><br><br>group=ZUK-VS<br>orientation=%{x}<br>progvscons=%{y}<extra></extra>\",\"hovertext\":[\"Claudia ALPIGER\",\"German EYER\",\"Madeleine KUONEN-EGGO\",\"Monika HOLZEGGER\",\"Peter BURRI\",\"Rahel ZIMMERMANN\"],\"legendgroup\":\"ZUK-VS\",\"marker\":{\"color\":\"#FF97FF\",\"symbol\":\"circle\"},\"mode\":\"markers\",\"name\":\"ZUK-VS\",\"orientation\":\"v\",\"showlegend\":true,\"x\":[-0.358974358974359,-0.39473684210526316,-0.3939393939393939,-0.2,-0.07317073170731707,-0.358974358974359],\"xaxis\":\"x\",\"y\":[-0.5897435897435898,-0.5789473684210527,-0.6666666666666666,-0.125,0.0,-0.5897435897435898],\"yaxis\":\"y\",\"type\":\"scatter\"},{\"hovertemplate\":\"<b>%{hovertext}</b><br><br>group=SVPO<br>orientation=%{x}<br>progvscons=%{y}<extra></extra>\",\"hovertext\":[\"Fabian ZURBRIGGEN\",\"Lukas J\\u00c4GER\",\"Michael KREUZER\",\"Peter B\\u00c4HLER\",\"Ralph KUMMER\",\"Remo SCHNYDER\",\"Romano AMACKER\"],\"legendgroup\":\"SVPO\",\"marker\":{\"color\":\"#FECB52\",\"symbol\":\"circle\"},\"mode\":\"markers\",\"name\":\"SVPO\",\"orientation\":\"v\",\"showlegend\":true,\"x\":[0.275,0.25925925925925924,0.2682926829268293,0.2972972972972973,0.1111111111111111,0.1875,0.2682926829268293],\"xaxis\":\"x\",\"y\":[0.725,0.7037037037037037,0.6341463414634146,0.7297297297297297,0.6666666666666666,0.53125,0.6829268292682927],\"yaxis\":\"y\",\"type\":\"scatter\"},{\"hovertemplate\":\"<b>%{hovertext}</b><br><br>group=INDEP<br>orientation=%{x}<br>progvscons=%{y}<extra></extra>\",\"hovertext\":[\"Gerhard SCHMID\"],\"legendgroup\":\"INDEP\",\"marker\":{\"color\":\"#636efa\",\"symbol\":\"circle\"},\"mode\":\"markers\",\"name\":\"INDEP\",\"orientation\":\"v\",\"showlegend\":true,\"x\":[-0.375],\"xaxis\":\"x\",\"y\":[-0.6],\"yaxis\":\"y\",\"type\":\"scatter\"}],                        {\"template\":{\"data\":{\"histogram2dcontour\":[{\"type\":\"histogram2dcontour\",\"colorbar\":{\"outlinewidth\":0,\"ticks\":\"\"},\"colorscale\":[[0.0,\"#0d0887\"],[0.1111111111111111,\"#46039f\"],[0.2222222222222222,\"#7201a8\"],[0.3333333333333333,\"#9c179e\"],[0.4444444444444444,\"#bd3786\"],[0.5555555555555556,\"#d8576b\"],[0.6666666666666666,\"#ed7953\"],[0.7777777777777778,\"#fb9f3a\"],[0.8888888888888888,\"#fdca26\"],[1.0,\"#f0f921\"]]}],\"choropleth\":[{\"type\":\"choropleth\",\"colorbar\":{\"outlinewidth\":0,\"ticks\":\"\"}}],\"histogram2d\":[{\"type\":\"histogram2d\",\"colorbar\":{\"outlinewidth\":0,\"ticks\":\"\"},\"colorscale\":[[0.0,\"#0d0887\"],[0.1111111111111111,\"#46039f\"],[0.2222222222222222,\"#7201a8\"],[0.3333333333333333,\"#9c179e\"],[0.4444444444444444,\"#bd3786\"],[0.5555555555555556,\"#d8576b\"],[0.6666666666666666,\"#ed7953\"],[0.7777777777777778,\"#fb9f3a\"],[0.8888888888888888,\"#fdca26\"],[1.0,\"#f0f921\"]]}],\"heatmap\":[{\"type\":\"heatmap\",\"colorbar\":{\"outlinewidth\":0,\"ticks\":\"\"},\"colorscale\":[[0.0,\"#0d0887\"],[0.1111111111111111,\"#46039f\"],[0.2222222222222222,\"#7201a8\"],[0.3333333333333333,\"#9c179e\"],[0.4444444444444444,\"#bd3786\"],[0.5555555555555556,\"#d8576b\"],[0.6666666666666666,\"#ed7953\"],[0.7777777777777778,\"#fb9f3a\"],[0.8888888888888888,\"#fdca26\"],[1.0,\"#f0f921\"]]}],\"heatmapgl\":[{\"type\":\"heatmapgl\",\"colorbar\":{\"outlinewidth\":0,\"ticks\":\"\"},\"colorscale\":[[0.0,\"#0d0887\"],[0.1111111111111111,\"#46039f\"],[0.2222222222222222,\"#7201a8\"],[0.3333333333333333,\"#9c179e\"],[0.4444444444444444,\"#bd3786\"],[0.5555555555555556,\"#d8576b\"],[0.6666666666666666,\"#ed7953\"],[0.7777777777777778,\"#fb9f3a\"],[0.8888888888888888,\"#fdca26\"],[1.0,\"#f0f921\"]]}],\"contourcarpet\":[{\"type\":\"contourcarpet\",\"colorbar\":{\"outlinewidth\":0,\"ticks\":\"\"}}],\"contour\":[{\"type\":\"contour\",\"colorbar\":{\"outlinewidth\":0,\"ticks\":\"\"},\"colorscale\":[[0.0,\"#0d0887\"],[0.1111111111111111,\"#46039f\"],[0.2222222222222222,\"#7201a8\"],[0.3333333333333333,\"#9c179e\"],[0.4444444444444444,\"#bd3786\"],[0.5555555555555556,\"#d8576b\"],[0.6666666666666666,\"#ed7953\"],[0.7777777777777778,\"#fb9f3a\"],[0.8888888888888888,\"#fdca26\"],[1.0,\"#f0f921\"]]}],\"surface\":[{\"type\":\"surface\",\"colorbar\":{\"outlinewidth\":0,\"ticks\":\"\"},\"colorscale\":[[0.0,\"#0d0887\"],[0.1111111111111111,\"#46039f\"],[0.2222222222222222,\"#7201a8\"],[0.3333333333333333,\"#9c179e\"],[0.4444444444444444,\"#bd3786\"],[0.5555555555555556,\"#d8576b\"],[0.6666666666666666,\"#ed7953\"],[0.7777777777777778,\"#fb9f3a\"],[0.8888888888888888,\"#fdca26\"],[1.0,\"#f0f921\"]]}],\"mesh3d\":[{\"type\":\"mesh3d\",\"colorbar\":{\"outlinewidth\":0,\"ticks\":\"\"}}],\"scatter\":[{\"fillpattern\":{\"fillmode\":\"overlay\",\"size\":10,\"solidity\":0.2},\"type\":\"scatter\"}],\"parcoords\":[{\"type\":\"parcoords\",\"line\":{\"colorbar\":{\"outlinewidth\":0,\"ticks\":\"\"}}}],\"scatterpolargl\":[{\"type\":\"scatterpolargl\",\"marker\":{\"colorbar\":{\"outlinewidth\":0,\"ticks\":\"\"}}}],\"bar\":[{\"error_x\":{\"color\":\"#2a3f5f\"},\"error_y\":{\"color\":\"#2a3f5f\"},\"marker\":{\"line\":{\"color\":\"#E5ECF6\",\"width\":0.5},\"pattern\":{\"fillmode\":\"overlay\",\"size\":10,\"solidity\":0.2}},\"type\":\"bar\"}],\"scattergeo\":[{\"type\":\"scattergeo\",\"marker\":{\"colorbar\":{\"outlinewidth\":0,\"ticks\":\"\"}}}],\"scatterpolar\":[{\"type\":\"scatterpolar\",\"marker\":{\"colorbar\":{\"outlinewidth\":0,\"ticks\":\"\"}}}],\"histogram\":[{\"marker\":{\"pattern\":{\"fillmode\":\"overlay\",\"size\":10,\"solidity\":0.2}},\"type\":\"histogram\"}],\"scattergl\":[{\"type\":\"scattergl\",\"marker\":{\"colorbar\":{\"outlinewidth\":0,\"ticks\":\"\"}}}],\"scatter3d\":[{\"type\":\"scatter3d\",\"line\":{\"colorbar\":{\"outlinewidth\":0,\"ticks\":\"\"}},\"marker\":{\"colorbar\":{\"outlinewidth\":0,\"ticks\":\"\"}}}],\"scattermapbox\":[{\"type\":\"scattermapbox\",\"marker\":{\"colorbar\":{\"outlinewidth\":0,\"ticks\":\"\"}}}],\"scatterternary\":[{\"type\":\"scatterternary\",\"marker\":{\"colorbar\":{\"outlinewidth\":0,\"ticks\":\"\"}}}],\"scattercarpet\":[{\"type\":\"scattercarpet\",\"marker\":{\"colorbar\":{\"outlinewidth\":0,\"ticks\":\"\"}}}],\"carpet\":[{\"aaxis\":{\"endlinecolor\":\"#2a3f5f\",\"gridcolor\":\"white\",\"linecolor\":\"white\",\"minorgridcolor\":\"white\",\"startlinecolor\":\"#2a3f5f\"},\"baxis\":{\"endlinecolor\":\"#2a3f5f\",\"gridcolor\":\"white\",\"linecolor\":\"white\",\"minorgridcolor\":\"white\",\"startlinecolor\":\"#2a3f5f\"},\"type\":\"carpet\"}],\"table\":[{\"cells\":{\"fill\":{\"color\":\"#EBF0F8\"},\"line\":{\"color\":\"white\"}},\"header\":{\"fill\":{\"color\":\"#C8D4E3\"},\"line\":{\"color\":\"white\"}},\"type\":\"table\"}],\"barpolar\":[{\"marker\":{\"line\":{\"color\":\"#E5ECF6\",\"width\":0.5},\"pattern\":{\"fillmode\":\"overlay\",\"size\":10,\"solidity\":0.2}},\"type\":\"barpolar\"}],\"pie\":[{\"automargin\":true,\"type\":\"pie\"}]},\"layout\":{\"autotypenumbers\":\"strict\",\"colorway\":[\"#636efa\",\"#EF553B\",\"#00cc96\",\"#ab63fa\",\"#FFA15A\",\"#19d3f3\",\"#FF6692\",\"#B6E880\",\"#FF97FF\",\"#FECB52\"],\"font\":{\"color\":\"#2a3f5f\"},\"hovermode\":\"closest\",\"hoverlabel\":{\"align\":\"left\"},\"paper_bgcolor\":\"white\",\"plot_bgcolor\":\"#E5ECF6\",\"polar\":{\"bgcolor\":\"#E5ECF6\",\"angularaxis\":{\"gridcolor\":\"white\",\"linecolor\":\"white\",\"ticks\":\"\"},\"radialaxis\":{\"gridcolor\":\"white\",\"linecolor\":\"white\",\"ticks\":\"\"}},\"ternary\":{\"bgcolor\":\"#E5ECF6\",\"aaxis\":{\"gridcolor\":\"white\",\"linecolor\":\"white\",\"ticks\":\"\"},\"baxis\":{\"gridcolor\":\"white\",\"linecolor\":\"white\",\"ticks\":\"\"},\"caxis\":{\"gridcolor\":\"white\",\"linecolor\":\"white\",\"ticks\":\"\"}},\"coloraxis\":{\"colorbar\":{\"outlinewidth\":0,\"ticks\":\"\"}},\"colorscale\":{\"sequential\":[[0.0,\"#0d0887\"],[0.1111111111111111,\"#46039f\"],[0.2222222222222222,\"#7201a8\"],[0.3333333333333333,\"#9c179e\"],[0.4444444444444444,\"#bd3786\"],[0.5555555555555556,\"#d8576b\"],[0.6666666666666666,\"#ed7953\"],[0.7777777777777778,\"#fb9f3a\"],[0.8888888888888888,\"#fdca26\"],[1.0,\"#f0f921\"]],\"sequentialminus\":[[0.0,\"#0d0887\"],[0.1111111111111111,\"#46039f\"],[0.2222222222222222,\"#7201a8\"],[0.3333333333333333,\"#9c179e\"],[0.4444444444444444,\"#bd3786\"],[0.5555555555555556,\"#d8576b\"],[0.6666666666666666,\"#ed7953\"],[0.7777777777777778,\"#fb9f3a\"],[0.8888888888888888,\"#fdca26\"],[1.0,\"#f0f921\"]],\"diverging\":[[0,\"#8e0152\"],[0.1,\"#c51b7d\"],[0.2,\"#de77ae\"],[0.3,\"#f1b6da\"],[0.4,\"#fde0ef\"],[0.5,\"#f7f7f7\"],[0.6,\"#e6f5d0\"],[0.7,\"#b8e186\"],[0.8,\"#7fbc41\"],[0.9,\"#4d9221\"],[1,\"#276419\"]]},\"xaxis\":{\"gridcolor\":\"white\",\"linecolor\":\"white\",\"ticks\":\"\",\"title\":{\"standoff\":15},\"zerolinecolor\":\"white\",\"automargin\":true,\"zerolinewidth\":2},\"yaxis\":{\"gridcolor\":\"white\",\"linecolor\":\"white\",\"ticks\":\"\",\"title\":{\"standoff\":15},\"zerolinecolor\":\"white\",\"automargin\":true,\"zerolinewidth\":2},\"scene\":{\"xaxis\":{\"backgroundcolor\":\"#E5ECF6\",\"gridcolor\":\"white\",\"linecolor\":\"white\",\"showbackground\":true,\"ticks\":\"\",\"zerolinecolor\":\"white\",\"gridwidth\":2},\"yaxis\":{\"backgroundcolor\":\"#E5ECF6\",\"gridcolor\":\"white\",\"linecolor\":\"white\",\"showbackground\":true,\"ticks\":\"\",\"zerolinecolor\":\"white\",\"gridwidth\":2},\"zaxis\":{\"backgroundcolor\":\"#E5ECF6\",\"gridcolor\":\"white\",\"linecolor\":\"white\",\"showbackground\":true,\"ticks\":\"\",\"zerolinecolor\":\"white\",\"gridwidth\":2}},\"shapedefaults\":{\"line\":{\"color\":\"#2a3f5f\"}},\"annotationdefaults\":{\"arrowcolor\":\"#2a3f5f\",\"arrowhead\":0,\"arrowwidth\":1},\"geo\":{\"bgcolor\":\"white\",\"landcolor\":\"#E5ECF6\",\"subunitcolor\":\"white\",\"showland\":true,\"showlakes\":true,\"lakecolor\":\"white\"},\"title\":{\"x\":0.05},\"mapbox\":{\"style\":\"light\"}}},\"xaxis\":{\"anchor\":\"y\",\"domain\":[0.0,1.0],\"title\":{\"text\":\"orientation\"},\"range\":[-1,1]},\"yaxis\":{\"anchor\":\"x\",\"domain\":[0.0,1.0],\"title\":{\"text\":\"progvscons\"},\"range\":[-1,1]},\"legend\":{\"title\":{\"text\":\"group\"},\"tracegroupgap\":0},\"margin\":{\"t\":60}},                        {\"responsive\": true}                    ).then(function(){\n",
       "                            \n",
       "var gd = document.getElementById('a9ec5e28-65d7-495b-bdfd-51b72d1b94d9');\n",
       "var x = new MutationObserver(function (mutations, observer) {{\n",
       "        var display = window.getComputedStyle(gd).display;\n",
       "        if (!display || display === 'none') {{\n",
       "            console.log([gd, 'removed!']);\n",
       "            Plotly.purge(gd);\n",
       "            observer.disconnect();\n",
       "        }}\n",
       "}});\n",
       "\n",
       "// Listen for the removal of the full notebook cells\n",
       "var notebookContainer = gd.closest('#notebook-container');\n",
       "if (notebookContainer) {{\n",
       "    x.observe(notebookContainer, {childList: true});\n",
       "}}\n",
       "\n",
       "// Listen for the clearing of the current output cell\n",
       "var outputEl = gd.closest('.output');\n",
       "if (outputEl) {{\n",
       "    x.observe(outputEl, {childList: true});\n",
       "}}\n",
       "\n",
       "                        })                };                });            </script>        </div>"
      ]
     },
     "metadata": {},
     "output_type": "display_data"
    }
   ],
   "source": [
    "fig = px.scatter(counts_df, x=\"orientation\", y=\"progvscons\",  color='group', hover_name='name')\n",
    "fig.update_xaxes(range=[-1, 1])\n",
    "fig.update_yaxes(range=[-1, 1])\n",
    "fig.show()"
   ]
  },
  {
   "cell_type": "code",
   "execution_count": 16,
   "id": "3d02bd8a",
   "metadata": {},
   "outputs": [],
   "source": [
    "counts_df.to_csv(\"../Data/a_supprimer.csv\")"
   ]
  },
  {
   "cell_type": "code",
   "execution_count": 184,
   "id": "54ad9e9e",
   "metadata": {
    "scrolled": true
   },
   "outputs": [
    {
     "data": {
      "application/vnd.plotly.v1+json": {
       "config": {
        "plotlyServerURL": "https://plot.ly"
       },
       "data": [
        {
         "hovertemplate": "<b>%{hovertext}</b><br><br>District=Martigny<br>orientation=%{x}<br>progvscons=%{y}<extra></extra>",
         "hovertext": [
          "Adeline CRETTENAND",
          "Alain LÉGER",
          "Bernard TROILLET",
          "Cilette CRETTON",
          "Damien LUISIER",
          "Florence CARRON DARBELLAY",
          "Florine CARRON",
          "Gaël BOURGEOIS",
          "Géraldine GIANADDA",
          "Géraldine GRANGES GUENOT",
          "Géraldine GRANGES-GUENOT",
          "Jean-Dominique CIPOLLA",
          "Jean-Marc DUPONT",
          "Léonard BENDER",
          "Narcisse CRETTENAND",
          "Natascha FARQUET",
          "Philippe BENDER",
          "Vincent GÜNTHER"
         ],
         "legendgroup": "Martigny",
         "marker": {
          "color": "#636efa",
          "symbol": "circle"
         },
         "mode": "markers",
         "name": "Martigny",
         "orientation": "v",
         "showlegend": true,
         "type": "scatter",
         "x": [
          0.20588235294117646,
          0.07692307692307693,
          -0.07317073170731707,
          -0.41025641025641024,
          0.11428571428571428,
          0,
          -0.45161290322580644,
          -0.5833333333333334,
          -0.4482758620689655,
          -1,
          0.23076923076923078,
          0.35,
          -0.4146341463414634,
          -0.36585365853658536,
          0.17073170731707318,
          -0.2777777777777778,
          0.05128205128205128,
          -0.4146341463414634
         ],
         "xaxis": "x",
         "y": [
          0.20588235294117646,
          0.05128205128205128,
          -0.24390243902439024,
          -0.7435897435897436,
          0.2,
          -0.2631578947368421,
          -0.6774193548387096,
          -0.7083333333333334,
          -0.6896551724137931,
          -1,
          0.5,
          0.525,
          -0.7804878048780488,
          -0.6829268292682927,
          0.0975609756097561,
          -0.6388888888888888,
          0.10256410256410256,
          -0.8292682926829268
         ],
         "yaxis": "y"
        },
        {
         "hovertemplate": "<b>%{hovertext}</b><br><br>District=Monthey<br>orientation=%{x}<br>progvscons=%{y}<extra></extra>",
         "hovertext": [
          "Alain DUBOSSON",
          "Alain SCHÖNBETT",
          "Arnaud DUBOIS",
          "Bernard OBERHOLZER",
          "Claudy BESSE",
          "Côme VUILLE",
          "Damien RABOUD",
          "Fabien THETAZ",
          "Georges VIONNET",
          "Grégoire VANNAY",
          "Jean-Baptiste UDRESSY",
          "Johan ROCHEL",
          "Nicolas CHABLAIS",
          "Olivier DERIVAZ",
          "Patricia CASAYS",
          "Sandro FONTANA",
          "Sophie DUCREY"
         ],
         "legendgroup": "Monthey",
         "marker": {
          "color": "#EF553B",
          "symbol": "circle"
         },
         "mode": "markers",
         "name": "Monthey",
         "orientation": "v",
         "showlegend": true,
         "type": "scatter",
         "x": [
          0.5,
          -0.17142857142857143,
          -0.3,
          -0.38461538461538464,
          0.25806451612903225,
          -0.1794871794871795,
          0.25,
          -0.4,
          -0.425,
          -0.05714285714285714,
          0.35135135135135137,
          -0.36585365853658536,
          0,
          -0.35,
          0.06666666666666667,
          0.05555555555555555,
          -0.36585365853658536
         ],
         "xaxis": "x",
         "y": [
          0.8,
          -0.45714285714285713,
          -0.725,
          -0.5384615384615384,
          0.45161290322580644,
          -0.358974358974359,
          0.5277777777777778,
          -0.8,
          -0.8,
          -0.11428571428571428,
          0.5945945945945946,
          -0.7317073170731707,
          0.3333333333333333,
          -0.675,
          -0.1,
          0.08333333333333333,
          -0.7804878048780488
         ],
         "yaxis": "y"
        },
        {
         "hovertemplate": "<b>%{hovertext}</b><br><br>District=Sierre<br>orientation=%{x}<br>progvscons=%{y}<extra></extra>",
         "hovertext": [
          "Alex BONVIN",
          "Blaise CRETTOL",
          "Corinne DUC BONVIN",
          "Célina RAMSAUER",
          "Edmond PERRUCHOUD",
          "François GENOUD",
          "Gabrielle CORNUT-ZUFFEREY",
          "Géraldine POUGET-ZUFFEREY",
          "Gérard SALAMIN",
          "Janine REY-SIGGEN",
          "Jean-Daniel NANCHEN",
          "Jean-Marc SAVIOZ",
          "Jean-Pierre REY",
          "Joséphine WAEBER",
          "Mathieu CALOZ",
          "Nicolas BONVIN",
          "Stéphane CLAVIEN"
         ],
         "legendgroup": "Sierre",
         "marker": {
          "color": "#00cc96",
          "symbol": "circle"
         },
         "mode": "markers",
         "name": "Sierre",
         "orientation": "v",
         "showlegend": true,
         "type": "scatter",
         "x": [
          0.3783783783783784,
          -0.4722222222222222,
          -0.3783783783783784,
          -0.35135135135135137,
          0.35714285714285715,
          -0.13157894736842105,
          -0.3888888888888889,
          0.1,
          0.1794871794871795,
          -0.4146341463414634,
          -0.4146341463414634,
          0.15,
          -0.1891891891891892,
          0.16666666666666666,
          -0.06060606060606061,
          0.18421052631578946,
          -0.225
         ],
         "xaxis": "x",
         "y": [
          0.5945945945945946,
          -0.8333333333333334,
          -0.8108108108108109,
          -0.7027027027027027,
          0.7857142857142857,
          -0.39473684210526316,
          -0.8055555555555556,
          0.025,
          0.15384615384615385,
          -0.7804878048780488,
          -0.7804878048780488,
          0.175,
          -0.43243243243243246,
          0.19444444444444445,
          -0.42424242424242425,
          0.07894736842105263,
          -0.625
         ],
         "yaxis": "y"
        },
        {
         "hovertemplate": "<b>%{hovertext}</b><br><br>District=Sion<br>orientation=%{x}<br>progvscons=%{y}<extra></extra>",
         "hovertext": [
          "Alina DARBELLAY",
          "Caroline REYNARD",
          "Christelle HERITIER",
          "Christine ROUX",
          "Emilie PRAZ",
          "François QUENNOZ",
          "Gabrielle BARRAS",
          "Jean BONNARD",
          "Jean ZERMATTEN",
          "Laurence VUAGNIAUX",
          "Marie ZUCHUAT",
          "Marius DUMOULIN",
          "Pierre SCHERTENLEIB",
          "Pierre-Alain RAEMY",
          "Ruth STALDER",
          "Vincent BOAND",
          "Vincent LUYET",
          "Yann RODUIT"
         ],
         "legendgroup": "Sion",
         "marker": {
          "color": "#ab63fa",
          "symbol": "circle"
         },
         "mode": "markers",
         "name": "Sion",
         "orientation": "v",
         "showlegend": true,
         "type": "scatter",
         "x": [
          -0.4782608695652174,
          -0.41025641025641024,
          -0.375,
          0.2222222222222222,
          -0.4146341463414634,
          0.21621621621621623,
          0.23529411764705882,
          -0.425,
          -0.38461538461538464,
          -0.4,
          0.11428571428571428,
          0.12195121951219512,
          -0.4146341463414634,
          -0.2682926829268293,
          -0.1282051282051282,
          0.3142857142857143,
          -0.4594594594594595,
          0.10256410256410256
         ],
         "xaxis": "x",
         "y": [
          -0.782608695652174,
          -0.7692307692307693,
          -0.6666666666666666,
          0.37037037037037035,
          -0.7804878048780488,
          0.43243243243243246,
          0.4411764705882353,
          -0.725,
          -0.717948717948718,
          -0.825,
          0.05714285714285714,
          0.0975609756097561,
          -0.7804878048780488,
          -0.6341463414634146,
          -0.20512820512820512,
          0.42857142857142855,
          -0.8378378378378378,
          0.10256410256410256
         ],
         "yaxis": "y"
        },
        {
         "hovertemplate": "<b>%{hovertext}</b><br><br>District=Goms<br>orientation=%{x}<br>progvscons=%{y}<extra></extra>",
         "hovertext": [
          "Chantal CARLEN",
          "Peter BÄHLER"
         ],
         "legendgroup": "Goms",
         "marker": {
          "color": "#FFA15A",
          "symbol": "circle"
         },
         "mode": "markers",
         "name": "Goms",
         "orientation": "v",
         "showlegend": true,
         "type": "scatter",
         "x": [
          0.3333333333333333,
          0.2972972972972973
         ],
         "xaxis": "x",
         "y": [
          0.5555555555555556,
          0.7297297297297297
         ],
         "yaxis": "y"
        },
        {
         "hovertemplate": "<b>%{hovertext}</b><br><br>District=Brig<br>orientation=%{x}<br>progvscons=%{y}<extra></extra>",
         "hovertext": [
          "Christian ESCHER",
          "Claudia ALPIGER",
          "Felix RUPPEN",
          "German EYER",
          "Kurt REGOTZ",
          "Leander WILLINER",
          "Maria ARNOLD-ESCHER",
          "Monika HOLZEGGER",
          "Rafael WELSCHEN",
          "Ralph KUMMER",
          "Remo SCHNYDER"
         ],
         "legendgroup": "Brig",
         "marker": {
          "color": "#19d3f3",
          "symbol": "circle"
         },
         "mode": "markers",
         "name": "Brig",
         "orientation": "v",
         "showlegend": true,
         "type": "scatter",
         "x": [
          -0.027777777777777776,
          -0.358974358974359,
          0.35294117647058826,
          -0.39473684210526316,
          0.02702702702702703,
          0.08108108108108109,
          0.2647058823529412,
          -0.2,
          0.25,
          0.1111111111111111,
          0.1875
         ],
         "xaxis": "x",
         "y": [
          -0.16666666666666666,
          -0.5897435897435898,
          0.4117647058823529,
          -0.5789473684210527,
          0.10810810810810811,
          0.02702702702702703,
          0.38235294117647056,
          -0.125,
          0.4642857142857143,
          0.6666666666666666,
          0.53125
         ],
         "yaxis": "y"
        },
        {
         "hovertemplate": "<b>%{hovertext}</b><br><br>District=Conthey<br>orientation=%{x}<br>progvscons=%{y}<extra></extra>",
         "hovertext": [
          "Claude NANÇOZ",
          "Damien CLERC",
          "Damien FUMEAUX",
          "Florent FAVRE",
          "Florian EVEQUOZ",
          "Lucile CURDY",
          "Léa ROUILLER DESSIMOZ",
          "Pascale FUMEAUX",
          "Ralph DESSIMOZ",
          "Romain UDRY",
          "Sophie BORNET"
         ],
         "legendgroup": "Conthey",
         "marker": {
          "color": "#FF6692",
          "symbol": "circle"
         },
         "mode": "markers",
         "name": "Conthey",
         "orientation": "v",
         "showlegend": true,
         "type": "scatter",
         "x": [
          0.06451612903225806,
          0.3888888888888889,
          0.358974358974359,
          0.17647058823529413,
          -0.4634146341463415,
          -0.37142857142857144,
          -0.4,
          -0.43333333333333335,
          0.11428571428571428,
          0.13333333333333333,
          0.06060606060606061
         ],
         "xaxis": "x",
         "y": [
          -0.12903225806451613,
          0.5555555555555556,
          0.6153846153846154,
          0.14705882352941177,
          -0.7317073170731707,
          -0.7428571428571429,
          -0.7428571428571429,
          -0.8,
          0,
          0.03333333333333333,
          0.030303030303030304
         ],
         "yaxis": "y"
        },
        {
         "hovertemplate": "<b>%{hovertext}</b><br><br>District=Hérens<br>orientation=%{x}<br>progvscons=%{y}<extra></extra>",
         "hovertext": [
          "Claudia GAILLARD MOREND",
          "Frédéric PITTELOUD",
          "Jacques BLANC",
          "Marc-Antoine GENOLET",
          "Mélanie FOLLONIER"
         ],
         "legendgroup": "Hérens",
         "marker": {
          "color": "#B6E880",
          "symbol": "circle"
         },
         "mode": "markers",
         "name": "Hérens",
         "orientation": "v",
         "showlegend": true,
         "type": "scatter",
         "x": [
          -0.36585365853658536,
          0.1282051282051282,
          -0.34375,
          0.375,
          0.06060606060606061
         ],
         "xaxis": "x",
         "y": [
          -0.7804878048780488,
          0.15384615384615385,
          -0.59375,
          0.675,
          -0.24242424242424243
         ],
         "yaxis": "y"
        },
        {
         "hovertemplate": "<b>%{hovertext}</b><br><br>District=Visp<br>orientation=%{x}<br>progvscons=%{y}<extra></extra>",
         "hovertext": [
          "Danica ZURBRIGGEN LEHNER",
          "Fabian ZURBRIGGEN",
          "Flavio SCHMID",
          "Ida HÄFLIGER",
          "Martin SCHÜRCH",
          "Matteo ABÄCHERLI",
          "Michael BURGENER",
          "Michael KREUZER",
          "Paul BURGENER",
          "Peter BURRI",
          "Rahel ZIMMERMANN"
         ],
         "legendgroup": "Visp",
         "marker": {
          "color": "#FF97FF",
          "symbol": "circle"
         },
         "mode": "markers",
         "name": "Visp",
         "orientation": "v",
         "showlegend": true,
         "type": "scatter",
         "x": [
          -0.16666666666666666,
          0.275,
          0.16666666666666666,
          -0.029411764705882353,
          0.36585365853658536,
          0.225,
          0.21951219512195122,
          0.2682926829268293,
          -0.0625,
          -0.07317073170731707,
          -0.358974358974359
         ],
         "xaxis": "x",
         "y": [
          -0.20833333333333334,
          0.725,
          0.20833333333333334,
          -0.11764705882352941,
          0.43902439024390244,
          0.35,
          0.24390243902439024,
          0.6341463414634146,
          -0.09375,
          0,
          -0.5897435897435898
         ],
         "yaxis": "y"
        },
        {
         "hovertemplate": "<b>%{hovertext}</b><br><br>District=Westlich Raron<br>orientation=%{x}<br>progvscons=%{y}<extra></extra>",
         "hovertext": [
          "Dominik KNUBEL",
          "Hermann BRUNNER",
          "Lukas KALBERMATTEN",
          "Romano AMACKER"
         ],
         "legendgroup": "Westlich Raron",
         "marker": {
          "color": "#FECB52",
          "symbol": "circle"
         },
         "mode": "markers",
         "name": "Westlich Raron",
         "orientation": "v",
         "showlegend": true,
         "type": "scatter",
         "x": [
          -0.08333333333333333,
          -0.05,
          0.11428571428571428,
          0.2682926829268293
         ],
         "xaxis": "x",
         "y": [
          -0.05555555555555555,
          -0.025,
          0.05714285714285714,
          0.6829268292682927
         ],
         "yaxis": "y"
        },
        {
         "hovertemplate": "<b>%{hovertext}</b><br><br>District=Leuk<br>orientation=%{x}<br>progvscons=%{y}<extra></extra>",
         "hovertext": [
          "Fabienne MURMANN",
          "Lukas JÄGER",
          "Madeleine KUONEN-EGGO",
          "Rainer MATHIER",
          "Thomas MATTER"
         ],
         "legendgroup": "Leuk",
         "marker": {
          "color": "#636efa",
          "symbol": "circle"
         },
         "mode": "markers",
         "name": "Leuk",
         "orientation": "v",
         "showlegend": true,
         "type": "scatter",
         "x": [
          0.23076923076923078,
          0.25925925925925924,
          -0.3939393939393939,
          0.21951219512195122,
          -0.024390243902439025
         ],
         "xaxis": "x",
         "y": [
          0.2564102564102564,
          0.7037037037037037,
          -0.6666666666666666,
          0.2926829268292683,
          -0.1951219512195122
         ],
         "yaxis": "y"
        },
        {
         "hovertemplate": "<b>%{hovertext}</b><br><br>District=Östlich Raron<br>orientation=%{x}<br>progvscons=%{y}<extra></extra>",
         "hovertext": [
          "Gerhard SCHMID"
         ],
         "legendgroup": "Östlich Raron",
         "marker": {
          "color": "#EF553B",
          "symbol": "circle"
         },
         "mode": "markers",
         "name": "Östlich Raron",
         "orientation": "v",
         "showlegend": true,
         "type": "scatter",
         "x": [
          -0.375
         ],
         "xaxis": "x",
         "y": [
          -0.6
         ],
         "yaxis": "y"
        },
        {
         "hovertemplate": "<b>%{hovertext}</b><br><br>District=Entremont<br>orientation=%{x}<br>progvscons=%{y}<extra></extra>",
         "hovertext": [
          "Jean-François LOVEY",
          "Jérôme FORMAZ",
          "Kamy MAY",
          "Mathieu SARRASIN",
          "Natacha MARET",
          "Pierre DARBELLAY"
         ],
         "legendgroup": "Entremont",
         "marker": {
          "color": "#00cc96",
          "symbol": "circle"
         },
         "mode": "markers",
         "name": "Entremont",
         "orientation": "v",
         "showlegend": true,
         "type": "scatter",
         "x": [
          -0.41025641025641024,
          0.3611111111111111,
          0.07692307692307693,
          0,
          0.16216216216216217,
          0.3333333333333333
         ],
         "xaxis": "x",
         "y": [
          -0.7692307692307693,
          0.5277777777777778,
          0.15384615384615385,
          -0.1,
          0.05405405405405406,
          0.3055555555555556
         ],
         "yaxis": "y"
        },
        {
         "hovertemplate": "<b>%{hovertext}</b><br><br>District=St-Maurice<br>orientation=%{x}<br>progvscons=%{y}<extra></extra>",
         "hovertext": [
          "Jenny VOEFFRAY",
          "Martine ROUILLER",
          "Nicolas METTAN",
          "Raymonde SCHOCH",
          "Sabine FOURNIER"
         ],
         "legendgroup": "St-Maurice",
         "marker": {
          "color": "#ab63fa",
          "symbol": "circle"
         },
         "mode": "markers",
         "name": "St-Maurice",
         "orientation": "v",
         "showlegend": true,
         "type": "scatter",
         "x": [
          -0.10344827586206896,
          -0.425,
          -0.3333333333333333,
          -0.358974358974359,
          -0.4146341463414634
         ],
         "xaxis": "x",
         "y": [
          -0.3448275862068966,
          -0.825,
          -0.6111111111111112,
          -0.5641025641025641,
          -0.8292682926829268
         ],
         "yaxis": "y"
        }
       ],
       "layout": {
        "legend": {
         "title": {
          "text": "District"
         },
         "tracegroupgap": 0
        },
        "margin": {
         "t": 60
        },
        "template": {
         "data": {
          "bar": [
           {
            "error_x": {
             "color": "#2a3f5f"
            },
            "error_y": {
             "color": "#2a3f5f"
            },
            "marker": {
             "line": {
              "color": "#E5ECF6",
              "width": 0.5
             },
             "pattern": {
              "fillmode": "overlay",
              "size": 10,
              "solidity": 0.2
             }
            },
            "type": "bar"
           }
          ],
          "barpolar": [
           {
            "marker": {
             "line": {
              "color": "#E5ECF6",
              "width": 0.5
             },
             "pattern": {
              "fillmode": "overlay",
              "size": 10,
              "solidity": 0.2
             }
            },
            "type": "barpolar"
           }
          ],
          "carpet": [
           {
            "aaxis": {
             "endlinecolor": "#2a3f5f",
             "gridcolor": "white",
             "linecolor": "white",
             "minorgridcolor": "white",
             "startlinecolor": "#2a3f5f"
            },
            "baxis": {
             "endlinecolor": "#2a3f5f",
             "gridcolor": "white",
             "linecolor": "white",
             "minorgridcolor": "white",
             "startlinecolor": "#2a3f5f"
            },
            "type": "carpet"
           }
          ],
          "choropleth": [
           {
            "colorbar": {
             "outlinewidth": 0,
             "ticks": ""
            },
            "type": "choropleth"
           }
          ],
          "contour": [
           {
            "colorbar": {
             "outlinewidth": 0,
             "ticks": ""
            },
            "colorscale": [
             [
              0,
              "#0d0887"
             ],
             [
              0.1111111111111111,
              "#46039f"
             ],
             [
              0.2222222222222222,
              "#7201a8"
             ],
             [
              0.3333333333333333,
              "#9c179e"
             ],
             [
              0.4444444444444444,
              "#bd3786"
             ],
             [
              0.5555555555555556,
              "#d8576b"
             ],
             [
              0.6666666666666666,
              "#ed7953"
             ],
             [
              0.7777777777777778,
              "#fb9f3a"
             ],
             [
              0.8888888888888888,
              "#fdca26"
             ],
             [
              1,
              "#f0f921"
             ]
            ],
            "type": "contour"
           }
          ],
          "contourcarpet": [
           {
            "colorbar": {
             "outlinewidth": 0,
             "ticks": ""
            },
            "type": "contourcarpet"
           }
          ],
          "heatmap": [
           {
            "colorbar": {
             "outlinewidth": 0,
             "ticks": ""
            },
            "colorscale": [
             [
              0,
              "#0d0887"
             ],
             [
              0.1111111111111111,
              "#46039f"
             ],
             [
              0.2222222222222222,
              "#7201a8"
             ],
             [
              0.3333333333333333,
              "#9c179e"
             ],
             [
              0.4444444444444444,
              "#bd3786"
             ],
             [
              0.5555555555555556,
              "#d8576b"
             ],
             [
              0.6666666666666666,
              "#ed7953"
             ],
             [
              0.7777777777777778,
              "#fb9f3a"
             ],
             [
              0.8888888888888888,
              "#fdca26"
             ],
             [
              1,
              "#f0f921"
             ]
            ],
            "type": "heatmap"
           }
          ],
          "heatmapgl": [
           {
            "colorbar": {
             "outlinewidth": 0,
             "ticks": ""
            },
            "colorscale": [
             [
              0,
              "#0d0887"
             ],
             [
              0.1111111111111111,
              "#46039f"
             ],
             [
              0.2222222222222222,
              "#7201a8"
             ],
             [
              0.3333333333333333,
              "#9c179e"
             ],
             [
              0.4444444444444444,
              "#bd3786"
             ],
             [
              0.5555555555555556,
              "#d8576b"
             ],
             [
              0.6666666666666666,
              "#ed7953"
             ],
             [
              0.7777777777777778,
              "#fb9f3a"
             ],
             [
              0.8888888888888888,
              "#fdca26"
             ],
             [
              1,
              "#f0f921"
             ]
            ],
            "type": "heatmapgl"
           }
          ],
          "histogram": [
           {
            "marker": {
             "pattern": {
              "fillmode": "overlay",
              "size": 10,
              "solidity": 0.2
             }
            },
            "type": "histogram"
           }
          ],
          "histogram2d": [
           {
            "colorbar": {
             "outlinewidth": 0,
             "ticks": ""
            },
            "colorscale": [
             [
              0,
              "#0d0887"
             ],
             [
              0.1111111111111111,
              "#46039f"
             ],
             [
              0.2222222222222222,
              "#7201a8"
             ],
             [
              0.3333333333333333,
              "#9c179e"
             ],
             [
              0.4444444444444444,
              "#bd3786"
             ],
             [
              0.5555555555555556,
              "#d8576b"
             ],
             [
              0.6666666666666666,
              "#ed7953"
             ],
             [
              0.7777777777777778,
              "#fb9f3a"
             ],
             [
              0.8888888888888888,
              "#fdca26"
             ],
             [
              1,
              "#f0f921"
             ]
            ],
            "type": "histogram2d"
           }
          ],
          "histogram2dcontour": [
           {
            "colorbar": {
             "outlinewidth": 0,
             "ticks": ""
            },
            "colorscale": [
             [
              0,
              "#0d0887"
             ],
             [
              0.1111111111111111,
              "#46039f"
             ],
             [
              0.2222222222222222,
              "#7201a8"
             ],
             [
              0.3333333333333333,
              "#9c179e"
             ],
             [
              0.4444444444444444,
              "#bd3786"
             ],
             [
              0.5555555555555556,
              "#d8576b"
             ],
             [
              0.6666666666666666,
              "#ed7953"
             ],
             [
              0.7777777777777778,
              "#fb9f3a"
             ],
             [
              0.8888888888888888,
              "#fdca26"
             ],
             [
              1,
              "#f0f921"
             ]
            ],
            "type": "histogram2dcontour"
           }
          ],
          "mesh3d": [
           {
            "colorbar": {
             "outlinewidth": 0,
             "ticks": ""
            },
            "type": "mesh3d"
           }
          ],
          "parcoords": [
           {
            "line": {
             "colorbar": {
              "outlinewidth": 0,
              "ticks": ""
             }
            },
            "type": "parcoords"
           }
          ],
          "pie": [
           {
            "automargin": true,
            "type": "pie"
           }
          ],
          "scatter": [
           {
            "fillpattern": {
             "fillmode": "overlay",
             "size": 10,
             "solidity": 0.2
            },
            "type": "scatter"
           }
          ],
          "scatter3d": [
           {
            "line": {
             "colorbar": {
              "outlinewidth": 0,
              "ticks": ""
             }
            },
            "marker": {
             "colorbar": {
              "outlinewidth": 0,
              "ticks": ""
             }
            },
            "type": "scatter3d"
           }
          ],
          "scattercarpet": [
           {
            "marker": {
             "colorbar": {
              "outlinewidth": 0,
              "ticks": ""
             }
            },
            "type": "scattercarpet"
           }
          ],
          "scattergeo": [
           {
            "marker": {
             "colorbar": {
              "outlinewidth": 0,
              "ticks": ""
             }
            },
            "type": "scattergeo"
           }
          ],
          "scattergl": [
           {
            "marker": {
             "colorbar": {
              "outlinewidth": 0,
              "ticks": ""
             }
            },
            "type": "scattergl"
           }
          ],
          "scattermapbox": [
           {
            "marker": {
             "colorbar": {
              "outlinewidth": 0,
              "ticks": ""
             }
            },
            "type": "scattermapbox"
           }
          ],
          "scatterpolar": [
           {
            "marker": {
             "colorbar": {
              "outlinewidth": 0,
              "ticks": ""
             }
            },
            "type": "scatterpolar"
           }
          ],
          "scatterpolargl": [
           {
            "marker": {
             "colorbar": {
              "outlinewidth": 0,
              "ticks": ""
             }
            },
            "type": "scatterpolargl"
           }
          ],
          "scatterternary": [
           {
            "marker": {
             "colorbar": {
              "outlinewidth": 0,
              "ticks": ""
             }
            },
            "type": "scatterternary"
           }
          ],
          "surface": [
           {
            "colorbar": {
             "outlinewidth": 0,
             "ticks": ""
            },
            "colorscale": [
             [
              0,
              "#0d0887"
             ],
             [
              0.1111111111111111,
              "#46039f"
             ],
             [
              0.2222222222222222,
              "#7201a8"
             ],
             [
              0.3333333333333333,
              "#9c179e"
             ],
             [
              0.4444444444444444,
              "#bd3786"
             ],
             [
              0.5555555555555556,
              "#d8576b"
             ],
             [
              0.6666666666666666,
              "#ed7953"
             ],
             [
              0.7777777777777778,
              "#fb9f3a"
             ],
             [
              0.8888888888888888,
              "#fdca26"
             ],
             [
              1,
              "#f0f921"
             ]
            ],
            "type": "surface"
           }
          ],
          "table": [
           {
            "cells": {
             "fill": {
              "color": "#EBF0F8"
             },
             "line": {
              "color": "white"
             }
            },
            "header": {
             "fill": {
              "color": "#C8D4E3"
             },
             "line": {
              "color": "white"
             }
            },
            "type": "table"
           }
          ]
         },
         "layout": {
          "annotationdefaults": {
           "arrowcolor": "#2a3f5f",
           "arrowhead": 0,
           "arrowwidth": 1
          },
          "autotypenumbers": "strict",
          "coloraxis": {
           "colorbar": {
            "outlinewidth": 0,
            "ticks": ""
           }
          },
          "colorscale": {
           "diverging": [
            [
             0,
             "#8e0152"
            ],
            [
             0.1,
             "#c51b7d"
            ],
            [
             0.2,
             "#de77ae"
            ],
            [
             0.3,
             "#f1b6da"
            ],
            [
             0.4,
             "#fde0ef"
            ],
            [
             0.5,
             "#f7f7f7"
            ],
            [
             0.6,
             "#e6f5d0"
            ],
            [
             0.7,
             "#b8e186"
            ],
            [
             0.8,
             "#7fbc41"
            ],
            [
             0.9,
             "#4d9221"
            ],
            [
             1,
             "#276419"
            ]
           ],
           "sequential": [
            [
             0,
             "#0d0887"
            ],
            [
             0.1111111111111111,
             "#46039f"
            ],
            [
             0.2222222222222222,
             "#7201a8"
            ],
            [
             0.3333333333333333,
             "#9c179e"
            ],
            [
             0.4444444444444444,
             "#bd3786"
            ],
            [
             0.5555555555555556,
             "#d8576b"
            ],
            [
             0.6666666666666666,
             "#ed7953"
            ],
            [
             0.7777777777777778,
             "#fb9f3a"
            ],
            [
             0.8888888888888888,
             "#fdca26"
            ],
            [
             1,
             "#f0f921"
            ]
           ],
           "sequentialminus": [
            [
             0,
             "#0d0887"
            ],
            [
             0.1111111111111111,
             "#46039f"
            ],
            [
             0.2222222222222222,
             "#7201a8"
            ],
            [
             0.3333333333333333,
             "#9c179e"
            ],
            [
             0.4444444444444444,
             "#bd3786"
            ],
            [
             0.5555555555555556,
             "#d8576b"
            ],
            [
             0.6666666666666666,
             "#ed7953"
            ],
            [
             0.7777777777777778,
             "#fb9f3a"
            ],
            [
             0.8888888888888888,
             "#fdca26"
            ],
            [
             1,
             "#f0f921"
            ]
           ]
          },
          "colorway": [
           "#636efa",
           "#EF553B",
           "#00cc96",
           "#ab63fa",
           "#FFA15A",
           "#19d3f3",
           "#FF6692",
           "#B6E880",
           "#FF97FF",
           "#FECB52"
          ],
          "font": {
           "color": "#2a3f5f"
          },
          "geo": {
           "bgcolor": "white",
           "lakecolor": "white",
           "landcolor": "#E5ECF6",
           "showlakes": true,
           "showland": true,
           "subunitcolor": "white"
          },
          "hoverlabel": {
           "align": "left"
          },
          "hovermode": "closest",
          "mapbox": {
           "style": "light"
          },
          "paper_bgcolor": "white",
          "plot_bgcolor": "#E5ECF6",
          "polar": {
           "angularaxis": {
            "gridcolor": "white",
            "linecolor": "white",
            "ticks": ""
           },
           "bgcolor": "#E5ECF6",
           "radialaxis": {
            "gridcolor": "white",
            "linecolor": "white",
            "ticks": ""
           }
          },
          "scene": {
           "xaxis": {
            "backgroundcolor": "#E5ECF6",
            "gridcolor": "white",
            "gridwidth": 2,
            "linecolor": "white",
            "showbackground": true,
            "ticks": "",
            "zerolinecolor": "white"
           },
           "yaxis": {
            "backgroundcolor": "#E5ECF6",
            "gridcolor": "white",
            "gridwidth": 2,
            "linecolor": "white",
            "showbackground": true,
            "ticks": "",
            "zerolinecolor": "white"
           },
           "zaxis": {
            "backgroundcolor": "#E5ECF6",
            "gridcolor": "white",
            "gridwidth": 2,
            "linecolor": "white",
            "showbackground": true,
            "ticks": "",
            "zerolinecolor": "white"
           }
          },
          "shapedefaults": {
           "line": {
            "color": "#2a3f5f"
           }
          },
          "ternary": {
           "aaxis": {
            "gridcolor": "white",
            "linecolor": "white",
            "ticks": ""
           },
           "baxis": {
            "gridcolor": "white",
            "linecolor": "white",
            "ticks": ""
           },
           "bgcolor": "#E5ECF6",
           "caxis": {
            "gridcolor": "white",
            "linecolor": "white",
            "ticks": ""
           }
          },
          "title": {
           "x": 0.05
          },
          "xaxis": {
           "automargin": true,
           "gridcolor": "white",
           "linecolor": "white",
           "ticks": "",
           "title": {
            "standoff": 15
           },
           "zerolinecolor": "white",
           "zerolinewidth": 2
          },
          "yaxis": {
           "automargin": true,
           "gridcolor": "white",
           "linecolor": "white",
           "ticks": "",
           "title": {
            "standoff": 15
           },
           "zerolinecolor": "white",
           "zerolinewidth": 2
          }
         }
        },
        "xaxis": {
         "anchor": "y",
         "domain": [
          0,
          1
         ],
         "range": [
          -1,
          1
         ],
         "title": {
          "text": "orientation"
         }
        },
        "yaxis": {
         "anchor": "x",
         "domain": [
          0,
          1
         ],
         "range": [
          -1,
          1
         ],
         "title": {
          "text": "progvscons"
         }
        }
       }
      },
      "text/html": [
       "<div>                            <div id=\"0dd0abbc-83e2-4f29-b90d-6aed14a0b25d\" class=\"plotly-graph-div\" style=\"height:525px; width:100%;\"></div>            <script type=\"text/javascript\">                require([\"plotly\"], function(Plotly) {                    window.PLOTLYENV=window.PLOTLYENV || {};                                    if (document.getElementById(\"0dd0abbc-83e2-4f29-b90d-6aed14a0b25d\")) {                    Plotly.newPlot(                        \"0dd0abbc-83e2-4f29-b90d-6aed14a0b25d\",                        [{\"hovertemplate\":\"<b>%{hovertext}</b><br><br>District=Martigny<br>orientation=%{x}<br>progvscons=%{y}<extra></extra>\",\"hovertext\":[\"Adeline CRETTENAND\",\"Alain L\\u00c9GER\",\"Bernard TROILLET\",\"Cilette CRETTON\",\"Damien LUISIER\",\"Florence CARRON DARBELLAY\",\"Florine CARRON\",\"Ga\\u00ebl BOURGEOIS\",\"G\\u00e9raldine GIANADDA\",\"G\\u00e9raldine GRANGES GUENOT\",\"G\\u00e9raldine GRANGES-GUENOT\",\"Jean-Dominique CIPOLLA\",\"Jean-Marc DUPONT\",\"L\\u00e9onard BENDER\",\"Narcisse CRETTENAND\",\"Natascha FARQUET\",\"Philippe BENDER\",\"Vincent G\\u00dcNTHER\"],\"legendgroup\":\"Martigny\",\"marker\":{\"color\":\"#636efa\",\"symbol\":\"circle\"},\"mode\":\"markers\",\"name\":\"Martigny\",\"orientation\":\"v\",\"showlegend\":true,\"x\":[0.20588235294117646,0.07692307692307693,-0.07317073170731707,-0.41025641025641024,0.11428571428571428,0.0,-0.45161290322580644,-0.5833333333333334,-0.4482758620689655,-1.0,0.23076923076923078,0.35,-0.4146341463414634,-0.36585365853658536,0.17073170731707318,-0.2777777777777778,0.05128205128205128,-0.4146341463414634],\"xaxis\":\"x\",\"y\":[0.20588235294117646,0.05128205128205128,-0.24390243902439024,-0.7435897435897436,0.2,-0.2631578947368421,-0.6774193548387096,-0.7083333333333334,-0.6896551724137931,-1.0,0.5,0.525,-0.7804878048780488,-0.6829268292682927,0.0975609756097561,-0.6388888888888888,0.10256410256410256,-0.8292682926829268],\"yaxis\":\"y\",\"type\":\"scatter\"},{\"hovertemplate\":\"<b>%{hovertext}</b><br><br>District=Monthey<br>orientation=%{x}<br>progvscons=%{y}<extra></extra>\",\"hovertext\":[\"Alain DUBOSSON\",\"Alain SCH\\u00d6NBETT\",\"Arnaud DUBOIS\",\"Bernard OBERHOLZER\",\"Claudy BESSE\",\"C\\u00f4me VUILLE\",\"Damien RABOUD\",\"Fabien THETAZ\",\"Georges VIONNET\",\"Gr\\u00e9goire VANNAY\",\"Jean-Baptiste UDRESSY\",\"Johan ROCHEL\",\"Nicolas CHABLAIS\",\"Olivier DERIVAZ\",\"Patricia CASAYS\",\"Sandro FONTANA\",\"Sophie DUCREY\"],\"legendgroup\":\"Monthey\",\"marker\":{\"color\":\"#EF553B\",\"symbol\":\"circle\"},\"mode\":\"markers\",\"name\":\"Monthey\",\"orientation\":\"v\",\"showlegend\":true,\"x\":[0.5,-0.17142857142857143,-0.3,-0.38461538461538464,0.25806451612903225,-0.1794871794871795,0.25,-0.4,-0.425,-0.05714285714285714,0.35135135135135137,-0.36585365853658536,0.0,-0.35,0.06666666666666667,0.05555555555555555,-0.36585365853658536],\"xaxis\":\"x\",\"y\":[0.8,-0.45714285714285713,-0.725,-0.5384615384615384,0.45161290322580644,-0.358974358974359,0.5277777777777778,-0.8,-0.8,-0.11428571428571428,0.5945945945945946,-0.7317073170731707,0.3333333333333333,-0.675,-0.1,0.08333333333333333,-0.7804878048780488],\"yaxis\":\"y\",\"type\":\"scatter\"},{\"hovertemplate\":\"<b>%{hovertext}</b><br><br>District=Sierre<br>orientation=%{x}<br>progvscons=%{y}<extra></extra>\",\"hovertext\":[\"Alex BONVIN\",\"Blaise CRETTOL\",\"Corinne DUC BONVIN\",\"C\\u00e9lina RAMSAUER\",\"Edmond PERRUCHOUD\",\"Fran\\u00e7ois GENOUD\",\"Gabrielle CORNUT-ZUFFEREY\",\"G\\u00e9raldine POUGET-ZUFFEREY\",\"G\\u00e9rard SALAMIN\",\"Janine REY-SIGGEN\",\"Jean-Daniel NANCHEN\",\"Jean-Marc SAVIOZ\",\"Jean-Pierre REY\",\"Jos\\u00e9phine WAEBER\",\"Mathieu CALOZ\",\"Nicolas BONVIN\",\"St\\u00e9phane CLAVIEN\"],\"legendgroup\":\"Sierre\",\"marker\":{\"color\":\"#00cc96\",\"symbol\":\"circle\"},\"mode\":\"markers\",\"name\":\"Sierre\",\"orientation\":\"v\",\"showlegend\":true,\"x\":[0.3783783783783784,-0.4722222222222222,-0.3783783783783784,-0.35135135135135137,0.35714285714285715,-0.13157894736842105,-0.3888888888888889,0.1,0.1794871794871795,-0.4146341463414634,-0.4146341463414634,0.15,-0.1891891891891892,0.16666666666666666,-0.06060606060606061,0.18421052631578946,-0.225],\"xaxis\":\"x\",\"y\":[0.5945945945945946,-0.8333333333333334,-0.8108108108108109,-0.7027027027027027,0.7857142857142857,-0.39473684210526316,-0.8055555555555556,0.025,0.15384615384615385,-0.7804878048780488,-0.7804878048780488,0.175,-0.43243243243243246,0.19444444444444445,-0.42424242424242425,0.07894736842105263,-0.625],\"yaxis\":\"y\",\"type\":\"scatter\"},{\"hovertemplate\":\"<b>%{hovertext}</b><br><br>District=Sion<br>orientation=%{x}<br>progvscons=%{y}<extra></extra>\",\"hovertext\":[\"Alina DARBELLAY\",\"Caroline REYNARD\",\"Christelle HERITIER\",\"Christine ROUX\",\"Emilie PRAZ\",\"Fran\\u00e7ois QUENNOZ\",\"Gabrielle BARRAS\",\"Jean BONNARD\",\"Jean ZERMATTEN\",\"Laurence VUAGNIAUX\",\"Marie ZUCHUAT\",\"Marius DUMOULIN\",\"Pierre SCHERTENLEIB\",\"Pierre-Alain RAEMY\",\"Ruth STALDER\",\"Vincent BOAND\",\"Vincent LUYET\",\"Yann RODUIT\"],\"legendgroup\":\"Sion\",\"marker\":{\"color\":\"#ab63fa\",\"symbol\":\"circle\"},\"mode\":\"markers\",\"name\":\"Sion\",\"orientation\":\"v\",\"showlegend\":true,\"x\":[-0.4782608695652174,-0.41025641025641024,-0.375,0.2222222222222222,-0.4146341463414634,0.21621621621621623,0.23529411764705882,-0.425,-0.38461538461538464,-0.4,0.11428571428571428,0.12195121951219512,-0.4146341463414634,-0.2682926829268293,-0.1282051282051282,0.3142857142857143,-0.4594594594594595,0.10256410256410256],\"xaxis\":\"x\",\"y\":[-0.782608695652174,-0.7692307692307693,-0.6666666666666666,0.37037037037037035,-0.7804878048780488,0.43243243243243246,0.4411764705882353,-0.725,-0.717948717948718,-0.825,0.05714285714285714,0.0975609756097561,-0.7804878048780488,-0.6341463414634146,-0.20512820512820512,0.42857142857142855,-0.8378378378378378,0.10256410256410256],\"yaxis\":\"y\",\"type\":\"scatter\"},{\"hovertemplate\":\"<b>%{hovertext}</b><br><br>District=Goms<br>orientation=%{x}<br>progvscons=%{y}<extra></extra>\",\"hovertext\":[\"Chantal CARLEN\",\"Peter B\\u00c4HLER\"],\"legendgroup\":\"Goms\",\"marker\":{\"color\":\"#FFA15A\",\"symbol\":\"circle\"},\"mode\":\"markers\",\"name\":\"Goms\",\"orientation\":\"v\",\"showlegend\":true,\"x\":[0.3333333333333333,0.2972972972972973],\"xaxis\":\"x\",\"y\":[0.5555555555555556,0.7297297297297297],\"yaxis\":\"y\",\"type\":\"scatter\"},{\"hovertemplate\":\"<b>%{hovertext}</b><br><br>District=Brig<br>orientation=%{x}<br>progvscons=%{y}<extra></extra>\",\"hovertext\":[\"Christian ESCHER\",\"Claudia ALPIGER\",\"Felix RUPPEN\",\"German EYER\",\"Kurt REGOTZ\",\"Leander WILLINER\",\"Maria ARNOLD-ESCHER\",\"Monika HOLZEGGER\",\"Rafael WELSCHEN\",\"Ralph KUMMER\",\"Remo SCHNYDER\"],\"legendgroup\":\"Brig\",\"marker\":{\"color\":\"#19d3f3\",\"symbol\":\"circle\"},\"mode\":\"markers\",\"name\":\"Brig\",\"orientation\":\"v\",\"showlegend\":true,\"x\":[-0.027777777777777776,-0.358974358974359,0.35294117647058826,-0.39473684210526316,0.02702702702702703,0.08108108108108109,0.2647058823529412,-0.2,0.25,0.1111111111111111,0.1875],\"xaxis\":\"x\",\"y\":[-0.16666666666666666,-0.5897435897435898,0.4117647058823529,-0.5789473684210527,0.10810810810810811,0.02702702702702703,0.38235294117647056,-0.125,0.4642857142857143,0.6666666666666666,0.53125],\"yaxis\":\"y\",\"type\":\"scatter\"},{\"hovertemplate\":\"<b>%{hovertext}</b><br><br>District=Conthey<br>orientation=%{x}<br>progvscons=%{y}<extra></extra>\",\"hovertext\":[\"Claude NAN\\u00c7OZ\",\"Damien CLERC\",\"Damien FUMEAUX\",\"Florent FAVRE\",\"Florian EVEQUOZ\",\"Lucile CURDY\",\"L\\u00e9a ROUILLER DESSIMOZ\",\"Pascale FUMEAUX\",\"Ralph DESSIMOZ\",\"Romain UDRY\",\"Sophie BORNET\"],\"legendgroup\":\"Conthey\",\"marker\":{\"color\":\"#FF6692\",\"symbol\":\"circle\"},\"mode\":\"markers\",\"name\":\"Conthey\",\"orientation\":\"v\",\"showlegend\":true,\"x\":[0.06451612903225806,0.3888888888888889,0.358974358974359,0.17647058823529413,-0.4634146341463415,-0.37142857142857144,-0.4,-0.43333333333333335,0.11428571428571428,0.13333333333333333,0.06060606060606061],\"xaxis\":\"x\",\"y\":[-0.12903225806451613,0.5555555555555556,0.6153846153846154,0.14705882352941177,-0.7317073170731707,-0.7428571428571429,-0.7428571428571429,-0.8,0.0,0.03333333333333333,0.030303030303030304],\"yaxis\":\"y\",\"type\":\"scatter\"},{\"hovertemplate\":\"<b>%{hovertext}</b><br><br>District=H\\u00e9rens<br>orientation=%{x}<br>progvscons=%{y}<extra></extra>\",\"hovertext\":[\"Claudia GAILLARD MOREND\",\"Fr\\u00e9d\\u00e9ric PITTELOUD\",\"Jacques BLANC\",\"Marc-Antoine GENOLET\",\"M\\u00e9lanie FOLLONIER\"],\"legendgroup\":\"H\\u00e9rens\",\"marker\":{\"color\":\"#B6E880\",\"symbol\":\"circle\"},\"mode\":\"markers\",\"name\":\"H\\u00e9rens\",\"orientation\":\"v\",\"showlegend\":true,\"x\":[-0.36585365853658536,0.1282051282051282,-0.34375,0.375,0.06060606060606061],\"xaxis\":\"x\",\"y\":[-0.7804878048780488,0.15384615384615385,-0.59375,0.675,-0.24242424242424243],\"yaxis\":\"y\",\"type\":\"scatter\"},{\"hovertemplate\":\"<b>%{hovertext}</b><br><br>District=Visp<br>orientation=%{x}<br>progvscons=%{y}<extra></extra>\",\"hovertext\":[\"Danica ZURBRIGGEN LEHNER\",\"Fabian ZURBRIGGEN\",\"Flavio SCHMID\",\"Ida H\\u00c4FLIGER\",\"Martin SCH\\u00dcRCH\",\"Matteo AB\\u00c4CHERLI\",\"Michael BURGENER\",\"Michael KREUZER\",\"Paul BURGENER\",\"Peter BURRI\",\"Rahel ZIMMERMANN\"],\"legendgroup\":\"Visp\",\"marker\":{\"color\":\"#FF97FF\",\"symbol\":\"circle\"},\"mode\":\"markers\",\"name\":\"Visp\",\"orientation\":\"v\",\"showlegend\":true,\"x\":[-0.16666666666666666,0.275,0.16666666666666666,-0.029411764705882353,0.36585365853658536,0.225,0.21951219512195122,0.2682926829268293,-0.0625,-0.07317073170731707,-0.358974358974359],\"xaxis\":\"x\",\"y\":[-0.20833333333333334,0.725,0.20833333333333334,-0.11764705882352941,0.43902439024390244,0.35,0.24390243902439024,0.6341463414634146,-0.09375,0.0,-0.5897435897435898],\"yaxis\":\"y\",\"type\":\"scatter\"},{\"hovertemplate\":\"<b>%{hovertext}</b><br><br>District=Westlich Raron<br>orientation=%{x}<br>progvscons=%{y}<extra></extra>\",\"hovertext\":[\"Dominik KNUBEL\",\"Hermann BRUNNER\",\"Lukas KALBERMATTEN\",\"Romano AMACKER\"],\"legendgroup\":\"Westlich Raron\",\"marker\":{\"color\":\"#FECB52\",\"symbol\":\"circle\"},\"mode\":\"markers\",\"name\":\"Westlich Raron\",\"orientation\":\"v\",\"showlegend\":true,\"x\":[-0.08333333333333333,-0.05,0.11428571428571428,0.2682926829268293],\"xaxis\":\"x\",\"y\":[-0.05555555555555555,-0.025,0.05714285714285714,0.6829268292682927],\"yaxis\":\"y\",\"type\":\"scatter\"},{\"hovertemplate\":\"<b>%{hovertext}</b><br><br>District=Leuk<br>orientation=%{x}<br>progvscons=%{y}<extra></extra>\",\"hovertext\":[\"Fabienne MURMANN\",\"Lukas J\\u00c4GER\",\"Madeleine KUONEN-EGGO\",\"Rainer MATHIER\",\"Thomas MATTER\"],\"legendgroup\":\"Leuk\",\"marker\":{\"color\":\"#636efa\",\"symbol\":\"circle\"},\"mode\":\"markers\",\"name\":\"Leuk\",\"orientation\":\"v\",\"showlegend\":true,\"x\":[0.23076923076923078,0.25925925925925924,-0.3939393939393939,0.21951219512195122,-0.024390243902439025],\"xaxis\":\"x\",\"y\":[0.2564102564102564,0.7037037037037037,-0.6666666666666666,0.2926829268292683,-0.1951219512195122],\"yaxis\":\"y\",\"type\":\"scatter\"},{\"hovertemplate\":\"<b>%{hovertext}</b><br><br>District=\\u00d6stlich Raron<br>orientation=%{x}<br>progvscons=%{y}<extra></extra>\",\"hovertext\":[\"Gerhard SCHMID\"],\"legendgroup\":\"\\u00d6stlich Raron\",\"marker\":{\"color\":\"#EF553B\",\"symbol\":\"circle\"},\"mode\":\"markers\",\"name\":\"\\u00d6stlich Raron\",\"orientation\":\"v\",\"showlegend\":true,\"x\":[-0.375],\"xaxis\":\"x\",\"y\":[-0.6],\"yaxis\":\"y\",\"type\":\"scatter\"},{\"hovertemplate\":\"<b>%{hovertext}</b><br><br>District=Entremont<br>orientation=%{x}<br>progvscons=%{y}<extra></extra>\",\"hovertext\":[\"Jean-Fran\\u00e7ois LOVEY\",\"J\\u00e9r\\u00f4me FORMAZ\",\"Kamy MAY\",\"Mathieu SARRASIN\",\"Natacha MARET\",\"Pierre DARBELLAY\"],\"legendgroup\":\"Entremont\",\"marker\":{\"color\":\"#00cc96\",\"symbol\":\"circle\"},\"mode\":\"markers\",\"name\":\"Entremont\",\"orientation\":\"v\",\"showlegend\":true,\"x\":[-0.41025641025641024,0.3611111111111111,0.07692307692307693,0.0,0.16216216216216217,0.3333333333333333],\"xaxis\":\"x\",\"y\":[-0.7692307692307693,0.5277777777777778,0.15384615384615385,-0.1,0.05405405405405406,0.3055555555555556],\"yaxis\":\"y\",\"type\":\"scatter\"},{\"hovertemplate\":\"<b>%{hovertext}</b><br><br>District=St-Maurice<br>orientation=%{x}<br>progvscons=%{y}<extra></extra>\",\"hovertext\":[\"Jenny VOEFFRAY\",\"Martine ROUILLER\",\"Nicolas METTAN\",\"Raymonde SCHOCH\",\"Sabine FOURNIER\"],\"legendgroup\":\"St-Maurice\",\"marker\":{\"color\":\"#ab63fa\",\"symbol\":\"circle\"},\"mode\":\"markers\",\"name\":\"St-Maurice\",\"orientation\":\"v\",\"showlegend\":true,\"x\":[-0.10344827586206896,-0.425,-0.3333333333333333,-0.358974358974359,-0.4146341463414634],\"xaxis\":\"x\",\"y\":[-0.3448275862068966,-0.825,-0.6111111111111112,-0.5641025641025641,-0.8292682926829268],\"yaxis\":\"y\",\"type\":\"scatter\"}],                        {\"template\":{\"data\":{\"histogram2dcontour\":[{\"type\":\"histogram2dcontour\",\"colorbar\":{\"outlinewidth\":0,\"ticks\":\"\"},\"colorscale\":[[0.0,\"#0d0887\"],[0.1111111111111111,\"#46039f\"],[0.2222222222222222,\"#7201a8\"],[0.3333333333333333,\"#9c179e\"],[0.4444444444444444,\"#bd3786\"],[0.5555555555555556,\"#d8576b\"],[0.6666666666666666,\"#ed7953\"],[0.7777777777777778,\"#fb9f3a\"],[0.8888888888888888,\"#fdca26\"],[1.0,\"#f0f921\"]]}],\"choropleth\":[{\"type\":\"choropleth\",\"colorbar\":{\"outlinewidth\":0,\"ticks\":\"\"}}],\"histogram2d\":[{\"type\":\"histogram2d\",\"colorbar\":{\"outlinewidth\":0,\"ticks\":\"\"},\"colorscale\":[[0.0,\"#0d0887\"],[0.1111111111111111,\"#46039f\"],[0.2222222222222222,\"#7201a8\"],[0.3333333333333333,\"#9c179e\"],[0.4444444444444444,\"#bd3786\"],[0.5555555555555556,\"#d8576b\"],[0.6666666666666666,\"#ed7953\"],[0.7777777777777778,\"#fb9f3a\"],[0.8888888888888888,\"#fdca26\"],[1.0,\"#f0f921\"]]}],\"heatmap\":[{\"type\":\"heatmap\",\"colorbar\":{\"outlinewidth\":0,\"ticks\":\"\"},\"colorscale\":[[0.0,\"#0d0887\"],[0.1111111111111111,\"#46039f\"],[0.2222222222222222,\"#7201a8\"],[0.3333333333333333,\"#9c179e\"],[0.4444444444444444,\"#bd3786\"],[0.5555555555555556,\"#d8576b\"],[0.6666666666666666,\"#ed7953\"],[0.7777777777777778,\"#fb9f3a\"],[0.8888888888888888,\"#fdca26\"],[1.0,\"#f0f921\"]]}],\"heatmapgl\":[{\"type\":\"heatmapgl\",\"colorbar\":{\"outlinewidth\":0,\"ticks\":\"\"},\"colorscale\":[[0.0,\"#0d0887\"],[0.1111111111111111,\"#46039f\"],[0.2222222222222222,\"#7201a8\"],[0.3333333333333333,\"#9c179e\"],[0.4444444444444444,\"#bd3786\"],[0.5555555555555556,\"#d8576b\"],[0.6666666666666666,\"#ed7953\"],[0.7777777777777778,\"#fb9f3a\"],[0.8888888888888888,\"#fdca26\"],[1.0,\"#f0f921\"]]}],\"contourcarpet\":[{\"type\":\"contourcarpet\",\"colorbar\":{\"outlinewidth\":0,\"ticks\":\"\"}}],\"contour\":[{\"type\":\"contour\",\"colorbar\":{\"outlinewidth\":0,\"ticks\":\"\"},\"colorscale\":[[0.0,\"#0d0887\"],[0.1111111111111111,\"#46039f\"],[0.2222222222222222,\"#7201a8\"],[0.3333333333333333,\"#9c179e\"],[0.4444444444444444,\"#bd3786\"],[0.5555555555555556,\"#d8576b\"],[0.6666666666666666,\"#ed7953\"],[0.7777777777777778,\"#fb9f3a\"],[0.8888888888888888,\"#fdca26\"],[1.0,\"#f0f921\"]]}],\"surface\":[{\"type\":\"surface\",\"colorbar\":{\"outlinewidth\":0,\"ticks\":\"\"},\"colorscale\":[[0.0,\"#0d0887\"],[0.1111111111111111,\"#46039f\"],[0.2222222222222222,\"#7201a8\"],[0.3333333333333333,\"#9c179e\"],[0.4444444444444444,\"#bd3786\"],[0.5555555555555556,\"#d8576b\"],[0.6666666666666666,\"#ed7953\"],[0.7777777777777778,\"#fb9f3a\"],[0.8888888888888888,\"#fdca26\"],[1.0,\"#f0f921\"]]}],\"mesh3d\":[{\"type\":\"mesh3d\",\"colorbar\":{\"outlinewidth\":0,\"ticks\":\"\"}}],\"scatter\":[{\"fillpattern\":{\"fillmode\":\"overlay\",\"size\":10,\"solidity\":0.2},\"type\":\"scatter\"}],\"parcoords\":[{\"type\":\"parcoords\",\"line\":{\"colorbar\":{\"outlinewidth\":0,\"ticks\":\"\"}}}],\"scatterpolargl\":[{\"type\":\"scatterpolargl\",\"marker\":{\"colorbar\":{\"outlinewidth\":0,\"ticks\":\"\"}}}],\"bar\":[{\"error_x\":{\"color\":\"#2a3f5f\"},\"error_y\":{\"color\":\"#2a3f5f\"},\"marker\":{\"line\":{\"color\":\"#E5ECF6\",\"width\":0.5},\"pattern\":{\"fillmode\":\"overlay\",\"size\":10,\"solidity\":0.2}},\"type\":\"bar\"}],\"scattergeo\":[{\"type\":\"scattergeo\",\"marker\":{\"colorbar\":{\"outlinewidth\":0,\"ticks\":\"\"}}}],\"scatterpolar\":[{\"type\":\"scatterpolar\",\"marker\":{\"colorbar\":{\"outlinewidth\":0,\"ticks\":\"\"}}}],\"histogram\":[{\"marker\":{\"pattern\":{\"fillmode\":\"overlay\",\"size\":10,\"solidity\":0.2}},\"type\":\"histogram\"}],\"scattergl\":[{\"type\":\"scattergl\",\"marker\":{\"colorbar\":{\"outlinewidth\":0,\"ticks\":\"\"}}}],\"scatter3d\":[{\"type\":\"scatter3d\",\"line\":{\"colorbar\":{\"outlinewidth\":0,\"ticks\":\"\"}},\"marker\":{\"colorbar\":{\"outlinewidth\":0,\"ticks\":\"\"}}}],\"scattermapbox\":[{\"type\":\"scattermapbox\",\"marker\":{\"colorbar\":{\"outlinewidth\":0,\"ticks\":\"\"}}}],\"scatterternary\":[{\"type\":\"scatterternary\",\"marker\":{\"colorbar\":{\"outlinewidth\":0,\"ticks\":\"\"}}}],\"scattercarpet\":[{\"type\":\"scattercarpet\",\"marker\":{\"colorbar\":{\"outlinewidth\":0,\"ticks\":\"\"}}}],\"carpet\":[{\"aaxis\":{\"endlinecolor\":\"#2a3f5f\",\"gridcolor\":\"white\",\"linecolor\":\"white\",\"minorgridcolor\":\"white\",\"startlinecolor\":\"#2a3f5f\"},\"baxis\":{\"endlinecolor\":\"#2a3f5f\",\"gridcolor\":\"white\",\"linecolor\":\"white\",\"minorgridcolor\":\"white\",\"startlinecolor\":\"#2a3f5f\"},\"type\":\"carpet\"}],\"table\":[{\"cells\":{\"fill\":{\"color\":\"#EBF0F8\"},\"line\":{\"color\":\"white\"}},\"header\":{\"fill\":{\"color\":\"#C8D4E3\"},\"line\":{\"color\":\"white\"}},\"type\":\"table\"}],\"barpolar\":[{\"marker\":{\"line\":{\"color\":\"#E5ECF6\",\"width\":0.5},\"pattern\":{\"fillmode\":\"overlay\",\"size\":10,\"solidity\":0.2}},\"type\":\"barpolar\"}],\"pie\":[{\"automargin\":true,\"type\":\"pie\"}]},\"layout\":{\"autotypenumbers\":\"strict\",\"colorway\":[\"#636efa\",\"#EF553B\",\"#00cc96\",\"#ab63fa\",\"#FFA15A\",\"#19d3f3\",\"#FF6692\",\"#B6E880\",\"#FF97FF\",\"#FECB52\"],\"font\":{\"color\":\"#2a3f5f\"},\"hovermode\":\"closest\",\"hoverlabel\":{\"align\":\"left\"},\"paper_bgcolor\":\"white\",\"plot_bgcolor\":\"#E5ECF6\",\"polar\":{\"bgcolor\":\"#E5ECF6\",\"angularaxis\":{\"gridcolor\":\"white\",\"linecolor\":\"white\",\"ticks\":\"\"},\"radialaxis\":{\"gridcolor\":\"white\",\"linecolor\":\"white\",\"ticks\":\"\"}},\"ternary\":{\"bgcolor\":\"#E5ECF6\",\"aaxis\":{\"gridcolor\":\"white\",\"linecolor\":\"white\",\"ticks\":\"\"},\"baxis\":{\"gridcolor\":\"white\",\"linecolor\":\"white\",\"ticks\":\"\"},\"caxis\":{\"gridcolor\":\"white\",\"linecolor\":\"white\",\"ticks\":\"\"}},\"coloraxis\":{\"colorbar\":{\"outlinewidth\":0,\"ticks\":\"\"}},\"colorscale\":{\"sequential\":[[0.0,\"#0d0887\"],[0.1111111111111111,\"#46039f\"],[0.2222222222222222,\"#7201a8\"],[0.3333333333333333,\"#9c179e\"],[0.4444444444444444,\"#bd3786\"],[0.5555555555555556,\"#d8576b\"],[0.6666666666666666,\"#ed7953\"],[0.7777777777777778,\"#fb9f3a\"],[0.8888888888888888,\"#fdca26\"],[1.0,\"#f0f921\"]],\"sequentialminus\":[[0.0,\"#0d0887\"],[0.1111111111111111,\"#46039f\"],[0.2222222222222222,\"#7201a8\"],[0.3333333333333333,\"#9c179e\"],[0.4444444444444444,\"#bd3786\"],[0.5555555555555556,\"#d8576b\"],[0.6666666666666666,\"#ed7953\"],[0.7777777777777778,\"#fb9f3a\"],[0.8888888888888888,\"#fdca26\"],[1.0,\"#f0f921\"]],\"diverging\":[[0,\"#8e0152\"],[0.1,\"#c51b7d\"],[0.2,\"#de77ae\"],[0.3,\"#f1b6da\"],[0.4,\"#fde0ef\"],[0.5,\"#f7f7f7\"],[0.6,\"#e6f5d0\"],[0.7,\"#b8e186\"],[0.8,\"#7fbc41\"],[0.9,\"#4d9221\"],[1,\"#276419\"]]},\"xaxis\":{\"gridcolor\":\"white\",\"linecolor\":\"white\",\"ticks\":\"\",\"title\":{\"standoff\":15},\"zerolinecolor\":\"white\",\"automargin\":true,\"zerolinewidth\":2},\"yaxis\":{\"gridcolor\":\"white\",\"linecolor\":\"white\",\"ticks\":\"\",\"title\":{\"standoff\":15},\"zerolinecolor\":\"white\",\"automargin\":true,\"zerolinewidth\":2},\"scene\":{\"xaxis\":{\"backgroundcolor\":\"#E5ECF6\",\"gridcolor\":\"white\",\"linecolor\":\"white\",\"showbackground\":true,\"ticks\":\"\",\"zerolinecolor\":\"white\",\"gridwidth\":2},\"yaxis\":{\"backgroundcolor\":\"#E5ECF6\",\"gridcolor\":\"white\",\"linecolor\":\"white\",\"showbackground\":true,\"ticks\":\"\",\"zerolinecolor\":\"white\",\"gridwidth\":2},\"zaxis\":{\"backgroundcolor\":\"#E5ECF6\",\"gridcolor\":\"white\",\"linecolor\":\"white\",\"showbackground\":true,\"ticks\":\"\",\"zerolinecolor\":\"white\",\"gridwidth\":2}},\"shapedefaults\":{\"line\":{\"color\":\"#2a3f5f\"}},\"annotationdefaults\":{\"arrowcolor\":\"#2a3f5f\",\"arrowhead\":0,\"arrowwidth\":1},\"geo\":{\"bgcolor\":\"white\",\"landcolor\":\"#E5ECF6\",\"subunitcolor\":\"white\",\"showland\":true,\"showlakes\":true,\"lakecolor\":\"white\"},\"title\":{\"x\":0.05},\"mapbox\":{\"style\":\"light\"}}},\"xaxis\":{\"anchor\":\"y\",\"domain\":[0.0,1.0],\"title\":{\"text\":\"orientation\"},\"range\":[-1,1]},\"yaxis\":{\"anchor\":\"x\",\"domain\":[0.0,1.0],\"title\":{\"text\":\"progvscons\"},\"range\":[-1,1]},\"legend\":{\"title\":{\"text\":\"District\"},\"tracegroupgap\":0},\"margin\":{\"t\":60}},                        {\"responsive\": true}                    ).then(function(){\n",
       "                            \n",
       "var gd = document.getElementById('0dd0abbc-83e2-4f29-b90d-6aed14a0b25d');\n",
       "var x = new MutationObserver(function (mutations, observer) {{\n",
       "        var display = window.getComputedStyle(gd).display;\n",
       "        if (!display || display === 'none') {{\n",
       "            console.log([gd, 'removed!']);\n",
       "            Plotly.purge(gd);\n",
       "            observer.disconnect();\n",
       "        }}\n",
       "}});\n",
       "\n",
       "// Listen for the removal of the full notebook cells\n",
       "var notebookContainer = gd.closest('#notebook-container');\n",
       "if (notebookContainer) {{\n",
       "    x.observe(notebookContainer, {childList: true});\n",
       "}}\n",
       "\n",
       "// Listen for the clearing of the current output cell\n",
       "var outputEl = gd.closest('.output');\n",
       "if (outputEl) {{\n",
       "    x.observe(outputEl, {childList: true});\n",
       "}}\n",
       "\n",
       "                        })                };                });            </script>        </div>"
      ]
     },
     "metadata": {},
     "output_type": "display_data"
    }
   ],
   "source": [
    "fig = px.scatter(counts_df, x=\"orientation\", y=\"progvscons\",  color='District', hover_name='name')\n",
    "fig.update_xaxes(range=[-1, 1])\n",
    "fig.update_yaxes(range=[-1, 1])\n",
    "fig.show()"
   ]
  },
  {
   "cell_type": "code",
   "execution_count": 18,
   "id": "d4f7cac7",
   "metadata": {},
   "outputs": [
    {
     "data": {
      "application/vnd.plotly.v1+json": {
       "config": {
        "plotlyServerURL": "https://plot.ly"
       },
       "data": [
        {
         "hovertemplate": "<b>%{hovertext}</b><br><br>Genre=F<br>orientation=%{x}<br>progvscons=%{y}<extra></extra>",
         "hovertext": [
          "Adeline CRETTENAND",
          "Alina DARBELLAY",
          "Caroline REYNARD",
          "Chantal CARLEN",
          "Christelle HERITIER",
          "Christine ROUX",
          "Cilette CRETTON",
          "Claudia ALPIGER",
          "Claudia GAILLARD MOREND",
          "Corinne DUC BONVIN",
          "Célina RAMSAUER",
          "Danica ZURBRIGGEN LEHNER",
          "Emilie PRAZ",
          "Fabienne MURMANN",
          "Florence CARRON DARBELLAY",
          "Florine CARRON",
          "Gabrielle BARRAS",
          "Gabrielle CORNUT-ZUFFEREY",
          "Géraldine GIANADDA",
          "Géraldine GRANGES GUENOT",
          "Géraldine GRANGES-GUENOT",
          "Géraldine POUGET-ZUFFEREY",
          "Ida HÄFLIGER",
          "Janine REY-SIGGEN",
          "Jenny VOEFFRAY",
          "Joséphine WAEBER",
          "Kamy MAY",
          "Laurence VUAGNIAUX",
          "Lucile CURDY",
          "Léa ROUILLER DESSIMOZ",
          "Madeleine KUONEN-EGGO",
          "Maria ARNOLD-ESCHER",
          "Marie ZUCHUAT",
          "Martine ROUILLER",
          "Monika HOLZEGGER",
          "Mélanie FOLLONIER",
          "Natacha MARET",
          "Natascha FARQUET",
          "Pascale FUMEAUX",
          "Patricia CASAYS",
          "Rahel ZIMMERMANN",
          "Raymonde SCHOCH",
          "Ruth STALDER",
          "Sabine FOURNIER",
          "Sophie BORNET",
          "Sophie DUCREY"
         ],
         "legendgroup": "F",
         "marker": {
          "color": "#636efa",
          "symbol": "circle"
         },
         "mode": "markers",
         "name": "F",
         "orientation": "v",
         "showlegend": true,
         "type": "scatter",
         "x": [
          0.3333333333333333,
          -0.8461538461538461,
          -0.7619047619047619,
          0.6,
          -0.6923076923076923,
          0.4,
          -0.7619047619047619,
          -0.7,
          -0.7142857142857143,
          -0.7368421052631579,
          -0.7647058823529411,
          -0.3333333333333333,
          -0.8095238095238095,
          0.42857142857142855,
          0,
          -0.7368421052631579,
          0.5,
          -0.7777777777777778,
          -0.8125,
          -1,
          0.5,
          0.19047619047619047,
          -0.05263157894736842,
          -0.8095238095238095,
          -0.17647058823529413,
          0.3,
          0.14285714285714285,
          -0.7619047619047619,
          -0.7222222222222222,
          -0.875,
          -0.7222222222222222,
          0.47368421052631576,
          0.19047619047619047,
          -0.8095238095238095,
          -0.38095238095238093,
          0.125,
          0.2857142857142857,
          -0.5263157894736842,
          -0.7647058823529411,
          0.11764705882352941,
          -0.7,
          -0.6666666666666666,
          -0.23809523809523808,
          -0.8095238095238095,
          0.10526315789473684,
          -0.7142857142857143
         ],
         "xaxis": "x",
         "y": [
          0.2,
          -0.782608695652174,
          -0.7894736842105263,
          0.5555555555555556,
          -0.6956521739130435,
          0.3448275862068966,
          -0.7631578947368421,
          -0.6216216216216216,
          -0.8421052631578947,
          -0.8571428571428571,
          -0.7647058823529411,
          -0.20833333333333334,
          -0.8421052631578947,
          0.2631578947368421,
          -0.2702702702702703,
          -0.7,
          0.4838709677419355,
          -0.8787878787878788,
          -0.7407407407407407,
          -1,
          0.5416666666666666,
          0.02631578947368421,
          -0.12121212121212122,
          -0.8421052631578947,
          -0.3333333333333333,
          0.21212121212121213,
          0.15789473684210525,
          -0.868421052631579,
          -0.7878787878787878,
          -0.7878787878787878,
          -0.6666666666666666,
          0.41935483870967744,
          0.05714285714285714,
          -0.868421052631579,
          -0.13157894736842105,
          -0.25,
          0.05263157894736842,
          -0.6388888888888888,
          -0.8571428571428571,
          -0.09090909090909091,
          -0.6216216216216216,
          -0.5789473684210527,
          -0.21052631578947367,
          -0.8947368421052632,
          0.02857142857142857,
          -0.8421052631578947
         ],
         "yaxis": "y"
        },
        {
         "hovertemplate": "<b>%{hovertext}</b><br><br>Genre=H<br>orientation=%{x}<br>progvscons=%{y}<extra></extra>",
         "hovertext": [
          "Alain DUBOSSON",
          "Alain LÉGER",
          "Alain SCHÖNBETT",
          "Alex BONVIN",
          "Arnaud DUBOIS",
          "Bernard OBERHOLZER",
          "Bernard TROILLET",
          "Blaise CRETTOL",
          "Christian ESCHER",
          "Claude NANÇOZ",
          "Claudy BESSE",
          "Côme VUILLE",
          "Damien CLERC",
          "Damien FUMEAUX",
          "Damien LUISIER",
          "Damien RABOUD",
          "Dominik KNUBEL",
          "Edmond PERRUCHOUD",
          "Fabian ZURBRIGGEN",
          "Fabien THETAZ",
          "Felix RUPPEN",
          "Flavio SCHMID",
          "Florent FAVRE",
          "Florian EVEQUOZ",
          "François GENOUD",
          "François QUENNOZ",
          "Frédéric PITTELOUD",
          "Gaël BOURGEOIS",
          "Georges VIONNET",
          "Gerhard SCHMID",
          "German EYER",
          "Grégoire VANNAY",
          "Gérard SALAMIN",
          "Hermann BRUNNER",
          "Jacques BLANC",
          "Jean BONNARD",
          "Jean ZERMATTEN",
          "Jean-Baptiste UDRESSY",
          "Jean-Daniel NANCHEN",
          "Jean-Dominique CIPOLLA",
          "Jean-François LOVEY",
          "Jean-Marc DUPONT",
          "Jean-Marc SAVIOZ",
          "Jean-Pierre REY",
          "Johan ROCHEL",
          "Jérôme FORMAZ",
          "Kurt REGOTZ",
          "Leander WILLINER",
          "Lukas JÄGER",
          "Lukas KALBERMATTEN",
          "Léonard BENDER",
          "Marc-Antoine GENOLET",
          "Marius DUMOULIN",
          "Martin SCHÜRCH",
          "Mathieu CALOZ",
          "Mathieu SARRASIN",
          "Matteo ABÄCHERLI",
          "Michael BURGENER",
          "Michael KREUZER",
          "Narcisse CRETTENAND",
          "Nicolas BONVIN",
          "Nicolas CHABLAIS",
          "Nicolas METTAN",
          "Olivier DERIVAZ",
          "Paul BURGENER",
          "Peter BURRI",
          "Peter BÄHLER",
          "Philippe BENDER",
          "Pierre DARBELLAY",
          "Pierre SCHERTENLEIB",
          "Pierre-Alain RAEMY",
          "Rafael WELSCHEN",
          "Rainer MATHIER",
          "Ralph DESSIMOZ",
          "Ralph KUMMER",
          "Remo SCHNYDER",
          "Romain UDRY",
          "Romano AMACKER",
          "Sandro FONTANA",
          "Stéphane CLAVIEN",
          "Thomas MATTER",
          "Vincent BOAND",
          "Vincent GÜNTHER",
          "Vincent LUYET",
          "Yann RODUIT"
         ],
         "legendgroup": "H",
         "marker": {
          "color": "#EF553B",
          "symbol": "circle"
         },
         "mode": "markers",
         "name": "H",
         "orientation": "v",
         "showlegend": true,
         "type": "scatter",
         "x": [
          0.7692307692307693,
          0.15,
          -0.3333333333333333,
          0.7,
          -0.5714285714285714,
          -1,
          -0.14285714285714285,
          -0.8095238095238095,
          -0.05263157894736842,
          0.125,
          0.47058823529411764,
          -0.3333333333333333,
          0.7777777777777778,
          0.6666666666666666,
          0.2222222222222222,
          0.5294117647058824,
          -0.15,
          0.7692307692307693,
          0.5238095238095238,
          -0.7777777777777778,
          0.75,
          0.3333333333333333,
          0.375,
          -0.9047619047619048,
          -0.23809523809523808,
          0.42105263157894735,
          0.23809523809523808,
          -1,
          -0.8095238095238095,
          -0.7142857142857143,
          -0.7142857142857143,
          -0.09523809523809523,
          0.3333333333333333,
          -0.09523809523809523,
          -0.6111111111111112,
          -0.8095238095238095,
          -0.7894736842105263,
          0.7647058823529411,
          -0.8095238095238095,
          0.6666666666666666,
          -0.8,
          -0.8095238095238095,
          0.2857142857142857,
          -0.3333333333333333,
          -0.7142857142857143,
          0.6842105263157895,
          0.047619047619047616,
          0.15,
          0.5384615384615384,
          0.2222222222222222,
          -0.7142857142857143,
          0.7142857142857143,
          0.23809523809523808,
          0.7142857142857143,
          -0.09523809523809523,
          0,
          0.42857142857142855,
          0.42857142857142855,
          0.5238095238095238,
          0.3333333333333333,
          0.3333333333333333,
          0,
          -0.4,
          -0.7,
          -0.11764705882352941,
          -0.14285714285714285,
          0.5789473684210527,
          0.09523809523809523,
          0.75,
          -0.8095238095238095,
          -0.5238095238095238,
          0.5384615384615384,
          0.42857142857142855,
          0.21052631578947367,
          0.23076923076923078,
          0.375,
          0.26666666666666666,
          0.5238095238095238,
          0.09523809523809523,
          -0.42857142857142855,
          -0.047619047619047616,
          0.5789473684210527,
          -0.8095238095238095,
          -0.8095238095238095,
          0.19047619047619047
         ],
         "xaxis": "x",
         "y": [
          0.7619047619047619,
          0.05405405405405406,
          -0.47058823529411764,
          0.6470588235294118,
          -0.7631578947368421,
          -0.6363636363636364,
          -0.2631578947368421,
          -0.8333333333333334,
          -0.17142857142857143,
          -0.13333333333333333,
          0.45161290322580644,
          -0.3684210526315789,
          0.625,
          0.631578947368421,
          0.21212121212121213,
          0.5588235294117647,
          -0.05405405405405406,
          0.7586206896551724,
          0.7631578947368421,
          -0.8484848484848485,
          0.4375,
          0.23809523809523808,
          0.15151515151515152,
          -0.7894736842105263,
          -0.40540540540540543,
          0.4444444444444444,
          0.15789473684210525,
          -0.7391304347826086,
          -0.8421052631578947,
          -0.631578947368421,
          -0.5945945945945946,
          -0.10526315789473684,
          0.15789473684210525,
          -0.02631578947368421,
          -0.59375,
          -0.7631578947368421,
          -0.7777777777777778,
          0.6470588235294118,
          -0.8421052631578947,
          0.5526315789473685,
          -0.8333333333333334,
          -0.8421052631578947,
          0.18421052631578946,
          -0.42105263157894735,
          -0.7894736842105263,
          0.5428571428571428,
          0.1111111111111111,
          0.02702702702702703,
          0.76,
          0.0625,
          -0.7368421052631579,
          0.7105263157894737,
          0.10526315789473684,
          0.47368421052631576,
          -0.3684210526315789,
          -0.0967741935483871,
          0.3684210526315789,
          0.2631578947368421,
          0.6842105263157895,
          0.10526315789473684,
          0.07894736842105263,
          0.3333333333333333,
          -0.4074074074074074,
          -0.7297297297297297,
          -0.1,
          0,
          0.7714285714285715,
          0.10526315789473684,
          0.3333333333333333,
          -0.8421052631578947,
          -0.6842105263157895,
          0.48148148148148145,
          0.3157894736842105,
          0,
          0.6923076923076923,
          0.5862068965517241,
          0.03571428571428571,
          0.7368421052631579,
          0.07894736842105263,
          -0.6756756756756757,
          -0.21052631578947367,
          0.45454545454545453,
          -0.8947368421052632,
          -0.8857142857142857,
          0.10810810810810811
         ],
         "yaxis": "y"
        }
       ],
       "layout": {
        "legend": {
         "title": {
          "text": "Genre"
         },
         "tracegroupgap": 0
        },
        "margin": {
         "t": 60
        },
        "template": {
         "data": {
          "bar": [
           {
            "error_x": {
             "color": "#2a3f5f"
            },
            "error_y": {
             "color": "#2a3f5f"
            },
            "marker": {
             "line": {
              "color": "#E5ECF6",
              "width": 0.5
             },
             "pattern": {
              "fillmode": "overlay",
              "size": 10,
              "solidity": 0.2
             }
            },
            "type": "bar"
           }
          ],
          "barpolar": [
           {
            "marker": {
             "line": {
              "color": "#E5ECF6",
              "width": 0.5
             },
             "pattern": {
              "fillmode": "overlay",
              "size": 10,
              "solidity": 0.2
             }
            },
            "type": "barpolar"
           }
          ],
          "carpet": [
           {
            "aaxis": {
             "endlinecolor": "#2a3f5f",
             "gridcolor": "white",
             "linecolor": "white",
             "minorgridcolor": "white",
             "startlinecolor": "#2a3f5f"
            },
            "baxis": {
             "endlinecolor": "#2a3f5f",
             "gridcolor": "white",
             "linecolor": "white",
             "minorgridcolor": "white",
             "startlinecolor": "#2a3f5f"
            },
            "type": "carpet"
           }
          ],
          "choropleth": [
           {
            "colorbar": {
             "outlinewidth": 0,
             "ticks": ""
            },
            "type": "choropleth"
           }
          ],
          "contour": [
           {
            "colorbar": {
             "outlinewidth": 0,
             "ticks": ""
            },
            "colorscale": [
             [
              0,
              "#0d0887"
             ],
             [
              0.1111111111111111,
              "#46039f"
             ],
             [
              0.2222222222222222,
              "#7201a8"
             ],
             [
              0.3333333333333333,
              "#9c179e"
             ],
             [
              0.4444444444444444,
              "#bd3786"
             ],
             [
              0.5555555555555556,
              "#d8576b"
             ],
             [
              0.6666666666666666,
              "#ed7953"
             ],
             [
              0.7777777777777778,
              "#fb9f3a"
             ],
             [
              0.8888888888888888,
              "#fdca26"
             ],
             [
              1,
              "#f0f921"
             ]
            ],
            "type": "contour"
           }
          ],
          "contourcarpet": [
           {
            "colorbar": {
             "outlinewidth": 0,
             "ticks": ""
            },
            "type": "contourcarpet"
           }
          ],
          "heatmap": [
           {
            "colorbar": {
             "outlinewidth": 0,
             "ticks": ""
            },
            "colorscale": [
             [
              0,
              "#0d0887"
             ],
             [
              0.1111111111111111,
              "#46039f"
             ],
             [
              0.2222222222222222,
              "#7201a8"
             ],
             [
              0.3333333333333333,
              "#9c179e"
             ],
             [
              0.4444444444444444,
              "#bd3786"
             ],
             [
              0.5555555555555556,
              "#d8576b"
             ],
             [
              0.6666666666666666,
              "#ed7953"
             ],
             [
              0.7777777777777778,
              "#fb9f3a"
             ],
             [
              0.8888888888888888,
              "#fdca26"
             ],
             [
              1,
              "#f0f921"
             ]
            ],
            "type": "heatmap"
           }
          ],
          "heatmapgl": [
           {
            "colorbar": {
             "outlinewidth": 0,
             "ticks": ""
            },
            "colorscale": [
             [
              0,
              "#0d0887"
             ],
             [
              0.1111111111111111,
              "#46039f"
             ],
             [
              0.2222222222222222,
              "#7201a8"
             ],
             [
              0.3333333333333333,
              "#9c179e"
             ],
             [
              0.4444444444444444,
              "#bd3786"
             ],
             [
              0.5555555555555556,
              "#d8576b"
             ],
             [
              0.6666666666666666,
              "#ed7953"
             ],
             [
              0.7777777777777778,
              "#fb9f3a"
             ],
             [
              0.8888888888888888,
              "#fdca26"
             ],
             [
              1,
              "#f0f921"
             ]
            ],
            "type": "heatmapgl"
           }
          ],
          "histogram": [
           {
            "marker": {
             "pattern": {
              "fillmode": "overlay",
              "size": 10,
              "solidity": 0.2
             }
            },
            "type": "histogram"
           }
          ],
          "histogram2d": [
           {
            "colorbar": {
             "outlinewidth": 0,
             "ticks": ""
            },
            "colorscale": [
             [
              0,
              "#0d0887"
             ],
             [
              0.1111111111111111,
              "#46039f"
             ],
             [
              0.2222222222222222,
              "#7201a8"
             ],
             [
              0.3333333333333333,
              "#9c179e"
             ],
             [
              0.4444444444444444,
              "#bd3786"
             ],
             [
              0.5555555555555556,
              "#d8576b"
             ],
             [
              0.6666666666666666,
              "#ed7953"
             ],
             [
              0.7777777777777778,
              "#fb9f3a"
             ],
             [
              0.8888888888888888,
              "#fdca26"
             ],
             [
              1,
              "#f0f921"
             ]
            ],
            "type": "histogram2d"
           }
          ],
          "histogram2dcontour": [
           {
            "colorbar": {
             "outlinewidth": 0,
             "ticks": ""
            },
            "colorscale": [
             [
              0,
              "#0d0887"
             ],
             [
              0.1111111111111111,
              "#46039f"
             ],
             [
              0.2222222222222222,
              "#7201a8"
             ],
             [
              0.3333333333333333,
              "#9c179e"
             ],
             [
              0.4444444444444444,
              "#bd3786"
             ],
             [
              0.5555555555555556,
              "#d8576b"
             ],
             [
              0.6666666666666666,
              "#ed7953"
             ],
             [
              0.7777777777777778,
              "#fb9f3a"
             ],
             [
              0.8888888888888888,
              "#fdca26"
             ],
             [
              1,
              "#f0f921"
             ]
            ],
            "type": "histogram2dcontour"
           }
          ],
          "mesh3d": [
           {
            "colorbar": {
             "outlinewidth": 0,
             "ticks": ""
            },
            "type": "mesh3d"
           }
          ],
          "parcoords": [
           {
            "line": {
             "colorbar": {
              "outlinewidth": 0,
              "ticks": ""
             }
            },
            "type": "parcoords"
           }
          ],
          "pie": [
           {
            "automargin": true,
            "type": "pie"
           }
          ],
          "scatter": [
           {
            "fillpattern": {
             "fillmode": "overlay",
             "size": 10,
             "solidity": 0.2
            },
            "type": "scatter"
           }
          ],
          "scatter3d": [
           {
            "line": {
             "colorbar": {
              "outlinewidth": 0,
              "ticks": ""
             }
            },
            "marker": {
             "colorbar": {
              "outlinewidth": 0,
              "ticks": ""
             }
            },
            "type": "scatter3d"
           }
          ],
          "scattercarpet": [
           {
            "marker": {
             "colorbar": {
              "outlinewidth": 0,
              "ticks": ""
             }
            },
            "type": "scattercarpet"
           }
          ],
          "scattergeo": [
           {
            "marker": {
             "colorbar": {
              "outlinewidth": 0,
              "ticks": ""
             }
            },
            "type": "scattergeo"
           }
          ],
          "scattergl": [
           {
            "marker": {
             "colorbar": {
              "outlinewidth": 0,
              "ticks": ""
             }
            },
            "type": "scattergl"
           }
          ],
          "scattermapbox": [
           {
            "marker": {
             "colorbar": {
              "outlinewidth": 0,
              "ticks": ""
             }
            },
            "type": "scattermapbox"
           }
          ],
          "scatterpolar": [
           {
            "marker": {
             "colorbar": {
              "outlinewidth": 0,
              "ticks": ""
             }
            },
            "type": "scatterpolar"
           }
          ],
          "scatterpolargl": [
           {
            "marker": {
             "colorbar": {
              "outlinewidth": 0,
              "ticks": ""
             }
            },
            "type": "scatterpolargl"
           }
          ],
          "scatterternary": [
           {
            "marker": {
             "colorbar": {
              "outlinewidth": 0,
              "ticks": ""
             }
            },
            "type": "scatterternary"
           }
          ],
          "surface": [
           {
            "colorbar": {
             "outlinewidth": 0,
             "ticks": ""
            },
            "colorscale": [
             [
              0,
              "#0d0887"
             ],
             [
              0.1111111111111111,
              "#46039f"
             ],
             [
              0.2222222222222222,
              "#7201a8"
             ],
             [
              0.3333333333333333,
              "#9c179e"
             ],
             [
              0.4444444444444444,
              "#bd3786"
             ],
             [
              0.5555555555555556,
              "#d8576b"
             ],
             [
              0.6666666666666666,
              "#ed7953"
             ],
             [
              0.7777777777777778,
              "#fb9f3a"
             ],
             [
              0.8888888888888888,
              "#fdca26"
             ],
             [
              1,
              "#f0f921"
             ]
            ],
            "type": "surface"
           }
          ],
          "table": [
           {
            "cells": {
             "fill": {
              "color": "#EBF0F8"
             },
             "line": {
              "color": "white"
             }
            },
            "header": {
             "fill": {
              "color": "#C8D4E3"
             },
             "line": {
              "color": "white"
             }
            },
            "type": "table"
           }
          ]
         },
         "layout": {
          "annotationdefaults": {
           "arrowcolor": "#2a3f5f",
           "arrowhead": 0,
           "arrowwidth": 1
          },
          "autotypenumbers": "strict",
          "coloraxis": {
           "colorbar": {
            "outlinewidth": 0,
            "ticks": ""
           }
          },
          "colorscale": {
           "diverging": [
            [
             0,
             "#8e0152"
            ],
            [
             0.1,
             "#c51b7d"
            ],
            [
             0.2,
             "#de77ae"
            ],
            [
             0.3,
             "#f1b6da"
            ],
            [
             0.4,
             "#fde0ef"
            ],
            [
             0.5,
             "#f7f7f7"
            ],
            [
             0.6,
             "#e6f5d0"
            ],
            [
             0.7,
             "#b8e186"
            ],
            [
             0.8,
             "#7fbc41"
            ],
            [
             0.9,
             "#4d9221"
            ],
            [
             1,
             "#276419"
            ]
           ],
           "sequential": [
            [
             0,
             "#0d0887"
            ],
            [
             0.1111111111111111,
             "#46039f"
            ],
            [
             0.2222222222222222,
             "#7201a8"
            ],
            [
             0.3333333333333333,
             "#9c179e"
            ],
            [
             0.4444444444444444,
             "#bd3786"
            ],
            [
             0.5555555555555556,
             "#d8576b"
            ],
            [
             0.6666666666666666,
             "#ed7953"
            ],
            [
             0.7777777777777778,
             "#fb9f3a"
            ],
            [
             0.8888888888888888,
             "#fdca26"
            ],
            [
             1,
             "#f0f921"
            ]
           ],
           "sequentialminus": [
            [
             0,
             "#0d0887"
            ],
            [
             0.1111111111111111,
             "#46039f"
            ],
            [
             0.2222222222222222,
             "#7201a8"
            ],
            [
             0.3333333333333333,
             "#9c179e"
            ],
            [
             0.4444444444444444,
             "#bd3786"
            ],
            [
             0.5555555555555556,
             "#d8576b"
            ],
            [
             0.6666666666666666,
             "#ed7953"
            ],
            [
             0.7777777777777778,
             "#fb9f3a"
            ],
            [
             0.8888888888888888,
             "#fdca26"
            ],
            [
             1,
             "#f0f921"
            ]
           ]
          },
          "colorway": [
           "#636efa",
           "#EF553B",
           "#00cc96",
           "#ab63fa",
           "#FFA15A",
           "#19d3f3",
           "#FF6692",
           "#B6E880",
           "#FF97FF",
           "#FECB52"
          ],
          "font": {
           "color": "#2a3f5f"
          },
          "geo": {
           "bgcolor": "white",
           "lakecolor": "white",
           "landcolor": "#E5ECF6",
           "showlakes": true,
           "showland": true,
           "subunitcolor": "white"
          },
          "hoverlabel": {
           "align": "left"
          },
          "hovermode": "closest",
          "mapbox": {
           "style": "light"
          },
          "paper_bgcolor": "white",
          "plot_bgcolor": "#E5ECF6",
          "polar": {
           "angularaxis": {
            "gridcolor": "white",
            "linecolor": "white",
            "ticks": ""
           },
           "bgcolor": "#E5ECF6",
           "radialaxis": {
            "gridcolor": "white",
            "linecolor": "white",
            "ticks": ""
           }
          },
          "scene": {
           "xaxis": {
            "backgroundcolor": "#E5ECF6",
            "gridcolor": "white",
            "gridwidth": 2,
            "linecolor": "white",
            "showbackground": true,
            "ticks": "",
            "zerolinecolor": "white"
           },
           "yaxis": {
            "backgroundcolor": "#E5ECF6",
            "gridcolor": "white",
            "gridwidth": 2,
            "linecolor": "white",
            "showbackground": true,
            "ticks": "",
            "zerolinecolor": "white"
           },
           "zaxis": {
            "backgroundcolor": "#E5ECF6",
            "gridcolor": "white",
            "gridwidth": 2,
            "linecolor": "white",
            "showbackground": true,
            "ticks": "",
            "zerolinecolor": "white"
           }
          },
          "shapedefaults": {
           "line": {
            "color": "#2a3f5f"
           }
          },
          "ternary": {
           "aaxis": {
            "gridcolor": "white",
            "linecolor": "white",
            "ticks": ""
           },
           "baxis": {
            "gridcolor": "white",
            "linecolor": "white",
            "ticks": ""
           },
           "bgcolor": "#E5ECF6",
           "caxis": {
            "gridcolor": "white",
            "linecolor": "white",
            "ticks": ""
           }
          },
          "title": {
           "x": 0.05
          },
          "xaxis": {
           "automargin": true,
           "gridcolor": "white",
           "linecolor": "white",
           "ticks": "",
           "title": {
            "standoff": 15
           },
           "zerolinecolor": "white",
           "zerolinewidth": 2
          },
          "yaxis": {
           "automargin": true,
           "gridcolor": "white",
           "linecolor": "white",
           "ticks": "",
           "title": {
            "standoff": 15
           },
           "zerolinecolor": "white",
           "zerolinewidth": 2
          }
         }
        },
        "xaxis": {
         "anchor": "y",
         "domain": [
          0,
          1
         ],
         "range": [
          -1,
          1
         ],
         "title": {
          "text": "orientation"
         }
        },
        "yaxis": {
         "anchor": "x",
         "domain": [
          0,
          1
         ],
         "range": [
          -1,
          1
         ],
         "title": {
          "text": "progvscons"
         }
        }
       }
      },
      "text/html": [
       "<div>                            <div id=\"12e2bfe7-e942-498d-87a0-aeb9f59d23bd\" class=\"plotly-graph-div\" style=\"height:525px; width:100%;\"></div>            <script type=\"text/javascript\">                require([\"plotly\"], function(Plotly) {                    window.PLOTLYENV=window.PLOTLYENV || {};                                    if (document.getElementById(\"12e2bfe7-e942-498d-87a0-aeb9f59d23bd\")) {                    Plotly.newPlot(                        \"12e2bfe7-e942-498d-87a0-aeb9f59d23bd\",                        [{\"hovertemplate\":\"<b>%{hovertext}</b><br><br>Genre=F<br>orientation=%{x}<br>progvscons=%{y}<extra></extra>\",\"hovertext\":[\"Adeline CRETTENAND\",\"Alina DARBELLAY\",\"Caroline REYNARD\",\"Chantal CARLEN\",\"Christelle HERITIER\",\"Christine ROUX\",\"Cilette CRETTON\",\"Claudia ALPIGER\",\"Claudia GAILLARD MOREND\",\"Corinne DUC BONVIN\",\"C\\u00e9lina RAMSAUER\",\"Danica ZURBRIGGEN LEHNER\",\"Emilie PRAZ\",\"Fabienne MURMANN\",\"Florence CARRON DARBELLAY\",\"Florine CARRON\",\"Gabrielle BARRAS\",\"Gabrielle CORNUT-ZUFFEREY\",\"G\\u00e9raldine GIANADDA\",\"G\\u00e9raldine GRANGES GUENOT\",\"G\\u00e9raldine GRANGES-GUENOT\",\"G\\u00e9raldine POUGET-ZUFFEREY\",\"Ida H\\u00c4FLIGER\",\"Janine REY-SIGGEN\",\"Jenny VOEFFRAY\",\"Jos\\u00e9phine WAEBER\",\"Kamy MAY\",\"Laurence VUAGNIAUX\",\"Lucile CURDY\",\"L\\u00e9a ROUILLER DESSIMOZ\",\"Madeleine KUONEN-EGGO\",\"Maria ARNOLD-ESCHER\",\"Marie ZUCHUAT\",\"Martine ROUILLER\",\"Monika HOLZEGGER\",\"M\\u00e9lanie FOLLONIER\",\"Natacha MARET\",\"Natascha FARQUET\",\"Pascale FUMEAUX\",\"Patricia CASAYS\",\"Rahel ZIMMERMANN\",\"Raymonde SCHOCH\",\"Ruth STALDER\",\"Sabine FOURNIER\",\"Sophie BORNET\",\"Sophie DUCREY\"],\"legendgroup\":\"F\",\"marker\":{\"color\":\"#636efa\",\"symbol\":\"circle\"},\"mode\":\"markers\",\"name\":\"F\",\"orientation\":\"v\",\"showlegend\":true,\"x\":[0.3333333333333333,-0.8461538461538461,-0.7619047619047619,0.6,-0.6923076923076923,0.4,-0.7619047619047619,-0.7,-0.7142857142857143,-0.7368421052631579,-0.7647058823529411,-0.3333333333333333,-0.8095238095238095,0.42857142857142855,0.0,-0.7368421052631579,0.5,-0.7777777777777778,-0.8125,-1.0,0.5,0.19047619047619047,-0.05263157894736842,-0.8095238095238095,-0.17647058823529413,0.3,0.14285714285714285,-0.7619047619047619,-0.7222222222222222,-0.875,-0.7222222222222222,0.47368421052631576,0.19047619047619047,-0.8095238095238095,-0.38095238095238093,0.125,0.2857142857142857,-0.5263157894736842,-0.7647058823529411,0.11764705882352941,-0.7,-0.6666666666666666,-0.23809523809523808,-0.8095238095238095,0.10526315789473684,-0.7142857142857143],\"xaxis\":\"x\",\"y\":[0.2,-0.782608695652174,-0.7894736842105263,0.5555555555555556,-0.6956521739130435,0.3448275862068966,-0.7631578947368421,-0.6216216216216216,-0.8421052631578947,-0.8571428571428571,-0.7647058823529411,-0.20833333333333334,-0.8421052631578947,0.2631578947368421,-0.2702702702702703,-0.7,0.4838709677419355,-0.8787878787878788,-0.7407407407407407,-1.0,0.5416666666666666,0.02631578947368421,-0.12121212121212122,-0.8421052631578947,-0.3333333333333333,0.21212121212121213,0.15789473684210525,-0.868421052631579,-0.7878787878787878,-0.7878787878787878,-0.6666666666666666,0.41935483870967744,0.05714285714285714,-0.868421052631579,-0.13157894736842105,-0.25,0.05263157894736842,-0.6388888888888888,-0.8571428571428571,-0.09090909090909091,-0.6216216216216216,-0.5789473684210527,-0.21052631578947367,-0.8947368421052632,0.02857142857142857,-0.8421052631578947],\"yaxis\":\"y\",\"type\":\"scatter\"},{\"hovertemplate\":\"<b>%{hovertext}</b><br><br>Genre=H<br>orientation=%{x}<br>progvscons=%{y}<extra></extra>\",\"hovertext\":[\"Alain DUBOSSON\",\"Alain L\\u00c9GER\",\"Alain SCH\\u00d6NBETT\",\"Alex BONVIN\",\"Arnaud DUBOIS\",\"Bernard OBERHOLZER\",\"Bernard TROILLET\",\"Blaise CRETTOL\",\"Christian ESCHER\",\"Claude NAN\\u00c7OZ\",\"Claudy BESSE\",\"C\\u00f4me VUILLE\",\"Damien CLERC\",\"Damien FUMEAUX\",\"Damien LUISIER\",\"Damien RABOUD\",\"Dominik KNUBEL\",\"Edmond PERRUCHOUD\",\"Fabian ZURBRIGGEN\",\"Fabien THETAZ\",\"Felix RUPPEN\",\"Flavio SCHMID\",\"Florent FAVRE\",\"Florian EVEQUOZ\",\"Fran\\u00e7ois GENOUD\",\"Fran\\u00e7ois QUENNOZ\",\"Fr\\u00e9d\\u00e9ric PITTELOUD\",\"Ga\\u00ebl BOURGEOIS\",\"Georges VIONNET\",\"Gerhard SCHMID\",\"German EYER\",\"Gr\\u00e9goire VANNAY\",\"G\\u00e9rard SALAMIN\",\"Hermann BRUNNER\",\"Jacques BLANC\",\"Jean BONNARD\",\"Jean ZERMATTEN\",\"Jean-Baptiste UDRESSY\",\"Jean-Daniel NANCHEN\",\"Jean-Dominique CIPOLLA\",\"Jean-Fran\\u00e7ois LOVEY\",\"Jean-Marc DUPONT\",\"Jean-Marc SAVIOZ\",\"Jean-Pierre REY\",\"Johan ROCHEL\",\"J\\u00e9r\\u00f4me FORMAZ\",\"Kurt REGOTZ\",\"Leander WILLINER\",\"Lukas J\\u00c4GER\",\"Lukas KALBERMATTEN\",\"L\\u00e9onard BENDER\",\"Marc-Antoine GENOLET\",\"Marius DUMOULIN\",\"Martin SCH\\u00dcRCH\",\"Mathieu CALOZ\",\"Mathieu SARRASIN\",\"Matteo AB\\u00c4CHERLI\",\"Michael BURGENER\",\"Michael KREUZER\",\"Narcisse CRETTENAND\",\"Nicolas BONVIN\",\"Nicolas CHABLAIS\",\"Nicolas METTAN\",\"Olivier DERIVAZ\",\"Paul BURGENER\",\"Peter BURRI\",\"Peter B\\u00c4HLER\",\"Philippe BENDER\",\"Pierre DARBELLAY\",\"Pierre SCHERTENLEIB\",\"Pierre-Alain RAEMY\",\"Rafael WELSCHEN\",\"Rainer MATHIER\",\"Ralph DESSIMOZ\",\"Ralph KUMMER\",\"Remo SCHNYDER\",\"Romain UDRY\",\"Romano AMACKER\",\"Sandro FONTANA\",\"St\\u00e9phane CLAVIEN\",\"Thomas MATTER\",\"Vincent BOAND\",\"Vincent G\\u00dcNTHER\",\"Vincent LUYET\",\"Yann RODUIT\"],\"legendgroup\":\"H\",\"marker\":{\"color\":\"#EF553B\",\"symbol\":\"circle\"},\"mode\":\"markers\",\"name\":\"H\",\"orientation\":\"v\",\"showlegend\":true,\"x\":[0.7692307692307693,0.15,-0.3333333333333333,0.7,-0.5714285714285714,-1.0,-0.14285714285714285,-0.8095238095238095,-0.05263157894736842,0.125,0.47058823529411764,-0.3333333333333333,0.7777777777777778,0.6666666666666666,0.2222222222222222,0.5294117647058824,-0.15,0.7692307692307693,0.5238095238095238,-0.7777777777777778,0.75,0.3333333333333333,0.375,-0.9047619047619048,-0.23809523809523808,0.42105263157894735,0.23809523809523808,-1.0,-0.8095238095238095,-0.7142857142857143,-0.7142857142857143,-0.09523809523809523,0.3333333333333333,-0.09523809523809523,-0.6111111111111112,-0.8095238095238095,-0.7894736842105263,0.7647058823529411,-0.8095238095238095,0.6666666666666666,-0.8,-0.8095238095238095,0.2857142857142857,-0.3333333333333333,-0.7142857142857143,0.6842105263157895,0.047619047619047616,0.15,0.5384615384615384,0.2222222222222222,-0.7142857142857143,0.7142857142857143,0.23809523809523808,0.7142857142857143,-0.09523809523809523,0.0,0.42857142857142855,0.42857142857142855,0.5238095238095238,0.3333333333333333,0.3333333333333333,0.0,-0.4,-0.7,-0.11764705882352941,-0.14285714285714285,0.5789473684210527,0.09523809523809523,0.75,-0.8095238095238095,-0.5238095238095238,0.5384615384615384,0.42857142857142855,0.21052631578947367,0.23076923076923078,0.375,0.26666666666666666,0.5238095238095238,0.09523809523809523,-0.42857142857142855,-0.047619047619047616,0.5789473684210527,-0.8095238095238095,-0.8095238095238095,0.19047619047619047],\"xaxis\":\"x\",\"y\":[0.7619047619047619,0.05405405405405406,-0.47058823529411764,0.6470588235294118,-0.7631578947368421,-0.6363636363636364,-0.2631578947368421,-0.8333333333333334,-0.17142857142857143,-0.13333333333333333,0.45161290322580644,-0.3684210526315789,0.625,0.631578947368421,0.21212121212121213,0.5588235294117647,-0.05405405405405406,0.7586206896551724,0.7631578947368421,-0.8484848484848485,0.4375,0.23809523809523808,0.15151515151515152,-0.7894736842105263,-0.40540540540540543,0.4444444444444444,0.15789473684210525,-0.7391304347826086,-0.8421052631578947,-0.631578947368421,-0.5945945945945946,-0.10526315789473684,0.15789473684210525,-0.02631578947368421,-0.59375,-0.7631578947368421,-0.7777777777777778,0.6470588235294118,-0.8421052631578947,0.5526315789473685,-0.8333333333333334,-0.8421052631578947,0.18421052631578946,-0.42105263157894735,-0.7894736842105263,0.5428571428571428,0.1111111111111111,0.02702702702702703,0.76,0.0625,-0.7368421052631579,0.7105263157894737,0.10526315789473684,0.47368421052631576,-0.3684210526315789,-0.0967741935483871,0.3684210526315789,0.2631578947368421,0.6842105263157895,0.10526315789473684,0.07894736842105263,0.3333333333333333,-0.4074074074074074,-0.7297297297297297,-0.1,0.0,0.7714285714285715,0.10526315789473684,0.3333333333333333,-0.8421052631578947,-0.6842105263157895,0.48148148148148145,0.3157894736842105,0.0,0.6923076923076923,0.5862068965517241,0.03571428571428571,0.7368421052631579,0.07894736842105263,-0.6756756756756757,-0.21052631578947367,0.45454545454545453,-0.8947368421052632,-0.8857142857142857,0.10810810810810811],\"yaxis\":\"y\",\"type\":\"scatter\"}],                        {\"template\":{\"data\":{\"histogram2dcontour\":[{\"type\":\"histogram2dcontour\",\"colorbar\":{\"outlinewidth\":0,\"ticks\":\"\"},\"colorscale\":[[0.0,\"#0d0887\"],[0.1111111111111111,\"#46039f\"],[0.2222222222222222,\"#7201a8\"],[0.3333333333333333,\"#9c179e\"],[0.4444444444444444,\"#bd3786\"],[0.5555555555555556,\"#d8576b\"],[0.6666666666666666,\"#ed7953\"],[0.7777777777777778,\"#fb9f3a\"],[0.8888888888888888,\"#fdca26\"],[1.0,\"#f0f921\"]]}],\"choropleth\":[{\"type\":\"choropleth\",\"colorbar\":{\"outlinewidth\":0,\"ticks\":\"\"}}],\"histogram2d\":[{\"type\":\"histogram2d\",\"colorbar\":{\"outlinewidth\":0,\"ticks\":\"\"},\"colorscale\":[[0.0,\"#0d0887\"],[0.1111111111111111,\"#46039f\"],[0.2222222222222222,\"#7201a8\"],[0.3333333333333333,\"#9c179e\"],[0.4444444444444444,\"#bd3786\"],[0.5555555555555556,\"#d8576b\"],[0.6666666666666666,\"#ed7953\"],[0.7777777777777778,\"#fb9f3a\"],[0.8888888888888888,\"#fdca26\"],[1.0,\"#f0f921\"]]}],\"heatmap\":[{\"type\":\"heatmap\",\"colorbar\":{\"outlinewidth\":0,\"ticks\":\"\"},\"colorscale\":[[0.0,\"#0d0887\"],[0.1111111111111111,\"#46039f\"],[0.2222222222222222,\"#7201a8\"],[0.3333333333333333,\"#9c179e\"],[0.4444444444444444,\"#bd3786\"],[0.5555555555555556,\"#d8576b\"],[0.6666666666666666,\"#ed7953\"],[0.7777777777777778,\"#fb9f3a\"],[0.8888888888888888,\"#fdca26\"],[1.0,\"#f0f921\"]]}],\"heatmapgl\":[{\"type\":\"heatmapgl\",\"colorbar\":{\"outlinewidth\":0,\"ticks\":\"\"},\"colorscale\":[[0.0,\"#0d0887\"],[0.1111111111111111,\"#46039f\"],[0.2222222222222222,\"#7201a8\"],[0.3333333333333333,\"#9c179e\"],[0.4444444444444444,\"#bd3786\"],[0.5555555555555556,\"#d8576b\"],[0.6666666666666666,\"#ed7953\"],[0.7777777777777778,\"#fb9f3a\"],[0.8888888888888888,\"#fdca26\"],[1.0,\"#f0f921\"]]}],\"contourcarpet\":[{\"type\":\"contourcarpet\",\"colorbar\":{\"outlinewidth\":0,\"ticks\":\"\"}}],\"contour\":[{\"type\":\"contour\",\"colorbar\":{\"outlinewidth\":0,\"ticks\":\"\"},\"colorscale\":[[0.0,\"#0d0887\"],[0.1111111111111111,\"#46039f\"],[0.2222222222222222,\"#7201a8\"],[0.3333333333333333,\"#9c179e\"],[0.4444444444444444,\"#bd3786\"],[0.5555555555555556,\"#d8576b\"],[0.6666666666666666,\"#ed7953\"],[0.7777777777777778,\"#fb9f3a\"],[0.8888888888888888,\"#fdca26\"],[1.0,\"#f0f921\"]]}],\"surface\":[{\"type\":\"surface\",\"colorbar\":{\"outlinewidth\":0,\"ticks\":\"\"},\"colorscale\":[[0.0,\"#0d0887\"],[0.1111111111111111,\"#46039f\"],[0.2222222222222222,\"#7201a8\"],[0.3333333333333333,\"#9c179e\"],[0.4444444444444444,\"#bd3786\"],[0.5555555555555556,\"#d8576b\"],[0.6666666666666666,\"#ed7953\"],[0.7777777777777778,\"#fb9f3a\"],[0.8888888888888888,\"#fdca26\"],[1.0,\"#f0f921\"]]}],\"mesh3d\":[{\"type\":\"mesh3d\",\"colorbar\":{\"outlinewidth\":0,\"ticks\":\"\"}}],\"scatter\":[{\"fillpattern\":{\"fillmode\":\"overlay\",\"size\":10,\"solidity\":0.2},\"type\":\"scatter\"}],\"parcoords\":[{\"type\":\"parcoords\",\"line\":{\"colorbar\":{\"outlinewidth\":0,\"ticks\":\"\"}}}],\"scatterpolargl\":[{\"type\":\"scatterpolargl\",\"marker\":{\"colorbar\":{\"outlinewidth\":0,\"ticks\":\"\"}}}],\"bar\":[{\"error_x\":{\"color\":\"#2a3f5f\"},\"error_y\":{\"color\":\"#2a3f5f\"},\"marker\":{\"line\":{\"color\":\"#E5ECF6\",\"width\":0.5},\"pattern\":{\"fillmode\":\"overlay\",\"size\":10,\"solidity\":0.2}},\"type\":\"bar\"}],\"scattergeo\":[{\"type\":\"scattergeo\",\"marker\":{\"colorbar\":{\"outlinewidth\":0,\"ticks\":\"\"}}}],\"scatterpolar\":[{\"type\":\"scatterpolar\",\"marker\":{\"colorbar\":{\"outlinewidth\":0,\"ticks\":\"\"}}}],\"histogram\":[{\"marker\":{\"pattern\":{\"fillmode\":\"overlay\",\"size\":10,\"solidity\":0.2}},\"type\":\"histogram\"}],\"scattergl\":[{\"type\":\"scattergl\",\"marker\":{\"colorbar\":{\"outlinewidth\":0,\"ticks\":\"\"}}}],\"scatter3d\":[{\"type\":\"scatter3d\",\"line\":{\"colorbar\":{\"outlinewidth\":0,\"ticks\":\"\"}},\"marker\":{\"colorbar\":{\"outlinewidth\":0,\"ticks\":\"\"}}}],\"scattermapbox\":[{\"type\":\"scattermapbox\",\"marker\":{\"colorbar\":{\"outlinewidth\":0,\"ticks\":\"\"}}}],\"scatterternary\":[{\"type\":\"scatterternary\",\"marker\":{\"colorbar\":{\"outlinewidth\":0,\"ticks\":\"\"}}}],\"scattercarpet\":[{\"type\":\"scattercarpet\",\"marker\":{\"colorbar\":{\"outlinewidth\":0,\"ticks\":\"\"}}}],\"carpet\":[{\"aaxis\":{\"endlinecolor\":\"#2a3f5f\",\"gridcolor\":\"white\",\"linecolor\":\"white\",\"minorgridcolor\":\"white\",\"startlinecolor\":\"#2a3f5f\"},\"baxis\":{\"endlinecolor\":\"#2a3f5f\",\"gridcolor\":\"white\",\"linecolor\":\"white\",\"minorgridcolor\":\"white\",\"startlinecolor\":\"#2a3f5f\"},\"type\":\"carpet\"}],\"table\":[{\"cells\":{\"fill\":{\"color\":\"#EBF0F8\"},\"line\":{\"color\":\"white\"}},\"header\":{\"fill\":{\"color\":\"#C8D4E3\"},\"line\":{\"color\":\"white\"}},\"type\":\"table\"}],\"barpolar\":[{\"marker\":{\"line\":{\"color\":\"#E5ECF6\",\"width\":0.5},\"pattern\":{\"fillmode\":\"overlay\",\"size\":10,\"solidity\":0.2}},\"type\":\"barpolar\"}],\"pie\":[{\"automargin\":true,\"type\":\"pie\"}]},\"layout\":{\"autotypenumbers\":\"strict\",\"colorway\":[\"#636efa\",\"#EF553B\",\"#00cc96\",\"#ab63fa\",\"#FFA15A\",\"#19d3f3\",\"#FF6692\",\"#B6E880\",\"#FF97FF\",\"#FECB52\"],\"font\":{\"color\":\"#2a3f5f\"},\"hovermode\":\"closest\",\"hoverlabel\":{\"align\":\"left\"},\"paper_bgcolor\":\"white\",\"plot_bgcolor\":\"#E5ECF6\",\"polar\":{\"bgcolor\":\"#E5ECF6\",\"angularaxis\":{\"gridcolor\":\"white\",\"linecolor\":\"white\",\"ticks\":\"\"},\"radialaxis\":{\"gridcolor\":\"white\",\"linecolor\":\"white\",\"ticks\":\"\"}},\"ternary\":{\"bgcolor\":\"#E5ECF6\",\"aaxis\":{\"gridcolor\":\"white\",\"linecolor\":\"white\",\"ticks\":\"\"},\"baxis\":{\"gridcolor\":\"white\",\"linecolor\":\"white\",\"ticks\":\"\"},\"caxis\":{\"gridcolor\":\"white\",\"linecolor\":\"white\",\"ticks\":\"\"}},\"coloraxis\":{\"colorbar\":{\"outlinewidth\":0,\"ticks\":\"\"}},\"colorscale\":{\"sequential\":[[0.0,\"#0d0887\"],[0.1111111111111111,\"#46039f\"],[0.2222222222222222,\"#7201a8\"],[0.3333333333333333,\"#9c179e\"],[0.4444444444444444,\"#bd3786\"],[0.5555555555555556,\"#d8576b\"],[0.6666666666666666,\"#ed7953\"],[0.7777777777777778,\"#fb9f3a\"],[0.8888888888888888,\"#fdca26\"],[1.0,\"#f0f921\"]],\"sequentialminus\":[[0.0,\"#0d0887\"],[0.1111111111111111,\"#46039f\"],[0.2222222222222222,\"#7201a8\"],[0.3333333333333333,\"#9c179e\"],[0.4444444444444444,\"#bd3786\"],[0.5555555555555556,\"#d8576b\"],[0.6666666666666666,\"#ed7953\"],[0.7777777777777778,\"#fb9f3a\"],[0.8888888888888888,\"#fdca26\"],[1.0,\"#f0f921\"]],\"diverging\":[[0,\"#8e0152\"],[0.1,\"#c51b7d\"],[0.2,\"#de77ae\"],[0.3,\"#f1b6da\"],[0.4,\"#fde0ef\"],[0.5,\"#f7f7f7\"],[0.6,\"#e6f5d0\"],[0.7,\"#b8e186\"],[0.8,\"#7fbc41\"],[0.9,\"#4d9221\"],[1,\"#276419\"]]},\"xaxis\":{\"gridcolor\":\"white\",\"linecolor\":\"white\",\"ticks\":\"\",\"title\":{\"standoff\":15},\"zerolinecolor\":\"white\",\"automargin\":true,\"zerolinewidth\":2},\"yaxis\":{\"gridcolor\":\"white\",\"linecolor\":\"white\",\"ticks\":\"\",\"title\":{\"standoff\":15},\"zerolinecolor\":\"white\",\"automargin\":true,\"zerolinewidth\":2},\"scene\":{\"xaxis\":{\"backgroundcolor\":\"#E5ECF6\",\"gridcolor\":\"white\",\"linecolor\":\"white\",\"showbackground\":true,\"ticks\":\"\",\"zerolinecolor\":\"white\",\"gridwidth\":2},\"yaxis\":{\"backgroundcolor\":\"#E5ECF6\",\"gridcolor\":\"white\",\"linecolor\":\"white\",\"showbackground\":true,\"ticks\":\"\",\"zerolinecolor\":\"white\",\"gridwidth\":2},\"zaxis\":{\"backgroundcolor\":\"#E5ECF6\",\"gridcolor\":\"white\",\"linecolor\":\"white\",\"showbackground\":true,\"ticks\":\"\",\"zerolinecolor\":\"white\",\"gridwidth\":2}},\"shapedefaults\":{\"line\":{\"color\":\"#2a3f5f\"}},\"annotationdefaults\":{\"arrowcolor\":\"#2a3f5f\",\"arrowhead\":0,\"arrowwidth\":1},\"geo\":{\"bgcolor\":\"white\",\"landcolor\":\"#E5ECF6\",\"subunitcolor\":\"white\",\"showland\":true,\"showlakes\":true,\"lakecolor\":\"white\"},\"title\":{\"x\":0.05},\"mapbox\":{\"style\":\"light\"}}},\"xaxis\":{\"anchor\":\"y\",\"domain\":[0.0,1.0],\"title\":{\"text\":\"orientation\"},\"range\":[-1,1]},\"yaxis\":{\"anchor\":\"x\",\"domain\":[0.0,1.0],\"title\":{\"text\":\"progvscons\"},\"range\":[-1,1]},\"legend\":{\"title\":{\"text\":\"Genre\"},\"tracegroupgap\":0},\"margin\":{\"t\":60}},                        {\"responsive\": true}                    ).then(function(){\n",
       "                            \n",
       "var gd = document.getElementById('12e2bfe7-e942-498d-87a0-aeb9f59d23bd');\n",
       "var x = new MutationObserver(function (mutations, observer) {{\n",
       "        var display = window.getComputedStyle(gd).display;\n",
       "        if (!display || display === 'none') {{\n",
       "            console.log([gd, 'removed!']);\n",
       "            Plotly.purge(gd);\n",
       "            observer.disconnect();\n",
       "        }}\n",
       "}});\n",
       "\n",
       "// Listen for the removal of the full notebook cells\n",
       "var notebookContainer = gd.closest('#notebook-container');\n",
       "if (notebookContainer) {{\n",
       "    x.observe(notebookContainer, {childList: true});\n",
       "}}\n",
       "\n",
       "// Listen for the clearing of the current output cell\n",
       "var outputEl = gd.closest('.output');\n",
       "if (outputEl) {{\n",
       "    x.observe(outputEl, {childList: true});\n",
       "}}\n",
       "\n",
       "                        })                };                });            </script>        </div>"
      ]
     },
     "metadata": {},
     "output_type": "display_data"
    }
   ],
   "source": [
    "fig = px.scatter(counts_df, x=\"orientation\", y=\"progvscons\",  color='Genre', hover_name='name')\n",
    "fig.update_xaxes(range=[-1, 1])\n",
    "fig.update_yaxes(range=[-1, 1])\n",
    "fig.show()"
   ]
  },
  {
   "cell_type": "code",
   "execution_count": 19,
   "id": "75527a54",
   "metadata": {
    "scrolled": true
   },
   "outputs": [
    {
     "data": {
      "application/vnd.plotly.v1+json": {
       "config": {
        "plotlyServerURL": "https://plot.ly"
       },
       "data": [
        {
         "hovertemplate": "<b>%{hovertext}</b><br><br>Âge=18-30<br>orientation=%{x}<br>progvscons=%{y}<extra></extra>",
         "hovertext": [
          "Adeline CRETTENAND",
          "Alain DUBOSSON",
          "Caroline REYNARD",
          "Chantal CARLEN",
          "Damien FUMEAUX",
          "Damien LUISIER",
          "Florent FAVRE",
          "François QUENNOZ",
          "Jean-Baptiste UDRESSY",
          "Kamy MAY",
          "Lucile CURDY",
          "Léa ROUILLER DESSIMOZ",
          "Mathieu CALOZ",
          "Mélanie FOLLONIER",
          "Romain UDRY",
          "Romano AMACKER",
          "Sophie DUCREY"
         ],
         "legendgroup": "18-30",
         "marker": {
          "color": "#636efa",
          "symbol": "circle"
         },
         "mode": "markers",
         "name": "18-30",
         "orientation": "v",
         "showlegend": true,
         "type": "scatter",
         "x": [
          0.3333333333333333,
          0.7692307692307693,
          -0.7619047619047619,
          0.6,
          0.6666666666666666,
          0.2222222222222222,
          0.375,
          0.42105263157894735,
          0.7647058823529411,
          0.14285714285714285,
          -0.7222222222222222,
          -0.875,
          -0.09523809523809523,
          0.125,
          0.26666666666666666,
          0.5238095238095238,
          -0.7142857142857143
         ],
         "xaxis": "x",
         "y": [
          0.2,
          0.7619047619047619,
          -0.7894736842105263,
          0.5555555555555556,
          0.631578947368421,
          0.21212121212121213,
          0.15151515151515152,
          0.4444444444444444,
          0.6470588235294118,
          0.15789473684210525,
          -0.7878787878787878,
          -0.7878787878787878,
          -0.3684210526315789,
          -0.25,
          0.03571428571428571,
          0.7368421052631579,
          -0.8421052631578947
         ],
         "yaxis": "y"
        },
        {
         "hovertemplate": "<b>%{hovertext}</b><br><br>Âge=30-45<br>orientation=%{x}<br>progvscons=%{y}<extra></extra>",
         "hovertext": [
          "Alain LÉGER",
          "Arnaud DUBOIS",
          "Christelle HERITIER",
          "Christian ESCHER",
          "Claudia ALPIGER",
          "Côme VUILLE",
          "Damien CLERC",
          "Damien RABOUD",
          "Danica ZURBRIGGEN LEHNER",
          "Dominik KNUBEL",
          "Emilie PRAZ",
          "Fabien THETAZ",
          "Fabienne MURMANN",
          "Flavio SCHMID",
          "Florian EVEQUOZ",
          "Florine CARRON",
          "Gaël BOURGEOIS",
          "Géraldine POUGET-ZUFFEREY",
          "Johan ROCHEL",
          "Joséphine WAEBER",
          "Marie ZUCHUAT",
          "Martine ROUILLER",
          "Matteo ABÄCHERLI",
          "Michael BURGENER",
          "Michael KREUZER",
          "Natacha MARET",
          "Natascha FARQUET",
          "Nicolas BONVIN",
          "Nicolas CHABLAIS",
          "Pascale FUMEAUX",
          "Pierre DARBELLAY",
          "Rafael WELSCHEN",
          "Rahel ZIMMERMANN",
          "Ralph KUMMER",
          "Vincent BOAND",
          "Vincent LUYET"
         ],
         "legendgroup": "30-45",
         "marker": {
          "color": "#EF553B",
          "symbol": "circle"
         },
         "mode": "markers",
         "name": "30-45",
         "orientation": "v",
         "showlegend": true,
         "type": "scatter",
         "x": [
          0.15,
          -0.5714285714285714,
          -0.6923076923076923,
          -0.05263157894736842,
          -0.7,
          -0.3333333333333333,
          0.7777777777777778,
          0.5294117647058824,
          -0.3333333333333333,
          -0.15,
          -0.8095238095238095,
          -0.7777777777777778,
          0.42857142857142855,
          0.3333333333333333,
          -0.9047619047619048,
          -0.7368421052631579,
          -1,
          0.19047619047619047,
          -0.7142857142857143,
          0.3,
          0.19047619047619047,
          -0.8095238095238095,
          0.42857142857142855,
          0.42857142857142855,
          0.5238095238095238,
          0.2857142857142857,
          -0.5263157894736842,
          0.3333333333333333,
          0,
          -0.7647058823529411,
          0.75,
          0.5384615384615384,
          -0.7,
          0.23076923076923078,
          0.5789473684210527,
          -0.8095238095238095
         ],
         "xaxis": "x",
         "y": [
          0.05405405405405406,
          -0.7631578947368421,
          -0.6956521739130435,
          -0.17142857142857143,
          -0.6216216216216216,
          -0.3684210526315789,
          0.625,
          0.5588235294117647,
          -0.20833333333333334,
          -0.05405405405405406,
          -0.8421052631578947,
          -0.8484848484848485,
          0.2631578947368421,
          0.23809523809523808,
          -0.7894736842105263,
          -0.7,
          -0.7391304347826086,
          0.02631578947368421,
          -0.7894736842105263,
          0.21212121212121213,
          0.05714285714285714,
          -0.868421052631579,
          0.3684210526315789,
          0.2631578947368421,
          0.6842105263157895,
          0.05263157894736842,
          -0.6388888888888888,
          0.07894736842105263,
          0.3333333333333333,
          -0.8571428571428571,
          0.3333333333333333,
          0.48148148148148145,
          -0.6216216216216216,
          0.6923076923076923,
          0.45454545454545453,
          -0.8857142857142857
         ],
         "yaxis": "y"
        },
        {
         "hovertemplate": "<b>%{hovertext}</b><br><br>Âge=65+<br>orientation=%{x}<br>progvscons=%{y}<extra></extra>",
         "hovertext": [
          "Alain SCHÖNBETT",
          "Bernard OBERHOLZER",
          "Bernard TROILLET",
          "Cilette CRETTON",
          "Claude NANÇOZ",
          "Edmond PERRUCHOUD",
          "François GENOUD",
          "Georges VIONNET",
          "Gerhard SCHMID",
          "Hermann BRUNNER",
          "Jacques BLANC",
          "Jean BONNARD",
          "Jean ZERMATTEN",
          "Jean-Dominique CIPOLLA",
          "Jean-François LOVEY",
          "Kurt REGOTZ",
          "Leander WILLINER",
          "Lukas JÄGER",
          "Marius DUMOULIN",
          "Narcisse CRETTENAND",
          "Patricia CASAYS",
          "Paul BURGENER",
          "Peter BÄHLER",
          "Philippe BENDER",
          "Pierre SCHERTENLEIB",
          "Raymonde SCHOCH"
         ],
         "legendgroup": "65+",
         "marker": {
          "color": "#00cc96",
          "symbol": "circle"
         },
         "mode": "markers",
         "name": "65+",
         "orientation": "v",
         "showlegend": true,
         "type": "scatter",
         "x": [
          -0.3333333333333333,
          -1,
          -0.14285714285714285,
          -0.7619047619047619,
          0.125,
          0.7692307692307693,
          -0.23809523809523808,
          -0.8095238095238095,
          -0.7142857142857143,
          -0.09523809523809523,
          -0.6111111111111112,
          -0.8095238095238095,
          -0.7894736842105263,
          0.6666666666666666,
          -0.8,
          0.047619047619047616,
          0.15,
          0.5384615384615384,
          0.23809523809523808,
          0.3333333333333333,
          0.11764705882352941,
          -0.11764705882352941,
          0.5789473684210527,
          0.09523809523809523,
          -0.8095238095238095,
          -0.6666666666666666
         ],
         "xaxis": "x",
         "y": [
          -0.47058823529411764,
          -0.6363636363636364,
          -0.2631578947368421,
          -0.7631578947368421,
          -0.13333333333333333,
          0.7586206896551724,
          -0.40540540540540543,
          -0.8421052631578947,
          -0.631578947368421,
          -0.02631578947368421,
          -0.59375,
          -0.7631578947368421,
          -0.7777777777777778,
          0.5526315789473685,
          -0.8333333333333334,
          0.1111111111111111,
          0.02702702702702703,
          0.76,
          0.10526315789473684,
          0.10526315789473684,
          -0.09090909090909091,
          -0.1,
          0.7714285714285715,
          0.10526315789473684,
          -0.8421052631578947,
          -0.5789473684210527
         ],
         "yaxis": "y"
        },
        {
         "hovertemplate": "<b>%{hovertext}</b><br><br>Âge=45-65<br>orientation=%{x}<br>progvscons=%{y}<extra></extra>",
         "hovertext": [
          "Alex BONVIN",
          "Alina DARBELLAY",
          "Blaise CRETTOL",
          "Christine ROUX",
          "Claudia GAILLARD MOREND",
          "Claudy BESSE",
          "Corinne DUC BONVIN",
          "Célina RAMSAUER",
          "Fabian ZURBRIGGEN",
          "Felix RUPPEN",
          "Florence CARRON DARBELLAY",
          "Frédéric PITTELOUD",
          "Gabrielle BARRAS",
          "Gabrielle CORNUT-ZUFFEREY",
          "German EYER",
          "Grégoire VANNAY",
          "Géraldine GIANADDA",
          "Géraldine GRANGES GUENOT",
          "Géraldine GRANGES-GUENOT",
          "Gérard SALAMIN",
          "Ida HÄFLIGER",
          "Janine REY-SIGGEN",
          "Jean-Daniel NANCHEN",
          "Jean-Marc DUPONT",
          "Jean-Marc SAVIOZ",
          "Jean-Pierre REY",
          "Jenny VOEFFRAY",
          "Jérôme FORMAZ",
          "Laurence VUAGNIAUX",
          "Lukas KALBERMATTEN",
          "Léonard BENDER",
          "Madeleine KUONEN-EGGO",
          "Marc-Antoine GENOLET",
          "Maria ARNOLD-ESCHER",
          "Martin SCHÜRCH",
          "Mathieu SARRASIN",
          "Monika HOLZEGGER",
          "Nicolas METTAN",
          "Olivier DERIVAZ",
          "Peter BURRI",
          "Pierre-Alain RAEMY",
          "Rainer MATHIER",
          "Ralph DESSIMOZ",
          "Remo SCHNYDER",
          "Ruth STALDER",
          "Sabine FOURNIER",
          "Sandro FONTANA",
          "Sophie BORNET",
          "Stéphane CLAVIEN",
          "Thomas MATTER",
          "Vincent GÜNTHER",
          "Yann RODUIT"
         ],
         "legendgroup": "45-65",
         "marker": {
          "color": "#ab63fa",
          "symbol": "circle"
         },
         "mode": "markers",
         "name": "45-65",
         "orientation": "v",
         "showlegend": true,
         "type": "scatter",
         "x": [
          0.7,
          -0.8461538461538461,
          -0.8095238095238095,
          0.4,
          -0.7142857142857143,
          0.47058823529411764,
          -0.7368421052631579,
          -0.7647058823529411,
          0.5238095238095238,
          0.75,
          0,
          0.23809523809523808,
          0.5,
          -0.7777777777777778,
          -0.7142857142857143,
          -0.09523809523809523,
          -0.8125,
          -1,
          0.5,
          0.3333333333333333,
          -0.05263157894736842,
          -0.8095238095238095,
          -0.8095238095238095,
          -0.8095238095238095,
          0.2857142857142857,
          -0.3333333333333333,
          -0.17647058823529413,
          0.6842105263157895,
          -0.7619047619047619,
          0.2222222222222222,
          -0.7142857142857143,
          -0.7222222222222222,
          0.7142857142857143,
          0.47368421052631576,
          0.7142857142857143,
          0,
          -0.38095238095238093,
          -0.4,
          -0.7,
          -0.14285714285714285,
          -0.5238095238095238,
          0.42857142857142855,
          0.21052631578947367,
          0.375,
          -0.23809523809523808,
          -0.8095238095238095,
          0.09523809523809523,
          0.10526315789473684,
          -0.42857142857142855,
          -0.047619047619047616,
          -0.8095238095238095,
          0.19047619047619047
         ],
         "xaxis": "x",
         "y": [
          0.6470588235294118,
          -0.782608695652174,
          -0.8333333333333334,
          0.3448275862068966,
          -0.8421052631578947,
          0.45161290322580644,
          -0.8571428571428571,
          -0.7647058823529411,
          0.7631578947368421,
          0.4375,
          -0.2702702702702703,
          0.15789473684210525,
          0.4838709677419355,
          -0.8787878787878788,
          -0.5945945945945946,
          -0.10526315789473684,
          -0.7407407407407407,
          -1,
          0.5416666666666666,
          0.15789473684210525,
          -0.12121212121212122,
          -0.8421052631578947,
          -0.8421052631578947,
          -0.8421052631578947,
          0.18421052631578946,
          -0.42105263157894735,
          -0.3333333333333333,
          0.5428571428571428,
          -0.868421052631579,
          0.0625,
          -0.7368421052631579,
          -0.6666666666666666,
          0.7105263157894737,
          0.41935483870967744,
          0.47368421052631576,
          -0.0967741935483871,
          -0.13157894736842105,
          -0.4074074074074074,
          -0.7297297297297297,
          0,
          -0.6842105263157895,
          0.3157894736842105,
          0,
          0.5862068965517241,
          -0.21052631578947367,
          -0.8947368421052632,
          0.07894736842105263,
          0.02857142857142857,
          -0.6756756756756757,
          -0.21052631578947367,
          -0.8947368421052632,
          0.10810810810810811
         ],
         "yaxis": "y"
        }
       ],
       "layout": {
        "legend": {
         "title": {
          "text": "Âge"
         },
         "tracegroupgap": 0
        },
        "margin": {
         "t": 60
        },
        "template": {
         "data": {
          "bar": [
           {
            "error_x": {
             "color": "#2a3f5f"
            },
            "error_y": {
             "color": "#2a3f5f"
            },
            "marker": {
             "line": {
              "color": "#E5ECF6",
              "width": 0.5
             },
             "pattern": {
              "fillmode": "overlay",
              "size": 10,
              "solidity": 0.2
             }
            },
            "type": "bar"
           }
          ],
          "barpolar": [
           {
            "marker": {
             "line": {
              "color": "#E5ECF6",
              "width": 0.5
             },
             "pattern": {
              "fillmode": "overlay",
              "size": 10,
              "solidity": 0.2
             }
            },
            "type": "barpolar"
           }
          ],
          "carpet": [
           {
            "aaxis": {
             "endlinecolor": "#2a3f5f",
             "gridcolor": "white",
             "linecolor": "white",
             "minorgridcolor": "white",
             "startlinecolor": "#2a3f5f"
            },
            "baxis": {
             "endlinecolor": "#2a3f5f",
             "gridcolor": "white",
             "linecolor": "white",
             "minorgridcolor": "white",
             "startlinecolor": "#2a3f5f"
            },
            "type": "carpet"
           }
          ],
          "choropleth": [
           {
            "colorbar": {
             "outlinewidth": 0,
             "ticks": ""
            },
            "type": "choropleth"
           }
          ],
          "contour": [
           {
            "colorbar": {
             "outlinewidth": 0,
             "ticks": ""
            },
            "colorscale": [
             [
              0,
              "#0d0887"
             ],
             [
              0.1111111111111111,
              "#46039f"
             ],
             [
              0.2222222222222222,
              "#7201a8"
             ],
             [
              0.3333333333333333,
              "#9c179e"
             ],
             [
              0.4444444444444444,
              "#bd3786"
             ],
             [
              0.5555555555555556,
              "#d8576b"
             ],
             [
              0.6666666666666666,
              "#ed7953"
             ],
             [
              0.7777777777777778,
              "#fb9f3a"
             ],
             [
              0.8888888888888888,
              "#fdca26"
             ],
             [
              1,
              "#f0f921"
             ]
            ],
            "type": "contour"
           }
          ],
          "contourcarpet": [
           {
            "colorbar": {
             "outlinewidth": 0,
             "ticks": ""
            },
            "type": "contourcarpet"
           }
          ],
          "heatmap": [
           {
            "colorbar": {
             "outlinewidth": 0,
             "ticks": ""
            },
            "colorscale": [
             [
              0,
              "#0d0887"
             ],
             [
              0.1111111111111111,
              "#46039f"
             ],
             [
              0.2222222222222222,
              "#7201a8"
             ],
             [
              0.3333333333333333,
              "#9c179e"
             ],
             [
              0.4444444444444444,
              "#bd3786"
             ],
             [
              0.5555555555555556,
              "#d8576b"
             ],
             [
              0.6666666666666666,
              "#ed7953"
             ],
             [
              0.7777777777777778,
              "#fb9f3a"
             ],
             [
              0.8888888888888888,
              "#fdca26"
             ],
             [
              1,
              "#f0f921"
             ]
            ],
            "type": "heatmap"
           }
          ],
          "heatmapgl": [
           {
            "colorbar": {
             "outlinewidth": 0,
             "ticks": ""
            },
            "colorscale": [
             [
              0,
              "#0d0887"
             ],
             [
              0.1111111111111111,
              "#46039f"
             ],
             [
              0.2222222222222222,
              "#7201a8"
             ],
             [
              0.3333333333333333,
              "#9c179e"
             ],
             [
              0.4444444444444444,
              "#bd3786"
             ],
             [
              0.5555555555555556,
              "#d8576b"
             ],
             [
              0.6666666666666666,
              "#ed7953"
             ],
             [
              0.7777777777777778,
              "#fb9f3a"
             ],
             [
              0.8888888888888888,
              "#fdca26"
             ],
             [
              1,
              "#f0f921"
             ]
            ],
            "type": "heatmapgl"
           }
          ],
          "histogram": [
           {
            "marker": {
             "pattern": {
              "fillmode": "overlay",
              "size": 10,
              "solidity": 0.2
             }
            },
            "type": "histogram"
           }
          ],
          "histogram2d": [
           {
            "colorbar": {
             "outlinewidth": 0,
             "ticks": ""
            },
            "colorscale": [
             [
              0,
              "#0d0887"
             ],
             [
              0.1111111111111111,
              "#46039f"
             ],
             [
              0.2222222222222222,
              "#7201a8"
             ],
             [
              0.3333333333333333,
              "#9c179e"
             ],
             [
              0.4444444444444444,
              "#bd3786"
             ],
             [
              0.5555555555555556,
              "#d8576b"
             ],
             [
              0.6666666666666666,
              "#ed7953"
             ],
             [
              0.7777777777777778,
              "#fb9f3a"
             ],
             [
              0.8888888888888888,
              "#fdca26"
             ],
             [
              1,
              "#f0f921"
             ]
            ],
            "type": "histogram2d"
           }
          ],
          "histogram2dcontour": [
           {
            "colorbar": {
             "outlinewidth": 0,
             "ticks": ""
            },
            "colorscale": [
             [
              0,
              "#0d0887"
             ],
             [
              0.1111111111111111,
              "#46039f"
             ],
             [
              0.2222222222222222,
              "#7201a8"
             ],
             [
              0.3333333333333333,
              "#9c179e"
             ],
             [
              0.4444444444444444,
              "#bd3786"
             ],
             [
              0.5555555555555556,
              "#d8576b"
             ],
             [
              0.6666666666666666,
              "#ed7953"
             ],
             [
              0.7777777777777778,
              "#fb9f3a"
             ],
             [
              0.8888888888888888,
              "#fdca26"
             ],
             [
              1,
              "#f0f921"
             ]
            ],
            "type": "histogram2dcontour"
           }
          ],
          "mesh3d": [
           {
            "colorbar": {
             "outlinewidth": 0,
             "ticks": ""
            },
            "type": "mesh3d"
           }
          ],
          "parcoords": [
           {
            "line": {
             "colorbar": {
              "outlinewidth": 0,
              "ticks": ""
             }
            },
            "type": "parcoords"
           }
          ],
          "pie": [
           {
            "automargin": true,
            "type": "pie"
           }
          ],
          "scatter": [
           {
            "fillpattern": {
             "fillmode": "overlay",
             "size": 10,
             "solidity": 0.2
            },
            "type": "scatter"
           }
          ],
          "scatter3d": [
           {
            "line": {
             "colorbar": {
              "outlinewidth": 0,
              "ticks": ""
             }
            },
            "marker": {
             "colorbar": {
              "outlinewidth": 0,
              "ticks": ""
             }
            },
            "type": "scatter3d"
           }
          ],
          "scattercarpet": [
           {
            "marker": {
             "colorbar": {
              "outlinewidth": 0,
              "ticks": ""
             }
            },
            "type": "scattercarpet"
           }
          ],
          "scattergeo": [
           {
            "marker": {
             "colorbar": {
              "outlinewidth": 0,
              "ticks": ""
             }
            },
            "type": "scattergeo"
           }
          ],
          "scattergl": [
           {
            "marker": {
             "colorbar": {
              "outlinewidth": 0,
              "ticks": ""
             }
            },
            "type": "scattergl"
           }
          ],
          "scattermapbox": [
           {
            "marker": {
             "colorbar": {
              "outlinewidth": 0,
              "ticks": ""
             }
            },
            "type": "scattermapbox"
           }
          ],
          "scatterpolar": [
           {
            "marker": {
             "colorbar": {
              "outlinewidth": 0,
              "ticks": ""
             }
            },
            "type": "scatterpolar"
           }
          ],
          "scatterpolargl": [
           {
            "marker": {
             "colorbar": {
              "outlinewidth": 0,
              "ticks": ""
             }
            },
            "type": "scatterpolargl"
           }
          ],
          "scatterternary": [
           {
            "marker": {
             "colorbar": {
              "outlinewidth": 0,
              "ticks": ""
             }
            },
            "type": "scatterternary"
           }
          ],
          "surface": [
           {
            "colorbar": {
             "outlinewidth": 0,
             "ticks": ""
            },
            "colorscale": [
             [
              0,
              "#0d0887"
             ],
             [
              0.1111111111111111,
              "#46039f"
             ],
             [
              0.2222222222222222,
              "#7201a8"
             ],
             [
              0.3333333333333333,
              "#9c179e"
             ],
             [
              0.4444444444444444,
              "#bd3786"
             ],
             [
              0.5555555555555556,
              "#d8576b"
             ],
             [
              0.6666666666666666,
              "#ed7953"
             ],
             [
              0.7777777777777778,
              "#fb9f3a"
             ],
             [
              0.8888888888888888,
              "#fdca26"
             ],
             [
              1,
              "#f0f921"
             ]
            ],
            "type": "surface"
           }
          ],
          "table": [
           {
            "cells": {
             "fill": {
              "color": "#EBF0F8"
             },
             "line": {
              "color": "white"
             }
            },
            "header": {
             "fill": {
              "color": "#C8D4E3"
             },
             "line": {
              "color": "white"
             }
            },
            "type": "table"
           }
          ]
         },
         "layout": {
          "annotationdefaults": {
           "arrowcolor": "#2a3f5f",
           "arrowhead": 0,
           "arrowwidth": 1
          },
          "autotypenumbers": "strict",
          "coloraxis": {
           "colorbar": {
            "outlinewidth": 0,
            "ticks": ""
           }
          },
          "colorscale": {
           "diverging": [
            [
             0,
             "#8e0152"
            ],
            [
             0.1,
             "#c51b7d"
            ],
            [
             0.2,
             "#de77ae"
            ],
            [
             0.3,
             "#f1b6da"
            ],
            [
             0.4,
             "#fde0ef"
            ],
            [
             0.5,
             "#f7f7f7"
            ],
            [
             0.6,
             "#e6f5d0"
            ],
            [
             0.7,
             "#b8e186"
            ],
            [
             0.8,
             "#7fbc41"
            ],
            [
             0.9,
             "#4d9221"
            ],
            [
             1,
             "#276419"
            ]
           ],
           "sequential": [
            [
             0,
             "#0d0887"
            ],
            [
             0.1111111111111111,
             "#46039f"
            ],
            [
             0.2222222222222222,
             "#7201a8"
            ],
            [
             0.3333333333333333,
             "#9c179e"
            ],
            [
             0.4444444444444444,
             "#bd3786"
            ],
            [
             0.5555555555555556,
             "#d8576b"
            ],
            [
             0.6666666666666666,
             "#ed7953"
            ],
            [
             0.7777777777777778,
             "#fb9f3a"
            ],
            [
             0.8888888888888888,
             "#fdca26"
            ],
            [
             1,
             "#f0f921"
            ]
           ],
           "sequentialminus": [
            [
             0,
             "#0d0887"
            ],
            [
             0.1111111111111111,
             "#46039f"
            ],
            [
             0.2222222222222222,
             "#7201a8"
            ],
            [
             0.3333333333333333,
             "#9c179e"
            ],
            [
             0.4444444444444444,
             "#bd3786"
            ],
            [
             0.5555555555555556,
             "#d8576b"
            ],
            [
             0.6666666666666666,
             "#ed7953"
            ],
            [
             0.7777777777777778,
             "#fb9f3a"
            ],
            [
             0.8888888888888888,
             "#fdca26"
            ],
            [
             1,
             "#f0f921"
            ]
           ]
          },
          "colorway": [
           "#636efa",
           "#EF553B",
           "#00cc96",
           "#ab63fa",
           "#FFA15A",
           "#19d3f3",
           "#FF6692",
           "#B6E880",
           "#FF97FF",
           "#FECB52"
          ],
          "font": {
           "color": "#2a3f5f"
          },
          "geo": {
           "bgcolor": "white",
           "lakecolor": "white",
           "landcolor": "#E5ECF6",
           "showlakes": true,
           "showland": true,
           "subunitcolor": "white"
          },
          "hoverlabel": {
           "align": "left"
          },
          "hovermode": "closest",
          "mapbox": {
           "style": "light"
          },
          "paper_bgcolor": "white",
          "plot_bgcolor": "#E5ECF6",
          "polar": {
           "angularaxis": {
            "gridcolor": "white",
            "linecolor": "white",
            "ticks": ""
           },
           "bgcolor": "#E5ECF6",
           "radialaxis": {
            "gridcolor": "white",
            "linecolor": "white",
            "ticks": ""
           }
          },
          "scene": {
           "xaxis": {
            "backgroundcolor": "#E5ECF6",
            "gridcolor": "white",
            "gridwidth": 2,
            "linecolor": "white",
            "showbackground": true,
            "ticks": "",
            "zerolinecolor": "white"
           },
           "yaxis": {
            "backgroundcolor": "#E5ECF6",
            "gridcolor": "white",
            "gridwidth": 2,
            "linecolor": "white",
            "showbackground": true,
            "ticks": "",
            "zerolinecolor": "white"
           },
           "zaxis": {
            "backgroundcolor": "#E5ECF6",
            "gridcolor": "white",
            "gridwidth": 2,
            "linecolor": "white",
            "showbackground": true,
            "ticks": "",
            "zerolinecolor": "white"
           }
          },
          "shapedefaults": {
           "line": {
            "color": "#2a3f5f"
           }
          },
          "ternary": {
           "aaxis": {
            "gridcolor": "white",
            "linecolor": "white",
            "ticks": ""
           },
           "baxis": {
            "gridcolor": "white",
            "linecolor": "white",
            "ticks": ""
           },
           "bgcolor": "#E5ECF6",
           "caxis": {
            "gridcolor": "white",
            "linecolor": "white",
            "ticks": ""
           }
          },
          "title": {
           "x": 0.05
          },
          "xaxis": {
           "automargin": true,
           "gridcolor": "white",
           "linecolor": "white",
           "ticks": "",
           "title": {
            "standoff": 15
           },
           "zerolinecolor": "white",
           "zerolinewidth": 2
          },
          "yaxis": {
           "automargin": true,
           "gridcolor": "white",
           "linecolor": "white",
           "ticks": "",
           "title": {
            "standoff": 15
           },
           "zerolinecolor": "white",
           "zerolinewidth": 2
          }
         }
        },
        "xaxis": {
         "anchor": "y",
         "domain": [
          0,
          1
         ],
         "range": [
          -1,
          1
         ],
         "title": {
          "text": "orientation"
         }
        },
        "yaxis": {
         "anchor": "x",
         "domain": [
          0,
          1
         ],
         "range": [
          -1,
          1
         ],
         "title": {
          "text": "progvscons"
         }
        }
       }
      },
      "text/html": [
       "<div>                            <div id=\"3e6cfe33-c718-4427-b983-9d0d613abbd1\" class=\"plotly-graph-div\" style=\"height:525px; width:100%;\"></div>            <script type=\"text/javascript\">                require([\"plotly\"], function(Plotly) {                    window.PLOTLYENV=window.PLOTLYENV || {};                                    if (document.getElementById(\"3e6cfe33-c718-4427-b983-9d0d613abbd1\")) {                    Plotly.newPlot(                        \"3e6cfe33-c718-4427-b983-9d0d613abbd1\",                        [{\"hovertemplate\":\"<b>%{hovertext}</b><br><br>\\u00c2ge=18-30<br>orientation=%{x}<br>progvscons=%{y}<extra></extra>\",\"hovertext\":[\"Adeline CRETTENAND\",\"Alain DUBOSSON\",\"Caroline REYNARD\",\"Chantal CARLEN\",\"Damien FUMEAUX\",\"Damien LUISIER\",\"Florent FAVRE\",\"Fran\\u00e7ois QUENNOZ\",\"Jean-Baptiste UDRESSY\",\"Kamy MAY\",\"Lucile CURDY\",\"L\\u00e9a ROUILLER DESSIMOZ\",\"Mathieu CALOZ\",\"M\\u00e9lanie FOLLONIER\",\"Romain UDRY\",\"Romano AMACKER\",\"Sophie DUCREY\"],\"legendgroup\":\"18-30\",\"marker\":{\"color\":\"#636efa\",\"symbol\":\"circle\"},\"mode\":\"markers\",\"name\":\"18-30\",\"orientation\":\"v\",\"showlegend\":true,\"x\":[0.3333333333333333,0.7692307692307693,-0.7619047619047619,0.6,0.6666666666666666,0.2222222222222222,0.375,0.42105263157894735,0.7647058823529411,0.14285714285714285,-0.7222222222222222,-0.875,-0.09523809523809523,0.125,0.26666666666666666,0.5238095238095238,-0.7142857142857143],\"xaxis\":\"x\",\"y\":[0.2,0.7619047619047619,-0.7894736842105263,0.5555555555555556,0.631578947368421,0.21212121212121213,0.15151515151515152,0.4444444444444444,0.6470588235294118,0.15789473684210525,-0.7878787878787878,-0.7878787878787878,-0.3684210526315789,-0.25,0.03571428571428571,0.7368421052631579,-0.8421052631578947],\"yaxis\":\"y\",\"type\":\"scatter\"},{\"hovertemplate\":\"<b>%{hovertext}</b><br><br>\\u00c2ge=30-45<br>orientation=%{x}<br>progvscons=%{y}<extra></extra>\",\"hovertext\":[\"Alain L\\u00c9GER\",\"Arnaud DUBOIS\",\"Christelle HERITIER\",\"Christian ESCHER\",\"Claudia ALPIGER\",\"C\\u00f4me VUILLE\",\"Damien CLERC\",\"Damien RABOUD\",\"Danica ZURBRIGGEN LEHNER\",\"Dominik KNUBEL\",\"Emilie PRAZ\",\"Fabien THETAZ\",\"Fabienne MURMANN\",\"Flavio SCHMID\",\"Florian EVEQUOZ\",\"Florine CARRON\",\"Ga\\u00ebl BOURGEOIS\",\"G\\u00e9raldine POUGET-ZUFFEREY\",\"Johan ROCHEL\",\"Jos\\u00e9phine WAEBER\",\"Marie ZUCHUAT\",\"Martine ROUILLER\",\"Matteo AB\\u00c4CHERLI\",\"Michael BURGENER\",\"Michael KREUZER\",\"Natacha MARET\",\"Natascha FARQUET\",\"Nicolas BONVIN\",\"Nicolas CHABLAIS\",\"Pascale FUMEAUX\",\"Pierre DARBELLAY\",\"Rafael WELSCHEN\",\"Rahel ZIMMERMANN\",\"Ralph KUMMER\",\"Vincent BOAND\",\"Vincent LUYET\"],\"legendgroup\":\"30-45\",\"marker\":{\"color\":\"#EF553B\",\"symbol\":\"circle\"},\"mode\":\"markers\",\"name\":\"30-45\",\"orientation\":\"v\",\"showlegend\":true,\"x\":[0.15,-0.5714285714285714,-0.6923076923076923,-0.05263157894736842,-0.7,-0.3333333333333333,0.7777777777777778,0.5294117647058824,-0.3333333333333333,-0.15,-0.8095238095238095,-0.7777777777777778,0.42857142857142855,0.3333333333333333,-0.9047619047619048,-0.7368421052631579,-1.0,0.19047619047619047,-0.7142857142857143,0.3,0.19047619047619047,-0.8095238095238095,0.42857142857142855,0.42857142857142855,0.5238095238095238,0.2857142857142857,-0.5263157894736842,0.3333333333333333,0.0,-0.7647058823529411,0.75,0.5384615384615384,-0.7,0.23076923076923078,0.5789473684210527,-0.8095238095238095],\"xaxis\":\"x\",\"y\":[0.05405405405405406,-0.7631578947368421,-0.6956521739130435,-0.17142857142857143,-0.6216216216216216,-0.3684210526315789,0.625,0.5588235294117647,-0.20833333333333334,-0.05405405405405406,-0.8421052631578947,-0.8484848484848485,0.2631578947368421,0.23809523809523808,-0.7894736842105263,-0.7,-0.7391304347826086,0.02631578947368421,-0.7894736842105263,0.21212121212121213,0.05714285714285714,-0.868421052631579,0.3684210526315789,0.2631578947368421,0.6842105263157895,0.05263157894736842,-0.6388888888888888,0.07894736842105263,0.3333333333333333,-0.8571428571428571,0.3333333333333333,0.48148148148148145,-0.6216216216216216,0.6923076923076923,0.45454545454545453,-0.8857142857142857],\"yaxis\":\"y\",\"type\":\"scatter\"},{\"hovertemplate\":\"<b>%{hovertext}</b><br><br>\\u00c2ge=65+<br>orientation=%{x}<br>progvscons=%{y}<extra></extra>\",\"hovertext\":[\"Alain SCH\\u00d6NBETT\",\"Bernard OBERHOLZER\",\"Bernard TROILLET\",\"Cilette CRETTON\",\"Claude NAN\\u00c7OZ\",\"Edmond PERRUCHOUD\",\"Fran\\u00e7ois GENOUD\",\"Georges VIONNET\",\"Gerhard SCHMID\",\"Hermann BRUNNER\",\"Jacques BLANC\",\"Jean BONNARD\",\"Jean ZERMATTEN\",\"Jean-Dominique CIPOLLA\",\"Jean-Fran\\u00e7ois LOVEY\",\"Kurt REGOTZ\",\"Leander WILLINER\",\"Lukas J\\u00c4GER\",\"Marius DUMOULIN\",\"Narcisse CRETTENAND\",\"Patricia CASAYS\",\"Paul BURGENER\",\"Peter B\\u00c4HLER\",\"Philippe BENDER\",\"Pierre SCHERTENLEIB\",\"Raymonde SCHOCH\"],\"legendgroup\":\"65+\",\"marker\":{\"color\":\"#00cc96\",\"symbol\":\"circle\"},\"mode\":\"markers\",\"name\":\"65+\",\"orientation\":\"v\",\"showlegend\":true,\"x\":[-0.3333333333333333,-1.0,-0.14285714285714285,-0.7619047619047619,0.125,0.7692307692307693,-0.23809523809523808,-0.8095238095238095,-0.7142857142857143,-0.09523809523809523,-0.6111111111111112,-0.8095238095238095,-0.7894736842105263,0.6666666666666666,-0.8,0.047619047619047616,0.15,0.5384615384615384,0.23809523809523808,0.3333333333333333,0.11764705882352941,-0.11764705882352941,0.5789473684210527,0.09523809523809523,-0.8095238095238095,-0.6666666666666666],\"xaxis\":\"x\",\"y\":[-0.47058823529411764,-0.6363636363636364,-0.2631578947368421,-0.7631578947368421,-0.13333333333333333,0.7586206896551724,-0.40540540540540543,-0.8421052631578947,-0.631578947368421,-0.02631578947368421,-0.59375,-0.7631578947368421,-0.7777777777777778,0.5526315789473685,-0.8333333333333334,0.1111111111111111,0.02702702702702703,0.76,0.10526315789473684,0.10526315789473684,-0.09090909090909091,-0.1,0.7714285714285715,0.10526315789473684,-0.8421052631578947,-0.5789473684210527],\"yaxis\":\"y\",\"type\":\"scatter\"},{\"hovertemplate\":\"<b>%{hovertext}</b><br><br>\\u00c2ge=45-65<br>orientation=%{x}<br>progvscons=%{y}<extra></extra>\",\"hovertext\":[\"Alex BONVIN\",\"Alina DARBELLAY\",\"Blaise CRETTOL\",\"Christine ROUX\",\"Claudia GAILLARD MOREND\",\"Claudy BESSE\",\"Corinne DUC BONVIN\",\"C\\u00e9lina RAMSAUER\",\"Fabian ZURBRIGGEN\",\"Felix RUPPEN\",\"Florence CARRON DARBELLAY\",\"Fr\\u00e9d\\u00e9ric PITTELOUD\",\"Gabrielle BARRAS\",\"Gabrielle CORNUT-ZUFFEREY\",\"German EYER\",\"Gr\\u00e9goire VANNAY\",\"G\\u00e9raldine GIANADDA\",\"G\\u00e9raldine GRANGES GUENOT\",\"G\\u00e9raldine GRANGES-GUENOT\",\"G\\u00e9rard SALAMIN\",\"Ida H\\u00c4FLIGER\",\"Janine REY-SIGGEN\",\"Jean-Daniel NANCHEN\",\"Jean-Marc DUPONT\",\"Jean-Marc SAVIOZ\",\"Jean-Pierre REY\",\"Jenny VOEFFRAY\",\"J\\u00e9r\\u00f4me FORMAZ\",\"Laurence VUAGNIAUX\",\"Lukas KALBERMATTEN\",\"L\\u00e9onard BENDER\",\"Madeleine KUONEN-EGGO\",\"Marc-Antoine GENOLET\",\"Maria ARNOLD-ESCHER\",\"Martin SCH\\u00dcRCH\",\"Mathieu SARRASIN\",\"Monika HOLZEGGER\",\"Nicolas METTAN\",\"Olivier DERIVAZ\",\"Peter BURRI\",\"Pierre-Alain RAEMY\",\"Rainer MATHIER\",\"Ralph DESSIMOZ\",\"Remo SCHNYDER\",\"Ruth STALDER\",\"Sabine FOURNIER\",\"Sandro FONTANA\",\"Sophie BORNET\",\"St\\u00e9phane CLAVIEN\",\"Thomas MATTER\",\"Vincent G\\u00dcNTHER\",\"Yann RODUIT\"],\"legendgroup\":\"45-65\",\"marker\":{\"color\":\"#ab63fa\",\"symbol\":\"circle\"},\"mode\":\"markers\",\"name\":\"45-65\",\"orientation\":\"v\",\"showlegend\":true,\"x\":[0.7,-0.8461538461538461,-0.8095238095238095,0.4,-0.7142857142857143,0.47058823529411764,-0.7368421052631579,-0.7647058823529411,0.5238095238095238,0.75,0.0,0.23809523809523808,0.5,-0.7777777777777778,-0.7142857142857143,-0.09523809523809523,-0.8125,-1.0,0.5,0.3333333333333333,-0.05263157894736842,-0.8095238095238095,-0.8095238095238095,-0.8095238095238095,0.2857142857142857,-0.3333333333333333,-0.17647058823529413,0.6842105263157895,-0.7619047619047619,0.2222222222222222,-0.7142857142857143,-0.7222222222222222,0.7142857142857143,0.47368421052631576,0.7142857142857143,0.0,-0.38095238095238093,-0.4,-0.7,-0.14285714285714285,-0.5238095238095238,0.42857142857142855,0.21052631578947367,0.375,-0.23809523809523808,-0.8095238095238095,0.09523809523809523,0.10526315789473684,-0.42857142857142855,-0.047619047619047616,-0.8095238095238095,0.19047619047619047],\"xaxis\":\"x\",\"y\":[0.6470588235294118,-0.782608695652174,-0.8333333333333334,0.3448275862068966,-0.8421052631578947,0.45161290322580644,-0.8571428571428571,-0.7647058823529411,0.7631578947368421,0.4375,-0.2702702702702703,0.15789473684210525,0.4838709677419355,-0.8787878787878788,-0.5945945945945946,-0.10526315789473684,-0.7407407407407407,-1.0,0.5416666666666666,0.15789473684210525,-0.12121212121212122,-0.8421052631578947,-0.8421052631578947,-0.8421052631578947,0.18421052631578946,-0.42105263157894735,-0.3333333333333333,0.5428571428571428,-0.868421052631579,0.0625,-0.7368421052631579,-0.6666666666666666,0.7105263157894737,0.41935483870967744,0.47368421052631576,-0.0967741935483871,-0.13157894736842105,-0.4074074074074074,-0.7297297297297297,0.0,-0.6842105263157895,0.3157894736842105,0.0,0.5862068965517241,-0.21052631578947367,-0.8947368421052632,0.07894736842105263,0.02857142857142857,-0.6756756756756757,-0.21052631578947367,-0.8947368421052632,0.10810810810810811],\"yaxis\":\"y\",\"type\":\"scatter\"}],                        {\"template\":{\"data\":{\"histogram2dcontour\":[{\"type\":\"histogram2dcontour\",\"colorbar\":{\"outlinewidth\":0,\"ticks\":\"\"},\"colorscale\":[[0.0,\"#0d0887\"],[0.1111111111111111,\"#46039f\"],[0.2222222222222222,\"#7201a8\"],[0.3333333333333333,\"#9c179e\"],[0.4444444444444444,\"#bd3786\"],[0.5555555555555556,\"#d8576b\"],[0.6666666666666666,\"#ed7953\"],[0.7777777777777778,\"#fb9f3a\"],[0.8888888888888888,\"#fdca26\"],[1.0,\"#f0f921\"]]}],\"choropleth\":[{\"type\":\"choropleth\",\"colorbar\":{\"outlinewidth\":0,\"ticks\":\"\"}}],\"histogram2d\":[{\"type\":\"histogram2d\",\"colorbar\":{\"outlinewidth\":0,\"ticks\":\"\"},\"colorscale\":[[0.0,\"#0d0887\"],[0.1111111111111111,\"#46039f\"],[0.2222222222222222,\"#7201a8\"],[0.3333333333333333,\"#9c179e\"],[0.4444444444444444,\"#bd3786\"],[0.5555555555555556,\"#d8576b\"],[0.6666666666666666,\"#ed7953\"],[0.7777777777777778,\"#fb9f3a\"],[0.8888888888888888,\"#fdca26\"],[1.0,\"#f0f921\"]]}],\"heatmap\":[{\"type\":\"heatmap\",\"colorbar\":{\"outlinewidth\":0,\"ticks\":\"\"},\"colorscale\":[[0.0,\"#0d0887\"],[0.1111111111111111,\"#46039f\"],[0.2222222222222222,\"#7201a8\"],[0.3333333333333333,\"#9c179e\"],[0.4444444444444444,\"#bd3786\"],[0.5555555555555556,\"#d8576b\"],[0.6666666666666666,\"#ed7953\"],[0.7777777777777778,\"#fb9f3a\"],[0.8888888888888888,\"#fdca26\"],[1.0,\"#f0f921\"]]}],\"heatmapgl\":[{\"type\":\"heatmapgl\",\"colorbar\":{\"outlinewidth\":0,\"ticks\":\"\"},\"colorscale\":[[0.0,\"#0d0887\"],[0.1111111111111111,\"#46039f\"],[0.2222222222222222,\"#7201a8\"],[0.3333333333333333,\"#9c179e\"],[0.4444444444444444,\"#bd3786\"],[0.5555555555555556,\"#d8576b\"],[0.6666666666666666,\"#ed7953\"],[0.7777777777777778,\"#fb9f3a\"],[0.8888888888888888,\"#fdca26\"],[1.0,\"#f0f921\"]]}],\"contourcarpet\":[{\"type\":\"contourcarpet\",\"colorbar\":{\"outlinewidth\":0,\"ticks\":\"\"}}],\"contour\":[{\"type\":\"contour\",\"colorbar\":{\"outlinewidth\":0,\"ticks\":\"\"},\"colorscale\":[[0.0,\"#0d0887\"],[0.1111111111111111,\"#46039f\"],[0.2222222222222222,\"#7201a8\"],[0.3333333333333333,\"#9c179e\"],[0.4444444444444444,\"#bd3786\"],[0.5555555555555556,\"#d8576b\"],[0.6666666666666666,\"#ed7953\"],[0.7777777777777778,\"#fb9f3a\"],[0.8888888888888888,\"#fdca26\"],[1.0,\"#f0f921\"]]}],\"surface\":[{\"type\":\"surface\",\"colorbar\":{\"outlinewidth\":0,\"ticks\":\"\"},\"colorscale\":[[0.0,\"#0d0887\"],[0.1111111111111111,\"#46039f\"],[0.2222222222222222,\"#7201a8\"],[0.3333333333333333,\"#9c179e\"],[0.4444444444444444,\"#bd3786\"],[0.5555555555555556,\"#d8576b\"],[0.6666666666666666,\"#ed7953\"],[0.7777777777777778,\"#fb9f3a\"],[0.8888888888888888,\"#fdca26\"],[1.0,\"#f0f921\"]]}],\"mesh3d\":[{\"type\":\"mesh3d\",\"colorbar\":{\"outlinewidth\":0,\"ticks\":\"\"}}],\"scatter\":[{\"fillpattern\":{\"fillmode\":\"overlay\",\"size\":10,\"solidity\":0.2},\"type\":\"scatter\"}],\"parcoords\":[{\"type\":\"parcoords\",\"line\":{\"colorbar\":{\"outlinewidth\":0,\"ticks\":\"\"}}}],\"scatterpolargl\":[{\"type\":\"scatterpolargl\",\"marker\":{\"colorbar\":{\"outlinewidth\":0,\"ticks\":\"\"}}}],\"bar\":[{\"error_x\":{\"color\":\"#2a3f5f\"},\"error_y\":{\"color\":\"#2a3f5f\"},\"marker\":{\"line\":{\"color\":\"#E5ECF6\",\"width\":0.5},\"pattern\":{\"fillmode\":\"overlay\",\"size\":10,\"solidity\":0.2}},\"type\":\"bar\"}],\"scattergeo\":[{\"type\":\"scattergeo\",\"marker\":{\"colorbar\":{\"outlinewidth\":0,\"ticks\":\"\"}}}],\"scatterpolar\":[{\"type\":\"scatterpolar\",\"marker\":{\"colorbar\":{\"outlinewidth\":0,\"ticks\":\"\"}}}],\"histogram\":[{\"marker\":{\"pattern\":{\"fillmode\":\"overlay\",\"size\":10,\"solidity\":0.2}},\"type\":\"histogram\"}],\"scattergl\":[{\"type\":\"scattergl\",\"marker\":{\"colorbar\":{\"outlinewidth\":0,\"ticks\":\"\"}}}],\"scatter3d\":[{\"type\":\"scatter3d\",\"line\":{\"colorbar\":{\"outlinewidth\":0,\"ticks\":\"\"}},\"marker\":{\"colorbar\":{\"outlinewidth\":0,\"ticks\":\"\"}}}],\"scattermapbox\":[{\"type\":\"scattermapbox\",\"marker\":{\"colorbar\":{\"outlinewidth\":0,\"ticks\":\"\"}}}],\"scatterternary\":[{\"type\":\"scatterternary\",\"marker\":{\"colorbar\":{\"outlinewidth\":0,\"ticks\":\"\"}}}],\"scattercarpet\":[{\"type\":\"scattercarpet\",\"marker\":{\"colorbar\":{\"outlinewidth\":0,\"ticks\":\"\"}}}],\"carpet\":[{\"aaxis\":{\"endlinecolor\":\"#2a3f5f\",\"gridcolor\":\"white\",\"linecolor\":\"white\",\"minorgridcolor\":\"white\",\"startlinecolor\":\"#2a3f5f\"},\"baxis\":{\"endlinecolor\":\"#2a3f5f\",\"gridcolor\":\"white\",\"linecolor\":\"white\",\"minorgridcolor\":\"white\",\"startlinecolor\":\"#2a3f5f\"},\"type\":\"carpet\"}],\"table\":[{\"cells\":{\"fill\":{\"color\":\"#EBF0F8\"},\"line\":{\"color\":\"white\"}},\"header\":{\"fill\":{\"color\":\"#C8D4E3\"},\"line\":{\"color\":\"white\"}},\"type\":\"table\"}],\"barpolar\":[{\"marker\":{\"line\":{\"color\":\"#E5ECF6\",\"width\":0.5},\"pattern\":{\"fillmode\":\"overlay\",\"size\":10,\"solidity\":0.2}},\"type\":\"barpolar\"}],\"pie\":[{\"automargin\":true,\"type\":\"pie\"}]},\"layout\":{\"autotypenumbers\":\"strict\",\"colorway\":[\"#636efa\",\"#EF553B\",\"#00cc96\",\"#ab63fa\",\"#FFA15A\",\"#19d3f3\",\"#FF6692\",\"#B6E880\",\"#FF97FF\",\"#FECB52\"],\"font\":{\"color\":\"#2a3f5f\"},\"hovermode\":\"closest\",\"hoverlabel\":{\"align\":\"left\"},\"paper_bgcolor\":\"white\",\"plot_bgcolor\":\"#E5ECF6\",\"polar\":{\"bgcolor\":\"#E5ECF6\",\"angularaxis\":{\"gridcolor\":\"white\",\"linecolor\":\"white\",\"ticks\":\"\"},\"radialaxis\":{\"gridcolor\":\"white\",\"linecolor\":\"white\",\"ticks\":\"\"}},\"ternary\":{\"bgcolor\":\"#E5ECF6\",\"aaxis\":{\"gridcolor\":\"white\",\"linecolor\":\"white\",\"ticks\":\"\"},\"baxis\":{\"gridcolor\":\"white\",\"linecolor\":\"white\",\"ticks\":\"\"},\"caxis\":{\"gridcolor\":\"white\",\"linecolor\":\"white\",\"ticks\":\"\"}},\"coloraxis\":{\"colorbar\":{\"outlinewidth\":0,\"ticks\":\"\"}},\"colorscale\":{\"sequential\":[[0.0,\"#0d0887\"],[0.1111111111111111,\"#46039f\"],[0.2222222222222222,\"#7201a8\"],[0.3333333333333333,\"#9c179e\"],[0.4444444444444444,\"#bd3786\"],[0.5555555555555556,\"#d8576b\"],[0.6666666666666666,\"#ed7953\"],[0.7777777777777778,\"#fb9f3a\"],[0.8888888888888888,\"#fdca26\"],[1.0,\"#f0f921\"]],\"sequentialminus\":[[0.0,\"#0d0887\"],[0.1111111111111111,\"#46039f\"],[0.2222222222222222,\"#7201a8\"],[0.3333333333333333,\"#9c179e\"],[0.4444444444444444,\"#bd3786\"],[0.5555555555555556,\"#d8576b\"],[0.6666666666666666,\"#ed7953\"],[0.7777777777777778,\"#fb9f3a\"],[0.8888888888888888,\"#fdca26\"],[1.0,\"#f0f921\"]],\"diverging\":[[0,\"#8e0152\"],[0.1,\"#c51b7d\"],[0.2,\"#de77ae\"],[0.3,\"#f1b6da\"],[0.4,\"#fde0ef\"],[0.5,\"#f7f7f7\"],[0.6,\"#e6f5d0\"],[0.7,\"#b8e186\"],[0.8,\"#7fbc41\"],[0.9,\"#4d9221\"],[1,\"#276419\"]]},\"xaxis\":{\"gridcolor\":\"white\",\"linecolor\":\"white\",\"ticks\":\"\",\"title\":{\"standoff\":15},\"zerolinecolor\":\"white\",\"automargin\":true,\"zerolinewidth\":2},\"yaxis\":{\"gridcolor\":\"white\",\"linecolor\":\"white\",\"ticks\":\"\",\"title\":{\"standoff\":15},\"zerolinecolor\":\"white\",\"automargin\":true,\"zerolinewidth\":2},\"scene\":{\"xaxis\":{\"backgroundcolor\":\"#E5ECF6\",\"gridcolor\":\"white\",\"linecolor\":\"white\",\"showbackground\":true,\"ticks\":\"\",\"zerolinecolor\":\"white\",\"gridwidth\":2},\"yaxis\":{\"backgroundcolor\":\"#E5ECF6\",\"gridcolor\":\"white\",\"linecolor\":\"white\",\"showbackground\":true,\"ticks\":\"\",\"zerolinecolor\":\"white\",\"gridwidth\":2},\"zaxis\":{\"backgroundcolor\":\"#E5ECF6\",\"gridcolor\":\"white\",\"linecolor\":\"white\",\"showbackground\":true,\"ticks\":\"\",\"zerolinecolor\":\"white\",\"gridwidth\":2}},\"shapedefaults\":{\"line\":{\"color\":\"#2a3f5f\"}},\"annotationdefaults\":{\"arrowcolor\":\"#2a3f5f\",\"arrowhead\":0,\"arrowwidth\":1},\"geo\":{\"bgcolor\":\"white\",\"landcolor\":\"#E5ECF6\",\"subunitcolor\":\"white\",\"showland\":true,\"showlakes\":true,\"lakecolor\":\"white\"},\"title\":{\"x\":0.05},\"mapbox\":{\"style\":\"light\"}}},\"xaxis\":{\"anchor\":\"y\",\"domain\":[0.0,1.0],\"title\":{\"text\":\"orientation\"},\"range\":[-1,1]},\"yaxis\":{\"anchor\":\"x\",\"domain\":[0.0,1.0],\"title\":{\"text\":\"progvscons\"},\"range\":[-1,1]},\"legend\":{\"title\":{\"text\":\"\\u00c2ge\"},\"tracegroupgap\":0},\"margin\":{\"t\":60}},                        {\"responsive\": true}                    ).then(function(){\n",
       "                            \n",
       "var gd = document.getElementById('3e6cfe33-c718-4427-b983-9d0d613abbd1');\n",
       "var x = new MutationObserver(function (mutations, observer) {{\n",
       "        var display = window.getComputedStyle(gd).display;\n",
       "        if (!display || display === 'none') {{\n",
       "            console.log([gd, 'removed!']);\n",
       "            Plotly.purge(gd);\n",
       "            observer.disconnect();\n",
       "        }}\n",
       "}});\n",
       "\n",
       "// Listen for the removal of the full notebook cells\n",
       "var notebookContainer = gd.closest('#notebook-container');\n",
       "if (notebookContainer) {{\n",
       "    x.observe(notebookContainer, {childList: true});\n",
       "}}\n",
       "\n",
       "// Listen for the clearing of the current output cell\n",
       "var outputEl = gd.closest('.output');\n",
       "if (outputEl) {{\n",
       "    x.observe(outputEl, {childList: true});\n",
       "}}\n",
       "\n",
       "                        })                };                });            </script>        </div>"
      ]
     },
     "metadata": {},
     "output_type": "display_data"
    }
   ],
   "source": [
    "fig = px.scatter(counts_df, x=\"orientation\", y=\"progvscons\",  color='Âge', hover_name='name')\n",
    "fig.update_xaxes(range=[-1, 1])\n",
    "fig.update_yaxes(range=[-1, 1])\n",
    "fig.show()"
   ]
  },
  {
   "cell_type": "code",
   "execution_count": 20,
   "id": "c810d051",
   "metadata": {},
   "outputs": [
    {
     "data": {
      "text/html": [
       "<div>\n",
       "<style scoped>\n",
       "    .dataframe tbody tr th:only-of-type {\n",
       "        vertical-align: middle;\n",
       "    }\n",
       "\n",
       "    .dataframe tbody tr th {\n",
       "        vertical-align: top;\n",
       "    }\n",
       "\n",
       "    .dataframe thead th {\n",
       "        text-align: right;\n",
       "    }\n",
       "</style>\n",
       "<table border=\"1\" class=\"dataframe\">\n",
       "  <thead>\n",
       "    <tr style=\"text-align: right;\">\n",
       "      <th></th>\n",
       "      <th>name</th>\n",
       "      <th>group</th>\n",
       "      <th>Âge</th>\n",
       "      <th>District</th>\n",
       "      <th>Genre</th>\n",
       "      <th>orientation</th>\n",
       "      <th>progvscons</th>\n",
       "    </tr>\n",
       "  </thead>\n",
       "  <tbody>\n",
       "    <tr>\n",
       "      <th>0</th>\n",
       "      <td>Adeline CRETTENAND</td>\n",
       "      <td>VLR</td>\n",
       "      <td>18-30</td>\n",
       "      <td>Martigny</td>\n",
       "      <td>F</td>\n",
       "      <td>0.333333</td>\n",
       "      <td>0.200000</td>\n",
       "    </tr>\n",
       "    <tr>\n",
       "      <th>1</th>\n",
       "      <td>Alain DUBOSSON</td>\n",
       "      <td>UDC</td>\n",
       "      <td>18-30</td>\n",
       "      <td>Monthey</td>\n",
       "      <td>H</td>\n",
       "      <td>0.769231</td>\n",
       "      <td>0.761905</td>\n",
       "    </tr>\n",
       "    <tr>\n",
       "      <th>2</th>\n",
       "      <td>Alain LÉGER</td>\n",
       "      <td>PDC</td>\n",
       "      <td>30-45</td>\n",
       "      <td>Martigny</td>\n",
       "      <td>H</td>\n",
       "      <td>0.150000</td>\n",
       "      <td>0.054054</td>\n",
       "    </tr>\n",
       "    <tr>\n",
       "      <th>3</th>\n",
       "      <td>Alain SCHÖNBETT</td>\n",
       "      <td>VLR</td>\n",
       "      <td>65+</td>\n",
       "      <td>Monthey</td>\n",
       "      <td>H</td>\n",
       "      <td>-0.333333</td>\n",
       "      <td>-0.470588</td>\n",
       "    </tr>\n",
       "    <tr>\n",
       "      <th>4</th>\n",
       "      <td>Alex BONVIN</td>\n",
       "      <td>UDC</td>\n",
       "      <td>45-65</td>\n",
       "      <td>Sierre</td>\n",
       "      <td>H</td>\n",
       "      <td>0.700000</td>\n",
       "      <td>0.647059</td>\n",
       "    </tr>\n",
       "  </tbody>\n",
       "</table>\n",
       "</div>"
      ],
      "text/plain": [
       "                 name group    Âge  District Genre  orientation  progvscons\n",
       "0  Adeline CRETTENAND   VLR  18-30  Martigny     F     0.333333    0.200000\n",
       "1      Alain DUBOSSON   UDC  18-30   Monthey     H     0.769231    0.761905\n",
       "2         Alain LÉGER   PDC  30-45  Martigny     H     0.150000    0.054054\n",
       "3     Alain SCHÖNBETT   VLR    65+   Monthey     H    -0.333333   -0.470588\n",
       "4         Alex BONVIN   UDC  45-65    Sierre     H     0.700000    0.647059"
      ]
     },
     "execution_count": 20,
     "metadata": {},
     "output_type": "execute_result"
    }
   ],
   "source": [
    "counts_df = counts_df.drop(labels='vote', axis=1)\n",
    "counts_df.head()"
   ]
  },
  {
   "cell_type": "code",
   "execution_count": 21,
   "id": "b5a57703",
   "metadata": {
    "scrolled": true
   },
   "outputs": [
    {
     "data": {
      "text/html": [
       "<div>\n",
       "<style scoped>\n",
       "    .dataframe tbody tr th:only-of-type {\n",
       "        vertical-align: middle;\n",
       "    }\n",
       "\n",
       "    .dataframe tbody tr th {\n",
       "        vertical-align: top;\n",
       "    }\n",
       "\n",
       "    .dataframe thead th {\n",
       "        text-align: right;\n",
       "    }\n",
       "</style>\n",
       "<table border=\"1\" class=\"dataframe\">\n",
       "  <thead>\n",
       "    <tr style=\"text-align: right;\">\n",
       "      <th></th>\n",
       "      <th>Unnamed: 0</th>\n",
       "      <th>label</th>\n",
       "      <th>affairVoteId</th>\n",
       "      <th>meaningYesText</th>\n",
       "      <th>meaningNoText</th>\n",
       "      <th>numYes</th>\n",
       "      <th>numNo</th>\n",
       "      <th>numAbst</th>\n",
       "      <th>section</th>\n",
       "      <th>artId</th>\n",
       "      <th>orientation_art</th>\n",
       "      <th>progvscons_art</th>\n",
       "      <th>name</th>\n",
       "      <th>group</th>\n",
       "      <th>vote</th>\n",
       "      <th>Genre</th>\n",
       "      <th>Âge</th>\n",
       "      <th>District</th>\n",
       "      <th>orientation_dep</th>\n",
       "      <th>progvscons_dep</th>\n",
       "    </tr>\n",
       "  </thead>\n",
       "  <tbody>\n",
       "    <tr>\n",
       "      <th>0</th>\n",
       "      <td>580</td>\n",
       "      <td>606, vote 1 : Commission contre A-606.28 CVPO/...</td>\n",
       "      <td>20211207160250</td>\n",
       "      <td>En l’absence d’un congé parental fédéral, l’Ét...</td>\n",
       "      <td>(néant)</td>\n",
       "      <td>68</td>\n",
       "      <td>35</td>\n",
       "      <td>4</td>\n",
       "      <td>1ère lecture - Commission 6</td>\n",
       "      <td>606</td>\n",
       "      <td>-1</td>\n",
       "      <td>-1</td>\n",
       "      <td>Matteo ABÄCHERLI</td>\n",
       "      <td>CVPO</td>\n",
       "      <td>-1.0</td>\n",
       "      <td>H</td>\n",
       "      <td>30-45</td>\n",
       "      <td>Visp</td>\n",
       "      <td>0.428571</td>\n",
       "      <td>0.368421</td>\n",
       "    </tr>\n",
       "    <tr>\n",
       "      <th>1</th>\n",
       "      <td>593</td>\n",
       "      <td>603, vote 4 : Commission (y.c. V/A 1-3) contre...</td>\n",
       "      <td>20211207144242</td>\n",
       "      <td>Art. 603 Enfance&lt;br/&gt;\\n&lt;ol&gt;&lt;li&gt;L’État et les c...</td>\n",
       "      <td>(néant)</td>\n",
       "      <td>90</td>\n",
       "      <td>14</td>\n",
       "      <td>1</td>\n",
       "      <td>1ère lecture - Commission 6</td>\n",
       "      <td>603</td>\n",
       "      <td>-1</td>\n",
       "      <td>-1</td>\n",
       "      <td>Matteo ABÄCHERLI</td>\n",
       "      <td>CVPO</td>\n",
       "      <td>1.0</td>\n",
       "      <td>H</td>\n",
       "      <td>30-45</td>\n",
       "      <td>Visp</td>\n",
       "      <td>0.428571</td>\n",
       "      <td>0.368421</td>\n",
       "    </tr>\n",
       "    <tr>\n",
       "      <th>2</th>\n",
       "      <td>596</td>\n",
       "      <td>602, vote 2 : Commission (y.c. V/A 1) contre A...</td>\n",
       "      <td>20211207143809</td>\n",
       "      <td>L'État et les communes développent une\\npoliti...</td>\n",
       "      <td>(néant)</td>\n",
       "      <td>89</td>\n",
       "      <td>14</td>\n",
       "      <td>2</td>\n",
       "      <td>1ère lecture - Commission 6</td>\n",
       "      <td>602</td>\n",
       "      <td>-1</td>\n",
       "      <td>-1</td>\n",
       "      <td>Matteo ABÄCHERLI</td>\n",
       "      <td>CVPO</td>\n",
       "      <td>1.0</td>\n",
       "      <td>H</td>\n",
       "      <td>30-45</td>\n",
       "      <td>Visp</td>\n",
       "      <td>0.428571</td>\n",
       "      <td>0.368421</td>\n",
       "    </tr>\n",
       "    <tr>\n",
       "      <th>3</th>\n",
       "      <td>632</td>\n",
       "      <td>503, vote 2 : Résultat V/A 1 contre A-503.14 U...</td>\n",
       "      <td>20211207092238</td>\n",
       "      <td>L’État prend des mesures propres à lutter cont...</td>\n",
       "      <td>(néant)</td>\n",
       "      <td>92</td>\n",
       "      <td>12</td>\n",
       "      <td>1</td>\n",
       "      <td>1ère lecture - Commission 5</td>\n",
       "      <td>503</td>\n",
       "      <td>-1</td>\n",
       "      <td>-1</td>\n",
       "      <td>Matteo ABÄCHERLI</td>\n",
       "      <td>CVPO</td>\n",
       "      <td>1.0</td>\n",
       "      <td>H</td>\n",
       "      <td>30-45</td>\n",
       "      <td>Visp</td>\n",
       "      <td>0.428571</td>\n",
       "      <td>0.368421</td>\n",
       "    </tr>\n",
       "    <tr>\n",
       "      <th>4</th>\n",
       "      <td>648</td>\n",
       "      <td>418/915, vote 13 : Art. 418 commission 4 (y.c....</td>\n",
       "      <td>20211125161611</td>\n",
       "      <td>1 L’État est doté d’une ou plusieurs autorit...</td>\n",
       "      <td>1 &lt;u&gt;Plusieurs&lt;/u&gt; autorités assurent en tout...</td>\n",
       "      <td>64</td>\n",
       "      <td>48</td>\n",
       "      <td>1</td>\n",
       "      <td>1ère lecture - Commission 4</td>\n",
       "      <td>418</td>\n",
       "      <td>0</td>\n",
       "      <td>1</td>\n",
       "      <td>Matteo ABÄCHERLI</td>\n",
       "      <td>CVPO</td>\n",
       "      <td>1.0</td>\n",
       "      <td>H</td>\n",
       "      <td>30-45</td>\n",
       "      <td>Visp</td>\n",
       "      <td>0.428571</td>\n",
       "      <td>0.368421</td>\n",
       "    </tr>\n",
       "    <tr>\n",
       "      <th>5</th>\n",
       "      <td>657</td>\n",
       "      <td>418, al.3n, vote 2 : Commission contre A-418.7...</td>\n",
       "      <td>20211125160409</td>\n",
       "      <td>(néant)</td>\n",
       "      <td>Les organes dirigeants sont désignés par le ...</td>\n",
       "      <td>15</td>\n",
       "      <td>93</td>\n",
       "      <td>5</td>\n",
       "      <td>1ère lecture - Commission 4</td>\n",
       "      <td>418</td>\n",
       "      <td>0</td>\n",
       "      <td>1</td>\n",
       "      <td>Matteo ABÄCHERLI</td>\n",
       "      <td>CVPO</td>\n",
       "      <td>-1.0</td>\n",
       "      <td>H</td>\n",
       "      <td>30-45</td>\n",
       "      <td>Visp</td>\n",
       "      <td>0.428571</td>\n",
       "      <td>0.368421</td>\n",
       "    </tr>\n",
       "    <tr>\n",
       "      <th>6</th>\n",
       "      <td>658</td>\n",
       "      <td>418, al.1, vote 1 : Commission contre A-418.74...</td>\n",
       "      <td>20211125160314</td>\n",
       "      <td>Une ou plusieurs autorités assurent le contrôl...</td>\n",
       "      <td>Une seule autorité...</td>\n",
       "      <td>83</td>\n",
       "      <td>29</td>\n",
       "      <td>1</td>\n",
       "      <td>1ère lecture - Commission 4</td>\n",
       "      <td>418</td>\n",
       "      <td>0</td>\n",
       "      <td>-1</td>\n",
       "      <td>Matteo ABÄCHERLI</td>\n",
       "      <td>CVPO</td>\n",
       "      <td>-1.0</td>\n",
       "      <td>H</td>\n",
       "      <td>30-45</td>\n",
       "      <td>Visp</td>\n",
       "      <td>0.428571</td>\n",
       "      <td>0.368421</td>\n",
       "    </tr>\n",
       "    <tr>\n",
       "      <th>7</th>\n",
       "      <td>665</td>\n",
       "      <td>416a, vote 9 : Commission contre A-416a.67 AC</td>\n",
       "      <td>20211125145141</td>\n",
       "      <td>(néant)</td>\n",
       "      <td>La loi fixe un quotient familial afin d’attén...</td>\n",
       "      <td>47</td>\n",
       "      <td>53</td>\n",
       "      <td>18</td>\n",
       "      <td>1ère lecture - Commission 4</td>\n",
       "      <td>416</td>\n",
       "      <td>1</td>\n",
       "      <td>1</td>\n",
       "      <td>Matteo ABÄCHERLI</td>\n",
       "      <td>CVPO</td>\n",
       "      <td>1.0</td>\n",
       "      <td>H</td>\n",
       "      <td>30-45</td>\n",
       "      <td>Visp</td>\n",
       "      <td>0.428571</td>\n",
       "      <td>0.368421</td>\n",
       "    </tr>\n",
       "    <tr>\n",
       "      <th>8</th>\n",
       "      <td>687</td>\n",
       "      <td>411a, vote 1 : Commission vs A-411a.45 AC</td>\n",
       "      <td>20211125101932</td>\n",
       "      <td>(néant)</td>\n",
       "      <td>L'Etat met librement à disposition les jeux d...</td>\n",
       "      <td>56</td>\n",
       "      <td>51</td>\n",
       "      <td>6</td>\n",
       "      <td>1ère lecture - Commission 4</td>\n",
       "      <td>411</td>\n",
       "      <td>-1</td>\n",
       "      <td>1</td>\n",
       "      <td>Matteo ABÄCHERLI</td>\n",
       "      <td>CVPO</td>\n",
       "      <td>1.0</td>\n",
       "      <td>H</td>\n",
       "      <td>30-45</td>\n",
       "      <td>Visp</td>\n",
       "      <td>0.428571</td>\n",
       "      <td>0.368421</td>\n",
       "    </tr>\n",
       "    <tr>\n",
       "      <th>9</th>\n",
       "      <td>740</td>\n",
       "      <td>905, vote 5 : Commission (y.c. V/A 1-4) contre...</td>\n",
       "      <td>20211123122108</td>\n",
       "      <td>Il est institué un tribunal du droit de la fa...</td>\n",
       "      <td>(biffer)</td>\n",
       "      <td>69</td>\n",
       "      <td>36</td>\n",
       "      <td>10</td>\n",
       "      <td>1ère lecture - Commission 9</td>\n",
       "      <td>905</td>\n",
       "      <td>-1</td>\n",
       "      <td>-1</td>\n",
       "      <td>Matteo ABÄCHERLI</td>\n",
       "      <td>CVPO</td>\n",
       "      <td>-1.0</td>\n",
       "      <td>H</td>\n",
       "      <td>30-45</td>\n",
       "      <td>Visp</td>\n",
       "      <td>0.428571</td>\n",
       "      <td>0.368421</td>\n",
       "    </tr>\n",
       "  </tbody>\n",
       "</table>\n",
       "</div>"
      ],
      "text/plain": [
       "   Unnamed: 0                                              label  \\\n",
       "0         580  606, vote 1 : Commission contre A-606.28 CVPO/...   \n",
       "1         593  603, vote 4 : Commission (y.c. V/A 1-3) contre...   \n",
       "2         596  602, vote 2 : Commission (y.c. V/A 1) contre A...   \n",
       "3         632  503, vote 2 : Résultat V/A 1 contre A-503.14 U...   \n",
       "4         648  418/915, vote 13 : Art. 418 commission 4 (y.c....   \n",
       "5         657  418, al.3n, vote 2 : Commission contre A-418.7...   \n",
       "6         658  418, al.1, vote 1 : Commission contre A-418.74...   \n",
       "7         665      416a, vote 9 : Commission contre A-416a.67 AC   \n",
       "8         687          411a, vote 1 : Commission vs A-411a.45 AC   \n",
       "9         740  905, vote 5 : Commission (y.c. V/A 1-4) contre...   \n",
       "\n",
       "     affairVoteId                                     meaningYesText  \\\n",
       "0  20211207160250  En l’absence d’un congé parental fédéral, l’Ét...   \n",
       "1  20211207144242  Art. 603 Enfance<br/>\\n<ol><li>L’État et les c...   \n",
       "2  20211207143809  L'État et les communes développent une\\npoliti...   \n",
       "3  20211207092238  L’État prend des mesures propres à lutter cont...   \n",
       "4  20211125161611  1 L’État est doté d’une ou plusieurs autorit...   \n",
       "5  20211125160409                                            (néant)   \n",
       "6  20211125160314  Une ou plusieurs autorités assurent le contrôl...   \n",
       "7  20211125145141                                            (néant)   \n",
       "8  20211125101932                                            (néant)   \n",
       "9  20211123122108  Il est institué un tribunal du droit de la fa...   \n",
       "\n",
       "                                       meaningNoText  numYes  numNo  numAbst  \\\n",
       "0                                            (néant)      68     35        4   \n",
       "1                                            (néant)      90     14        1   \n",
       "2                                            (néant)      89     14        2   \n",
       "3                                            (néant)      92     12        1   \n",
       "4  1 <u>Plusieurs</u> autorités assurent en tout...      64     48        1   \n",
       "5  Les organes dirigeants sont désignés par le ...      15     93        5   \n",
       "6                              Une seule autorité...      83     29        1   \n",
       "7  La loi fixe un quotient familial afin d’attén...      47     53       18   \n",
       "8  L'Etat met librement à disposition les jeux d...      56     51        6   \n",
       "9                                           (biffer)      69     36       10   \n",
       "\n",
       "                       section  artId  orientation_art  progvscons_art  \\\n",
       "0  1ère lecture - Commission 6    606               -1              -1   \n",
       "1  1ère lecture - Commission 6    603               -1              -1   \n",
       "2  1ère lecture - Commission 6    602               -1              -1   \n",
       "3  1ère lecture - Commission 5    503               -1              -1   \n",
       "4  1ère lecture - Commission 4    418                0               1   \n",
       "5  1ère lecture - Commission 4    418                0               1   \n",
       "6  1ère lecture - Commission 4    418                0              -1   \n",
       "7  1ère lecture - Commission 4    416                1               1   \n",
       "8  1ère lecture - Commission 4    411               -1               1   \n",
       "9  1ère lecture - Commission 9    905               -1              -1   \n",
       "\n",
       "               name group  vote Genre    Âge District  orientation_dep  \\\n",
       "0  Matteo ABÄCHERLI  CVPO  -1.0     H  30-45     Visp         0.428571   \n",
       "1  Matteo ABÄCHERLI  CVPO   1.0     H  30-45     Visp         0.428571   \n",
       "2  Matteo ABÄCHERLI  CVPO   1.0     H  30-45     Visp         0.428571   \n",
       "3  Matteo ABÄCHERLI  CVPO   1.0     H  30-45     Visp         0.428571   \n",
       "4  Matteo ABÄCHERLI  CVPO   1.0     H  30-45     Visp         0.428571   \n",
       "5  Matteo ABÄCHERLI  CVPO  -1.0     H  30-45     Visp         0.428571   \n",
       "6  Matteo ABÄCHERLI  CVPO  -1.0     H  30-45     Visp         0.428571   \n",
       "7  Matteo ABÄCHERLI  CVPO   1.0     H  30-45     Visp         0.428571   \n",
       "8  Matteo ABÄCHERLI  CVPO   1.0     H  30-45     Visp         0.428571   \n",
       "9  Matteo ABÄCHERLI  CVPO  -1.0     H  30-45     Visp         0.428571   \n",
       "\n",
       "   progvscons_dep  \n",
       "0        0.368421  \n",
       "1        0.368421  \n",
       "2        0.368421  \n",
       "3        0.368421  \n",
       "4        0.368421  \n",
       "5        0.368421  \n",
       "6        0.368421  \n",
       "7        0.368421  \n",
       "8        0.368421  \n",
       "9        0.368421  "
      ]
     },
     "execution_count": 21,
     "metadata": {},
     "output_type": "execute_result"
    }
   ],
   "source": [
    "merged_df = pd.merge(final_df, counts_df, on=['name', 'group', 'Âge', 'Genre', 'District'], how='inner')\n",
    "merged_df.rename(columns={'orientation_x': 'orientation_art', 'progvscons_x': 'progvscons_art', 'orientation_y': 'orientation_dep', 'progvscons_y': 'progvscons_dep'}, inplace=True)\n",
    "#We drop the columns that do not have any value\n",
    "merged_df = merged_df[~merged_df.isnull().any(axis=1)]\n",
    "merged_df = merged_df[merged_df['vote'] != 0]\n",
    "merged_df = merged_df.reset_index(drop=True)\n",
    "merged_df.head(10)"
   ]
  },
  {
   "cell_type": "markdown",
   "id": "83cae1b9",
   "metadata": {},
   "source": [
    "We create a dataframe with only the categorical variables that we will use later for the embedding "
   ]
  },
  {
   "cell_type": "code",
   "execution_count": 22,
   "id": "c38de3a7",
   "metadata": {},
   "outputs": [],
   "source": [
    "cat_df = merged_df.select_dtypes(include=['object']).copy()"
   ]
  },
  {
   "cell_type": "markdown",
   "id": "bb2a3d5a",
   "metadata": {},
   "source": [
    "We now delete the columns that we do not need anymore to start preparing the final dataset"
   ]
  },
  {
   "cell_type": "code",
   "execution_count": 23,
   "id": "94d9a101",
   "metadata": {
    "scrolled": false
   },
   "outputs": [],
   "source": [
    "merged_df = merged_df.drop(['label', 'numAbst', 'artId', 'numYes', 'numNo', 'name', 'affairVoteId', 'meaningYesText', 'meaningNoText', 'section','Unnamed: 0'], axis=1)"
   ]
  },
  {
   "cell_type": "code",
   "execution_count": 24,
   "id": "ec76d4cb",
   "metadata": {},
   "outputs": [
    {
     "data": {
      "text/html": [
       "<div>\n",
       "<style scoped>\n",
       "    .dataframe tbody tr th:only-of-type {\n",
       "        vertical-align: middle;\n",
       "    }\n",
       "\n",
       "    .dataframe tbody tr th {\n",
       "        vertical-align: top;\n",
       "    }\n",
       "\n",
       "    .dataframe thead th {\n",
       "        text-align: right;\n",
       "    }\n",
       "</style>\n",
       "<table border=\"1\" class=\"dataframe\">\n",
       "  <thead>\n",
       "    <tr style=\"text-align: right;\">\n",
       "      <th></th>\n",
       "      <th>orientation_art</th>\n",
       "      <th>progvscons_art</th>\n",
       "      <th>group</th>\n",
       "      <th>vote</th>\n",
       "      <th>Genre</th>\n",
       "      <th>Âge</th>\n",
       "      <th>District</th>\n",
       "      <th>orientation_dep</th>\n",
       "      <th>progvscons_dep</th>\n",
       "    </tr>\n",
       "  </thead>\n",
       "  <tbody>\n",
       "    <tr>\n",
       "      <th>0</th>\n",
       "      <td>-1</td>\n",
       "      <td>-1</td>\n",
       "      <td>CVPO</td>\n",
       "      <td>-1.0</td>\n",
       "      <td>H</td>\n",
       "      <td>30-45</td>\n",
       "      <td>Visp</td>\n",
       "      <td>0.428571</td>\n",
       "      <td>0.368421</td>\n",
       "    </tr>\n",
       "    <tr>\n",
       "      <th>1</th>\n",
       "      <td>-1</td>\n",
       "      <td>-1</td>\n",
       "      <td>CVPO</td>\n",
       "      <td>1.0</td>\n",
       "      <td>H</td>\n",
       "      <td>30-45</td>\n",
       "      <td>Visp</td>\n",
       "      <td>0.428571</td>\n",
       "      <td>0.368421</td>\n",
       "    </tr>\n",
       "    <tr>\n",
       "      <th>2</th>\n",
       "      <td>-1</td>\n",
       "      <td>-1</td>\n",
       "      <td>CVPO</td>\n",
       "      <td>1.0</td>\n",
       "      <td>H</td>\n",
       "      <td>30-45</td>\n",
       "      <td>Visp</td>\n",
       "      <td>0.428571</td>\n",
       "      <td>0.368421</td>\n",
       "    </tr>\n",
       "    <tr>\n",
       "      <th>3</th>\n",
       "      <td>-1</td>\n",
       "      <td>-1</td>\n",
       "      <td>CVPO</td>\n",
       "      <td>1.0</td>\n",
       "      <td>H</td>\n",
       "      <td>30-45</td>\n",
       "      <td>Visp</td>\n",
       "      <td>0.428571</td>\n",
       "      <td>0.368421</td>\n",
       "    </tr>\n",
       "    <tr>\n",
       "      <th>4</th>\n",
       "      <td>0</td>\n",
       "      <td>1</td>\n",
       "      <td>CVPO</td>\n",
       "      <td>1.0</td>\n",
       "      <td>H</td>\n",
       "      <td>30-45</td>\n",
       "      <td>Visp</td>\n",
       "      <td>0.428571</td>\n",
       "      <td>0.368421</td>\n",
       "    </tr>\n",
       "  </tbody>\n",
       "</table>\n",
       "</div>"
      ],
      "text/plain": [
       "   orientation_art  progvscons_art group  vote Genre    Âge District  \\\n",
       "0               -1              -1  CVPO  -1.0     H  30-45     Visp   \n",
       "1               -1              -1  CVPO   1.0     H  30-45     Visp   \n",
       "2               -1              -1  CVPO   1.0     H  30-45     Visp   \n",
       "3               -1              -1  CVPO   1.0     H  30-45     Visp   \n",
       "4                0               1  CVPO   1.0     H  30-45     Visp   \n",
       "\n",
       "   orientation_dep  progvscons_dep  \n",
       "0         0.428571        0.368421  \n",
       "1         0.428571        0.368421  \n",
       "2         0.428571        0.368421  \n",
       "3         0.428571        0.368421  \n",
       "4         0.428571        0.368421  "
      ]
     },
     "execution_count": 24,
     "metadata": {},
     "output_type": "execute_result"
    }
   ],
   "source": [
    "merged_df.head()"
   ]
  },
  {
   "cell_type": "markdown",
   "id": "6245cf02",
   "metadata": {},
   "source": [
    "# One hot encoding"
   ]
  },
  {
   "cell_type": "markdown",
   "id": "6d5654d1",
   "metadata": {},
   "source": [
    "We will now change the categorical vairbales into dummies variables"
   ]
  },
  {
   "cell_type": "code",
   "execution_count": 25,
   "id": "8e231045",
   "metadata": {},
   "outputs": [
    {
     "data": {
      "text/html": [
       "<div>\n",
       "<style scoped>\n",
       "    .dataframe tbody tr th:only-of-type {\n",
       "        vertical-align: middle;\n",
       "    }\n",
       "\n",
       "    .dataframe tbody tr th {\n",
       "        vertical-align: top;\n",
       "    }\n",
       "\n",
       "    .dataframe thead th {\n",
       "        text-align: right;\n",
       "    }\n",
       "</style>\n",
       "<table border=\"1\" class=\"dataframe\">\n",
       "  <thead>\n",
       "    <tr style=\"text-align: right;\">\n",
       "      <th></th>\n",
       "      <th>orientation_art</th>\n",
       "      <th>progvscons_art</th>\n",
       "      <th>vote</th>\n",
       "      <th>orientation_dep</th>\n",
       "      <th>progvscons_dep</th>\n",
       "      <th>Genre_F</th>\n",
       "      <th>Genre_H</th>\n",
       "      <th>Âge_18-30</th>\n",
       "      <th>Âge_30-45</th>\n",
       "      <th>Âge_45-65</th>\n",
       "      <th>...</th>\n",
       "      <th>group_AdG</th>\n",
       "      <th>group_CSPO</th>\n",
       "      <th>group_CVPO</th>\n",
       "      <th>group_INDEP</th>\n",
       "      <th>group_LES VERTS</th>\n",
       "      <th>group_PDC</th>\n",
       "      <th>group_SVPO</th>\n",
       "      <th>group_UDC</th>\n",
       "      <th>group_VLR</th>\n",
       "      <th>group_ZUK-VS</th>\n",
       "    </tr>\n",
       "  </thead>\n",
       "  <tbody>\n",
       "    <tr>\n",
       "      <th>0</th>\n",
       "      <td>-1</td>\n",
       "      <td>-1</td>\n",
       "      <td>-1.0</td>\n",
       "      <td>0.428571</td>\n",
       "      <td>0.368421</td>\n",
       "      <td>0</td>\n",
       "      <td>1</td>\n",
       "      <td>0</td>\n",
       "      <td>1</td>\n",
       "      <td>0</td>\n",
       "      <td>...</td>\n",
       "      <td>0</td>\n",
       "      <td>0</td>\n",
       "      <td>1</td>\n",
       "      <td>0</td>\n",
       "      <td>0</td>\n",
       "      <td>0</td>\n",
       "      <td>0</td>\n",
       "      <td>0</td>\n",
       "      <td>0</td>\n",
       "      <td>0</td>\n",
       "    </tr>\n",
       "    <tr>\n",
       "      <th>1</th>\n",
       "      <td>-1</td>\n",
       "      <td>-1</td>\n",
       "      <td>1.0</td>\n",
       "      <td>0.428571</td>\n",
       "      <td>0.368421</td>\n",
       "      <td>0</td>\n",
       "      <td>1</td>\n",
       "      <td>0</td>\n",
       "      <td>1</td>\n",
       "      <td>0</td>\n",
       "      <td>...</td>\n",
       "      <td>0</td>\n",
       "      <td>0</td>\n",
       "      <td>1</td>\n",
       "      <td>0</td>\n",
       "      <td>0</td>\n",
       "      <td>0</td>\n",
       "      <td>0</td>\n",
       "      <td>0</td>\n",
       "      <td>0</td>\n",
       "      <td>0</td>\n",
       "    </tr>\n",
       "    <tr>\n",
       "      <th>2</th>\n",
       "      <td>-1</td>\n",
       "      <td>-1</td>\n",
       "      <td>1.0</td>\n",
       "      <td>0.428571</td>\n",
       "      <td>0.368421</td>\n",
       "      <td>0</td>\n",
       "      <td>1</td>\n",
       "      <td>0</td>\n",
       "      <td>1</td>\n",
       "      <td>0</td>\n",
       "      <td>...</td>\n",
       "      <td>0</td>\n",
       "      <td>0</td>\n",
       "      <td>1</td>\n",
       "      <td>0</td>\n",
       "      <td>0</td>\n",
       "      <td>0</td>\n",
       "      <td>0</td>\n",
       "      <td>0</td>\n",
       "      <td>0</td>\n",
       "      <td>0</td>\n",
       "    </tr>\n",
       "    <tr>\n",
       "      <th>3</th>\n",
       "      <td>-1</td>\n",
       "      <td>-1</td>\n",
       "      <td>1.0</td>\n",
       "      <td>0.428571</td>\n",
       "      <td>0.368421</td>\n",
       "      <td>0</td>\n",
       "      <td>1</td>\n",
       "      <td>0</td>\n",
       "      <td>1</td>\n",
       "      <td>0</td>\n",
       "      <td>...</td>\n",
       "      <td>0</td>\n",
       "      <td>0</td>\n",
       "      <td>1</td>\n",
       "      <td>0</td>\n",
       "      <td>0</td>\n",
       "      <td>0</td>\n",
       "      <td>0</td>\n",
       "      <td>0</td>\n",
       "      <td>0</td>\n",
       "      <td>0</td>\n",
       "    </tr>\n",
       "    <tr>\n",
       "      <th>4</th>\n",
       "      <td>0</td>\n",
       "      <td>1</td>\n",
       "      <td>1.0</td>\n",
       "      <td>0.428571</td>\n",
       "      <td>0.368421</td>\n",
       "      <td>0</td>\n",
       "      <td>1</td>\n",
       "      <td>0</td>\n",
       "      <td>1</td>\n",
       "      <td>0</td>\n",
       "      <td>...</td>\n",
       "      <td>0</td>\n",
       "      <td>0</td>\n",
       "      <td>1</td>\n",
       "      <td>0</td>\n",
       "      <td>0</td>\n",
       "      <td>0</td>\n",
       "      <td>0</td>\n",
       "      <td>0</td>\n",
       "      <td>0</td>\n",
       "      <td>0</td>\n",
       "    </tr>\n",
       "  </tbody>\n",
       "</table>\n",
       "<p>5 rows × 36 columns</p>\n",
       "</div>"
      ],
      "text/plain": [
       "   orientation_art  progvscons_art  vote  orientation_dep  progvscons_dep  \\\n",
       "0               -1              -1  -1.0         0.428571        0.368421   \n",
       "1               -1              -1   1.0         0.428571        0.368421   \n",
       "2               -1              -1   1.0         0.428571        0.368421   \n",
       "3               -1              -1   1.0         0.428571        0.368421   \n",
       "4                0               1   1.0         0.428571        0.368421   \n",
       "\n",
       "   Genre_F  Genre_H  Âge_18-30  Âge_30-45  Âge_45-65  ...  group_AdG  \\\n",
       "0        0        1          0          1          0  ...          0   \n",
       "1        0        1          0          1          0  ...          0   \n",
       "2        0        1          0          1          0  ...          0   \n",
       "3        0        1          0          1          0  ...          0   \n",
       "4        0        1          0          1          0  ...          0   \n",
       "\n",
       "   group_CSPO  group_CVPO  group_INDEP  group_LES VERTS  group_PDC  \\\n",
       "0           0           1            0                0          0   \n",
       "1           0           1            0                0          0   \n",
       "2           0           1            0                0          0   \n",
       "3           0           1            0                0          0   \n",
       "4           0           1            0                0          0   \n",
       "\n",
       "   group_SVPO  group_UDC  group_VLR  group_ZUK-VS  \n",
       "0           0          0          0             0  \n",
       "1           0          0          0             0  \n",
       "2           0          0          0             0  \n",
       "3           0          0          0             0  \n",
       "4           0          0          0             0  \n",
       "\n",
       "[5 rows x 36 columns]"
      ]
     },
     "execution_count": 25,
     "metadata": {},
     "output_type": "execute_result"
    }
   ],
   "source": [
    "prepared_df = pd.get_dummies(merged_df, columns=['Genre', 'Âge', 'District', 'group'])\n",
    "prepared_df.head()"
   ]
  },
  {
   "cell_type": "code",
   "execution_count": 26,
   "id": "73730211",
   "metadata": {},
   "outputs": [],
   "source": [
    "prepared_df.to_csv('dataSetForML_Onehot.csv')"
   ]
  },
  {
   "cell_type": "markdown",
   "id": "840a7883",
   "metadata": {},
   "source": [
    "# Embedding"
   ]
  },
  {
   "cell_type": "markdown",
   "id": "b62d81ee",
   "metadata": {},
   "source": [
    "In this part, we will use embedding techniques to deal with categorical variables. We will do embedding for the following features:\n",
    "- group\n",
    "- district \n",
    "\n",
    "We will do one hot encoding for genre and age \\\n",
    "To do our embedding, we chose the embedding size based on the following formula:\\\n",
    "embedding_size = min(50, m+1/ 2)\\\n",
    "where m is the number of categories for a feature\n"
   ]
  },
  {
   "cell_type": "code",
   "execution_count": 27,
   "id": "6b78e0ef",
   "metadata": {},
   "outputs": [
    {
     "data": {
      "text/html": [
       "<div>\n",
       "<style scoped>\n",
       "    .dataframe tbody tr th:only-of-type {\n",
       "        vertical-align: middle;\n",
       "    }\n",
       "\n",
       "    .dataframe tbody tr th {\n",
       "        vertical-align: top;\n",
       "    }\n",
       "\n",
       "    .dataframe thead th {\n",
       "        text-align: right;\n",
       "    }\n",
       "</style>\n",
       "<table border=\"1\" class=\"dataframe\">\n",
       "  <thead>\n",
       "    <tr style=\"text-align: right;\">\n",
       "      <th></th>\n",
       "      <th>label</th>\n",
       "      <th>meaningYesText</th>\n",
       "      <th>meaningNoText</th>\n",
       "      <th>section</th>\n",
       "      <th>name</th>\n",
       "      <th>group</th>\n",
       "      <th>Genre</th>\n",
       "      <th>Âge</th>\n",
       "      <th>District</th>\n",
       "    </tr>\n",
       "  </thead>\n",
       "  <tbody>\n",
       "    <tr>\n",
       "      <th>0</th>\n",
       "      <td>606, vote 1 : Commission contre A-606.28 CVPO/...</td>\n",
       "      <td>En l’absence d’un congé parental fédéral, l’Ét...</td>\n",
       "      <td>(néant)</td>\n",
       "      <td>1ère lecture - Commission 6</td>\n",
       "      <td>Matteo ABÄCHERLI</td>\n",
       "      <td>CVPO</td>\n",
       "      <td>H</td>\n",
       "      <td>30-45</td>\n",
       "      <td>Visp</td>\n",
       "    </tr>\n",
       "    <tr>\n",
       "      <th>1</th>\n",
       "      <td>603, vote 4 : Commission (y.c. V/A 1-3) contre...</td>\n",
       "      <td>Art. 603 Enfance&lt;br/&gt;\\n&lt;ol&gt;&lt;li&gt;L’État et les c...</td>\n",
       "      <td>(néant)</td>\n",
       "      <td>1ère lecture - Commission 6</td>\n",
       "      <td>Matteo ABÄCHERLI</td>\n",
       "      <td>CVPO</td>\n",
       "      <td>H</td>\n",
       "      <td>30-45</td>\n",
       "      <td>Visp</td>\n",
       "    </tr>\n",
       "    <tr>\n",
       "      <th>2</th>\n",
       "      <td>602, vote 2 : Commission (y.c. V/A 1) contre A...</td>\n",
       "      <td>L'État et les communes développent une\\npoliti...</td>\n",
       "      <td>(néant)</td>\n",
       "      <td>1ère lecture - Commission 6</td>\n",
       "      <td>Matteo ABÄCHERLI</td>\n",
       "      <td>CVPO</td>\n",
       "      <td>H</td>\n",
       "      <td>30-45</td>\n",
       "      <td>Visp</td>\n",
       "    </tr>\n",
       "    <tr>\n",
       "      <th>3</th>\n",
       "      <td>503, vote 2 : Résultat V/A 1 contre A-503.14 U...</td>\n",
       "      <td>L’État prend des mesures propres à lutter cont...</td>\n",
       "      <td>(néant)</td>\n",
       "      <td>1ère lecture - Commission 5</td>\n",
       "      <td>Matteo ABÄCHERLI</td>\n",
       "      <td>CVPO</td>\n",
       "      <td>H</td>\n",
       "      <td>30-45</td>\n",
       "      <td>Visp</td>\n",
       "    </tr>\n",
       "    <tr>\n",
       "      <th>4</th>\n",
       "      <td>418/915, vote 13 : Art. 418 commission 4 (y.c....</td>\n",
       "      <td>1 L’État est doté d’une ou plusieurs autorit...</td>\n",
       "      <td>1 &lt;u&gt;Plusieurs&lt;/u&gt; autorités assurent en tout...</td>\n",
       "      <td>1ère lecture - Commission 4</td>\n",
       "      <td>Matteo ABÄCHERLI</td>\n",
       "      <td>CVPO</td>\n",
       "      <td>H</td>\n",
       "      <td>30-45</td>\n",
       "      <td>Visp</td>\n",
       "    </tr>\n",
       "    <tr>\n",
       "      <th>5</th>\n",
       "      <td>418, al.3n, vote 2 : Commission contre A-418.7...</td>\n",
       "      <td>(néant)</td>\n",
       "      <td>Les organes dirigeants sont désignés par le ...</td>\n",
       "      <td>1ère lecture - Commission 4</td>\n",
       "      <td>Matteo ABÄCHERLI</td>\n",
       "      <td>CVPO</td>\n",
       "      <td>H</td>\n",
       "      <td>30-45</td>\n",
       "      <td>Visp</td>\n",
       "    </tr>\n",
       "    <tr>\n",
       "      <th>6</th>\n",
       "      <td>418, al.1, vote 1 : Commission contre A-418.74...</td>\n",
       "      <td>Une ou plusieurs autorités assurent le contrôl...</td>\n",
       "      <td>Une seule autorité...</td>\n",
       "      <td>1ère lecture - Commission 4</td>\n",
       "      <td>Matteo ABÄCHERLI</td>\n",
       "      <td>CVPO</td>\n",
       "      <td>H</td>\n",
       "      <td>30-45</td>\n",
       "      <td>Visp</td>\n",
       "    </tr>\n",
       "    <tr>\n",
       "      <th>7</th>\n",
       "      <td>416a, vote 9 : Commission contre A-416a.67 AC</td>\n",
       "      <td>(néant)</td>\n",
       "      <td>La loi fixe un quotient familial afin d’attén...</td>\n",
       "      <td>1ère lecture - Commission 4</td>\n",
       "      <td>Matteo ABÄCHERLI</td>\n",
       "      <td>CVPO</td>\n",
       "      <td>H</td>\n",
       "      <td>30-45</td>\n",
       "      <td>Visp</td>\n",
       "    </tr>\n",
       "    <tr>\n",
       "      <th>8</th>\n",
       "      <td>411a, vote 1 : Commission vs A-411a.45 AC</td>\n",
       "      <td>(néant)</td>\n",
       "      <td>L'Etat met librement à disposition les jeux d...</td>\n",
       "      <td>1ère lecture - Commission 4</td>\n",
       "      <td>Matteo ABÄCHERLI</td>\n",
       "      <td>CVPO</td>\n",
       "      <td>H</td>\n",
       "      <td>30-45</td>\n",
       "      <td>Visp</td>\n",
       "    </tr>\n",
       "    <tr>\n",
       "      <th>9</th>\n",
       "      <td>905, vote 5 : Commission (y.c. V/A 1-4) contre...</td>\n",
       "      <td>Il est institué un tribunal du droit de la fa...</td>\n",
       "      <td>(biffer)</td>\n",
       "      <td>1ère lecture - Commission 9</td>\n",
       "      <td>Matteo ABÄCHERLI</td>\n",
       "      <td>CVPO</td>\n",
       "      <td>H</td>\n",
       "      <td>30-45</td>\n",
       "      <td>Visp</td>\n",
       "    </tr>\n",
       "    <tr>\n",
       "      <th>10</th>\n",
       "      <td>904, vote 1 : Commission contre M-901 + M-904 ...</td>\n",
       "      <td>Il est institué pour l’ensemble du canton une...</td>\n",
       "      <td>(biffer)</td>\n",
       "      <td>1ère lecture - Commission 9</td>\n",
       "      <td>Matteo ABÄCHERLI</td>\n",
       "      <td>CVPO</td>\n",
       "      <td>H</td>\n",
       "      <td>30-45</td>\n",
       "      <td>Visp</td>\n",
       "    </tr>\n",
       "    <tr>\n",
       "      <th>11</th>\n",
       "      <td>903, vote 3 : Commission (y.c. V/A 1+3) contre...</td>\n",
       "      <td>Il est institué une Cour Constitutionnelle ra...</td>\n",
       "      <td>(biffer)</td>\n",
       "      <td>1ère lecture - Commission 9</td>\n",
       "      <td>Matteo ABÄCHERLI</td>\n",
       "      <td>CVPO</td>\n",
       "      <td>H</td>\n",
       "      <td>30-45</td>\n",
       "      <td>Visp</td>\n",
       "    </tr>\n",
       "    <tr>\n",
       "      <th>12</th>\n",
       "      <td>003, vote 5 : Commissions (y.c. V/A 1-4) contr...</td>\n",
       "      <td>La conférence régionale est dirigée par un coo...</td>\n",
       "      <td>(biffer)</td>\n",
       "      <td>1ère lecture - Commission 10</td>\n",
       "      <td>Matteo ABÄCHERLI</td>\n",
       "      <td>CVPO</td>\n",
       "      <td>H</td>\n",
       "      <td>30-45</td>\n",
       "      <td>Visp</td>\n",
       "    </tr>\n",
       "    <tr>\n",
       "      <th>13</th>\n",
       "      <td>002, vote 2 : Commissions (y.c. V/A 1-2) contr...</td>\n",
       "      <td>1 Chaque région dispose d’une conférence ré...</td>\n",
       "      <td>(biffer)</td>\n",
       "      <td>1ère lecture - Commission 10</td>\n",
       "      <td>Matteo ABÄCHERLI</td>\n",
       "      <td>CVPO</td>\n",
       "      <td>H</td>\n",
       "      <td>30-45</td>\n",
       "      <td>Visp</td>\n",
       "    </tr>\n",
       "    <tr>\n",
       "      <th>14</th>\n",
       "      <td>802, vote 9 : Commission (1-1-1) contre résult...</td>\n",
       "      <td>(1 siège par partie du canton)</td>\n",
       "      <td>(pas de garantie de siège)</td>\n",
       "      <td>1ère lecture - Commission 8</td>\n",
       "      <td>Matteo ABÄCHERLI</td>\n",
       "      <td>CVPO</td>\n",
       "      <td>H</td>\n",
       "      <td>30-45</td>\n",
       "      <td>Visp</td>\n",
       "    </tr>\n",
       "    <tr>\n",
       "      <th>15</th>\n",
       "      <td>802, vote 3 : Commission (major.) contre A-802...</td>\n",
       "      <td>Le Conseil d'Etat est élu selon un scrutin maj...</td>\n",
       "      <td>Le Conseil d'Etat est élu selon un scrutin pro...</td>\n",
       "      <td>1ère lecture - Commission 8</td>\n",
       "      <td>Matteo ABÄCHERLI</td>\n",
       "      <td>CVPO</td>\n",
       "      <td>H</td>\n",
       "      <td>30-45</td>\n",
       "      <td>Visp</td>\n",
       "    </tr>\n",
       "    <tr>\n",
       "      <th>16</th>\n",
       "      <td>801, vote 1 : Commission [CE/SR 7] contre A-80...</td>\n",
       "      <td>Le Conseil d'État est composé de sept membres.</td>\n",
       "      <td>Le Conseil d'État est composé de &lt;s&gt;sept&lt;/s&gt;...</td>\n",
       "      <td>1ère lecture - Commission 8</td>\n",
       "      <td>Matteo ABÄCHERLI</td>\n",
       "      <td>CVPO</td>\n",
       "      <td>H</td>\n",
       "      <td>30-45</td>\n",
       "      <td>Visp</td>\n",
       "    </tr>\n",
       "    <tr>\n",
       "      <th>17</th>\n",
       "      <td>710, al.5, vote 13 : Commission contre résulta...</td>\n",
       "      <td>La loi peut fixer une proportion minimale de s...</td>\n",
       "      <td>... Cette proportion ne peut excéder &lt;s&gt;5%&lt;/s&gt;...</td>\n",
       "      <td>1ère lecture - Commission 7</td>\n",
       "      <td>Matteo ABÄCHERLI</td>\n",
       "      <td>CVPO</td>\n",
       "      <td>H</td>\n",
       "      <td>30-45</td>\n",
       "      <td>Visp</td>\n",
       "    </tr>\n",
       "    <tr>\n",
       "      <th>18</th>\n",
       "      <td>710, al.4, vote 10 : Commission contre résulta...</td>\n",
       "      <td>Dès que la population du Haut-Valais tombe au-...</td>\n",
       "      <td>(Pas de clause de protection)</td>\n",
       "      <td>1ère lecture - Commission 7</td>\n",
       "      <td>Matteo ABÄCHERLI</td>\n",
       "      <td>CVPO</td>\n",
       "      <td>H</td>\n",
       "      <td>30-45</td>\n",
       "      <td>Visp</td>\n",
       "    </tr>\n",
       "    <tr>\n",
       "      <th>19</th>\n",
       "      <td>710, al.4, vote 7 : Résultat V/A 6 contre A-71...</td>\n",
       "      <td>(Amendement A-710.26 CSPO)&lt;br/&gt;\\nLa répartiti...</td>\n",
       "      <td>La répartition des sièges est effectuée en ...</td>\n",
       "      <td>1ère lecture - Commission 7</td>\n",
       "      <td>Matteo ABÄCHERLI</td>\n",
       "      <td>CVPO</td>\n",
       "      <td>H</td>\n",
       "      <td>30-45</td>\n",
       "      <td>Visp</td>\n",
       "    </tr>\n",
       "    <tr>\n",
       "      <th>20</th>\n",
       "      <td>710, al.3, vote 2 : Commission contre M-710 / ...</td>\n",
       "      <td>La loi instaure des sous-circonscriptions élec...</td>\n",
       "      <td>(néant = pas de sous-circonscriptions)</td>\n",
       "      <td>1ère lecture - Commission 7</td>\n",
       "      <td>Matteo ABÄCHERLI</td>\n",
       "      <td>CVPO</td>\n",
       "      <td>H</td>\n",
       "      <td>30-45</td>\n",
       "      <td>Visp</td>\n",
       "    </tr>\n",
       "    <tr>\n",
       "      <th>21</th>\n",
       "      <td>709, vote 6 : Commission contre résultat V/A 5</td>\n",
       "      <td>La loi instaure un système de suppléance. Le n...</td>\n",
       "      <td>Le Grand Consei est composé de 130 députées et...</td>\n",
       "      <td>1ère lecture - Commission 7</td>\n",
       "      <td>Matteo ABÄCHERLI</td>\n",
       "      <td>CVPO</td>\n",
       "      <td>H</td>\n",
       "      <td>30-45</td>\n",
       "      <td>Visp</td>\n",
       "    </tr>\n",
       "    <tr>\n",
       "      <th>22</th>\n",
       "      <td>709, vote 1 : Commission contre M-709.01 Darbe...</td>\n",
       "      <td>Le Grand Conseil est composé de 130 députées e...</td>\n",
       "      <td>Le Grand Conseil est composé de &lt;s&gt;130&lt;/s&gt; &lt;u&gt;...</td>\n",
       "      <td>1ère lecture - Commission 7</td>\n",
       "      <td>Matteo ABÄCHERLI</td>\n",
       "      <td>CVPO</td>\n",
       "      <td>H</td>\n",
       "      <td>30-45</td>\n",
       "      <td>Visp</td>\n",
       "    </tr>\n",
       "    <tr>\n",
       "      <th>23</th>\n",
       "      <td>311, vote 4 : Commission contre A-311.40 UDCVR...</td>\n",
       "      <td>&lt;b&gt;Art. 311 Représentation des femmes et des h...</td>\n",
       "      <td>(néant)</td>\n",
       "      <td>1ère lecture - Commission 3</td>\n",
       "      <td>Matteo ABÄCHERLI</td>\n",
       "      <td>CVPO</td>\n",
       "      <td>H</td>\n",
       "      <td>30-45</td>\n",
       "      <td>Visp</td>\n",
       "    </tr>\n",
       "    <tr>\n",
       "      <th>24</th>\n",
       "      <td>303, vote 3 : Commission contre résultat V/A 2</td>\n",
       "      <td>(néant)</td>\n",
       "      <td>L'un des membres du Conseil des Etats est choi...</td>\n",
       "      <td>1ère lecture - Commission 3</td>\n",
       "      <td>Matteo ABÄCHERLI</td>\n",
       "      <td>CVPO</td>\n",
       "      <td>H</td>\n",
       "      <td>30-45</td>\n",
       "      <td>Visp</td>\n",
       "    </tr>\n",
       "    <tr>\n",
       "      <th>25</th>\n",
       "      <td>301, al.5, vote 6 : Commission contre Minorité...</td>\n",
       "      <td>La loi ne peut restreindre la titularité des ...</td>\n",
       "      <td>(biffer cet alinéa, autrement dit permettre à ...</td>\n",
       "      <td>1ère lecture - Commission 3</td>\n",
       "      <td>Matteo ABÄCHERLI</td>\n",
       "      <td>CVPO</td>\n",
       "      <td>H</td>\n",
       "      <td>30-45</td>\n",
       "      <td>Visp</td>\n",
       "    </tr>\n",
       "    <tr>\n",
       "      <th>26</th>\n",
       "      <td>301, vote 4 : Commission (y.c. V/A 2-3) contre...</td>\n",
       "      <td>Droit de vote et d'éligibilité au plan communa...</td>\n",
       "      <td>Droit de vote et d'éligibilité réservé aux per...</td>\n",
       "      <td>1ère lecture - Commission 3</td>\n",
       "      <td>Matteo ABÄCHERLI</td>\n",
       "      <td>CVPO</td>\n",
       "      <td>H</td>\n",
       "      <td>30-45</td>\n",
       "      <td>Visp</td>\n",
       "    </tr>\n",
       "    <tr>\n",
       "      <th>27</th>\n",
       "      <td>1009, vote 1 : Commission contre A-1009.17 VLR...</td>\n",
       "      <td>Le conseil communal se compose de cinq à neuf...</td>\n",
       "      <td>Le conseil communal se compose de &lt;s&gt;cinq&lt;/s&gt; ...</td>\n",
       "      <td>1ère lecture - Commission 10</td>\n",
       "      <td>Matteo ABÄCHERLI</td>\n",
       "      <td>CVPO</td>\n",
       "      <td>H</td>\n",
       "      <td>30-45</td>\n",
       "      <td>Visp</td>\n",
       "    </tr>\n",
       "    <tr>\n",
       "      <th>28</th>\n",
       "      <td>1008, al.2, vote 2 : A-1008.15 ZUK-VS = Commis...</td>\n",
       "      <td>Par scrutin populaire, le corps électoral peu...</td>\n",
       "      <td>Par scrutin populaire, le corps électoral peu...</td>\n",
       "      <td>1ère lecture - Commission 10</td>\n",
       "      <td>Matteo ABÄCHERLI</td>\n",
       "      <td>CVPO</td>\n",
       "      <td>H</td>\n",
       "      <td>30-45</td>\n",
       "      <td>Visp</td>\n",
       "    </tr>\n",
       "    <tr>\n",
       "      <th>29</th>\n",
       "      <td>219, vote 5 : Résultat V/A 1-4 contre A-219.58...</td>\n",
       "      <td>&lt;b&gt;Art. 219 Intégrité et identité numériques&lt;...</td>\n",
       "      <td>(biffer l'article)</td>\n",
       "      <td>1ère lecture - Commission 2</td>\n",
       "      <td>Matteo ABÄCHERLI</td>\n",
       "      <td>CVPO</td>\n",
       "      <td>H</td>\n",
       "      <td>30-45</td>\n",
       "      <td>Visp</td>\n",
       "    </tr>\n",
       "    <tr>\n",
       "      <th>30</th>\n",
       "      <td>210, vote 1 : Commission contre A-210.36 SVPO/...</td>\n",
       "      <td>Toute personne a le droit de vivre dans un env...</td>\n",
       "      <td>(biffer l'article)</td>\n",
       "      <td>1ère lecture - Commission 2</td>\n",
       "      <td>Matteo ABÄCHERLI</td>\n",
       "      <td>CVPO</td>\n",
       "      <td>H</td>\n",
       "      <td>30-45</td>\n",
       "      <td>Visp</td>\n",
       "    </tr>\n",
       "    <tr>\n",
       "      <th>31</th>\n",
       "      <td>205, vote 2 : Commission contre résultat V/A 2</td>\n",
       "      <td>(alinea 2) L'intérêt supérieur de l'enfant,...</td>\n",
       "      <td>(alinea 2) ... ou les procédures qui le conce...</td>\n",
       "      <td>1ère lecture - Commission 2</td>\n",
       "      <td>Matteo ABÄCHERLI</td>\n",
       "      <td>CVPO</td>\n",
       "      <td>H</td>\n",
       "      <td>30-45</td>\n",
       "      <td>Visp</td>\n",
       "    </tr>\n",
       "    <tr>\n",
       "      <th>32</th>\n",
       "      <td>204, vote 2 : Commission (y.c. V/A 1) contre A...</td>\n",
       "      <td>Tout être humain a droit à la vie, à la lib...</td>\n",
       "      <td>... ainsi qu'à une fin de vie digne &lt;s&gt;libreme...</td>\n",
       "      <td>1ère lecture - Commission 2</td>\n",
       "      <td>Matteo ABÄCHERLI</td>\n",
       "      <td>CVPO</td>\n",
       "      <td>H</td>\n",
       "      <td>30-45</td>\n",
       "      <td>Visp</td>\n",
       "    </tr>\n",
       "    <tr>\n",
       "      <th>33</th>\n",
       "      <td>202, vote 7 : Commission (y.c. V/A 2+3) contre...</td>\n",
       "      <td>Nul ne doit subir de discrimination du fait no...</td>\n",
       "      <td>Nul ne doit subir de discrimination du fait no...</td>\n",
       "      <td>1ère lecture - Commission 2</td>\n",
       "      <td>Matteo ABÄCHERLI</td>\n",
       "      <td>CVPO</td>\n",
       "      <td>H</td>\n",
       "      <td>30-45</td>\n",
       "      <td>Visp</td>\n",
       "    </tr>\n",
       "    <tr>\n",
       "      <th>34</th>\n",
       "      <td>119, vote 4 : Commission contre A-119.99 AC</td>\n",
       "      <td>(néant)</td>\n",
       "      <td>A intervalles de 25 ans, le Grand Conseil exam...</td>\n",
       "      <td>1ère lecture - Commission 1</td>\n",
       "      <td>Matteo ABÄCHERLI</td>\n",
       "      <td>CVPO</td>\n",
       "      <td>H</td>\n",
       "      <td>30-45</td>\n",
       "      <td>Visp</td>\n",
       "    </tr>\n",
       "    <tr>\n",
       "      <th>35</th>\n",
       "      <td>113a, vote 1 : Commission contre A-113a.73 VLR</td>\n",
       "      <td>(néant)</td>\n",
       "      <td>&lt;b&gt;Art 113a (nouveau) Frais de culte &lt;/b&gt;\\n&lt;br...</td>\n",
       "      <td>1ère lecture - Commission 1</td>\n",
       "      <td>Matteo ABÄCHERLI</td>\n",
       "      <td>CVPO</td>\n",
       "      <td>H</td>\n",
       "      <td>30-45</td>\n",
       "      <td>Visp</td>\n",
       "    </tr>\n",
       "    <tr>\n",
       "      <th>36</th>\n",
       "      <td>110, vote 3 :Commission contre résultat V/A 2</td>\n",
       "      <td>[L'Etat et les communes] soutiennent les diale...</td>\n",
       "      <td>[L'Etat et les communes] soutiennent les diale...</td>\n",
       "      <td>1ère lecture - Commission 1</td>\n",
       "      <td>Matteo ABÄCHERLI</td>\n",
       "      <td>CVPO</td>\n",
       "      <td>H</td>\n",
       "      <td>30-45</td>\n",
       "      <td>Visp</td>\n",
       "    </tr>\n",
       "    <tr>\n",
       "      <th>37</th>\n",
       "      <td>107, vote 3 : Commission contre résultat V/A 2</td>\n",
       "      <td>L’État promeut une représentation équilibre...</td>\n",
       "      <td>L’État &lt;s&gt;promeut&lt;/s&gt; &lt;u&gt;vise&lt;/u&gt; une représ...</td>\n",
       "      <td>1ère lecture - Commission 1</td>\n",
       "      <td>Matteo ABÄCHERLI</td>\n",
       "      <td>CVPO</td>\n",
       "      <td>H</td>\n",
       "      <td>30-45</td>\n",
       "      <td>Visp</td>\n",
       "    </tr>\n",
       "    <tr>\n",
       "      <th>38</th>\n",
       "      <td>105, vote 4 : Commission contre A-105.22 VLR</td>\n",
       "      <td>Les buts de l'Etat sont:...</td>\n",
       "      <td>Les buts de l'Etat sont: ... &lt;u&gt;j) (nouveau) l...</td>\n",
       "      <td>1ère lecture - Commission 1</td>\n",
       "      <td>Matteo ABÄCHERLI</td>\n",
       "      <td>CVPO</td>\n",
       "      <td>H</td>\n",
       "      <td>30-45</td>\n",
       "      <td>Visp</td>\n",
       "    </tr>\n",
       "    <tr>\n",
       "      <th>39</th>\n",
       "      <td>105, vote 3 : Commission contre A-105.20 PS-GC</td>\n",
       "      <td>Les buts de l'Etat sont: ... g) la préservatio...</td>\n",
       "      <td>Les buts de l'Etat sont: ... g) la préservatio...</td>\n",
       "      <td>1ère lecture - Commission 1</td>\n",
       "      <td>Matteo ABÄCHERLI</td>\n",
       "      <td>CVPO</td>\n",
       "      <td>H</td>\n",
       "      <td>30-45</td>\n",
       "      <td>Visp</td>\n",
       "    </tr>\n",
       "    <tr>\n",
       "      <th>40</th>\n",
       "      <td>606, vote 1 : Commission contre A-606.28 CVPO/...</td>\n",
       "      <td>En l’absence d’un congé parental fédéral, l’Ét...</td>\n",
       "      <td>(néant)</td>\n",
       "      <td>1ère lecture - Commission 6</td>\n",
       "      <td>Claudia ALPIGER</td>\n",
       "      <td>ZUK-VS</td>\n",
       "      <td>F</td>\n",
       "      <td>30-45</td>\n",
       "      <td>Brig</td>\n",
       "    </tr>\n",
       "    <tr>\n",
       "      <th>41</th>\n",
       "      <td>603, vote 4 : Commission (y.c. V/A 1-3) contre...</td>\n",
       "      <td>Art. 603 Enfance&lt;br/&gt;\\n&lt;ol&gt;&lt;li&gt;L’État et les c...</td>\n",
       "      <td>(néant)</td>\n",
       "      <td>1ère lecture - Commission 6</td>\n",
       "      <td>Claudia ALPIGER</td>\n",
       "      <td>ZUK-VS</td>\n",
       "      <td>F</td>\n",
       "      <td>30-45</td>\n",
       "      <td>Brig</td>\n",
       "    </tr>\n",
       "    <tr>\n",
       "      <th>42</th>\n",
       "      <td>602, vote 2 : Commission (y.c. V/A 1) contre A...</td>\n",
       "      <td>L'État et les communes développent une\\npoliti...</td>\n",
       "      <td>(néant)</td>\n",
       "      <td>1ère lecture - Commission 6</td>\n",
       "      <td>Claudia ALPIGER</td>\n",
       "      <td>ZUK-VS</td>\n",
       "      <td>F</td>\n",
       "      <td>30-45</td>\n",
       "      <td>Brig</td>\n",
       "    </tr>\n",
       "    <tr>\n",
       "      <th>43</th>\n",
       "      <td>503, vote 2 : Résultat V/A 1 contre A-503.14 U...</td>\n",
       "      <td>L’État prend des mesures propres à lutter cont...</td>\n",
       "      <td>(néant)</td>\n",
       "      <td>1ère lecture - Commission 5</td>\n",
       "      <td>Claudia ALPIGER</td>\n",
       "      <td>ZUK-VS</td>\n",
       "      <td>F</td>\n",
       "      <td>30-45</td>\n",
       "      <td>Brig</td>\n",
       "    </tr>\n",
       "    <tr>\n",
       "      <th>44</th>\n",
       "      <td>418/915, vote 13 : Art. 418 commission 4 (y.c....</td>\n",
       "      <td>1 L’État est doté d’une ou plusieurs autorit...</td>\n",
       "      <td>1 &lt;u&gt;Plusieurs&lt;/u&gt; autorités assurent en tout...</td>\n",
       "      <td>1ère lecture - Commission 4</td>\n",
       "      <td>Claudia ALPIGER</td>\n",
       "      <td>ZUK-VS</td>\n",
       "      <td>F</td>\n",
       "      <td>30-45</td>\n",
       "      <td>Brig</td>\n",
       "    </tr>\n",
       "    <tr>\n",
       "      <th>45</th>\n",
       "      <td>418, al.3n, vote 2 : Commission contre A-418.7...</td>\n",
       "      <td>(néant)</td>\n",
       "      <td>Les organes dirigeants sont désignés par le ...</td>\n",
       "      <td>1ère lecture - Commission 4</td>\n",
       "      <td>Claudia ALPIGER</td>\n",
       "      <td>ZUK-VS</td>\n",
       "      <td>F</td>\n",
       "      <td>30-45</td>\n",
       "      <td>Brig</td>\n",
       "    </tr>\n",
       "    <tr>\n",
       "      <th>46</th>\n",
       "      <td>418, al.1, vote 1 : Commission contre A-418.74...</td>\n",
       "      <td>Une ou plusieurs autorités assurent le contrôl...</td>\n",
       "      <td>Une seule autorité...</td>\n",
       "      <td>1ère lecture - Commission 4</td>\n",
       "      <td>Claudia ALPIGER</td>\n",
       "      <td>ZUK-VS</td>\n",
       "      <td>F</td>\n",
       "      <td>30-45</td>\n",
       "      <td>Brig</td>\n",
       "    </tr>\n",
       "    <tr>\n",
       "      <th>47</th>\n",
       "      <td>416a, vote 9 : Commission contre A-416a.67 AC</td>\n",
       "      <td>(néant)</td>\n",
       "      <td>La loi fixe un quotient familial afin d’attén...</td>\n",
       "      <td>1ère lecture - Commission 4</td>\n",
       "      <td>Claudia ALPIGER</td>\n",
       "      <td>ZUK-VS</td>\n",
       "      <td>F</td>\n",
       "      <td>30-45</td>\n",
       "      <td>Brig</td>\n",
       "    </tr>\n",
       "    <tr>\n",
       "      <th>48</th>\n",
       "      <td>411a, vote 1 : Commission vs A-411a.45 AC</td>\n",
       "      <td>(néant)</td>\n",
       "      <td>L'Etat met librement à disposition les jeux d...</td>\n",
       "      <td>1ère lecture - Commission 4</td>\n",
       "      <td>Claudia ALPIGER</td>\n",
       "      <td>ZUK-VS</td>\n",
       "      <td>F</td>\n",
       "      <td>30-45</td>\n",
       "      <td>Brig</td>\n",
       "    </tr>\n",
       "    <tr>\n",
       "      <th>49</th>\n",
       "      <td>905, vote 5 : Commission (y.c. V/A 1-4) contre...</td>\n",
       "      <td>Il est institué un tribunal du droit de la fa...</td>\n",
       "      <td>(biffer)</td>\n",
       "      <td>1ère lecture - Commission 9</td>\n",
       "      <td>Claudia ALPIGER</td>\n",
       "      <td>ZUK-VS</td>\n",
       "      <td>F</td>\n",
       "      <td>30-45</td>\n",
       "      <td>Brig</td>\n",
       "    </tr>\n",
       "    <tr>\n",
       "      <th>50</th>\n",
       "      <td>904, vote 1 : Commission contre M-901 + M-904 ...</td>\n",
       "      <td>Il est institué pour l’ensemble du canton une...</td>\n",
       "      <td>(biffer)</td>\n",
       "      <td>1ère lecture - Commission 9</td>\n",
       "      <td>Claudia ALPIGER</td>\n",
       "      <td>ZUK-VS</td>\n",
       "      <td>F</td>\n",
       "      <td>30-45</td>\n",
       "      <td>Brig</td>\n",
       "    </tr>\n",
       "    <tr>\n",
       "      <th>51</th>\n",
       "      <td>903, vote 3 : Commission (y.c. V/A 1+3) contre...</td>\n",
       "      <td>Il est institué une Cour Constitutionnelle ra...</td>\n",
       "      <td>(biffer)</td>\n",
       "      <td>1ère lecture - Commission 9</td>\n",
       "      <td>Claudia ALPIGER</td>\n",
       "      <td>ZUK-VS</td>\n",
       "      <td>F</td>\n",
       "      <td>30-45</td>\n",
       "      <td>Brig</td>\n",
       "    </tr>\n",
       "    <tr>\n",
       "      <th>52</th>\n",
       "      <td>003, vote 5 : Commissions (y.c. V/A 1-4) contr...</td>\n",
       "      <td>La conférence régionale est dirigée par un coo...</td>\n",
       "      <td>(biffer)</td>\n",
       "      <td>1ère lecture - Commission 10</td>\n",
       "      <td>Claudia ALPIGER</td>\n",
       "      <td>ZUK-VS</td>\n",
       "      <td>F</td>\n",
       "      <td>30-45</td>\n",
       "      <td>Brig</td>\n",
       "    </tr>\n",
       "    <tr>\n",
       "      <th>53</th>\n",
       "      <td>002, vote 2 : Commissions (y.c. V/A 1-2) contr...</td>\n",
       "      <td>1 Chaque région dispose d’une conférence ré...</td>\n",
       "      <td>(biffer)</td>\n",
       "      <td>1ère lecture - Commission 10</td>\n",
       "      <td>Claudia ALPIGER</td>\n",
       "      <td>ZUK-VS</td>\n",
       "      <td>F</td>\n",
       "      <td>30-45</td>\n",
       "      <td>Brig</td>\n",
       "    </tr>\n",
       "    <tr>\n",
       "      <th>54</th>\n",
       "      <td>802, vote 9 : Commission (1-1-1) contre résult...</td>\n",
       "      <td>(1 siège par partie du canton)</td>\n",
       "      <td>(pas de garantie de siège)</td>\n",
       "      <td>1ère lecture - Commission 8</td>\n",
       "      <td>Claudia ALPIGER</td>\n",
       "      <td>ZUK-VS</td>\n",
       "      <td>F</td>\n",
       "      <td>30-45</td>\n",
       "      <td>Brig</td>\n",
       "    </tr>\n",
       "    <tr>\n",
       "      <th>55</th>\n",
       "      <td>802, vote 3 : Commission (major.) contre A-802...</td>\n",
       "      <td>Le Conseil d'Etat est élu selon un scrutin maj...</td>\n",
       "      <td>Le Conseil d'Etat est élu selon un scrutin pro...</td>\n",
       "      <td>1ère lecture - Commission 8</td>\n",
       "      <td>Claudia ALPIGER</td>\n",
       "      <td>ZUK-VS</td>\n",
       "      <td>F</td>\n",
       "      <td>30-45</td>\n",
       "      <td>Brig</td>\n",
       "    </tr>\n",
       "    <tr>\n",
       "      <th>56</th>\n",
       "      <td>801, vote 1 : Commission [CE/SR 7] contre A-80...</td>\n",
       "      <td>Le Conseil d'État est composé de sept membres.</td>\n",
       "      <td>Le Conseil d'État est composé de &lt;s&gt;sept&lt;/s&gt;...</td>\n",
       "      <td>1ère lecture - Commission 8</td>\n",
       "      <td>Claudia ALPIGER</td>\n",
       "      <td>ZUK-VS</td>\n",
       "      <td>F</td>\n",
       "      <td>30-45</td>\n",
       "      <td>Brig</td>\n",
       "    </tr>\n",
       "    <tr>\n",
       "      <th>57</th>\n",
       "      <td>710, al.5, vote 13 : Commission contre résulta...</td>\n",
       "      <td>La loi peut fixer une proportion minimale de s...</td>\n",
       "      <td>... Cette proportion ne peut excéder &lt;s&gt;5%&lt;/s&gt;...</td>\n",
       "      <td>1ère lecture - Commission 7</td>\n",
       "      <td>Claudia ALPIGER</td>\n",
       "      <td>ZUK-VS</td>\n",
       "      <td>F</td>\n",
       "      <td>30-45</td>\n",
       "      <td>Brig</td>\n",
       "    </tr>\n",
       "    <tr>\n",
       "      <th>58</th>\n",
       "      <td>710, al.4, vote 10 : Commission contre résulta...</td>\n",
       "      <td>Dès que la population du Haut-Valais tombe au-...</td>\n",
       "      <td>(Pas de clause de protection)</td>\n",
       "      <td>1ère lecture - Commission 7</td>\n",
       "      <td>Claudia ALPIGER</td>\n",
       "      <td>ZUK-VS</td>\n",
       "      <td>F</td>\n",
       "      <td>30-45</td>\n",
       "      <td>Brig</td>\n",
       "    </tr>\n",
       "    <tr>\n",
       "      <th>59</th>\n",
       "      <td>710, al.4, vote 7 : Résultat V/A 6 contre A-71...</td>\n",
       "      <td>(Amendement A-710.26 CSPO)&lt;br/&gt;\\nLa répartiti...</td>\n",
       "      <td>La répartition des sièges est effectuée en ...</td>\n",
       "      <td>1ère lecture - Commission 7</td>\n",
       "      <td>Claudia ALPIGER</td>\n",
       "      <td>ZUK-VS</td>\n",
       "      <td>F</td>\n",
       "      <td>30-45</td>\n",
       "      <td>Brig</td>\n",
       "    </tr>\n",
       "  </tbody>\n",
       "</table>\n",
       "</div>"
      ],
      "text/plain": [
       "                                                label  \\\n",
       "0   606, vote 1 : Commission contre A-606.28 CVPO/...   \n",
       "1   603, vote 4 : Commission (y.c. V/A 1-3) contre...   \n",
       "2   602, vote 2 : Commission (y.c. V/A 1) contre A...   \n",
       "3   503, vote 2 : Résultat V/A 1 contre A-503.14 U...   \n",
       "4   418/915, vote 13 : Art. 418 commission 4 (y.c....   \n",
       "5   418, al.3n, vote 2 : Commission contre A-418.7...   \n",
       "6   418, al.1, vote 1 : Commission contre A-418.74...   \n",
       "7       416a, vote 9 : Commission contre A-416a.67 AC   \n",
       "8           411a, vote 1 : Commission vs A-411a.45 AC   \n",
       "9   905, vote 5 : Commission (y.c. V/A 1-4) contre...   \n",
       "10  904, vote 1 : Commission contre M-901 + M-904 ...   \n",
       "11  903, vote 3 : Commission (y.c. V/A 1+3) contre...   \n",
       "12  003, vote 5 : Commissions (y.c. V/A 1-4) contr...   \n",
       "13  002, vote 2 : Commissions (y.c. V/A 1-2) contr...   \n",
       "14  802, vote 9 : Commission (1-1-1) contre résult...   \n",
       "15  802, vote 3 : Commission (major.) contre A-802...   \n",
       "16  801, vote 1 : Commission [CE/SR 7] contre A-80...   \n",
       "17  710, al.5, vote 13 : Commission contre résulta...   \n",
       "18  710, al.4, vote 10 : Commission contre résulta...   \n",
       "19  710, al.4, vote 7 : Résultat V/A 6 contre A-71...   \n",
       "20  710, al.3, vote 2 : Commission contre M-710 / ...   \n",
       "21     709, vote 6 : Commission contre résultat V/A 5   \n",
       "22  709, vote 1 : Commission contre M-709.01 Darbe...   \n",
       "23  311, vote 4 : Commission contre A-311.40 UDCVR...   \n",
       "24     303, vote 3 : Commission contre résultat V/A 2   \n",
       "25  301, al.5, vote 6 : Commission contre Minorité...   \n",
       "26  301, vote 4 : Commission (y.c. V/A 2-3) contre...   \n",
       "27  1009, vote 1 : Commission contre A-1009.17 VLR...   \n",
       "28  1008, al.2, vote 2 : A-1008.15 ZUK-VS = Commis...   \n",
       "29  219, vote 5 : Résultat V/A 1-4 contre A-219.58...   \n",
       "30  210, vote 1 : Commission contre A-210.36 SVPO/...   \n",
       "31     205, vote 2 : Commission contre résultat V/A 2   \n",
       "32  204, vote 2 : Commission (y.c. V/A 1) contre A...   \n",
       "33  202, vote 7 : Commission (y.c. V/A 2+3) contre...   \n",
       "34        119, vote 4 : Commission contre A-119.99 AC   \n",
       "35    113a, vote 1 : Commission contre A-113a.73 VLR    \n",
       "36      110, vote 3 :Commission contre résultat V/A 2   \n",
       "37     107, vote 3 : Commission contre résultat V/A 2   \n",
       "38       105, vote 4 : Commission contre A-105.22 VLR   \n",
       "39     105, vote 3 : Commission contre A-105.20 PS-GC   \n",
       "40  606, vote 1 : Commission contre A-606.28 CVPO/...   \n",
       "41  603, vote 4 : Commission (y.c. V/A 1-3) contre...   \n",
       "42  602, vote 2 : Commission (y.c. V/A 1) contre A...   \n",
       "43  503, vote 2 : Résultat V/A 1 contre A-503.14 U...   \n",
       "44  418/915, vote 13 : Art. 418 commission 4 (y.c....   \n",
       "45  418, al.3n, vote 2 : Commission contre A-418.7...   \n",
       "46  418, al.1, vote 1 : Commission contre A-418.74...   \n",
       "47      416a, vote 9 : Commission contre A-416a.67 AC   \n",
       "48          411a, vote 1 : Commission vs A-411a.45 AC   \n",
       "49  905, vote 5 : Commission (y.c. V/A 1-4) contre...   \n",
       "50  904, vote 1 : Commission contre M-901 + M-904 ...   \n",
       "51  903, vote 3 : Commission (y.c. V/A 1+3) contre...   \n",
       "52  003, vote 5 : Commissions (y.c. V/A 1-4) contr...   \n",
       "53  002, vote 2 : Commissions (y.c. V/A 1-2) contr...   \n",
       "54  802, vote 9 : Commission (1-1-1) contre résult...   \n",
       "55  802, vote 3 : Commission (major.) contre A-802...   \n",
       "56  801, vote 1 : Commission [CE/SR 7] contre A-80...   \n",
       "57  710, al.5, vote 13 : Commission contre résulta...   \n",
       "58  710, al.4, vote 10 : Commission contre résulta...   \n",
       "59  710, al.4, vote 7 : Résultat V/A 6 contre A-71...   \n",
       "\n",
       "                                       meaningYesText  \\\n",
       "0   En l’absence d’un congé parental fédéral, l’Ét...   \n",
       "1   Art. 603 Enfance<br/>\\n<ol><li>L’État et les c...   \n",
       "2   L'État et les communes développent une\\npoliti...   \n",
       "3   L’État prend des mesures propres à lutter cont...   \n",
       "4   1 L’État est doté d’une ou plusieurs autorit...   \n",
       "5                                             (néant)   \n",
       "6   Une ou plusieurs autorités assurent le contrôl...   \n",
       "7                                             (néant)   \n",
       "8                                             (néant)   \n",
       "9   Il est institué un tribunal du droit de la fa...   \n",
       "10  Il est institué pour l’ensemble du canton une...   \n",
       "11  Il est institué une Cour Constitutionnelle ra...   \n",
       "12  La conférence régionale est dirigée par un coo...   \n",
       "13  1 Chaque région dispose d’une conférence ré...   \n",
       "14                     (1 siège par partie du canton)   \n",
       "15  Le Conseil d'Etat est élu selon un scrutin maj...   \n",
       "16   Le Conseil d'État est composé de sept membres.   \n",
       "17  La loi peut fixer une proportion minimale de s...   \n",
       "18  Dès que la population du Haut-Valais tombe au-...   \n",
       "19  (Amendement A-710.26 CSPO)<br/>\\nLa répartiti...   \n",
       "20  La loi instaure des sous-circonscriptions élec...   \n",
       "21  La loi instaure un système de suppléance. Le n...   \n",
       "22  Le Grand Conseil est composé de 130 députées e...   \n",
       "23  <b>Art. 311 Représentation des femmes et des h...   \n",
       "24                                            (néant)   \n",
       "25  La loi ne peut restreindre la titularité des ...   \n",
       "26  Droit de vote et d'éligibilité au plan communa...   \n",
       "27  Le conseil communal se compose de cinq à neuf...   \n",
       "28  Par scrutin populaire, le corps électoral peu...   \n",
       "29  <b>Art. 219 Intégrité et identité numériques<...   \n",
       "30  Toute personne a le droit de vivre dans un env...   \n",
       "31  (alinea 2) L'intérêt supérieur de l'enfant,...   \n",
       "32  Tout être humain a droit à la vie, à la lib...   \n",
       "33  Nul ne doit subir de discrimination du fait no...   \n",
       "34                                            (néant)   \n",
       "35                                            (néant)   \n",
       "36  [L'Etat et les communes] soutiennent les diale...   \n",
       "37  L’État promeut une représentation équilibre...   \n",
       "38                        Les buts de l'Etat sont:...   \n",
       "39  Les buts de l'Etat sont: ... g) la préservatio...   \n",
       "40  En l’absence d’un congé parental fédéral, l’Ét...   \n",
       "41  Art. 603 Enfance<br/>\\n<ol><li>L’État et les c...   \n",
       "42  L'État et les communes développent une\\npoliti...   \n",
       "43  L’État prend des mesures propres à lutter cont...   \n",
       "44  1 L’État est doté d’une ou plusieurs autorit...   \n",
       "45                                            (néant)   \n",
       "46  Une ou plusieurs autorités assurent le contrôl...   \n",
       "47                                            (néant)   \n",
       "48                                            (néant)   \n",
       "49  Il est institué un tribunal du droit de la fa...   \n",
       "50  Il est institué pour l’ensemble du canton une...   \n",
       "51  Il est institué une Cour Constitutionnelle ra...   \n",
       "52  La conférence régionale est dirigée par un coo...   \n",
       "53  1 Chaque région dispose d’une conférence ré...   \n",
       "54                     (1 siège par partie du canton)   \n",
       "55  Le Conseil d'Etat est élu selon un scrutin maj...   \n",
       "56   Le Conseil d'État est composé de sept membres.   \n",
       "57  La loi peut fixer une proportion minimale de s...   \n",
       "58  Dès que la population du Haut-Valais tombe au-...   \n",
       "59  (Amendement A-710.26 CSPO)<br/>\\nLa répartiti...   \n",
       "\n",
       "                                        meaningNoText  \\\n",
       "0                                             (néant)   \n",
       "1                                             (néant)   \n",
       "2                                             (néant)   \n",
       "3                                             (néant)   \n",
       "4   1 <u>Plusieurs</u> autorités assurent en tout...   \n",
       "5   Les organes dirigeants sont désignés par le ...   \n",
       "6                               Une seule autorité...   \n",
       "7   La loi fixe un quotient familial afin d’attén...   \n",
       "8   L'Etat met librement à disposition les jeux d...   \n",
       "9                                            (biffer)   \n",
       "10                                           (biffer)   \n",
       "11                                           (biffer)   \n",
       "12                                           (biffer)   \n",
       "13                                           (biffer)   \n",
       "14                         (pas de garantie de siège)   \n",
       "15  Le Conseil d'Etat est élu selon un scrutin pro...   \n",
       "16  Le Conseil d'État est composé de <s>sept</s>...   \n",
       "17  ... Cette proportion ne peut excéder <s>5%</s>...   \n",
       "18                      (Pas de clause de protection)   \n",
       "19  La répartition des sièges est effectuée en ...   \n",
       "20             (néant = pas de sous-circonscriptions)   \n",
       "21  Le Grand Consei est composé de 130 députées et...   \n",
       "22  Le Grand Conseil est composé de <s>130</s> <u>...   \n",
       "23                                            (néant)   \n",
       "24  L'un des membres du Conseil des Etats est choi...   \n",
       "25  (biffer cet alinéa, autrement dit permettre à ...   \n",
       "26  Droit de vote et d'éligibilité réservé aux per...   \n",
       "27  Le conseil communal se compose de <s>cinq</s> ...   \n",
       "28  Par scrutin populaire, le corps électoral peu...   \n",
       "29                                 (biffer l'article)   \n",
       "30                                 (biffer l'article)   \n",
       "31  (alinea 2) ... ou les procédures qui le conce...   \n",
       "32  ... ainsi qu'à une fin de vie digne <s>libreme...   \n",
       "33  Nul ne doit subir de discrimination du fait no...   \n",
       "34  A intervalles de 25 ans, le Grand Conseil exam...   \n",
       "35  <b>Art 113a (nouveau) Frais de culte </b>\\n<br...   \n",
       "36  [L'Etat et les communes] soutiennent les diale...   \n",
       "37  L’État <s>promeut</s> <u>vise</u> une représ...   \n",
       "38  Les buts de l'Etat sont: ... <u>j) (nouveau) l...   \n",
       "39  Les buts de l'Etat sont: ... g) la préservatio...   \n",
       "40                                            (néant)   \n",
       "41                                            (néant)   \n",
       "42                                            (néant)   \n",
       "43                                            (néant)   \n",
       "44  1 <u>Plusieurs</u> autorités assurent en tout...   \n",
       "45  Les organes dirigeants sont désignés par le ...   \n",
       "46                              Une seule autorité...   \n",
       "47  La loi fixe un quotient familial afin d’attén...   \n",
       "48  L'Etat met librement à disposition les jeux d...   \n",
       "49                                           (biffer)   \n",
       "50                                           (biffer)   \n",
       "51                                           (biffer)   \n",
       "52                                           (biffer)   \n",
       "53                                           (biffer)   \n",
       "54                         (pas de garantie de siège)   \n",
       "55  Le Conseil d'Etat est élu selon un scrutin pro...   \n",
       "56  Le Conseil d'État est composé de <s>sept</s>...   \n",
       "57  ... Cette proportion ne peut excéder <s>5%</s>...   \n",
       "58                      (Pas de clause de protection)   \n",
       "59  La répartition des sièges est effectuée en ...   \n",
       "\n",
       "                         section              name   group Genre    Âge  \\\n",
       "0    1ère lecture - Commission 6  Matteo ABÄCHERLI    CVPO     H  30-45   \n",
       "1    1ère lecture - Commission 6  Matteo ABÄCHERLI    CVPO     H  30-45   \n",
       "2    1ère lecture - Commission 6  Matteo ABÄCHERLI    CVPO     H  30-45   \n",
       "3    1ère lecture - Commission 5  Matteo ABÄCHERLI    CVPO     H  30-45   \n",
       "4    1ère lecture - Commission 4  Matteo ABÄCHERLI    CVPO     H  30-45   \n",
       "5    1ère lecture - Commission 4  Matteo ABÄCHERLI    CVPO     H  30-45   \n",
       "6    1ère lecture - Commission 4  Matteo ABÄCHERLI    CVPO     H  30-45   \n",
       "7    1ère lecture - Commission 4  Matteo ABÄCHERLI    CVPO     H  30-45   \n",
       "8    1ère lecture - Commission 4  Matteo ABÄCHERLI    CVPO     H  30-45   \n",
       "9    1ère lecture - Commission 9  Matteo ABÄCHERLI    CVPO     H  30-45   \n",
       "10   1ère lecture - Commission 9  Matteo ABÄCHERLI    CVPO     H  30-45   \n",
       "11   1ère lecture - Commission 9  Matteo ABÄCHERLI    CVPO     H  30-45   \n",
       "12  1ère lecture - Commission 10  Matteo ABÄCHERLI    CVPO     H  30-45   \n",
       "13  1ère lecture - Commission 10  Matteo ABÄCHERLI    CVPO     H  30-45   \n",
       "14   1ère lecture - Commission 8  Matteo ABÄCHERLI    CVPO     H  30-45   \n",
       "15   1ère lecture - Commission 8  Matteo ABÄCHERLI    CVPO     H  30-45   \n",
       "16   1ère lecture - Commission 8  Matteo ABÄCHERLI    CVPO     H  30-45   \n",
       "17   1ère lecture - Commission 7  Matteo ABÄCHERLI    CVPO     H  30-45   \n",
       "18   1ère lecture - Commission 7  Matteo ABÄCHERLI    CVPO     H  30-45   \n",
       "19   1ère lecture - Commission 7  Matteo ABÄCHERLI    CVPO     H  30-45   \n",
       "20   1ère lecture - Commission 7  Matteo ABÄCHERLI    CVPO     H  30-45   \n",
       "21   1ère lecture - Commission 7  Matteo ABÄCHERLI    CVPO     H  30-45   \n",
       "22   1ère lecture - Commission 7  Matteo ABÄCHERLI    CVPO     H  30-45   \n",
       "23   1ère lecture - Commission 3  Matteo ABÄCHERLI    CVPO     H  30-45   \n",
       "24   1ère lecture - Commission 3  Matteo ABÄCHERLI    CVPO     H  30-45   \n",
       "25   1ère lecture - Commission 3  Matteo ABÄCHERLI    CVPO     H  30-45   \n",
       "26   1ère lecture - Commission 3  Matteo ABÄCHERLI    CVPO     H  30-45   \n",
       "27  1ère lecture - Commission 10  Matteo ABÄCHERLI    CVPO     H  30-45   \n",
       "28  1ère lecture - Commission 10  Matteo ABÄCHERLI    CVPO     H  30-45   \n",
       "29   1ère lecture - Commission 2  Matteo ABÄCHERLI    CVPO     H  30-45   \n",
       "30   1ère lecture - Commission 2  Matteo ABÄCHERLI    CVPO     H  30-45   \n",
       "31   1ère lecture - Commission 2  Matteo ABÄCHERLI    CVPO     H  30-45   \n",
       "32   1ère lecture - Commission 2  Matteo ABÄCHERLI    CVPO     H  30-45   \n",
       "33   1ère lecture - Commission 2  Matteo ABÄCHERLI    CVPO     H  30-45   \n",
       "34   1ère lecture - Commission 1  Matteo ABÄCHERLI    CVPO     H  30-45   \n",
       "35   1ère lecture - Commission 1  Matteo ABÄCHERLI    CVPO     H  30-45   \n",
       "36   1ère lecture - Commission 1  Matteo ABÄCHERLI    CVPO     H  30-45   \n",
       "37   1ère lecture - Commission 1  Matteo ABÄCHERLI    CVPO     H  30-45   \n",
       "38   1ère lecture - Commission 1  Matteo ABÄCHERLI    CVPO     H  30-45   \n",
       "39   1ère lecture - Commission 1  Matteo ABÄCHERLI    CVPO     H  30-45   \n",
       "40   1ère lecture - Commission 6   Claudia ALPIGER  ZUK-VS     F  30-45   \n",
       "41   1ère lecture - Commission 6   Claudia ALPIGER  ZUK-VS     F  30-45   \n",
       "42   1ère lecture - Commission 6   Claudia ALPIGER  ZUK-VS     F  30-45   \n",
       "43   1ère lecture - Commission 5   Claudia ALPIGER  ZUK-VS     F  30-45   \n",
       "44   1ère lecture - Commission 4   Claudia ALPIGER  ZUK-VS     F  30-45   \n",
       "45   1ère lecture - Commission 4   Claudia ALPIGER  ZUK-VS     F  30-45   \n",
       "46   1ère lecture - Commission 4   Claudia ALPIGER  ZUK-VS     F  30-45   \n",
       "47   1ère lecture - Commission 4   Claudia ALPIGER  ZUK-VS     F  30-45   \n",
       "48   1ère lecture - Commission 4   Claudia ALPIGER  ZUK-VS     F  30-45   \n",
       "49   1ère lecture - Commission 9   Claudia ALPIGER  ZUK-VS     F  30-45   \n",
       "50   1ère lecture - Commission 9   Claudia ALPIGER  ZUK-VS     F  30-45   \n",
       "51   1ère lecture - Commission 9   Claudia ALPIGER  ZUK-VS     F  30-45   \n",
       "52  1ère lecture - Commission 10   Claudia ALPIGER  ZUK-VS     F  30-45   \n",
       "53  1ère lecture - Commission 10   Claudia ALPIGER  ZUK-VS     F  30-45   \n",
       "54   1ère lecture - Commission 8   Claudia ALPIGER  ZUK-VS     F  30-45   \n",
       "55   1ère lecture - Commission 8   Claudia ALPIGER  ZUK-VS     F  30-45   \n",
       "56   1ère lecture - Commission 8   Claudia ALPIGER  ZUK-VS     F  30-45   \n",
       "57   1ère lecture - Commission 7   Claudia ALPIGER  ZUK-VS     F  30-45   \n",
       "58   1ère lecture - Commission 7   Claudia ALPIGER  ZUK-VS     F  30-45   \n",
       "59   1ère lecture - Commission 7   Claudia ALPIGER  ZUK-VS     F  30-45   \n",
       "\n",
       "   District  \n",
       "0      Visp  \n",
       "1      Visp  \n",
       "2      Visp  \n",
       "3      Visp  \n",
       "4      Visp  \n",
       "5      Visp  \n",
       "6      Visp  \n",
       "7      Visp  \n",
       "8      Visp  \n",
       "9      Visp  \n",
       "10     Visp  \n",
       "11     Visp  \n",
       "12     Visp  \n",
       "13     Visp  \n",
       "14     Visp  \n",
       "15     Visp  \n",
       "16     Visp  \n",
       "17     Visp  \n",
       "18     Visp  \n",
       "19     Visp  \n",
       "20     Visp  \n",
       "21     Visp  \n",
       "22     Visp  \n",
       "23     Visp  \n",
       "24     Visp  \n",
       "25     Visp  \n",
       "26     Visp  \n",
       "27     Visp  \n",
       "28     Visp  \n",
       "29     Visp  \n",
       "30     Visp  \n",
       "31     Visp  \n",
       "32     Visp  \n",
       "33     Visp  \n",
       "34     Visp  \n",
       "35     Visp  \n",
       "36     Visp  \n",
       "37     Visp  \n",
       "38     Visp  \n",
       "39     Visp  \n",
       "40     Brig  \n",
       "41     Brig  \n",
       "42     Brig  \n",
       "43     Brig  \n",
       "44     Brig  \n",
       "45     Brig  \n",
       "46     Brig  \n",
       "47     Brig  \n",
       "48     Brig  \n",
       "49     Brig  \n",
       "50     Brig  \n",
       "51     Brig  \n",
       "52     Brig  \n",
       "53     Brig  \n",
       "54     Brig  \n",
       "55     Brig  \n",
       "56     Brig  \n",
       "57     Brig  \n",
       "58     Brig  \n",
       "59     Brig  "
      ]
     },
     "execution_count": 27,
     "metadata": {},
     "output_type": "execute_result"
    }
   ],
   "source": [
    "cat_df.head(60)"
   ]
  },
  {
   "cell_type": "code",
   "execution_count": 28,
   "id": "ae2f7cf1",
   "metadata": {},
   "outputs": [],
   "source": [
    "cat_df = cat_df.drop(['label', 'meaningYesText', 'meaningNoText', 'section', 'name'], axis=1)"
   ]
  },
  {
   "cell_type": "code",
   "execution_count": 29,
   "id": "9216ce0c",
   "metadata": {},
   "outputs": [
    {
     "data": {
      "image/png": "[encoded data removed]",
      "text/plain": [
       "<Figure size 432x288 with 1 Axes>"
      ]
     },
     "metadata": {},
     "output_type": "display_data"
    }
   ],
   "source": [
    "labels = cat_df['Âge'].astype('category').cat.categories.tolist()\n",
    "counts = cat_df['Âge'].value_counts()\n",
    "sizes = [counts[var_cat] for var_cat in labels]\n",
    "fig1, ax1 = plt.subplots()\n",
    "ax1.pie(sizes, labels=labels, autopct='%1.1f%%', shadow=True) #autopct is show the % on plot\n",
    "ax1.axis('equal')\n",
    "plt.show()"
   ]
  },
  {
   "cell_type": "code",
   "execution_count": 30,
   "id": "6785359b",
   "metadata": {},
   "outputs": [
    {
     "name": "stderr",
     "output_type": "stream",
     "text": [
      "/home/nico/Anaconda3/lib/python3.8/site-packages/seaborn/_decorators.py:36: FutureWarning:\n",
      "\n",
      "Pass the following variables as keyword args: x, y. From version 0.12, the only valid positional argument will be `data`, and passing other arguments without an explicit keyword will result in an error or misinterpretation.\n",
      "\n"
     ]
    },
    {
     "data": {
      "image/png": "[encoded data removed]",
      "text/plain": [
       "<Figure size 432x288 with 1 Axes>"
      ]
     },
     "metadata": {},
     "output_type": "display_data"
    }
   ],
   "source": [
    "%matplotlib inline\n",
    "import seaborn as sns\n",
    "import matplotlib.pyplot as plt\n",
    "group_count = cat_df['group'].value_counts()\n",
    "sns.set(style=\"darkgrid\")\n",
    "sns.barplot(group_count.index, group_count.values, alpha=0.9)\n",
    "plt.title('Frequency Distribution of group')\n",
    "plt.ylabel('Number of Occurrences', fontsize=12)\n",
    "plt.xlabel('group', fontsize=12)\n",
    "plt.show()"
   ]
  },
  {
   "cell_type": "code",
   "execution_count": 32,
   "id": "ea87ce11",
   "metadata": {},
   "outputs": [],
   "source": [
    "cats = cat_df['group'].astype('category').cat.categories\n",
    "cat_df['group'] = cat_df['group'].astype('category').cat.codes"
   ]
  },
  {
   "cell_type": "code",
   "execution_count": 33,
   "id": "265b8108",
   "metadata": {
    "scrolled": true
   },
   "outputs": [],
   "source": [
    "# we add the vote \n",
    "cat_df['vote'] = merged_df['vote']"
   ]
  },
  {
   "cell_type": "code",
   "execution_count": 35,
   "id": "f1d599c0",
   "metadata": {},
   "outputs": [
    {
     "name": "stderr",
     "output_type": "stream",
     "text": [
      "/home/nico/Anaconda3/lib/python3.8/site-packages/seaborn/_decorators.py:36: FutureWarning:\n",
      "\n",
      "Pass the following variables as keyword args: x, y. From version 0.12, the only valid positional argument will be `data`, and passing other arguments without an explicit keyword will result in an error or misinterpretation.\n",
      "\n"
     ]
    },
    {
     "data": {
      "image/png": "[encoded data removed]",
      "text/plain": [
       "<Figure size 432x288 with 1 Axes>"
      ]
     },
     "metadata": {},
     "output_type": "display_data"
    }
   ],
   "source": [
    "label_count = cat_df['vote'].value_counts()\n",
    "sns.set(style=\"darkgrid\")\n",
    "sns.barplot(label_count.index, label_count.values, alpha=0.9)\n",
    "plt.title('Frequency Distribution of votes')\n",
    "plt.ylabel('Number of Occurrences', fontsize=12)\n",
    "plt.xlabel('group', fontsize=12)\n",
    "plt.show()"
   ]
  },
  {
   "cell_type": "code",
   "execution_count": 196,
   "id": "ae38cfb8",
   "metadata": {
    "scrolled": true
   },
   "outputs": [
    {
     "name": "stdout",
     "output_type": "stream",
     "text": [
      "Epoch 1/50\n",
      "1147/1147 [==============================] - 3s 2ms/step - loss: 0.9340 - accuracy: 0.0041\n",
      "Epoch 2/50\n",
      "1147/1147 [==============================] - 2s 2ms/step - loss: 0.9219 - accuracy: 0.0052\n",
      "Epoch 3/50\n",
      "1147/1147 [==============================] - 2s 2ms/step - loss: 0.9225 - accuracy: 0.0000e+00\n",
      "Epoch 4/50\n",
      "1147/1147 [==============================] - 2s 2ms/step - loss: 0.9220 - accuracy: 0.0035\n",
      "Epoch 5/50\n",
      "1147/1147 [==============================] - 2s 2ms/step - loss: 0.9210 - accuracy: 0.0092\n",
      "Epoch 6/50\n",
      "1147/1147 [==============================] - 2s 2ms/step - loss: 0.9213 - accuracy: 0.0000e+00\n",
      "Epoch 7/50\n",
      "1147/1147 [==============================] - 2s 2ms/step - loss: 0.9212 - accuracy: 0.0000e+00\n",
      "Epoch 8/50\n",
      "1147/1147 [==============================] - 2s 2ms/step - loss: 0.9216 - accuracy: 0.0000e+00\n",
      "Epoch 9/50\n",
      "1147/1147 [==============================] - 2s 2ms/step - loss: 0.9214 - accuracy: 0.0000e+00\n",
      "Epoch 10/50\n",
      "1147/1147 [==============================] - 2s 2ms/step - loss: 0.9201 - accuracy: 0.0033\n",
      "Epoch 11/50\n",
      "1147/1147 [==============================] - 2s 2ms/step - loss: 0.9200 - accuracy: 0.0000e+00\n",
      "Epoch 12/50\n",
      "1147/1147 [==============================] - 2s 2ms/step - loss: 0.9205 - accuracy: 0.0033\n",
      "Epoch 13/50\n",
      "1147/1147 [==============================] - 2s 2ms/step - loss: 0.9209 - accuracy: 0.0057\n",
      "Epoch 14/50\n",
      "1147/1147 [==============================] - 2s 2ms/step - loss: 0.9211 - accuracy: 0.0000e+00\n",
      "Epoch 15/50\n",
      "1147/1147 [==============================] - 2s 2ms/step - loss: 0.9208 - accuracy: 0.0020\n",
      "Epoch 16/50\n",
      "1147/1147 [==============================] - 2s 2ms/step - loss: 0.9207 - accuracy: 0.0000e+00\n",
      "Epoch 17/50\n",
      "1147/1147 [==============================] - 2s 2ms/step - loss: 0.9195 - accuracy: 0.0033\n",
      "Epoch 18/50\n",
      "1147/1147 [==============================] - 2s 2ms/step - loss: 0.9190 - accuracy: 0.0000e+00\n",
      "Epoch 19/50\n",
      "1147/1147 [==============================] - 2s 2ms/step - loss: 0.9208 - accuracy: 0.0000e+00\n",
      "Epoch 20/50\n",
      "1147/1147 [==============================] - 2s 2ms/step - loss: 0.9201 - accuracy: 0.0000e+00\n",
      "Epoch 21/50\n",
      "1147/1147 [==============================] - 2s 2ms/step - loss: 0.9201 - accuracy: 0.0000e+00\n",
      "Epoch 22/50\n",
      "1147/1147 [==============================] - 2s 2ms/step - loss: 0.9198 - accuracy: 0.0000e+00\n",
      "Epoch 23/50\n",
      "1147/1147 [==============================] - 2s 2ms/step - loss: 0.9206 - accuracy: 0.0000e+00\n",
      "Epoch 24/50\n",
      "1147/1147 [==============================] - 2s 2ms/step - loss: 0.9205 - accuracy: 0.0000e+00\n",
      "Epoch 25/50\n",
      "1147/1147 [==============================] - 2s 2ms/step - loss: 0.9198 - accuracy: 0.0000e+00\n",
      "Epoch 26/50\n",
      "1147/1147 [==============================] - 2s 2ms/step - loss: 0.9196 - accuracy: 0.0000e+00\n",
      "Epoch 27/50\n",
      "1147/1147 [==============================] - 2s 2ms/step - loss: 0.9188 - accuracy: 0.0000e+00\n",
      "Epoch 28/50\n",
      "1147/1147 [==============================] - 2s 2ms/step - loss: 0.9193 - accuracy: 0.0000e+00\n",
      "Epoch 29/50\n",
      "1147/1147 [==============================] - 2s 2ms/step - loss: 0.9201 - accuracy: 0.0000e+00\n",
      "Epoch 30/50\n",
      "1147/1147 [==============================] - 2s 2ms/step - loss: 0.9199 - accuracy: 0.0000e+00\n",
      "Epoch 31/50\n",
      "1147/1147 [==============================] - 3s 3ms/step - loss: 0.9196 - accuracy: 0.0000e+00\n",
      "Epoch 32/50\n",
      "1147/1147 [==============================] - 3s 3ms/step - loss: 0.9193 - accuracy: 0.0000e+00\n",
      "Epoch 33/50\n",
      "1147/1147 [==============================] - 3s 2ms/step - loss: 0.9194 - accuracy: 0.0000e+00\n",
      "Epoch 34/50\n",
      "1147/1147 [==============================] - 2s 2ms/step - loss: 0.9192 - accuracy: 0.0000e+00\n",
      "Epoch 35/50\n",
      "1147/1147 [==============================] - 2s 2ms/step - loss: 0.9197 - accuracy: 0.0000e+00\n",
      "Epoch 36/50\n",
      "1147/1147 [==============================] - 2s 2ms/step - loss: 0.9189 - accuracy: 0.0000e+00\n",
      "Epoch 37/50\n",
      "1147/1147 [==============================] - 2s 2ms/step - loss: 0.9194 - accuracy: 0.0000e+00\n",
      "Epoch 38/50\n",
      "1147/1147 [==============================] - 2s 2ms/step - loss: 0.9195 - accuracy: 0.0000e+00\n",
      "Epoch 39/50\n",
      "1147/1147 [==============================] - 2s 2ms/step - loss: 0.9192 - accuracy: 0.0000e+00\n",
      "Epoch 40/50\n",
      "1147/1147 [==============================] - 2s 2ms/step - loss: 0.9195 - accuracy: 0.0000e+00\n",
      "Epoch 41/50\n",
      "1147/1147 [==============================] - 2s 2ms/step - loss: 0.9186 - accuracy: 0.0044\n",
      "Epoch 42/50\n",
      "1147/1147 [==============================] - 2s 2ms/step - loss: 0.9198 - accuracy: 0.0000e+00\n",
      "Epoch 43/50\n",
      "1147/1147 [==============================] - 2s 2ms/step - loss: 0.9193 - accuracy: 0.0000e+00\n",
      "Epoch 44/50\n",
      "1147/1147 [==============================] - 2s 2ms/step - loss: 0.9186 - accuracy: 0.0000e+00\n",
      "Epoch 45/50\n",
      "1147/1147 [==============================] - 2s 2ms/step - loss: 0.9194 - accuracy: 0.0000e+00\n",
      "Epoch 46/50\n",
      "1147/1147 [==============================] - 2s 2ms/step - loss: 0.9193 - accuracy: 0.0000e+00\n",
      "Epoch 47/50\n",
      "1147/1147 [==============================] - 2s 2ms/step - loss: 0.9190 - accuracy: 0.0000e+00\n",
      "Epoch 48/50\n",
      "1147/1147 [==============================] - 2s 2ms/step - loss: 0.9192 - accuracy: 0.0000e+00\n",
      "Epoch 49/50\n",
      "1147/1147 [==============================] - 2s 2ms/step - loss: 0.9195 - accuracy: 0.0000e+00\n",
      "Epoch 50/50\n",
      "1147/1147 [==============================] - 2s 2ms/step - loss: 0.9191 - accuracy: 0.0000e+00\n"
     ]
    },
    {
     "data": {
      "text/plain": [
       "<keras.callbacks.History at 0x7f98cab4fa00>"
      ]
     },
     "execution_count": 196,
     "metadata": {},
     "output_type": "execute_result"
    }
   ],
   "source": [
    "\n",
    "embedding_size_group = 6\n",
    "model = models.Sequential()\n",
    "model.add(Embedding(input_dim = 11, output_dim = embedding_size_group, input_length = 1, name=\"embedding_group\"))\n",
    "model.add(Flatten())\n",
    "model.add(Dense(50, activation=\"relu\"))\n",
    "model.add(Dense(15, activation=\"relu\"))\n",
    "model.add(Dense(1))\n",
    "model.compile(loss = \"mse\", optimizer = \"adam\", metrics=[\"accuracy\"])\n",
    "model.fit(x = cat_df['group'].to_numpy(), y=cat_df['vote'].to_numpy() , epochs = 50, batch_size = 4)"
   ]
  },
  {
   "cell_type": "code",
   "execution_count": 249,
   "id": "bbbfa62a",
   "metadata": {
    "scrolled": true
   },
   "outputs": [
    {
     "ename": "ValueError",
     "evalue": "No such layer: embedding_group. Existing layers are [<keras.layers.embeddings.Embedding object at 0x7f98c0495b80>, <keras.layers.core.flatten.Flatten object at 0x7f98c0784fa0>, <keras.layers.core.dense.Dense object at 0x7f98c07ccd30>, <keras.layers.core.dense.Dense object at 0x7f98ca7c59d0>, <keras.layers.core.dense.Dense object at 0x7f98ca793520>].",
     "output_type": "error",
     "traceback": [
      "\u001b[0;31m---------------------------------------------------------------------------\u001b[0m",
      "\u001b[0;31mValueError\u001b[0m                                Traceback (most recent call last)",
      "\u001b[0;32m/tmp/ipykernel_11353/2834722429.py\u001b[0m in \u001b[0;36m<module>\u001b[0;34m\u001b[0m\n\u001b[0;32m----> 1\u001b[0;31m \u001b[0mlayer_g\u001b[0m \u001b[0;34m=\u001b[0m \u001b[0mmodel\u001b[0m\u001b[0;34m.\u001b[0m\u001b[0mget_layer\u001b[0m\u001b[0;34m(\u001b[0m\u001b[0;34m'embedding_group'\u001b[0m\u001b[0;34m)\u001b[0m\u001b[0;34m\u001b[0m\u001b[0;34m\u001b[0m\u001b[0m\n\u001b[0m\u001b[1;32m      2\u001b[0m \u001b[0mgroup_embeddings_df\u001b[0m \u001b[0;34m=\u001b[0m \u001b[0mlayer_g\u001b[0m\u001b[0;34m.\u001b[0m\u001b[0mget_weights\u001b[0m\u001b[0;34m(\u001b[0m\u001b[0;34m)\u001b[0m\u001b[0;34m\u001b[0m\u001b[0;34m\u001b[0m\u001b[0m\n\u001b[1;32m      3\u001b[0m \u001b[0mgroup_embeddings_df\u001b[0m\u001b[0;34m\u001b[0m\u001b[0;34m\u001b[0m\u001b[0m\n",
      "\u001b[0;32m~/Anaconda3/lib/python3.8/site-packages/keras/engine/training.py\u001b[0m in \u001b[0;36mget_layer\u001b[0;34m(self, name, index)\u001b[0m\n\u001b[1;32m   2629\u001b[0m         \u001b[0;32mif\u001b[0m \u001b[0mlayer\u001b[0m\u001b[0;34m.\u001b[0m\u001b[0mname\u001b[0m \u001b[0;34m==\u001b[0m \u001b[0mname\u001b[0m\u001b[0;34m:\u001b[0m\u001b[0;34m\u001b[0m\u001b[0;34m\u001b[0m\u001b[0m\n\u001b[1;32m   2630\u001b[0m           \u001b[0;32mreturn\u001b[0m \u001b[0mlayer\u001b[0m\u001b[0;34m\u001b[0m\u001b[0;34m\u001b[0m\u001b[0m\n\u001b[0;32m-> 2631\u001b[0;31m       raise ValueError(f'No such layer: {name}. Existing layers are '\n\u001b[0m\u001b[1;32m   2632\u001b[0m                        f'{self.layers}.')\n\u001b[1;32m   2633\u001b[0m     raise ValueError('Provide either a layer name or layer index at '\n",
      "\u001b[0;31mValueError\u001b[0m: No such layer: embedding_group. Existing layers are [<keras.layers.embeddings.Embedding object at 0x7f98c0495b80>, <keras.layers.core.flatten.Flatten object at 0x7f98c0784fa0>, <keras.layers.core.dense.Dense object at 0x7f98c07ccd30>, <keras.layers.core.dense.Dense object at 0x7f98ca7c59d0>, <keras.layers.core.dense.Dense object at 0x7f98ca793520>]."
     ]
    }
   ],
   "source": [
    "layer_g = model.get_layer('embedding_group')\n",
    "group_embeddings_df = layer_g.get_weights()\n",
    "group_embeddings_df"
   ]
  },
  {
   "cell_type": "code",
   "execution_count": 198,
   "id": "9b265a01",
   "metadata": {
    "scrolled": true
   },
   "outputs": [
    {
     "data": {
      "text/html": [
       "<div>\n",
       "<style scoped>\n",
       "    .dataframe tbody tr th:only-of-type {\n",
       "        vertical-align: middle;\n",
       "    }\n",
       "\n",
       "    .dataframe tbody tr th {\n",
       "        vertical-align: top;\n",
       "    }\n",
       "\n",
       "    .dataframe thead th {\n",
       "        text-align: right;\n",
       "    }\n",
       "</style>\n",
       "<table border=\"1\" class=\"dataframe\">\n",
       "  <thead>\n",
       "    <tr style=\"text-align: right;\">\n",
       "      <th></th>\n",
       "      <th>group</th>\n",
       "      <th>embedding_1</th>\n",
       "      <th>embedding_2</th>\n",
       "      <th>embedding_3</th>\n",
       "      <th>embedding_4</th>\n",
       "      <th>embedding_5</th>\n",
       "      <th>embedding_6</th>\n",
       "    </tr>\n",
       "  </thead>\n",
       "  <tbody>\n",
       "    <tr>\n",
       "      <th>0</th>\n",
       "      <td>0</td>\n",
       "      <td>-0.108287</td>\n",
       "      <td>-0.062773</td>\n",
       "      <td>-0.023715</td>\n",
       "      <td>-0.000698</td>\n",
       "      <td>-0.090546</td>\n",
       "      <td>-0.082769</td>\n",
       "    </tr>\n",
       "    <tr>\n",
       "      <th>1</th>\n",
       "      <td>1</td>\n",
       "      <td>-0.121636</td>\n",
       "      <td>-0.029483</td>\n",
       "      <td>-0.011808</td>\n",
       "      <td>-0.060330</td>\n",
       "      <td>-0.084380</td>\n",
       "      <td>-0.057078</td>\n",
       "    </tr>\n",
       "    <tr>\n",
       "      <th>2</th>\n",
       "      <td>2</td>\n",
       "      <td>-0.171827</td>\n",
       "      <td>0.254917</td>\n",
       "      <td>-0.035796</td>\n",
       "      <td>-0.272430</td>\n",
       "      <td>0.004520</td>\n",
       "      <td>0.137680</td>\n",
       "    </tr>\n",
       "    <tr>\n",
       "      <th>3</th>\n",
       "      <td>3</td>\n",
       "      <td>0.039741</td>\n",
       "      <td>-0.359354</td>\n",
       "      <td>-0.013941</td>\n",
       "      <td>0.163743</td>\n",
       "      <td>0.131359</td>\n",
       "      <td>-0.067644</td>\n",
       "    </tr>\n",
       "    <tr>\n",
       "      <th>4</th>\n",
       "      <td>4</td>\n",
       "      <td>0.031088</td>\n",
       "      <td>-0.270170</td>\n",
       "      <td>0.078917</td>\n",
       "      <td>0.242216</td>\n",
       "      <td>0.007547</td>\n",
       "      <td>-0.174270</td>\n",
       "    </tr>\n",
       "    <tr>\n",
       "      <th>5</th>\n",
       "      <td>5</td>\n",
       "      <td>-0.107065</td>\n",
       "      <td>0.063836</td>\n",
       "      <td>0.029352</td>\n",
       "      <td>-0.076935</td>\n",
       "      <td>-0.031783</td>\n",
       "      <td>0.003528</td>\n",
       "    </tr>\n",
       "    <tr>\n",
       "      <th>6</th>\n",
       "      <td>6</td>\n",
       "      <td>-0.167438</td>\n",
       "      <td>0.322839</td>\n",
       "      <td>0.072663</td>\n",
       "      <td>-0.331638</td>\n",
       "      <td>-0.043552</td>\n",
       "      <td>0.173563</td>\n",
       "    </tr>\n",
       "    <tr>\n",
       "      <th>7</th>\n",
       "      <td>7</td>\n",
       "      <td>0.261634</td>\n",
       "      <td>-0.099553</td>\n",
       "      <td>0.004347</td>\n",
       "      <td>0.251996</td>\n",
       "      <td>0.186535</td>\n",
       "      <td>0.184012</td>\n",
       "    </tr>\n",
       "    <tr>\n",
       "      <th>8</th>\n",
       "      <td>8</td>\n",
       "      <td>0.375083</td>\n",
       "      <td>0.001709</td>\n",
       "      <td>0.060271</td>\n",
       "      <td>0.320462</td>\n",
       "      <td>0.306612</td>\n",
       "      <td>0.328786</td>\n",
       "    </tr>\n",
       "    <tr>\n",
       "      <th>9</th>\n",
       "      <td>9</td>\n",
       "      <td>-0.127789</td>\n",
       "      <td>0.180640</td>\n",
       "      <td>-0.084594</td>\n",
       "      <td>-0.160178</td>\n",
       "      <td>0.063058</td>\n",
       "      <td>0.070466</td>\n",
       "    </tr>\n",
       "    <tr>\n",
       "      <th>10</th>\n",
       "      <td>10</td>\n",
       "      <td>0.188072</td>\n",
       "      <td>-0.059740</td>\n",
       "      <td>-0.009463</td>\n",
       "      <td>0.106974</td>\n",
       "      <td>0.007378</td>\n",
       "      <td>-0.532590</td>\n",
       "    </tr>\n",
       "  </tbody>\n",
       "</table>\n",
       "</div>"
      ],
      "text/plain": [
       "    group  embedding_1  embedding_2  embedding_3  embedding_4  embedding_5  \\\n",
       "0       0    -0.108287    -0.062773    -0.023715    -0.000698    -0.090546   \n",
       "1       1    -0.121636    -0.029483    -0.011808    -0.060330    -0.084380   \n",
       "2       2    -0.171827     0.254917    -0.035796    -0.272430     0.004520   \n",
       "3       3     0.039741    -0.359354    -0.013941     0.163743     0.131359   \n",
       "4       4     0.031088    -0.270170     0.078917     0.242216     0.007547   \n",
       "5       5    -0.107065     0.063836     0.029352    -0.076935    -0.031783   \n",
       "6       6    -0.167438     0.322839     0.072663    -0.331638    -0.043552   \n",
       "7       7     0.261634    -0.099553     0.004347     0.251996     0.186535   \n",
       "8       8     0.375083     0.001709     0.060271     0.320462     0.306612   \n",
       "9       9    -0.127789     0.180640    -0.084594    -0.160178     0.063058   \n",
       "10     10     0.188072    -0.059740    -0.009463     0.106974     0.007378   \n",
       "\n",
       "    embedding_6  \n",
       "0     -0.082769  \n",
       "1     -0.057078  \n",
       "2      0.137680  \n",
       "3     -0.067644  \n",
       "4     -0.174270  \n",
       "5      0.003528  \n",
       "6      0.173563  \n",
       "7      0.184012  \n",
       "8      0.328786  \n",
       "9      0.070466  \n",
       "10    -0.532590  "
      ]
     },
     "execution_count": 198,
     "metadata": {},
     "output_type": "execute_result"
    }
   ],
   "source": [
    "group_embeddings_df = pd.DataFrame(group_embeddings_df[0])\n",
    "group_embeddings_df = group_embeddings_df.reset_index()\n",
    "group_embeddings_df.columns = ['group', 'embedding_1', 'embedding_2', 'embedding_3', 'embedding_4', 'embedding_5', 'embedding_6']\n",
    "group_embeddings_df"
   ]
  },
  {
   "cell_type": "markdown",
   "id": "c45631c2",
   "metadata": {},
   "source": [
    "### Embedding District"
   ]
  },
  {
   "cell_type": "code",
   "execution_count": 250,
   "id": "05e2a455",
   "metadata": {},
   "outputs": [],
   "source": [
    "cats_district = cat_df['District'].astype('category').cat.categories\n",
    "cat_df['District'] = cat_df['District'].astype('category').cat.codes"
   ]
  },
  {
   "cell_type": "code",
   "execution_count": 251,
   "id": "4946eb2d",
   "metadata": {},
   "outputs": [
    {
     "data": {
      "text/html": [
       "<div>\n",
       "<style scoped>\n",
       "    .dataframe tbody tr th:only-of-type {\n",
       "        vertical-align: middle;\n",
       "    }\n",
       "\n",
       "    .dataframe tbody tr th {\n",
       "        vertical-align: top;\n",
       "    }\n",
       "\n",
       "    .dataframe thead th {\n",
       "        text-align: right;\n",
       "    }\n",
       "</style>\n",
       "<table border=\"1\" class=\"dataframe\">\n",
       "  <thead>\n",
       "    <tr style=\"text-align: right;\">\n",
       "      <th></th>\n",
       "      <th>group</th>\n",
       "      <th>Genre</th>\n",
       "      <th>Âge</th>\n",
       "      <th>District</th>\n",
       "      <th>vote</th>\n",
       "    </tr>\n",
       "  </thead>\n",
       "  <tbody>\n",
       "    <tr>\n",
       "      <th>0</th>\n",
       "      <td>3</td>\n",
       "      <td>H</td>\n",
       "      <td>30-45</td>\n",
       "      <td>11</td>\n",
       "      <td>-1.0</td>\n",
       "    </tr>\n",
       "    <tr>\n",
       "      <th>1</th>\n",
       "      <td>3</td>\n",
       "      <td>H</td>\n",
       "      <td>30-45</td>\n",
       "      <td>11</td>\n",
       "      <td>1.0</td>\n",
       "    </tr>\n",
       "    <tr>\n",
       "      <th>2</th>\n",
       "      <td>3</td>\n",
       "      <td>H</td>\n",
       "      <td>30-45</td>\n",
       "      <td>11</td>\n",
       "      <td>1.0</td>\n",
       "    </tr>\n",
       "    <tr>\n",
       "      <th>3</th>\n",
       "      <td>3</td>\n",
       "      <td>H</td>\n",
       "      <td>30-45</td>\n",
       "      <td>11</td>\n",
       "      <td>1.0</td>\n",
       "    </tr>\n",
       "    <tr>\n",
       "      <th>4</th>\n",
       "      <td>3</td>\n",
       "      <td>H</td>\n",
       "      <td>30-45</td>\n",
       "      <td>11</td>\n",
       "      <td>1.0</td>\n",
       "    </tr>\n",
       "  </tbody>\n",
       "</table>\n",
       "</div>"
      ],
      "text/plain": [
       "   group Genre    Âge  District  vote\n",
       "0      3     H  30-45        11  -1.0\n",
       "1      3     H  30-45        11   1.0\n",
       "2      3     H  30-45        11   1.0\n",
       "3      3     H  30-45        11   1.0\n",
       "4      3     H  30-45        11   1.0"
      ]
     },
     "execution_count": 251,
     "metadata": {},
     "output_type": "execute_result"
    }
   ],
   "source": [
    "cat_df.head()"
   ]
  },
  {
   "cell_type": "code",
   "execution_count": 240,
   "id": "d35b8148",
   "metadata": {
    "scrolled": true
   },
   "outputs": [
    {
     "name": "stdout",
     "output_type": "stream",
     "text": [
      "Epoch 1/50\n",
      "1147/1147 [==============================] - 3s 2ms/step - loss: 0.9669 - accuracy: 0.0000e+00\n",
      "Epoch 2/50\n",
      "1147/1147 [==============================] - 2s 2ms/step - loss: 0.9619 - accuracy: 0.0000e+00\n",
      "Epoch 3/50\n",
      "1147/1147 [==============================] - 2s 2ms/step - loss: 0.9606 - accuracy: 0.0000e+00\n",
      "Epoch 4/50\n",
      "1147/1147 [==============================] - 2s 2ms/step - loss: 0.9602 - accuracy: 0.0000e+00\n",
      "Epoch 5/50\n",
      "1147/1147 [==============================] - 2s 2ms/step - loss: 0.9596 - accuracy: 0.0000e+00\n",
      "Epoch 6/50\n",
      "1147/1147 [==============================] - 2s 2ms/step - loss: 0.9592 - accuracy: 0.0000e+00\n",
      "Epoch 7/50\n",
      "1147/1147 [==============================] - 2s 2ms/step - loss: 0.9595 - accuracy: 0.0000e+00\n",
      "Epoch 8/50\n",
      "1147/1147 [==============================] - 2s 2ms/step - loss: 0.9595 - accuracy: 0.0000e+00\n",
      "Epoch 9/50\n",
      "1147/1147 [==============================] - 2s 2ms/step - loss: 0.9590 - accuracy: 0.0000e+00\n",
      "Epoch 10/50\n",
      "1147/1147 [==============================] - 2s 2ms/step - loss: 0.9596 - accuracy: 0.0000e+00\n",
      "Epoch 11/50\n",
      "1147/1147 [==============================] - 2s 2ms/step - loss: 0.9589 - accuracy: 0.0000e+00\n",
      "Epoch 12/50\n",
      "1147/1147 [==============================] - 2s 2ms/step - loss: 0.9610 - accuracy: 0.0000e+00\n",
      "Epoch 13/50\n",
      "1147/1147 [==============================] - 2s 2ms/step - loss: 0.9587 - accuracy: 0.0000e+00\n",
      "Epoch 14/50\n",
      "1147/1147 [==============================] - 2s 2ms/step - loss: 0.9588 - accuracy: 0.0000e+00\n",
      "Epoch 15/50\n",
      "1147/1147 [==============================] - 2s 2ms/step - loss: 0.9587 - accuracy: 0.0000e+00\n",
      "Epoch 16/50\n",
      "1147/1147 [==============================] - 2s 2ms/step - loss: 0.9583 - accuracy: 0.0000e+00\n",
      "Epoch 17/50\n",
      "1147/1147 [==============================] - 2s 2ms/step - loss: 0.9584 - accuracy: 0.0000e+00\n",
      "Epoch 18/50\n",
      "1147/1147 [==============================] - 2s 2ms/step - loss: 0.9576 - accuracy: 4.3592e-04\n",
      "Epoch 19/50\n",
      "1147/1147 [==============================] - 2s 2ms/step - loss: 0.9591 - accuracy: 0.0000e+00\n",
      "Epoch 20/50\n",
      "1147/1147 [==============================] - 2s 2ms/step - loss: 0.9590 - accuracy: 0.0000e+00\n",
      "Epoch 21/50\n",
      "1147/1147 [==============================] - 2s 2ms/step - loss: 0.9583 - accuracy: 0.0000e+00\n",
      "Epoch 22/50\n",
      "1147/1147 [==============================] - 2s 2ms/step - loss: 0.9590 - accuracy: 0.0000e+00\n",
      "Epoch 23/50\n",
      "1147/1147 [==============================] - 2s 2ms/step - loss: 0.9584 - accuracy: 0.0000e+00\n",
      "Epoch 24/50\n",
      "1147/1147 [==============================] - 2s 2ms/step - loss: 0.9584 - accuracy: 0.0000e+00\n",
      "Epoch 25/50\n",
      "1147/1147 [==============================] - 2s 1ms/step - loss: 0.9583 - accuracy: 0.0000e+00\n",
      "Epoch 26/50\n",
      "1147/1147 [==============================] - 2s 2ms/step - loss: 0.9584 - accuracy: 0.0000e+00\n",
      "Epoch 27/50\n",
      "1147/1147 [==============================] - 2s 2ms/step - loss: 0.9585 - accuracy: 0.0022\n",
      "Epoch 28/50\n",
      "1147/1147 [==============================] - 2s 2ms/step - loss: 0.9585 - accuracy: 0.0000e+00\n",
      "Epoch 29/50\n",
      "1147/1147 [==============================] - 3s 2ms/step - loss: 0.9582 - accuracy: 0.0000e+00\n",
      "Epoch 30/50\n",
      "1147/1147 [==============================] - 3s 3ms/step - loss: 0.9576 - accuracy: 4.3592e-04\n",
      "Epoch 31/50\n",
      "1147/1147 [==============================] - 3s 3ms/step - loss: 0.9583 - accuracy: 0.0000e+00\n",
      "Epoch 32/50\n",
      "1147/1147 [==============================] - 3s 2ms/step - loss: 0.9576 - accuracy: 0.0000e+00\n",
      "Epoch 33/50\n",
      "1147/1147 [==============================] - 2s 2ms/step - loss: 0.9581 - accuracy: 0.0000e+00\n",
      "Epoch 34/50\n",
      "1147/1147 [==============================] - 2s 2ms/step - loss: 0.9582 - accuracy: 0.0000e+00\n",
      "Epoch 35/50\n",
      "1147/1147 [==============================] - 2s 2ms/step - loss: 0.9580 - accuracy: 0.0000e+00\n",
      "Epoch 36/50\n",
      "1147/1147 [==============================] - 2s 2ms/step - loss: 0.9583 - accuracy: 0.0000e+00\n",
      "Epoch 37/50\n",
      "1147/1147 [==============================] - 2s 2ms/step - loss: 0.9581 - accuracy: 0.0000e+00\n",
      "Epoch 38/50\n",
      "1147/1147 [==============================] - 2s 2ms/step - loss: 0.9582 - accuracy: 0.0000e+00\n",
      "Epoch 39/50\n",
      "1147/1147 [==============================] - 2s 2ms/step - loss: 0.9577 - accuracy: 0.0000e+00\n",
      "Epoch 40/50\n",
      "1147/1147 [==============================] - 3s 2ms/step - loss: 0.9586 - accuracy: 0.0000e+00\n",
      "Epoch 41/50\n",
      "1147/1147 [==============================] - 2s 2ms/step - loss: 0.9581 - accuracy: 0.0000e+00\n",
      "Epoch 42/50\n",
      "1147/1147 [==============================] - 2s 2ms/step - loss: 0.9578 - accuracy: 0.0000e+00\n",
      "Epoch 43/50\n",
      "1147/1147 [==============================] - 2s 2ms/step - loss: 0.9575 - accuracy: 0.0000e+00\n",
      "Epoch 44/50\n",
      "1147/1147 [==============================] - 2s 2ms/step - loss: 0.9582 - accuracy: 0.0000e+00\n",
      "Epoch 45/50\n",
      "1147/1147 [==============================] - 2s 2ms/step - loss: 0.9582 - accuracy: 0.0000e+00\n",
      "Epoch 46/50\n",
      "1147/1147 [==============================] - 2s 2ms/step - loss: 0.9580 - accuracy: 0.0000e+00\n",
      "Epoch 47/50\n",
      "1147/1147 [==============================] - 2s 2ms/step - loss: 0.9581 - accuracy: 0.0000e+00\n",
      "Epoch 48/50\n",
      "1147/1147 [==============================] - 2s 2ms/step - loss: 0.9577 - accuracy: 0.0000e+00\n",
      "Epoch 49/50\n",
      "1147/1147 [==============================] - 2s 2ms/step - loss: 0.9582 - accuracy: 0.0000e+00\n",
      "Epoch 50/50\n",
      "1147/1147 [==============================] - 2s 2ms/step - loss: 0.9579 - accuracy: 0.0000e+00\n"
     ]
    },
    {
     "data": {
      "text/plain": [
       "<keras.callbacks.History at 0x7f98c066ffa0>"
      ]
     },
     "execution_count": 240,
     "metadata": {},
     "output_type": "execute_result"
    }
   ],
   "source": [
    "#Jeremy Howard suggests the following solution for choosing embedding sizes:\n",
    "#embedding_size = min(50, m+1/ 2)\n",
    "#District embedding size is 14\n",
    "#Âge embedding size is 4\n",
    "embedding_size_district = 8\n",
    "model = models.Sequential()\n",
    "model.add(Embedding(input_dim = 14, output_dim = embedding_size_district, input_length = 1, name=\"embedding_district\"))\n",
    "model.add(Flatten())\n",
    "model.add(Dense(50, activation=\"relu\"))\n",
    "model.add(Dense(15, activation=\"relu\"))\n",
    "model.add(Dense(1))\n",
    "model.compile(loss = \"mse\", optimizer = \"adam\", metrics=[\"accuracy\"])\n",
    "model.fit(x = cat_df['District'].to_numpy(), y=cat_df['vote'].to_numpy() , epochs = 50, batch_size = 4)"
   ]
  },
  {
   "cell_type": "code",
   "execution_count": 252,
   "id": "974a45b3",
   "metadata": {
    "scrolled": true
   },
   "outputs": [
    {
     "data": {
      "text/plain": [
       "[array([[-0.02913838,  0.16746987,  0.11934769, -0.06833006, -0.01205898,\n",
       "         -0.16574207,  0.06863725, -0.27390942],\n",
       "        [ 0.05872423, -0.03008525,  0.08804335,  0.07637136,  0.05462293,\n",
       "          0.07692342, -0.07536817, -0.02764381],\n",
       "        [-0.09407892,  0.00852532,  0.06879131, -0.03573737,  0.10022385,\n",
       "          0.04958227,  0.02101661, -0.09071258],\n",
       "        [ 0.00674657,  0.0963497 , -0.38312477,  0.43566188, -0.46105814,\n",
       "          0.03973494,  0.43801704,  0.36096886],\n",
       "        [-0.14343092,  0.09908944,  0.17231022, -0.0301197 ,  0.04184723,\n",
       "         -0.09909713,  0.14623386, -0.14508441],\n",
       "        [ 0.22724003,  0.2434686 , -0.12826672, -0.30810404, -0.20499463,\n",
       "         -0.12829645,  0.21337962, -0.25964862],\n",
       "        [ 0.12170982, -0.05460006,  0.11935936,  0.14435454,  0.10631802,\n",
       "          0.09820893, -0.1405488 , -0.12926197],\n",
       "        [ 0.11057239, -0.00624148,  0.02849116,  0.02722417,  0.03487188,\n",
       "          0.16171348, -0.13120957,  0.00858245],\n",
       "        [ 0.03981345, -0.07912286, -0.05956792, -0.04076155,  0.12366045,\n",
       "         -0.00487813, -0.19592601,  0.06972691],\n",
       "        [-0.11910316, -0.05361049, -0.04164152, -0.0715758 ,  0.11106331,\n",
       "          0.04190184, -0.0227616 ,  0.05969572],\n",
       "        [-0.21721058, -0.51519275, -0.13811179, -0.05475875,  0.5927733 ,\n",
       "         -0.06090528, -0.74153316,  0.12347623],\n",
       "        [-0.05332526,  0.02813611, -0.10372616,  0.17165029, -0.19544932,\n",
       "         -0.01622275,  0.17178126,  0.13185708],\n",
       "        [ 0.04669284, -0.01686079, -0.18380633,  0.22196706, -0.29583853,\n",
       "          0.07949671,  0.20900035,  0.17103876],\n",
       "        [-0.01213694, -0.08377039, -0.14542289,  0.15195923, -0.23838504,\n",
       "          0.1285355 ,  0.19814587,  0.15120712]], dtype=float32)]"
      ]
     },
     "execution_count": 252,
     "metadata": {},
     "output_type": "execute_result"
    }
   ],
   "source": [
    "layer_d = model.get_layer('embedding_district')\n",
    "district_embeddings_df = layer_d.get_weights()\n",
    "district_embeddings_df"
   ]
  },
  {
   "cell_type": "code",
   "execution_count": 253,
   "id": "da74a9dc",
   "metadata": {
    "scrolled": true
   },
   "outputs": [
    {
     "data": {
      "text/html": [
       "<div>\n",
       "<style scoped>\n",
       "    .dataframe tbody tr th:only-of-type {\n",
       "        vertical-align: middle;\n",
       "    }\n",
       "\n",
       "    .dataframe tbody tr th {\n",
       "        vertical-align: top;\n",
       "    }\n",
       "\n",
       "    .dataframe thead th {\n",
       "        text-align: right;\n",
       "    }\n",
       "</style>\n",
       "<table border=\"1\" class=\"dataframe\">\n",
       "  <thead>\n",
       "    <tr style=\"text-align: right;\">\n",
       "      <th></th>\n",
       "      <th>District</th>\n",
       "      <th>embedding_1_d</th>\n",
       "      <th>embedding_2_d</th>\n",
       "      <th>embedding_3_d</th>\n",
       "      <th>embedding_4_d</th>\n",
       "      <th>embedding_5_d</th>\n",
       "      <th>embedding_6_d</th>\n",
       "      <th>embedding_7_d</th>\n",
       "      <th>embedding_8_d</th>\n",
       "    </tr>\n",
       "  </thead>\n",
       "  <tbody>\n",
       "    <tr>\n",
       "      <th>0</th>\n",
       "      <td>0</td>\n",
       "      <td>-0.029138</td>\n",
       "      <td>0.167470</td>\n",
       "      <td>0.119348</td>\n",
       "      <td>-0.068330</td>\n",
       "      <td>-0.012059</td>\n",
       "      <td>-0.165742</td>\n",
       "      <td>0.068637</td>\n",
       "      <td>-0.273909</td>\n",
       "    </tr>\n",
       "    <tr>\n",
       "      <th>1</th>\n",
       "      <td>1</td>\n",
       "      <td>0.058724</td>\n",
       "      <td>-0.030085</td>\n",
       "      <td>0.088043</td>\n",
       "      <td>0.076371</td>\n",
       "      <td>0.054623</td>\n",
       "      <td>0.076923</td>\n",
       "      <td>-0.075368</td>\n",
       "      <td>-0.027644</td>\n",
       "    </tr>\n",
       "    <tr>\n",
       "      <th>2</th>\n",
       "      <td>2</td>\n",
       "      <td>-0.094079</td>\n",
       "      <td>0.008525</td>\n",
       "      <td>0.068791</td>\n",
       "      <td>-0.035737</td>\n",
       "      <td>0.100224</td>\n",
       "      <td>0.049582</td>\n",
       "      <td>0.021017</td>\n",
       "      <td>-0.090713</td>\n",
       "    </tr>\n",
       "    <tr>\n",
       "      <th>3</th>\n",
       "      <td>3</td>\n",
       "      <td>0.006747</td>\n",
       "      <td>0.096350</td>\n",
       "      <td>-0.383125</td>\n",
       "      <td>0.435662</td>\n",
       "      <td>-0.461058</td>\n",
       "      <td>0.039735</td>\n",
       "      <td>0.438017</td>\n",
       "      <td>0.360969</td>\n",
       "    </tr>\n",
       "    <tr>\n",
       "      <th>4</th>\n",
       "      <td>4</td>\n",
       "      <td>-0.143431</td>\n",
       "      <td>0.099089</td>\n",
       "      <td>0.172310</td>\n",
       "      <td>-0.030120</td>\n",
       "      <td>0.041847</td>\n",
       "      <td>-0.099097</td>\n",
       "      <td>0.146234</td>\n",
       "      <td>-0.145084</td>\n",
       "    </tr>\n",
       "    <tr>\n",
       "      <th>5</th>\n",
       "      <td>5</td>\n",
       "      <td>0.227240</td>\n",
       "      <td>0.243469</td>\n",
       "      <td>-0.128267</td>\n",
       "      <td>-0.308104</td>\n",
       "      <td>-0.204995</td>\n",
       "      <td>-0.128296</td>\n",
       "      <td>0.213380</td>\n",
       "      <td>-0.259649</td>\n",
       "    </tr>\n",
       "    <tr>\n",
       "      <th>6</th>\n",
       "      <td>6</td>\n",
       "      <td>0.121710</td>\n",
       "      <td>-0.054600</td>\n",
       "      <td>0.119359</td>\n",
       "      <td>0.144355</td>\n",
       "      <td>0.106318</td>\n",
       "      <td>0.098209</td>\n",
       "      <td>-0.140549</td>\n",
       "      <td>-0.129262</td>\n",
       "    </tr>\n",
       "    <tr>\n",
       "      <th>7</th>\n",
       "      <td>7</td>\n",
       "      <td>0.110572</td>\n",
       "      <td>-0.006241</td>\n",
       "      <td>0.028491</td>\n",
       "      <td>0.027224</td>\n",
       "      <td>0.034872</td>\n",
       "      <td>0.161713</td>\n",
       "      <td>-0.131210</td>\n",
       "      <td>0.008582</td>\n",
       "    </tr>\n",
       "    <tr>\n",
       "      <th>8</th>\n",
       "      <td>8</td>\n",
       "      <td>0.039813</td>\n",
       "      <td>-0.079123</td>\n",
       "      <td>-0.059568</td>\n",
       "      <td>-0.040762</td>\n",
       "      <td>0.123660</td>\n",
       "      <td>-0.004878</td>\n",
       "      <td>-0.195926</td>\n",
       "      <td>0.069727</td>\n",
       "    </tr>\n",
       "    <tr>\n",
       "      <th>9</th>\n",
       "      <td>9</td>\n",
       "      <td>-0.119103</td>\n",
       "      <td>-0.053610</td>\n",
       "      <td>-0.041642</td>\n",
       "      <td>-0.071576</td>\n",
       "      <td>0.111063</td>\n",
       "      <td>0.041902</td>\n",
       "      <td>-0.022762</td>\n",
       "      <td>0.059696</td>\n",
       "    </tr>\n",
       "    <tr>\n",
       "      <th>10</th>\n",
       "      <td>10</td>\n",
       "      <td>-0.217211</td>\n",
       "      <td>-0.515193</td>\n",
       "      <td>-0.138112</td>\n",
       "      <td>-0.054759</td>\n",
       "      <td>0.592773</td>\n",
       "      <td>-0.060905</td>\n",
       "      <td>-0.741533</td>\n",
       "      <td>0.123476</td>\n",
       "    </tr>\n",
       "    <tr>\n",
       "      <th>11</th>\n",
       "      <td>11</td>\n",
       "      <td>-0.053325</td>\n",
       "      <td>0.028136</td>\n",
       "      <td>-0.103726</td>\n",
       "      <td>0.171650</td>\n",
       "      <td>-0.195449</td>\n",
       "      <td>-0.016223</td>\n",
       "      <td>0.171781</td>\n",
       "      <td>0.131857</td>\n",
       "    </tr>\n",
       "    <tr>\n",
       "      <th>12</th>\n",
       "      <td>12</td>\n",
       "      <td>0.046693</td>\n",
       "      <td>-0.016861</td>\n",
       "      <td>-0.183806</td>\n",
       "      <td>0.221967</td>\n",
       "      <td>-0.295839</td>\n",
       "      <td>0.079497</td>\n",
       "      <td>0.209000</td>\n",
       "      <td>0.171039</td>\n",
       "    </tr>\n",
       "    <tr>\n",
       "      <th>13</th>\n",
       "      <td>13</td>\n",
       "      <td>-0.012137</td>\n",
       "      <td>-0.083770</td>\n",
       "      <td>-0.145423</td>\n",
       "      <td>0.151959</td>\n",
       "      <td>-0.238385</td>\n",
       "      <td>0.128535</td>\n",
       "      <td>0.198146</td>\n",
       "      <td>0.151207</td>\n",
       "    </tr>\n",
       "  </tbody>\n",
       "</table>\n",
       "</div>"
      ],
      "text/plain": [
       "    District  embedding_1_d  embedding_2_d  embedding_3_d  embedding_4_d  \\\n",
       "0          0      -0.029138       0.167470       0.119348      -0.068330   \n",
       "1          1       0.058724      -0.030085       0.088043       0.076371   \n",
       "2          2      -0.094079       0.008525       0.068791      -0.035737   \n",
       "3          3       0.006747       0.096350      -0.383125       0.435662   \n",
       "4          4      -0.143431       0.099089       0.172310      -0.030120   \n",
       "5          5       0.227240       0.243469      -0.128267      -0.308104   \n",
       "6          6       0.121710      -0.054600       0.119359       0.144355   \n",
       "7          7       0.110572      -0.006241       0.028491       0.027224   \n",
       "8          8       0.039813      -0.079123      -0.059568      -0.040762   \n",
       "9          9      -0.119103      -0.053610      -0.041642      -0.071576   \n",
       "10        10      -0.217211      -0.515193      -0.138112      -0.054759   \n",
       "11        11      -0.053325       0.028136      -0.103726       0.171650   \n",
       "12        12       0.046693      -0.016861      -0.183806       0.221967   \n",
       "13        13      -0.012137      -0.083770      -0.145423       0.151959   \n",
       "\n",
       "    embedding_5_d  embedding_6_d  embedding_7_d  embedding_8_d  \n",
       "0       -0.012059      -0.165742       0.068637      -0.273909  \n",
       "1        0.054623       0.076923      -0.075368      -0.027644  \n",
       "2        0.100224       0.049582       0.021017      -0.090713  \n",
       "3       -0.461058       0.039735       0.438017       0.360969  \n",
       "4        0.041847      -0.099097       0.146234      -0.145084  \n",
       "5       -0.204995      -0.128296       0.213380      -0.259649  \n",
       "6        0.106318       0.098209      -0.140549      -0.129262  \n",
       "7        0.034872       0.161713      -0.131210       0.008582  \n",
       "8        0.123660      -0.004878      -0.195926       0.069727  \n",
       "9        0.111063       0.041902      -0.022762       0.059696  \n",
       "10       0.592773      -0.060905      -0.741533       0.123476  \n",
       "11      -0.195449      -0.016223       0.171781       0.131857  \n",
       "12      -0.295839       0.079497       0.209000       0.171039  \n",
       "13      -0.238385       0.128535       0.198146       0.151207  "
      ]
     },
     "execution_count": 253,
     "metadata": {},
     "output_type": "execute_result"
    }
   ],
   "source": [
    "district_embeddings_df = pd.DataFrame(district_embeddings_df[0])\n",
    "district_embeddings_df = district_embeddings_df.reset_index()\n",
    "district_embeddings_df.columns = ['District', 'embedding_1_d', 'embedding_2_d', 'embedding_3_d', 'embedding_4_d', 'embedding_5_d', 'embedding_6_d', 'embedding_7_d', 'embedding_8_d']\n",
    "district_embeddings_df"
   ]
  },
  {
   "cell_type": "code",
   "execution_count": 268,
   "id": "e08dd11e",
   "metadata": {},
   "outputs": [
    {
     "name": "stdout",
     "output_type": "stream",
     "text": [
      "District         13.000000\n",
      "embedding_1_d     0.227240\n",
      "embedding_2_d     0.243469\n",
      "embedding_3_d     0.172310\n",
      "embedding_4_d     0.435662\n",
      "embedding_5_d     0.592773\n",
      "embedding_6_d     0.161713\n",
      "embedding_7_d     0.438017\n",
      "embedding_8_d     0.360969\n",
      "dtype: float64\n"
     ]
    }
   ],
   "source": [
    "print(district_embeddings_df.max())"
   ]
  },
  {
   "cell_type": "markdown",
   "id": "bb53b9e8",
   "metadata": {},
   "source": [
    "### Label genre and age"
   ]
  },
  {
   "cell_type": "code",
   "execution_count": 254,
   "id": "285942a8",
   "metadata": {},
   "outputs": [
    {
     "data": {
      "text/html": [
       "<div>\n",
       "<style scoped>\n",
       "    .dataframe tbody tr th:only-of-type {\n",
       "        vertical-align: middle;\n",
       "    }\n",
       "\n",
       "    .dataframe tbody tr th {\n",
       "        vertical-align: top;\n",
       "    }\n",
       "\n",
       "    .dataframe thead th {\n",
       "        text-align: right;\n",
       "    }\n",
       "</style>\n",
       "<table border=\"1\" class=\"dataframe\">\n",
       "  <thead>\n",
       "    <tr style=\"text-align: right;\">\n",
       "      <th></th>\n",
       "      <th>group</th>\n",
       "      <th>Genre</th>\n",
       "      <th>Âge</th>\n",
       "      <th>District</th>\n",
       "      <th>vote</th>\n",
       "    </tr>\n",
       "  </thead>\n",
       "  <tbody>\n",
       "    <tr>\n",
       "      <th>0</th>\n",
       "      <td>3</td>\n",
       "      <td>1</td>\n",
       "      <td>30-45</td>\n",
       "      <td>11</td>\n",
       "      <td>-1.0</td>\n",
       "    </tr>\n",
       "    <tr>\n",
       "      <th>1</th>\n",
       "      <td>3</td>\n",
       "      <td>1</td>\n",
       "      <td>30-45</td>\n",
       "      <td>11</td>\n",
       "      <td>1.0</td>\n",
       "    </tr>\n",
       "    <tr>\n",
       "      <th>2</th>\n",
       "      <td>3</td>\n",
       "      <td>1</td>\n",
       "      <td>30-45</td>\n",
       "      <td>11</td>\n",
       "      <td>1.0</td>\n",
       "    </tr>\n",
       "    <tr>\n",
       "      <th>3</th>\n",
       "      <td>3</td>\n",
       "      <td>1</td>\n",
       "      <td>30-45</td>\n",
       "      <td>11</td>\n",
       "      <td>1.0</td>\n",
       "    </tr>\n",
       "    <tr>\n",
       "      <th>4</th>\n",
       "      <td>3</td>\n",
       "      <td>1</td>\n",
       "      <td>30-45</td>\n",
       "      <td>11</td>\n",
       "      <td>1.0</td>\n",
       "    </tr>\n",
       "  </tbody>\n",
       "</table>\n",
       "</div>"
      ],
      "text/plain": [
       "   group  Genre    Âge  District  vote\n",
       "0      3      1  30-45        11  -1.0\n",
       "1      3      1  30-45        11   1.0\n",
       "2      3      1  30-45        11   1.0\n",
       "3      3      1  30-45        11   1.0\n",
       "4      3      1  30-45        11   1.0"
      ]
     },
     "execution_count": 254,
     "metadata": {},
     "output_type": "execute_result"
    }
   ],
   "source": [
    "cat_df['Genre'] = cat_df['Genre'].astype('category').cat.codes\n",
    "cat_df.head()"
   ]
  },
  {
   "cell_type": "code",
   "execution_count": 255,
   "id": "8d92c596",
   "metadata": {},
   "outputs": [],
   "source": [
    "cat_df = pd.get_dummies(data=cat_df, columns=['Âge'])"
   ]
  },
  {
   "cell_type": "code",
   "execution_count": 256,
   "id": "50de5c26",
   "metadata": {},
   "outputs": [
    {
     "data": {
      "text/html": [
       "<div>\n",
       "<style scoped>\n",
       "    .dataframe tbody tr th:only-of-type {\n",
       "        vertical-align: middle;\n",
       "    }\n",
       "\n",
       "    .dataframe tbody tr th {\n",
       "        vertical-align: top;\n",
       "    }\n",
       "\n",
       "    .dataframe thead th {\n",
       "        text-align: right;\n",
       "    }\n",
       "</style>\n",
       "<table border=\"1\" class=\"dataframe\">\n",
       "  <thead>\n",
       "    <tr style=\"text-align: right;\">\n",
       "      <th></th>\n",
       "      <th>group</th>\n",
       "      <th>Genre</th>\n",
       "      <th>District</th>\n",
       "      <th>vote</th>\n",
       "      <th>Âge_18-30</th>\n",
       "      <th>Âge_30-45</th>\n",
       "      <th>Âge_45-65</th>\n",
       "      <th>Âge_65+</th>\n",
       "    </tr>\n",
       "  </thead>\n",
       "  <tbody>\n",
       "    <tr>\n",
       "      <th>0</th>\n",
       "      <td>3</td>\n",
       "      <td>1</td>\n",
       "      <td>11</td>\n",
       "      <td>-1.0</td>\n",
       "      <td>0</td>\n",
       "      <td>1</td>\n",
       "      <td>0</td>\n",
       "      <td>0</td>\n",
       "    </tr>\n",
       "    <tr>\n",
       "      <th>1</th>\n",
       "      <td>3</td>\n",
       "      <td>1</td>\n",
       "      <td>11</td>\n",
       "      <td>1.0</td>\n",
       "      <td>0</td>\n",
       "      <td>1</td>\n",
       "      <td>0</td>\n",
       "      <td>0</td>\n",
       "    </tr>\n",
       "    <tr>\n",
       "      <th>2</th>\n",
       "      <td>3</td>\n",
       "      <td>1</td>\n",
       "      <td>11</td>\n",
       "      <td>1.0</td>\n",
       "      <td>0</td>\n",
       "      <td>1</td>\n",
       "      <td>0</td>\n",
       "      <td>0</td>\n",
       "    </tr>\n",
       "    <tr>\n",
       "      <th>3</th>\n",
       "      <td>3</td>\n",
       "      <td>1</td>\n",
       "      <td>11</td>\n",
       "      <td>1.0</td>\n",
       "      <td>0</td>\n",
       "      <td>1</td>\n",
       "      <td>0</td>\n",
       "      <td>0</td>\n",
       "    </tr>\n",
       "    <tr>\n",
       "      <th>4</th>\n",
       "      <td>3</td>\n",
       "      <td>1</td>\n",
       "      <td>11</td>\n",
       "      <td>1.0</td>\n",
       "      <td>0</td>\n",
       "      <td>1</td>\n",
       "      <td>0</td>\n",
       "      <td>0</td>\n",
       "    </tr>\n",
       "  </tbody>\n",
       "</table>\n",
       "</div>"
      ],
      "text/plain": [
       "   group  Genre  District  vote  Âge_18-30  Âge_30-45  Âge_45-65  Âge_65+\n",
       "0      3      1        11  -1.0          0          1          0        0\n",
       "1      3      1        11   1.0          0          1          0        0\n",
       "2      3      1        11   1.0          0          1          0        0\n",
       "3      3      1        11   1.0          0          1          0        0\n",
       "4      3      1        11   1.0          0          1          0        0"
      ]
     },
     "execution_count": 256,
     "metadata": {},
     "output_type": "execute_result"
    }
   ],
   "source": [
    "cat_df.head()"
   ]
  },
  {
   "cell_type": "markdown",
   "id": "bf31b954",
   "metadata": {},
   "source": [
    "### Mixing with the dataset"
   ]
  },
  {
   "cell_type": "markdown",
   "id": "e2b506f6",
   "metadata": {},
   "source": [
    "Here we will mix the dataset with the embedded variables "
   ]
  },
  {
   "cell_type": "code",
   "execution_count": 257,
   "id": "6baad2f2",
   "metadata": {},
   "outputs": [
    {
     "data": {
      "text/html": [
       "<div>\n",
       "<style scoped>\n",
       "    .dataframe tbody tr th:only-of-type {\n",
       "        vertical-align: middle;\n",
       "    }\n",
       "\n",
       "    .dataframe tbody tr th {\n",
       "        vertical-align: top;\n",
       "    }\n",
       "\n",
       "    .dataframe thead th {\n",
       "        text-align: right;\n",
       "    }\n",
       "</style>\n",
       "<table border=\"1\" class=\"dataframe\">\n",
       "  <thead>\n",
       "    <tr style=\"text-align: right;\">\n",
       "      <th></th>\n",
       "      <th>group</th>\n",
       "      <th>embedding_1</th>\n",
       "      <th>embedding_2</th>\n",
       "      <th>embedding_3</th>\n",
       "      <th>embedding_4</th>\n",
       "      <th>embedding_5</th>\n",
       "      <th>embedding_6</th>\n",
       "    </tr>\n",
       "  </thead>\n",
       "  <tbody>\n",
       "    <tr>\n",
       "      <th>0</th>\n",
       "      <td>0</td>\n",
       "      <td>-0.108287</td>\n",
       "      <td>-0.062773</td>\n",
       "      <td>-0.023715</td>\n",
       "      <td>-0.000698</td>\n",
       "      <td>-0.090546</td>\n",
       "      <td>-0.082769</td>\n",
       "    </tr>\n",
       "    <tr>\n",
       "      <th>1</th>\n",
       "      <td>1</td>\n",
       "      <td>-0.121636</td>\n",
       "      <td>-0.029483</td>\n",
       "      <td>-0.011808</td>\n",
       "      <td>-0.060330</td>\n",
       "      <td>-0.084380</td>\n",
       "      <td>-0.057078</td>\n",
       "    </tr>\n",
       "    <tr>\n",
       "      <th>2</th>\n",
       "      <td>2</td>\n",
       "      <td>-0.171827</td>\n",
       "      <td>0.254917</td>\n",
       "      <td>-0.035796</td>\n",
       "      <td>-0.272430</td>\n",
       "      <td>0.004520</td>\n",
       "      <td>0.137680</td>\n",
       "    </tr>\n",
       "    <tr>\n",
       "      <th>3</th>\n",
       "      <td>3</td>\n",
       "      <td>0.039741</td>\n",
       "      <td>-0.359354</td>\n",
       "      <td>-0.013941</td>\n",
       "      <td>0.163743</td>\n",
       "      <td>0.131359</td>\n",
       "      <td>-0.067644</td>\n",
       "    </tr>\n",
       "    <tr>\n",
       "      <th>4</th>\n",
       "      <td>4</td>\n",
       "      <td>0.031088</td>\n",
       "      <td>-0.270170</td>\n",
       "      <td>0.078917</td>\n",
       "      <td>0.242216</td>\n",
       "      <td>0.007547</td>\n",
       "      <td>-0.174270</td>\n",
       "    </tr>\n",
       "  </tbody>\n",
       "</table>\n",
       "</div>"
      ],
      "text/plain": [
       "   group  embedding_1  embedding_2  embedding_3  embedding_4  embedding_5  \\\n",
       "0      0    -0.108287    -0.062773    -0.023715    -0.000698    -0.090546   \n",
       "1      1    -0.121636    -0.029483    -0.011808    -0.060330    -0.084380   \n",
       "2      2    -0.171827     0.254917    -0.035796    -0.272430     0.004520   \n",
       "3      3     0.039741    -0.359354    -0.013941     0.163743     0.131359   \n",
       "4      4     0.031088    -0.270170     0.078917     0.242216     0.007547   \n",
       "\n",
       "   embedding_6  \n",
       "0    -0.082769  \n",
       "1    -0.057078  \n",
       "2     0.137680  \n",
       "3    -0.067644  \n",
       "4    -0.174270  "
      ]
     },
     "execution_count": 257,
     "metadata": {},
     "output_type": "execute_result"
    }
   ],
   "source": [
    "group_embeddings_df.head()"
   ]
  },
  {
   "cell_type": "code",
   "execution_count": 258,
   "id": "ac62ca02",
   "metadata": {
    "scrolled": true
   },
   "outputs": [
    {
     "data": {
      "text/html": [
       "<div>\n",
       "<style scoped>\n",
       "    .dataframe tbody tr th:only-of-type {\n",
       "        vertical-align: middle;\n",
       "    }\n",
       "\n",
       "    .dataframe tbody tr th {\n",
       "        vertical-align: top;\n",
       "    }\n",
       "\n",
       "    .dataframe thead th {\n",
       "        text-align: right;\n",
       "    }\n",
       "</style>\n",
       "<table border=\"1\" class=\"dataframe\">\n",
       "  <thead>\n",
       "    <tr style=\"text-align: right;\">\n",
       "      <th></th>\n",
       "      <th>District</th>\n",
       "      <th>embedding_1_d</th>\n",
       "      <th>embedding_2_d</th>\n",
       "      <th>embedding_3_d</th>\n",
       "      <th>embedding_4_d</th>\n",
       "      <th>embedding_5_d</th>\n",
       "      <th>embedding_6_d</th>\n",
       "      <th>embedding_7_d</th>\n",
       "      <th>embedding_8_d</th>\n",
       "    </tr>\n",
       "  </thead>\n",
       "  <tbody>\n",
       "    <tr>\n",
       "      <th>0</th>\n",
       "      <td>0</td>\n",
       "      <td>-0.029138</td>\n",
       "      <td>0.167470</td>\n",
       "      <td>0.119348</td>\n",
       "      <td>-0.068330</td>\n",
       "      <td>-0.012059</td>\n",
       "      <td>-0.165742</td>\n",
       "      <td>0.068637</td>\n",
       "      <td>-0.273909</td>\n",
       "    </tr>\n",
       "    <tr>\n",
       "      <th>1</th>\n",
       "      <td>1</td>\n",
       "      <td>0.058724</td>\n",
       "      <td>-0.030085</td>\n",
       "      <td>0.088043</td>\n",
       "      <td>0.076371</td>\n",
       "      <td>0.054623</td>\n",
       "      <td>0.076923</td>\n",
       "      <td>-0.075368</td>\n",
       "      <td>-0.027644</td>\n",
       "    </tr>\n",
       "    <tr>\n",
       "      <th>2</th>\n",
       "      <td>2</td>\n",
       "      <td>-0.094079</td>\n",
       "      <td>0.008525</td>\n",
       "      <td>0.068791</td>\n",
       "      <td>-0.035737</td>\n",
       "      <td>0.100224</td>\n",
       "      <td>0.049582</td>\n",
       "      <td>0.021017</td>\n",
       "      <td>-0.090713</td>\n",
       "    </tr>\n",
       "    <tr>\n",
       "      <th>3</th>\n",
       "      <td>3</td>\n",
       "      <td>0.006747</td>\n",
       "      <td>0.096350</td>\n",
       "      <td>-0.383125</td>\n",
       "      <td>0.435662</td>\n",
       "      <td>-0.461058</td>\n",
       "      <td>0.039735</td>\n",
       "      <td>0.438017</td>\n",
       "      <td>0.360969</td>\n",
       "    </tr>\n",
       "    <tr>\n",
       "      <th>4</th>\n",
       "      <td>4</td>\n",
       "      <td>-0.143431</td>\n",
       "      <td>0.099089</td>\n",
       "      <td>0.172310</td>\n",
       "      <td>-0.030120</td>\n",
       "      <td>0.041847</td>\n",
       "      <td>-0.099097</td>\n",
       "      <td>0.146234</td>\n",
       "      <td>-0.145084</td>\n",
       "    </tr>\n",
       "  </tbody>\n",
       "</table>\n",
       "</div>"
      ],
      "text/plain": [
       "   District  embedding_1_d  embedding_2_d  embedding_3_d  embedding_4_d  \\\n",
       "0         0      -0.029138       0.167470       0.119348      -0.068330   \n",
       "1         1       0.058724      -0.030085       0.088043       0.076371   \n",
       "2         2      -0.094079       0.008525       0.068791      -0.035737   \n",
       "3         3       0.006747       0.096350      -0.383125       0.435662   \n",
       "4         4      -0.143431       0.099089       0.172310      -0.030120   \n",
       "\n",
       "   embedding_5_d  embedding_6_d  embedding_7_d  embedding_8_d  \n",
       "0      -0.012059      -0.165742       0.068637      -0.273909  \n",
       "1       0.054623       0.076923      -0.075368      -0.027644  \n",
       "2       0.100224       0.049582       0.021017      -0.090713  \n",
       "3      -0.461058       0.039735       0.438017       0.360969  \n",
       "4       0.041847      -0.099097       0.146234      -0.145084  "
      ]
     },
     "execution_count": 258,
     "metadata": {},
     "output_type": "execute_result"
    }
   ],
   "source": [
    "district_embeddings_df.head()"
   ]
  },
  {
   "cell_type": "code",
   "execution_count": 259,
   "id": "fbfdd6c2",
   "metadata": {},
   "outputs": [
    {
     "data": {
      "text/html": [
       "<div>\n",
       "<style scoped>\n",
       "    .dataframe tbody tr th:only-of-type {\n",
       "        vertical-align: middle;\n",
       "    }\n",
       "\n",
       "    .dataframe tbody tr th {\n",
       "        vertical-align: top;\n",
       "    }\n",
       "\n",
       "    .dataframe thead th {\n",
       "        text-align: right;\n",
       "    }\n",
       "</style>\n",
       "<table border=\"1\" class=\"dataframe\">\n",
       "  <thead>\n",
       "    <tr style=\"text-align: right;\">\n",
       "      <th></th>\n",
       "      <th>group</th>\n",
       "      <th>Genre</th>\n",
       "      <th>District</th>\n",
       "      <th>vote</th>\n",
       "      <th>Âge_18-30</th>\n",
       "      <th>Âge_30-45</th>\n",
       "      <th>Âge_45-65</th>\n",
       "      <th>Âge_65+</th>\n",
       "      <th>embedding_1</th>\n",
       "      <th>embedding_2</th>\n",
       "      <th>embedding_3</th>\n",
       "      <th>embedding_4</th>\n",
       "      <th>embedding_5</th>\n",
       "      <th>embedding_6</th>\n",
       "    </tr>\n",
       "  </thead>\n",
       "  <tbody>\n",
       "    <tr>\n",
       "      <th>0</th>\n",
       "      <td>3</td>\n",
       "      <td>1</td>\n",
       "      <td>11</td>\n",
       "      <td>-1.0</td>\n",
       "      <td>0</td>\n",
       "      <td>1</td>\n",
       "      <td>0</td>\n",
       "      <td>0</td>\n",
       "      <td>0.039741</td>\n",
       "      <td>-0.359354</td>\n",
       "      <td>-0.013941</td>\n",
       "      <td>0.163743</td>\n",
       "      <td>0.131359</td>\n",
       "      <td>-0.067644</td>\n",
       "    </tr>\n",
       "    <tr>\n",
       "      <th>1</th>\n",
       "      <td>3</td>\n",
       "      <td>1</td>\n",
       "      <td>11</td>\n",
       "      <td>1.0</td>\n",
       "      <td>0</td>\n",
       "      <td>1</td>\n",
       "      <td>0</td>\n",
       "      <td>0</td>\n",
       "      <td>0.039741</td>\n",
       "      <td>-0.359354</td>\n",
       "      <td>-0.013941</td>\n",
       "      <td>0.163743</td>\n",
       "      <td>0.131359</td>\n",
       "      <td>-0.067644</td>\n",
       "    </tr>\n",
       "    <tr>\n",
       "      <th>2</th>\n",
       "      <td>3</td>\n",
       "      <td>1</td>\n",
       "      <td>11</td>\n",
       "      <td>1.0</td>\n",
       "      <td>0</td>\n",
       "      <td>1</td>\n",
       "      <td>0</td>\n",
       "      <td>0</td>\n",
       "      <td>0.039741</td>\n",
       "      <td>-0.359354</td>\n",
       "      <td>-0.013941</td>\n",
       "      <td>0.163743</td>\n",
       "      <td>0.131359</td>\n",
       "      <td>-0.067644</td>\n",
       "    </tr>\n",
       "    <tr>\n",
       "      <th>3</th>\n",
       "      <td>3</td>\n",
       "      <td>1</td>\n",
       "      <td>11</td>\n",
       "      <td>1.0</td>\n",
       "      <td>0</td>\n",
       "      <td>1</td>\n",
       "      <td>0</td>\n",
       "      <td>0</td>\n",
       "      <td>0.039741</td>\n",
       "      <td>-0.359354</td>\n",
       "      <td>-0.013941</td>\n",
       "      <td>0.163743</td>\n",
       "      <td>0.131359</td>\n",
       "      <td>-0.067644</td>\n",
       "    </tr>\n",
       "    <tr>\n",
       "      <th>4</th>\n",
       "      <td>3</td>\n",
       "      <td>1</td>\n",
       "      <td>11</td>\n",
       "      <td>1.0</td>\n",
       "      <td>0</td>\n",
       "      <td>1</td>\n",
       "      <td>0</td>\n",
       "      <td>0</td>\n",
       "      <td>0.039741</td>\n",
       "      <td>-0.359354</td>\n",
       "      <td>-0.013941</td>\n",
       "      <td>0.163743</td>\n",
       "      <td>0.131359</td>\n",
       "      <td>-0.067644</td>\n",
       "    </tr>\n",
       "  </tbody>\n",
       "</table>\n",
       "</div>"
      ],
      "text/plain": [
       "   group  Genre  District  vote  Âge_18-30  Âge_30-45  Âge_45-65  Âge_65+  \\\n",
       "0      3      1        11  -1.0          0          1          0        0   \n",
       "1      3      1        11   1.0          0          1          0        0   \n",
       "2      3      1        11   1.0          0          1          0        0   \n",
       "3      3      1        11   1.0          0          1          0        0   \n",
       "4      3      1        11   1.0          0          1          0        0   \n",
       "\n",
       "   embedding_1  embedding_2  embedding_3  embedding_4  embedding_5  \\\n",
       "0     0.039741    -0.359354    -0.013941     0.163743     0.131359   \n",
       "1     0.039741    -0.359354    -0.013941     0.163743     0.131359   \n",
       "2     0.039741    -0.359354    -0.013941     0.163743     0.131359   \n",
       "3     0.039741    -0.359354    -0.013941     0.163743     0.131359   \n",
       "4     0.039741    -0.359354    -0.013941     0.163743     0.131359   \n",
       "\n",
       "   embedding_6  \n",
       "0    -0.067644  \n",
       "1    -0.067644  \n",
       "2    -0.067644  \n",
       "3    -0.067644  \n",
       "4    -0.067644  "
      ]
     },
     "execution_count": 259,
     "metadata": {},
     "output_type": "execute_result"
    }
   ],
   "source": [
    "embedded_df = pd.merge(cat_df, group_embeddings_df, on=['group'], how='inner')\n",
    "embedded_df.head()"
   ]
  },
  {
   "cell_type": "code",
   "execution_count": 260,
   "id": "ed90a4eb",
   "metadata": {},
   "outputs": [
    {
     "name": "stdout",
     "output_type": "stream",
     "text": [
      "(4588, 14)\n"
     ]
    }
   ],
   "source": [
    "print(embedded_df.shape)"
   ]
  },
  {
   "cell_type": "code",
   "execution_count": 261,
   "id": "9ba3e489",
   "metadata": {
    "scrolled": true
   },
   "outputs": [
    {
     "data": {
      "text/html": [
       "<div>\n",
       "<style scoped>\n",
       "    .dataframe tbody tr th:only-of-type {\n",
       "        vertical-align: middle;\n",
       "    }\n",
       "\n",
       "    .dataframe tbody tr th {\n",
       "        vertical-align: top;\n",
       "    }\n",
       "\n",
       "    .dataframe thead th {\n",
       "        text-align: right;\n",
       "    }\n",
       "</style>\n",
       "<table border=\"1\" class=\"dataframe\">\n",
       "  <thead>\n",
       "    <tr style=\"text-align: right;\">\n",
       "      <th></th>\n",
       "      <th>group</th>\n",
       "      <th>Genre_e</th>\n",
       "      <th>District</th>\n",
       "      <th>vote</th>\n",
       "      <th>Âge_18-30</th>\n",
       "      <th>Âge_30-45</th>\n",
       "      <th>Âge_45-65</th>\n",
       "      <th>Âge_65+</th>\n",
       "      <th>embedding_1</th>\n",
       "      <th>embedding_2</th>\n",
       "      <th>...</th>\n",
       "      <th>embedding_5</th>\n",
       "      <th>embedding_6</th>\n",
       "      <th>embedding_1_d</th>\n",
       "      <th>embedding_2_d</th>\n",
       "      <th>embedding_3_d</th>\n",
       "      <th>embedding_4_d</th>\n",
       "      <th>embedding_5_d</th>\n",
       "      <th>embedding_6_d</th>\n",
       "      <th>embedding_7_d</th>\n",
       "      <th>embedding_8_d</th>\n",
       "    </tr>\n",
       "  </thead>\n",
       "  <tbody>\n",
       "    <tr>\n",
       "      <th>0</th>\n",
       "      <td>3</td>\n",
       "      <td>1</td>\n",
       "      <td>11</td>\n",
       "      <td>-1.0</td>\n",
       "      <td>0</td>\n",
       "      <td>1</td>\n",
       "      <td>0</td>\n",
       "      <td>0</td>\n",
       "      <td>0.039741</td>\n",
       "      <td>-0.359354</td>\n",
       "      <td>...</td>\n",
       "      <td>0.131359</td>\n",
       "      <td>-0.067644</td>\n",
       "      <td>-0.053325</td>\n",
       "      <td>0.028136</td>\n",
       "      <td>-0.103726</td>\n",
       "      <td>0.17165</td>\n",
       "      <td>-0.195449</td>\n",
       "      <td>-0.016223</td>\n",
       "      <td>0.171781</td>\n",
       "      <td>0.131857</td>\n",
       "    </tr>\n",
       "    <tr>\n",
       "      <th>1</th>\n",
       "      <td>3</td>\n",
       "      <td>1</td>\n",
       "      <td>11</td>\n",
       "      <td>1.0</td>\n",
       "      <td>0</td>\n",
       "      <td>1</td>\n",
       "      <td>0</td>\n",
       "      <td>0</td>\n",
       "      <td>0.039741</td>\n",
       "      <td>-0.359354</td>\n",
       "      <td>...</td>\n",
       "      <td>0.131359</td>\n",
       "      <td>-0.067644</td>\n",
       "      <td>-0.053325</td>\n",
       "      <td>0.028136</td>\n",
       "      <td>-0.103726</td>\n",
       "      <td>0.17165</td>\n",
       "      <td>-0.195449</td>\n",
       "      <td>-0.016223</td>\n",
       "      <td>0.171781</td>\n",
       "      <td>0.131857</td>\n",
       "    </tr>\n",
       "    <tr>\n",
       "      <th>2</th>\n",
       "      <td>3</td>\n",
       "      <td>1</td>\n",
       "      <td>11</td>\n",
       "      <td>1.0</td>\n",
       "      <td>0</td>\n",
       "      <td>1</td>\n",
       "      <td>0</td>\n",
       "      <td>0</td>\n",
       "      <td>0.039741</td>\n",
       "      <td>-0.359354</td>\n",
       "      <td>...</td>\n",
       "      <td>0.131359</td>\n",
       "      <td>-0.067644</td>\n",
       "      <td>-0.053325</td>\n",
       "      <td>0.028136</td>\n",
       "      <td>-0.103726</td>\n",
       "      <td>0.17165</td>\n",
       "      <td>-0.195449</td>\n",
       "      <td>-0.016223</td>\n",
       "      <td>0.171781</td>\n",
       "      <td>0.131857</td>\n",
       "    </tr>\n",
       "    <tr>\n",
       "      <th>3</th>\n",
       "      <td>3</td>\n",
       "      <td>1</td>\n",
       "      <td>11</td>\n",
       "      <td>1.0</td>\n",
       "      <td>0</td>\n",
       "      <td>1</td>\n",
       "      <td>0</td>\n",
       "      <td>0</td>\n",
       "      <td>0.039741</td>\n",
       "      <td>-0.359354</td>\n",
       "      <td>...</td>\n",
       "      <td>0.131359</td>\n",
       "      <td>-0.067644</td>\n",
       "      <td>-0.053325</td>\n",
       "      <td>0.028136</td>\n",
       "      <td>-0.103726</td>\n",
       "      <td>0.17165</td>\n",
       "      <td>-0.195449</td>\n",
       "      <td>-0.016223</td>\n",
       "      <td>0.171781</td>\n",
       "      <td>0.131857</td>\n",
       "    </tr>\n",
       "    <tr>\n",
       "      <th>4</th>\n",
       "      <td>3</td>\n",
       "      <td>1</td>\n",
       "      <td>11</td>\n",
       "      <td>1.0</td>\n",
       "      <td>0</td>\n",
       "      <td>1</td>\n",
       "      <td>0</td>\n",
       "      <td>0</td>\n",
       "      <td>0.039741</td>\n",
       "      <td>-0.359354</td>\n",
       "      <td>...</td>\n",
       "      <td>0.131359</td>\n",
       "      <td>-0.067644</td>\n",
       "      <td>-0.053325</td>\n",
       "      <td>0.028136</td>\n",
       "      <td>-0.103726</td>\n",
       "      <td>0.17165</td>\n",
       "      <td>-0.195449</td>\n",
       "      <td>-0.016223</td>\n",
       "      <td>0.171781</td>\n",
       "      <td>0.131857</td>\n",
       "    </tr>\n",
       "  </tbody>\n",
       "</table>\n",
       "<p>5 rows × 22 columns</p>\n",
       "</div>"
      ],
      "text/plain": [
       "   group  Genre_e  District  vote  Âge_18-30  Âge_30-45  Âge_45-65  Âge_65+  \\\n",
       "0      3        1        11  -1.0          0          1          0        0   \n",
       "1      3        1        11   1.0          0          1          0        0   \n",
       "2      3        1        11   1.0          0          1          0        0   \n",
       "3      3        1        11   1.0          0          1          0        0   \n",
       "4      3        1        11   1.0          0          1          0        0   \n",
       "\n",
       "   embedding_1  embedding_2  ...  embedding_5  embedding_6  embedding_1_d  \\\n",
       "0     0.039741    -0.359354  ...     0.131359    -0.067644      -0.053325   \n",
       "1     0.039741    -0.359354  ...     0.131359    -0.067644      -0.053325   \n",
       "2     0.039741    -0.359354  ...     0.131359    -0.067644      -0.053325   \n",
       "3     0.039741    -0.359354  ...     0.131359    -0.067644      -0.053325   \n",
       "4     0.039741    -0.359354  ...     0.131359    -0.067644      -0.053325   \n",
       "\n",
       "   embedding_2_d  embedding_3_d  embedding_4_d  embedding_5_d  embedding_6_d  \\\n",
       "0       0.028136      -0.103726        0.17165      -0.195449      -0.016223   \n",
       "1       0.028136      -0.103726        0.17165      -0.195449      -0.016223   \n",
       "2       0.028136      -0.103726        0.17165      -0.195449      -0.016223   \n",
       "3       0.028136      -0.103726        0.17165      -0.195449      -0.016223   \n",
       "4       0.028136      -0.103726        0.17165      -0.195449      -0.016223   \n",
       "\n",
       "   embedding_7_d  embedding_8_d  \n",
       "0       0.171781       0.131857  \n",
       "1       0.171781       0.131857  \n",
       "2       0.171781       0.131857  \n",
       "3       0.171781       0.131857  \n",
       "4       0.171781       0.131857  \n",
       "\n",
       "[5 rows x 22 columns]"
      ]
     },
     "execution_count": 261,
     "metadata": {},
     "output_type": "execute_result"
    }
   ],
   "source": [
    "embedded_df = pd.merge(embedded_df, district_embeddings_df, on=['District'], how='inner')\n",
    "embedded_df = embedded_df.rename({\"Genre\":\"Genre_e\"}, axis=1)\n",
    "embedded_df.head()"
   ]
  },
  {
   "cell_type": "code",
   "execution_count": 262,
   "id": "d39b25be",
   "metadata": {},
   "outputs": [],
   "source": [
    "embedded_df = embedded_df.drop(['group', 'District', 'vote'], axis=1)"
   ]
  },
  {
   "cell_type": "code",
   "execution_count": 263,
   "id": "d1bc1bfe",
   "metadata": {
    "scrolled": false
   },
   "outputs": [
    {
     "name": "stdout",
     "output_type": "stream",
     "text": [
      "(4588, 19)\n"
     ]
    },
    {
     "data": {
      "text/html": [
       "<div>\n",
       "<style scoped>\n",
       "    .dataframe tbody tr th:only-of-type {\n",
       "        vertical-align: middle;\n",
       "    }\n",
       "\n",
       "    .dataframe tbody tr th {\n",
       "        vertical-align: top;\n",
       "    }\n",
       "\n",
       "    .dataframe thead th {\n",
       "        text-align: right;\n",
       "    }\n",
       "</style>\n",
       "<table border=\"1\" class=\"dataframe\">\n",
       "  <thead>\n",
       "    <tr style=\"text-align: right;\">\n",
       "      <th></th>\n",
       "      <th>Genre_e</th>\n",
       "      <th>Âge_18-30</th>\n",
       "      <th>Âge_30-45</th>\n",
       "      <th>Âge_45-65</th>\n",
       "      <th>Âge_65+</th>\n",
       "      <th>embedding_1</th>\n",
       "      <th>embedding_2</th>\n",
       "      <th>embedding_3</th>\n",
       "      <th>embedding_4</th>\n",
       "      <th>embedding_5</th>\n",
       "      <th>embedding_6</th>\n",
       "      <th>embedding_1_d</th>\n",
       "      <th>embedding_2_d</th>\n",
       "      <th>embedding_3_d</th>\n",
       "      <th>embedding_4_d</th>\n",
       "      <th>embedding_5_d</th>\n",
       "      <th>embedding_6_d</th>\n",
       "      <th>embedding_7_d</th>\n",
       "      <th>embedding_8_d</th>\n",
       "    </tr>\n",
       "  </thead>\n",
       "  <tbody>\n",
       "    <tr>\n",
       "      <th>0</th>\n",
       "      <td>1</td>\n",
       "      <td>0</td>\n",
       "      <td>1</td>\n",
       "      <td>0</td>\n",
       "      <td>0</td>\n",
       "      <td>0.039741</td>\n",
       "      <td>-0.359354</td>\n",
       "      <td>-0.013941</td>\n",
       "      <td>0.163743</td>\n",
       "      <td>0.131359</td>\n",
       "      <td>-0.067644</td>\n",
       "      <td>-0.053325</td>\n",
       "      <td>0.028136</td>\n",
       "      <td>-0.103726</td>\n",
       "      <td>0.17165</td>\n",
       "      <td>-0.195449</td>\n",
       "      <td>-0.016223</td>\n",
       "      <td>0.171781</td>\n",
       "      <td>0.131857</td>\n",
       "    </tr>\n",
       "    <tr>\n",
       "      <th>1</th>\n",
       "      <td>1</td>\n",
       "      <td>0</td>\n",
       "      <td>1</td>\n",
       "      <td>0</td>\n",
       "      <td>0</td>\n",
       "      <td>0.039741</td>\n",
       "      <td>-0.359354</td>\n",
       "      <td>-0.013941</td>\n",
       "      <td>0.163743</td>\n",
       "      <td>0.131359</td>\n",
       "      <td>-0.067644</td>\n",
       "      <td>-0.053325</td>\n",
       "      <td>0.028136</td>\n",
       "      <td>-0.103726</td>\n",
       "      <td>0.17165</td>\n",
       "      <td>-0.195449</td>\n",
       "      <td>-0.016223</td>\n",
       "      <td>0.171781</td>\n",
       "      <td>0.131857</td>\n",
       "    </tr>\n",
       "    <tr>\n",
       "      <th>2</th>\n",
       "      <td>1</td>\n",
       "      <td>0</td>\n",
       "      <td>1</td>\n",
       "      <td>0</td>\n",
       "      <td>0</td>\n",
       "      <td>0.039741</td>\n",
       "      <td>-0.359354</td>\n",
       "      <td>-0.013941</td>\n",
       "      <td>0.163743</td>\n",
       "      <td>0.131359</td>\n",
       "      <td>-0.067644</td>\n",
       "      <td>-0.053325</td>\n",
       "      <td>0.028136</td>\n",
       "      <td>-0.103726</td>\n",
       "      <td>0.17165</td>\n",
       "      <td>-0.195449</td>\n",
       "      <td>-0.016223</td>\n",
       "      <td>0.171781</td>\n",
       "      <td>0.131857</td>\n",
       "    </tr>\n",
       "    <tr>\n",
       "      <th>3</th>\n",
       "      <td>1</td>\n",
       "      <td>0</td>\n",
       "      <td>1</td>\n",
       "      <td>0</td>\n",
       "      <td>0</td>\n",
       "      <td>0.039741</td>\n",
       "      <td>-0.359354</td>\n",
       "      <td>-0.013941</td>\n",
       "      <td>0.163743</td>\n",
       "      <td>0.131359</td>\n",
       "      <td>-0.067644</td>\n",
       "      <td>-0.053325</td>\n",
       "      <td>0.028136</td>\n",
       "      <td>-0.103726</td>\n",
       "      <td>0.17165</td>\n",
       "      <td>-0.195449</td>\n",
       "      <td>-0.016223</td>\n",
       "      <td>0.171781</td>\n",
       "      <td>0.131857</td>\n",
       "    </tr>\n",
       "    <tr>\n",
       "      <th>4</th>\n",
       "      <td>1</td>\n",
       "      <td>0</td>\n",
       "      <td>1</td>\n",
       "      <td>0</td>\n",
       "      <td>0</td>\n",
       "      <td>0.039741</td>\n",
       "      <td>-0.359354</td>\n",
       "      <td>-0.013941</td>\n",
       "      <td>0.163743</td>\n",
       "      <td>0.131359</td>\n",
       "      <td>-0.067644</td>\n",
       "      <td>-0.053325</td>\n",
       "      <td>0.028136</td>\n",
       "      <td>-0.103726</td>\n",
       "      <td>0.17165</td>\n",
       "      <td>-0.195449</td>\n",
       "      <td>-0.016223</td>\n",
       "      <td>0.171781</td>\n",
       "      <td>0.131857</td>\n",
       "    </tr>\n",
       "  </tbody>\n",
       "</table>\n",
       "</div>"
      ],
      "text/plain": [
       "   Genre_e  Âge_18-30  Âge_30-45  Âge_45-65  Âge_65+  embedding_1  \\\n",
       "0        1          0          1          0        0     0.039741   \n",
       "1        1          0          1          0        0     0.039741   \n",
       "2        1          0          1          0        0     0.039741   \n",
       "3        1          0          1          0        0     0.039741   \n",
       "4        1          0          1          0        0     0.039741   \n",
       "\n",
       "   embedding_2  embedding_3  embedding_4  embedding_5  embedding_6  \\\n",
       "0    -0.359354    -0.013941     0.163743     0.131359    -0.067644   \n",
       "1    -0.359354    -0.013941     0.163743     0.131359    -0.067644   \n",
       "2    -0.359354    -0.013941     0.163743     0.131359    -0.067644   \n",
       "3    -0.359354    -0.013941     0.163743     0.131359    -0.067644   \n",
       "4    -0.359354    -0.013941     0.163743     0.131359    -0.067644   \n",
       "\n",
       "   embedding_1_d  embedding_2_d  embedding_3_d  embedding_4_d  embedding_5_d  \\\n",
       "0      -0.053325       0.028136      -0.103726        0.17165      -0.195449   \n",
       "1      -0.053325       0.028136      -0.103726        0.17165      -0.195449   \n",
       "2      -0.053325       0.028136      -0.103726        0.17165      -0.195449   \n",
       "3      -0.053325       0.028136      -0.103726        0.17165      -0.195449   \n",
       "4      -0.053325       0.028136      -0.103726        0.17165      -0.195449   \n",
       "\n",
       "   embedding_6_d  embedding_7_d  embedding_8_d  \n",
       "0      -0.016223       0.171781       0.131857  \n",
       "1      -0.016223       0.171781       0.131857  \n",
       "2      -0.016223       0.171781       0.131857  \n",
       "3      -0.016223       0.171781       0.131857  \n",
       "4      -0.016223       0.171781       0.131857  "
      ]
     },
     "execution_count": 263,
     "metadata": {},
     "output_type": "execute_result"
    }
   ],
   "source": [
    "print(embedded_df.shape)\n",
    "embedded_df.head()"
   ]
  },
  {
   "cell_type": "code",
   "execution_count": 264,
   "id": "aee8a26e",
   "metadata": {},
   "outputs": [
    {
     "name": "stdout",
     "output_type": "stream",
     "text": [
      "(4588, 24)\n"
     ]
    },
    {
     "data": {
      "text/html": [
       "<div>\n",
       "<style scoped>\n",
       "    .dataframe tbody tr th:only-of-type {\n",
       "        vertical-align: middle;\n",
       "    }\n",
       "\n",
       "    .dataframe tbody tr th {\n",
       "        vertical-align: top;\n",
       "    }\n",
       "\n",
       "    .dataframe thead th {\n",
       "        text-align: right;\n",
       "    }\n",
       "</style>\n",
       "<table border=\"1\" class=\"dataframe\">\n",
       "  <thead>\n",
       "    <tr style=\"text-align: right;\">\n",
       "      <th></th>\n",
       "      <th>orientation_art</th>\n",
       "      <th>progvscons_art</th>\n",
       "      <th>vote</th>\n",
       "      <th>orientation_dep</th>\n",
       "      <th>progvscons_dep</th>\n",
       "      <th>Genre_e</th>\n",
       "      <th>Âge_18-30</th>\n",
       "      <th>Âge_30-45</th>\n",
       "      <th>Âge_45-65</th>\n",
       "      <th>Âge_65+</th>\n",
       "      <th>...</th>\n",
       "      <th>embedding_5</th>\n",
       "      <th>embedding_6</th>\n",
       "      <th>embedding_1_d</th>\n",
       "      <th>embedding_2_d</th>\n",
       "      <th>embedding_3_d</th>\n",
       "      <th>embedding_4_d</th>\n",
       "      <th>embedding_5_d</th>\n",
       "      <th>embedding_6_d</th>\n",
       "      <th>embedding_7_d</th>\n",
       "      <th>embedding_8_d</th>\n",
       "    </tr>\n",
       "  </thead>\n",
       "  <tbody>\n",
       "    <tr>\n",
       "      <th>0</th>\n",
       "      <td>-1</td>\n",
       "      <td>-1</td>\n",
       "      <td>-1.0</td>\n",
       "      <td>0.428571</td>\n",
       "      <td>0.368421</td>\n",
       "      <td>1</td>\n",
       "      <td>0</td>\n",
       "      <td>1</td>\n",
       "      <td>0</td>\n",
       "      <td>0</td>\n",
       "      <td>...</td>\n",
       "      <td>0.131359</td>\n",
       "      <td>-0.067644</td>\n",
       "      <td>-0.053325</td>\n",
       "      <td>0.028136</td>\n",
       "      <td>-0.103726</td>\n",
       "      <td>0.17165</td>\n",
       "      <td>-0.195449</td>\n",
       "      <td>-0.016223</td>\n",
       "      <td>0.171781</td>\n",
       "      <td>0.131857</td>\n",
       "    </tr>\n",
       "    <tr>\n",
       "      <th>1</th>\n",
       "      <td>-1</td>\n",
       "      <td>-1</td>\n",
       "      <td>1.0</td>\n",
       "      <td>0.428571</td>\n",
       "      <td>0.368421</td>\n",
       "      <td>1</td>\n",
       "      <td>0</td>\n",
       "      <td>1</td>\n",
       "      <td>0</td>\n",
       "      <td>0</td>\n",
       "      <td>...</td>\n",
       "      <td>0.131359</td>\n",
       "      <td>-0.067644</td>\n",
       "      <td>-0.053325</td>\n",
       "      <td>0.028136</td>\n",
       "      <td>-0.103726</td>\n",
       "      <td>0.17165</td>\n",
       "      <td>-0.195449</td>\n",
       "      <td>-0.016223</td>\n",
       "      <td>0.171781</td>\n",
       "      <td>0.131857</td>\n",
       "    </tr>\n",
       "    <tr>\n",
       "      <th>2</th>\n",
       "      <td>-1</td>\n",
       "      <td>-1</td>\n",
       "      <td>1.0</td>\n",
       "      <td>0.428571</td>\n",
       "      <td>0.368421</td>\n",
       "      <td>1</td>\n",
       "      <td>0</td>\n",
       "      <td>1</td>\n",
       "      <td>0</td>\n",
       "      <td>0</td>\n",
       "      <td>...</td>\n",
       "      <td>0.131359</td>\n",
       "      <td>-0.067644</td>\n",
       "      <td>-0.053325</td>\n",
       "      <td>0.028136</td>\n",
       "      <td>-0.103726</td>\n",
       "      <td>0.17165</td>\n",
       "      <td>-0.195449</td>\n",
       "      <td>-0.016223</td>\n",
       "      <td>0.171781</td>\n",
       "      <td>0.131857</td>\n",
       "    </tr>\n",
       "    <tr>\n",
       "      <th>3</th>\n",
       "      <td>-1</td>\n",
       "      <td>-1</td>\n",
       "      <td>1.0</td>\n",
       "      <td>0.428571</td>\n",
       "      <td>0.368421</td>\n",
       "      <td>1</td>\n",
       "      <td>0</td>\n",
       "      <td>1</td>\n",
       "      <td>0</td>\n",
       "      <td>0</td>\n",
       "      <td>...</td>\n",
       "      <td>0.131359</td>\n",
       "      <td>-0.067644</td>\n",
       "      <td>-0.053325</td>\n",
       "      <td>0.028136</td>\n",
       "      <td>-0.103726</td>\n",
       "      <td>0.17165</td>\n",
       "      <td>-0.195449</td>\n",
       "      <td>-0.016223</td>\n",
       "      <td>0.171781</td>\n",
       "      <td>0.131857</td>\n",
       "    </tr>\n",
       "    <tr>\n",
       "      <th>4</th>\n",
       "      <td>0</td>\n",
       "      <td>1</td>\n",
       "      <td>1.0</td>\n",
       "      <td>0.428571</td>\n",
       "      <td>0.368421</td>\n",
       "      <td>1</td>\n",
       "      <td>0</td>\n",
       "      <td>1</td>\n",
       "      <td>0</td>\n",
       "      <td>0</td>\n",
       "      <td>...</td>\n",
       "      <td>0.131359</td>\n",
       "      <td>-0.067644</td>\n",
       "      <td>-0.053325</td>\n",
       "      <td>0.028136</td>\n",
       "      <td>-0.103726</td>\n",
       "      <td>0.17165</td>\n",
       "      <td>-0.195449</td>\n",
       "      <td>-0.016223</td>\n",
       "      <td>0.171781</td>\n",
       "      <td>0.131857</td>\n",
       "    </tr>\n",
       "  </tbody>\n",
       "</table>\n",
       "<p>5 rows × 24 columns</p>\n",
       "</div>"
      ],
      "text/plain": [
       "   orientation_art  progvscons_art  vote  orientation_dep  progvscons_dep  \\\n",
       "0               -1              -1  -1.0         0.428571        0.368421   \n",
       "1               -1              -1   1.0         0.428571        0.368421   \n",
       "2               -1              -1   1.0         0.428571        0.368421   \n",
       "3               -1              -1   1.0         0.428571        0.368421   \n",
       "4                0               1   1.0         0.428571        0.368421   \n",
       "\n",
       "   Genre_e  Âge_18-30  Âge_30-45  Âge_45-65  Âge_65+  ...  embedding_5  \\\n",
       "0        1          0          1          0        0  ...     0.131359   \n",
       "1        1          0          1          0        0  ...     0.131359   \n",
       "2        1          0          1          0        0  ...     0.131359   \n",
       "3        1          0          1          0        0  ...     0.131359   \n",
       "4        1          0          1          0        0  ...     0.131359   \n",
       "\n",
       "   embedding_6  embedding_1_d  embedding_2_d  embedding_3_d  embedding_4_d  \\\n",
       "0    -0.067644      -0.053325       0.028136      -0.103726        0.17165   \n",
       "1    -0.067644      -0.053325       0.028136      -0.103726        0.17165   \n",
       "2    -0.067644      -0.053325       0.028136      -0.103726        0.17165   \n",
       "3    -0.067644      -0.053325       0.028136      -0.103726        0.17165   \n",
       "4    -0.067644      -0.053325       0.028136      -0.103726        0.17165   \n",
       "\n",
       "   embedding_5_d  embedding_6_d  embedding_7_d  embedding_8_d  \n",
       "0      -0.195449      -0.016223       0.171781       0.131857  \n",
       "1      -0.195449      -0.016223       0.171781       0.131857  \n",
       "2      -0.195449      -0.016223       0.171781       0.131857  \n",
       "3      -0.195449      -0.016223       0.171781       0.131857  \n",
       "4      -0.195449      -0.016223       0.171781       0.131857  \n",
       "\n",
       "[5 rows x 24 columns]"
      ]
     },
     "execution_count": 264,
     "metadata": {},
     "output_type": "execute_result"
    }
   ],
   "source": [
    "embedded_final_df = pd.concat([merged_df, embedded_df], axis=1)\n",
    "embedded_final_df = embedded_final_df.drop(['group', 'Genre', 'Âge', 'District'], axis=1)\n",
    "print(embedded_final_df.shape)\n",
    "embedded_final_df.head()"
   ]
  },
  {
   "cell_type": "code",
   "execution_count": 265,
   "id": "1340b98e",
   "metadata": {},
   "outputs": [],
   "source": [
    "embedded_final_df.to_csv('../Data/embedded_data.csv')"
   ]
  },
  {
   "cell_type": "code",
   "execution_count": null,
   "id": "582cc8ea",
   "metadata": {},
   "outputs": [],
   "source": []
  }
 ],
 "metadata": {
  "kernelspec": {
   "display_name": "Python 3",
   "language": "python",
   "name": "python3"
  },
  "language_info": {
   "codemirror_mode": {
    "name": "ipython",
    "version": 3
   },
   "file_extension": ".py",
   "mimetype": "text/x-python",
   "name": "python",
   "nbconvert_exporter": "python",
   "pygments_lexer": "ipython3",
   "version": "3.8.12"
  }
 },
 "nbformat": 4,
 "nbformat_minor": 5
}
