{
 "cells": [
  {
   "cell_type": "code",
   "execution_count": 1,
   "id": "8276feb9",
   "metadata": {},
   "outputs": [],
   "source": [
    "import matplotlib.pyplot as plt\n",
    "import pandas as pd\n",
    "import numpy as np\n",
    "import csv\n",
    "from sklearn.linear_model import LogisticRegression\n",
    "from sklearn.model_selection import train_test_split\n",
    "from sklearn.metrics import classification_report, confusion_matrix\n",
    "from sklearn.datasets import fetch_openml\n",
    "from sklearn.utils.validation import column_or_1d\n",
    "from csv import DictReader\n",
    "from sklearn.neighbors import KNeighborsClassifier\n",
    "from sklearn.tree import DecisionTreeClassifier\n",
    "from sklearn.metrics import f1_score, confusion_matrix\n",
    "import seaborn as sn\n",
    "from sklearn.svm import SVC\n",
    "from sklearn.naive_bayes import GaussianNB\n",
    "\n",
    "from sklearn.ensemble import GradientBoostingClassifier\n",
    "from sklearn.model_selection import GridSearchCV, KFold\n",
    "\n",
    "\n",
    "from scipy.stats import loguniform\n"
   ]
  },
  {
   "cell_type": "code",
   "execution_count": 2,
   "id": "caa519c8",
   "metadata": {},
   "outputs": [],
   "source": [
    "ds = pd.read_csv('/Users/Blanche/Desktop/ml_project2/Code/dataSetForML.csv')"
   ]
  },
  {
   "cell_type": "code",
   "execution_count": 3,
   "id": "16ecd4af",
   "metadata": {},
   "outputs": [
    {
     "name": "stdout",
     "output_type": "stream",
     "text": [
      "   Unnamed: 0  orientation_art  progvscons_art  vote  orientation_dep  \\\n",
      "0           0               -1              -1  -1.0         0.428571   \n",
      "1           1               -1              -1   1.0         0.428571   \n",
      "2           2               -1              -1   1.0         0.428571   \n",
      "3           3               -1              -1   1.0         0.428571   \n",
      "4           4                0               1   1.0         0.428571   \n",
      "\n",
      "   progvscons_dep  Genre_F  Genre_H  Âge_18-30  Âge_30-45  ...  group_AdG  \\\n",
      "0        0.368421        0        1          0          0  ...          0   \n",
      "1        0.368421        0        1          0          0  ...          0   \n",
      "2        0.368421        0        1          0          0  ...          0   \n",
      "3        0.368421        0        1          0          0  ...          0   \n",
      "4        0.368421        0        1          0          0  ...          0   \n",
      "\n",
      "   group_CSPO  group_CVPO  group_INDEP  group_LES VERTS  group_PDC  \\\n",
      "0           0           1            0                0          0   \n",
      "1           0           1            0                0          0   \n",
      "2           0           1            0                0          0   \n",
      "3           0           1            0                0          0   \n",
      "4           0           1            0                0          0   \n",
      "\n",
      "   group_SVPO  group_UDC  group_VLR  group_ZUK-VS  \n",
      "0           0          0          0             0  \n",
      "1           0          0          0             0  \n",
      "2           0          0          0             0  \n",
      "3           0          0          0             0  \n",
      "4           0          0          0             0  \n",
      "\n",
      "[5 rows x 37 columns]\n"
     ]
    }
   ],
   "source": [
    "print(ds.head())"
   ]
  },
  {
   "cell_type": "markdown",
   "id": "e4d16c28",
   "metadata": {},
   "source": [
    "# Feature Engineering"
   ]
  },
  {
   "cell_type": "code",
   "execution_count": 4,
   "id": "d3e93163",
   "metadata": {},
   "outputs": [
    {
     "name": "stdout",
     "output_type": "stream",
     "text": [
      "Unnamed: 0                 False\n",
      "orientation_art            False\n",
      "progvscons_art             False\n",
      "vote                        True\n",
      "orientation_dep            False\n",
      "progvscons_dep             False\n",
      "Genre_F                    False\n",
      "Genre_H                    False\n",
      "Âge_18-30                  False\n",
      "Âge_30-45                  False\n",
      "Âge_45-65                  False\n",
      "Âge_65+                    False\n",
      "District_Brig              False\n",
      "District_Conthey           False\n",
      "District_Entremont         False\n",
      "District_Goms              False\n",
      "District_Hérens            False\n",
      "District_Leuk              False\n",
      "District_Martigny          False\n",
      "District_Monthey           False\n",
      "District_Sierre            False\n",
      "District_Sion              False\n",
      "District_St-Maurice        False\n",
      "District_Visp              False\n",
      "District_Westlich Raron    False\n",
      "District_Östlich Raron     False\n",
      "group_AC                   False\n",
      "group_AdG                  False\n",
      "group_CSPO                 False\n",
      "group_CVPO                 False\n",
      "group_INDEP                False\n",
      "group_LES VERTS            False\n",
      "group_PDC                  False\n",
      "group_SVPO                 False\n",
      "group_UDC                  False\n",
      "group_VLR                  False\n",
      "group_ZUK-VS               False\n",
      "dtype: bool\n"
     ]
    }
   ],
   "source": [
    "print(np.isnan(ds).any(axis=0))"
   ]
  },
  {
   "cell_type": "markdown",
   "id": "77a70cba",
   "metadata": {},
   "source": [
    "Il y a des NaN dans la colonne 'vote' <br/>\n",
    "Cela signifie que certains députés n'ont pas voté pour certains articles <br/>\n",
    "On supprime donc ces lignes"
   ]
  },
  {
   "cell_type": "code",
   "execution_count": 5,
   "id": "22c7ba9e",
   "metadata": {},
   "outputs": [],
   "source": [
    "ds = ds[~np.isnan(ds).any(axis=1)]"
   ]
  },
  {
   "cell_type": "code",
   "execution_count": 6,
   "id": "8a2c0b22",
   "metadata": {},
   "outputs": [
    {
     "name": "stdout",
     "output_type": "stream",
     "text": [
      "0      -1.0\n",
      "1       1.0\n",
      "2       1.0\n",
      "3       1.0\n",
      "4       1.0\n",
      "       ... \n",
      "5320   -1.0\n",
      "5321   -1.0\n",
      "5322   -1.0\n",
      "5323   -1.0\n",
      "5324    1.0\n",
      "Name: vote, Length: 4753, dtype: float64\n"
     ]
    }
   ],
   "source": [
    "print(ds['vote'])"
   ]
  },
  {
   "cell_type": "markdown",
   "id": "59f05208",
   "metadata": {},
   "source": [
    "Delete the row if the value of 'vote' is 0 (it means that the deputee voted blank)"
   ]
  },
  {
   "cell_type": "code",
   "execution_count": 7,
   "id": "dab66836",
   "metadata": {},
   "outputs": [],
   "source": [
    "ds = ds[ds['vote'] != 0]"
   ]
  },
  {
   "cell_type": "code",
   "execution_count": 8,
   "id": "e40c7e7b",
   "metadata": {},
   "outputs": [
    {
     "name": "stdout",
     "output_type": "stream",
     "text": [
      "0      -1.0\n",
      "1       1.0\n",
      "2       1.0\n",
      "3       1.0\n",
      "4       1.0\n",
      "       ... \n",
      "5320   -1.0\n",
      "5321   -1.0\n",
      "5322   -1.0\n",
      "5323   -1.0\n",
      "5324    1.0\n",
      "Name: vote, Length: 4588, dtype: float64\n"
     ]
    }
   ],
   "source": [
    "print(ds['vote'])"
   ]
  },
  {
   "cell_type": "code",
   "execution_count": 9,
   "id": "96ee0a62",
   "metadata": {},
   "outputs": [
    {
     "name": "stdout",
     "output_type": "stream",
     "text": [
      "Unnamed: 0                 False\n",
      "orientation_art            False\n",
      "progvscons_art             False\n",
      "vote                       False\n",
      "orientation_dep            False\n",
      "progvscons_dep             False\n",
      "Genre_F                    False\n",
      "Genre_H                    False\n",
      "Âge_18-30                  False\n",
      "Âge_30-45                  False\n",
      "Âge_45-65                  False\n",
      "Âge_65+                    False\n",
      "District_Brig              False\n",
      "District_Conthey           False\n",
      "District_Entremont         False\n",
      "District_Goms              False\n",
      "District_Hérens            False\n",
      "District_Leuk              False\n",
      "District_Martigny          False\n",
      "District_Monthey           False\n",
      "District_Sierre            False\n",
      "District_Sion              False\n",
      "District_St-Maurice        False\n",
      "District_Visp              False\n",
      "District_Westlich Raron    False\n",
      "District_Östlich Raron     False\n",
      "group_AC                   False\n",
      "group_AdG                  False\n",
      "group_CSPO                 False\n",
      "group_CVPO                 False\n",
      "group_INDEP                False\n",
      "group_LES VERTS            False\n",
      "group_PDC                  False\n",
      "group_SVPO                 False\n",
      "group_UDC                  False\n",
      "group_VLR                  False\n",
      "group_ZUK-VS               False\n",
      "dtype: bool\n"
     ]
    }
   ],
   "source": [
    "print(np.isnan(ds).any(axis=0))"
   ]
  },
  {
   "cell_type": "code",
   "execution_count": 10,
   "id": "0b6df79a",
   "metadata": {},
   "outputs": [],
   "source": [
    "# Divide into features and labels \n",
    "\n",
    "X_data = ds.iloc[:, 1:37]\n",
    "X_data = X_data.drop('vote', axis=1)\n",
    "\n",
    "Labels = ds.iloc[:, [3]]"
   ]
  },
  {
   "cell_type": "code",
   "execution_count": 11,
   "id": "775a7e9b",
   "metadata": {},
   "outputs": [
    {
     "name": "stdout",
     "output_type": "stream",
     "text": [
      "      vote\n",
      "0     -1.0\n",
      "1      1.0\n",
      "2      1.0\n",
      "3      1.0\n",
      "4      1.0\n",
      "...    ...\n",
      "5320  -1.0\n",
      "5321  -1.0\n",
      "5322  -1.0\n",
      "5323  -1.0\n",
      "5324   1.0\n",
      "\n",
      "[4588 rows x 1 columns]\n"
     ]
    }
   ],
   "source": [
    "print(Labels)"
   ]
  },
  {
   "cell_type": "code",
   "execution_count": 12,
   "id": "19412dfc",
   "metadata": {},
   "outputs": [],
   "source": [
    "# Split the dataset (20% as test set)\n",
    "\n",
    "X_train, X_test, y_train, y_test = train_test_split(X_data, Labels, test_size=0.2, random_state=0)"
   ]
  },
  {
   "cell_type": "markdown",
   "id": "0a5b2f3c",
   "metadata": {},
   "source": [
    "# Logistic Regression"
   ]
  },
  {
   "cell_type": "code",
   "execution_count": 12,
   "id": "3f6927fc",
   "metadata": {},
   "outputs": [],
   "source": [
    "# Train the model : logistic Regression\n",
    "y_train = np.ravel(y_train)\n",
    "\n",
    "model = LogisticRegression(solver='liblinear', random_state=0)\n",
    "H = model.fit(X_train, y_train)\n"
   ]
  },
  {
   "cell_type": "code",
   "execution_count": 13,
   "id": "638ef38c",
   "metadata": {},
   "outputs": [
    {
     "name": "stdout",
     "output_type": "stream",
     "text": [
      "Index(['orientation_art', 'progvscons_art', 'orientation_dep',\n",
      "       'progvscons_dep', 'Genre_F', 'Genre_H', 'Âge_18-30', 'Âge_30-45',\n",
      "       'Âge_45-65', 'Âge_65+', 'District_Brig', 'District_Conthey',\n",
      "       'District_Entremont', 'District_Goms', 'District_Hérens',\n",
      "       'District_Leuk', 'District_Martigny', 'District_Monthey',\n",
      "       'District_Sierre', 'District_Sion', 'District_St-Maurice',\n",
      "       'District_Visp', 'District_Westlich Raron', 'District_Östlich Raron',\n",
      "       'group_AC', 'group_AdG', 'group_CSPO', 'group_CVPO', 'group_INDEP',\n",
      "       'group_LES VERTS', 'group_PDC', 'group_SVPO', 'group_UDC', 'group_VLR',\n",
      "       'group_ZUK-VS'],\n",
      "      dtype='object')\n",
      "[[ 6.60137520e-02 -3.01326869e-01 -8.74842786e-02 -6.80389740e-01\n",
      "   2.55989971e-05  1.76566453e-02  2.89908252e-02  3.03231494e-03\n",
      "  -1.84605573e-02  4.11966143e-03  1.88486044e-01  4.84528205e-04\n",
      "   7.66739647e-02  3.91607864e-03  2.65896946e-01  3.51738496e-02\n",
      "  -3.44639351e-02  5.00509299e-02 -2.69547654e-02 -2.88098350e-02\n",
      "   1.84971617e-02  5.59189689e-04 -1.57029892e-01 -3.74798021e-01\n",
      "  -1.82142327e-01 -1.01749757e-01  3.85849230e-01  3.33225713e-02\n",
      "  -3.74798021e-01 -2.14125246e-01  7.62041924e-01 -2.87982171e-02\n",
      "  -3.07141683e-01  3.64492084e-01 -3.19268314e-01]]\n"
     ]
    }
   ],
   "source": [
    "print(X_train.columns)\n",
    "print(model.coef_)"
   ]
  },
  {
   "cell_type": "code",
   "execution_count": 14,
   "id": "3ae6bd3a",
   "metadata": {},
   "outputs": [
    {
     "name": "stdout",
     "output_type": "stream",
     "text": [
      "Logistic Regression Model Coeff (m) = [[ 6.60137520e-02 -3.01326869e-01 -8.74842786e-02 -6.80389740e-01\n",
      "   2.55989971e-05  1.76566453e-02  2.89908252e-02  3.03231494e-03\n",
      "  -1.84605573e-02  4.11966143e-03  1.88486044e-01  4.84528205e-04\n",
      "   7.66739647e-02  3.91607864e-03  2.65896946e-01  3.51738496e-02\n",
      "  -3.44639351e-02  5.00509299e-02 -2.69547654e-02 -2.88098350e-02\n",
      "   1.84971617e-02  5.59189689e-04 -1.57029892e-01 -3.74798021e-01\n",
      "  -1.82142327e-01 -1.01749757e-01  3.85849230e-01  3.33225713e-02\n",
      "  -3.74798021e-01 -2.14125246e-01  7.62041924e-01 -2.87982171e-02\n",
      "  -3.07141683e-01  3.64492084e-01 -3.19268314e-01]]\n",
      "Logistic Regression Model Coeff (b) = [0.01768224]\n"
     ]
    }
   ],
   "source": [
    "print('Logistic Regression Model Coeff (m) =' , model.coef_)\n",
    "print('Logistic Regression Model Coeff (b) =' , model.intercept_)"
   ]
  },
  {
   "cell_type": "code",
   "execution_count": 15,
   "id": "2823c7d8",
   "metadata": {},
   "outputs": [
    {
     "name": "stdout",
     "output_type": "stream",
     "text": [
      "[ 1.  1. -1.  1. -1.  1.  1.  1.  1.  1.  1.  1.  1.  1. -1.  1. -1.  1.\n",
      "  1. -1.  1.  1.  1.  1.  1.  1.  1.  1.  1.  1.  1. -1.  1.  1.  1. -1.\n",
      " -1.  1.  1.  1.  1.  1. -1.  1.  1.  1.  1. -1. -1.  1. -1.  1.  1.  1.\n",
      "  1.  1.  1.  1.  1.  1. -1. -1.  1.  1.  1.  1.  1. -1.  1.  1. -1.  1.\n",
      "  1.  1.  1.  1.  1. -1.  1.  1. -1.  1.  1.  1.  1.  1.  1.  1.  1.  1.\n",
      "  1.  1.  1. -1.  1.  1.  1. -1.  1.  1.  1.  1.  1. -1.  1.  1. -1. -1.\n",
      "  1.  1.  1. -1.  1.  1.  1.  1.  1.  1.  1.  1. -1. -1.  1.  1.  1.  1.\n",
      "  1.  1.  1.  1.  1. -1.  1.  1.  1. -1.  1.  1.  1. -1. -1. -1.  1.  1.\n",
      "  1.  1. -1.  1.  1.  1.  1. -1. -1. -1.  1.  1.  1.  1. -1.  1.  1.  1.\n",
      "  1.  1.  1.  1.  1.  1.  1.  1.  1.  1. -1.  1.  1.  1.  1.  1.  1. -1.\n",
      "  1.  1.  1.  1.  1.  1.  1.  1.  1. -1.  1. -1.  1.  1.  1. -1.  1. -1.\n",
      "  1.  1.  1.  1.  1.  1.  1. -1. -1.  1.  1.  1. -1.  1.  1.  1. -1.  1.\n",
      "  1.  1.  1.  1.  1. -1.  1. -1.  1.  1.  1. -1. -1.  1.  1. -1.  1. -1.\n",
      "  1.  1.  1.  1.  1.  1.  1.  1.  1.  1.  1.  1.  1.  1.  1.  1.  1. -1.\n",
      "  1.  1. -1.  1.  1.  1.  1. -1.  1.  1.  1.  1.  1. -1.  1. -1.  1.  1.\n",
      "  1. -1. -1.  1.  1.  1. -1.  1.  1.  1.  1.  1.  1.  1.  1.  1.  1.  1.\n",
      "  1.  1. -1.  1.  1.  1.  1.  1.  1.  1.  1.  1. -1.  1. -1.  1.  1.  1.\n",
      "  1. -1.  1.  1.  1.  1.  1.  1.  1.  1.  1. -1.  1.  1.  1.  1.  1. -1.\n",
      "  1.  1. -1.  1. -1.  1. -1.  1.  1.  1.  1.  1.  1.  1. -1. -1.  1.  1.\n",
      "  1.  1.  1.  1.  1.  1. -1.  1.  1.  1.  1.  1.  1.  1.  1.  1.  1.  1.\n",
      "  1.  1.  1.  1.  1.  1.  1. -1. -1.  1. -1. -1.  1.  1.  1.  1. -1.  1.\n",
      "  1.  1.  1.  1.  1. -1.  1.  1.  1.  1.  1.  1.  1.  1. -1. -1.  1.  1.\n",
      "  1.  1. -1.  1. -1. -1.  1.  1.  1.  1. -1. -1.  1.  1.  1. -1.  1. -1.\n",
      " -1.  1. -1.  1.  1. -1.  1.  1.  1.  1.  1.  1.  1.  1.  1. -1.  1. -1.\n",
      "  1.  1.  1.  1.  1.  1.  1.  1.  1. -1.  1. -1.  1.  1. -1. -1.  1.  1.\n",
      " -1. -1.  1.  1. -1.  1.  1.  1.  1.  1.  1.  1.  1.  1.  1.  1. -1. -1.\n",
      " -1. -1.  1.  1.  1.  1.  1.  1.  1.  1.  1.  1.  1.  1. -1.  1.  1.  1.\n",
      "  1.  1.  1.  1.  1.  1.  1.  1. -1. -1.  1.  1.  1.  1.  1.  1.  1.  1.\n",
      " -1.  1.  1.  1.  1.  1.  1.  1.  1.  1. -1.  1.  1.  1.  1.  1.  1.  1.\n",
      " -1.  1.  1. -1.  1.  1.  1.  1.  1.  1.  1.  1. -1.  1. -1. -1.  1. -1.\n",
      "  1.  1. -1.  1.  1.  1.  1.  1.  1.  1.  1. -1.  1.  1.  1.  1.  1.  1.\n",
      "  1.  1. -1.  1.  1.  1.  1. -1.  1.  1. -1.  1.  1.  1.  1. -1.  1.  1.\n",
      "  1. -1. -1.  1.  1.  1.  1.  1.  1.  1.  1. -1.  1.  1.  1.  1.  1.  1.\n",
      "  1.  1.  1. -1.  1. -1.  1.  1. -1.  1.  1.  1.  1. -1.  1.  1.  1.  1.\n",
      "  1.  1.  1.  1.  1. -1.  1.  1.  1.  1.  1. -1.  1.  1. -1. -1.  1.  1.\n",
      "  1.  1.  1. -1.  1.  1.  1.  1.  1.  1.  1.  1.  1.  1. -1. -1. -1.  1.\n",
      "  1.  1. -1.  1.  1.  1. -1.  1.  1.  1.  1.  1. -1. -1. -1. -1.  1. -1.\n",
      "  1.  1.  1.  1.  1.  1.  1.  1. -1.  1. -1.  1.  1.  1.  1.  1.  1.  1.\n",
      "  1. -1.  1.  1. -1.  1.  1.  1. -1.  1.  1.  1. -1. -1.  1.  1.  1. -1.\n",
      "  1. -1.  1.  1.  1.  1. -1.  1.  1.  1.  1.  1.  1.  1.  1.  1. -1.  1.\n",
      "  1.  1. -1.  1.  1.  1.  1. -1.  1. -1.  1.  1.  1.  1.  1.  1.  1.  1.\n",
      "  1.  1.  1.  1.  1. -1.  1.  1.  1.  1.  1. -1.  1. -1.  1.  1.  1.  1.\n",
      "  1.  1.  1.  1.  1.  1. -1.  1.  1.  1.  1.  1.  1.  1.  1.  1.  1.  1.\n",
      "  1.  1.  1.  1.  1. -1.  1.  1. -1.  1.  1. -1.  1.  1.  1.  1.  1. -1.\n",
      "  1.  1. -1.  1. -1.  1.  1.  1.  1. -1.  1. -1. -1.  1.  1.  1. -1.  1.\n",
      "  1.  1.  1.  1. -1.  1.  1.  1. -1.  1.  1.  1.  1.  1.  1.  1.  1. -1.\n",
      " -1.  1.  1.  1.  1.  1. -1.  1.  1. -1. -1.  1.  1.  1. -1.  1.  1.  1.\n",
      "  1.  1.  1. -1. -1.  1.  1.  1.  1.  1.  1.  1.  1.  1.  1. -1.  1.  1.\n",
      "  1.  1.  1. -1.  1.  1.  1.  1.  1.  1.  1.  1.  1.  1.  1. -1. -1.  1.\n",
      "  1. -1.  1. -1.  1.  1.  1.  1.  1.  1.  1. -1. -1.  1.  1. -1.  1.  1.\n",
      "  1.  1. -1.  1. -1.  1.  1.  1.  1. -1. -1.  1.  1.  1. -1.  1.  1. -1.]\n"
     ]
    }
   ],
   "source": [
    "# Predicting the data\n",
    "\n",
    "y_predict=model.predict(X_test)\n",
    "print(y_predict)"
   ]
  },
  {
   "cell_type": "code",
   "execution_count": 16,
   "id": "009dfe66",
   "metadata": {},
   "outputs": [
    {
     "name": "stdout",
     "output_type": "stream",
     "text": [
      "\n",
      "Confusion Matrix : \n",
      " [[108 267]\n",
      " [ 87 456]]\n"
     ]
    }
   ],
   "source": [
    "# Print Confusion Matrix\n",
    "\n",
    "print(\"\\nConfusion Matrix : \\n\",confusion_matrix(y_test, model.predict(X_test)))"
   ]
  },
  {
   "cell_type": "code",
   "execution_count": 17,
   "id": "13de445a",
   "metadata": {},
   "outputs": [
    {
     "data": {
      "image/png": "[encoded data removed]",
      "text/plain": [
       "<Figure size 1000x700 with 2 Axes>"
      ]
     },
     "metadata": {},
     "output_type": "display_data"
    }
   ],
   "source": [
    "# Plot Confusion Matrix \n",
    "\n",
    "cm = confusion_matrix(y_test, model.predict(X_test))\n",
    "\n",
    "df_cm = pd.DataFrame(cm,[-1, 1], [-1, 1])\n",
    "\n",
    "plt.figure(figsize=(10,7))\n",
    "sn.set(font_scale=1.4) # for label size\n",
    "sn.heatmap(df_cm, annot=True, annot_kws={\"size\": 16}) # font size\n",
    "\n",
    "plt.show()\n",
    "\n"
   ]
  },
  {
   "cell_type": "code",
   "execution_count": 18,
   "id": "6819c8c3",
   "metadata": {},
   "outputs": [
    {
     "name": "stdout",
     "output_type": "stream",
     "text": [
      "              precision    recall  f1-score   support\n",
      "\n",
      "        -1.0       0.55      0.29      0.38       375\n",
      "         1.0       0.63      0.84      0.72       543\n",
      "\n",
      "    accuracy                           0.61       918\n",
      "   macro avg       0.59      0.56      0.55       918\n",
      "weighted avg       0.60      0.61      0.58       918\n",
      "\n"
     ]
    }
   ],
   "source": [
    "# Print Classification Report\n",
    "\n",
    "print(classification_report(y_test, model.predict(X_test)))"
   ]
  },
  {
   "cell_type": "markdown",
   "id": "3d6bc1f1",
   "metadata": {},
   "source": [
    "# K-Nearest Neighbors "
   ]
  },
  {
   "cell_type": "code",
   "execution_count": 21,
   "id": "b159562d",
   "metadata": {},
   "outputs": [],
   "source": [
    "# Train the KNN classifier on the training data\n",
    "classifier = KNeighborsClassifier(n_neighbors=5, metric='euclidean')\n",
    "classifier.fit(X_train, y_train)\n",
    "\n",
    "# Evaluate the classifier on the test data\n",
    "score = classifier.score(X_test, y_test)"
   ]
  },
  {
   "cell_type": "code",
   "execution_count": 19,
   "id": "f7f8934f",
   "metadata": {},
   "outputs": [
    {
     "name": "stdout",
     "output_type": "stream",
     "text": [
      "0.7342047930283224\n"
     ]
    }
   ],
   "source": [
    "print(score)"
   ]
  },
  {
   "cell_type": "code",
   "execution_count": 22,
   "id": "69d5aa56",
   "metadata": {},
   "outputs": [
    {
     "name": "stdout",
     "output_type": "stream",
     "text": [
      "\n",
      "Confusion Matrix : \n",
      " [[247 128]\n",
      " [116 427]]\n"
     ]
    }
   ],
   "source": [
    "# Print Confusion Matrix\n",
    "\n",
    "print(\"\\nConfusion Matrix : \\n\",confusion_matrix(y_test, classifier.predict(X_test)))"
   ]
  },
  {
   "cell_type": "code",
   "execution_count": 23,
   "id": "f5c495b6",
   "metadata": {},
   "outputs": [
    {
     "name": "stdout",
     "output_type": "stream",
     "text": [
      "0.7777777777777778\n"
     ]
    }
   ],
   "source": [
    "# Make predictions on the test data\n",
    "y_pred = classifier.predict(X_test)\n",
    "\n",
    "# Compute the F1 score\n",
    "f1 = f1_score(y_test, y_pred)\n",
    "print(f1)"
   ]
  },
  {
   "cell_type": "code",
   "execution_count": 24,
   "id": "d9e724e3",
   "metadata": {},
   "outputs": [
    {
     "data": {
      "image/png": "[encoded data removed]",
      "text/plain": [
       "<Figure size 1000x700 with 2 Axes>"
      ]
     },
     "metadata": {},
     "output_type": "display_data"
    }
   ],
   "source": [
    "# Plot Confusion Matrix \n",
    "\n",
    "cm = confusion_matrix(y_test, y_pred)\n",
    "\n",
    "df_cm = pd.DataFrame(cm,[-1, 1], [-1, 1])\n",
    "\n",
    "plt.figure(figsize=(10,7))\n",
    "sn.set(font_scale=1.4) # for label size\n",
    "sn.heatmap(df_cm, annot=True, annot_kws={\"size\": 16}) # font size\n",
    "\n",
    "plt.show()"
   ]
  },
  {
   "cell_type": "code",
   "execution_count": 25,
   "id": "1c5aa155",
   "metadata": {},
   "outputs": [
    {
     "name": "stdout",
     "output_type": "stream",
     "text": [
      "              precision    recall  f1-score   support\n",
      "\n",
      "        -1.0       0.68      0.66      0.67       375\n",
      "         1.0       0.77      0.79      0.78       543\n",
      "\n",
      "    accuracy                           0.73       918\n",
      "   macro avg       0.72      0.72      0.72       918\n",
      "weighted avg       0.73      0.73      0.73       918\n",
      "\n"
     ]
    }
   ],
   "source": [
    "# Print Classification Report\n",
    "\n",
    "print(classification_report(y_test, classifier.predict(X_test)))"
   ]
  },
  {
   "cell_type": "markdown",
   "id": "1484960a",
   "metadata": {},
   "source": [
    "# Decision Tree"
   ]
  },
  {
   "cell_type": "code",
   "execution_count": 26,
   "id": "94e1bf67",
   "metadata": {},
   "outputs": [
    {
     "name": "stdout",
     "output_type": "stream",
     "text": [
      "0.7597765363128492\n"
     ]
    }
   ],
   "source": [
    "# Train the decision tree classifier on the training data\n",
    "tree_classifier = DecisionTreeClassifier()\n",
    "tree_classifier.fit(X_train, y_train)\n",
    "\n",
    "# Make predictions on the test data\n",
    "y_pred = tree_classifier.predict(X_test)\n",
    "\n",
    "# Compute the F1 score\n",
    "f1 = f1_score(y_test, y_pred)\n",
    "print(f1)"
   ]
  },
  {
   "cell_type": "code",
   "execution_count": 31,
   "id": "1a392d6a",
   "metadata": {},
   "outputs": [
    {
     "name": "stdout",
     "output_type": "stream",
     "text": [
      "\n",
      "Confusion Matrix : \n",
      " [[252 123]\n",
      " [135 408]]\n"
     ]
    }
   ],
   "source": [
    "# Print Confusion Matrix\n",
    "\n",
    "print(\"\\nConfusion Matrix : \\n\",confusion_matrix(y_test, tree_classifier.predict(X_test)))"
   ]
  },
  {
   "cell_type": "code",
   "execution_count": 28,
   "id": "3902a7e8",
   "metadata": {},
   "outputs": [
    {
     "data": {
      "image/png": "[encoded data removed]",
      "text/plain": [
       "<Figure size 1000x700 with 2 Axes>"
      ]
     },
     "metadata": {},
     "output_type": "display_data"
    }
   ],
   "source": [
    "# Compute the confusion matrix\n",
    "cm_tree = confusion_matrix(y_test, y_pred)\n",
    "\n",
    "df_cm = pd.DataFrame(cm_tree,[-1, 1], [-1, 1])\n",
    "\n",
    "plt.figure(figsize=(10,7))\n",
    "sn.set(font_scale=1.4) # for label size\n",
    "sn.heatmap(df_cm, annot=True, annot_kws={\"size\": 16}) # font size\n",
    "\n",
    "plt.show()"
   ]
  },
  {
   "cell_type": "code",
   "execution_count": 29,
   "id": "13591d66",
   "metadata": {},
   "outputs": [
    {
     "name": "stdout",
     "output_type": "stream",
     "text": [
      "              precision    recall  f1-score   support\n",
      "\n",
      "        -1.0       0.65      0.67      0.66       375\n",
      "         1.0       0.77      0.75      0.76       543\n",
      "\n",
      "    accuracy                           0.72       918\n",
      "   macro avg       0.71      0.71      0.71       918\n",
      "weighted avg       0.72      0.72      0.72       918\n",
      "\n"
     ]
    }
   ],
   "source": [
    "# Print Classification Report\n",
    "\n",
    "print(classification_report(y_test, tree_classifier.predict(X_test)))"
   ]
  },
  {
   "cell_type": "markdown",
   "id": "d416a819",
   "metadata": {},
   "source": [
    "# Support Vector Machine"
   ]
  },
  {
   "cell_type": "code",
   "execution_count": 32,
   "id": "0ab8d664",
   "metadata": {},
   "outputs": [
    {
     "name": "stdout",
     "output_type": "stream",
     "text": [
      "0.8218243819266836\n"
     ]
    }
   ],
   "source": [
    "# Train the decision tree classifier on the training data\n",
    "svm_classifier = SVC()\n",
    "svm_classifier.fit(X_train, y_train)\n",
    "\n",
    "# Make predictions on the test data\n",
    "y_pred = svm_classifier.predict(X_test)\n",
    "\n",
    "# Compute the F1 score\n",
    "f1 = f1_score(y_test, y_pred)\n",
    "print(f1)"
   ]
  },
  {
   "cell_type": "code",
   "execution_count": 33,
   "id": "1191fef5",
   "metadata": {},
   "outputs": [
    {
     "name": "stdout",
     "output_type": "stream",
     "text": [
      "\n",
      "Confusion Matrix : \n",
      " [[227 148]\n",
      " [ 61 482]]\n"
     ]
    }
   ],
   "source": [
    "# Print Confusion Matrix\n",
    "\n",
    "print(\"\\nConfusion Matrix : \\n\",confusion_matrix(y_test, svm_classifier.predict(X_test)))"
   ]
  },
  {
   "cell_type": "code",
   "execution_count": 34,
   "id": "1024d555",
   "metadata": {},
   "outputs": [
    {
     "data": {
      "image/png": "[encoded data removed]",
      "text/plain": [
       "<Figure size 1000x700 with 2 Axes>"
      ]
     },
     "metadata": {},
     "output_type": "display_data"
    }
   ],
   "source": [
    "# Compute the confusion matrix\n",
    "cm_svm = confusion_matrix(y_test, y_pred)\n",
    "\n",
    "df_cm = pd.DataFrame(cm_tree,[-1, 1], [-1, 1])\n",
    "\n",
    "plt.figure(figsize=(10,7))\n",
    "sn.set(font_scale=1.4) # for label size\n",
    "sn.heatmap(df_cm, annot=True, annot_kws={\"size\": 16}) # font size\n",
    "\n",
    "plt.show()"
   ]
  },
  {
   "cell_type": "code",
   "execution_count": 35,
   "id": "3f61144d",
   "metadata": {},
   "outputs": [
    {
     "name": "stdout",
     "output_type": "stream",
     "text": [
      "              precision    recall  f1-score   support\n",
      "\n",
      "        -1.0       0.79      0.61      0.68       375\n",
      "         1.0       0.77      0.89      0.82       543\n",
      "\n",
      "    accuracy                           0.77       918\n",
      "   macro avg       0.78      0.75      0.75       918\n",
      "weighted avg       0.77      0.77      0.77       918\n",
      "\n"
     ]
    }
   ],
   "source": [
    "# Print Classification Report\n",
    "\n",
    "print(classification_report(y_test, svm_classifier.predict(X_test)))"
   ]
  },
  {
   "cell_type": "markdown",
   "id": "533728a1",
   "metadata": {},
   "source": [
    "# Naive Bayes"
   ]
  },
  {
   "cell_type": "code",
   "execution_count": 37,
   "id": "74c02e77",
   "metadata": {},
   "outputs": [
    {
     "name": "stdout",
     "output_type": "stream",
     "text": [
      "0.6996587030716724\n"
     ]
    }
   ],
   "source": [
    "# Train the decision tree classifier on the training data\n",
    "bayes_classifier = GaussianNB()\n",
    "bayes_classifier.fit(X_train, y_train)\n",
    "\n",
    "# Make predictions on the test data\n",
    "y_pred = bayes_classifier.predict(X_test)\n",
    "\n",
    "# Compute the F1 score\n",
    "f1 = f1_score(y_test, y_pred)\n",
    "print(f1)"
   ]
  },
  {
   "cell_type": "code",
   "execution_count": 38,
   "id": "73c7e3ea",
   "metadata": {},
   "outputs": [
    {
     "name": "stdout",
     "output_type": "stream",
     "text": [
      "\n",
      "Confusion Matrix : \n",
      " [[156 219]\n",
      " [133 410]]\n"
     ]
    }
   ],
   "source": [
    "# Print Confusion Matrix\n",
    "\n",
    "print(\"\\nConfusion Matrix : \\n\",confusion_matrix(y_test, bayes_classifier.predict(X_test)))"
   ]
  },
  {
   "cell_type": "code",
   "execution_count": 39,
   "id": "9d60d2da",
   "metadata": {},
   "outputs": [
    {
     "data": {
      "image/png": "[encoded data removed]",
      "text/plain": [
       "<Figure size 1000x700 with 2 Axes>"
      ]
     },
     "metadata": {},
     "output_type": "display_data"
    }
   ],
   "source": [
    "# Compute the confusion matrix\n",
    "cm_bayes = confusion_matrix(y_test, y_pred)\n",
    "\n",
    "df_cm = pd.DataFrame(cm_bayes,[-1, 1], [-1, 1])\n",
    "\n",
    "plt.figure(figsize=(10,7))\n",
    "sn.set(font_scale=1.4) # for label size\n",
    "sn.heatmap(df_cm, annot=True, annot_kws={\"size\": 16}) # font size\n",
    "\n",
    "plt.show()"
   ]
  },
  {
   "cell_type": "code",
   "execution_count": 40,
   "id": "ccec7f94",
   "metadata": {},
   "outputs": [
    {
     "name": "stdout",
     "output_type": "stream",
     "text": [
      "              precision    recall  f1-score   support\n",
      "\n",
      "        -1.0       0.54      0.42      0.47       375\n",
      "         1.0       0.65      0.76      0.70       543\n",
      "\n",
      "    accuracy                           0.62       918\n",
      "   macro avg       0.60      0.59      0.58       918\n",
      "weighted avg       0.61      0.62      0.61       918\n",
      "\n"
     ]
    }
   ],
   "source": [
    "# Print Classification Report\n",
    "\n",
    "print(classification_report(y_test, bayes_classifier.predict(X_test)))"
   ]
  },
  {
   "cell_type": "markdown",
   "id": "730db0d2",
   "metadata": {},
   "source": [
    "# Gradient Boosting"
   ]
  },
  {
   "cell_type": "code",
   "execution_count": 13,
   "id": "dd87db4d",
   "metadata": {},
   "outputs": [
    {
     "name": "stderr",
     "output_type": "stream",
     "text": [
      "/usr/local/lib/python3.10/site-packages/sklearn/ensemble/_gb.py:570: DataConversionWarning: A column-vector y was passed when a 1d array was expected. Please change the shape of y to (n_samples, ), for example using ravel().\n",
      "  y = column_or_1d(y, warn=True)\n"
     ]
    },
    {
     "name": "stdout",
     "output_type": "stream",
     "text": [
      "F1 score: 0.8220120378331901\n"
     ]
    }
   ],
   "source": [
    "# Train a gradient boosting classifier\n",
    "gbc = GradientBoostingClassifier()\n",
    "gbc.fit(X_train, y_train)\n",
    "\n",
    "# Make predictions on the test set\n",
    "y_pred = gbc.predict(X_test)\n",
    "\n",
    "# Calculate the F1 score\n",
    "f1 = f1_score(y_test, y_pred)\n",
    "print('F1 score:', f1)"
   ]
  },
  {
   "cell_type": "code",
   "execution_count": 14,
   "id": "d75c780e",
   "metadata": {},
   "outputs": [
    {
     "name": "stdout",
     "output_type": "stream",
     "text": [
      "\n",
      "Confusion Matrix : \n",
      " [[233 142]\n",
      " [ 65 478]]\n"
     ]
    }
   ],
   "source": [
    "# Print Confusion Matrix\n",
    "\n",
    "print(\"\\nConfusion Matrix : \\n\",confusion_matrix(y_test, gbc.predict(X_test)))"
   ]
  },
  {
   "cell_type": "code",
   "execution_count": 15,
   "id": "7e742633",
   "metadata": {},
   "outputs": [
    {
     "data": {
      "image/png": "[encoded data removed]",
      "text/plain": [
       "<Figure size 1000x700 with 2 Axes>"
      ]
     },
     "metadata": {},
     "output_type": "display_data"
    }
   ],
   "source": [
    "# Compute the confusion matrix\n",
    "cm_bayes = confusion_matrix(y_test, y_pred)\n",
    "\n",
    "df_cm = pd.DataFrame(cm_bayes,[-1, 1], [-1, 1])\n",
    "\n",
    "plt.figure(figsize=(10,7))\n",
    "sn.set(font_scale=1.4) # for label size\n",
    "sn.heatmap(df_cm, annot=True, annot_kws={\"size\": 16}) # font size\n",
    "\n",
    "plt.show()"
   ]
  },
  {
   "cell_type": "code",
   "execution_count": 16,
   "id": "b900dab1",
   "metadata": {},
   "outputs": [
    {
     "name": "stdout",
     "output_type": "stream",
     "text": [
      "              precision    recall  f1-score   support\n",
      "\n",
      "        -1.0       0.78      0.62      0.69       375\n",
      "         1.0       0.77      0.88      0.82       543\n",
      "\n",
      "    accuracy                           0.77       918\n",
      "   macro avg       0.78      0.75      0.76       918\n",
      "weighted avg       0.78      0.77      0.77       918\n",
      "\n"
     ]
    }
   ],
   "source": [
    "# Print Classification Report\n",
    "\n",
    "print(classification_report(y_test, gbc.predict(X_test)))"
   ]
  },
  {
   "cell_type": "markdown",
   "id": "ee9d4253",
   "metadata": {},
   "source": [
    "# K-fold crossvalidation"
   ]
  },
  {
   "cell_type": "code",
   "execution_count": 18,
   "id": "34bc32c2",
   "metadata": {},
   "outputs": [
    {
     "ename": "ValueError",
     "evalue": "If using all scalar values, you must pass an index",
     "output_type": "error",
     "traceback": [
      "\u001b[0;31m---------------------------------------------------------------------------\u001b[0m",
      "\u001b[0;31mValueError\u001b[0m                                Traceback (most recent call last)",
      "Cell \u001b[0;32mIn [18], line 14\u001b[0m\n\u001b[1;32m     11\u001b[0m unique_data \u001b[38;5;241m=\u001b[39m {key: data[key] \u001b[38;5;28;01mfor\u001b[39;00m key \u001b[38;5;129;01min\u001b[39;00m unique_keys}\n\u001b[1;32m     13\u001b[0m \u001b[38;5;66;03m# Create a DataFrame from the new dictionary\u001b[39;00m\n\u001b[0;32m---> 14\u001b[0m df \u001b[38;5;241m=\u001b[39m pd\u001b[38;5;241m.\u001b[39mDataFrame(unique_data)\n",
      "File \u001b[0;32m/usr/local/lib/python3.10/site-packages/pandas/core/frame.py:663\u001b[0m, in \u001b[0;36mDataFrame.__init__\u001b[0;34m(self, data, index, columns, dtype, copy)\u001b[0m\n\u001b[1;32m    657\u001b[0m     mgr \u001b[38;5;241m=\u001b[39m \u001b[38;5;28mself\u001b[39m\u001b[38;5;241m.\u001b[39m_init_mgr(\n\u001b[1;32m    658\u001b[0m         data, axes\u001b[38;5;241m=\u001b[39m{\u001b[38;5;124m\"\u001b[39m\u001b[38;5;124mindex\u001b[39m\u001b[38;5;124m\"\u001b[39m: index, \u001b[38;5;124m\"\u001b[39m\u001b[38;5;124mcolumns\u001b[39m\u001b[38;5;124m\"\u001b[39m: columns}, dtype\u001b[38;5;241m=\u001b[39mdtype, copy\u001b[38;5;241m=\u001b[39mcopy\n\u001b[1;32m    659\u001b[0m     )\n\u001b[1;32m    661\u001b[0m \u001b[38;5;28;01melif\u001b[39;00m \u001b[38;5;28misinstance\u001b[39m(data, \u001b[38;5;28mdict\u001b[39m):\n\u001b[1;32m    662\u001b[0m     \u001b[38;5;66;03m# GH#38939 de facto copy defaults to False only in non-dict cases\u001b[39;00m\n\u001b[0;32m--> 663\u001b[0m     mgr \u001b[38;5;241m=\u001b[39m \u001b[43mdict_to_mgr\u001b[49m\u001b[43m(\u001b[49m\u001b[43mdata\u001b[49m\u001b[43m,\u001b[49m\u001b[43m \u001b[49m\u001b[43mindex\u001b[49m\u001b[43m,\u001b[49m\u001b[43m \u001b[49m\u001b[43mcolumns\u001b[49m\u001b[43m,\u001b[49m\u001b[43m \u001b[49m\u001b[43mdtype\u001b[49m\u001b[38;5;241;43m=\u001b[39;49m\u001b[43mdtype\u001b[49m\u001b[43m,\u001b[49m\u001b[43m \u001b[49m\u001b[43mcopy\u001b[49m\u001b[38;5;241;43m=\u001b[39;49m\u001b[43mcopy\u001b[49m\u001b[43m,\u001b[49m\u001b[43m \u001b[49m\u001b[43mtyp\u001b[49m\u001b[38;5;241;43m=\u001b[39;49m\u001b[43mmanager\u001b[49m\u001b[43m)\u001b[49m\n\u001b[1;32m    664\u001b[0m \u001b[38;5;28;01melif\u001b[39;00m \u001b[38;5;28misinstance\u001b[39m(data, ma\u001b[38;5;241m.\u001b[39mMaskedArray):\n\u001b[1;32m    665\u001b[0m     \u001b[38;5;28;01mimport\u001b[39;00m \u001b[38;5;21;01mnumpy\u001b[39;00m\u001b[38;5;21;01m.\u001b[39;00m\u001b[38;5;21;01mma\u001b[39;00m\u001b[38;5;21;01m.\u001b[39;00m\u001b[38;5;21;01mmrecords\u001b[39;00m \u001b[38;5;28;01mas\u001b[39;00m \u001b[38;5;21;01mmrecords\u001b[39;00m\n",
      "File \u001b[0;32m/usr/local/lib/python3.10/site-packages/pandas/core/internals/construction.py:494\u001b[0m, in \u001b[0;36mdict_to_mgr\u001b[0;34m(data, index, columns, dtype, typ, copy)\u001b[0m\n\u001b[1;32m    490\u001b[0m     \u001b[38;5;28;01melse\u001b[39;00m:\n\u001b[1;32m    491\u001b[0m         \u001b[38;5;66;03m# dtype check to exclude e.g. range objects, scalars\u001b[39;00m\n\u001b[1;32m    492\u001b[0m         arrays \u001b[38;5;241m=\u001b[39m [x\u001b[38;5;241m.\u001b[39mcopy() \u001b[38;5;28;01mif\u001b[39;00m \u001b[38;5;28mhasattr\u001b[39m(x, \u001b[38;5;124m\"\u001b[39m\u001b[38;5;124mdtype\u001b[39m\u001b[38;5;124m\"\u001b[39m) \u001b[38;5;28;01melse\u001b[39;00m x \u001b[38;5;28;01mfor\u001b[39;00m x \u001b[38;5;129;01min\u001b[39;00m arrays]\n\u001b[0;32m--> 494\u001b[0m \u001b[38;5;28;01mreturn\u001b[39;00m \u001b[43marrays_to_mgr\u001b[49m\u001b[43m(\u001b[49m\u001b[43marrays\u001b[49m\u001b[43m,\u001b[49m\u001b[43m \u001b[49m\u001b[43mcolumns\u001b[49m\u001b[43m,\u001b[49m\u001b[43m \u001b[49m\u001b[43mindex\u001b[49m\u001b[43m,\u001b[49m\u001b[43m \u001b[49m\u001b[43mdtype\u001b[49m\u001b[38;5;241;43m=\u001b[39;49m\u001b[43mdtype\u001b[49m\u001b[43m,\u001b[49m\u001b[43m \u001b[49m\u001b[43mtyp\u001b[49m\u001b[38;5;241;43m=\u001b[39;49m\u001b[43mtyp\u001b[49m\u001b[43m,\u001b[49m\u001b[43m \u001b[49m\u001b[43mconsolidate\u001b[49m\u001b[38;5;241;43m=\u001b[39;49m\u001b[43mcopy\u001b[49m\u001b[43m)\u001b[49m\n",
      "File \u001b[0;32m/usr/local/lib/python3.10/site-packages/pandas/core/internals/construction.py:119\u001b[0m, in \u001b[0;36marrays_to_mgr\u001b[0;34m(arrays, columns, index, dtype, verify_integrity, typ, consolidate)\u001b[0m\n\u001b[1;32m    116\u001b[0m \u001b[38;5;28;01mif\u001b[39;00m verify_integrity:\n\u001b[1;32m    117\u001b[0m     \u001b[38;5;66;03m# figure out the index, if necessary\u001b[39;00m\n\u001b[1;32m    118\u001b[0m     \u001b[38;5;28;01mif\u001b[39;00m index \u001b[38;5;129;01mis\u001b[39;00m \u001b[38;5;28;01mNone\u001b[39;00m:\n\u001b[0;32m--> 119\u001b[0m         index \u001b[38;5;241m=\u001b[39m \u001b[43m_extract_index\u001b[49m\u001b[43m(\u001b[49m\u001b[43marrays\u001b[49m\u001b[43m)\u001b[49m\n\u001b[1;32m    120\u001b[0m     \u001b[38;5;28;01melse\u001b[39;00m:\n\u001b[1;32m    121\u001b[0m         index \u001b[38;5;241m=\u001b[39m ensure_index(index)\n",
      "File \u001b[0;32m/usr/local/lib/python3.10/site-packages/pandas/core/internals/construction.py:657\u001b[0m, in \u001b[0;36m_extract_index\u001b[0;34m(data)\u001b[0m\n\u001b[1;32m    654\u001b[0m         \u001b[38;5;28;01mraise\u001b[39;00m \u001b[38;5;167;01mValueError\u001b[39;00m(\u001b[38;5;124m\"\u001b[39m\u001b[38;5;124mPer-column arrays must each be 1-dimensional\u001b[39m\u001b[38;5;124m\"\u001b[39m)\n\u001b[1;32m    656\u001b[0m \u001b[38;5;28;01mif\u001b[39;00m \u001b[38;5;129;01mnot\u001b[39;00m indexes \u001b[38;5;129;01mand\u001b[39;00m \u001b[38;5;129;01mnot\u001b[39;00m raw_lengths:\n\u001b[0;32m--> 657\u001b[0m     \u001b[38;5;28;01mraise\u001b[39;00m \u001b[38;5;167;01mValueError\u001b[39;00m(\u001b[38;5;124m\"\u001b[39m\u001b[38;5;124mIf using all scalar values, you must pass an index\u001b[39m\u001b[38;5;124m\"\u001b[39m)\n\u001b[1;32m    659\u001b[0m \u001b[38;5;28;01melif\u001b[39;00m have_series:\n\u001b[1;32m    660\u001b[0m     index \u001b[38;5;241m=\u001b[39m union_indexes(indexes)\n",
      "\u001b[0;31mValueError\u001b[0m: If using all scalar values, you must pass an index"
     ]
    }
   ],
   "source": [
    "# Create a dictionary with duplicate keys\n",
    "data = {\"a\": 1, \"b\": 2, \"c\": 3, \"a\": 4}\n",
    "\n",
    "# Get the keys in the dictionary\n",
    "keys = data.keys()\n",
    "\n",
    "# Create a set of unique keys\n",
    "unique_keys = set(keys)\n",
    "\n",
    "# Create a new dictionary with the unique keys\n",
    "unique_data = {key: data[key] for key in unique_keys}\n",
    "\n",
    "# Create a DataFrame from the new dictionary\n",
    "df = pd.DataFrame(unique_data)"
   ]
  },
  {
   "cell_type": "code",
   "execution_count": 13,
   "id": "97dd87f6",
   "metadata": {},
   "outputs": [
    {
     "name": "stdout",
     "output_type": "stream",
     "text": [
      "      vote\n",
      "0     -1.0\n",
      "1      1.0\n",
      "2      1.0\n",
      "3      1.0\n",
      "4      1.0\n",
      "...    ...\n",
      "5320  -1.0\n",
      "5321  -1.0\n",
      "5322  -1.0\n",
      "5323  -1.0\n",
      "5324   1.0\n",
      "\n",
      "[4588 rows x 1 columns]\n"
     ]
    }
   ],
   "source": [
    "print(Labels)"
   ]
  },
  {
   "cell_type": "code",
   "execution_count": 17,
   "id": "4e834f22",
   "metadata": {},
   "outputs": [],
   "source": [
    "Labels = Labels.reset_index(drop=True)"
   ]
  },
  {
   "cell_type": "code",
   "execution_count": 21,
   "id": "de689ca4",
   "metadata": {},
   "outputs": [
    {
     "name": "stdout",
     "output_type": "stream",
     "text": [
      "     vote\n",
      "132   1.0\n",
      "     vote\n",
      "131   1.0\n"
     ]
    }
   ],
   "source": [
    "print(Labels.loc[[132]])\n",
    "print(Labels.loc[[131]])"
   ]
  },
  {
   "cell_type": "code",
   "execution_count": 18,
   "id": "c988430c",
   "metadata": {},
   "outputs": [
    {
     "name": "stdout",
     "output_type": "stream",
     "text": [
      "      orientation_art  progvscons_art  orientation_dep  progvscons_dep  \\\n",
      "1                  -1              -1         0.428571        0.368421   \n",
      "2                  -1              -1         0.428571        0.368421   \n",
      "3                  -1              -1         0.428571        0.368421   \n",
      "5                   0               1         0.428571        0.368421   \n",
      "9                  -1              -1         0.428571        0.368421   \n",
      "...               ...             ...              ...             ...   \n",
      "5320                0              -1         0.500000        0.541667   \n",
      "5321                0              -1         0.500000        0.541667   \n",
      "5322                1              -1         0.500000        0.541667   \n",
      "5323               -1              -1         0.500000        0.541667   \n",
      "5324                0              -1         0.500000        0.541667   \n",
      "\n",
      "      Genre_F  Genre_H  Âge_18-30  Âge_30-45  Âge_45-65  Âge_65+  ...  \\\n",
      "1           0        1          0          0          1        0  ...   \n",
      "2           0        1          0          0          1        0  ...   \n",
      "3           0        1          0          0          1        0  ...   \n",
      "5           0        1          0          0          1        0  ...   \n",
      "9           0        1          0          0          1        0  ...   \n",
      "...       ...      ...        ...        ...        ...      ...  ...   \n",
      "5320        1        0          0          0          0        1  ...   \n",
      "5321        1        0          0          0          0        1  ...   \n",
      "5322        1        0          0          0          0        1  ...   \n",
      "5323        1        0          0          0          0        1  ...   \n",
      "5324        1        0          0          0          0        1  ...   \n",
      "\n",
      "      group_AdG  group_CSPO  group_CVPO  group_INDEP  group_LES VERTS  \\\n",
      "1             0           0           1            0                0   \n",
      "2             0           0           1            0                0   \n",
      "3             0           0           1            0                0   \n",
      "5             0           0           1            0                0   \n",
      "9             0           0           1            0                0   \n",
      "...         ...         ...         ...          ...              ...   \n",
      "5320          0           0           0            0                0   \n",
      "5321          0           0           0            0                0   \n",
      "5322          0           0           0            0                0   \n",
      "5323          0           0           0            0                0   \n",
      "5324          0           0           0            0                0   \n",
      "\n",
      "      group_PDC  group_SVPO  group_UDC  group_VLR  group_ZUK-VS  \n",
      "1             0           0          0          0             0  \n",
      "2             0           0          0          0             0  \n",
      "3             0           0          0          0             0  \n",
      "5             0           0          0          0             0  \n",
      "9             0           0          0          0             0  \n",
      "...         ...         ...        ...        ...           ...  \n",
      "5320          0           0          1          0             0  \n",
      "5321          0           0          1          0             0  \n",
      "5322          0           0          1          0             0  \n",
      "5323          0           0          1          0             0  \n",
      "5324          0           0          1          0             0  \n",
      "\n",
      "[3711 rows x 35 columns]\n",
      "   index  orientation_art  progvscons_art  orientation_dep  progvscons_dep  \\\n",
      "0      0               -1              -1         0.428571        0.368421   \n",
      "1      4                0               1         0.428571        0.368421   \n",
      "2      6                0              -1         0.428571        0.368421   \n",
      "3      7                1               1         0.428571        0.368421   \n",
      "4      8               -1               1         0.428571        0.368421   \n",
      "\n",
      "   Genre_F  Genre_H  Âge_18-30  Âge_30-45  Âge_45-65  ...  group_AdG  \\\n",
      "0        0        1          0          0          1  ...          0   \n",
      "1        0        1          0          0          1  ...          0   \n",
      "2        0        1          0          0          1  ...          0   \n",
      "3        0        1          0          0          1  ...          0   \n",
      "4        0        1          0          0          1  ...          0   \n",
      "\n",
      "   group_CSPO  group_CVPO  group_INDEP  group_LES VERTS  group_PDC  \\\n",
      "0           0           1            0                0          0   \n",
      "1           0           1            0                0          0   \n",
      "2           0           1            0                0          0   \n",
      "3           0           1            0                0          0   \n",
      "4           0           1            0                0          0   \n",
      "\n",
      "   group_SVPO  group_UDC  group_VLR  group_ZUK-VS  \n",
      "0           0          0          0             0  \n",
      "1           0          0          0             0  \n",
      "2           0          0          0             0  \n",
      "3           0          0          0             0  \n",
      "4           0          0          0             0  \n",
      "\n",
      "[5 rows x 36 columns]\n",
      "   vote\n",
      "0  -1.0\n",
      "1   1.0\n",
      "2   1.0\n",
      "3   1.0\n",
      "4   1.0\n"
     ]
    },
    {
     "ename": "ValueError",
     "evalue": "Found array with dim 3. GradientBoostingClassifier expected <= 2.",
     "output_type": "error",
     "traceback": [
      "\u001b[0;31m---------------------------------------------------------------------------\u001b[0m",
      "\u001b[0;31mValueError\u001b[0m                                Traceback (most recent call last)",
      "Cell \u001b[0;32mIn [18], line 28\u001b[0m\n\u001b[1;32m     26\u001b[0m X_test \u001b[38;5;241m=\u001b[39m X_data\u001b[38;5;241m.\u001b[39mloc[test_indices, :]\n\u001b[1;32m     27\u001b[0m y_test \u001b[38;5;241m=\u001b[39m Labels\u001b[38;5;241m.\u001b[39mloc[test_indices, :]\n\u001b[0;32m---> 28\u001b[0m gbc_kfold\u001b[38;5;241m.\u001b[39mfit(X_train, y_train)\n\u001b[1;32m     29\u001b[0m \u001b[38;5;28mprint\u001b[39m(gbc_kfold\u001b[38;5;241m.\u001b[39mscore(X_test, y_test))\n",
      "File \u001b[0;32m/usr/local/lib/python3.10/site-packages/sklearn/ensemble/_gb.py:562\u001b[0m, in \u001b[0;36mBaseGradientBoosting.fit\u001b[0;34m(self, X, y, sample_weight, monitor)\u001b[0m\n\u001b[1;32m    556\u001b[0m     \u001b[38;5;28mself\u001b[39m\u001b[38;5;241m.\u001b[39m_clear_state()\n\u001b[1;32m    558\u001b[0m \u001b[38;5;66;03m# Check input\u001b[39;00m\n\u001b[1;32m    559\u001b[0m \u001b[38;5;66;03m# Since check_array converts both X and y to the same dtype, but the\u001b[39;00m\n\u001b[1;32m    560\u001b[0m \u001b[38;5;66;03m# trees use different types for X and y, checking them separately.\u001b[39;00m\n\u001b[0;32m--> 562\u001b[0m X, y \u001b[38;5;241m=\u001b[39m \u001b[38;5;28;43mself\u001b[39;49m\u001b[38;5;241;43m.\u001b[39;49m\u001b[43m_validate_data\u001b[49m\u001b[43m(\u001b[49m\n\u001b[1;32m    563\u001b[0m \u001b[43m    \u001b[49m\u001b[43mX\u001b[49m\u001b[43m,\u001b[49m\u001b[43m \u001b[49m\u001b[43my\u001b[49m\u001b[43m,\u001b[49m\u001b[43m \u001b[49m\u001b[43maccept_sparse\u001b[49m\u001b[38;5;241;43m=\u001b[39;49m\u001b[43m[\u001b[49m\u001b[38;5;124;43m\"\u001b[39;49m\u001b[38;5;124;43mcsr\u001b[39;49m\u001b[38;5;124;43m\"\u001b[39;49m\u001b[43m,\u001b[49m\u001b[43m \u001b[49m\u001b[38;5;124;43m\"\u001b[39;49m\u001b[38;5;124;43mcsc\u001b[39;49m\u001b[38;5;124;43m\"\u001b[39;49m\u001b[43m,\u001b[49m\u001b[43m \u001b[49m\u001b[38;5;124;43m\"\u001b[39;49m\u001b[38;5;124;43mcoo\u001b[39;49m\u001b[38;5;124;43m\"\u001b[39;49m\u001b[43m]\u001b[49m\u001b[43m,\u001b[49m\u001b[43m \u001b[49m\u001b[43mdtype\u001b[49m\u001b[38;5;241;43m=\u001b[39;49m\u001b[43mDTYPE\u001b[49m\u001b[43m,\u001b[49m\u001b[43m \u001b[49m\u001b[43mmulti_output\u001b[49m\u001b[38;5;241;43m=\u001b[39;49m\u001b[38;5;28;43;01mTrue\u001b[39;49;00m\n\u001b[1;32m    564\u001b[0m \u001b[43m\u001b[49m\u001b[43m)\u001b[49m\n\u001b[1;32m    566\u001b[0m sample_weight_is_none \u001b[38;5;241m=\u001b[39m sample_weight \u001b[38;5;129;01mis\u001b[39;00m \u001b[38;5;28;01mNone\u001b[39;00m\n\u001b[1;32m    568\u001b[0m sample_weight \u001b[38;5;241m=\u001b[39m _check_sample_weight(sample_weight, X)\n",
      "File \u001b[0;32m/usr/local/lib/python3.10/site-packages/sklearn/base.py:596\u001b[0m, in \u001b[0;36mBaseEstimator._validate_data\u001b[0;34m(self, X, y, reset, validate_separately, **check_params)\u001b[0m\n\u001b[1;32m    594\u001b[0m         y \u001b[38;5;241m=\u001b[39m check_array(y, input_name\u001b[38;5;241m=\u001b[39m\u001b[38;5;124m\"\u001b[39m\u001b[38;5;124my\u001b[39m\u001b[38;5;124m\"\u001b[39m, \u001b[38;5;241m*\u001b[39m\u001b[38;5;241m*\u001b[39mcheck_y_params)\n\u001b[1;32m    595\u001b[0m     \u001b[38;5;28;01melse\u001b[39;00m:\n\u001b[0;32m--> 596\u001b[0m         X, y \u001b[38;5;241m=\u001b[39m \u001b[43mcheck_X_y\u001b[49m\u001b[43m(\u001b[49m\u001b[43mX\u001b[49m\u001b[43m,\u001b[49m\u001b[43m \u001b[49m\u001b[43my\u001b[49m\u001b[43m,\u001b[49m\u001b[43m \u001b[49m\u001b[38;5;241;43m*\u001b[39;49m\u001b[38;5;241;43m*\u001b[39;49m\u001b[43mcheck_params\u001b[49m\u001b[43m)\u001b[49m\n\u001b[1;32m    597\u001b[0m     out \u001b[38;5;241m=\u001b[39m X, y\n\u001b[1;32m    599\u001b[0m \u001b[38;5;28;01mif\u001b[39;00m \u001b[38;5;129;01mnot\u001b[39;00m no_val_X \u001b[38;5;129;01mand\u001b[39;00m check_params\u001b[38;5;241m.\u001b[39mget(\u001b[38;5;124m\"\u001b[39m\u001b[38;5;124mensure_2d\u001b[39m\u001b[38;5;124m\"\u001b[39m, \u001b[38;5;28;01mTrue\u001b[39;00m):\n",
      "File \u001b[0;32m/usr/local/lib/python3.10/site-packages/sklearn/utils/validation.py:1074\u001b[0m, in \u001b[0;36mcheck_X_y\u001b[0;34m(X, y, accept_sparse, accept_large_sparse, dtype, order, copy, force_all_finite, ensure_2d, allow_nd, multi_output, ensure_min_samples, ensure_min_features, y_numeric, estimator)\u001b[0m\n\u001b[1;32m   1069\u001b[0m         estimator_name \u001b[38;5;241m=\u001b[39m _check_estimator_name(estimator)\n\u001b[1;32m   1070\u001b[0m     \u001b[38;5;28;01mraise\u001b[39;00m \u001b[38;5;167;01mValueError\u001b[39;00m(\n\u001b[1;32m   1071\u001b[0m         \u001b[38;5;124mf\u001b[39m\u001b[38;5;124m\"\u001b[39m\u001b[38;5;132;01m{\u001b[39;00mestimator_name\u001b[38;5;132;01m}\u001b[39;00m\u001b[38;5;124m requires y to be passed, but the target y is None\u001b[39m\u001b[38;5;124m\"\u001b[39m\n\u001b[1;32m   1072\u001b[0m     )\n\u001b[0;32m-> 1074\u001b[0m X \u001b[38;5;241m=\u001b[39m \u001b[43mcheck_array\u001b[49m\u001b[43m(\u001b[49m\n\u001b[1;32m   1075\u001b[0m \u001b[43m    \u001b[49m\u001b[43mX\u001b[49m\u001b[43m,\u001b[49m\n\u001b[1;32m   1076\u001b[0m \u001b[43m    \u001b[49m\u001b[43maccept_sparse\u001b[49m\u001b[38;5;241;43m=\u001b[39;49m\u001b[43maccept_sparse\u001b[49m\u001b[43m,\u001b[49m\n\u001b[1;32m   1077\u001b[0m \u001b[43m    \u001b[49m\u001b[43maccept_large_sparse\u001b[49m\u001b[38;5;241;43m=\u001b[39;49m\u001b[43maccept_large_sparse\u001b[49m\u001b[43m,\u001b[49m\n\u001b[1;32m   1078\u001b[0m \u001b[43m    \u001b[49m\u001b[43mdtype\u001b[49m\u001b[38;5;241;43m=\u001b[39;49m\u001b[43mdtype\u001b[49m\u001b[43m,\u001b[49m\n\u001b[1;32m   1079\u001b[0m \u001b[43m    \u001b[49m\u001b[43morder\u001b[49m\u001b[38;5;241;43m=\u001b[39;49m\u001b[43morder\u001b[49m\u001b[43m,\u001b[49m\n\u001b[1;32m   1080\u001b[0m \u001b[43m    \u001b[49m\u001b[43mcopy\u001b[49m\u001b[38;5;241;43m=\u001b[39;49m\u001b[43mcopy\u001b[49m\u001b[43m,\u001b[49m\n\u001b[1;32m   1081\u001b[0m \u001b[43m    \u001b[49m\u001b[43mforce_all_finite\u001b[49m\u001b[38;5;241;43m=\u001b[39;49m\u001b[43mforce_all_finite\u001b[49m\u001b[43m,\u001b[49m\n\u001b[1;32m   1082\u001b[0m \u001b[43m    \u001b[49m\u001b[43mensure_2d\u001b[49m\u001b[38;5;241;43m=\u001b[39;49m\u001b[43mensure_2d\u001b[49m\u001b[43m,\u001b[49m\n\u001b[1;32m   1083\u001b[0m \u001b[43m    \u001b[49m\u001b[43mallow_nd\u001b[49m\u001b[38;5;241;43m=\u001b[39;49m\u001b[43mallow_nd\u001b[49m\u001b[43m,\u001b[49m\n\u001b[1;32m   1084\u001b[0m \u001b[43m    \u001b[49m\u001b[43mensure_min_samples\u001b[49m\u001b[38;5;241;43m=\u001b[39;49m\u001b[43mensure_min_samples\u001b[49m\u001b[43m,\u001b[49m\n\u001b[1;32m   1085\u001b[0m \u001b[43m    \u001b[49m\u001b[43mensure_min_features\u001b[49m\u001b[38;5;241;43m=\u001b[39;49m\u001b[43mensure_min_features\u001b[49m\u001b[43m,\u001b[49m\n\u001b[1;32m   1086\u001b[0m \u001b[43m    \u001b[49m\u001b[43mestimator\u001b[49m\u001b[38;5;241;43m=\u001b[39;49m\u001b[43mestimator\u001b[49m\u001b[43m,\u001b[49m\n\u001b[1;32m   1087\u001b[0m \u001b[43m    \u001b[49m\u001b[43minput_name\u001b[49m\u001b[38;5;241;43m=\u001b[39;49m\u001b[38;5;124;43m\"\u001b[39;49m\u001b[38;5;124;43mX\u001b[39;49m\u001b[38;5;124;43m\"\u001b[39;49m\u001b[43m,\u001b[49m\n\u001b[1;32m   1088\u001b[0m \u001b[43m\u001b[49m\u001b[43m)\u001b[49m\n\u001b[1;32m   1090\u001b[0m y \u001b[38;5;241m=\u001b[39m _check_y(y, multi_output\u001b[38;5;241m=\u001b[39mmulti_output, y_numeric\u001b[38;5;241m=\u001b[39my_numeric, estimator\u001b[38;5;241m=\u001b[39mestimator)\n\u001b[1;32m   1092\u001b[0m check_consistent_length(X, y)\n",
      "File \u001b[0;32m/usr/local/lib/python3.10/site-packages/sklearn/utils/validation.py:893\u001b[0m, in \u001b[0;36mcheck_array\u001b[0;34m(array, accept_sparse, accept_large_sparse, dtype, order, copy, force_all_finite, ensure_2d, allow_nd, ensure_min_samples, ensure_min_features, estimator, input_name)\u001b[0m\n\u001b[1;32m    887\u001b[0m     \u001b[38;5;28;01mraise\u001b[39;00m \u001b[38;5;167;01mValueError\u001b[39;00m(\n\u001b[1;32m    888\u001b[0m         \u001b[38;5;124m\"\u001b[39m\u001b[38;5;124mdtype=\u001b[39m\u001b[38;5;124m'\u001b[39m\u001b[38;5;124mnumeric\u001b[39m\u001b[38;5;124m'\u001b[39m\u001b[38;5;124m is not compatible with arrays of bytes/strings.\u001b[39m\u001b[38;5;124m\"\u001b[39m\n\u001b[1;32m    889\u001b[0m         \u001b[38;5;124m\"\u001b[39m\u001b[38;5;124mConvert your data to numeric values explicitly instead.\u001b[39m\u001b[38;5;124m\"\u001b[39m\n\u001b[1;32m    890\u001b[0m     )\n\u001b[1;32m    892\u001b[0m \u001b[38;5;28;01mif\u001b[39;00m \u001b[38;5;129;01mnot\u001b[39;00m allow_nd \u001b[38;5;129;01mand\u001b[39;00m array\u001b[38;5;241m.\u001b[39mndim \u001b[38;5;241m>\u001b[39m\u001b[38;5;241m=\u001b[39m \u001b[38;5;241m3\u001b[39m:\n\u001b[0;32m--> 893\u001b[0m     \u001b[38;5;28;01mraise\u001b[39;00m \u001b[38;5;167;01mValueError\u001b[39;00m(\n\u001b[1;32m    894\u001b[0m         \u001b[38;5;124m\"\u001b[39m\u001b[38;5;124mFound array with dim \u001b[39m\u001b[38;5;132;01m%d\u001b[39;00m\u001b[38;5;124m. \u001b[39m\u001b[38;5;132;01m%s\u001b[39;00m\u001b[38;5;124m expected <= 2.\u001b[39m\u001b[38;5;124m\"\u001b[39m\n\u001b[1;32m    895\u001b[0m         \u001b[38;5;241m%\u001b[39m (array\u001b[38;5;241m.\u001b[39mndim, estimator_name)\n\u001b[1;32m    896\u001b[0m     )\n\u001b[1;32m    898\u001b[0m \u001b[38;5;28;01mif\u001b[39;00m force_all_finite:\n\u001b[1;32m    899\u001b[0m     _assert_all_finite(\n\u001b[1;32m    900\u001b[0m         array,\n\u001b[1;32m    901\u001b[0m         input_name\u001b[38;5;241m=\u001b[39minput_name,\n\u001b[1;32m    902\u001b[0m         estimator_name\u001b[38;5;241m=\u001b[39mestimator_name,\n\u001b[1;32m    903\u001b[0m         allow_nan\u001b[38;5;241m=\u001b[39mforce_all_finite \u001b[38;5;241m==\u001b[39m \u001b[38;5;124m\"\u001b[39m\u001b[38;5;124mallow-nan\u001b[39m\u001b[38;5;124m\"\u001b[39m,\n\u001b[1;32m    904\u001b[0m     )\n",
      "\u001b[0;31mValueError\u001b[0m: Found array with dim 3. GradientBoostingClassifier expected <= 2."
     ]
    }
   ],
   "source": [
    "# Create a k-fold cross-validation iterator\n",
    "gbc_kfold = GradientBoostingClassifier()\n",
    "\n",
    "kfold = KFold(n_splits=10)\n",
    "\n",
    "\n",
    "# Check which rows are duplicates\n",
    "duplicates = X_data.duplicated()\n",
    "\n",
    "# Print the rows that are duplicates\n",
    "print(X_data[duplicates])\n",
    "\n",
    "# Remove the duplicate rows\n",
    "X_data = X_data.drop_duplicates()\n",
    "\n",
    "X_data.reset_index(inplace=True)\n",
    "\n",
    "print(X_data.head())\n",
    "print(Labels.head())\n",
    "\n",
    "# Loop through the k folds and fit the model on each train fold\n",
    "# and evaluate it on the corresponding test fold\n",
    "for train_indices, test_indices in kfold.split(X_data):\n",
    "  X_train = X_data.loc[train_indices, :], \n",
    "  y_train = Labels.loc[train_indices, :]\n",
    "  X_test = X_data.loc[test_indices, :]\n",
    "  y_test = Labels.loc[test_indices, :]\n",
    "  gbc_kfold.fit(X_train, y_train)\n",
    "  print(gbc_kfold.score(X_test, y_test))"
   ]
  },
  {
   "cell_type": "markdown",
   "id": "14979c99",
   "metadata": {},
   "source": [
    "# Hyperparameters tuning"
   ]
  },
  {
   "cell_type": "code",
   "execution_count": 12,
   "id": "715caaef",
   "metadata": {},
   "outputs": [
    {
     "name": "stdout",
     "output_type": "stream",
     "text": [
      "c pareiiiil\n"
     ]
    },
    {
     "data": {
      "text/plain": [
       "Int64Index([   0,    1,    2,    3,    4,    5,    6,    7,    8,    9,\n",
       "            ...\n",
       "            5315, 5316, 5317, 5318, 5319, 5320, 5321, 5322, 5323, 5324],\n",
       "           dtype='int64', length=4588)"
      ]
     },
     "execution_count": 12,
     "metadata": {},
     "output_type": "execute_result"
    }
   ],
   "source": [
    "X_data.reset_index(inplace=True)\n",
    "X_data.index \n",
    "\n",
    "if (X_data.index.any() != Labels.index.any()):\n",
    "    print(\"diifffffffffff\")\n",
    "else :\n",
    "    print (\"c pareiiiil\")\n",
    "    \n",
    "X_data.reset_index()\n",
    "X_data.index "
   ]
  },
  {
   "cell_type": "code",
   "execution_count": 30,
   "id": "b648d21b",
   "metadata": {},
   "outputs": [
    {
     "name": "stdout",
     "output_type": "stream",
     "text": [
      "Best hyperparameters: {'learning_rate': 0.2, 'max_depth': 3, 'n_estimators': 10}\n"
     ]
    }
   ],
   "source": [
    "# Create a dictionary of hyperparameters to tune\n",
    "params = {'n_estimators': [1, 2, 5, 10, 20, 50, 100, 200, 500],\n",
    "          'max_depth': [3, 4, 5, 7, 10, 20, 50, 100],\n",
    "          'learning_rate': [0.01, 0.1, 0.2, 0.5, 1]}\n",
    "\n",
    "# Use grid search to tune the hyperparameters\n",
    "gbc_cv = GridSearchCV(gbc, param_grid=params, cv=5)\n",
    "gbc_cv.fit(X_train, y_train)\n",
    "\n",
    "# Print the best hyperparameters\n",
    "print(\"Best hyperparameters:\", gbc_cv.best_params_)"
   ]
  },
  {
   "cell_type": "code",
   "execution_count": 33,
   "id": "7289e8d8",
   "metadata": {},
   "outputs": [
    {
     "name": "stdout",
     "output_type": "stream",
     "text": [
      "              precision    recall  f1-score   support\n",
      "\n",
      "        -1.0       0.83      0.55      0.66       375\n",
      "         1.0       0.75      0.92      0.83       543\n",
      "\n",
      "    accuracy                           0.77       918\n",
      "   macro avg       0.79      0.74      0.74       918\n",
      "weighted avg       0.78      0.77      0.76       918\n",
      "\n"
     ]
    }
   ],
   "source": [
    "# Train a gradient boosting classifier\n",
    "gbc = GradientBoostingClassifier(learning_rate = 0.2, n_estimators = 10, max_depth = 3)\n",
    "gbc.fit(X_train, y_train)\n",
    "\n",
    "# Make predictions on the test set\n",
    "y_pred = gbc.predict(X_test)\n",
    "\n",
    "# Print Classification Report\n",
    "print(classification_report(y_test, gbc.predict(X_test)))"
   ]
  }
 ],
 "metadata": {
  "kernelspec": {
   "display_name": "Python 3 (ipykernel)",
   "language": "python",
   "name": "python3"
  },
  "language_info": {
   "codemirror_mode": {
    "name": "ipython",
    "version": 3
   },
   "file_extension": ".py",
   "mimetype": "text/x-python",
   "name": "python",
   "nbconvert_exporter": "python",
   "pygments_lexer": "ipython3",
   "version": "3.10.8"
  }
 },
 "nbformat": 4,
 "nbformat_minor": 5
}
