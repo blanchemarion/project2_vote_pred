{
 "cells": [
  {
   "cell_type": "markdown",
   "id": "ff104a87",
   "metadata": {},
   "source": [
    "## Creation of the dataset for NLP"
   ]
  },
  {
   "cell_type": "markdown",
   "id": "ccf5f56d",
   "metadata": {},
   "source": [
    "The objective is to keep only the article number and the article text.\n",
    "The format of the expected .txt document is the following :<br/>\n",
    "Art. X <br/>\n",
    "Text X <br/>\n",
    "Art. Y <br/>\n",
    "Text Y"
   ]
  },
  {
   "cell_type": "code",
   "execution_count": 9,
   "id": "f2b4e1c4",
   "metadata": {},
   "outputs": [],
   "source": [
    "import os\n",
    "import pandas as pd"
   ]
  },
  {
   "cell_type": "markdown",
   "id": "70a075f2",
   "metadata": {},
   "source": [
    "Delete the repeted lines : 'Avant-projet de Constitution après la première lecture' <br/>\n",
    "Delete the paragraph titles <br/>\n",
    "Delete the lines that state the page number <br/>\n",
    "Delete the numbers at the beginning of the lines <br/>\n",
    "Ajouter un signe dollar au debut et à la fin de Art. Number "
   ]
  },
  {
   "cell_type": "code",
   "execution_count": 15,
   "id": "12473dc6",
   "metadata": {},
   "outputs": [],
   "source": [
    "with open(\"/Users/Blanche/Desktop/ml_project2/Data/1ere lecture.txt\", \"r\")as input:\n",
    "    with open(\"/Users/Blanche/Desktop/ml_project2/Data/1ere lecture modifie.txt\", \"w\")as output :\n",
    "        # read every line and append them to the list listOfMacs\n",
    "        for line in input :\n",
    "            # if line doesn't start with Projet, write it\n",
    "            if not line.isupper() == True :\n",
    "                if not line.strip() == '' : \n",
    "                    if not line.strip(\"\\n\").startswith('Projet'):\n",
    "                        # si ligne ne commence pas par X.\n",
    "                        if not (line.strip(\"\\n\")[0].isnumeric() and line.strip(\"\\n\")[1]=='.' ):\n",
    "                            # si ligne n'est pas un numéro de page \n",
    "                            if not (len(line) < 4):\n",
    "                                # si la ligne commence par un chiffre, delete ce chiffre\n",
    "                                if ((line[0].isdigit() == False) and (line[1]!=')') and (not(line.strip(\"\\n\").startswith('Art.')))):\n",
    "                                    output.write(line)\n",
    "\n",
    "                                if (line[0].isdigit()== True) :\n",
    "                                    output.write(line.replace(line[0], '', 1))\n",
    "                        \n",
    "                                # si la ligne commence par une lettre avec une parenthese, delete (ex : a)) \n",
    "                                if (line[0].isalpha() and line[1]==')'):\n",
    "                                    list_line = line.split(' ')\n",
    "                                    output.write(' '.join(list_line[-(len(list_line)-1):]))\n",
    "\n",
    "                                if (line.strip(\"\\n\").startswith('Art.')) :\n",
    "                                    list_line = line.split(' ')\n",
    "                                    output.write('$ ' + list_line[0] + ' ' + list_line[1] + ' $')\n",
    "                                    output.write('\\n' + ' '.join(list_line[-(len(list_line)-2):]))\n",
    "\n",
    "# replace file with original name\n",
    "os.replace(\"/Users/Blanche/Desktop/ml_project2/Data/1ere lecture modifie.txt\", \"/Users/Blanche/Desktop/ml_project2/Data/1ere lecture.txt\")"
   ]
  },
  {
   "cell_type": "markdown",
   "id": "ee8f7412",
   "metadata": {},
   "source": [
    "An article = Only one line "
   ]
  },
  {
   "cell_type": "code",
   "execution_count": 16,
   "id": "556cd490",
   "metadata": {},
   "outputs": [],
   "source": [
    "with open(\"/Users/Blanche/Desktop/ml_project2/Data/1ere lecture.txt\", \"r\")as input:\n",
    "    with open(\"/Users/Blanche/Desktop/ml_project2/Data/1ere lecture modifie.txt\", \"w\")as output :\n",
    "        # read every line and append them to the list listOfMacs\n",
    "        for line in input :\n",
    "            if line : \n",
    "                if line[0] == '$':\n",
    "                    output.write('\\n'+line)\n",
    "                else :\n",
    "                    output.write(line.strip()+ ' ')\n",
    "\n",
    "        \n",
    "# replace file with original name\n",
    "os.replace(\"/Users/Blanche/Desktop/ml_project2/Data/1ere lecture modifie.txt\", \"/Users/Blanche/Desktop/ml_project2/Data/1ere lecture.txt\")"
   ]
  },
  {
   "cell_type": "markdown",
   "id": "84d05eb9",
   "metadata": {},
   "source": [
    "Creation of CSV file "
   ]
  },
  {
   "cell_type": "code",
   "execution_count": 18,
   "id": "bdc806c2",
   "metadata": {},
   "outputs": [
    {
     "name": "stdout",
     "output_type": "stream",
     "text": [
      "                                        article_text      artId\n",
      "0  République et Canton du Valais Le canton du Va...   Art. 100\n",
      "1  Organisation du Canton Le canton du Valais est...   Art. 101\n",
      "2  Capitale Sion est la capitale du canton du Val...   Art. 102\n",
      "3  Armoiries Les armoiries sont : Parti d'argent ...   Art. 103\n",
      "4  (nouveau) Hymne valaisan L’hymne valaisan offi...  Art. 103a\n"
     ]
    }
   ],
   "source": [
    "articles = pd.read_csv('/Users/Blanche/Desktop/ml_project2/Data/1ere lecture.csv')\n",
    "articles.columns = ['article_text', 'artId']\n",
    "val1 = articles['artId'].dropna().reset_index()\n",
    "val2 = articles['article_text'].dropna().reset_index()\n",
    "articles = pd.concat([val2, val1], axis=1)\n",
    "articles.pop(\"index\")\n",
    "\n",
    "print(articles.head())"
   ]
  },
  {
   "cell_type": "code",
   "execution_count": 19,
   "id": "64506b00",
   "metadata": {},
   "outputs": [],
   "source": [
    "articles.to_csv('/Users/Blanche/Desktop/ml_project2/Data/1ere_lecture_NLP_ds.csv')"
   ]
  },
  {
   "cell_type": "code",
   "execution_count": null,
   "id": "04a33289",
   "metadata": {},
   "outputs": [],
   "source": []
  }
 ],
 "metadata": {
  "kernelspec": {
   "display_name": "Python 3 (ipykernel)",
   "language": "python",
   "name": "python3"
  },
  "language_info": {
   "codemirror_mode": {
    "name": "ipython",
    "version": 3
   },
   "file_extension": ".py",
   "mimetype": "text/x-python",
   "name": "python",
   "nbconvert_exporter": "python",
   "pygments_lexer": "ipython3",
   "version": "3.10.8"
  }
 },
 "nbformat": 4,
 "nbformat_minor": 5
}
